{
 "cells": [
  {
   "cell_type": "markdown",
   "metadata": {},
   "source": [
    "# Load datasets and build one dataset by language\n",
    "\n",
    "**Datasets:**\n",
    "1. New round-2 completions (what we have labelled)\n",
    "2. Old round-1 completions (what we have labelled)\n",
    "3. Collected from telegram channels (we've collected channels for topics and downloaded posts)\n",
    "4. Telegram provided labels from r-1 (true labels from round-1 for en and ru)\n"
   ]
  },
  {
   "cell_type": "code",
   "execution_count": 1,
   "metadata": {
    "ExecuteTime": {
     "end_time": "2021-04-24T16:53:26.980488Z",
     "start_time": "2021-04-24T16:53:26.009063Z"
    }
   },
   "outputs": [],
   "source": [
    "%load_ext autoreload\n",
    "%autoreload 2\n",
    "%matplotlib inline\n",
    "#standard libs\n",
    "import os, sys\n",
    "from pathlib import Path\n",
    "from pprint import pprint\n",
    "from collections import Counter\n",
    "import random\n",
    "import json\n",
    "import itertools\n",
    "from datetime import datetime as dt\n",
    "import logging\n",
    "# ds libs\n",
    "import pandas as pd\n",
    "import numpy as np\n",
    "import matplotlib.pyplot as plt\n",
    "import seaborn as sns\n",
    "from tqdm import tqdm, tqdm_notebook\n",
    "\n",
    "from torchtext import data\n",
    "import re\n",
    "# custom path\n",
    "os.chdir('../..')\n"
   ]
  },
  {
   "cell_type": "code",
   "execution_count": 96,
   "metadata": {
    "ExecuteTime": {
     "end_time": "2021-04-24T17:41:20.857768Z",
     "start_time": "2021-04-24T17:41:20.827570Z"
    }
   },
   "outputs": [],
   "source": [
    "from src.train.predict import load_test_file"
   ]
  },
  {
   "cell_type": "markdown",
   "metadata": {},
   "source": [
    "## Data prep"
   ]
  },
  {
   "cell_type": "code",
   "execution_count": 99,
   "metadata": {
    "ExecuteTime": {
     "end_time": "2021-04-24T17:41:54.396184Z",
     "start_time": "2021-04-24T17:41:54.367330Z"
    }
   },
   "outputs": [],
   "source": [
    "COMPLETIONS_R2 = [\n",
    "    'data/raw/r-2/completions/project-1-at-2021-04-20-16-16-72cac916.json',\n",
    "    'data/raw/r-2/completions/project-1-current.json',\n",
    "]\n",
    "\n",
    "COMPLETIONS_R1 = [\n",
    "    'data/raw/r-1/completions/2020-02-14_completions.json',\n",
    "    'data/raw/r-1/completions/2020-02-14_active_completions.json',\n",
    "]\n",
    "\n",
    "TG_DOWNLOADS = {\n",
    "        'META': 'data/raw/r-1/downloads/meta.csv',\n",
    "        'POSTS': 'data/raw/r-1/downloads/posts.csv',\n",
    "        'TOPICS': 'data/external/telegram_channels.csv'\n",
    "    }\n",
    "\n",
    "TG_TRUE_LABELS = [\n",
    "    {\n",
    "        'lang_code': 'en',\n",
    "        'input': 'data/external/r-1/submission1489/category_en/input.txt',\n",
    "        'output': 'data/external/r-1/submission1489/category_en/tg_output.txt'\n",
    "    },\n",
    "    {\n",
    "        'lang_code': 'ru',\n",
    "        'input': 'data/external/r-1/submission1489/category_ru/input.txt',\n",
    "        'output': 'data/external/r-1/submission1489/category_ru/tg_output.txt'\n",
    "    },\n",
    "]\n",
    "\n",
    "PRIMARY2SECONDARY = 3"
   ]
  },
  {
   "cell_type": "code",
   "execution_count": 143,
   "metadata": {
    "ExecuteTime": {
     "end_time": "2021-04-24T17:57:45.469645Z",
     "start_time": "2021-04-24T17:57:45.431343Z"
    }
   },
   "outputs": [],
   "source": [
    "def calc_topic_weights(primary, secondary):\n",
    "    \"\"\" create a weight dict from topics \"\"\"\n",
    "    total = len(primary) * PRIMARY2SECONDARY + len(secondary)\n",
    "    weights = {p: PRIMARY2SECONDARY / total for p in primary}\n",
    "    weights.update({s: 1 / total for s in secondary})\n",
    "    return weights\n",
    "\n",
    "\n",
    "def get_topics(value):\n",
    "    \"\"\" return a list of topics from one string topic or multiple from a dict \"\"\"\n",
    "    if isinstance(value, dict):\n",
    "        topics = value['choices']\n",
    "    else:\n",
    "        topics = [value] if value != '' else []\n",
    "    return topics\n",
    "\n",
    "\n",
    "def raise_non_existent(file):\n",
    "    raise Exception(f'{file} does not exist')\n",
    "\n",
    "\n",
    "def load_labelled_data(files):\n",
    "    if len(files) == 0:\n",
    "        return pd.DataFrame()\n",
    "    for f in files:\n",
    "        if not os.path.exists(f):\n",
    "            raise_non_existent(f)\n",
    "    labelled_data = [pd.read_json(c,) for c in files]\n",
    "    labelled_data = pd.concat(labelled_data)\n",
    "    labelled_data['secondary'].fillna('', inplace=True)\n",
    "    labelled_data['primary'] = labelled_data['primary'].apply(get_topics)\n",
    "    labelled_data['secondary'] = labelled_data['secondary'].apply(get_topics)\n",
    "    labelled_data['category'] = labelled_data.apply(lambda x: calc_topic_weights(x['primary'], x['secondary']), axis=1)\n",
    "    labelled_data.drop([\n",
    "        'primary','secondary', # encoded into `category`\n",
    "        'subscribers', 'counters', # for now\n",
    "        'annotator', 'annotation_id', 'title_display', 'description_display', 'recent_posts_display', # from new completions\n",
    "        \"predictions\", \"score\", \"posts\", # old completions\n",
    "    ], axis=1, inplace=True, errors='ignore')\n",
    "    labelled_data.info()\n",
    "    return labelled_data\n",
    "\n",
    "\n",
    "def prepare_text(row):\n",
    "    \"\"\" extract and merge all text from a channel \"\"\"\n",
    "    post_texts = '\\n'.join([\n",
    "        post.get('text', \"\") \n",
    "        if isinstance(post, dict) else post\n",
    "        for post in row['recent_posts']\n",
    "    ])\n",
    "    merged = '\\n'.join([row['title'], row['description'], post_texts])\n",
    "    return merged\n",
    "\n",
    "def show_lang_stats(data):\n",
    "    lang_counts = data['lang_code'].value_counts()\n",
    "    sns.barplot(x=lang_counts, y=lang_counts.index);"
   ]
  },
  {
   "cell_type": "markdown",
   "metadata": {},
   "source": [
    "### Load"
   ]
  },
  {
   "cell_type": "markdown",
   "metadata": {},
   "source": [
    "#### New completions"
   ]
  },
  {
   "cell_type": "code",
   "execution_count": 144,
   "metadata": {
    "ExecuteTime": {
     "end_time": "2021-04-24T17:57:47.000076Z",
     "start_time": "2021-04-24T17:57:46.817359Z"
    }
   },
   "outputs": [
    {
     "name": "stdout",
     "output_type": "stream",
     "text": [
      "<class 'pandas.core.frame.DataFrame'>\n",
      "Int64Index: 276 entries, 0 to 265\n",
      "Data columns (total 6 columns):\n",
      " #   Column        Non-Null Count  Dtype \n",
      "---  ------        --------------  ----- \n",
      " 0   title         276 non-null    object\n",
      " 1   description   276 non-null    object\n",
      " 2   recent_posts  276 non-null    object\n",
      " 3   lang_code     276 non-null    object\n",
      " 4   id            276 non-null    int64 \n",
      " 5   category      276 non-null    object\n",
      "dtypes: int64(1), object(5)\n",
      "memory usage: 15.1+ KB\n"
     ]
    },
    {
     "data": {
      "text/html": [
       "<div>\n",
       "<style scoped>\n",
       "    .dataframe tbody tr th:only-of-type {\n",
       "        vertical-align: middle;\n",
       "    }\n",
       "\n",
       "    .dataframe tbody tr th {\n",
       "        vertical-align: top;\n",
       "    }\n",
       "\n",
       "    .dataframe thead th {\n",
       "        text-align: right;\n",
       "    }\n",
       "</style>\n",
       "<table border=\"1\" class=\"dataframe\">\n",
       "  <thead>\n",
       "    <tr style=\"text-align: right;\">\n",
       "      <th></th>\n",
       "      <th>title</th>\n",
       "      <th>description</th>\n",
       "      <th>recent_posts</th>\n",
       "      <th>lang_code</th>\n",
       "      <th>id</th>\n",
       "      <th>category</th>\n",
       "      <th>subset</th>\n",
       "    </tr>\n",
       "  </thead>\n",
       "  <tbody>\n",
       "    <tr>\n",
       "      <th>74</th>\n",
       "      <td>اندیشه انتقادی</td>\n",
       "      <td>انتشار محتوای انتقادی و اطلاع رسانی در زمینه ه...</td>\n",
       "      <td>[{'type': 'photo', 'text': '#سخنرانی در_گروه:\n",
       "...</td>\n",
       "      <td>fa</td>\n",
       "      <td>228</td>\n",
       "      <td>{'History': 0.375, 'Religion &amp; Spirituality': ...</td>\n",
       "      <td>r-2_completions</td>\n",
       "    </tr>\n",
       "    <tr>\n",
       "      <th>22</th>\n",
       "      <td>👄حـال و هـول👅🍌</td>\n",
       "      <td>😎بهترین نیستیم،اما خوشحالیم بهترینا مارو انتخا...</td>\n",
       "      <td>[{'type': 'photo', 'text': '😂😂\n",
       "\n",
       "\n",
       "💖 #حـــــال_و...</td>\n",
       "      <td>fa</td>\n",
       "      <td>284</td>\n",
       "      <td>{'Hobbies &amp; Activities': 0.375, 'Humor &amp; Memes...</td>\n",
       "      <td>r-2_completions</td>\n",
       "    </tr>\n",
       "    <tr>\n",
       "      <th>114</th>\n",
       "      <td>AANBA</td>\n",
       "      <td>• Наш основной чатик: @nba4ru\\n• Наш чатик по ...</td>\n",
       "      <td>[{'type': 'text', 'text': '​​Ар Джей Барретт п...</td>\n",
       "      <td>ru</td>\n",
       "      <td>182</td>\n",
       "      <td>{'Sports': 1.0}</td>\n",
       "      <td>r-2_completions</td>\n",
       "    </tr>\n",
       "    <tr>\n",
       "      <th>260</th>\n",
       "      <td>آحہٰٰآسٰٰٓيِٰسٰٰٓ رٰآقྀ̲ـــــيةً!🥀🎼♥♾ ، ⇣</td>\n",
       "      <td>أيقنتُ بأني؛لن أتوبَك</td>\n",
       "      <td>[{'type': 'text', 'text': '......\n",
       "\n",
       "🔥▂▁▁▁▁◣ @Hi...</td>\n",
       "      <td>ar</td>\n",
       "      <td>6</td>\n",
       "      <td>{'Motivation &amp; Self-development': 1.0}</td>\n",
       "      <td>r-2_completions</td>\n",
       "    </tr>\n",
       "  </tbody>\n",
       "</table>\n",
       "</div>"
      ],
      "text/plain": [
       "                                         title  \\\n",
       "74                              اندیشه انتقادی   \n",
       "22                              👄حـال و هـول👅🍌   \n",
       "114                                      AANBA   \n",
       "260  آحہٰٰآسٰٰٓيِٰسٰٰٓ رٰآقྀ̲ـــــيةً!🥀🎼♥♾ ، ⇣   \n",
       "\n",
       "                                           description  \\\n",
       "74   انتشار محتوای انتقادی و اطلاع رسانی در زمینه ه...   \n",
       "22   😎بهترین نیستیم،اما خوشحالیم بهترینا مارو انتخا...   \n",
       "114  • Наш основной чатик: @nba4ru\\n• Наш чатик по ...   \n",
       "260                              أيقنتُ بأني؛لن أتوبَك   \n",
       "\n",
       "                                          recent_posts lang_code   id  \\\n",
       "74   [{'type': 'photo', 'text': '#سخنرانی در_گروه:\n",
       "...        fa  228   \n",
       "22   [{'type': 'photo', 'text': '😂😂\n",
       "\n",
       "\n",
       "💖 #حـــــال_و...        fa  284   \n",
       "114  [{'type': 'text', 'text': '​​Ар Джей Барретт п...        ru  182   \n",
       "260  [{'type': 'text', 'text': '......\n",
       "\n",
       "🔥▂▁▁▁▁◣ @Hi...        ar    6   \n",
       "\n",
       "                                              category           subset  \n",
       "74   {'History': 0.375, 'Religion & Spirituality': ...  r-2_completions  \n",
       "22   {'Hobbies & Activities': 0.375, 'Humor & Memes...  r-2_completions  \n",
       "114                                    {'Sports': 1.0}  r-2_completions  \n",
       "260             {'Motivation & Self-development': 1.0}  r-2_completions  "
      ]
     },
     "execution_count": 144,
     "metadata": {},
     "output_type": "execute_result"
    },
    {
     "data": {
      "image/png": "[encoded data removed]",
      "text/plain": [
       "<Figure size 432x288 with 1 Axes>"
      ]
     },
     "metadata": {
      "needs_background": "light"
     },
     "output_type": "display_data"
    }
   ],
   "source": [
    "new_labels = load_labelled_data(COMPLETIONS_R2)\n",
    "new_labels['subset'] = 'r-2_completions'\n",
    "\n",
    "show_lang_stats(new_labels)\n",
    "\n",
    "new_labels.sample(4)\n"
   ]
  },
  {
   "cell_type": "markdown",
   "metadata": {},
   "source": [
    "#### Old completions"
   ]
  },
  {
   "cell_type": "code",
   "execution_count": 145,
   "metadata": {
    "ExecuteTime": {
     "end_time": "2021-04-24T17:57:47.360818Z",
     "start_time": "2021-04-24T17:57:47.118332Z"
    }
   },
   "outputs": [
    {
     "name": "stdout",
     "output_type": "stream",
     "text": [
      "<class 'pandas.core.frame.DataFrame'>\n",
      "Int64Index: 691 entries, 0 to 282\n",
      "Data columns (total 6 columns):\n",
      " #   Column        Non-Null Count  Dtype \n",
      "---  ------        --------------  ----- \n",
      " 0   description   691 non-null    object\n",
      " 1   lang_code     691 non-null    object\n",
      " 2   recent_posts  691 non-null    object\n",
      " 3   title         691 non-null    object\n",
      " 4   id            691 non-null    int64 \n",
      " 5   category      691 non-null    object\n",
      "dtypes: int64(1), object(5)\n",
      "memory usage: 37.8+ KB\n"
     ]
    },
    {
     "data": {
      "text/html": [
       "<div>\n",
       "<style scoped>\n",
       "    .dataframe tbody tr th:only-of-type {\n",
       "        vertical-align: middle;\n",
       "    }\n",
       "\n",
       "    .dataframe tbody tr th {\n",
       "        vertical-align: top;\n",
       "    }\n",
       "\n",
       "    .dataframe thead th {\n",
       "        text-align: right;\n",
       "    }\n",
       "</style>\n",
       "<table border=\"1\" class=\"dataframe\">\n",
       "  <thead>\n",
       "    <tr style=\"text-align: right;\">\n",
       "      <th></th>\n",
       "      <th>description</th>\n",
       "      <th>lang_code</th>\n",
       "      <th>recent_posts</th>\n",
       "      <th>title</th>\n",
       "      <th>id</th>\n",
       "      <th>category</th>\n",
       "      <th>subset</th>\n",
       "    </tr>\n",
       "  </thead>\n",
       "  <tbody>\n",
       "    <tr>\n",
       "      <th>339</th>\n",
       "      <td>Связь с нами \\n@vadim_shmotkin\\nТолько оригина...</td>\n",
       "      <td>ru</td>\n",
       "      <td>[2 лота обуви! Размеры 40-44 все в очень хорош...</td>\n",
       "      <td>Вадим Шмоткин</td>\n",
       "      <td>126</td>\n",
       "      <td>{'Fashion &amp; Beauty': 0.75, 'Offers &amp; Promotion...</td>\n",
       "      <td>r-1_completions</td>\n",
       "    </tr>\n",
       "    <tr>\n",
       "      <th>376</th>\n",
       "      <td></td>\n",
       "      <td>ru</td>\n",
       "      <td>[КОНЦЫ В ВОДУ.\\n\\nА вот это уже серьезно. Тако...</td>\n",
       "      <td>Минская Семибоярщина</td>\n",
       "      <td>380</td>\n",
       "      <td>{'Politics &amp; Incidents': 1.0}</td>\n",
       "      <td>r-1_completions</td>\n",
       "    </tr>\n",
       "    <tr>\n",
       "      <th>175</th>\n",
       "      <td>Щэй и щизкейк. Cвязь через Twitter: @neudascha...</td>\n",
       "      <td>ru</td>\n",
       "      <td>[Бесконечный суд.\\nhttps://t.me/federalpress/1...</td>\n",
       "      <td>Неудаща</td>\n",
       "      <td>387</td>\n",
       "      <td>{'Politics &amp; Incidents': 1.0}</td>\n",
       "      <td>r-1_completions</td>\n",
       "    </tr>\n",
       "  </tbody>\n",
       "</table>\n",
       "</div>"
      ],
      "text/plain": [
       "                                           description lang_code  \\\n",
       "339  Связь с нами \\n@vadim_shmotkin\\nТолько оригина...        ru   \n",
       "376                                                           ru   \n",
       "175  Щэй и щизкейк. Cвязь через Twitter: @neudascha...        ru   \n",
       "\n",
       "                                          recent_posts                 title  \\\n",
       "339  [2 лота обуви! Размеры 40-44 все в очень хорош...         Вадим Шмоткин   \n",
       "376  [КОНЦЫ В ВОДУ.\\n\\nА вот это уже серьезно. Тако...  Минская Семибоярщина   \n",
       "175  [Бесконечный суд.\\nhttps://t.me/federalpress/1...               Неудаща   \n",
       "\n",
       "      id                                           category           subset  \n",
       "339  126  {'Fashion & Beauty': 0.75, 'Offers & Promotion...  r-1_completions  \n",
       "376  380                      {'Politics & Incidents': 1.0}  r-1_completions  \n",
       "175  387                      {'Politics & Incidents': 1.0}  r-1_completions  "
      ]
     },
     "execution_count": 145,
     "metadata": {},
     "output_type": "execute_result"
    },
    {
     "data": {
      "image/png": "[encoded data removed]",
      "text/plain": [
       "<Figure size 432x288 with 1 Axes>"
      ]
     },
     "metadata": {
      "needs_background": "light"
     },
     "output_type": "display_data"
    }
   ],
   "source": [
    "old_labels = load_labelled_data(COMPLETIONS_R1)\n",
    "old_labels['subset'] = 'r-1_completions'\n",
    "\n",
    "\n",
    "show_lang_stats(old_labels)\n",
    "\n",
    "old_labels.sample(3)\n"
   ]
  },
  {
   "cell_type": "markdown",
   "metadata": {},
   "source": [
    "#### Tg channel downloads"
   ]
  },
  {
   "cell_type": "code",
   "execution_count": 157,
   "metadata": {
    "ExecuteTime": {
     "end_time": "2021-04-24T17:59:28.487060Z",
     "start_time": "2021-04-24T17:59:28.367248Z"
    }
   },
   "outputs": [],
   "source": [
    "posts = pd.read_csv(TG_DOWNLOADS['POSTS'])\n",
    "meta = pd.read_csv(TG_DOWNLOADS['META'])\n",
    "topics = pd.read_csv(TG_DOWNLOADS['TOPICS'])\n",
    "\n",
    "# clean\n",
    "topics['topic [Secondary]'].fillna(\"\", inplace=True)\n",
    "posts['message'].fillna(\"\", inplace=True)\n",
    "meta['about'].fillna(\"\", inplace=True)\n",
    "\n",
    "# new cols\n",
    "topics['username'] = topics['link'].apply(lambda x: x.split('/')[-1])\n",
    "topics['lang_code'] = topics['language'].apply(lambda x: x.lower()[:2])\n",
    "\n",
    "# rename\n",
    "posts.rename({'channel':'username', 'message': 'recent_posts'}, axis=1, inplace=True)\n",
    "meta.rename({'about':'description',}, axis=1, inplace=True)\n",
    "\n",
    "# calculate topic weights\n",
    "topics['primary'] = topics['topic [Primary]'].apply(lambda x: x.split(','))\n",
    "topics['secondary'] = topics['topic [Secondary]'].apply(lambda x: x.split(',') if x != '' else [])\n",
    "topics['category'] = topics.apply(lambda x: calc_topic_weights(x['primary'], x['secondary']), \n",
    "                               axis=1)\n",
    "\n",
    "# group recent posts\n",
    "posts = posts.groupby('username', as_index=False).agg({'recent_posts': lambda row: list(x for x in row if x != '')})\n",
    "\n",
    "\n",
    "# merge\n",
    "tg_downloads = topics[['username','lang_code','category']]\\\n",
    "            .merge(meta, on=['username'])\\\n",
    "            .merge(posts, on='username')\n",
    "tg_downloads['subset'] = 'tg_downloads'\n",
    "\n",
    "\n",
    "del tg_downloads['username']"
   ]
  },
  {
   "cell_type": "code",
   "execution_count": 158,
   "metadata": {
    "ExecuteTime": {
     "end_time": "2021-04-24T17:59:28.800318Z",
     "start_time": "2021-04-24T17:59:28.673014Z"
    }
   },
   "outputs": [
    {
     "name": "stdout",
     "output_type": "stream",
     "text": [
      "<class 'pandas.core.frame.DataFrame'>\n",
      "Int64Index: 531 entries, 0 to 530\n",
      "Data columns (total 6 columns):\n",
      " #   Column        Non-Null Count  Dtype \n",
      "---  ------        --------------  ----- \n",
      " 0   lang_code     531 non-null    object\n",
      " 1   category      531 non-null    object\n",
      " 2   title         531 non-null    object\n",
      " 3   description   531 non-null    object\n",
      " 4   recent_posts  531 non-null    object\n",
      " 5   subset        531 non-null    object\n",
      "dtypes: object(6)\n",
      "memory usage: 29.0+ KB\n"
     ]
    },
    {
     "data": {
      "text/html": [
       "<div>\n",
       "<style scoped>\n",
       "    .dataframe tbody tr th:only-of-type {\n",
       "        vertical-align: middle;\n",
       "    }\n",
       "\n",
       "    .dataframe tbody tr th {\n",
       "        vertical-align: top;\n",
       "    }\n",
       "\n",
       "    .dataframe thead th {\n",
       "        text-align: right;\n",
       "    }\n",
       "</style>\n",
       "<table border=\"1\" class=\"dataframe\">\n",
       "  <thead>\n",
       "    <tr style=\"text-align: right;\">\n",
       "      <th></th>\n",
       "      <th>lang_code</th>\n",
       "      <th>category</th>\n",
       "      <th>title</th>\n",
       "      <th>description</th>\n",
       "      <th>recent_posts</th>\n",
       "      <th>subset</th>\n",
       "    </tr>\n",
       "  </thead>\n",
       "  <tbody>\n",
       "    <tr>\n",
       "      <th>429</th>\n",
       "      <td>ru</td>\n",
       "      <td>{'Movies': 1.0}</td>\n",
       "      <td>КиноПоиск</td>\n",
       "      <td>Все самое интересное из мира кино и сериалов: ...</td>\n",
       "      <td>[Сегодня День святого Валентина — один из 365 ...</td>\n",
       "      <td>tg_downloads</td>\n",
       "    </tr>\n",
       "    <tr>\n",
       "      <th>108</th>\n",
       "      <td>ru</td>\n",
       "      <td>{'Job Listings': 1.0}</td>\n",
       "      <td>VDHL.RU</td>\n",
       "      <td>Вакансии в МЕДИА, в сферах дизайн, креатив, ма...</td>\n",
       "      <td>[РЕДАКТОР в Кью.\\n\\nЧто мы вообще делаем? Нас ...</td>\n",
       "      <td>tg_downloads</td>\n",
       "    </tr>\n",
       "    <tr>\n",
       "      <th>182</th>\n",
       "      <td>ru</td>\n",
       "      <td>{'Home &amp; Architecture': 1.0}</td>\n",
       "      <td>Калашников Media</td>\n",
       "      <td>Канал издания Калашников Media.  Про технологи...</td>\n",
       "      <td>[Что будет с АКВ-521 зимой при температуре от ...</td>\n",
       "      <td>tg_downloads</td>\n",
       "    </tr>\n",
       "    <tr>\n",
       "      <th>82</th>\n",
       "      <td>ru</td>\n",
       "      <td>{'Education': 1.0}</td>\n",
       "      <td>Бесплатное образование</td>\n",
       "      <td>Публикуем анонсы бесплатных лекций, курсов и о...</td>\n",
       "      <td>[Как учиться правильно - #лекция Николая Черно...</td>\n",
       "      <td>tg_downloads</td>\n",
       "    </tr>\n",
       "  </tbody>\n",
       "</table>\n",
       "</div>"
      ],
      "text/plain": [
       "    lang_code                      category                   title  \\\n",
       "429        ru               {'Movies': 1.0}               КиноПоиск   \n",
       "108        ru         {'Job Listings': 1.0}                 VDHL.RU   \n",
       "182        ru  {'Home & Architecture': 1.0}        Калашников Media   \n",
       "82         ru            {'Education': 1.0}  Бесплатное образование   \n",
       "\n",
       "                                           description  \\\n",
       "429  Все самое интересное из мира кино и сериалов: ...   \n",
       "108  Вакансии в МЕДИА, в сферах дизайн, креатив, ма...   \n",
       "182  Канал издания Калашников Media.  Про технологи...   \n",
       "82   Публикуем анонсы бесплатных лекций, курсов и о...   \n",
       "\n",
       "                                          recent_posts        subset  \n",
       "429  [Сегодня День святого Валентина — один из 365 ...  tg_downloads  \n",
       "108  [РЕДАКТОР в Кью.\\n\\nЧто мы вообще делаем? Нас ...  tg_downloads  \n",
       "182  [Что будет с АКВ-521 зимой при температуре от ...  tg_downloads  \n",
       "82   [Как учиться правильно - #лекция Николая Черно...  tg_downloads  "
      ]
     },
     "execution_count": 158,
     "metadata": {},
     "output_type": "execute_result"
    },
    {
     "data": {
      "image/png": "[encoded data removed]",
      "text/plain": [
       "<Figure size 432x288 with 1 Axes>"
      ]
     },
     "metadata": {
      "needs_background": "light"
     },
     "output_type": "display_data"
    }
   ],
   "source": [
    "tg_downloads.info()\n",
    "\n",
    "show_lang_stats(tg_downloads)\n",
    "\n",
    "tg_downloads.sample(4)\n"
   ]
  },
  {
   "cell_type": "markdown",
   "metadata": {},
   "source": [
    "#### Tg true labels"
   ]
  },
  {
   "cell_type": "code",
   "execution_count": 159,
   "metadata": {
    "ExecuteTime": {
     "end_time": "2021-04-24T17:59:32.331087Z",
     "start_time": "2021-04-24T17:59:32.301211Z"
    }
   },
   "outputs": [],
   "source": [
    "def update_dict(src_dict,dest_dict):\n",
    "    src_dict.update(dest_dict)\n",
    "    return src_dict"
   ]
  },
  {
   "cell_type": "code",
   "execution_count": 160,
   "metadata": {
    "ExecuteTime": {
     "end_time": "2021-04-24T17:59:35.749373Z",
     "start_time": "2021-04-24T17:59:34.205998Z"
    }
   },
   "outputs": [
    {
     "name": "stdout",
     "output_type": "stream",
     "text": [
      "Loaded 14775 rows\n",
      "Loaded 14775 rows\n",
      "Loaded 16726 rows\n",
      "Loaded 16726 rows\n"
     ]
    }
   ],
   "source": [
    "tg_true = []\n",
    "\n",
    "for files in TG_TRUE_LABELS:\n",
    "    inp = load_test_file(files['input'])\n",
    "    out = load_test_file(files['output'])\n",
    "    tg_true.extend([update_dict(i, o) for i,o in zip(inp, out)])\n",
    "\n",
    "    \n",
    "tg_true = pd.DataFrame(tg_true)\n",
    "\n",
    "tg_true['subset'] = 'tg_true'"
   ]
  },
  {
   "cell_type": "code",
   "execution_count": 161,
   "metadata": {
    "ExecuteTime": {
     "end_time": "2021-04-24T17:59:43.351154Z",
     "start_time": "2021-04-24T17:59:43.175477Z"
    }
   },
   "outputs": [
    {
     "name": "stdout",
     "output_type": "stream",
     "text": [
      "<class 'pandas.core.frame.DataFrame'>\n",
      "RangeIndex: 31501 entries, 0 to 31500\n",
      "Data columns (total 6 columns):\n",
      " #   Column        Non-Null Count  Dtype \n",
      "---  ------        --------------  ----- \n",
      " 0   title         31501 non-null  object\n",
      " 1   description   31501 non-null  object\n",
      " 2   recent_posts  31501 non-null  object\n",
      " 3   lang_code     31501 non-null  object\n",
      " 4   category      31501 non-null  object\n",
      " 5   subset        31501 non-null  object\n",
      "dtypes: object(6)\n",
      "memory usage: 1.4+ MB\n"
     ]
    },
    {
     "data": {
      "text/html": [
       "<div>\n",
       "<style scoped>\n",
       "    .dataframe tbody tr th:only-of-type {\n",
       "        vertical-align: middle;\n",
       "    }\n",
       "\n",
       "    .dataframe tbody tr th {\n",
       "        vertical-align: top;\n",
       "    }\n",
       "\n",
       "    .dataframe thead th {\n",
       "        text-align: right;\n",
       "    }\n",
       "</style>\n",
       "<table border=\"1\" class=\"dataframe\">\n",
       "  <thead>\n",
       "    <tr style=\"text-align: right;\">\n",
       "      <th></th>\n",
       "      <th>title</th>\n",
       "      <th>description</th>\n",
       "      <th>recent_posts</th>\n",
       "      <th>lang_code</th>\n",
       "      <th>category</th>\n",
       "      <th>subset</th>\n",
       "    </tr>\n",
       "  </thead>\n",
       "  <tbody>\n",
       "    <tr>\n",
       "      <th>4069</th>\n",
       "      <td>GALAXY FEEDBACK [ PROOF ]</td>\n",
       "      <td>𝐀ssociated With -\\n\\n- @PUBG_ACCOUNT_STORES\\n-...</td>\n",
       "      <td>[Mod data vip ❤️❤️❤️, ♨️ Scammer - @YashYTNO \\...</td>\n",
       "      <td>en</td>\n",
       "      <td>{'Other': 0.5, 'Technology &amp; Internet': 0.5}</td>\n",
       "      <td>tg_true</td>\n",
       "    </tr>\n",
       "    <tr>\n",
       "      <th>15738</th>\n",
       "      <td>Он&amp;Она🍇</td>\n",
       "      <td>Всё, о чём молчат и стесняются сказать🍌\\nЛюди ...</td>\n",
       "      <td>[​​​​​​​​​На ваш баланс зачислено 56.300 руб!\\...</td>\n",
       "      <td>ru</td>\n",
       "      <td>{'Health &amp; Medicine': 0.16666666666667, 'Psych...</td>\n",
       "      <td>tg_true</td>\n",
       "    </tr>\n",
       "    <tr>\n",
       "      <th>17181</th>\n",
       "      <td>🔞Your fetish (NSFW) 🔞</td>\n",
       "      <td>We don't publish hentai. Only good ecchi.\\nМы ...</td>\n",
       "      <td>[#Resident_Evil\\nArtist: #logancure\\n\\nLink, #...</td>\n",
       "      <td>ru</td>\n",
       "      <td>{'Erotic Content': 0.85714285714286, 'Art &amp; De...</td>\n",
       "      <td>tg_true</td>\n",
       "    </tr>\n",
       "  </tbody>\n",
       "</table>\n",
       "</div>"
      ],
      "text/plain": [
       "                           title  \\\n",
       "4069   GALAXY FEEDBACK [ PROOF ]   \n",
       "15738                    Он&Она🍇   \n",
       "17181      🔞Your fetish (NSFW) 🔞   \n",
       "\n",
       "                                             description  \\\n",
       "4069   𝐀ssociated With -\\n\\n- @PUBG_ACCOUNT_STORES\\n-...   \n",
       "15738  Всё, о чём молчат и стесняются сказать🍌\\nЛюди ...   \n",
       "17181  We don't publish hentai. Only good ecchi.\\nМы ...   \n",
       "\n",
       "                                            recent_posts lang_code  \\\n",
       "4069   [Mod data vip ❤️❤️❤️, ♨️ Scammer - @YashYTNO \\...        en   \n",
       "15738  [​​​​​​​​​На ваш баланс зачислено 56.300 руб!\\...        ru   \n",
       "17181  [#Resident_Evil\\nArtist: #logancure\\n\\nLink, #...        ru   \n",
       "\n",
       "                                                category   subset  \n",
       "4069        {'Other': 0.5, 'Technology & Internet': 0.5}  tg_true  \n",
       "15738  {'Health & Medicine': 0.16666666666667, 'Psych...  tg_true  \n",
       "17181  {'Erotic Content': 0.85714285714286, 'Art & De...  tg_true  "
      ]
     },
     "execution_count": 161,
     "metadata": {},
     "output_type": "execute_result"
    },
    {
     "data": {
      "image/png": "[encoded data removed]",
      "text/plain": [
       "<Figure size 432x288 with 1 Axes>"
      ]
     },
     "metadata": {
      "needs_background": "light"
     },
     "output_type": "display_data"
    }
   ],
   "source": [
    "tg_true.info()\n",
    "\n",
    "show_lang_stats(tg_true)\n",
    "\n",
    "tg_true.sample(3)"
   ]
  },
  {
   "cell_type": "markdown",
   "metadata": {},
   "source": [
    "## Combine and save"
   ]
  },
  {
   "cell_type": "markdown",
   "metadata": {},
   "source": [
    "### concat"
   ]
  },
  {
   "cell_type": "code",
   "execution_count": 162,
   "metadata": {
    "ExecuteTime": {
     "end_time": "2021-04-24T17:59:45.790835Z",
     "start_time": "2021-04-24T17:59:45.748758Z"
    }
   },
   "outputs": [
    {
     "data": {
      "text/plain": [
       "(32999, 7)"
      ]
     },
     "execution_count": 162,
     "metadata": {},
     "output_type": "execute_result"
    }
   ],
   "source": [
    "comb = pd.concat([\n",
    "    new_labels,\n",
    "    old_labels,\n",
    "    tg_downloads,\n",
    "    tg_true,\n",
    "\n",
    "], axis=0)\n",
    "comb.shape"
   ]
  },
  {
   "cell_type": "code",
   "execution_count": 163,
   "metadata": {
    "ExecuteTime": {
     "end_time": "2021-04-24T17:59:47.227075Z",
     "start_time": "2021-04-24T17:59:47.087845Z"
    }
   },
   "outputs": [
    {
     "data": {
      "image/png": "[encoded data removed]",
      "text/plain": [
       "<Figure size 432x288 with 1 Axes>"
      ]
     },
     "metadata": {
      "needs_background": "light"
     },
     "output_type": "display_data"
    }
   ],
   "source": [
    "show_lang_stats(comb)"
   ]
  },
  {
   "cell_type": "code",
   "execution_count": 164,
   "metadata": {
    "ExecuteTime": {
     "end_time": "2021-04-24T17:59:47.314479Z",
     "start_time": "2021-04-24T17:59:47.281155Z"
    }
   },
   "outputs": [
    {
     "data": {
      "text/plain": [
       "tg_true            31501\n",
       "r-1_completions      691\n",
       "tg_downloads         531\n",
       "r-2_completions      276\n",
       "Name: subset, dtype: int64"
      ]
     },
     "execution_count": 164,
     "metadata": {},
     "output_type": "execute_result"
    }
   ],
   "source": [
    "comb['subset'].value_counts()"
   ]
  },
  {
   "cell_type": "markdown",
   "metadata": {},
   "source": [
    "### get raw texts"
   ]
  },
  {
   "cell_type": "code",
   "execution_count": 165,
   "metadata": {
    "ExecuteTime": {
     "end_time": "2021-04-24T17:59:48.839360Z",
     "start_time": "2021-04-24T17:59:48.207130Z"
    }
   },
   "outputs": [],
   "source": [
    "comb['text'] = comb.apply(prepare_text, axis=1)"
   ]
  },
  {
   "cell_type": "markdown",
   "metadata": {},
   "source": [
    "### Save"
   ]
  },
  {
   "cell_type": "code",
   "execution_count": 166,
   "metadata": {
    "ExecuteTime": {
     "end_time": "2021-04-24T17:59:58.032946Z",
     "start_time": "2021-04-24T17:59:54.274424Z"
    }
   },
   "outputs": [],
   "source": [
    "comb.to_csv('data/interim/train_data.csv', index=False)"
   ]
  },
  {
   "cell_type": "code",
   "execution_count": null,
   "metadata": {},
   "outputs": [],
   "source": []
  }
 ],
 "metadata": {
  "kernelspec": {
   "display_name": "tgcat",
   "language": "python",
   "name": "tgcat"
  },
  "language_info": {
   "codemirror_mode": {
    "name": "ipython",
    "version": 3
   },
   "file_extension": ".py",
   "mimetype": "text/x-python",
   "name": "python",
   "nbconvert_exporter": "python",
   "pygments_lexer": "ipython3",
   "version": "3.7.9"
  },
  "notify_time": "10",
  "toc": {
   "base_numbering": 1,
   "nav_menu": {},
   "number_sections": true,
   "sideBar": true,
   "skip_h1_title": false,
   "title_cell": "Table of Contents",
   "title_sidebar": "Contents",
   "toc_cell": false,
   "toc_position": {
    "height": "calc(100% - 180px)",
    "left": "10px",
    "top": "150px",
    "width": "227px"
   },
   "toc_section_display": true,
   "toc_window_display": true
  }
 },
 "nbformat": 4,
 "nbformat_minor": 5
}
