{
 "cells": [
  {
   "cell_type": "markdown",
   "metadata": {},
   "source": [
    "# Prepare test data for annotation"
   ]
  },
  {
   "cell_type": "code",
   "execution_count": 1,
   "metadata": {
    "ExecuteTime": {
     "end_time": "2021-04-25T18:12:31.414538Z",
     "start_time": "2021-04-25T18:12:30.443400Z"
    }
   },
   "outputs": [],
   "source": [
    "%load_ext autoreload\n",
    "%autoreload 2\n",
    "%matplotlib inline\n",
    "#standard libs\n",
    "import os, sys\n",
    "from pathlib import Path\n",
    "from pprint import pprint\n",
    "import random\n",
    "import json\n",
    "import itertools\n",
    "from datetime import datetime as dt\n",
    "# ds libs\n",
    "import pandas as pd\n",
    "import numpy as np\n",
    "import matplotlib.pyplot as plt\n",
    "from tqdm import tqdm, tqdm_notebook\n",
    "# custom path\n",
    "os.chdir('../..')"
   ]
  },
  {
   "cell_type": "code",
   "execution_count": 2,
   "metadata": {
    "ExecuteTime": {
     "end_time": "2021-04-25T18:15:41.462353Z",
     "start_time": "2021-04-25T18:15:41.436183Z"
    }
   },
   "outputs": [],
   "source": [
    "from collections import Counter\n",
    "import re"
   ]
  },
  {
   "cell_type": "code",
   "execution_count": 3,
   "metadata": {
    "ExecuteTime": {
     "end_time": "2021-04-25T18:15:43.184228Z",
     "start_time": "2021-04-25T18:15:42.123651Z"
    }
   },
   "outputs": [],
   "source": [
    "    from src.train.predict import prepare_texts, load_models, load_test_file, format_text, predict_language\n"
   ]
  },
  {
   "cell_type": "code",
   "execution_count": 4,
   "metadata": {
    "ExecuteTime": {
     "end_time": "2021-04-25T18:15:43.204080Z",
     "start_time": "2021-04-25T18:15:43.185675Z"
    }
   },
   "outputs": [],
   "source": [
    "get_file_lang = lambda fp: Path(fp).stem.split('-')[2]\n",
    "\n",
    "get_translated_file = lambda fp: str(Path(fp).parent.parent / \"translated\" / f\"{Path(fp).stem}-translated.txt\")"
   ]
  },
  {
   "cell_type": "code",
   "execution_count": 5,
   "metadata": {
    "ExecuteTime": {
     "end_time": "2021-04-25T18:15:43.730251Z",
     "start_time": "2021-04-25T18:15:43.711535Z"
    }
   },
   "outputs": [
    {
     "name": "stdout",
     "output_type": "stream",
     "text": [
      "20210425\n"
     ]
    }
   ],
   "source": [
    "today_str = dt.strftime(dt.today(), '%Y%m%d')\n",
    "print(today_str)"
   ]
  },
  {
   "cell_type": "markdown",
   "metadata": {},
   "source": [
    "## New randomly selected tasks"
   ]
  },
  {
   "cell_type": "code",
   "execution_count": 6,
   "metadata": {
    "ExecuteTime": {
     "end_time": "2021-04-25T18:16:01.675333Z",
     "start_time": "2021-04-25T18:16:01.654083Z"
    }
   },
   "outputs": [],
   "source": [
    "FILES = [\n",
    "    'data/external/dc0421-input/original/dc0421-input-ru.txt',\n",
    "    'data/external/dc0421-input/original/dc0421-input-en.txt',\n",
    "    'data/external/dc0421-input/original/dc0421-input-ar.txt',\n",
    "    'data/external/dc0421-input/original/dc0421-input-fa.txt',\n",
    "    'data/external/dc0421-input/original/dc0421-input-uz.txt',\n",
    "]"
   ]
  },
  {
   "cell_type": "markdown",
   "metadata": {},
   "source": [
    "### Load"
   ]
  },
  {
   "cell_type": "code",
   "execution_count": 12,
   "metadata": {
    "ExecuteTime": {
     "end_time": "2021-04-21T19:01:41.223435Z",
     "start_time": "2021-04-21T19:01:41.198110Z"
    }
   },
   "outputs": [],
   "source": [
    "def update_dict(src_dict,dest_dict):\n",
    "    src_dict.update(dest_dict)\n",
    "    return src_dict\n",
    "\n",
    "\n",
    "def get_task_stats(tasks):\n",
    "    print('# tasks', len(tasks))\n",
    "    by_lang = Counter(t['lang_code'] for t in tasks)\n",
    "    pprint(by_lang)\n",
    "\n",
    "def filter_list(src, selected):\n",
    "    return [d for i,d in enumerate(src) if i in selected]\n",
    "\n",
    "\n",
    "def load_sample(file, size=100):\n",
    "    lang = get_file_lang(file)\n",
    "    orig = load_test_file(file, verbose=False)\n",
    "    n = len(orig)\n",
    "    selected_ids = random.sample(range(n), min(size, n))\n",
    "    orig = filter_list(orig, selected_ids)\n",
    "#     if lang not in ['en','ru']:\n",
    "    translated_file = get_translated_file(file)\n",
    "    translated = load_test_file(translated_file, verbose=False)\n",
    "    translated = filter_list(translated, selected_ids)\n",
    "    assert len(translated) == len(orig)\n",
    "    orig = [\n",
    "        update_dict(o, {\n",
    "            'title_display': t['title'],\n",
    "            'description_display': t['description'],\n",
    "            'recent_posts_display': t['recent_posts'],\n",
    "    }) for o,t in zip(orig, translated)]\n",
    "#     else:\n",
    "#         orig = [\n",
    "#             update_dict(o, {\n",
    "#                 'title_display': \"\",\n",
    "#                 'description_display': \"\",\n",
    "#                 'recent_posts_display': [],\n",
    "#         }) for o in orig]\n",
    "    return orig"
   ]
  },
  {
   "cell_type": "code",
   "execution_count": 84,
   "metadata": {
    "ExecuteTime": {
     "end_time": "2021-04-20T17:39:48.488715Z",
     "start_time": "2021-04-20T17:39:39.909351Z"
    }
   },
   "outputs": [
    {
     "name": "stdout",
     "output_type": "stream",
     "text": [
      "ru 100\n",
      "en 100\n",
      "ar 100\n",
      "fa 100\n",
      "uz 100\n"
     ]
    }
   ],
   "source": [
    "test_data = {\n",
    "    get_file_lang(f): load_sample(f)\n",
    "    for f in FILES\n",
    "            }\n",
    "\n",
    "for l,d in test_data.items():\n",
    "    print(l, len(d))"
   ]
  },
  {
   "cell_type": "markdown",
   "metadata": {},
   "source": [
    "### explore"
   ]
  },
  {
   "cell_type": "code",
   "execution_count": 89,
   "metadata": {
    "ExecuteTime": {
     "end_time": "2021-04-20T17:40:12.408250Z",
     "start_time": "2021-04-20T17:40:12.371608Z"
    }
   },
   "outputs": [
    {
     "name": "stdout",
     "output_type": "stream",
     "text": [
      "Language AR\n",
      "{'counters': {'audios': 0,\n",
      "              'files': 0,\n",
      "              'photos': 590,\n",
      "              'posts': 1138,\n",
      "              'videos': 5},\n",
      " 'description': 'قناة نهفات حلبية الرسمية ✅\\n'\n",
      "                '\\n'\n",
      "                '🤡 للضحك اصالة 🤠 من فسط حلب الشهباء\\n'\n",
      "                '\\n'\n",
      "                'اضحك ولايهمك نهفات حلبية بتشيل همك 😉\\n'\n",
      "                '\\n'\n",
      "                'أروع النكت عنا وبس\\n'\n",
      "                '\\n'\n",
      "                'لــ إرسال مشاركاتم @aleppo_bbot\\n'\n",
      "                '\\n'\n",
      "                'للإعلانات المدفوعة بأسعار رمزية \\n'\n",
      "                '\\n'\n",
      "                'راسلنا عبر البوت @aleppo_bbot 👉\\n'\n",
      "                '\\n'\n",
      "                'قنواتنا 👇\\n'\n",
      "                'ٴ★ @Aleppo_TM ★',\n",
      " 'description_display': 'The official Nahafat Halabiya channel ✅ 🤡 For '\n",
      "                        'laughter, Asala 🤠 From Fasset Aleppo, Laugh and you '\n",
      "                        'don’t care about Halabia’s funeral 😉 The coolest '\n",
      "                        'jokes about us 😉 Just send your posts @aleppo_bbot '\n",
      "                        'for paid ads at nominal rates.',\n",
      " 'recent_posts': [{'text': '#نهفات_حلبية_Official\\n'\n",
      "                           '\\n'\n",
      "                           'هنن بيدفشوا والمريض بيقول وي وي 🌚😹💔\\n'\n",
      "                           '\\n'\n",
      "                           '🤹\\u200d♂ @aleppo_funs 🤡\\n'\n",
      "                           '👉ارسل المنشور لمن تريد',\n",
      "                   'type': 'photo'},\n",
      "                  {'text': '#نهفات_حلبية_Official\\n'\n",
      "                           '\\n'\n",
      "                           'تشم ريحة الخيانة قبل حدوثها \\n'\n",
      "                           'بس الرز يحترق بتقلك والله مانتبهت 🌚😹💔\\n'\n",
      "                           '#مننتبه_ع_شغلات_يلي_بتعجبنا 🐸💋\\n'\n",
      "                           '\\n'\n",
      "                           '🤹\\u200d♂ @aleppo_funs 🤡\\n'\n",
      "                           '👉ارسل المنشور لمن تريد',\n",
      "                   'type': 'text'},\n",
      "                  {'text': '#نهفات_حلبية_Official\\n'\n",
      "                           '\\n'\n",
      "                           'ابننا تخرج ورح يصير افضل مهندس بالدنيا \\n'\n",
      "                           'ابنهم : 🌚😹💔\\n'\n",
      "                           '\\n'\n",
      "                           '🤹\\u200d♂ @aleppo_funs 🤡\\n'\n",
      "                           '👉ارسل المنشور لمن تريد',\n",
      "                   'type': 'photo'},\n",
      "                  {'text': '#نهفات_حلبية_Official\\n'\n",
      "                           '\\n'\n",
      "                           'بس تفيقي بدي تعطيني رقم صاحب الدكان اللي بحارتكن '\n",
      "                           'مشان يخليه يفيقك كل يوم\\n'\n",
      "                           'لأن ما طبيعي لهلا في بني آدم بيضل نايم 🙂🌚💔\\n'\n",
      "                           '#وبدقلو_خمسين_مكالمة_ولا_بفيق 🙁💦\\n'\n",
      "                           '#لو_نومات_أهل_الكهف_كان_فاااقو 😒🥺😹\\n'\n",
      "                           '\\n'\n",
      "                           '🤹\\u200d♂ @aleppo_funs 🤡\\n'\n",
      "                           '👉ارسل المنشور لمن تريد',\n",
      "                   'type': 'text'},\n",
      "                  {'text': '#نهفات_حلبية_Official\\n'\n",
      "                           '\\n'\n",
      "                           'طلبات المراسلة عم تحب وتخطب\\n'\n",
      "                           'طلبات المراسلة عندي : \\U0001f972😹💔\\n'\n",
      "                           '\\n'\n",
      "                           '🤹\\u200d♂ @aleppo_funs 🤡\\n'\n",
      "                           '👉ارسل المنشور لمن تريد',\n",
      "                   'type': 'photo'},\n",
      "                  {'text': '#نهفات_حلبية_Official\\n'\n",
      "                           '#شاورما_دبل \\n'\n",
      "                           'مع ثوم زيادة ومخلل سديتلي نفسي 😏😑\\n'\n",
      "                           '#الله_ياخدني_عبرلين لاخلص 😭😂\\n'\n",
      "                           '\\n'\n",
      "                           '🤹\\u200d♂ @aleppo_funs 🤡\\n'\n",
      "                           '👉ارسل المنشور لمن تريد',\n",
      "                   'type': 'photo'},\n",
      "                  {'text': '#نهفات_حلبية_Official\\n'\n",
      "                           '\\n'\n",
      "                           'لما تحاول تقلد الأجانب 🌚😹💔\\n'\n",
      "                           '#لما_تطلب_رومانسية_من_جولي_شيك \\U0001f972😹\\n'\n",
      "                           '#نكد_بكل_وقت_وكل_محل 😌👏🏿\\n'\n",
      "                           '\\n'\n",
      "                           '🤹\\u200d♂ @aleppo_funs 🤡\\n'\n",
      "                           '👉ارسل المنشور لمن تريد',\n",
      "                   'type': 'photo'}],\n",
      " 'recent_posts_display': [{'text': '#Nahafat_funs_funs '\n",
      "                                   '🤡🤡🤡🌚😹💔🤡🌚😹💔🌚😹💔🌚😹💔🌚😹💔🌚😹💔🌚😹💔🌚😹💔🌚😹💔🌚😹💔🤡🌚😹💔🌚😹💔🌚😹💔🌚😹💔🌚😹💔🌚😹💔🌚😹💔🌚😹💔🌚😹💔🌚😹💔🌚😹💔🌚😹💔🌚😹💔🌚😹💔🤡🌚😹💔🌚😹💔🌚😹💔🌚😹💔🌚😹💔🌚😹💔🌚😹💔🌚😹💔🌚😹💔',\n",
      "                           'type': 'photo'},\n",
      "                          {'text': '#Nahat_Halabia_Official Official You smell '\n",
      "                                   'the stench of betrayal before it happens, '\n",
      "                                   'but the rice burns with you, I swear by '\n",
      "                                   'God, we did not pay attention to my work '\n",
      "                                   'يلي al @aleppo_funs 🤡 Send the post to '\n",
      "                                   'whomever you want',\n",
      "                           'type': 'text'},\n",
      "                          {'text': '#Nahafat_alabiya_ Official Our son '\n",
      "                                   'graduated and he would become the best '\n",
      "                                   'engineer in the world their son: 🌚😹💔 '\n",
      "                                   '🤹\\u200d♂ @aleppo_funs 🤡 🌚😹💔 Send the post '\n",
      "                                   'to whomever you want',\n",
      "                           'type': 'photo'},\n",
      "                          {'text': '#Nahat_Halabia_Official, but I want to '\n",
      "                                   'wake up, I want to give me the number of '\n",
      "                                   'the owner of the shop I want to make him '\n",
      "                                   'wake up every day, because what is normal '\n",
      "                                   'for him in the children of Adam is going '\n",
      "                                   'to sleep',\n",
      "                           'type': 'text'},\n",
      "                          {'text': '#Nahafat_alabiya_Official Correspondence '\n",
      "                                   'requests about what you like and address '\n",
      "                                   'your correspondence requests: \\U0001f972😹💔 '\n",
      "                                   '🤹\\u200d♂ @aleppo_funs 🤡 Send the post to '\n",
      "                                   'whomever you want',\n",
      "                           'type': 'photo'},\n",
      "                          {'text': '#Nahat_Halabia_Official #Shawarma_Duble '\n",
      "                                   'with extra garlic and pickled sidditly '\n",
      "                                   'myself 😏😑 #May Allah be pleased with '\n",
      "                                   'you.😭😂 @aleppo_funs '\n",
      "                                   '🤡👉👉سل🤡🤡🤡😭😂😭😂🤡🤡🤡🤡🤡🤡🤡🤡🤡🤡🤡🤡🤡🤡',\n",
      "                           'type': 'photo'},\n",
      "                          {'text': '🌚😹💔 @aleppo_funs 🤡 When you are trying to '\n",
      "                                   'imitate foreigners, you are asking for '\n",
      "                                   'romance from jolly chic \\U0001f972😹 😌👏🏿 '\n",
      "                                   '@aleppo_funs '\n",
      "                                   '🤡👉😌👏🏿🤡😌👏🏿👉🤡🤡😌👏🏿😌👏🏿😌👏🏿🤡🤡🤡🤡🤡🤡🤡🤡🤡😌👏🏿😌👏🏿',\n",
      "                           'type': 'photo'}],\n",
      " 'subscribers': 1960,\n",
      " 'title': 'نهفات حلبية Official',\n",
      " 'title_display': 'Halabi Official'}\n"
     ]
    }
   ],
   "source": [
    "l = random.choice(list(test_data.keys()))\n",
    "d = random.choice(test_data[l])\n",
    "\n",
    "print(f\"Language {l.upper()}\")\n",
    "pprint(d)"
   ]
  },
  {
   "cell_type": "markdown",
   "metadata": {},
   "source": [
    "### Convert to tasks"
   ]
  },
  {
   "cell_type": "code",
   "execution_count": 90,
   "metadata": {
    "ExecuteTime": {
     "end_time": "2021-04-20T17:40:17.784318Z",
     "start_time": "2021-04-20T17:40:17.754304Z"
    }
   },
   "outputs": [],
   "source": [
    "tasks = [update_dict(one, {'lang_code':lang}) for lang,channels in test_data.items() for one in channels]\n",
    "\n"
   ]
  },
  {
   "cell_type": "code",
   "execution_count": 91,
   "metadata": {
    "ExecuteTime": {
     "end_time": "2021-04-20T17:40:18.085877Z",
     "start_time": "2021-04-20T17:40:18.064401Z"
    }
   },
   "outputs": [
    {
     "name": "stdout",
     "output_type": "stream",
     "text": [
      "# tasks 500\n",
      "Counter({'ru': 100, 'en': 100, 'ar': 100, 'fa': 100, 'uz': 100})\n"
     ]
    }
   ],
   "source": [
    "get_task_stats(tasks)"
   ]
  },
  {
   "cell_type": "code",
   "execution_count": 92,
   "metadata": {
    "ExecuteTime": {
     "end_time": "2021-04-20T17:40:18.535224Z",
     "start_time": "2021-04-20T17:40:18.510871Z"
    }
   },
   "outputs": [
    {
     "data": {
      "text/plain": [
       "{'title': 'فروش انواع ممبر و فالوور',\n",
       " 'description': '🔴انواع ممبر و فالوور فیک و واقعی با کیفیتA\\n🔴اد ممبر واقعی و تضمینی تلگرام در کوتاه ترین زمان\\n\\nخدمات ما:\\n1-افزایش ممبر واقعی و فعال ایرانی✔\\n2-افزایش فالوور اینستاگرام✔\\n3_کمترین قیمت✔\\n4_بیشترین ظرفیت✔\\n5_بدون واسطه✔\\n\\n🔺آیدی ادمین👇\\n@Blue_Member_Support',\n",
       " 'subscribers': 13910,\n",
       " 'counters': {'posts': 122,\n",
       "  'photos': 18,\n",
       "  'videos': 0,\n",
       "  'audios': 0,\n",
       "  'files': 0},\n",
       " 'recent_posts': [{'type': 'text',\n",
       "   'text': '✅ گزارش #خرید #موفق\\n\\n ⤵️ اطلاعات خرید :\\n\\n ▪️نام محصول : خدمات تلگرام📲\\n\\n▫️بسته انتخابی : ممبر فیک کانال 12,000\\n\\n🔹آیدی محصول : 174\\n🔸تعداد : 16650\\n🔹قیمت : 199800\\n🔸تاریخ ثبت : 1400/01/23 , 13:13\\n\\n1⃣ همین حالا وارد ربات @Blue_Member_Bot شوید و موجودی خود را افزایش دهید.\\n2⃣ خدمات تلگرام و اینستاگرام دریافت کنید.'},\n",
       "  {'type': 'text',\n",
       "   'text': '✅ گزارش #خرید #موفق\\n\\n ⤵️ اطلاعات خرید :\\n\\n ▪️نام محصول : خدمات تلگرام📲\\n\\n▫️بسته انتخابی : ممبر اد اجباری کانال 11,000\\n\\n🔹آیدی محصول : 153\\n🔸تعداد : 1000\\n🔹قیمت : 11000\\n🔸تاریخ ثبت : 1400/01/23 , 10:52\\n\\n1⃣ همین حالا وارد ربات @Blue_Member_Bot شوید و موجودی خود را افزایش دهید.\\n2⃣ خدمات تلگرام و اینستاگرام دریافت کنید.'},\n",
       "  {'type': 'text',\n",
       "   'text': '✅ گزارش #خرید #موفق\\n\\n ⤵️ اطلاعات خرید :\\n\\n ▪️نام محصول : خدمات تلگرام📲\\n\\n▫️بسته انتخابی : ممبر پاپ آپ عالی 95,000\\n\\n🔹آیدی محصول : 117\\n🔸تعداد : 1000\\n🔹قیمت : 95000\\n🔸تاریخ ثبت : 1400/01/20 , 18:06\\n\\n1⃣ همین حالا وارد ربات @Blue_Member_Bot شوید و موجودی خود را افزایش دهید.\\n2⃣ خدمات تلگرام و اینستاگرام دریافت کنید.'},\n",
       "  {'type': 'text',\n",
       "   'text': '✅ گزارش #خرید #موفق\\n\\n ⤵️ اطلاعات خرید :\\n\\n ▪️نام محصول : خدمات تلگرام📲\\n\\n▫️بسته انتخابی : ممبر اد اجباری کانال 11,000\\n\\n🔹آیدی محصول : 153\\n🔸تعداد : 1000\\n🔹قیمت : 11000\\n🔸تاریخ ثبت : 1400/01/18 , 16:26\\n\\n1⃣ همین حالا وارد ربات @Blue_Member_Bot شوید و موجودی خود را افزایش دهید.\\n2⃣ خدمات تلگرام و اینستاگرام دریافت کنید.'},\n",
       "  {'type': 'text',\n",
       "   'text': '✅ گزارش #خرید #موفق\\n\\n ⤵️ اطلاعات خرید :\\n\\n ▪️نام محصول : خدمات تلگرام📲\\n\\n▫️بسته انتخابی : ممبر اد اجباری کانال 11,000\\n\\n🔹آیدی محصول : 153\\n🔸تعداد : 1000\\n🔹قیمت : 11000\\n🔸تاریخ ثبت : 1400/01/11 , 21:48\\n\\n1⃣ همین حالا وارد ربات @Blue_Member_Bot شوید و موجودی خود را افزایش دهید.\\n2⃣ خدمات تلگرام و اینستاگرام دریافت کنید.'},\n",
       "  {'type': 'text',\n",
       "   'text': '✅ گزارش #خرید #موفق\\n\\n ⤵️ اطلاعات خرید :\\n\\n ▪️نام محصول : خدمات تلگرام📲\\n\\n▫️بسته انتخابی : ممبر اد اجباری کانال 11,000\\n\\n🔹آیدی محصول : 153\\n🔸تعداد : 2000\\n🔹قیمت : 22000\\n🔸تاریخ ثبت : 1400/01/9 , 17:59\\n\\n1⃣ همین حالا وارد ربات @Blue_Member_Bot شوید و موجودی خود را افزایش دهید.\\n2⃣ خدمات تلگرام و اینستاگرام دریافت کنید.'},\n",
       "  {'type': 'text',\n",
       "   'text': '✅ گزارش #خرید #موفق\\n\\n ⤵️ اطلاعات خرید :\\n\\n ▪️نام محصول : خدمات تلگرام📲\\n\\n▫️بسته انتخابی : ممبر اد اجباری کانال 11,000\\n\\n🔹آیدی محصول : 153\\n🔸تعداد : 1000\\n🔹قیمت : 11000\\n🔸تاریخ ثبت : 1400/01/7 , 04:11\\n\\n1⃣ همین حالا وارد ربات @Blue_Member_Bot شوید و موجودی خود را افزایش دهید.\\n2⃣ خدمات تلگرام و اینستاگرام دریافت کنید.'},\n",
       "  {'type': 'text',\n",
       "   'text': '✅ گزارش #خرید #موفق\\n\\n ⤵️ اطلاعات خرید :\\n\\n ▪️نام محصول : خدمات اینستاگرام\\n\\n▫️بسته انتخابی : فالوور ایرانی سرور گلد 32,000\\n\\n🔹آیدی محصول : 194\\n🔸تعداد : 100\\n🔹قیمت : 3200\\n🔸تاریخ ثبت : 1400/01/3 , 14:07\\n\\n1⃣ همین حالا وارد ربات @Blue_Member_Bot شوید و موجودی خود را افزایش دهید.\\n2⃣ خدمات تلگرام و اینستاگرام دریافت کنید.'},\n",
       "  {'type': 'text',\n",
       "   'text': '✅ گزارش #خرید #موفق\\n\\n ⤵️ اطلاعات خرید :\\n\\n ▪️نام محصول : خدمات اینستاگرام\\n\\n▫️بسته انتخابی : فالوور ایرانی سرور گلد 32,000\\n\\n🔹آیدی محصول : 194\\n🔸تعداد : 110\\n🔹قیمت : 3520\\n🔸تاریخ ثبت : 1400/01/2 , 23:03\\n\\n1⃣ همین حالا وارد ربات @Blue_Member_Bot شوید و موجودی خود را افزایش دهید.\\n2⃣ خدمات تلگرام و اینستاگرام دریافت کنید.'}],\n",
       " 'title_display': 'Selling all kinds of members and followers',\n",
       " 'description_display': '🔴 Types of fake and real members and followers with A quality واقعی Real and guaranteed Telegram member in the shortest time of our services: 1-Increase real and active Iranian members ✔ 2-Increase Instagram followers ✔ 3_Lownest price ✔ 4_More capacity ✔ 5_No intermediaries ✔ 🔺 ID ادمین👇 @Blue_Member_Support',\n",
       " 'recent_posts_display': [{'type': 'text',\n",
       "   'text': '✅ Report #Purchase #Successful خرید Purchase Information: محصولProduct Name: Telegram Services📲 انتخابSelected Package: Fake Channel Member 12,000 محصولProduct ID: 174 🔸Number: 16650 یمتPrice: 199800 ثبتRegistration Date: 1400/01/23, 13: 13 1⃣ Log in to @Blue_Member_Bot right now and increase your balance. 2⃣ Get Telegram and Instagram services.'},\n",
       "  {'type': 'text',\n",
       "   'text': '✅ Report #Purchase #Successful خرید Purchase Information: محصولProduct Name: Telegram Services 📲 انتخابSelected Package: Mandatory Channel Member 11,000 محصولProduct ID: 153 🔸Number: 1000 یمتPrice: 11000 ثبتRegistration Date: 1400/01/23, 10 : 52 1⃣ Log in to @Blue_Member_Bot right now and increase your balance. 2⃣ Get Telegram and Instagram services.'},\n",
       "  {'type': 'text',\n",
       "   'text': '✅ Report #Purchase #Successful خرید Purchase Information: محصولProduct Name: Telegram Services📲 انتخابSelected Package: Excellent Pop-up Member 95,000 محصولProduct ID: 117 🔸Number: 1000 یمتPrice: 95000 ثبتRegistration Date: 1400/01/20, 18 : 06 1⃣ Log in to @Blue_Member_Bot right now and increase your balance. 2⃣ Get Telegram and Instagram services.'},\n",
       "  {'type': 'text',\n",
       "   'text': '✅ Report #Purchase #Successful خرید Purchase Information: محصولProduct Name: Telegram Services📲 انتخابSelected Package: Compulsory 11,000 Channel Member 🔹Product ID: 153 عدNumber: 1000 یمتPrice: 11000 ثبتRegistration Date: 1400/01/18, 16 : 26 1⃣ Log in to @Blue_Member_Bot right now and increase your balance. 2⃣ Get Telegram and Instagram services.'},\n",
       "  {'type': 'text',\n",
       "   'text': '✅ Report #Purchase #Successful خرید Purchase Information: محصولProduct Name: Telegram Services 📲 انتخابSelected Package: Mandatory Channel Member 11,000 محصولProduct ID: 153 🔸Number: 1000 🔹Price: 11000 ثبتRegistration Date: 1400/01/11, 21 : 48 1⃣ Log in to @Blue_Member_Bot right now and increase your balance. 2⃣ Get Telegram and Instagram services.'},\n",
       "  {'type': 'text',\n",
       "   'text': '✅ Report #Purchase #Successful خرید Purchase Information: محصولProduct Name: Telegram Services 📲 انتخابSelected Package: Mandatory Channel Member 11,000 محصولProduct ID: 153 🔸Number: 2000 یمتPrice: 22000 ثبتRegistration Date: 1400/01/9, 17 : 59 1⃣ Log in to @Blue_Member_Bot right now and increase your balance. 2⃣ Get Telegram and Instagram services.'},\n",
       "  {'type': 'text',\n",
       "   'text': '✅ Report #Purchase #Successful خرید Purchase Information: محصولProduct Name: Telegram Services 📲 انتخابSelected Package: Mandatory Channel Member 11,000 محصولProduct ID: 153 🔸Number: 1000 🔹Price: 11000 ثبتRegistration Date: 1400/01/7, 04 : 11 1⃣ Log in to @Blue_Member_Bot right now and increase your balance. 2⃣ Get Telegram and Instagram services.'},\n",
       "  {'type': 'text',\n",
       "   'text': '✅ Report # Purchase #Successful خرید Purchase Information: محصولProduct Name: Instagram Services انتخابSelected Package: Iranian Follower Gold Server 32,000 محصولProduct ID: 194 🔸Number: 100 یمتPrice: 3200 ثبتRegistration Date: 1400/01/3, 14: 07 1⃣ Log in to @Blue_Member_Bot right now and increase your balance. 2⃣ Get Telegram and Instagram services.'},\n",
       "  {'type': 'text',\n",
       "   'text': '✅ Report #Successful #Purchase خریدPurchase Information: محصولProduct Name: Instagram Services انتخابSelected Package: Iranian Follower Gold Server 32,000 محصولProduct ID: 194 🔸Number: 110 یمتPrice: 3520 ثبتRegistration Date: 1400/01/2, 23: 03 1⃣ Log in to @Blue_Member_Bot right now and increase your balance. 2⃣ Get Telegram and Instagram services.'}],\n",
       " 'lang_code': 'fa'}"
      ]
     },
     "execution_count": 92,
     "metadata": {},
     "output_type": "execute_result"
    }
   ],
   "source": [
    "random.choice(tasks)"
   ]
  },
  {
   "cell_type": "markdown",
   "metadata": {},
   "source": [
    "### save tasks"
   ]
  },
  {
   "cell_type": "code",
   "execution_count": 93,
   "metadata": {
    "ExecuteTime": {
     "end_time": "2021-04-20T17:40:20.914140Z",
     "start_time": "2021-04-20T17:40:20.809444Z"
    }
   },
   "outputs": [],
   "source": [
    "random.shuffle(tasks)\n",
    "\n",
    "with open(f'data/processed/labelling_tasks_{today_str}.json', 'w') as f:\n",
    "    json.dump(tasks, f)"
   ]
  },
  {
   "cell_type": "markdown",
   "metadata": {},
   "source": [
    "## TG labelled data\n",
    "\n",
    "for reference when labelling"
   ]
  },
  {
   "cell_type": "code",
   "execution_count": 7,
   "metadata": {
    "ExecuteTime": {
     "end_time": "2021-04-21T18:19:18.690021Z",
     "start_time": "2021-04-21T18:19:18.666117Z"
    }
   },
   "outputs": [],
   "source": [
    "LABELLED_FILES = [\n",
    "    {\n",
    "        'input': 'data/external/submission1489/category_en/input.txt',\n",
    "        'output': 'data/external/submission1489/category_en/tg_output.txt'\n",
    "    },\n",
    "    {\n",
    "        'input': 'data/external/submission1489/category_ru/input.txt',\n",
    "        'output': 'data/external/submission1489/category_ru/tg_output.txt'\n",
    "    },\n",
    "]"
   ]
  },
  {
   "cell_type": "code",
   "execution_count": 8,
   "metadata": {
    "ExecuteTime": {
     "end_time": "2021-04-21T18:19:19.768233Z",
     "start_time": "2021-04-21T18:19:19.750113Z"
    }
   },
   "outputs": [],
   "source": [
    "get_lang = lambda fp: Path(fp).parent.stem.split('_')[1]"
   ]
  },
  {
   "cell_type": "markdown",
   "metadata": {},
   "source": [
    "### load files"
   ]
  },
  {
   "cell_type": "code",
   "execution_count": 9,
   "metadata": {
    "ExecuteTime": {
     "end_time": "2021-04-21T18:19:24.110155Z",
     "start_time": "2021-04-21T18:19:22.134848Z"
    }
   },
   "outputs": [
    {
     "name": "stdout",
     "output_type": "stream",
     "text": [
      "Loaded 14775 rows\n",
      "Loaded 14775 rows\n",
      "Loaded 16726 rows\n",
      "Loaded 16726 rows\n"
     ]
    }
   ],
   "source": [
    "labelled = {\n",
    "    get_lang(files['input']): {\n",
    "        k: load_test_file(file) \n",
    "        for k,file in files.items()\n",
    "    } for files in LABELLED_FILES\n",
    "}"
   ]
  },
  {
   "cell_type": "markdown",
   "metadata": {},
   "source": [
    "### Show"
   ]
  },
  {
   "cell_type": "code",
   "execution_count": 16,
   "metadata": {
    "ExecuteTime": {
     "end_time": "2021-04-21T19:04:24.647442Z",
     "start_time": "2021-04-21T19:04:24.622060Z"
    }
   },
   "outputs": [
    {
     "name": "stdout",
     "output_type": "stream",
     "text": [
      "Lang EN\n",
      "\n",
      "INPUT:\n",
      "{'description': 'the forecast Suggestion time of 5 rounds per day\\n'\n",
      "                'planning time\\n'\n",
      "                '1️⃣ 11 am\\n'\n",
      "                '2️⃣ 2 pm\\n'\n",
      "                '3️⃣ 5 pm\\n'\n",
      "                '4️⃣ 8 pm\\n'\n",
      "                '5️⃣ 9 pm\\n'\n",
      "                'Join link: https:rxce.in/#/register?r_code=X31T2A4W\\n'\n",
      "                'Code- X31T2A4W',\n",
      " 'recent_posts': ['Withrawal ✅😍',\n",
      "                  'The first round of red envelope participation conditions, '\n",
      "                  'the recharge is greater than 100rs or the cumulative amount '\n",
      "                  'of game transactions is greater than 1000rs\\n'\n",
      "                  'The second round of red envelope participation conditions, '\n",
      "                  'the recharge is greater than 500rs or the cumulative amount '\n",
      "                  'of game transactions is greater than 2000rs\\n'\n",
      "                  'The third round of red envelope participation conditions, '\n",
      "                  'the recharge is greater than 1000rs or the cumulative '\n",
      "                  'amount of game transactions is greater than 3000rs\\n'\n",
      "                  'If you meet these conditions, please click on him '\n",
      "                  'immediately after the event starts. His participation quota '\n",
      "                  'is limited.',\n",
      "                  'Invite to promote your link in Rxce. You only need to work '\n",
      "                  'hard for a month to achieve this effect. The commission '\n",
      "                  'rate of the platform is over 65%. If you ignore the '\n",
      "                  'commission, the commission will also ignore you. As much as '\n",
      "                  'you pay, you will gain much. Please work hard here. At the '\n",
      "                  'same time, the system has 3 rounds of red envelope '\n",
      "                  'activities every day. You must participate, transaction + '\n",
      "                  'commission + red envelope win + win + win🤝🤝\\n'\n",
      "                  '\\n'\n",
      "                  'https://rxce.in/#/register?r_code=X31T2A4W\\n'\n",
      "                  '\\n'\n",
      "                  'https://t.me/rxceincom/34382',\n",
      "                  'Follow steps for recharge successfully',\n",
      "                  'New Users Check @RXCECC FOR ALL INFORMATION about RXCE 👆 👆',\n",
      "                  'Invite to promote your link in Rxce. You only need to work '\n",
      "                  'hard for a month to achieve this effect. The commission '\n",
      "                  'rate of the platform is over 65%. If you ignore the '\n",
      "                  'commission, the commission will also ignore you. As much as '\n",
      "                  'you pay, you will gain much. Please work hard here. At the '\n",
      "                  'same time, the system has 3 rounds of red envelope '\n",
      "                  'activities every day. You must participate, transaction + '\n",
      "                  'commission + red envelope win + win + win🤝🤝\\n'\n",
      "                  '\\n'\n",
      "                  'https://rxce.in/#/register?r_code=X31T2A4W\\n'\n",
      "                  '\\n'\n",
      "                  'https://t.me/rxceincom/34382'],\n",
      " 'title': 'Rxce income01'}\n",
      "\n",
      "OUTPUT:\n",
      "{'category': {'Bets & Gambling': 0.28571428571429,\n",
      "              'Cryptocurrencies': 0.14285714285714,\n",
      "              'Investments': 0.42857142857143,\n",
      "              'Offers & Promotions': 0.14285714285714},\n",
      " 'lang_code': 'en'}\n"
     ]
    }
   ],
   "source": [
    "l = random.choice(list(labelled.keys()))\n",
    "\n",
    "i = random.randint(0, len(labelled[l]['input']))\n",
    "inp = labelled[l]['input'][i]\n",
    "out = labelled[l]['output'][i]\n",
    "\n",
    "print('Lang', l.upper(),)\n",
    "print('\\nINPUT:')\n",
    "pprint(inp)\n",
    "print('\\nOUTPUT:')\n",
    "pprint(out)"
   ]
  },
  {
   "cell_type": "markdown",
   "metadata": {},
   "source": [
    "### Random select"
   ]
  },
  {
   "cell_type": "code",
   "execution_count": 10,
   "metadata": {
    "ExecuteTime": {
     "end_time": "2021-04-21T18:19:28.590775Z",
     "start_time": "2021-04-21T18:19:28.573271Z"
    }
   },
   "outputs": [],
   "source": [
    "N = 1000\n",
    "\n",
    "selected = {}\n",
    "\n",
    "for l,data in labelled.items():\n",
    "    selected_ids = random.sample(range(len(data['input'])), N)\n",
    "    inp = filter_list(data['input'], selected_ids)\n",
    "    out = filter_list(data['output'], selected_ids)\n",
    "    selected[l] = [update_dict(i,o) for i,o in zip(inp, out)]\n",
    "\n"
   ]
  },
  {
   "cell_type": "code",
   "execution_count": null,
   "metadata": {},
   "outputs": [],
   "source": [
    "for l,d in selected.items():\n",
    "    print(l, len(d))"
   ]
  },
  {
   "cell_type": "markdown",
   "metadata": {},
   "source": [
    "### Save "
   ]
  },
  {
   "cell_type": "code",
   "execution_count": 17,
   "metadata": {
    "ExecuteTime": {
     "end_time": "2021-04-21T19:05:04.704467Z",
     "start_time": "2021-04-21T19:05:04.561918Z"
    }
   },
   "outputs": [],
   "source": [
    "for lang,sel in selected.items():\n",
    "    with open(f'data/processed/labelled_tgdata_{lang}_{today_str}.json', 'w') as f:\n",
    "        json.dump(sel, f)"
   ]
  },
  {
   "cell_type": "markdown",
   "metadata": {},
   "source": [
    "## Save data and configs"
   ]
  },
  {
   "cell_type": "code",
   "execution_count": 23,
   "metadata": {
    "ExecuteTime": {
     "end_time": "2021-04-20T17:15:16.869143Z",
     "start_time": "2021-04-20T17:15:16.819601Z"
    }
   },
   "outputs": [],
   "source": [
    "from lxml import etree"
   ]
  },
  {
   "cell_type": "markdown",
   "metadata": {},
   "source": [
    "### generate and save configs"
   ]
  },
  {
   "cell_type": "code",
   "execution_count": 24,
   "metadata": {
    "ExecuteTime": {
     "end_time": "2021-04-20T17:15:19.959405Z",
     "start_time": "2021-04-20T17:15:19.939011Z"
    }
   },
   "outputs": [],
   "source": [
    "def clean_topic(orig):\n",
    "    orig = re.split(' [–-] ', orig)[0].strip()\n",
    "    return orig"
   ]
  },
  {
   "cell_type": "code",
   "execution_count": 25,
   "metadata": {
    "ExecuteTime": {
     "end_time": "2021-04-20T17:15:20.217433Z",
     "start_time": "2021-04-20T17:15:20.193497Z"
    }
   },
   "outputs": [
    {
     "data": {
      "text/plain": [
       "50"
      ]
     },
     "execution_count": 25,
     "metadata": {},
     "output_type": "execute_result"
    }
   ],
   "source": [
    "TOPICS = \"\"\"\n",
    "    Art & Design\n",
    "    Bets & Gambling – includes sports bets\n",
    "    Books\n",
    "    Business & Entrepreneurship\n",
    "    Cars & Other Vehicles\n",
    "    Celebrities & Lifestyle\n",
    "    Cryptocurrencies\n",
    "    Culture & Events\n",
    "    Curious Facts\n",
    "    Directories of Channels & Bots\n",
    "    Drug Sale\n",
    "    Economy & Finance\n",
    "    Education\n",
    "    Erotic Content\n",
    "    Fashion & Beauty\n",
    "    Fitness\n",
    "    Forgery – includes fake documents, fake money, etc.\n",
    "    Food & Cooking\n",
    "    Foreign Language Learning\n",
    "    Hacked Accounts & Software – includes carding, passwords for subscription services, etc.\n",
    "    Health & Medicine\n",
    "    History\n",
    "    Hobbies & Activities\n",
    "    Home & Architecture\n",
    "    Humor & Memes\n",
    "    Investments\n",
    "    Job Listings\n",
    "    Kids & Parenting\n",
    "    Marketing & PR\n",
    "    Motivation & Self-development - includes inspirational quotes and poetry\n",
    "    Movies\n",
    "    Music\n",
    "    Offers & Promotions – includes products or services for sale, unless they fall under the newly added categories\n",
    "    Personal Data – includes doxxing, databases\n",
    "    Pets\n",
    "    Pirated Content – films, music, books, but not software\n",
    "    Politics & Incidents\n",
    "    Prostitution\n",
    "    Psychology & Relationships\n",
    "    Real Estate\n",
    "    Recreation & Entertainment\n",
    "    Religion & Spirituality\n",
    "    Science\n",
    "    Spam & Fake Followers – includes spam tools and services, boosting followers, likes, etc.\n",
    "    Sports – includes e-sports\n",
    "    Technology & Internet\n",
    "    Travel & Tourism\n",
    "    Video Games\n",
    "    Weapon Sale\n",
    "    Other\n",
    "\"\"\".strip().split('\\n')\n",
    "\n",
    "TOPICS = [clean_topic(t) for t in TOPICS]\n",
    "\n",
    "len(TOPICS)"
   ]
  },
  {
   "cell_type": "code",
   "execution_count": 26,
   "metadata": {
    "ExecuteTime": {
     "end_time": "2021-04-20T17:16:53.703034Z",
     "start_time": "2021-04-20T17:16:53.664146Z"
    }
   },
   "outputs": [],
   "source": [
    "xml = etree.Element('View')\n",
    "# headers\n",
    "_ = etree.SubElement(xml, \"Header\", size='4', value=f'$lang_code')\n",
    "# orig text\n",
    "orig_view = etree.SubElement(xml, 'View')\n",
    "_ = etree.SubElement(orig_view, \"Header\", size='4', value=f'$title')\n",
    "_ = etree.SubElement(orig_view, \"Header\", size='4', value=f'$description')\n",
    "_ = etree.SubElement(orig_view, 'Paragraphs', name=\"posts\", value=\"$recent_posts\", nameKey=\"type\", textKey=\"text\", layout=\"dialogue\")\n",
    "# translated\n",
    "translated_view = etree.SubElement(xml, 'View')\n",
    "_ = etree.SubElement(translated_view, \"Header\", size='4', value=f'$title_display')\n",
    "_ = etree.SubElement(translated_view, \"Header\", size='4', value=f'$description_display')\n",
    "_ = etree.SubElement(translated_view, 'Paragraphs', name=\"posts\", value=\"$recent_posts_display\", nameKey=\"type\", textKey=\"text\", layout=\"dialogue\")\n",
    "# primary\n",
    "_ = etree.SubElement(xml, \"Header\", size=\"6\",\n",
    "                          value=\"Primary topics\")\n",
    "_ = etree.SubElement(xml, \"Filter\", name=\"filter_primary\",\n",
    "                      toName='primary', hotkey=\"shift+f\",\n",
    "                      minlength=\"1\", )\n",
    "primary = etree.SubElement(xml, \"Choices\", name=\"primary\", toName=\"posts\",\n",
    "                          showInline=\"true\", choice='multiple', required='true')\n",
    "_ = [etree.SubElement(primary, 'Choice', value=s, )\n",
    "     for s in TOPICS]\n",
    "# secondary\n",
    "_ = etree.SubElement(xml, \"Header\", size=\"6\",\n",
    "                          value=\"Secondary topics\")\n",
    "_ = etree.SubElement(xml, \"Filter\", name=\"filter_secondary\",\n",
    "                      toName='secondary',\n",
    "                      minlength=\"1\", )\n",
    "secondary = etree.SubElement(xml, \"Choices\", name=\"secondary\", toName=\"posts\",\n",
    "                          showInline=\"true\", choice='multiple', required='false')\n",
    "_ = [etree.SubElement(secondary, 'Choice', value=s, ) for s in TOPICS]\n",
    "# pretty string\n",
    "etree.indent(xml, space='  ')\n",
    "config = etree.tostring(xml, pretty_print=True,).decode('utf-8')"
   ]
  },
  {
   "cell_type": "code",
   "execution_count": 27,
   "metadata": {
    "ExecuteTime": {
     "end_time": "2021-04-20T17:16:54.452452Z",
     "start_time": "2021-04-20T17:16:54.432320Z"
    }
   },
   "outputs": [
    {
     "name": "stdout",
     "output_type": "stream",
     "text": [
      "<View>\n",
      "  <Header size=\"4\" value=\"$lang_code\"/>\n",
      "  <View>\n",
      "    <Header size=\"4\" value=\"$title\"/>\n",
      "    <Header size=\"4\" value=\"$description\"/>\n",
      "    <Paragraphs name=\"posts\" value=\"$recent_posts\" nameKey=\"type\" textKey=\"text\" layout=\"dialogue\"/>\n",
      "  </View>\n",
      "  <View>\n",
      "    <Header size=\"4\" value=\"$title_display\"/>\n",
      "    <Header size=\"4\" value=\"$description_display\"/>\n",
      "    <Paragraphs name=\"posts\" value=\"$recent_posts_display\" nameKey=\"type\" textKey=\"text\" layout=\"dialogue\"/>\n",
      "  </View>\n",
      "  <Header size=\"6\" value=\"Primary topics\"/>\n",
      "  <Filter name=\"filter_primary\" toName=\"primary\" hotkey=\"shift+f\" minlength=\"1\"/>\n",
      "  <Choices name=\"primary\" toName=\"posts\" showInline=\"true\" choice=\"multiple\" required=\"true\">\n",
      "    <Choice value=\"Art &amp; Design\"/>\n",
      "    <Choice value=\"Bets &amp; Gambling\"/>\n",
      "    <Choice value=\"Books\"/>\n",
      "    <Choice value=\"Business &amp; Entrepreneurship\"/>\n",
      "    <Choice value=\"Cars &amp; Other Vehicles\"/>\n",
      "    <Choice value=\"Celebrities &amp; Lifestyle\"/>\n",
      "    <Choice value=\"Cryptocurrencies\"/>\n",
      "    <Choice value=\"Culture &amp; Events\"/>\n",
      "    <Choice value=\"Curious Facts\"/>\n",
      "    <Choice value=\"Directories of Channels &amp; Bots\"/>\n",
      "    <Choice value=\"Drug Sale\"/>\n",
      "    <Choice value=\"Economy &amp; Finance\"/>\n",
      "    <Choice value=\"Education\"/>\n",
      "    <Choice value=\"Erotic Content\"/>\n",
      "    <Choice value=\"Fashion &amp; Beauty\"/>\n",
      "    <Choice value=\"Fitness\"/>\n",
      "    <Choice value=\"Forgery\"/>\n",
      "    <Choice value=\"Food &amp; Cooking\"/>\n",
      "    <Choice value=\"Foreign Language Learning\"/>\n",
      "    <Choice value=\"Hacked Accounts &amp; Software\"/>\n",
      "    <Choice value=\"Health &amp; Medicine\"/>\n",
      "    <Choice value=\"History\"/>\n",
      "    <Choice value=\"Hobbies &amp; Activities\"/>\n",
      "    <Choice value=\"Home &amp; Architecture\"/>\n",
      "    <Choice value=\"Humor &amp; Memes\"/>\n",
      "    <Choice value=\"Investments\"/>\n",
      "    <Choice value=\"Job Listings\"/>\n",
      "    <Choice value=\"Kids &amp; Parenting\"/>\n",
      "    <Choice value=\"Marketing &amp; PR\"/>\n",
      "    <Choice value=\"Motivation &amp; Self-development\"/>\n",
      "    <Choice value=\"Movies\"/>\n",
      "    <Choice value=\"Music\"/>\n",
      "    <Choice value=\"Offers &amp; Promotions\"/>\n",
      "    <Choice value=\"Personal Data\"/>\n",
      "    <Choice value=\"Pets\"/>\n",
      "    <Choice value=\"Pirated Content\"/>\n",
      "    <Choice value=\"Politics &amp; Incidents\"/>\n",
      "    <Choice value=\"Prostitution\"/>\n",
      "    <Choice value=\"Psychology &amp; Relationships\"/>\n",
      "    <Choice value=\"Real Estate\"/>\n",
      "    <Choice value=\"Recreation &amp; Entertainment\"/>\n",
      "    <Choice value=\"Religion &amp; Spirituality\"/>\n",
      "    <Choice value=\"Science\"/>\n",
      "    <Choice value=\"Spam &amp; Fake Followers\"/>\n",
      "    <Choice value=\"Sports\"/>\n",
      "    <Choice value=\"Technology &amp; Internet\"/>\n",
      "    <Choice value=\"Travel &amp; Tourism\"/>\n",
      "    <Choice value=\"Video Games\"/>\n",
      "    <Choice value=\"Weapon Sale\"/>\n",
      "    <Choice value=\"Other\"/>\n",
      "  </Choices>\n",
      "  <Header size=\"6\" value=\"Secondary topics\"/>\n",
      "  <Filter name=\"filter_secondary\" toName=\"secondary\" minlength=\"1\"/>\n",
      "  <Choices name=\"secondary\" toName=\"posts\" showInline=\"true\" choice=\"multiple\" required=\"false\">\n",
      "    <Choice value=\"Art &amp; Design\"/>\n",
      "    <Choice value=\"Bets &amp; Gambling\"/>\n",
      "    <Choice value=\"Books\"/>\n",
      "    <Choice value=\"Business &amp; Entrepreneurship\"/>\n",
      "    <Choice value=\"Cars &amp; Other Vehicles\"/>\n",
      "    <Choice value=\"Celebrities &amp; Lifestyle\"/>\n",
      "    <Choice value=\"Cryptocurrencies\"/>\n",
      "    <Choice value=\"Culture &amp; Events\"/>\n",
      "    <Choice value=\"Curious Facts\"/>\n",
      "    <Choice value=\"Directories of Channels &amp; Bots\"/>\n",
      "    <Choice value=\"Drug Sale\"/>\n",
      "    <Choice value=\"Economy &amp; Finance\"/>\n",
      "    <Choice value=\"Education\"/>\n",
      "    <Choice value=\"Erotic Content\"/>\n",
      "    <Choice value=\"Fashion &amp; Beauty\"/>\n",
      "    <Choice value=\"Fitness\"/>\n",
      "    <Choice value=\"Forgery\"/>\n",
      "    <Choice value=\"Food &amp; Cooking\"/>\n",
      "    <Choice value=\"Foreign Language Learning\"/>\n",
      "    <Choice value=\"Hacked Accounts &amp; Software\"/>\n",
      "    <Choice value=\"Health &amp; Medicine\"/>\n",
      "    <Choice value=\"History\"/>\n",
      "    <Choice value=\"Hobbies &amp; Activities\"/>\n",
      "    <Choice value=\"Home &amp; Architecture\"/>\n",
      "    <Choice value=\"Humor &amp; Memes\"/>\n",
      "    <Choice value=\"Investments\"/>\n",
      "    <Choice value=\"Job Listings\"/>\n",
      "    <Choice value=\"Kids &amp; Parenting\"/>\n",
      "    <Choice value=\"Marketing &amp; PR\"/>\n",
      "    <Choice value=\"Motivation &amp; Self-development\"/>\n",
      "    <Choice value=\"Movies\"/>\n",
      "    <Choice value=\"Music\"/>\n",
      "    <Choice value=\"Offers &amp; Promotions\"/>\n",
      "    <Choice value=\"Personal Data\"/>\n",
      "    <Choice value=\"Pets\"/>\n",
      "    <Choice value=\"Pirated Content\"/>\n",
      "    <Choice value=\"Politics &amp; Incidents\"/>\n",
      "    <Choice value=\"Prostitution\"/>\n",
      "    <Choice value=\"Psychology &amp; Relationships\"/>\n",
      "    <Choice value=\"Real Estate\"/>\n",
      "    <Choice value=\"Recreation &amp; Entertainment\"/>\n",
      "    <Choice value=\"Religion &amp; Spirituality\"/>\n",
      "    <Choice value=\"Science\"/>\n",
      "    <Choice value=\"Spam &amp; Fake Followers\"/>\n",
      "    <Choice value=\"Sports\"/>\n",
      "    <Choice value=\"Technology &amp; Internet\"/>\n",
      "    <Choice value=\"Travel &amp; Tourism\"/>\n",
      "    <Choice value=\"Video Games\"/>\n",
      "    <Choice value=\"Weapon Sale\"/>\n",
      "    <Choice value=\"Other\"/>\n",
      "  </Choices>\n",
      "</View>\n",
      "\n"
     ]
    }
   ],
   "source": [
    "with open(f'data/processed/labelling_config_{today_str}.xml', 'w') as f:\n",
    "    f.write(config)\n",
    "\n",
    "print(config)"
   ]
  },
  {
   "cell_type": "code",
   "execution_count": null,
   "metadata": {},
   "outputs": [],
   "source": []
  }
 ],
 "metadata": {
  "kernelspec": {
   "display_name": "tgcat",
   "language": "python",
   "name": "tgcat"
  },
  "language_info": {
   "codemirror_mode": {
    "name": "ipython",
    "version": 3
   },
   "file_extension": ".py",
   "mimetype": "text/x-python",
   "name": "python",
   "nbconvert_exporter": "python",
   "pygments_lexer": "ipython3",
   "version": "3.7.9"
  },
  "notify_time": "10",
  "toc": {
   "base_numbering": 1,
   "nav_menu": {},
   "number_sections": true,
   "sideBar": true,
   "skip_h1_title": false,
   "title_cell": "Table of Contents",
   "title_sidebar": "Contents",
   "toc_cell": false,
   "toc_position": {},
   "toc_section_display": true,
   "toc_window_display": true
  }
 },
 "nbformat": 4,
 "nbformat_minor": 5
}
