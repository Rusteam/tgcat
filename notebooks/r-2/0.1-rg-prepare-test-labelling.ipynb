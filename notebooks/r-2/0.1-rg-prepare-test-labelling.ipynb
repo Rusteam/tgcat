{
 "cells": [
  {
   "cell_type": "markdown",
   "id": "disciplinary-offset",
   "metadata": {},
   "source": [
    "# Prepare test data for annotation"
   ]
  },
  {
   "cell_type": "code",
   "execution_count": 1,
   "id": "structured-network",
   "metadata": {
    "ExecuteTime": {
     "end_time": "2021-05-26T05:44:10.884630Z",
     "start_time": "2021-05-26T05:44:10.188539Z"
    }
   },
   "outputs": [],
   "source": [
    "%load_ext autoreload\n",
    "%autoreload 2\n",
    "%matplotlib inline\n",
    "#standard libs\n",
    "import os, sys\n",
    "from pathlib import Path\n",
    "from pprint import pprint\n",
    "import random\n",
    "import json\n",
    "import itertools\n",
    "from datetime import datetime as dt\n",
    "# ds libs\n",
    "import pandas as pd\n",
    "import numpy as np\n",
    "import matplotlib.pyplot as plt\n",
    "from tqdm import tqdm, tqdm_notebook\n",
    "# custom path\n",
    "os.chdir('../..')"
   ]
  },
  {
   "cell_type": "code",
   "execution_count": 2,
   "id": "interpreted-expression",
   "metadata": {
    "ExecuteTime": {
     "end_time": "2021-05-26T05:44:11.355547Z",
     "start_time": "2021-05-26T05:44:10.886209Z"
    }
   },
   "outputs": [],
   "source": [
    "from collections import Counter\n",
    "import re\n",
    "\n",
    "import matplotlib.pyplot as plt\n",
    "import seaborn as sns"
   ]
  },
  {
   "cell_type": "code",
   "execution_count": 3,
   "id": "adjustable-criterion",
   "metadata": {
    "ExecuteTime": {
     "end_time": "2021-05-26T05:44:12.374917Z",
     "start_time": "2021-05-26T05:44:11.357329Z"
    }
   },
   "outputs": [],
   "source": [
    "\n",
    "from src.train.predict import prepare_text, load_models, load_test_file, format_text, predict_language\n"
   ]
  },
  {
   "cell_type": "code",
   "execution_count": 4,
   "id": "continental-manhattan",
   "metadata": {
    "ExecuteTime": {
     "end_time": "2021-05-26T05:44:12.397904Z",
     "start_time": "2021-05-26T05:44:12.376367Z"
    }
   },
   "outputs": [],
   "source": [
    "get_file_lang = lambda fp: Path(fp).stem.split('-')[2]\n",
    "\n",
    "get_translated_file = lambda fp: str(Path(fp).parent.parent / \"translated\" / f\"{Path(fp).stem}-translated.txt\")"
   ]
  },
  {
   "cell_type": "code",
   "execution_count": 5,
   "id": "potential-turner",
   "metadata": {
    "ExecuteTime": {
     "end_time": "2021-05-26T05:44:12.421718Z",
     "start_time": "2021-05-26T05:44:12.399403Z"
    }
   },
   "outputs": [
    {
     "name": "stdout",
     "output_type": "stream",
     "text": [
      "20210526\n"
     ]
    }
   ],
   "source": [
    "today_str = dt.strftime(dt.today(), '%Y%m%d')\n",
    "print(today_str)"
   ]
  },
  {
   "cell_type": "markdown",
   "id": "confirmed-dependence",
   "metadata": {},
   "source": [
    "## New randomly selected tasks"
   ]
  },
  {
   "cell_type": "code",
   "execution_count": 7,
   "id": "geographic-steps",
   "metadata": {
    "ExecuteTime": {
     "end_time": "2021-05-26T05:44:22.797569Z",
     "start_time": "2021-05-26T05:44:22.771418Z"
    }
   },
   "outputs": [],
   "source": [
    "FILES = [\n",
    "    'data/external/r-2/dc0421-input/original/dc0421-input-ru.txt',\n",
    "    'data/external/r-2/dc0421-input/original/dc0421-input-en.txt',\n",
    "    'data/external/r-2/dc0421-input/original/dc0421-input-ar.txt',\n",
    "    'data/external/r-2/dc0421-input/original/dc0421-input-fa.txt',\n",
    "    'data/external/r-2/dc0421-input/original/dc0421-input-uz.txt',\n",
    "]\n",
    "N = 20000"
   ]
  },
  {
   "cell_type": "markdown",
   "id": "boring-medication",
   "metadata": {},
   "source": [
    "### Load"
   ]
  },
  {
   "cell_type": "code",
   "execution_count": 8,
   "id": "cardiac-saver",
   "metadata": {
    "ExecuteTime": {
     "end_time": "2021-05-26T05:44:23.470100Z",
     "start_time": "2021-05-26T05:44:23.438511Z"
    }
   },
   "outputs": [],
   "source": [
    "def update_dict(src_dict,dest_dict):\n",
    "    src_dict.update(dest_dict)\n",
    "    return src_dict\n",
    "\n",
    "\n",
    "def get_task_stats(tasks):\n",
    "    print('# tasks', len(tasks))\n",
    "    by_lang = Counter(t['lang_code'] for t in tasks)\n",
    "    pprint(by_lang)\n",
    "\n",
    "def filter_list(src, selected):\n",
    "    return [d for i,d in enumerate(src) if i in selected]\n",
    "\n",
    "\n",
    "def load_sample(file, size=100):\n",
    "    lang = get_file_lang(file)\n",
    "    orig = load_test_file(file, verbose=False)\n",
    "    n = len(orig)\n",
    "    selected_ids = random.sample(range(n), min(size, n))\n",
    "    orig = filter_list(orig, selected_ids)\n",
    "#     if lang not in ['en','ru']:\n",
    "    translated_file = get_translated_file(file)\n",
    "    translated = load_test_file(translated_file, verbose=False)\n",
    "    translated = filter_list(translated, selected_ids)\n",
    "    assert len(translated) == len(orig)\n",
    "    orig = [\n",
    "        update_dict(o, {\n",
    "            'title_display': t['title'],\n",
    "            'description_display': t['description'],\n",
    "            'recent_posts_display': t['recent_posts'],\n",
    "    }) for o,t in zip(orig, translated)]\n",
    "#     else:\n",
    "#         orig = [\n",
    "#             update_dict(o, {\n",
    "#                 'title_display': \"\",\n",
    "#                 'description_display': \"\",\n",
    "#                 'recent_posts_display': [],\n",
    "#         }) for o in orig]\n",
    "    return orig"
   ]
  },
  {
   "cell_type": "code",
   "execution_count": 9,
   "id": "historical-geometry",
   "metadata": {
    "ExecuteTime": {
     "end_time": "2021-05-26T05:44:47.936299Z",
     "start_time": "2021-05-26T05:44:24.090488Z"
    }
   },
   "outputs": [
    {
     "name": "stdout",
     "output_type": "stream",
     "text": [
      "ru 13134\n",
      "en 14319\n",
      "ar 14324\n",
      "fa 20000\n",
      "uz 2446\n"
     ]
    }
   ],
   "source": [
    "test_data = {\n",
    "    get_file_lang(f): load_sample(f, size=N)\n",
    "    for f in FILES\n",
    "            }\n",
    "\n",
    "for l,d in test_data.items():\n",
    "    print(l, len(d))"
   ]
  },
  {
   "cell_type": "markdown",
   "id": "polish-consolidation",
   "metadata": {},
   "source": [
    "### eda"
   ]
  },
  {
   "cell_type": "markdown",
   "id": "former-reynolds",
   "metadata": {},
   "source": [
    "#### Average num posts"
   ]
  },
  {
   "cell_type": "code",
   "execution_count": 10,
   "id": "baking-wyoming",
   "metadata": {
    "ExecuteTime": {
     "end_time": "2021-05-26T05:44:48.058845Z",
     "start_time": "2021-05-26T05:44:47.938022Z"
    }
   },
   "outputs": [],
   "source": [
    "posts = [(\n",
    "    lang, \n",
    "    one['title'], \n",
    "    one['subscribers'],\n",
    "    len(one['recent_posts']),\n",
    ") for lang,channels in test_data.items() for one in channels ]\n",
    "\n",
    "posts = pd.DataFrame(posts, columns=['lang_code', 'title', 'n_subscribers', 'n_posts'])"
   ]
  },
  {
   "cell_type": "code",
   "execution_count": 11,
   "id": "unable-solid",
   "metadata": {
    "ExecuteTime": {
     "end_time": "2021-05-26T05:44:48.283484Z",
     "start_time": "2021-05-26T05:44:48.060753Z"
    }
   },
   "outputs": [
    {
     "data": {
      "image/png": "[encoded data removed]",
      "text/plain": [
       "<Figure size 432x288 with 1 Axes>"
      ]
     },
     "metadata": {
      "needs_background": "light"
     },
     "output_type": "display_data"
    }
   ],
   "source": [
    "sns.boxplot(x='lang_code', y='n_subscribers', data=posts, );\n",
    "plt.ylim(0, 50000);"
   ]
  },
  {
   "cell_type": "code",
   "execution_count": 12,
   "id": "amateur-angel",
   "metadata": {
    "ExecuteTime": {
     "end_time": "2021-05-26T05:44:48.470990Z",
     "start_time": "2021-05-26T05:44:48.284865Z"
    }
   },
   "outputs": [
    {
     "data": {
      "image/png": "[encoded data removed]",
      "text/plain": [
       "<Figure size 432x288 with 1 Axes>"
      ]
     },
     "metadata": {
      "needs_background": "light"
     },
     "output_type": "display_data"
    }
   ],
   "source": [
    "sns.boxplot(x='lang_code', y='n_posts', data=posts, );\n",
    "plt.ylim(0, 15);"
   ]
  },
  {
   "cell_type": "markdown",
   "id": "funky-croatia",
   "metadata": {},
   "source": [
    "### explore"
   ]
  },
  {
   "cell_type": "code",
   "execution_count": 31,
   "id": "compact-letters",
   "metadata": {
    "ExecuteTime": {
     "end_time": "2021-05-01T08:46:57.716094Z",
     "start_time": "2021-05-01T08:46:57.666566Z"
    },
    "scrolled": false
   },
   "outputs": [
    {
     "name": "stdout",
     "output_type": "stream",
     "text": [
      "Language AR\n",
      "{'counters': {'audios': 0,\n",
      "              'files': 50,\n",
      "              'photos': 5072,\n",
      "              'posts': 34042,\n",
      "              'videos': 1016},\n",
      " 'description': 'قناة الاعلامي حسين مرتضى الرسمية على تلغرام',\n",
      " 'description_display': 'Media Hussein Mortada official channel on Telegram',\n",
      " 'recent_posts': [{'text': '🔴 وزارة الخارجية والمغتربين: تدين الجمهورية '\n",
      "                           'العربية السورية بأقوى العبارات النهج العدواني الذي '\n",
      "                           'تجسد في أعمال الدورة الـ25 لمؤتمر الدول الأطراف في '\n",
      "                           'منظمة حظر الأسلحة الكيميائية من خلال قيام الدول '\n",
      "                           'الغربية وخاصة الولايات المتحدة وبريطانيا وفرنسا '\n",
      "                           'بممارسة أبشع أساليب الابتزاز والتهديد والبلطجة '\n",
      "                           'والضغوط لتمرير قرار غربي ضد سورية في سابقة خطيرة '\n",
      "                           'في تاريخ المنظمة.\\n'\n",
      "                           '\\n'\n",
      "                           '■ الخارجية: 45% فقط من الدول الأطراف في اتفاقية '\n",
      "                           'حظر الأسلحة الكيميائية صوتت لصالح هذا القرار غير '\n",
      "                           'الشرعي من أصل 193 دولة مايعكس حقيقة أن القرار لا '\n",
      "                           'يمثل أغلبية الدول الاعضاء في المنظمة ويتنافى مع '\n",
      "                           'اجراءاتها التي اعتادت عليها في اتخاذ القرارات '\n",
      "                           'بتوافق الآراء منذ تأسيسها عام 1997.',\n",
      "                   'type': 'text'},\n",
      "                  {'text': 'الجهات المختصة تعثر على أسلحة وذخائر من مخلفات '\n",
      "                           'الإرهابيين بريف حمص الشرقي بينها 221 قذيفة هاون و '\n",
      "                           '262 بندقية',\n",
      "                   'type': 'photo'},\n",
      "                  {'text': 'موقع \"غلوب & ميل\": بعد أعوام من دفع ملايين '\n",
      "                           'الدولارات لها شهرياً.. #كندا تنهي تمويلها لمنظمة '\n",
      "                           '#الخوذ_البيضاء.\\n'\n",
      "                           '\\n'\n",
      "                           'ومنظمة الخوذ البيضاء هي إحدى المنظمات المرتبطة '\n",
      "                           'بتنظيمي \"جبهة النصرة\" و\"جند الأقصى\" الإرهابيين، '\n",
      "                           'والمتورطة بفبركة مسرحيات الكيميائي في #سورية.. وقد '\n",
      "                           'أنشأها ضابط الاستخبارات البريطاني جيمس لومزرييه '\n",
      "                           'الذي انتحر في #تركيا عام 2019',\n",
      "                   'type': 'photo'},\n",
      "                  {'duration': 183,\n",
      "                   'file_name': 'مرسوم مركبات L.mp4',\n",
      "                   'file_size': 35162953,\n",
      "                   'text': 'الرئيس الأسد يصدر قانوناً يساهم في تخفيف مشكلة نقل '\n",
      "                           'الركاب، وخلقِ فرص عملٍ جديدة.\\n'\n",
      "                           '\\n'\n",
      "                           'أصدر الرئيس #بشار_الأسد القانون رقم 16 للعام 2021 '\n",
      "                           'الذي يسمحُ للمركباتِ الصغيرة، والمتوسطة (السياحية '\n",
      "                           '– الميكرو باصات) المسجلة بالفئة الخاصة، والتي لا '\n",
      "                           'يزيد عدد مقاعدها عن عشرةِ مقاعد بنقل الركّاب '\n",
      "                           'بواسطة نظام #التطبيق_الإلكتروني، و بالترخيص لشركات '\n",
      "                           'خاصة لنقل الركاب وفق هذا النظام. \\n'\n",
      "                           'يُساهم القانونُ الجديد في تخفيفِ مشكلة #نقل_الركاب '\n",
      "                           'بدون زيادة في أعداد المركبات، ويُوفّر الكثير من '\n",
      "                           'الوقت على المواطنين الراغبين في الاستفادة من هذه '\n",
      "                           'الخدمة، كما يؤمّن #فرص_عمل جديدة، و #دخل_إضافي '\n",
      "                           'لأصحاب المركباتِ الخاصة.\\n'\n",
      "                           'وينظّم الـ #قانون خدمة النقل للمركباتِ الخاصة '\n",
      "                           'ويضعها في إطارها القانوني، بهدفِ الحدّ من عشوائية '\n",
      "                           'هذه الخدمة ومخاطرها، وتأمين #حقوق الركّاب وأصحاب '\n",
      "                           'المركبات وضمان سلامتهم، بالإضافة إلى وضعه #ضوابط '\n",
      "                           'تحدّد المسؤوليات. \\n'\n",
      "                           'تفاصيل أخرى عن القانون في هذا الفيديو.. \\n'\n",
      "                           '\\n'\n",
      "                           'نص القانون على الرابط:\\n'\n",
      "                           'http://www.sana.sy/?p=1364237\\n'\n",
      "                           '\\n'\n",
      "                           '@syrianpresidency',\n",
      "                   'type': 'video'},\n",
      "                  {'link_preview': {'description': 'الفيديو للانفجار الذي حصل '\n",
      "                                                   'في احد مصانع كيان الاحتلال '\n",
      "                                                   'الاسرائيلي اذا كان كما '\n",
      "                                                   'يدعي الصهاينة انه ضمن '\n",
      "                                                   'تجربة ، لماذا لم يتم '\n",
      "                                                   'الاعلان عنه مسبقا؟ ولماذا '\n",
      "                                                   'لم تصدر وزارة الحرب تحذيرا '\n",
      "                                                   'قبل التفجير، العدو يكذب '\n",
      "                                                   'وحصل حدث امني داخل المصنع',\n",
      "                                    'title': 'hoseinmortada حسين مرتضى',\n",
      "                                    'url': 'https://twitter.com/hoseinmortada/status/1384843185843810308?s=21'},\n",
      "                   'text': 'https://twitter.com/hoseinmortada/status/1384843185843810308?s=21',\n",
      "                   'type': 'text'},\n",
      "                  {'text': '#منكفي_معك', 'type': 'photo'},\n",
      "                  {'text': 'صحيفة هاآرتس: انفجار ضخم يهز مصنع صواريخ في كيان '\n",
      "                           'الإحتلال الإسرائيلي',\n",
      "                   'type': 'text'},\n",
      "                  {'text': '#سورية 🇸🇾 #الاستحقاق_الرئاسي ٢٠٢١\\n'\n",
      "                           'رئيس مجلس الشعب يعلن تبلغ المجلس من قبل المحكمة '\n",
      "                           'الدستورية العليا بتقديم السيد بشار حافظ الأسد طلب '\n",
      "                           'ترشيح إلى منصب رئيس الجمهورية وهو سادس طلب ترشيح '\n",
      "                           'في الانتخابات الرئاسية.',\n",
      "                   'type': 'text'}],\n",
      " 'recent_posts_display': [{'text': '🔴 The Ministry of Foreign Affairs and '\n",
      "                                   'Expatriates: The Syrian Arab Republic '\n",
      "                                   'condemns in the strongest terms the '\n",
      "                                   'aggressive approach embodied in the work '\n",
      "                                   'of the 25th session of the Conference of '\n",
      "                                   'the States Parties to the Organization for '\n",
      "                                   'the Prohibition of Chemical Weapons '\n",
      "                                   'through the practice of the most heinous '\n",
      "                                   'methods of extortion, threats, bullying '\n",
      "                                   'and pressure to pass a Western decision '\n",
      "                                   'against Syria in the Western countries, '\n",
      "                                   'especially the United States, Britain and '\n",
      "                                   'France. A dangerous precedent in the '\n",
      "                                   'history of the organization. Foreign '\n",
      "                                   'Ministry: Only 45% of the states parties '\n",
      "                                   'to the Chemical Weapons Convention voted '\n",
      "                                   'in favor of this illegal decision out of '\n",
      "                                   '193 countries, which reflects the fact '\n",
      "                                   'that the decision does not represent the '\n",
      "                                   'majority of the member states of the '\n",
      "                                   'organization and is inconsistent with '\n",
      "                                   'their procedures that they are accustomed '\n",
      "                                   'to in taking decisions by consensus since '\n",
      "                                   'its establishment in 1997 .',\n",
      "                           'type': 'text'},\n",
      "                          {'text': 'Competent authorities find weapons and '\n",
      "                                   'ammunition left by terrorists in the '\n",
      "                                   'eastern countryside of Homs, including 221 '\n",
      "                                   'mortar shells and 262 rifles.',\n",
      "                           'type': 'photo'},\n",
      "                          {'text': 'The Globe &amp; Mail site: After years of '\n",
      "                                   'paying it millions of dollars a month, # '\n",
      "                                   'Canada is ending its funding for the White '\n",
      "                                   'Helmets organization. The White Helmets '\n",
      "                                   'Organization is one of the organizations '\n",
      "                                   'associated with the &quot;Al-Nusra '\n",
      "                                   'Front&quot; and &quot;Jund Al-Aqsa&quot; '\n",
      "                                   'terrorist organizations, and it is '\n",
      "                                   'involved in fabricating the plays of the '\n",
      "                                   'chemical in # Syria .. It was established '\n",
      "                                   'by the British intelligence officer James '\n",
      "                                   'Lomzerier who committed suicide in # '\n",
      "                                   'Turkey in 2019',\n",
      "                           'type': 'photo'},\n",
      "                          {'duration': 183,\n",
      "                           'file_name': 'مرسوم مركبات L.mp4',\n",
      "                           'file_size': 35162953,\n",
      "                           'text': 'President al-Assad issues a law that '\n",
      "                                   'contributes to easing the problem of '\n",
      "                                   'transporting passengers and creating new '\n",
      "                                   'job opportunities. President Bashar '\n",
      "                                   'Al-Assad issued Law No. 16 of 2021, which '\n",
      "                                   'allows small and medium vehicles (tourist '\n",
      "                                   '- microbuses) registered in the Special '\n",
      "                                   'Category, and whose seats do not exceed '\n",
      "                                   'ten seats, to transport passengers through '\n",
      "                                   'the electronic application system, and to '\n",
      "                                   'license private companies to transport '\n",
      "                                   'passengers according to this system. The '\n",
      "                                   'new law contributes to alleviating the '\n",
      "                                   'problem of passenger transport without '\n",
      "                                   'increasing the number of vehicles, and '\n",
      "                                   'saves a lot of time for citizens wishing '\n",
      "                                   'to benefit from this service, and also '\n",
      "                                   'provides new job opportunities and '\n",
      "                                   'additional income for owners of private '\n",
      "                                   'vehicles. The law regulates the '\n",
      "                                   'transportation service for private '\n",
      "                                   'vehicles and places it within its legal '\n",
      "                                   'framework, with the aim of limiting the '\n",
      "                                   'randomness of this service and its risks, '\n",
      "                                   'securing the rights of passengers and '\n",
      "                                   'vehicle owners and ensuring their safety, '\n",
      "                                   'in addition to setting controls defining '\n",
      "                                   'responsibilities. More details about the '\n",
      "                                   'law in this video .. The text of the law '\n",
      "                                   'at the link: http://www.sana.sy/?p=1364237 '\n",
      "                                   '@syrianpresidency',\n",
      "                           'type': 'video'},\n",
      "                          {'link_preview': {'description': 'The video of the '\n",
      "                                                           'explosion that '\n",
      "                                                           'took place in one '\n",
      "                                                           'of the factories '\n",
      "                                                           'of the Israeli '\n",
      "                                                           'occupation entity, '\n",
      "                                                           'if it was, as the '\n",
      "                                                           'Zionists claim, '\n",
      "                                                           'part of an '\n",
      "                                                           'experiment, why '\n",
      "                                                           'was it not '\n",
      "                                                           'announced in '\n",
      "                                                           'advance? And why '\n",
      "                                                           'did the Ministry '\n",
      "                                                           'of War not issue a '\n",
      "                                                           'warning before the '\n",
      "                                                           'bombing, the enemy '\n",
      "                                                           'is lying, and a '\n",
      "                                                           'security event '\n",
      "                                                           'took place inside '\n",
      "                                                           'the factory?',\n",
      "                                            'title': 'hoseinmortada Hussain '\n",
      "                                                     'Mortada',\n",
      "                                            'url': 'https://twitter.com/hoseinmortada/status/1384843185843810308?s=21'},\n",
      "                           'text': 'https://twitter.com/hoseinmortada/status/1384843185843810308?s=21',\n",
      "                           'type': 'text'},\n",
      "                          {'text': '#Beautiful_with you', 'type': 'photo'},\n",
      "                          {'text': 'Ha&#39;aretz newspaper: A huge explosion '\n",
      "                                   'rocked a missile factory in the Israeli '\n",
      "                                   'occupation entity',\n",
      "                           'type': 'text'},\n",
      "                          {'text': '# Syria 🇸🇾 # Presidential Merit 2021 The '\n",
      "                                   'Speaker of the People&#39;s Assembly '\n",
      "                                   'announces that the Council is informed by '\n",
      "                                   'the Supreme Constitutional Court that Mr. '\n",
      "                                   'Bashar Hafez al-Assad has submitted a '\n",
      "                                   'candidacy application for the post of '\n",
      "                                   'President of the Republic, which is the '\n",
      "                                   'sixth request for nomination in the '\n",
      "                                   'presidential elections.',\n",
      "                           'type': 'text'}],\n",
      " 'subscribers': 2930,\n",
      " 'title': 'الاعلامي حسين مرتضى',\n",
      " 'title_display': 'Journalist Hussein Mortada'}\n"
     ]
    }
   ],
   "source": [
    "l = random.choice(list(test_data.keys()))\n",
    "d = random.choice(test_data[l])\n",
    "\n",
    "print(f\"Language {l.upper()}\")\n",
    "pprint(d)"
   ]
  },
  {
   "cell_type": "markdown",
   "id": "subject-franchise",
   "metadata": {},
   "source": [
    "### Convert to tasks"
   ]
  },
  {
   "cell_type": "code",
   "execution_count": 15,
   "id": "premier-ecuador",
   "metadata": {
    "ExecuteTime": {
     "end_time": "2021-04-25T18:44:18.934831Z",
     "start_time": "2021-04-25T18:44:18.916069Z"
    }
   },
   "outputs": [],
   "source": [
    "tasks = [update_dict(one, {'lang_code':lang}) for lang,channels in test_data.items() for one in channels]\n",
    "\n"
   ]
  },
  {
   "cell_type": "code",
   "execution_count": 16,
   "id": "fallen-parade",
   "metadata": {
    "ExecuteTime": {
     "end_time": "2021-04-25T18:44:19.338261Z",
     "start_time": "2021-04-25T18:44:19.316075Z"
    }
   },
   "outputs": [
    {
     "name": "stdout",
     "output_type": "stream",
     "text": [
      "# tasks 600\n",
      "Counter({'ar': 200, 'fa': 200, 'uz': 200})\n"
     ]
    }
   ],
   "source": [
    "get_task_stats(tasks)"
   ]
  },
  {
   "cell_type": "code",
   "execution_count": 17,
   "id": "portuguese-excess",
   "metadata": {
    "ExecuteTime": {
     "end_time": "2021-04-25T18:44:21.488709Z",
     "start_time": "2021-04-25T18:44:21.459901Z"
    }
   },
   "outputs": [
    {
     "data": {
      "text/plain": [
       "{'title': '• ٢٨ فبراير •',\n",
       " 'description': '‘لكنَّ الله أحنّ .\\U0001f90d\\n•\\n\\n@Reyammkm_bot',\n",
       " 'subscribers': 1040,\n",
       " 'counters': {'posts': 1569,\n",
       "  'photos': 952,\n",
       "  'videos': 15,\n",
       "  'audios': 0,\n",
       "  'files': 0},\n",
       " 'recent_posts': [{'type': 'photo', 'text': '-زهرو 🌸'},\n",
       "  {'type': 'text',\n",
       "   'text': '-أبعدنا يا الله عن كل شئ  يغيرنا\\nويخطف ضحكتنا و فرحتنا ويؤذي قلوبنا وأملأنا يارب صبرآ وسعادة وراحة تغنينا عن كل شي'},\n",
       "  {'type': 'text',\n",
       "   'text': 'لو خُلِقتُ شعور لوددت أن أكون طمأنينة 💙✨                   \\u200f﮼بغداد'},\n",
       "  {'type': 'text', 'text': '\\u200f\"أقسى إنفعالاتها.. سكوتها\".'},\n",
       "  {'type': 'photo', 'text': '-اللهم خيراً يصاحب هذه الجمعة ⭐️'},\n",
       "  {'type': 'text', 'text': '-اللهم أُمي في كُل رمضان 🤲🏻🌙'},\n",
       "  {'type': 'text',\n",
       "   'text': 'و كان لديها من اليقين ما يملأ سبع سموات، حتى استجاب الله لها❤️'},\n",
       "  {'type': 'text',\n",
       "   'text': 'هم يريدون أن يروك تُبلي حسناً ، ولكن ليس أفضل منهم ، تذكر ذلك'},\n",
       "  {'type': 'video',\n",
       "   'text': 'مبارك عليكم شهر الطاعةة والغفران 💕🌙\\n#ريام_كريم',\n",
       "   'duration': 44,\n",
       "   'file_name': 'IMG_7295.MP4',\n",
       "   'file_size': 5309058}],\n",
       " 'title_display': 'February 28',\n",
       " 'description_display': 'But God is compassionate. \\U0001f90d • @Reyammkmbot',\n",
       " 'recent_posts_display': [{'type': 'photo', 'text': 'Poison'},\n",
       "  {'type': 'text',\n",
       "   'text': '- O God, keep us away from everything that changes us, hijacks our laughs and joys, hurts our hearts, and fills us, Lord, with patience, happiness and comfort that enriches us with everything.'},\n",
       "  {'type': 'text',\n",
       "   'text': 'If I had created a feeling, I would have been reassuring 💙✨ Baghdad'},\n",
       "  {'type': 'text',\n",
       "   'text': '&quot;Her hardest emotions ... her silence.&quot;'},\n",
       "  {'type': 'photo', 'text': '- Oh God, goodness accompanies this Friday'},\n",
       "  {'type': 'text', 'text': '- Oh God, my mother at all Ramadan 🤲🏻🌙'},\n",
       "  {'type': 'text',\n",
       "   'text': 'She had certainty that filled the seven heavens, until God answered her'},\n",
       "  {'type': 'text',\n",
       "   'text': 'They want to see you do well, but not better than them, remember that'},\n",
       "  {'type': 'video',\n",
       "   'text': 'Blessed be upon you is the month of obedience and forgiveness',\n",
       "   'duration': 44,\n",
       "   'file_name': 'IMG_7295.MP4',\n",
       "   'file_size': 5309058}],\n",
       " 'lang_code': 'ar'}"
      ]
     },
     "execution_count": 17,
     "metadata": {},
     "output_type": "execute_result"
    }
   ],
   "source": [
    "random.choice(tasks)"
   ]
  },
  {
   "cell_type": "markdown",
   "id": "upper-ukraine",
   "metadata": {},
   "source": [
    "### save tasks"
   ]
  },
  {
   "cell_type": "code",
   "execution_count": 18,
   "id": "wrong-newcastle",
   "metadata": {
    "ExecuteTime": {
     "end_time": "2021-04-25T18:44:24.059880Z",
     "start_time": "2021-04-25T18:44:23.947168Z"
    }
   },
   "outputs": [],
   "source": [
    "random.shuffle(tasks)\n",
    "\n",
    "with open(f'data/processed/labelling_tasks_{today_str}.json', 'w') as f:\n",
    "    json.dump(tasks, f)"
   ]
  },
  {
   "cell_type": "markdown",
   "id": "alert-blend",
   "metadata": {},
   "source": [
    "## TG labelled data\n",
    "\n",
    "for reference when labelling"
   ]
  },
  {
   "cell_type": "code",
   "execution_count": 7,
   "id": "bigger-aluminum",
   "metadata": {
    "ExecuteTime": {
     "end_time": "2021-04-21T18:19:18.690021Z",
     "start_time": "2021-04-21T18:19:18.666117Z"
    }
   },
   "outputs": [],
   "source": [
    "LABELLED_FILES = [\n",
    "    {\n",
    "        'input': 'data/external/submission1489/category_en/input.txt',\n",
    "        'output': 'data/external/submission1489/category_en/tg_output.txt'\n",
    "    },\n",
    "    {\n",
    "        'input': 'data/external/submission1489/category_ru/input.txt',\n",
    "        'output': 'data/external/submission1489/category_ru/tg_output.txt'\n",
    "    },\n",
    "]"
   ]
  },
  {
   "cell_type": "code",
   "execution_count": 8,
   "id": "communist-harvest",
   "metadata": {
    "ExecuteTime": {
     "end_time": "2021-04-21T18:19:19.768233Z",
     "start_time": "2021-04-21T18:19:19.750113Z"
    }
   },
   "outputs": [],
   "source": [
    "get_lang = lambda fp: Path(fp).parent.stem.split('_')[1]"
   ]
  },
  {
   "cell_type": "markdown",
   "id": "faced-joshua",
   "metadata": {},
   "source": [
    "### load files"
   ]
  },
  {
   "cell_type": "code",
   "execution_count": 9,
   "id": "affiliated-minutes",
   "metadata": {
    "ExecuteTime": {
     "end_time": "2021-04-21T18:19:24.110155Z",
     "start_time": "2021-04-21T18:19:22.134848Z"
    }
   },
   "outputs": [
    {
     "name": "stdout",
     "output_type": "stream",
     "text": [
      "Loaded 14775 rows\n",
      "Loaded 14775 rows\n",
      "Loaded 16726 rows\n",
      "Loaded 16726 rows\n"
     ]
    }
   ],
   "source": [
    "labelled = {\n",
    "    get_lang(files['input']): {\n",
    "        k: load_test_file(file) \n",
    "        for k,file in files.items()\n",
    "    } for files in LABELLED_FILES\n",
    "}"
   ]
  },
  {
   "cell_type": "markdown",
   "id": "automated-algebra",
   "metadata": {},
   "source": [
    "### Show"
   ]
  },
  {
   "cell_type": "code",
   "execution_count": 16,
   "id": "gothic-server",
   "metadata": {
    "ExecuteTime": {
     "end_time": "2021-04-21T19:04:24.647442Z",
     "start_time": "2021-04-21T19:04:24.622060Z"
    }
   },
   "outputs": [
    {
     "name": "stdout",
     "output_type": "stream",
     "text": [
      "Lang EN\n",
      "\n",
      "INPUT:\n",
      "{'description': 'the forecast Suggestion time of 5 rounds per day\\n'\n",
      "                'planning time\\n'\n",
      "                '1️⃣ 11 am\\n'\n",
      "                '2️⃣ 2 pm\\n'\n",
      "                '3️⃣ 5 pm\\n'\n",
      "                '4️⃣ 8 pm\\n'\n",
      "                '5️⃣ 9 pm\\n'\n",
      "                'Join link: https:rxce.in/#/register?r_code=X31T2A4W\\n'\n",
      "                'Code- X31T2A4W',\n",
      " 'recent_posts': ['Withrawal ✅😍',\n",
      "                  'The first round of red envelope participation conditions, '\n",
      "                  'the recharge is greater than 100rs or the cumulative amount '\n",
      "                  'of game transactions is greater than 1000rs\\n'\n",
      "                  'The second round of red envelope participation conditions, '\n",
      "                  'the recharge is greater than 500rs or the cumulative amount '\n",
      "                  'of game transactions is greater than 2000rs\\n'\n",
      "                  'The third round of red envelope participation conditions, '\n",
      "                  'the recharge is greater than 1000rs or the cumulative '\n",
      "                  'amount of game transactions is greater than 3000rs\\n'\n",
      "                  'If you meet these conditions, please click on him '\n",
      "                  'immediately after the event starts. His participation quota '\n",
      "                  'is limited.',\n",
      "                  'Invite to promote your link in Rxce. You only need to work '\n",
      "                  'hard for a month to achieve this effect. The commission '\n",
      "                  'rate of the platform is over 65%. If you ignore the '\n",
      "                  'commission, the commission will also ignore you. As much as '\n",
      "                  'you pay, you will gain much. Please work hard here. At the '\n",
      "                  'same time, the system has 3 rounds of red envelope '\n",
      "                  'activities every day. You must participate, transaction + '\n",
      "                  'commission + red envelope win + win + win🤝🤝\\n'\n",
      "                  '\\n'\n",
      "                  'https://rxce.in/#/register?r_code=X31T2A4W\\n'\n",
      "                  '\\n'\n",
      "                  'https://t.me/rxceincom/34382',\n",
      "                  'Follow steps for recharge successfully',\n",
      "                  'New Users Check @RXCECC FOR ALL INFORMATION about RXCE 👆 👆',\n",
      "                  'Invite to promote your link in Rxce. You only need to work '\n",
      "                  'hard for a month to achieve this effect. The commission '\n",
      "                  'rate of the platform is over 65%. If you ignore the '\n",
      "                  'commission, the commission will also ignore you. As much as '\n",
      "                  'you pay, you will gain much. Please work hard here. At the '\n",
      "                  'same time, the system has 3 rounds of red envelope '\n",
      "                  'activities every day. You must participate, transaction + '\n",
      "                  'commission + red envelope win + win + win🤝🤝\\n'\n",
      "                  '\\n'\n",
      "                  'https://rxce.in/#/register?r_code=X31T2A4W\\n'\n",
      "                  '\\n'\n",
      "                  'https://t.me/rxceincom/34382'],\n",
      " 'title': 'Rxce income01'}\n",
      "\n",
      "OUTPUT:\n",
      "{'category': {'Bets & Gambling': 0.28571428571429,\n",
      "              'Cryptocurrencies': 0.14285714285714,\n",
      "              'Investments': 0.42857142857143,\n",
      "              'Offers & Promotions': 0.14285714285714},\n",
      " 'lang_code': 'en'}\n"
     ]
    }
   ],
   "source": [
    "l = random.choice(list(labelled.keys()))\n",
    "\n",
    "i = random.randint(0, len(labelled[l]['input']))\n",
    "inp = labelled[l]['input'][i]\n",
    "out = labelled[l]['output'][i]\n",
    "\n",
    "print('Lang', l.upper(),)\n",
    "print('\\nINPUT:')\n",
    "pprint(inp)\n",
    "print('\\nOUTPUT:')\n",
    "pprint(out)"
   ]
  },
  {
   "cell_type": "markdown",
   "id": "olympic-centre",
   "metadata": {},
   "source": [
    "### Random select"
   ]
  },
  {
   "cell_type": "code",
   "execution_count": 10,
   "id": "roman-wells",
   "metadata": {
    "ExecuteTime": {
     "end_time": "2021-04-21T18:19:28.590775Z",
     "start_time": "2021-04-21T18:19:28.573271Z"
    }
   },
   "outputs": [],
   "source": [
    "N = 1000\n",
    "\n",
    "selected = {}\n",
    "\n",
    "for l,data in labelled.items():\n",
    "    selected_ids = random.sample(range(len(data['input'])), N)\n",
    "    inp = filter_list(data['input'], selected_ids)\n",
    "    out = filter_list(data['output'], selected_ids)\n",
    "    selected[l] = [update_dict(i,o) for i,o in zip(inp, out)]\n",
    "\n"
   ]
  },
  {
   "cell_type": "code",
   "execution_count": null,
   "id": "functional-fields",
   "metadata": {},
   "outputs": [],
   "source": [
    "for l,d in selected.items():\n",
    "    print(l, len(d))"
   ]
  },
  {
   "cell_type": "markdown",
   "id": "exterior-proposal",
   "metadata": {},
   "source": [
    "### Save "
   ]
  },
  {
   "cell_type": "code",
   "execution_count": 17,
   "id": "electronic-romania",
   "metadata": {
    "ExecuteTime": {
     "end_time": "2021-04-21T19:05:04.704467Z",
     "start_time": "2021-04-21T19:05:04.561918Z"
    }
   },
   "outputs": [],
   "source": [
    "for lang,sel in selected.items():\n",
    "    with open(f'data/processed/labelled_tgdata_{lang}_{today_str}.json', 'w') as f:\n",
    "        json.dump(sel, f)"
   ]
  },
  {
   "cell_type": "markdown",
   "id": "spatial-prairie",
   "metadata": {},
   "source": [
    "## Save data and configs"
   ]
  },
  {
   "cell_type": "code",
   "execution_count": 23,
   "id": "manufactured-campus",
   "metadata": {
    "ExecuteTime": {
     "end_time": "2021-04-20T17:15:16.869143Z",
     "start_time": "2021-04-20T17:15:16.819601Z"
    }
   },
   "outputs": [],
   "source": [
    "from lxml import etree"
   ]
  },
  {
   "cell_type": "markdown",
   "id": "accepted-hindu",
   "metadata": {},
   "source": [
    "### generate and save configs"
   ]
  },
  {
   "cell_type": "code",
   "execution_count": 24,
   "id": "smooth-possession",
   "metadata": {
    "ExecuteTime": {
     "end_time": "2021-04-20T17:15:19.959405Z",
     "start_time": "2021-04-20T17:15:19.939011Z"
    }
   },
   "outputs": [],
   "source": [
    "def clean_topic(orig):\n",
    "    orig = re.split(' [–-] ', orig)[0].strip()\n",
    "    return orig"
   ]
  },
  {
   "cell_type": "code",
   "execution_count": 25,
   "id": "deluxe-subscription",
   "metadata": {
    "ExecuteTime": {
     "end_time": "2021-04-20T17:15:20.217433Z",
     "start_time": "2021-04-20T17:15:20.193497Z"
    }
   },
   "outputs": [
    {
     "data": {
      "text/plain": [
       "50"
      ]
     },
     "execution_count": 25,
     "metadata": {},
     "output_type": "execute_result"
    }
   ],
   "source": [
    "TOPICS = \"\"\"\n",
    "    Art & Design\n",
    "    Bets & Gambling – includes sports bets\n",
    "    Books\n",
    "    Business & Entrepreneurship\n",
    "    Cars & Other Vehicles\n",
    "    Celebrities & Lifestyle\n",
    "    Cryptocurrencies\n",
    "    Culture & Events\n",
    "    Curious Facts\n",
    "    Directories of Channels & Bots\n",
    "    Drug Sale\n",
    "    Economy & Finance\n",
    "    Education\n",
    "    Erotic Content\n",
    "    Fashion & Beauty\n",
    "    Fitness\n",
    "    Forgery – includes fake documents, fake money, etc.\n",
    "    Food & Cooking\n",
    "    Foreign Language Learning\n",
    "    Hacked Accounts & Software – includes carding, passwords for subscription services, etc.\n",
    "    Health & Medicine\n",
    "    History\n",
    "    Hobbies & Activities\n",
    "    Home & Architecture\n",
    "    Humor & Memes\n",
    "    Investments\n",
    "    Job Listings\n",
    "    Kids & Parenting\n",
    "    Marketing & PR\n",
    "    Motivation & Self-development - includes inspirational quotes and poetry\n",
    "    Movies\n",
    "    Music\n",
    "    Offers & Promotions – includes products or services for sale, unless they fall under the newly added categories\n",
    "    Personal Data – includes doxxing, databases\n",
    "    Pets\n",
    "    Pirated Content – films, music, books, but not software\n",
    "    Politics & Incidents\n",
    "    Prostitution\n",
    "    Psychology & Relationships\n",
    "    Real Estate\n",
    "    Recreation & Entertainment\n",
    "    Religion & Spirituality\n",
    "    Science\n",
    "    Spam & Fake Followers – includes spam tools and services, boosting followers, likes, etc.\n",
    "    Sports – includes e-sports\n",
    "    Technology & Internet\n",
    "    Travel & Tourism\n",
    "    Video Games\n",
    "    Weapon Sale\n",
    "    Other\n",
    "\"\"\".strip().split('\\n')\n",
    "\n",
    "TOPICS = [clean_topic(t) for t in TOPICS]\n",
    "\n",
    "len(TOPICS)"
   ]
  },
  {
   "cell_type": "code",
   "execution_count": 26,
   "id": "nasty-cannon",
   "metadata": {
    "ExecuteTime": {
     "end_time": "2021-04-20T17:16:53.703034Z",
     "start_time": "2021-04-20T17:16:53.664146Z"
    }
   },
   "outputs": [],
   "source": [
    "xml = etree.Element('View')\n",
    "# headers\n",
    "_ = etree.SubElement(xml, \"Header\", size='4', value=f'$lang_code')\n",
    "# orig text\n",
    "orig_view = etree.SubElement(xml, 'View')\n",
    "_ = etree.SubElement(orig_view, \"Header\", size='4', value=f'$title')\n",
    "_ = etree.SubElement(orig_view, \"Header\", size='4', value=f'$description')\n",
    "_ = etree.SubElement(orig_view, 'Paragraphs', name=\"posts\", value=\"$recent_posts\", nameKey=\"type\", textKey=\"text\", layout=\"dialogue\")\n",
    "# translated\n",
    "translated_view = etree.SubElement(xml, 'View')\n",
    "_ = etree.SubElement(translated_view, \"Header\", size='4', value=f'$title_display')\n",
    "_ = etree.SubElement(translated_view, \"Header\", size='4', value=f'$description_display')\n",
    "_ = etree.SubElement(translated_view, 'Paragraphs', name=\"posts\", value=\"$recent_posts_display\", nameKey=\"type\", textKey=\"text\", layout=\"dialogue\")\n",
    "# primary\n",
    "_ = etree.SubElement(xml, \"Header\", size=\"6\",\n",
    "                          value=\"Primary topics\")\n",
    "_ = etree.SubElement(xml, \"Filter\", name=\"filter_primary\",\n",
    "                      toName='primary', hotkey=\"shift+f\",\n",
    "                      minlength=\"1\", )\n",
    "primary = etree.SubElement(xml, \"Choices\", name=\"primary\", toName=\"posts\",\n",
    "                          showInline=\"true\", choice='multiple', required='true')\n",
    "_ = [etree.SubElement(primary, 'Choice', value=s, )\n",
    "     for s in TOPICS]\n",
    "# secondary\n",
    "_ = etree.SubElement(xml, \"Header\", size=\"6\",\n",
    "                          value=\"Secondary topics\")\n",
    "_ = etree.SubElement(xml, \"Filter\", name=\"filter_secondary\",\n",
    "                      toName='secondary',\n",
    "                      minlength=\"1\", )\n",
    "secondary = etree.SubElement(xml, \"Choices\", name=\"secondary\", toName=\"posts\",\n",
    "                          showInline=\"true\", choice='multiple', required='false')\n",
    "_ = [etree.SubElement(secondary, 'Choice', value=s, ) for s in TOPICS]\n",
    "# pretty string\n",
    "etree.indent(xml, space='  ')\n",
    "config = etree.tostring(xml, pretty_print=True,).decode('utf-8')"
   ]
  },
  {
   "cell_type": "code",
   "execution_count": 27,
   "id": "marine-morrison",
   "metadata": {
    "ExecuteTime": {
     "end_time": "2021-04-20T17:16:54.452452Z",
     "start_time": "2021-04-20T17:16:54.432320Z"
    }
   },
   "outputs": [
    {
     "name": "stdout",
     "output_type": "stream",
     "text": [
      "<View>\n",
      "  <Header size=\"4\" value=\"$lang_code\"/>\n",
      "  <View>\n",
      "    <Header size=\"4\" value=\"$title\"/>\n",
      "    <Header size=\"4\" value=\"$description\"/>\n",
      "    <Paragraphs name=\"posts\" value=\"$recent_posts\" nameKey=\"type\" textKey=\"text\" layout=\"dialogue\"/>\n",
      "  </View>\n",
      "  <View>\n",
      "    <Header size=\"4\" value=\"$title_display\"/>\n",
      "    <Header size=\"4\" value=\"$description_display\"/>\n",
      "    <Paragraphs name=\"posts\" value=\"$recent_posts_display\" nameKey=\"type\" textKey=\"text\" layout=\"dialogue\"/>\n",
      "  </View>\n",
      "  <Header size=\"6\" value=\"Primary topics\"/>\n",
      "  <Filter name=\"filter_primary\" toName=\"primary\" hotkey=\"shift+f\" minlength=\"1\"/>\n",
      "  <Choices name=\"primary\" toName=\"posts\" showInline=\"true\" choice=\"multiple\" required=\"true\">\n",
      "    <Choice value=\"Art &amp; Design\"/>\n",
      "    <Choice value=\"Bets &amp; Gambling\"/>\n",
      "    <Choice value=\"Books\"/>\n",
      "    <Choice value=\"Business &amp; Entrepreneurship\"/>\n",
      "    <Choice value=\"Cars &amp; Other Vehicles\"/>\n",
      "    <Choice value=\"Celebrities &amp; Lifestyle\"/>\n",
      "    <Choice value=\"Cryptocurrencies\"/>\n",
      "    <Choice value=\"Culture &amp; Events\"/>\n",
      "    <Choice value=\"Curious Facts\"/>\n",
      "    <Choice value=\"Directories of Channels &amp; Bots\"/>\n",
      "    <Choice value=\"Drug Sale\"/>\n",
      "    <Choice value=\"Economy &amp; Finance\"/>\n",
      "    <Choice value=\"Education\"/>\n",
      "    <Choice value=\"Erotic Content\"/>\n",
      "    <Choice value=\"Fashion &amp; Beauty\"/>\n",
      "    <Choice value=\"Fitness\"/>\n",
      "    <Choice value=\"Forgery\"/>\n",
      "    <Choice value=\"Food &amp; Cooking\"/>\n",
      "    <Choice value=\"Foreign Language Learning\"/>\n",
      "    <Choice value=\"Hacked Accounts &amp; Software\"/>\n",
      "    <Choice value=\"Health &amp; Medicine\"/>\n",
      "    <Choice value=\"History\"/>\n",
      "    <Choice value=\"Hobbies &amp; Activities\"/>\n",
      "    <Choice value=\"Home &amp; Architecture\"/>\n",
      "    <Choice value=\"Humor &amp; Memes\"/>\n",
      "    <Choice value=\"Investments\"/>\n",
      "    <Choice value=\"Job Listings\"/>\n",
      "    <Choice value=\"Kids &amp; Parenting\"/>\n",
      "    <Choice value=\"Marketing &amp; PR\"/>\n",
      "    <Choice value=\"Motivation &amp; Self-development\"/>\n",
      "    <Choice value=\"Movies\"/>\n",
      "    <Choice value=\"Music\"/>\n",
      "    <Choice value=\"Offers &amp; Promotions\"/>\n",
      "    <Choice value=\"Personal Data\"/>\n",
      "    <Choice value=\"Pets\"/>\n",
      "    <Choice value=\"Pirated Content\"/>\n",
      "    <Choice value=\"Politics &amp; Incidents\"/>\n",
      "    <Choice value=\"Prostitution\"/>\n",
      "    <Choice value=\"Psychology &amp; Relationships\"/>\n",
      "    <Choice value=\"Real Estate\"/>\n",
      "    <Choice value=\"Recreation &amp; Entertainment\"/>\n",
      "    <Choice value=\"Religion &amp; Spirituality\"/>\n",
      "    <Choice value=\"Science\"/>\n",
      "    <Choice value=\"Spam &amp; Fake Followers\"/>\n",
      "    <Choice value=\"Sports\"/>\n",
      "    <Choice value=\"Technology &amp; Internet\"/>\n",
      "    <Choice value=\"Travel &amp; Tourism\"/>\n",
      "    <Choice value=\"Video Games\"/>\n",
      "    <Choice value=\"Weapon Sale\"/>\n",
      "    <Choice value=\"Other\"/>\n",
      "  </Choices>\n",
      "  <Header size=\"6\" value=\"Secondary topics\"/>\n",
      "  <Filter name=\"filter_secondary\" toName=\"secondary\" minlength=\"1\"/>\n",
      "  <Choices name=\"secondary\" toName=\"posts\" showInline=\"true\" choice=\"multiple\" required=\"false\">\n",
      "    <Choice value=\"Art &amp; Design\"/>\n",
      "    <Choice value=\"Bets &amp; Gambling\"/>\n",
      "    <Choice value=\"Books\"/>\n",
      "    <Choice value=\"Business &amp; Entrepreneurship\"/>\n",
      "    <Choice value=\"Cars &amp; Other Vehicles\"/>\n",
      "    <Choice value=\"Celebrities &amp; Lifestyle\"/>\n",
      "    <Choice value=\"Cryptocurrencies\"/>\n",
      "    <Choice value=\"Culture &amp; Events\"/>\n",
      "    <Choice value=\"Curious Facts\"/>\n",
      "    <Choice value=\"Directories of Channels &amp; Bots\"/>\n",
      "    <Choice value=\"Drug Sale\"/>\n",
      "    <Choice value=\"Economy &amp; Finance\"/>\n",
      "    <Choice value=\"Education\"/>\n",
      "    <Choice value=\"Erotic Content\"/>\n",
      "    <Choice value=\"Fashion &amp; Beauty\"/>\n",
      "    <Choice value=\"Fitness\"/>\n",
      "    <Choice value=\"Forgery\"/>\n",
      "    <Choice value=\"Food &amp; Cooking\"/>\n",
      "    <Choice value=\"Foreign Language Learning\"/>\n",
      "    <Choice value=\"Hacked Accounts &amp; Software\"/>\n",
      "    <Choice value=\"Health &amp; Medicine\"/>\n",
      "    <Choice value=\"History\"/>\n",
      "    <Choice value=\"Hobbies &amp; Activities\"/>\n",
      "    <Choice value=\"Home &amp; Architecture\"/>\n",
      "    <Choice value=\"Humor &amp; Memes\"/>\n",
      "    <Choice value=\"Investments\"/>\n",
      "    <Choice value=\"Job Listings\"/>\n",
      "    <Choice value=\"Kids &amp; Parenting\"/>\n",
      "    <Choice value=\"Marketing &amp; PR\"/>\n",
      "    <Choice value=\"Motivation &amp; Self-development\"/>\n",
      "    <Choice value=\"Movies\"/>\n",
      "    <Choice value=\"Music\"/>\n",
      "    <Choice value=\"Offers &amp; Promotions\"/>\n",
      "    <Choice value=\"Personal Data\"/>\n",
      "    <Choice value=\"Pets\"/>\n",
      "    <Choice value=\"Pirated Content\"/>\n",
      "    <Choice value=\"Politics &amp; Incidents\"/>\n",
      "    <Choice value=\"Prostitution\"/>\n",
      "    <Choice value=\"Psychology &amp; Relationships\"/>\n",
      "    <Choice value=\"Real Estate\"/>\n",
      "    <Choice value=\"Recreation &amp; Entertainment\"/>\n",
      "    <Choice value=\"Religion &amp; Spirituality\"/>\n",
      "    <Choice value=\"Science\"/>\n",
      "    <Choice value=\"Spam &amp; Fake Followers\"/>\n",
      "    <Choice value=\"Sports\"/>\n",
      "    <Choice value=\"Technology &amp; Internet\"/>\n",
      "    <Choice value=\"Travel &amp; Tourism\"/>\n",
      "    <Choice value=\"Video Games\"/>\n",
      "    <Choice value=\"Weapon Sale\"/>\n",
      "    <Choice value=\"Other\"/>\n",
      "  </Choices>\n",
      "</View>\n",
      "\n"
     ]
    }
   ],
   "source": [
    "with open(f'data/processed/labelling_config_{today_str}.xml', 'w') as f:\n",
    "    f.write(config)\n",
    "\n",
    "print(config)"
   ]
  },
  {
   "cell_type": "code",
   "execution_count": null,
   "id": "curious-grill",
   "metadata": {},
   "outputs": [],
   "source": []
  }
 ],
 "metadata": {
  "kernelspec": {
   "display_name": "tgcat",
   "language": "python",
   "name": "tgcat"
  },
  "language_info": {
   "codemirror_mode": {
    "name": "ipython",
    "version": 3
   },
   "file_extension": ".py",
   "mimetype": "text/x-python",
   "name": "python",
   "nbconvert_exporter": "python",
   "pygments_lexer": "ipython3",
   "version": "3.7.9"
  },
  "notify_time": "10",
  "toc": {
   "base_numbering": 1,
   "nav_menu": {},
   "number_sections": true,
   "sideBar": true,
   "skip_h1_title": false,
   "title_cell": "Table of Contents",
   "title_sidebar": "Contents",
   "toc_cell": false,
   "toc_position": {},
   "toc_section_display": true,
   "toc_window_display": true
  }
 },
 "nbformat": 4,
 "nbformat_minor": 5
}
