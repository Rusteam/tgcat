{
 "cells": [
  {
   "cell_type": "markdown",
   "metadata": {},
   "source": [
    "# Build a model to classify topics for Telegram channels\n",
    "\n",
    "**Pre-req**\n",
    "1. Download csv from gdrive with channels and save to ``data/external/telegram_channels.csv``\n",
    "2. Run ``python -m src.train.download`` to get posts and meta-data\n",
    "\n",
    "**Steps**\n",
    "1. Load data:\n",
    "    - posts from channels\n",
    "    - channel titles and descriptions\n",
    "    - channel topics\n",
    "2. Build a training dataset:\n",
    "    1. Merge\n",
    "    2. Select inputs\n",
    "    3. Split into train/val\n",
    "3. Build models:\n",
    "    1. Embed text\n",
    "    2. Train a classifier\n",
    "    3. Select best\n",
    "4. Evaluate on test data and save best"
   ]
  },
  {
   "cell_type": "code",
   "execution_count": 2,
   "metadata": {
    "ExecuteTime": {
     "end_time": "2021-04-21T17:16:13.798245Z",
     "start_time": "2021-04-21T17:16:13.758116Z"
    }
   },
   "outputs": [
    {
     "name": "stdout",
     "output_type": "stream",
     "text": [
      "The autoreload extension is already loaded. To reload it, use:\n",
      "  %reload_ext autoreload\n"
     ]
    }
   ],
   "source": [
    "%load_ext autoreload\n",
    "%autoreload 2\n",
    "%matplotlib inline\n",
    "#standard libs\n",
    "import os, sys\n",
    "from pathlib import Path\n",
    "from pprint import pprint\n",
    "from collections import Counter\n",
    "import random\n",
    "import json\n",
    "import itertools\n",
    "from datetime import datetime as dt\n",
    "# ds libs\n",
    "import pandas as pd\n",
    "import numpy as np\n",
    "import matplotlib.pyplot as plt\n",
    "import seaborn as sns\n",
    "from tqdm import tqdm, tqdm_notebook\n",
    "\n",
    "from torchtext import data\n",
    "import re\n",
    "# custom path\n",
    "os.chdir('../..')\n",
    "os.environ['KMP_DUPLICATE_LIB_OK']='True'\n"
   ]
  },
  {
   "cell_type": "markdown",
   "metadata": {},
   "source": [
    "## Data prep"
   ]
  },
  {
   "cell_type": "code",
   "execution_count": 3,
   "metadata": {
    "ExecuteTime": {
     "end_time": "2021-04-21T17:16:38.347252Z",
     "start_time": "2021-04-21T17:16:38.318523Z"
    }
   },
   "outputs": [],
   "source": [
    "COMPLETIONS = [\n",
    "    'data/raw/completions/project-1-at-2021-04-20-16-16-72cac916.json',\n",
    "    'data/raw/completions/project-1-at-2021-04-21-17-06-382a61d8.json',\n",
    "]\n",
    "\n",
    "ACTIVE_COMPLETIONS = [\n",
    "#     'data/external/2020-02-14_active_completions.json'\n",
    "]\n",
    "\n",
    "\n",
    "ONLY_PRIMARY = False\n",
    "MIN_RAND = 2\n"
   ]
  },
  {
   "cell_type": "markdown",
   "metadata": {},
   "source": [
    "### Compare raw tokens to lemmas"
   ]
  },
  {
   "cell_type": "raw",
   "metadata": {
    "ExecuteTime": {
     "end_time": "2021-02-14T18:14:09.032757Z",
     "start_time": "2021-02-14T18:14:09.002013Z"
    },
    "scrolled": true
   },
   "source": [
    "row = posts.sample(1).iloc[0]\n",
    "\n",
    "lem = lang_lemmatizer(row['language'])\n",
    "l = lem(row['posts'],)\n",
    "t = tokenize_text(row['posts'])\n",
    "\n",
    "print(\"INPUT\", row['posts'], end='\\n\\n')\n",
    "print(\"LEMMAS\", l)\n",
    "# pprint(l)\n",
    "print('\\nRAW TOKENS', t)\n",
    "# pprint(t)"
   ]
  },
  {
   "cell_type": "markdown",
   "metadata": {},
   "source": [
    "### Test data"
   ]
  },
  {
   "cell_type": "code",
   "execution_count": 184,
   "metadata": {
    "ExecuteTime": {
     "end_time": "2021-04-21T18:44:11.324684Z",
     "start_time": "2021-04-21T18:44:11.182037Z"
    }
   },
   "outputs": [],
   "source": [
    "def get_topics(value):\n",
    "    \"\"\" return a list of topics from one string topic or multiple from a dict \"\"\"\n",
    "    if isinstance(value, dict):\n",
    "        topics = value['choices']\n",
    "    else:\n",
    "        topics = [value] if value != '' else []\n",
    "    return topics\n",
    "\n",
    "\n",
    "def load_labelled_data(files):\n",
    "    if len(files) == 0:\n",
    "        return pd.DataFrame()\n",
    "    labelled_data = [pd.read_json(c,) for c in files]\n",
    "    labelled_data = pd.concat(labelled_data)\n",
    "    labelled_data['secondary'].fillna('', inplace=True)\n",
    "    labelled_data['primary'] = labelled_data['primary'].apply(get_topics)\n",
    "    labelled_data['secondary'] = labelled_data['secondary'].apply(get_topics)\n",
    "    labelled_data.drop(['annotator', 'annotation_id', 'title_display', 'description_display', 'recent_posts_display'], axis=1, inplace=True)\n",
    "    labelled_data.info()\n",
    "    return labelled_data\n",
    "\n",
    "\n",
    "def prepare_labelled_data(labelled_data, weights=(1.0,0.5)):\n",
    "    \"\"\" convert multiple labels to multiple rows \"\"\"\n",
    "    data = []\n",
    "    p_w,s_w = weights\n",
    "    for i, row in labelled_data.iterrows():\n",
    "        for col in ['primary', 'secondary']:\n",
    "            for top in row[col]:\n",
    "                row['topic'] = top\n",
    "                row['weight'] = p_w if col == 'primary' else s_w\n",
    "                data.append(row)\n",
    "    data = pd.DataFrame(data)\n",
    "    return data"
   ]
  },
  {
   "cell_type": "code",
   "execution_count": 185,
   "metadata": {
    "ExecuteTime": {
     "end_time": "2021-04-21T18:44:11.665488Z",
     "start_time": "2021-04-21T18:44:11.539803Z"
    }
   },
   "outputs": [
    {
     "name": "stdout",
     "output_type": "stream",
     "text": [
      "<class 'pandas.core.frame.DataFrame'>\n",
      "Int64Index: 168 entries, 0 to 157\n",
      "Data columns (total 9 columns):\n",
      " #   Column        Non-Null Count  Dtype \n",
      "---  ------        --------------  ----- \n",
      " 0   title         168 non-null    object\n",
      " 1   description   168 non-null    object\n",
      " 2   subscribers   168 non-null    int64 \n",
      " 3   counters      168 non-null    object\n",
      " 4   recent_posts  168 non-null    object\n",
      " 5   lang_code     168 non-null    object\n",
      " 6   id            168 non-null    int64 \n",
      " 7   primary       168 non-null    object\n",
      " 8   secondary     168 non-null    object\n",
      "dtypes: int64(2), object(7)\n",
      "memory usage: 13.1+ KB\n"
     ]
    },
    {
     "data": {
      "text/html": [
       "<div>\n",
       "<style scoped>\n",
       "    .dataframe tbody tr th:only-of-type {\n",
       "        vertical-align: middle;\n",
       "    }\n",
       "\n",
       "    .dataframe tbody tr th {\n",
       "        vertical-align: top;\n",
       "    }\n",
       "\n",
       "    .dataframe thead th {\n",
       "        text-align: right;\n",
       "    }\n",
       "</style>\n",
       "<table border=\"1\" class=\"dataframe\">\n",
       "  <thead>\n",
       "    <tr style=\"text-align: right;\">\n",
       "      <th></th>\n",
       "      <th>title</th>\n",
       "      <th>description</th>\n",
       "      <th>subscribers</th>\n",
       "      <th>counters</th>\n",
       "      <th>recent_posts</th>\n",
       "      <th>lang_code</th>\n",
       "      <th>id</th>\n",
       "      <th>primary</th>\n",
       "      <th>secondary</th>\n",
       "    </tr>\n",
       "  </thead>\n",
       "  <tbody>\n",
       "    <tr>\n",
       "      <th>125</th>\n",
       "      <td>مسلسلات ودراما عربية 2021</td>\n",
       "      <td>تحميل ومشاهدة المسلسلات العربية  مجانا عبر قنا...</td>\n",
       "      <td>7130</td>\n",
       "      <td>{'posts': 231, 'photos': 8, 'videos': 2, 'audi...</td>\n",
       "      <td>[{'type': 'text', 'text': '#رمضانك_عندنا \n",
       "\n",
       "متو...</td>\n",
       "      <td>ar</td>\n",
       "      <td>35</td>\n",
       "      <td>[Movies]</td>\n",
       "      <td>[]</td>\n",
       "    </tr>\n",
       "    <tr>\n",
       "      <th>2</th>\n",
       "      <td>Марафон до 🍋</td>\n",
       "      <td>💢Дарю VIP экспресс каждому бесплатно, пиши сюд...</td>\n",
       "      <td>10890</td>\n",
       "      <td>{'posts': 2507, 'photos': 1805, 'videos': 12, ...</td>\n",
       "      <td>[{'type': 'photo', 'text': 'СТАВКА НА ФУТБОЛ🔥\n",
       "...</td>\n",
       "      <td>ru</td>\n",
       "      <td>189</td>\n",
       "      <td>[Bets &amp; Gambling]</td>\n",
       "      <td>[]</td>\n",
       "    </tr>\n",
       "    <tr>\n",
       "      <th>17</th>\n",
       "      <td>𝐖𝐈𝐍𝐍𝐈𝐍𝐆 𝐙𝐎𝐍𝐄</td>\n",
       "      <td>Our free games  win 98% , an absolute proof th...</td>\n",
       "      <td>4720</td>\n",
       "      <td>{'posts': 21715, 'photos': 10204, 'videos': 37...</td>\n",
       "      <td>[{'type': 'text', 'text': 'If we send u 3.50 o...</td>\n",
       "      <td>en</td>\n",
       "      <td>172</td>\n",
       "      <td>[Bets &amp; Gambling]</td>\n",
       "      <td>[]</td>\n",
       "    </tr>\n",
       "    <tr>\n",
       "      <th>77</th>\n",
       "      <td>Фильмы | Сериалы</td>\n",
       "      <td>👤Реклама / Удаление @FI_TELEGA\\n\\n📧Почта: kino...</td>\n",
       "      <td>549780</td>\n",
       "      <td>{'posts': 24, 'photos': 22, 'videos': 0, 'audi...</td>\n",
       "      <td>[{'type': 'photo', 'text': 'Отель Белград (202...</td>\n",
       "      <td>ru</td>\n",
       "      <td>95</td>\n",
       "      <td>[Movies]</td>\n",
       "      <td>[]</td>\n",
       "    </tr>\n",
       "  </tbody>\n",
       "</table>\n",
       "</div>"
      ],
      "text/plain": [
       "                         title  \\\n",
       "125  مسلسلات ودراما عربية 2021   \n",
       "2                 Марафон до 🍋   \n",
       "17                𝐖𝐈𝐍𝐍𝐈𝐍𝐆 𝐙𝐎𝐍𝐄   \n",
       "77            Фильмы | Сериалы   \n",
       "\n",
       "                                           description  subscribers  \\\n",
       "125  تحميل ومشاهدة المسلسلات العربية  مجانا عبر قنا...         7130   \n",
       "2    💢Дарю VIP экспресс каждому бесплатно, пиши сюд...        10890   \n",
       "17   Our free games  win 98% , an absolute proof th...         4720   \n",
       "77   👤Реклама / Удаление @FI_TELEGA\\n\\n📧Почта: kino...       549780   \n",
       "\n",
       "                                              counters  \\\n",
       "125  {'posts': 231, 'photos': 8, 'videos': 2, 'audi...   \n",
       "2    {'posts': 2507, 'photos': 1805, 'videos': 12, ...   \n",
       "17   {'posts': 21715, 'photos': 10204, 'videos': 37...   \n",
       "77   {'posts': 24, 'photos': 22, 'videos': 0, 'audi...   \n",
       "\n",
       "                                          recent_posts lang_code   id  \\\n",
       "125  [{'type': 'text', 'text': '#رمضانك_عندنا \n",
       "\n",
       "متو...        ar   35   \n",
       "2    [{'type': 'photo', 'text': 'СТАВКА НА ФУТБОЛ🔥\n",
       "...        ru  189   \n",
       "17   [{'type': 'text', 'text': 'If we send u 3.50 o...        en  172   \n",
       "77   [{'type': 'photo', 'text': 'Отель Белград (202...        ru   95   \n",
       "\n",
       "               primary secondary  \n",
       "125           [Movies]        []  \n",
       "2    [Bets & Gambling]        []  \n",
       "17   [Bets & Gambling]        []  \n",
       "77            [Movies]        []  "
      ]
     },
     "execution_count": 185,
     "metadata": {},
     "output_type": "execute_result"
    }
   ],
   "source": [
    "random_labels = load_labelled_data(COMPLETIONS)\n",
    "\n",
    "\n",
    "random_labels.sample(4)"
   ]
  },
  {
   "cell_type": "code",
   "execution_count": 186,
   "metadata": {
    "ExecuteTime": {
     "end_time": "2021-04-21T18:44:15.243619Z",
     "start_time": "2021-04-21T18:44:15.082612Z"
    },
    "scrolled": true
   },
   "outputs": [
    {
     "data": {
      "image/png": "[encoded data removed]",
      "text/plain": [
       "<Figure size 432x288 with 1 Axes>"
      ]
     },
     "metadata": {
      "needs_background": "light"
     },
     "output_type": "display_data"
    }
   ],
   "source": [
    "lang_counts = random_labels['lang_code'].value_counts()\n",
    "sns.barplot(x=lang_counts, y=lang_counts.index);"
   ]
  },
  {
   "cell_type": "code",
   "execution_count": 187,
   "metadata": {
    "ExecuteTime": {
     "end_time": "2021-04-21T18:44:21.343252Z",
     "start_time": "2021-04-21T18:44:21.111263Z"
    },
    "scrolled": true
   },
   "outputs": [
    {
     "data": {
      "text/plain": [
       "(226, 11)"
      ]
     },
     "execution_count": 187,
     "metadata": {},
     "output_type": "execute_result"
    }
   ],
   "source": [
    "test_data = prepare_labelled_data(random_labels)\n",
    "\n",
    "test_data.shape"
   ]
  },
  {
   "cell_type": "raw",
   "metadata": {
    "ExecuteTime": {
     "end_time": "2021-02-14T18:09:54.295618Z",
     "start_time": "2021-02-14T18:09:54.263770Z"
    }
   },
   "source": [
    "# active_labels = load_labelled_data(ACTIVE_COMPLETIONS)\n",
    "\n",
    "# del active_labels['score'], active_labels['predictions']\n",
    "\n",
    "# active_data = prepare_labelled_data(active_labels)\n",
    "\n",
    "\n",
    "inputs = pd.concat([inputs, active_data], axis=0)\n",
    "\n",
    "inputs.shape"
   ]
  },
  {
   "cell_type": "markdown",
   "metadata": {},
   "source": [
    "### Topic distribution"
   ]
  },
  {
   "cell_type": "code",
   "execution_count": 188,
   "metadata": {
    "ExecuteTime": {
     "end_time": "2021-04-21T18:44:24.965069Z",
     "start_time": "2021-04-21T18:44:24.936414Z"
    }
   },
   "outputs": [],
   "source": [
    "from src.train.plot_utils import barplots"
   ]
  },
  {
   "cell_type": "code",
   "execution_count": 189,
   "metadata": {
    "ExecuteTime": {
     "end_time": "2021-04-21T18:44:26.846956Z",
     "start_time": "2021-04-21T18:44:25.211721Z"
    },
    "scrolled": false
   },
   "outputs": [
    {
     "name": "stdout",
     "output_type": "stream",
     "text": [
      "ru\n"
     ]
    },
    {
     "data": {
      "image/png": "[encoded data removed]",
      "text/plain": [
       "<Figure size 1008x576 with 2 Axes>"
      ]
     },
     "metadata": {
      "needs_background": "light"
     },
     "output_type": "display_data"
    },
    {
     "name": "stdout",
     "output_type": "stream",
     "text": [
      "en\n"
     ]
    },
    {
     "data": {
      "image/png": "[encoded data removed]",
      "text/plain": [
       "<Figure size 1008x576 with 2 Axes>"
      ]
     },
     "metadata": {
      "needs_background": "light"
     },
     "output_type": "display_data"
    },
    {
     "name": "stdout",
     "output_type": "stream",
     "text": [
      "fa\n"
     ]
    },
    {
     "data": {
      "image/png": "[encoded data removed]",
      "text/plain": [
       "<Figure size 1008x576 with 2 Axes>"
      ]
     },
     "metadata": {
      "needs_background": "light"
     },
     "output_type": "display_data"
    },
    {
     "name": "stdout",
     "output_type": "stream",
     "text": [
      "uz\n"
     ]
    },
    {
     "data": {
      "image/png": "[encoded data removed]",
      "text/plain": [
       "<Figure size 1008x576 with 2 Axes>"
      ]
     },
     "metadata": {
      "needs_background": "light"
     },
     "output_type": "display_data"
    },
    {
     "name": "stdout",
     "output_type": "stream",
     "text": [
      "ar\n"
     ]
    },
    {
     "data": {
      "image/png": "[encoded data removed]",
      "text/plain": [
       "<Figure size 1008x576 with 2 Axes>"
      ]
     },
     "metadata": {
      "needs_background": "light"
     },
     "output_type": "display_data"
    }
   ],
   "source": [
    "for l in test_data['lang_code'].unique():\n",
    "    print(l)\n",
    "    barplots({\n",
    "        'label-studio': test_data.query(f\"lang_code == '{l}'\")['topic'],\n",
    "    }, 1, 2, fig_dims=(14,8))"
   ]
  },
  {
   "cell_type": "code",
   "execution_count": 190,
   "metadata": {
    "ExecuteTime": {
     "end_time": "2021-04-21T18:44:30.451547Z",
     "start_time": "2021-04-21T18:44:30.421880Z"
    }
   },
   "outputs": [
    {
     "name": "stdout",
     "output_type": "stream",
     "text": [
      "lang_code\n",
      "ar    15\n",
      "en    17\n",
      "fa    13\n",
      "ru    21\n",
      "uz    16\n",
      "Name: topic, dtype: int64\n"
     ]
    }
   ],
   "source": [
    "print(test_data.groupby('lang_code')['topic'].nunique())"
   ]
  },
  {
   "cell_type": "markdown",
   "metadata": {},
   "source": [
    "### Save combined"
   ]
  },
  {
   "cell_type": "code",
   "execution_count": 191,
   "metadata": {
    "ExecuteTime": {
     "end_time": "2021-04-21T18:44:42.716374Z",
     "start_time": "2021-04-21T18:44:42.686802Z"
    }
   },
   "outputs": [
    {
     "data": {
      "text/plain": [
       "(226, 11)"
      ]
     },
     "execution_count": 191,
     "metadata": {},
     "output_type": "execute_result"
    }
   ],
   "source": [
    "comb = pd.concat([\n",
    "#     inputs,\n",
    "    test_data\n",
    "], axis=0)\n",
    "comb.shape"
   ]
  },
  {
   "cell_type": "code",
   "execution_count": 192,
   "metadata": {
    "ExecuteTime": {
     "end_time": "2021-04-21T18:44:44.121119Z",
     "start_time": "2021-04-21T18:44:44.063684Z"
    }
   },
   "outputs": [],
   "source": [
    "comb.to_csv('data/interim/train_data.csv', index=False)"
   ]
  },
  {
   "cell_type": "markdown",
   "metadata": {},
   "source": [
    "### Load stopwords"
   ]
  },
  {
   "cell_type": "code",
   "execution_count": 193,
   "metadata": {
    "ExecuteTime": {
     "end_time": "2021-04-21T18:44:44.784314Z",
     "start_time": "2021-04-21T18:44:44.753156Z"
    }
   },
   "outputs": [],
   "source": [
    "STOPWORDS = {\n",
    "    'en': 'data/external/en_stopwords.txt',\n",
    "    'ru': 'data/external/ru_stopwords.txt',\n",
    "}"
   ]
  },
  {
   "cell_type": "code",
   "execution_count": 194,
   "metadata": {
    "ExecuteTime": {
     "end_time": "2021-04-21T18:44:45.146851Z",
     "start_time": "2021-04-21T18:44:45.114790Z"
    }
   },
   "outputs": [
    {
     "data": {
      "text/plain": [
       "420"
      ]
     },
     "execution_count": 194,
     "metadata": {},
     "output_type": "execute_result"
    }
   ],
   "source": [
    "stopwords = [Path(f).read_text().strip().split('\\n') for l,f in STOPWORDS.items()]\n",
    "\n",
    "stopwords = sum(stopwords, [])\n",
    "\n",
    "len(stopwords)"
   ]
  },
  {
   "cell_type": "markdown",
   "metadata": {},
   "source": [
    "### Features"
   ]
  },
  {
   "cell_type": "code",
   "execution_count": 195,
   "metadata": {
    "ExecuteTime": {
     "end_time": "2021-04-21T18:44:46.502510Z",
     "start_time": "2021-04-21T18:44:46.472154Z"
    }
   },
   "outputs": [],
   "source": [
    "def prepare_text(row):\n",
    "    \"\"\" extract and merge all text from a channel \"\"\"\n",
    "    post_texts = '\\n'.join([post.get('text', \"\") for post in row['recent_posts']])\n",
    "    merged = '\\n'.join([row['title'], row['description'], post_texts])\n",
    "    return merged"
   ]
  },
  {
   "cell_type": "code",
   "execution_count": 196,
   "metadata": {
    "ExecuteTime": {
     "end_time": "2021-04-21T18:44:46.853740Z",
     "start_time": "2021-04-21T18:44:46.818711Z"
    }
   },
   "outputs": [],
   "source": [
    "comb['text'] = comb.apply(prepare_text, axis=1)"
   ]
  },
  {
   "cell_type": "markdown",
   "metadata": {},
   "source": [
    "## Experiments\n",
    "\n",
    "**Hyper-parameters:**\n",
    "- [x] topics: primary only, primary + secondary\n",
    "- [x] inputs: title, description, posts\n",
    "- [x] preprocessing: raw, lemmas\n",
    "- [x] vectorizers: tf-idf, bow\n",
    "- [x] clf: xgb, nb, etc."
   ]
  },
  {
   "cell_type": "code",
   "execution_count": 197,
   "metadata": {
    "ExecuteTime": {
     "end_time": "2021-04-21T18:44:47.649002Z",
     "start_time": "2021-04-21T18:44:47.619777Z"
    }
   },
   "outputs": [],
   "source": [
    "from sklearn.model_selection import train_test_split\n",
    "\n",
    "from sklearn.feature_extraction.text import CountVectorizer, TfidfVectorizer\n",
    "from sklearn.multioutput import MultiOutputClassifier, ClassifierChain\n",
    "from sklearn.preprocessing import MultiLabelBinarizer, OneHotEncoder\n",
    "from sklearn.linear_model import LogisticRegression, ElasticNet\n",
    "from sklearn.ensemble import GradientBoostingClassifier, RandomForestClassifier\n",
    "from sklearn.model_selection import cross_val_score\n",
    "from sklearn.metrics import confusion_matrix\n",
    "from sklearn.tree import ExtraTreeClassifier\n",
    "from sklearn.neighbors import KNeighborsClassifier\n",
    "from sklearn.svm import LinearSVC, SVC\n",
    "from sklearn.naive_bayes import ComplementNB, MultinomialNB\n",
    "\n",
    "from xgboost import XGBClassifier\n",
    "\n",
    "import itertools"
   ]
  },
  {
   "cell_type": "code",
   "execution_count": 198,
   "metadata": {
    "ExecuteTime": {
     "end_time": "2021-04-21T18:44:49.423065Z",
     "start_time": "2021-04-21T18:44:49.395803Z"
    }
   },
   "outputs": [],
   "source": [
    "from src.train.text_utils import tokenize_text"
   ]
  },
  {
   "cell_type": "code",
   "execution_count": 199,
   "metadata": {
    "ExecuteTime": {
     "end_time": "2021-04-21T18:44:50.298311Z",
     "start_time": "2021-04-21T18:44:49.643413Z"
    }
   },
   "outputs": [],
   "source": [
    "class Trainer:\n",
    "    \"\"\" prapre inputs, vectorize texts and run a classifier \"\"\"\n",
    "    def __init__(self, lang_code, preprocessing, vect, est):\n",
    "        self.LANG = lang_code\n",
    "        self.data = comb.query(f\"lang_code == '{lang_code}'\")\n",
    "        self.vect = VECTORIZERS[vect]\n",
    "        self.vect.preprocessor = lambda x: x\n",
    "        self.vect.lowercase = False\n",
    "        self.clf = ESTIMATORS[est]\n",
    "        assert preprocessing in ['lemma', 'raw']\n",
    "        self.preprocessing = preprocessing\n",
    "        if preprocessing == 'lemma':\n",
    "            self.vect.tokenizer = lang_lemmatizer(lang_code)\n",
    "        else:\n",
    "            self.vect.tokenizer = tokenize_text\n",
    "        \n",
    "        \n",
    "    def prepare_data(self, is_final):\n",
    "        # text inputs and \n",
    "#         inputs['text'] = inputs.apply(lambda x: prepare_inputs(x, self.INPUT_FIELDS), axis=1)\n",
    "#         test_data['text'] = test_data.apply(lambda x: prepare_inputs(x, self.INPUT_FIELDS), axis=1)\n",
    "        # split into  train and test\n",
    "#         test_subset = test_data.query(f\"lang_code == '{self.LANG}'\")\n",
    "#         external_subset = inputs.query(f\"lang_code == '{self.LANG}'\")\n",
    "        self.train_inputs,self.test_inputs = train_test_split(self.data, test_size=TEST_SIZE, random_state=24, shuffle=True,)\n",
    "#         comb_datasets = [external_subset, one, self.test_inputs] if is_final else [external_subset, one]\n",
    "#         self.train_inputs = pd.concat(one, axis=0)\n",
    "        # x and y\n",
    "        self.y_train = self.train_inputs['topic']\n",
    "        self.y_test = self.test_inputs['topic']\n",
    "        self.sample_weights = self.train_inputs['weight']\n",
    "        self.X_train = self.vect.fit_transform(self.train_inputs['text'])\n",
    "        self.X_test = self.vect.transform(self.test_inputs['text'])\n",
    "        \n",
    "        \n",
    "    def run_eval(self, final=False):\n",
    "        \"\"\" prepare inputs and run clf evaluation \"\"\"\n",
    "        self.prepare_data(final)\n",
    "        # fit and eval\n",
    "        self.clf.fit(self.X_train, self.y_train, sample_weight=self.sample_weights)\n",
    "        self.predictions = pd.DataFrame({\n",
    "                    'true': trainer.test_inputs['primary'],\n",
    "                    'predicted': trainer.clf.predict(trainer.X_test)\n",
    "                })\n",
    "        score = self.predictions.apply(lambda x: x['predicted'] in x['true'], axis=1).mean()\n",
    "        return score"
   ]
  },
  {
   "cell_type": "markdown",
   "metadata": {},
   "source": [
    "### Set hyper-parameters"
   ]
  },
  {
   "cell_type": "code",
   "execution_count": 200,
   "metadata": {
    "ExecuteTime": {
     "end_time": "2021-04-21T18:44:51.429772Z",
     "start_time": "2021-04-21T18:44:51.401932Z"
    }
   },
   "outputs": [],
   "source": [
    "TEST_SIZE = 0.1"
   ]
  },
  {
   "cell_type": "code",
   "execution_count": 201,
   "metadata": {
    "ExecuteTime": {
     "end_time": "2021-04-21T18:44:51.865537Z",
     "start_time": "2021-04-21T18:44:51.836879Z"
    }
   },
   "outputs": [],
   "source": [
    "PREPROCESSING = [\n",
    "    'raw',\n",
    "#     'lemma',\n",
    "]\n",
    "\n",
    "vect_params = dict(\n",
    "    max_df=0.4, \n",
    "    min_df=3,\n",
    "    max_features=1000,\n",
    "    binary=False, \n",
    "    ngram_range=(1,1), \n",
    "    tokenizer=tokenize_text,\n",
    "    stop_words=stopwords, \n",
    ")\n",
    "VECTORIZERS = {\n",
    "    'tfidf': TfidfVectorizer(**vect_params),\n",
    "    'bow': CountVectorizer(**vect_params),\n",
    "}\n",
    "\n",
    "\n",
    "ESTIMATORS = dict(\n",
    "#     xgb = XGBClassifier(objective='multi:softmax'),\n",
    "#     forest = RandomForestClassifier(),\n",
    "#     logreg = LogisticRegression(),\n",
    "#     knn = KNeighborsClassifier(),\n",
    "#     tree = ExtraTreeClassifier(),\n",
    "#     svm = SVC(),\n",
    "#     linsvm = LinearSVC(),\n",
    "    cnb = ComplementNB(),\n",
    "    mnb = MultinomialNB(),\n",
    ")"
   ]
  },
  {
   "cell_type": "code",
   "execution_count": 202,
   "metadata": {
    "ExecuteTime": {
     "end_time": "2021-04-21T18:44:53.345386Z",
     "start_time": "2021-04-21T18:44:53.313102Z"
    }
   },
   "outputs": [
    {
     "data": {
      "text/plain": [
       "20"
      ]
     },
     "execution_count": 202,
     "metadata": {},
     "output_type": "execute_result"
    }
   ],
   "source": [
    "\n",
    "train_params = list(itertools.product(test_data['lang_code'].unique(), \n",
    "                                      PREPROCESSING,\n",
    "                                VECTORIZERS.keys(), \n",
    "                                ESTIMATORS.keys()))\n",
    "\n",
    "len(train_params)"
   ]
  },
  {
   "cell_type": "markdown",
   "metadata": {},
   "source": [
    "### Run experiments"
   ]
  },
  {
   "cell_type": "code",
   "execution_count": 203,
   "metadata": {
    "ExecuteTime": {
     "end_time": "2021-04-21T18:44:56.044300Z",
     "start_time": "2021-04-21T18:44:55.023859Z"
    },
    "scrolled": true
   },
   "outputs": [
    {
     "name": "stderr",
     "output_type": "stream",
     "text": [
      "/Users/rustem.galiullin/miniconda3/envs/tgcat/lib/python3.7/site-packages/ipykernel_launcher.py:3: TqdmDeprecationWarning: This function will be removed in tqdm==5.0.0\n",
      "Please use `tqdm.notebook.tqdm` instead of `tqdm.tqdm_notebook`\n",
      "  This is separate from the ipykernel package so we can avoid doing imports until\n"
     ]
    },
    {
     "data": {
      "application/vnd.jupyter.widget-view+json": {
       "model_id": "0c9524ff59cf4d0d9d45d948be77f4c5",
       "version_major": 2,
       "version_minor": 0
      },
      "text/plain": [
       "# experiments:   0%|          | 0/20 [00:00<?, ?it/s]"
      ]
     },
     "metadata": {},
     "output_type": "display_data"
    },
    {
     "name": "stderr",
     "output_type": "stream",
     "text": [
      "/Users/rustem.galiullin/miniconda3/envs/tgcat/lib/python3.7/site-packages/sklearn/feature_extraction/text.py:391: UserWarning: Your stop_words may be inconsistent with your preprocessing. Tokenizing the stop words generated tokens ['cent', 'dr', 'mr', 'per'] not in stop_words.\n",
      "  'stop_words.' % sorted(inconsistent))\n",
      "/Users/rustem.galiullin/miniconda3/envs/tgcat/lib/python3.7/site-packages/sklearn/feature_extraction/text.py:391: UserWarning: Your stop_words may be inconsistent with your preprocessing. Tokenizing the stop words generated tokens ['cent', 'dr', 'mr', 'per'] not in stop_words.\n",
      "  'stop_words.' % sorted(inconsistent))\n"
     ]
    }
   ],
   "source": [
    "results = []\n",
    "\n",
    "for params in tqdm_notebook(train_params, desc='# experiments'):\n",
    "    trainer = Trainer(*params)\n",
    "    score = trainer.run_eval()\n",
    "    params += (score,)\n",
    "    results.append(params)\n",
    "                \n",
    "results = pd.DataFrame(results, columns=['lang_code','preprocessing','vect', 'est', 'score'])"
   ]
  },
  {
   "cell_type": "code",
   "execution_count": 204,
   "metadata": {
    "ExecuteTime": {
     "end_time": "2021-04-21T18:44:57.434616Z",
     "start_time": "2021-04-21T18:44:57.393297Z"
    }
   },
   "outputs": [
    {
     "name": "stdout",
     "output_type": "stream",
     "text": [
      "|    | lang_code   | preprocessing   | vect   | est   |    score |\n",
      "|---:|:------------|:----------------|:-------|:------|---------:|\n",
      "|  0 | ru          | raw             | tfidf  | cnb   | 0.166667 |\n",
      "|  2 | ru          | raw             | bow    | cnb   | 0.166667 |\n",
      "|  1 | ru          | raw             | tfidf  | mnb   | 0        |\n",
      "|  3 | ru          | raw             | bow    | mnb   | 0        |\n",
      "\n",
      "|    | lang_code   | preprocessing   | vect   | est   |   score |\n",
      "|---:|:------------|:----------------|:-------|:------|--------:|\n",
      "|  4 | en          | raw             | tfidf  | cnb   |     0.4 |\n",
      "|  6 | en          | raw             | bow    | cnb   |     0.4 |\n",
      "|  7 | en          | raw             | bow    | mnb   |     0.4 |\n",
      "|  5 | en          | raw             | tfidf  | mnb   |     0.2 |\n",
      "\n",
      "|    | lang_code   | preprocessing   | vect   | est   |   score |\n",
      "|---:|:------------|:----------------|:-------|:------|--------:|\n",
      "| 11 | fa          | raw             | bow    | mnb   |    0.25 |\n",
      "|  8 | fa          | raw             | tfidf  | cnb   |    0    |\n",
      "|  9 | fa          | raw             | tfidf  | mnb   |    0    |\n",
      "| 10 | fa          | raw             | bow    | cnb   |    0    |\n",
      "\n",
      "|    | lang_code   | preprocessing   | vect   | est   |   score |\n",
      "|---:|:------------|:----------------|:-------|:------|--------:|\n",
      "| 12 | uz          | raw             | tfidf  | cnb   |     0.2 |\n",
      "| 13 | uz          | raw             | tfidf  | mnb   |     0.2 |\n",
      "| 14 | uz          | raw             | bow    | cnb   |     0.2 |\n",
      "| 15 | uz          | raw             | bow    | mnb   |     0.2 |\n",
      "\n",
      "|    | lang_code   | preprocessing   | vect   | est   |   score |\n",
      "|---:|:------------|:----------------|:-------|:------|--------:|\n",
      "| 16 | ar          | raw             | tfidf  | cnb   |     0.6 |\n",
      "| 17 | ar          | raw             | tfidf  | mnb   |     0.6 |\n",
      "| 18 | ar          | raw             | bow    | cnb   |     0.4 |\n",
      "| 19 | ar          | raw             | bow    | mnb   |     0.2 |\n",
      "\n"
     ]
    }
   ],
   "source": [
    "for l in results['lang_code'].unique():\n",
    "    print(results.query(f'lang_code == \"{l}\"').sort_values('score', ascending=False).to_markdown(), end='\\n\\n')"
   ]
  },
  {
   "cell_type": "markdown",
   "metadata": {
    "heading_collapsed": true
   },
   "source": [
    "### Review errors"
   ]
  },
  {
   "cell_type": "code",
   "execution_count": 205,
   "metadata": {
    "ExecuteTime": {
     "end_time": "2021-04-21T18:45:04.016720Z",
     "start_time": "2021-04-21T18:45:03.990304Z"
    },
    "hidden": true
   },
   "outputs": [],
   "source": [
    "from sklearn.metrics import top_k_accuracy_score"
   ]
  },
  {
   "cell_type": "markdown",
   "metadata": {
    "hidden": true
   },
   "source": [
    "#### Train"
   ]
  },
  {
   "cell_type": "code",
   "execution_count": 169,
   "metadata": {
    "ExecuteTime": {
     "end_time": "2021-04-21T18:38:52.229891Z",
     "start_time": "2021-04-21T18:38:52.155926Z"
    },
    "hidden": true
   },
   "outputs": [
    {
     "name": "stdout",
     "output_type": "stream",
     "text": [
      "0.4\n"
     ]
    }
   ],
   "source": [
    "trainer = Trainer(\n",
    "    lang_code = 'ru', \n",
    "    preprocessing = 'raw',\n",
    "    vect = 'tfidf', \n",
    "    est = 'cnb'\n",
    ")\n",
    "s = trainer.run_eval(final=False)\n",
    "print(s)"
   ]
  },
  {
   "cell_type": "code",
   "execution_count": 170,
   "metadata": {
    "ExecuteTime": {
     "end_time": "2021-04-21T18:38:52.638235Z",
     "start_time": "2021-04-21T18:38:52.607195Z"
    },
    "hidden": true
   },
   "outputs": [
    {
     "name": "stdout",
     "output_type": "stream",
     "text": [
      "Top 1 accuracy: 1.00\n",
      "Top 2 accuracy: 1.00\n",
      "Top 3 accuracy: 1.00\n",
      "Top 5 accuracy: 1.00\n"
     ]
    }
   ],
   "source": [
    "for k in [1,2,3,5]:\n",
    "    top_k_acc = top_k_accuracy_score(trainer.y_test, trainer.clf.predict_proba(trainer.X_test), \n",
    "                                     labels=trainer.clf.classes_,\n",
    "                                        k=k)\n",
    "    print(f'Top {k} accuracy: {top_k_acc:.2f}', )"
   ]
  },
  {
   "cell_type": "markdown",
   "metadata": {
    "hidden": true
   },
   "source": [
    "#### Classification report"
   ]
  },
  {
   "cell_type": "code",
   "execution_count": 144,
   "metadata": {
    "ExecuteTime": {
     "end_time": "2021-04-21T18:35:39.319116Z",
     "start_time": "2021-04-21T18:35:39.292801Z"
    },
    "hidden": true
   },
   "outputs": [],
   "source": [
    "from sklearn.metrics import classification_report"
   ]
  },
  {
   "cell_type": "code",
   "execution_count": 145,
   "metadata": {
    "ExecuteTime": {
     "end_time": "2021-04-21T18:35:39.551443Z",
     "start_time": "2021-04-21T18:35:39.521410Z"
    },
    "hidden": true
   },
   "outputs": [],
   "source": [
    "test_pred = trainer.clf.predict(trainer.X_test)\n",
    "\n",
    "is_wrong = test_pred != trainer.y_test\n",
    "\n",
    "errors = trainer.test_inputs[is_wrong]\n",
    "\n",
    "errors['predicted'] = test_pred[is_wrong]"
   ]
  },
  {
   "cell_type": "code",
   "execution_count": 146,
   "metadata": {
    "ExecuteTime": {
     "end_time": "2021-04-21T18:35:40.889364Z",
     "start_time": "2021-04-21T18:35:40.546283Z"
    },
    "hidden": true
   },
   "outputs": [
    {
     "data": {
      "image/png": "[encoded data removed]",
      "text/plain": [
       "<Figure size 1008x576 with 2 Axes>"
      ]
     },
     "metadata": {
      "needs_background": "light"
     },
     "output_type": "display_data"
    }
   ],
   "source": [
    "ct = pd.crosstab(trainer.y_test, test_pred)\n",
    "for i,k in ct.iteritems():\n",
    "    k[i] = 0\n",
    "\n",
    "\n",
    "plt.figure(figsize=(14,8))\n",
    "sns.heatmap(ct, annot=True, linewidths=0.01);"
   ]
  },
  {
   "cell_type": "code",
   "execution_count": 147,
   "metadata": {
    "ExecuteTime": {
     "end_time": "2021-04-21T18:35:43.314908Z",
     "start_time": "2021-04-21T18:35:43.277992Z"
    },
    "hidden": true,
    "scrolled": false
   },
   "outputs": [
    {
     "name": "stdout",
     "output_type": "stream",
     "text": [
      "|                             |   precision |   recall |   f1-score |   support |\n",
      "|:----------------------------|------------:|---------:|-----------:|----------:|\n",
      "| Business & Entrepreneurship |           1 |        1 |          1 |         2 |\n",
      "| Curious Facts               |           1 |        1 |          1 |         1 |\n",
      "| Politics & Incidents        |           1 |        1 |          1 |         1 |\n",
      "| Prostitution                |           1 |        1 |          1 |         1 |\n",
      "| accuracy                    |           1 |        1 |          1 |         1 |\n",
      "| macro avg                   |           1 |        1 |          1 |         5 |\n",
      "| weighted avg                |           1 |        1 |          1 |         5 |\n"
     ]
    }
   ],
   "source": [
    "metrics = pd.DataFrame(classification_report(trainer.y_test, test_pred, output_dict=True, zero_division=0)).T\n",
    "\n",
    "metrics = metrics.query(\"support > 0\").sort_values('f1-score', ascending=True)\n",
    "\n",
    "print(metrics.to_markdown())"
   ]
  },
  {
   "cell_type": "markdown",
   "metadata": {
    "hidden": true
   },
   "source": [
    "#### random examples"
   ]
  },
  {
   "cell_type": "code",
   "execution_count": 150,
   "metadata": {
    "ExecuteTime": {
     "end_time": "2021-04-21T18:36:30.437524Z",
     "start_time": "2021-04-21T18:36:28.448847Z"
    },
    "hidden": true,
    "scrolled": true
   },
   "outputs": [
    {
     "ename": "ValueError",
     "evalue": "a must be greater than 0 unless no samples are taken",
     "output_type": "error",
     "traceback": [
      "\u001b[0;31m---------------------------------------------------------------------------\u001b[0m",
      "\u001b[0;31mValueError\u001b[0m                                Traceback (most recent call last)",
      "\u001b[0;32m<ipython-input-150-fdbba4dd371d>\u001b[0m in \u001b[0;36m<module>\u001b[0;34m\u001b[0m\n\u001b[0;32m----> 1\u001b[0;31m \u001b[0mrow\u001b[0m \u001b[0;34m=\u001b[0m \u001b[0merrors\u001b[0m\u001b[0;34m.\u001b[0m\u001b[0msample\u001b[0m\u001b[0;34m(\u001b[0m\u001b[0;36m1\u001b[0m\u001b[0;34m)\u001b[0m\u001b[0;34m.\u001b[0m\u001b[0miloc\u001b[0m\u001b[0;34m[\u001b[0m\u001b[0;36m0\u001b[0m\u001b[0;34m]\u001b[0m\u001b[0;34m\u001b[0m\u001b[0;34m\u001b[0m\u001b[0m\n\u001b[0m\u001b[1;32m      2\u001b[0m \u001b[0;34m\u001b[0m\u001b[0m\n\u001b[1;32m      3\u001b[0m \u001b[0mprint\u001b[0m\u001b[0;34m(\u001b[0m\u001b[0;34m'PREDICTED:\\n'\u001b[0m\u001b[0;34m,\u001b[0m \u001b[0mrow\u001b[0m\u001b[0;34m[\u001b[0m\u001b[0;34m'predicted'\u001b[0m\u001b[0;34m]\u001b[0m\u001b[0;34m,\u001b[0m \u001b[0mend\u001b[0m\u001b[0;34m=\u001b[0m\u001b[0;34m'\\n\\n'\u001b[0m\u001b[0;34m)\u001b[0m\u001b[0;34m\u001b[0m\u001b[0;34m\u001b[0m\u001b[0m\n\u001b[1;32m      4\u001b[0m \u001b[0mprint\u001b[0m\u001b[0;34m(\u001b[0m\u001b[0;34m'TRUE:\\n'\u001b[0m\u001b[0;34m,\u001b[0m \u001b[0mrow\u001b[0m\u001b[0;34m[\u001b[0m\u001b[0;34m'primary'\u001b[0m\u001b[0;34m]\u001b[0m\u001b[0;34m,\u001b[0m \u001b[0mend\u001b[0m\u001b[0;34m=\u001b[0m\u001b[0;34m'\\n\\n'\u001b[0m\u001b[0;34m)\u001b[0m\u001b[0;34m\u001b[0m\u001b[0;34m\u001b[0m\u001b[0m\n\u001b[1;32m      5\u001b[0m \u001b[0mprint\u001b[0m\u001b[0;34m(\u001b[0m\u001b[0;34m'TEXTS:\\n'\u001b[0m\u001b[0;34m,\u001b[0m \u001b[0mrow\u001b[0m\u001b[0;34m[\u001b[0m\u001b[0;34m'text'\u001b[0m\u001b[0;34m]\u001b[0m\u001b[0;34m,\u001b[0m \u001b[0mend\u001b[0m\u001b[0;34m=\u001b[0m\u001b[0;34m'\\n\\n'\u001b[0m\u001b[0;34m)\u001b[0m\u001b[0;34m\u001b[0m\u001b[0;34m\u001b[0m\u001b[0m\n",
      "\u001b[0;32m~/miniconda3/envs/tgcat/lib/python3.7/site-packages/pandas/core/generic.py\u001b[0m in \u001b[0;36msample\u001b[0;34m(self, n, frac, replace, weights, random_state, axis)\u001b[0m\n\u001b[1;32m   5345\u001b[0m             )\n\u001b[1;32m   5346\u001b[0m \u001b[0;34m\u001b[0m\u001b[0m\n\u001b[0;32m-> 5347\u001b[0;31m         \u001b[0mlocs\u001b[0m \u001b[0;34m=\u001b[0m \u001b[0mrs\u001b[0m\u001b[0;34m.\u001b[0m\u001b[0mchoice\u001b[0m\u001b[0;34m(\u001b[0m\u001b[0maxis_length\u001b[0m\u001b[0;34m,\u001b[0m \u001b[0msize\u001b[0m\u001b[0;34m=\u001b[0m\u001b[0mn\u001b[0m\u001b[0;34m,\u001b[0m \u001b[0mreplace\u001b[0m\u001b[0;34m=\u001b[0m\u001b[0mreplace\u001b[0m\u001b[0;34m,\u001b[0m \u001b[0mp\u001b[0m\u001b[0;34m=\u001b[0m\u001b[0mweights\u001b[0m\u001b[0;34m)\u001b[0m\u001b[0;34m\u001b[0m\u001b[0;34m\u001b[0m\u001b[0m\n\u001b[0m\u001b[1;32m   5348\u001b[0m         \u001b[0;32mreturn\u001b[0m \u001b[0mself\u001b[0m\u001b[0;34m.\u001b[0m\u001b[0mtake\u001b[0m\u001b[0;34m(\u001b[0m\u001b[0mlocs\u001b[0m\u001b[0;34m,\u001b[0m \u001b[0maxis\u001b[0m\u001b[0;34m=\u001b[0m\u001b[0maxis\u001b[0m\u001b[0;34m)\u001b[0m\u001b[0;34m\u001b[0m\u001b[0;34m\u001b[0m\u001b[0m\n\u001b[1;32m   5349\u001b[0m \u001b[0;34m\u001b[0m\u001b[0m\n",
      "\u001b[0;32mmtrand.pyx\u001b[0m in \u001b[0;36mnumpy.random.mtrand.RandomState.choice\u001b[0;34m()\u001b[0m\n",
      "\u001b[0;31mValueError\u001b[0m: a must be greater than 0 unless no samples are taken"
     ]
    },
    {
     "name": "stdout",
     "output_type": "stream",
     "text": [
      "> \u001b[0;32m/Users/rustem.galiullin/Personal/libtgcat/mtrand.pyx\u001b[0m(903)\u001b[0;36mnumpy.random.mtrand.RandomState.choice\u001b[0;34m()\u001b[0m\n",
      "\n",
      "ipdb> q\n"
     ]
    }
   ],
   "source": [
    "row = errors.sample(1).iloc[0]\n",
    "\n",
    "print('PREDICTED:\\n', row['predicted'], end='\\n\\n')\n",
    "print('TRUE:\\n', row['primary'], end='\\n\\n')\n",
    "print('TEXTS:\\n', row['text'], end='\\n\\n')\n",
    "print(f'TITLE ({row[\"id\"]}):\\n', row['title'], end='\\n\\n')\n",
    "print('DESCRIPTION:\\n', row['description'], end='\\n\\n')"
   ]
  },
  {
   "cell_type": "code",
   "execution_count": 151,
   "metadata": {
    "ExecuteTime": {
     "end_time": "2021-04-21T18:36:33.381307Z",
     "start_time": "2021-04-21T18:36:33.353817Z"
    },
    "code_folding": [],
    "hidden": true
   },
   "outputs": [],
   "source": [
    "def get_topic_features(nb_clf, class_label, top_n=15):\n",
    "    \"\"\" get features with largest log prob for the given class \"\"\"\n",
    "    class_i = np.argwhere(nb_clf.classes_ == class_label).squeeze()\n",
    "    class_coef = nb_clf.feature_log_prob_[class_i]\n",
    "    top_inds = np.argsort(class_coef)[-top_n:]\n",
    "    return top_inds"
   ]
  },
  {
   "cell_type": "code",
   "execution_count": 152,
   "metadata": {
    "ExecuteTime": {
     "end_time": "2021-04-21T18:36:36.509061Z",
     "start_time": "2021-04-21T18:36:33.566690Z"
    },
    "hidden": true,
    "scrolled": true
   },
   "outputs": [
    {
     "ename": "NameError",
     "evalue": "name 'row' is not defined",
     "output_type": "error",
     "traceback": [
      "\u001b[0;31m---------------------------------------------------------------------------\u001b[0m",
      "\u001b[0;31mNameError\u001b[0m                                 Traceback (most recent call last)",
      "\u001b[0;32m<ipython-input-152-a4474647cb07>\u001b[0m in \u001b[0;36m<module>\u001b[0;34m\u001b[0m\n\u001b[1;32m      1\u001b[0m \u001b[0mFEATURES\u001b[0m \u001b[0;34m=\u001b[0m \u001b[0mtrainer\u001b[0m\u001b[0;34m.\u001b[0m\u001b[0mvect\u001b[0m\u001b[0;34m.\u001b[0m\u001b[0mget_feature_names\u001b[0m\u001b[0;34m(\u001b[0m\u001b[0;34m)\u001b[0m\u001b[0;34m\u001b[0m\u001b[0;34m\u001b[0m\u001b[0m\n\u001b[0;32m----> 2\u001b[0;31m \u001b[0mPREDICTED_INDEX\u001b[0m \u001b[0;34m=\u001b[0m \u001b[0mnp\u001b[0m\u001b[0;34m.\u001b[0m\u001b[0margwhere\u001b[0m\u001b[0;34m(\u001b[0m\u001b[0mtrainer\u001b[0m\u001b[0;34m.\u001b[0m\u001b[0mclf\u001b[0m\u001b[0;34m.\u001b[0m\u001b[0mclasses_\u001b[0m \u001b[0;34m==\u001b[0m \u001b[0mrow\u001b[0m\u001b[0;34m[\u001b[0m\u001b[0;34m'predicted'\u001b[0m\u001b[0;34m]\u001b[0m\u001b[0;34m)\u001b[0m\u001b[0;34m.\u001b[0m\u001b[0msqueeze\u001b[0m\u001b[0;34m(\u001b[0m\u001b[0;34m)\u001b[0m\u001b[0;34m\u001b[0m\u001b[0;34m\u001b[0m\u001b[0m\n\u001b[0m\u001b[1;32m      3\u001b[0m \u001b[0;34m\u001b[0m\u001b[0m\n\u001b[1;32m      4\u001b[0m \u001b[0;31m# get top features that triggered prediction\u001b[0m\u001b[0;34m\u001b[0m\u001b[0;34m\u001b[0m\u001b[0;34m\u001b[0m\u001b[0m\n\u001b[1;32m      5\u001b[0m \u001b[0mx\u001b[0m \u001b[0;34m=\u001b[0m \u001b[0mtrainer\u001b[0m\u001b[0;34m.\u001b[0m\u001b[0mvect\u001b[0m\u001b[0;34m.\u001b[0m\u001b[0mtransform\u001b[0m\u001b[0;34m(\u001b[0m\u001b[0;34m[\u001b[0m\u001b[0mrow\u001b[0m\u001b[0;34m[\u001b[0m\u001b[0;34m'text'\u001b[0m\u001b[0;34m]\u001b[0m\u001b[0;34m]\u001b[0m\u001b[0;34m)\u001b[0m\u001b[0;34m.\u001b[0m\u001b[0mtoarray\u001b[0m\u001b[0;34m(\u001b[0m\u001b[0;34m)\u001b[0m\u001b[0;34m[\u001b[0m\u001b[0;36m0\u001b[0m\u001b[0;34m]\u001b[0m\u001b[0;34m\u001b[0m\u001b[0;34m\u001b[0m\u001b[0m\n",
      "\u001b[0;31mNameError\u001b[0m: name 'row' is not defined"
     ]
    },
    {
     "name": "stdout",
     "output_type": "stream",
     "text": [
      "> \u001b[0;32m<ipython-input-152-a4474647cb07>\u001b[0m(2)\u001b[0;36m<module>\u001b[0;34m()\u001b[0m\n",
      "\u001b[0;32m      1 \u001b[0;31m\u001b[0mFEATURES\u001b[0m \u001b[0;34m=\u001b[0m \u001b[0mtrainer\u001b[0m\u001b[0;34m.\u001b[0m\u001b[0mvect\u001b[0m\u001b[0;34m.\u001b[0m\u001b[0mget_feature_names\u001b[0m\u001b[0;34m(\u001b[0m\u001b[0;34m)\u001b[0m\u001b[0;34m\u001b[0m\u001b[0;34m\u001b[0m\u001b[0m\n",
      "\u001b[0m\u001b[0;32m----> 2 \u001b[0;31m\u001b[0mPREDICTED_INDEX\u001b[0m \u001b[0;34m=\u001b[0m \u001b[0mnp\u001b[0m\u001b[0;34m.\u001b[0m\u001b[0margwhere\u001b[0m\u001b[0;34m(\u001b[0m\u001b[0mtrainer\u001b[0m\u001b[0;34m.\u001b[0m\u001b[0mclf\u001b[0m\u001b[0;34m.\u001b[0m\u001b[0mclasses_\u001b[0m \u001b[0;34m==\u001b[0m \u001b[0mrow\u001b[0m\u001b[0;34m[\u001b[0m\u001b[0;34m'predicted'\u001b[0m\u001b[0;34m]\u001b[0m\u001b[0;34m)\u001b[0m\u001b[0;34m.\u001b[0m\u001b[0msqueeze\u001b[0m\u001b[0;34m(\u001b[0m\u001b[0;34m)\u001b[0m\u001b[0;34m\u001b[0m\u001b[0;34m\u001b[0m\u001b[0m\n",
      "\u001b[0m\u001b[0;32m      3 \u001b[0;31m\u001b[0;34m\u001b[0m\u001b[0m\n",
      "\u001b[0m\u001b[0;32m      4 \u001b[0;31m\u001b[0;31m# get top features that triggered prediction\u001b[0m\u001b[0;34m\u001b[0m\u001b[0;34m\u001b[0m\u001b[0;34m\u001b[0m\u001b[0m\n",
      "\u001b[0m\u001b[0;32m      5 \u001b[0;31m\u001b[0mx\u001b[0m \u001b[0;34m=\u001b[0m \u001b[0mtrainer\u001b[0m\u001b[0;34m.\u001b[0m\u001b[0mvect\u001b[0m\u001b[0;34m.\u001b[0m\u001b[0mtransform\u001b[0m\u001b[0;34m(\u001b[0m\u001b[0;34m[\u001b[0m\u001b[0mrow\u001b[0m\u001b[0;34m[\u001b[0m\u001b[0;34m'text'\u001b[0m\u001b[0;34m]\u001b[0m\u001b[0;34m]\u001b[0m\u001b[0;34m)\u001b[0m\u001b[0;34m.\u001b[0m\u001b[0mtoarray\u001b[0m\u001b[0;34m(\u001b[0m\u001b[0;34m)\u001b[0m\u001b[0;34m[\u001b[0m\u001b[0;36m0\u001b[0m\u001b[0;34m]\u001b[0m\u001b[0;34m\u001b[0m\u001b[0;34m\u001b[0m\u001b[0m\n",
      "\u001b[0m\n",
      "ipdb> q\n"
     ]
    }
   ],
   "source": [
    "FEATURES = trainer.vect.get_feature_names()\n",
    "PREDICTED_INDEX = np.argwhere(trainer.clf.classes_ == row['predicted']).squeeze()\n",
    "\n",
    "# get top features that triggered prediction\n",
    "x = trainer.vect.transform([row['text']]).toarray()[0]\n",
    "f = ( trainer.clf.feature_log_prob_ * x.T)[PREDICTED_INDEX]\n",
    "top_keywords = [FEATURES[i] for i in np.argsort(f)[::-1][:15]]\n",
    "\n",
    "\n",
    "true_inds = get_topic_features(trainer.clf, row['topic'],)\n",
    "true_keywords = [FEATURES[i] for i in true_inds]\n",
    "\n",
    "predicted_inds = get_topic_features(trainer.clf, row['predicted'],)\n",
    "predicted_keywords = [FEATURES[i] for i in predicted_inds]\n",
    "\n",
    "\n",
    "print('TRUE CLASS: ', row['topic'])\n",
    "print(true_keywords, end='\\n\\n')\n",
    "print(f'PREDICTED CLASS: {row[\"predicted\"]}')\n",
    "print(predicted_keywords, end='\\n\\n')\n",
    "print('EXAMPLE')\n",
    "print(top_keywords)"
   ]
  },
  {
   "cell_type": "markdown",
   "metadata": {
    "hidden": true
   },
   "source": [
    "#### Fixes"
   ]
  },
  {
   "cell_type": "markdown",
   "metadata": {
    "hidden": true
   },
   "source": [
    "**fixes**\n",
    "- [ ] update stopwords\n",
    "- [x] lemmas\n",
    "- [x] remove single char terms\n",
    "- [x] compare feature keywords against topic keywords\n",
    "- [x] multi-class problem\n",
    "- [x] only eng and rus chars\n",
    "- [x] measure accuracy with top N predictions\n",
    "- [x] use full data to train last\n",
    "- [ ] sample weights for secondary\n",
    "- [ ] bow to torchscript\n",
    "- [x] apply sum normalization only then min prob threshold\n",
    "- [x] fix when nothing predicted (add zero vectors as Other)\n",
    "- [x] remove URL for lang detection"
   ]
  },
  {
   "cell_type": "markdown",
   "metadata": {},
   "source": [
    "## Save models"
   ]
  },
  {
   "cell_type": "code",
   "execution_count": 206,
   "metadata": {
    "ExecuteTime": {
     "end_time": "2021-04-21T18:45:06.341219Z",
     "start_time": "2021-04-21T18:45:06.314643Z"
    }
   },
   "outputs": [],
   "source": [
    "from torch import nn\n",
    "import torch\n",
    "from torch.nn import functional as F\n",
    "from typing import Dict, List, Tuple"
   ]
  },
  {
   "cell_type": "code",
   "execution_count": 207,
   "metadata": {
    "ExecuteTime": {
     "end_time": "2021-04-21T18:45:06.552676Z",
     "start_time": "2021-04-21T18:45:06.511352Z"
    },
    "code_folding": [
     0,
     24,
     71
    ]
   },
   "outputs": [],
   "source": [
    "class NaiveBayes(nn.Module):\n",
    "    \"\"\" Implement Multinomial and Complement NB inference \"\"\"\n",
    "    def __init__(self, nb, clf,):\n",
    "        super().__init__()\n",
    "        assert nb in ['cnb','mnb']\n",
    "        self.nb = nb\n",
    "        self.feature_log_prior = nn.Parameter(torch.tensor(clf.feature_log_prob_), requires_grad=False)\n",
    "        self.class_log_prior = nn.Parameter(torch.tensor(clf.class_log_prior_), requires_grad=False)\n",
    "        self.class_labels = clf.classes_.tolist()\n",
    "        \n",
    "\n",
    "    def forward(self, x: torch.Tensor) -> torch.Tensor:\n",
    "        jll = torch.matmul(x.double(), self.feature_log_prior.T)\n",
    "        if self.nb == 'cnb':\n",
    "            if self.class_log_prior.size(0) == 1:\n",
    "                jll += self.class_log_prior\n",
    "        else:\n",
    "            jll += self.class_log_prior\n",
    "        log_prob = torch.logsumexp(jll, dim=1)\n",
    "        log_prob = jll - torch.atleast_2d(log_prob).T\n",
    "        prob = torch.exp(log_prob)\n",
    "        return prob\n",
    "\n",
    "\n",
    "class TextVectorizer(nn.Module):\n",
    "    \"\"\" vectorize text using tf-idf or bow \"\"\"\n",
    "    def __init__(self, vect, vectorizer):\n",
    "        super().__init__()\n",
    "        assert vect in ['bow','tfidf']\n",
    "        self.vocab = {k: torch.tensor(v) for k,v in vectorizer.vocabulary_.items()}\n",
    "        self.vocab_len = len(self.vocab)\n",
    "        if vect == 'tfidf':\n",
    "            self.idf_diag = nn.Parameter(\n",
    "                torch.tensor(vectorizer._tfidf._idf_diag.toarray()), \n",
    "                requires_grad=False)\n",
    "            self.sublinear_tf = vectorizer.sublinear_tf\n",
    "            self.norm = vectorizer.norm\n",
    "            self.use_idf = vectorizer.use_idf\n",
    "        else:\n",
    "            self.idf_diag = nn.Parameter(torch.eye(self.vocab_len))\n",
    "            self.sublinear_tf = False\n",
    "            self.norm = None\n",
    "            self.use_idf = False\n",
    "            \n",
    "        \n",
    "\n",
    "    def count_vocab(self, doc: List[str]) -> torch.Tensor:\n",
    "        \"\"\" return counts of each word from the vocab \"\"\"\n",
    "        feature_counter = torch.zeros(self.vocab_len, dtype=torch.long)\n",
    "        for feature in doc:\n",
    "            n = self.vocab.get(str(feature), torch.tensor(-1))\n",
    "            if n.item() != -1:\n",
    "                feature_idx = self.vocab[str(feature)]\n",
    "                feature_counter[feature_idx] += 1\n",
    "        return feature_counter\n",
    "        \n",
    "        \n",
    "    def forward(self, batch: List[List[str]]) -> torch.Tensor:\n",
    "        doc_counts: List[torch.Tensor] = [self.count_vocab(doc) for doc in batch]\n",
    "        X = torch.stack(doc_counts,)\n",
    "        if self.sublinear_tf:\n",
    "            X = torch.log(X.double())\n",
    "            X += 1\n",
    "        if self.use_idf:\n",
    "            X = torch.matmul(X.double(), self.idf_diag)\n",
    "        if self.norm is not None:\n",
    "            p = float(self.norm[-1])\n",
    "            X = F.normalize(X.double(), p=p, dim=1)\n",
    "        return X\n",
    "    \n",
    "\n",
    "class TgCat(nn.Module):\n",
    "    \"\"\" vectorize input texts, classfy topics and decode predictions \"\"\"\n",
    "    def __init__(self, vect, clf, top_k=3,):\n",
    "        super().__init__()\n",
    "        self.vect = vect\n",
    "        self.clf = clf\n",
    "        self.top_k = top_k\n",
    "        \n",
    "        \n",
    "    def select_top_classes(self, probs: torch.Tensor) -> Dict[str,float]:\n",
    "        \"\"\" select classes with at least min prob and return a normalized dict mapping \"\"\"\n",
    "        if self.clf.nb == 'cnb':\n",
    "            if probs.std(0) < 0.0001:\n",
    "                return {\"Other\": 1.0}\n",
    "        else:\n",
    "            if probs.max() < 0.1:\n",
    "                return {\"Other\": 1.0}\n",
    "        inds_desc = torch.argsort(probs, 0, descending=True)\n",
    "        top_k = min((probs > probs.mean()).sum(), torch.tensor(self.top_k))\n",
    "        target_i = inds_desc[:top_k]\n",
    "        target_p = probs[target_i]\n",
    "        target_p = target_p / target_p.sum()\n",
    "        result: List[Tuple[str, float]] = [\n",
    "            (self.clf.class_labels[target_i[i].item()], target_p[i].item())\n",
    "            for i in range(target_p.size(0))\n",
    "        ]\n",
    "        return dict(result)\n",
    "    \n",
    "    \n",
    "    def get_prob(self, batch: List[List[str]]) -> torch.Tensor:\n",
    "        embeddings = self.vect(batch)\n",
    "        probs = self.clf(embeddings)\n",
    "        return probs\n",
    "        \n",
    "    \n",
    "    def forward(self, batch: List[List[str]]) -> List[Dict[str, float]]:\n",
    "        probs = self.get_prob(batch)\n",
    "        top_predictions = [self.select_top_classes(probs[i]) for i in range(probs.size(0))]\n",
    "        return top_predictions"
   ]
  },
  {
   "cell_type": "markdown",
   "metadata": {},
   "source": [
    "### Test"
   ]
  },
  {
   "cell_type": "code",
   "execution_count": 208,
   "metadata": {
    "ExecuteTime": {
     "end_time": "2021-04-21T18:45:09.397514Z",
     "start_time": "2021-04-21T18:45:09.321447Z"
    }
   },
   "outputs": [],
   "source": [
    "V = 'tfidf'\n",
    "E = 'cnb'\n",
    "L = 'en'\n",
    "\n",
    "trainer = Trainer(\n",
    "    lang_code = L, \n",
    "    preprocessing = 'raw',\n",
    "    vect = V, \n",
    "    est = E,\n",
    ")\n",
    "_ = trainer.run_eval(final=False)\n",
    "\n",
    "tgcat = TgCat(TextVectorizer(V, trainer.vect), NaiveBayes(E, trainer.clf), top_k=3)"
   ]
  },
  {
   "cell_type": "code",
   "execution_count": 209,
   "metadata": {
    "ExecuteTime": {
     "end_time": "2021-04-21T18:45:10.397496Z",
     "start_time": "2021-04-21T18:45:10.360619Z"
    }
   },
   "outputs": [],
   "source": [
    "\n",
    "batch = trainer.test_inputs['text'].apply(tokenize_text).tolist()\n",
    "\n",
    "predictions = tgcat(batch)"
   ]
  },
  {
   "cell_type": "code",
   "execution_count": 210,
   "metadata": {
    "ExecuteTime": {
     "end_time": "2021-04-21T18:45:10.582339Z",
     "start_time": "2021-04-21T18:45:10.548027Z"
    }
   },
   "outputs": [],
   "source": [
    "v = tgcat.vect(batch)\n",
    "p = tgcat.clf(v)"
   ]
  },
  {
   "cell_type": "code",
   "execution_count": 211,
   "metadata": {
    "ExecuteTime": {
     "end_time": "2021-04-21T18:45:10.771613Z",
     "start_time": "2021-04-21T18:45:10.738550Z"
    }
   },
   "outputs": [
    {
     "data": {
      "text/plain": [
       "[{'Other': 1.0}, {'Other': 1.0}, {'Other': 1.0}, {'Other': 1.0}]"
      ]
     },
     "execution_count": 211,
     "metadata": {},
     "output_type": "execute_result"
    }
   ],
   "source": [
    "tgcat([['a','s','d'], [\"\"], [\"other\", 'other', 'ttt'], [\"чгк\", \"нияег\", \"его\"]])"
   ]
  },
  {
   "cell_type": "code",
   "execution_count": 213,
   "metadata": {
    "ExecuteTime": {
     "end_time": "2021-04-21T18:45:20.306412Z",
     "start_time": "2021-04-21T18:45:20.278285Z"
    },
    "scrolled": true
   },
   "outputs": [
    {
     "name": "stdout",
     "output_type": "stream",
     "text": [
      "PREDICTED {'Offers & Promotions': 0.3450365632908583, 'Cryptocurrencies': 0.3315956702259165, 'Bets & Gambling': 0.3233677664832253}\n",
      "\n",
      "TOKENS ['strategic', 'alphafocused', 'on', 'discovering', 'multibaggers', 'and', 'investing', 'in', 'them', 'inspired', 'by', 'buffet', 'lynch', 'and', 'pabrai', 'mr', 'suyog', 'dhavan', 'is', 'also', 'value', 'investing', 'and', 'value', 'trading', 'mentor', 'blog', 'strategicalpha', 'blogmany', 'uninformed', 'investors', 'and', 'and', 'non', 'diciplined', 'traders', 'will', 'be', 'washed', 'out', 'in', 'this', 'high', 'volatility', 'as', 'an', 'investor', 'buy', 'the', 'weakness', 'as', 'trader', 'buy', 'the', 'strength', 'registrants', 'are', 'seating', 'size', 'is', 'first', 'come', 'first', 'serve', 'appologies', 'from', 'us', 'in', 'advance', 'if', 'some', 'people', 'arent', 'able', 'to', 'attend', 'due', 'to', 'limited', 'seats', 'to', 'make', 'sure', 'you', 'are', 'in', 'by', 'joining', 'early', 'check', 'your', 'emails', 'for', 'the', 'link', 'will', 'be', 'live', 'in', 'mins', 'if', 'you', 'have', 'not', 'yet', 'subscribed', 'to', 'our', 'youtube', 'channel', 'yet', 'do', 'subscribe', 'am', 'planning', 'some', 'exciting', 'content', 'for', 'you', 'in', 'near', 'future', 'don', 'miss', 'today', 'webinar', 'at', 'pm', 'kindly', 'note', 'only', 'seats', 'are', 'available', 'on', 'first', 'come', 'first', 'serve', 'basis']\n"
     ]
    }
   ],
   "source": [
    "i = random.randint(0, len(batch) - 1)\n",
    "\n",
    "print('PREDICTED', predictions[i], end='\\n\\n')\n",
    "print('TOKENS', batch[i])"
   ]
  },
  {
   "cell_type": "markdown",
   "metadata": {},
   "source": [
    "### Final training, convert and save"
   ]
  },
  {
   "cell_type": "code",
   "execution_count": 161,
   "metadata": {
    "ExecuteTime": {
     "end_time": "2021-04-21T18:37:26.286249Z",
     "start_time": "2021-04-21T18:37:26.259325Z"
    }
   },
   "outputs": [],
   "source": [
    "from sklearn.preprocessing import normalize"
   ]
  },
  {
   "cell_type": "code",
   "execution_count": 179,
   "metadata": {
    "ExecuteTime": {
     "end_time": "2021-04-21T18:39:10.216915Z",
     "start_time": "2021-04-21T18:39:10.190949Z"
    }
   },
   "outputs": [],
   "source": [
    "prediction_params = {\n",
    "    'top_k': 3\n",
    "}"
   ]
  },
  {
   "cell_type": "code",
   "execution_count": 182,
   "metadata": {
    "ExecuteTime": {
     "end_time": "2021-04-21T18:39:27.949505Z",
     "start_time": "2021-04-21T18:39:27.524868Z"
    },
    "code_folding": []
   },
   "outputs": [
    {
     "name": "stdout",
     "output_type": "stream",
     "text": [
      "ru best {'lang_code': 'ru', 'preprocessing': 'raw', 'vect': 'tfidf', 'est': 'cnb', 'score': 0.4}\n",
      "ru 0.4\n",
      "saved to models/trained/tgcat/ru_tgcat.pt\n",
      "en best {'lang_code': 'en', 'preprocessing': 'raw', 'vect': 'tfidf', 'est': 'cnb', 'score': 0.25}\n",
      "en 0.25\n",
      "saved to models/trained/tgcat/en_tgcat.pt\n",
      "fa best {'lang_code': 'fa', 'preprocessing': 'raw', 'vect': 'tfidf', 'est': 'mnb', 'score': 0.3333333333333333}\n",
      "fa 0.3333333333333333\n",
      "saved to models/trained/tgcat/fa_tgcat.pt\n",
      "ar best {'lang_code': 'ar', 'preprocessing': 'raw', 'vect': 'tfidf', 'est': 'cnb', 'score': 0.3333333333333333}\n",
      "ar 0.3333333333333333\n",
      "saved to models/trained/tgcat/ar_tgcat.pt\n",
      "uz best {'lang_code': 'uz', 'preprocessing': 'raw', 'vect': 'tfidf', 'est': 'cnb', 'score': 0.0}\n",
      "uz 0.0\n",
      "saved to models/trained/tgcat/uz_tgcat.pt\n"
     ]
    }
   ],
   "source": [
    "for l in results['lang_code'].unique():\n",
    "    subset = results.query(f\"lang_code == '{l}'\")\n",
    "    best_id = subset['score'].idxmax()\n",
    "    best_params = subset.loc[best_id].to_dict()\n",
    "    print(l, 'best', best_params)\n",
    "    del best_params['score']\n",
    "    # for last training increase train by test\n",
    "    trainer = Trainer(**best_params)\n",
    "    s = trainer.run_eval(final=True)\n",
    "    print(l, s)\n",
    "    # save text vectorizer\n",
    "    vect_scripted = torch.jit.script(TextVectorizer(best_params['vect'], trainer.vect), )\n",
    "    tokenizer = tokenize_text if best_params['preprocessing'] == 'raw' else lang_lemmatizer(l)\n",
    "    batch = trainer.test_inputs['text'].apply(tokenizer).tolist()\n",
    "    vect_out = vect_scripted(batch)\n",
    "    src_vects = trainer.X_test.toarray()\n",
    "    assert np.allclose(src_vects, vect_out.numpy())\n",
    "    vect_scripted.save(f\"models/trained/embed/{l}_{best_params['vect']}_script.pt\")\n",
    "    # save classifier\n",
    "    nb_scripted  = torch.jit.script(NaiveBayes(best_params['est'], trainer.clf))\n",
    "    nb_out = nb_scripted(torch.tensor(trainer.X_test.toarray(), dtype=torch.double))\n",
    "    assert np.allclose(trainer.clf.predict_proba(trainer.X_test), nb_out.numpy())\n",
    "    nb_scripted.save(f\"models/trained/classify/{l}_{best_params['est']}_script.pt\")\n",
    "    # save tgcat\n",
    "    tgcat = torch.jit.script(TgCat(vect_scripted, nb_scripted, **prediction_params))\n",
    "    path = f'models/trained/tgcat/{l}_tgcat.pt'\n",
    "    torch.jit.save(tgcat, path)\n",
    "    print('saved to', path)"
   ]
  },
  {
   "cell_type": "markdown",
   "metadata": {},
   "source": [
    "### Check file sizes"
   ]
  },
  {
   "cell_type": "code",
   "execution_count": 183,
   "metadata": {
    "ExecuteTime": {
     "end_time": "2021-04-21T18:39:31.142461Z",
     "start_time": "2021-04-21T18:39:30.983478Z"
    }
   },
   "outputs": [
    {
     "name": "stdout",
     "output_type": "stream",
     "text": [
      "17\tmodels/trained/embed/ru_bow_script.pt\r\n",
      "17\tmodels/trained/embed/en_bow_script.pt\r\n",
      "3\tmodels/trained/tgcat/ru_tgcat.pt\r\n",
      "3\tmodels/trained/embed/ru_tfidf_script.pt\r\n",
      "2\tmodels/trained/tgcat/fa_tgcat.pt\r\n",
      "2\tmodels/trained/embed/fa_tfidf_script.pt\r\n",
      "1\tmodels/trained/tgcat/uz_tgcat.pt\r\n",
      "1\tmodels/trained/tgcat/en_tgcat.pt\r\n",
      "1\tmodels/trained/tgcat/ar_tgcat.pt\r\n",
      "1\tmodels/trained/embed/uz_tfidf_script.pt\r\n",
      "1\tmodels/trained/embed/ru_bow.txt\r\n",
      "1\tmodels/trained/embed/en_tfidf_script.pt\r\n",
      "1\tmodels/trained/embed/ar_tfidf_script.pt\r\n",
      "1\tmodels/trained/classify/uz_cnb_script.pt\r\n",
      "1\tmodels/trained/classify/ru_mnb_script.pt\r\n",
      "1\tmodels/trained/classify/ru_cnb_script.pt\r\n",
      "1\tmodels/trained/classify/fa_mnb_script.pt\r\n",
      "1\tmodels/trained/classify/en_cnb_script.pt\r\n",
      "1\tmodels/trained/classify/ar_cnb_script.pt\r\n"
     ]
    }
   ],
   "source": [
    "!du -hm models/trained/*/* | sort -nr"
   ]
  },
  {
   "cell_type": "code",
   "execution_count": null,
   "metadata": {},
   "outputs": [],
   "source": []
  }
 ],
 "metadata": {
  "kernelspec": {
   "display_name": "tgcat",
   "language": "python",
   "name": "tgcat"
  },
  "language_info": {
   "codemirror_mode": {
    "name": "ipython",
    "version": 3
   },
   "file_extension": ".py",
   "mimetype": "text/x-python",
   "name": "python",
   "nbconvert_exporter": "python",
   "pygments_lexer": "ipython3",
   "version": "3.7.9"
  },
  "notify_time": "10",
  "toc": {
   "base_numbering": 1,
   "nav_menu": {},
   "number_sections": true,
   "sideBar": true,
   "skip_h1_title": false,
   "title_cell": "Table of Contents",
   "title_sidebar": "Contents",
   "toc_cell": false,
   "toc_position": {
    "height": "calc(100% - 180px)",
    "left": "10px",
    "top": "150px",
    "width": "227px"
   },
   "toc_section_display": true,
   "toc_window_display": true
  }
 },
 "nbformat": 4,
 "nbformat_minor": 5
}
