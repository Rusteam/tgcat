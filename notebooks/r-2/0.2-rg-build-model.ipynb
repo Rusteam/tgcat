{
 "cells": [
  {
   "cell_type": "markdown",
   "metadata": {},
   "source": [
    "# Build a model to classify topics for Telegram channels\n",
    "\n",
    "**Pre-req**\n",
    "1. Download csv from gdrive with channels and save to ``data/external/telegram_channels.csv``\n",
    "2. Run ``python -m src.train.download`` to get posts and meta-data\n",
    "\n",
    "**Steps**\n",
    "1. Load data:\n",
    "    - posts from channels\n",
    "    - channel titles and descriptions\n",
    "    - channel topics\n",
    "2. Build a training dataset:\n",
    "    1. Merge\n",
    "    2. Select inputs\n",
    "    3. Split into train/val\n",
    "3. Build models:\n",
    "    1. Embed text\n",
    "    2. Train a classifier\n",
    "    3. Select best\n",
    "4. Evaluate on test data and save best"
   ]
  },
  {
   "cell_type": "code",
   "execution_count": 1,
   "metadata": {
    "ExecuteTime": {
     "end_time": "2021-04-29T16:47:59.124119Z",
     "start_time": "2021-04-29T16:47:58.079306Z"
    }
   },
   "outputs": [],
   "source": [
    "%load_ext autoreload\n",
    "%autoreload 2\n",
    "%matplotlib inline\n",
    "#standard libs\n",
    "import os, sys\n",
    "from pathlib import Path\n",
    "from pprint import pprint\n",
    "from collections import Counter\n",
    "import random\n",
    "import json\n",
    "import itertools\n",
    "from datetime import datetime as dt\n",
    "import logging\n",
    "# ds libs\n",
    "import pandas as pd\n",
    "import numpy as np\n",
    "import matplotlib.pyplot as plt\n",
    "import seaborn as sns\n",
    "from tqdm.auto import tqdm\n",
    "\n",
    "from torchtext import data\n",
    "import re\n",
    "# custom path\n",
    "os.chdir('../..')\n",
    "os.environ['KMP_DUPLICATE_LIB_OK']='True'\n"
   ]
  },
  {
   "cell_type": "code",
   "execution_count": 2,
   "metadata": {
    "ExecuteTime": {
     "end_time": "2021-04-29T16:47:59.150096Z",
     "start_time": "2021-04-29T16:47:59.125780Z"
    }
   },
   "outputs": [],
   "source": [
    "def flatten_category(labelled_data):\n",
    "    \"\"\" convert multiple labels to multiple rows \"\"\"\n",
    "    data = []\n",
    "    for i, row in tqdm(labelled_data.iterrows(), desc='rows'):\n",
    "        for t,w in row['category'].items():\n",
    "            row['topic'] = t\n",
    "            row['weight'] = w\n",
    "            data.append(row)\n",
    "    data = pd.DataFrame(data)\n",
    "    return data"
   ]
  },
  {
   "cell_type": "markdown",
   "metadata": {},
   "source": [
    "## Data prep"
   ]
  },
  {
   "cell_type": "code",
   "execution_count": 64,
   "metadata": {
    "ExecuteTime": {
     "end_time": "2021-04-29T17:01:02.933152Z",
     "start_time": "2021-04-29T17:01:02.902642Z"
    }
   },
   "outputs": [],
   "source": [
    "DATA = 'data/interim/train_data.csv'\n",
    "\n",
    "TEST_SIZE = 0.33\n",
    "TEST_SETS = ['r-1', 'r-2']"
   ]
  },
  {
   "cell_type": "markdown",
   "metadata": {},
   "source": [
    "### Load"
   ]
  },
  {
   "cell_type": "code",
   "execution_count": 65,
   "metadata": {
    "ExecuteTime": {
     "end_time": "2021-04-29T17:01:06.982019Z",
     "start_time": "2021-04-29T17:01:03.386528Z"
    }
   },
   "outputs": [
    {
     "name": "stdout",
     "output_type": "stream",
     "text": [
      "<class 'pandas.core.frame.DataFrame'>\n",
      "RangeIndex: 33382 entries, 0 to 33381\n",
      "Data columns (total 8 columns):\n",
      " #   Column        Non-Null Count  Dtype  \n",
      "---  ------        --------------  -----  \n",
      " 0   title         33382 non-null  object \n",
      " 1   description   33382 non-null  object \n",
      " 2   recent_posts  33382 non-null  object \n",
      " 3   lang_code     33382 non-null  object \n",
      " 4   id            1350 non-null   float64\n",
      " 5   category      33382 non-null  object \n",
      " 6   subset        33382 non-null  object \n",
      " 7   text          33382 non-null  object \n",
      "dtypes: float64(1), object(7)\n",
      "memory usage: 2.0+ MB\n"
     ]
    }
   ],
   "source": [
    "data = pd.read_csv(DATA,)\n",
    "data['description'].fillna(\"\", inplace=True)\n",
    "data['category'] = data['category'].apply(eval)\n",
    "\n",
    "data.info()"
   ]
  },
  {
   "cell_type": "code",
   "execution_count": 66,
   "metadata": {
    "ExecuteTime": {
     "end_time": "2021-04-29T17:01:07.010928Z",
     "start_time": "2021-04-29T17:01:06.983423Z"
    }
   },
   "outputs": [],
   "source": [
    "LANGS = data['lang_code'].unique()"
   ]
  },
  {
   "cell_type": "markdown",
   "metadata": {},
   "source": [
    "### Split\n",
    "\n",
    "take a percentage for testing from selected subsets"
   ]
  },
  {
   "cell_type": "code",
   "execution_count": 67,
   "metadata": {
    "ExecuteTime": {
     "end_time": "2021-04-29T17:01:29.506197Z",
     "start_time": "2021-04-29T17:01:29.470982Z"
    }
   },
   "outputs": [
    {
     "data": {
      "text/plain": [
       "tg      31501\n",
       "r-1       691\n",
       "r-2       659\n",
       "chan      531\n",
       "Name: subset, dtype: int64"
      ]
     },
     "execution_count": 67,
     "metadata": {},
     "output_type": "execute_result"
    }
   ],
   "source": [
    "data['subset'].value_counts()"
   ]
  },
  {
   "cell_type": "code",
   "execution_count": 68,
   "metadata": {
    "ExecuteTime": {
     "end_time": "2021-04-29T17:01:29.934312Z",
     "start_time": "2021-04-29T17:01:29.908200Z"
    }
   },
   "outputs": [],
   "source": [
    "rand_true = lambda test_prob: np.random.choice([True,False], p=[test_prob, 1 - test_prob])"
   ]
  },
  {
   "cell_type": "code",
   "execution_count": 69,
   "metadata": {
    "ExecuteTime": {
     "end_time": "2021-04-29T17:01:30.210291Z",
     "start_time": "2021-04-29T17:01:30.182771Z"
    }
   },
   "outputs": [],
   "source": [
    "def select_test(data, test_subsets=None,  test_size=0.3):\n",
    "    \"\"\" Return True for test set and False for train \"\"\"\n",
    "    if test_subsets is None:\n",
    "        test_subsets = data['subset'].unique().tolist()\n",
    "    is_test = data.apply(lambda x: rand_true(test_size) if x['subset'] in test_subsets else False,\n",
    "              axis=1)\n",
    "    return is_test"
   ]
  },
  {
   "cell_type": "code",
   "execution_count": 70,
   "metadata": {
    "ExecuteTime": {
     "end_time": "2021-04-29T17:01:30.761346Z",
     "start_time": "2021-04-29T17:01:30.466150Z"
    }
   },
   "outputs": [
    {
     "data": {
      "text/plain": [
       "lang_code  subset\n",
       "ar         r-2       0.315436\n",
       "en         chan      0.000000\n",
       "           r-1       0.336420\n",
       "           r-2       0.351648\n",
       "           tg        0.000000\n",
       "fa         r-2       0.275641\n",
       "ru         chan      0.000000\n",
       "           r-1       0.302452\n",
       "           r-2       0.359223\n",
       "           tg        0.000000\n",
       "uz         r-2       0.262500\n",
       "Name: is_test, dtype: float64"
      ]
     },
     "execution_count": 70,
     "metadata": {},
     "output_type": "execute_result"
    }
   ],
   "source": [
    "data['is_test'] = select_test(data, test_size=TEST_SIZE, test_subsets=TEST_SETS)\n",
    "\n",
    "data.groupby(['lang_code','subset'])['is_test'].mean()"
   ]
  },
  {
   "cell_type": "code",
   "execution_count": 71,
   "metadata": {
    "ExecuteTime": {
     "end_time": "2021-04-29T17:01:33.658671Z",
     "start_time": "2021-04-29T17:01:33.549911Z"
    }
   },
   "outputs": [
    {
     "name": "stdout",
     "output_type": "stream",
     "text": [
      "(32961, 9)\n",
      "(421, 9)\n"
     ]
    }
   ],
   "source": [
    "train_data = data.loc[~data['is_test']]\n",
    "\n",
    "test_data = data.loc[data['is_test']]\n",
    "\n",
    "print(train_data.shape)\n",
    "print(test_data.shape)"
   ]
  },
  {
   "cell_type": "markdown",
   "metadata": {},
   "source": [
    "### Flatten train data\n",
    "\n",
    "Create each category as a separate row, since sklearn can't handle multi-prob"
   ]
  },
  {
   "cell_type": "code",
   "execution_count": 72,
   "metadata": {
    "ExecuteTime": {
     "end_time": "2021-04-29T17:02:15.392843Z",
     "start_time": "2021-04-29T17:01:34.478503Z"
    }
   },
   "outputs": [
    {
     "data": {
      "application/vnd.jupyter.widget-view+json": {
       "model_id": "bda83962affd42328d6c30dbc3f90ff2",
       "version_major": 2,
       "version_minor": 0
      },
      "text/plain": [
       "rows: 0it [00:00, ?it/s]"
      ]
     },
     "metadata": {},
     "output_type": "display_data"
    },
    {
     "data": {
      "text/plain": [
       "(68392, 11)"
      ]
     },
     "execution_count": 72,
     "metadata": {},
     "output_type": "execute_result"
    }
   ],
   "source": [
    "train_data_flat = flatten_category(train_data,)\n",
    "\n",
    "train_data_flat.shape"
   ]
  },
  {
   "cell_type": "markdown",
   "metadata": {},
   "source": [
    "### Topic distribution"
   ]
  },
  {
   "cell_type": "code",
   "execution_count": 73,
   "metadata": {
    "ExecuteTime": {
     "end_time": "2021-04-29T17:02:22.165932Z",
     "start_time": "2021-04-29T17:02:22.135536Z"
    }
   },
   "outputs": [],
   "source": [
    "from src.train.plot_utils import barplots"
   ]
  },
  {
   "cell_type": "code",
   "execution_count": 74,
   "metadata": {
    "ExecuteTime": {
     "end_time": "2021-04-29T17:02:25.941119Z",
     "start_time": "2021-04-29T17:02:22.384548Z"
    },
    "scrolled": false
   },
   "outputs": [
    {
     "name": "stdout",
     "output_type": "stream",
     "text": [
      "ru\n"
     ]
    },
    {
     "data": {
      "image/png": "[encoded data removed]",
      "text/plain": [
       "<Figure size 1008x576 with 2 Axes>"
      ]
     },
     "metadata": {
      "needs_background": "light"
     },
     "output_type": "display_data"
    },
    {
     "name": "stdout",
     "output_type": "stream",
     "text": [
      "en\n"
     ]
    },
    {
     "data": {
      "image/png": "[encoded data removed]",
      "text/plain": [
       "<Figure size 1008x576 with 2 Axes>"
      ]
     },
     "metadata": {
      "needs_background": "light"
     },
     "output_type": "display_data"
    },
    {
     "name": "stdout",
     "output_type": "stream",
     "text": [
      "ar\n"
     ]
    },
    {
     "data": {
      "image/png": "[encoded data removed]",
      "text/plain": [
       "<Figure size 1008x576 with 2 Axes>"
      ]
     },
     "metadata": {
      "needs_background": "light"
     },
     "output_type": "display_data"
    },
    {
     "name": "stdout",
     "output_type": "stream",
     "text": [
      "fa\n"
     ]
    },
    {
     "data": {
      "image/png": "[encoded data removed]",
      "text/plain": [
       "<Figure size 1008x576 with 2 Axes>"
      ]
     },
     "metadata": {
      "needs_background": "light"
     },
     "output_type": "display_data"
    },
    {
     "name": "stdout",
     "output_type": "stream",
     "text": [
      "uz\n"
     ]
    },
    {
     "data": {
      "image/png": "[encoded data removed]",
      "text/plain": [
       "<Figure size 1008x576 with 2 Axes>"
      ]
     },
     "metadata": {
      "needs_background": "light"
     },
     "output_type": "display_data"
    }
   ],
   "source": [
    "for l in train_data_flat['lang_code'].unique():\n",
    "    print(l)\n",
    "    barplots({\n",
    "        'label-studio': train_data_flat.query(f\"lang_code == '{l}'\")['topic'],\n",
    "    }, 1, 2, fig_dims=(14,8))"
   ]
  },
  {
   "cell_type": "code",
   "execution_count": 75,
   "metadata": {
    "ExecuteTime": {
     "end_time": "2021-04-29T17:02:27.805683Z",
     "start_time": "2021-04-29T17:02:27.759494Z"
    }
   },
   "outputs": [
    {
     "name": "stdout",
     "output_type": "stream",
     "text": [
      "Unique topics per language\n",
      "lang_code\n",
      "ar    20\n",
      "en    54\n",
      "fa    29\n",
      "ru    55\n",
      "uz    26\n",
      "Name: topic, dtype: int64\n"
     ]
    }
   ],
   "source": [
    "print('Unique topics per language')\n",
    "print(train_data_flat.groupby('lang_code')['topic'].nunique())"
   ]
  },
  {
   "cell_type": "markdown",
   "metadata": {},
   "source": [
    "### Load stopwords"
   ]
  },
  {
   "cell_type": "code",
   "execution_count": 76,
   "metadata": {
    "ExecuteTime": {
     "end_time": "2021-04-29T17:02:32.676569Z",
     "start_time": "2021-04-29T17:02:32.646079Z"
    }
   },
   "outputs": [],
   "source": [
    "STOPWORDS = {\n",
    "    'en': 'data/external/en_stopwords.txt',\n",
    "    'ru': 'data/external/ru_stopwords.txt',\n",
    "    'ar': 'data/external/ar_stopwords.txt'\n",
    "}"
   ]
  },
  {
   "cell_type": "code",
   "execution_count": 77,
   "metadata": {
    "ExecuteTime": {
     "end_time": "2021-04-29T17:02:32.877659Z",
     "start_time": "2021-04-29T17:02:32.848509Z"
    }
   },
   "outputs": [
    {
     "data": {
      "text/plain": [
       "734"
      ]
     },
     "execution_count": 77,
     "metadata": {},
     "output_type": "execute_result"
    }
   ],
   "source": [
    "stopwords = [Path(f).read_text().strip().split('\\n') for l,f in STOPWORDS.items()]\n",
    "\n",
    "stopwords = sum(stopwords, [])\n",
    "\n",
    "len(stopwords)"
   ]
  },
  {
   "cell_type": "markdown",
   "metadata": {},
   "source": [
    "## Experiments\n",
    "\n",
    "**Improve:**\n",
    "- [x] one common split for train and test\n",
    "- [x] don't flatten test\n",
    "- [ ] ~~cross-val when training~~\n",
    "- [x] weighted metric\n",
    "- [ ] ~~top-k accuracy metric~~\n",
    "- [ ] train on full set before saving\n",
    "\n",
    "**Hyper-parameters:**\n",
    "- [x] topics: primary only, primary + secondary\n",
    "- [x] inputs: title, description, posts\n",
    "- [x] preprocessing: raw, lemmas\n",
    "- [x] vectorizers: tf-idf, bow\n",
    "- [x] clf: xgb, nb, etc.\n",
    "- [x] datasets {tg, r-1, r-2}\n",
    "- [x] ngrams, chars vs words\n",
    "- [ ] use new data types"
   ]
  },
  {
   "cell_type": "code",
   "execution_count": 78,
   "metadata": {
    "ExecuteTime": {
     "end_time": "2021-04-29T17:02:34.710013Z",
     "start_time": "2021-04-29T17:02:34.679386Z"
    }
   },
   "outputs": [],
   "source": [
    "from sklearn.model_selection import train_test_split\n",
    "\n",
    "from sklearn.feature_extraction.text import CountVectorizer, TfidfVectorizer\n",
    "from sklearn.multioutput import MultiOutputClassifier, ClassifierChain\n",
    "from sklearn.preprocessing import MultiLabelBinarizer, OneHotEncoder\n",
    "from sklearn.linear_model import LogisticRegression, ElasticNet\n",
    "from sklearn.ensemble import GradientBoostingClassifier, RandomForestClassifier\n",
    "from sklearn.model_selection import cross_val_score\n",
    "from sklearn.metrics import confusion_matrix, top_k_accuracy_score\n",
    "from sklearn.tree import ExtraTreeClassifier\n",
    "from sklearn.neighbors import KNeighborsClassifier\n",
    "from sklearn.svm import LinearSVC, SVC\n",
    "from sklearn.naive_bayes import ComplementNB, MultinomialNB\n",
    "\n",
    "from xgboost import XGBClassifier\n",
    "\n",
    "import itertools"
   ]
  },
  {
   "cell_type": "code",
   "execution_count": 79,
   "metadata": {
    "ExecuteTime": {
     "end_time": "2021-04-29T17:02:35.930658Z",
     "start_time": "2021-04-29T17:02:35.900107Z"
    }
   },
   "outputs": [],
   "source": [
    "from src.train.text_utils import tokenize_text"
   ]
  },
  {
   "cell_type": "code",
   "execution_count": 179,
   "metadata": {
    "ExecuteTime": {
     "end_time": "2021-04-29T17:53:17.450189Z",
     "start_time": "2021-04-29T17:53:17.414679Z"
    }
   },
   "outputs": [],
   "source": [
    "class Trainer:\n",
    "    \"\"\" prapre inputs, vectorize texts and run a classifier \"\"\"\n",
    "    def __init__(self, lang_code, subsets, vect, est, vect_params={}):\n",
    "        self.LANG = lang_code\n",
    "        query = f\"lang_code == {lang_code!r} and subset == {subsets}\"\n",
    "        self.train_inputs = train_data_flat.query(query).copy()\n",
    "        self.test_inputs = test_data.query(query).copy()\n",
    "        self.vect = VECTORIZERS[vect]\n",
    "        if vect_params != {}:\n",
    "            self.vect.set_params(**vect_params)\n",
    "        self.vect.preprocessor = lambda x: x\n",
    "        self.vect.lowercase = False\n",
    "        self.clf = ESTIMATORS[est]\n",
    "        preprocessing = 'raw'\n",
    "        assert preprocessing in ['lemma', 'raw']\n",
    "        self.preprocessing = preprocessing\n",
    "        if preprocessing == 'lemma':\n",
    "            self.vect.tokenizer = lang_lemmatizer(lang_code)\n",
    "        else:\n",
    "            self.vect.tokenizer = tokenize_text\n",
    "        \n",
    "        \n",
    "    def prepare_data(self, is_final):\n",
    "        # for research use train data for fitting and test for eval\n",
    "        if is_final:\n",
    "            test_flat = flatten_category(self.test_inputs)\n",
    "            self.y_train = self.train_inputs['topic'].append(test_flat['topic'])\n",
    "            self.X_train = self.vect.fit_transform(self.train_inputs['text'].append(test_flat['text']))\n",
    "            self.sample_weights = self.train_inputs['weight'].append(test_flat['weight'])\n",
    "        else:\n",
    "            self.y_train = self.train_inputs['topic']\n",
    "            self.X_train = self.vect.fit_transform(self.train_inputs['text'])\n",
    "            self.sample_weights = self.train_inputs['weight']\n",
    "        self.X_test = self.vect.transform(self.test_inputs['text'])\n",
    "            \n",
    "    \n",
    "    def train(self):\n",
    "        try:\n",
    "            self.clf.fit(self.X_train, self.y_train, sample_weight=self.sample_weights)\n",
    "        except TypeError as e:\n",
    "            logging.warning(e.args[0])\n",
    "            self.clf.fit(self.X_train, self.y_train)\n",
    "        \n",
    "        \n",
    "    def run_eval(self, final=False):\n",
    "        \"\"\" prepare inputs and run clf evaluation \"\"\"\n",
    "        self.prepare_data(final)\n",
    "        self.train()\n",
    "        predicted = trainer.clf.predict_proba(trainer.X_test)\n",
    "        scores = score_predictions(trainer.test_inputs['category'], predicted, self.clf.classes_)\n",
    "        return np.mean(scores)\n",
    "    \n",
    "\n",
    "def calc_weight_score(topic_weights, predicted_probs, classes):\n",
    "    true_weights = np.zeros(len(classes))\n",
    "    for t,w in topic_weights.items():\n",
    "        index = np.argwhere(classes == t).squeeze()\n",
    "        true_weights[index] = w\n",
    "    mae = round(sum(abs(true_weights - predicted_probs)),4)\n",
    "    return 1 / (1 + mae)\n",
    "\n",
    "\n",
    "def score_predictions(true_topics, predicted_probs, classes):\n",
    "    scores = list(map(lambda x: calc_weight_score(x[0],x[1],classes),\n",
    "                         zip(true_topics, predicted_probs)))\n",
    "    return scores"
   ]
  },
  {
   "cell_type": "markdown",
   "metadata": {},
   "source": [
    "### Set hyper-parameters"
   ]
  },
  {
   "cell_type": "code",
   "execution_count": 174,
   "metadata": {
    "ExecuteTime": {
     "end_time": "2021-04-29T17:52:45.400426Z",
     "start_time": "2021-04-29T17:52:45.367675Z"
    }
   },
   "outputs": [],
   "source": [
    "SUBSETS = [\n",
    "    ('r-2', 'r-1', 'chan'),\n",
    "    ('r-2', 'r-1'),\n",
    "    ('r-2', 'chan'),\n",
    "#     ('r-2', 'r-1', 'chan', 'tg'),\n",
    "]\n",
    "\n",
    "vect_params = dict(\n",
    "    max_df=0.4, \n",
    "    min_df=3,\n",
    "    max_features=1000,\n",
    "    binary=False, \n",
    "    ngram_range=(1,1), \n",
    "    tokenizer=tokenize_text,\n",
    "    stop_words=stopwords, \n",
    "    analyzer='word'\n",
    ")\n",
    "vect_space = [\n",
    "    {'max_features': 1000,},\n",
    "    {'max_features': 2000,},\n",
    "    {'max_features': 3000,},\n",
    "    {'max_features': 5000,},\n",
    "]\n",
    "VECTORIZERS = {\n",
    "#     'tfidf': TfidfVectorizer(**vect_params),\n",
    "    'bow': CountVectorizer(**vect_params),\n",
    "}\n",
    "\n",
    "\n",
    "ESTIMATORS = dict(\n",
    "#     xgb = XGBClassifier(objective='multi:softmax'),\n",
    "#     forest = RandomForestClassifier(),\n",
    "#     logreg = LogisticRegression(),\n",
    "#     knn = KNeighborsClassifier(),\n",
    "#     tree = ExtraTreeClassifier(),\n",
    "#     svm = SVC(),\n",
    "#     linsvm = LinearSVC(),\n",
    "#     cnb = ComplementNB(),\n",
    "    mnb = MultinomialNB(),\n",
    ")"
   ]
  },
  {
   "cell_type": "code",
   "execution_count": 175,
   "metadata": {
    "ExecuteTime": {
     "end_time": "2021-04-29T17:52:45.976046Z",
     "start_time": "2021-04-29T17:52:45.948710Z"
    }
   },
   "outputs": [
    {
     "name": "stdout",
     "output_type": "stream",
     "text": [
      "60 experiments to run\n"
     ]
    }
   ],
   "source": [
    "\n",
    "train_params = list(itertools.product(\n",
    "    LANGS, \n",
    "    SUBSETS,\n",
    "    VECTORIZERS.keys(), \n",
    "    ESTIMATORS.keys(),\n",
    "    vect_space,\n",
    "))\n",
    "\n",
    "print(f'{len(train_params)} experiments to run')"
   ]
  },
  {
   "cell_type": "markdown",
   "metadata": {},
   "source": [
    "#### Test trainer"
   ]
  },
  {
   "cell_type": "code",
   "execution_count": 176,
   "metadata": {
    "ExecuteTime": {
     "end_time": "2021-04-29T17:52:46.999162Z",
     "start_time": "2021-04-29T17:52:46.660687Z"
    }
   },
   "outputs": [
    {
     "name": "stderr",
     "output_type": "stream",
     "text": [
      "/Users/rustem.galiullin/miniconda3/envs/tgcat/lib/python3.7/site-packages/sklearn/feature_extraction/text.py:391: UserWarning: Your stop_words may be inconsistent with your preprocessing. Tokenizing the stop words generated tokens ['cent', 'dr', 'mr', 'per', 'آخر', 'أخير', 'أسبوع', 'أفضل', 'أول', 'إعلام', 'بلد', 'ثاني', 'جانب', 'جديد', 'جزء', 'جمعة', 'جميع', 'حالي', 'خميس', 'دائم', 'رويترز', 'ساعة', 'شخص', 'شهر', 'صباح', 'صحيفة', 'طريق', 'عام', 'عدد', 'قادم', 'قال', 'قبل', 'كامل', 'كبير', 'كثير', 'لحظة', 'ماضي', 'محتمل', 'مدينة', 'مرة', 'مزيد', 'مستعد', 'مسيرة', 'معلومة', 'مكان', 'مواطن', 'نبأ', 'واحد', 'واضح', 'وضع', 'يوم'] not in stop_words.\n",
      "  'stop_words.' % sorted(inconsistent))\n"
     ]
    },
    {
     "name": "stdout",
     "output_type": "stream",
     "text": [
      "0.5327320346587501\n"
     ]
    }
   ],
   "source": [
    "trainer = Trainer(\n",
    "    lang_code = 'fa', \n",
    "    subsets = [\"r-2\"],\n",
    "    vect = 'bow', \n",
    "    est = 'mnb',\n",
    "    vect_params={'max_features': 101, 'min_df': 5}\n",
    ")\n",
    "s = trainer.run_eval(final=False)\n",
    "print(s)"
   ]
  },
  {
   "cell_type": "markdown",
   "metadata": {},
   "source": [
    "### Run experiments"
   ]
  },
  {
   "cell_type": "code",
   "execution_count": 177,
   "metadata": {
    "ExecuteTime": {
     "end_time": "2021-04-29T17:53:17.011792Z",
     "start_time": "2021-04-29T17:52:47.650386Z"
    },
    "scrolled": true
   },
   "outputs": [
    {
     "data": {
      "application/vnd.jupyter.widget-view+json": {
       "model_id": "d759fb69db3845b0b2b3df5acfe2a41c",
       "version_major": 2,
       "version_minor": 0
      },
      "text/plain": [
       "# experiments:   0%|          | 0/60 [00:00<?, ?it/s]"
      ]
     },
     "metadata": {},
     "output_type": "display_data"
    }
   ],
   "source": [
    "results = []\n",
    "\n",
    "for params in tqdm(train_params, desc='# experiments'):\n",
    "    trainer = Trainer(*params)\n",
    "    score = trainer.run_eval()\n",
    "    params += (score,)\n",
    "    results.append(params)\n",
    "                \n",
    "results = pd.DataFrame(results, columns=['lang_code','subsets','vect', 'est', 'vect_params','score',])"
   ]
  },
  {
   "cell_type": "code",
   "execution_count": 178,
   "metadata": {
    "ExecuteTime": {
     "end_time": "2021-04-29T17:53:17.063750Z",
     "start_time": "2021-04-29T17:53:17.013395Z"
    }
   },
   "outputs": [
    {
     "name": "stdout",
     "output_type": "stream",
     "text": [
      "|    | lang_code   | subsets                | vect   | est   | vect_params            |    score |\n",
      "|---:|:------------|:-----------------------|:-------|:------|:-----------------------|---------:|\n",
      "|  3 | ru          | ('r-2', 'r-1', 'chan') | bow    | mnb   | {'max_features': 5000} | 0.63269  |\n",
      "|  1 | ru          | ('r-2', 'r-1', 'chan') | bow    | mnb   | {'max_features': 2000} | 0.6287   |\n",
      "|  2 | ru          | ('r-2', 'r-1', 'chan') | bow    | mnb   | {'max_features': 3000} | 0.628416 |\n",
      "|  0 | ru          | ('r-2', 'r-1', 'chan') | bow    | mnb   | {'max_features': 1000} | 0.617194 |\n",
      "|  7 | ru          | ('r-2', 'r-1')         | bow    | mnb   | {'max_features': 5000} | 0.614833 |\n",
      "|  6 | ru          | ('r-2', 'r-1')         | bow    | mnb   | {'max_features': 3000} | 0.612656 |\n",
      "|  5 | ru          | ('r-2', 'r-1')         | bow    | mnb   | {'max_features': 2000} | 0.611206 |\n",
      "|  4 | ru          | ('r-2', 'r-1')         | bow    | mnb   | {'max_features': 1000} | 0.592539 |\n",
      "| 10 | ru          | ('r-2', 'chan')        | bow    | mnb   | {'max_features': 3000} | 0.523547 |\n",
      "|  9 | ru          | ('r-2', 'chan')        | bow    | mnb   | {'max_features': 2000} | 0.506614 |\n",
      "|  8 | ru          | ('r-2', 'chan')        | bow    | mnb   | {'max_features': 1000} | 0.480328 |\n",
      "| 11 | ru          | ('r-2', 'chan')        | bow    | mnb   | {'max_features': 5000} | 0.470754 |\n",
      "\n",
      "|    | lang_code   | subsets                | vect   | est   | vect_params            |    score |\n",
      "|---:|:------------|:-----------------------|:-------|:------|:-----------------------|---------:|\n",
      "| 16 | en          | ('r-2', 'r-1')         | bow    | mnb   | {'max_features': 1000} | 0.620742 |\n",
      "| 17 | en          | ('r-2', 'r-1')         | bow    | mnb   | {'max_features': 2000} | 0.619127 |\n",
      "| 18 | en          | ('r-2', 'r-1')         | bow    | mnb   | {'max_features': 3000} | 0.619127 |\n",
      "| 19 | en          | ('r-2', 'r-1')         | bow    | mnb   | {'max_features': 5000} | 0.619127 |\n",
      "| 14 | en          | ('r-2', 'r-1', 'chan') | bow    | mnb   | {'max_features': 3000} | 0.614874 |\n",
      "| 15 | en          | ('r-2', 'r-1', 'chan') | bow    | mnb   | {'max_features': 5000} | 0.614874 |\n",
      "| 13 | en          | ('r-2', 'r-1', 'chan') | bow    | mnb   | {'max_features': 2000} | 0.609776 |\n",
      "| 12 | en          | ('r-2', 'r-1', 'chan') | bow    | mnb   | {'max_features': 1000} | 0.593733 |\n",
      "| 20 | en          | ('r-2', 'chan')        | bow    | mnb   | {'max_features': 1000} | 0.513466 |\n",
      "| 21 | en          | ('r-2', 'chan')        | bow    | mnb   | {'max_features': 2000} | 0.504034 |\n",
      "| 22 | en          | ('r-2', 'chan')        | bow    | mnb   | {'max_features': 3000} | 0.504034 |\n",
      "| 23 | en          | ('r-2', 'chan')        | bow    | mnb   | {'max_features': 5000} | 0.504034 |\n",
      "\n",
      "|    | lang_code   | subsets                | vect   | est   | vect_params            |    score |\n",
      "|---:|:------------|:-----------------------|:-------|:------|:-----------------------|---------:|\n",
      "| 24 | ar          | ('r-2', 'r-1', 'chan') | bow    | mnb   | {'max_features': 1000} | 0.518536 |\n",
      "| 25 | ar          | ('r-2', 'r-1', 'chan') | bow    | mnb   | {'max_features': 2000} | 0.518536 |\n",
      "| 26 | ar          | ('r-2', 'r-1', 'chan') | bow    | mnb   | {'max_features': 3000} | 0.518536 |\n",
      "| 27 | ar          | ('r-2', 'r-1', 'chan') | bow    | mnb   | {'max_features': 5000} | 0.518536 |\n",
      "| 28 | ar          | ('r-2', 'r-1')         | bow    | mnb   | {'max_features': 1000} | 0.518536 |\n",
      "| 29 | ar          | ('r-2', 'r-1')         | bow    | mnb   | {'max_features': 2000} | 0.518536 |\n",
      "| 30 | ar          | ('r-2', 'r-1')         | bow    | mnb   | {'max_features': 3000} | 0.518536 |\n",
      "| 31 | ar          | ('r-2', 'r-1')         | bow    | mnb   | {'max_features': 5000} | 0.518536 |\n",
      "| 32 | ar          | ('r-2', 'chan')        | bow    | mnb   | {'max_features': 1000} | 0.518536 |\n",
      "| 33 | ar          | ('r-2', 'chan')        | bow    | mnb   | {'max_features': 2000} | 0.518536 |\n",
      "| 34 | ar          | ('r-2', 'chan')        | bow    | mnb   | {'max_features': 3000} | 0.518536 |\n",
      "| 35 | ar          | ('r-2', 'chan')        | bow    | mnb   | {'max_features': 5000} | 0.518536 |\n",
      "\n",
      "|    | lang_code   | subsets                | vect   | est   | vect_params            |    score |\n",
      "|---:|:------------|:-----------------------|:-------|:------|:-----------------------|---------:|\n",
      "| 37 | uz          | ('r-2', 'r-1', 'chan') | bow    | mnb   | {'max_features': 2000} | 0.500711 |\n",
      "| 38 | uz          | ('r-2', 'r-1', 'chan') | bow    | mnb   | {'max_features': 3000} | 0.500711 |\n",
      "| 39 | uz          | ('r-2', 'r-1', 'chan') | bow    | mnb   | {'max_features': 5000} | 0.500711 |\n",
      "| 41 | uz          | ('r-2', 'r-1')         | bow    | mnb   | {'max_features': 2000} | 0.500711 |\n",
      "| 42 | uz          | ('r-2', 'r-1')         | bow    | mnb   | {'max_features': 3000} | 0.500711 |\n",
      "| 43 | uz          | ('r-2', 'r-1')         | bow    | mnb   | {'max_features': 5000} | 0.500711 |\n",
      "| 45 | uz          | ('r-2', 'chan')        | bow    | mnb   | {'max_features': 2000} | 0.500711 |\n",
      "| 46 | uz          | ('r-2', 'chan')        | bow    | mnb   | {'max_features': 3000} | 0.500711 |\n",
      "| 47 | uz          | ('r-2', 'chan')        | bow    | mnb   | {'max_features': 5000} | 0.500711 |\n",
      "| 36 | uz          | ('r-2', 'r-1', 'chan') | bow    | mnb   | {'max_features': 1000} | 0.499499 |\n",
      "| 40 | uz          | ('r-2', 'r-1')         | bow    | mnb   | {'max_features': 1000} | 0.499499 |\n",
      "| 44 | uz          | ('r-2', 'chan')        | bow    | mnb   | {'max_features': 1000} | 0.499499 |\n",
      "\n",
      "|    | lang_code   | subsets                | vect   | est   | vect_params            |    score |\n",
      "|---:|:------------|:-----------------------|:-------|:------|:-----------------------|---------:|\n",
      "| 48 | fa          | ('r-2', 'r-1', 'chan') | bow    | mnb   | {'max_features': 1000} | 0.584862 |\n",
      "| 52 | fa          | ('r-2', 'r-1')         | bow    | mnb   | {'max_features': 1000} | 0.584862 |\n",
      "| 56 | fa          | ('r-2', 'chan')        | bow    | mnb   | {'max_features': 1000} | 0.584862 |\n",
      "| 49 | fa          | ('r-2', 'r-1', 'chan') | bow    | mnb   | {'max_features': 2000} | 0.5848   |\n",
      "| 53 | fa          | ('r-2', 'r-1')         | bow    | mnb   | {'max_features': 2000} | 0.5848   |\n",
      "| 57 | fa          | ('r-2', 'chan')        | bow    | mnb   | {'max_features': 2000} | 0.5848   |\n",
      "| 50 | fa          | ('r-2', 'r-1', 'chan') | bow    | mnb   | {'max_features': 3000} | 0.584378 |\n",
      "| 51 | fa          | ('r-2', 'r-1', 'chan') | bow    | mnb   | {'max_features': 5000} | 0.584378 |\n",
      "| 54 | fa          | ('r-2', 'r-1')         | bow    | mnb   | {'max_features': 3000} | 0.584378 |\n",
      "| 55 | fa          | ('r-2', 'r-1')         | bow    | mnb   | {'max_features': 5000} | 0.584378 |\n",
      "| 58 | fa          | ('r-2', 'chan')        | bow    | mnb   | {'max_features': 3000} | 0.584378 |\n",
      "| 59 | fa          | ('r-2', 'chan')        | bow    | mnb   | {'max_features': 5000} | 0.584378 |\n",
      "\n"
     ]
    }
   ],
   "source": [
    "for l in results['lang_code'].unique():\n",
    "    print(results.query(f'lang_code == \"{l}\"').sort_values('score', ascending=False).to_markdown(), end='\\n\\n')"
   ]
  },
  {
   "cell_type": "markdown",
   "metadata": {
    "heading_collapsed": true
   },
   "source": [
    "### Review errors"
   ]
  },
  {
   "cell_type": "markdown",
   "metadata": {
    "hidden": true
   },
   "source": [
    "#### Train"
   ]
  },
  {
   "cell_type": "code",
   "execution_count": 173,
   "metadata": {
    "ExecuteTime": {
     "end_time": "2021-04-26T18:43:50.187473Z",
     "start_time": "2021-04-26T18:43:49.602590Z"
    },
    "hidden": true
   },
   "outputs": [
    {
     "name": "stdout",
     "output_type": "stream",
     "text": [
      "0.5646792225001015\n"
     ]
    }
   ],
   "source": [
    "trainer = Trainer(\n",
    "    lang_code = 'ar', \n",
    "    preprocessing = 'raw',\n",
    "    vect = 'bow', \n",
    "    est = 'mnb'\n",
    ")\n",
    "s = trainer.run_eval(final=False)\n",
    "print(s)"
   ]
  },
  {
   "cell_type": "code",
   "execution_count": 174,
   "metadata": {
    "ExecuteTime": {
     "end_time": "2021-04-26T18:43:50.910446Z",
     "start_time": "2021-04-26T18:43:50.880155Z"
    },
    "hidden": true
   },
   "outputs": [],
   "source": [
    "test_pred = trainer.clf.predict_proba(trainer.X_test)\n",
    "\n",
    "# is_wrong = test_pred != trainer.y_test\n",
    "\n",
    "errors = trainer.test_inputs.copy()\n",
    "\n",
    "errors['score'] = score_predictions(errors['category'], test_pred, trainer.clf.classes_)"
   ]
  },
  {
   "cell_type": "markdown",
   "metadata": {
    "hidden": true
   },
   "source": [
    "#### random examples"
   ]
  },
  {
   "cell_type": "code",
   "execution_count": 175,
   "metadata": {
    "ExecuteTime": {
     "end_time": "2021-04-26T18:43:55.187036Z",
     "start_time": "2021-04-26T18:43:55.162311Z"
    },
    "hidden": true
   },
   "outputs": [],
   "source": [
    "def get_top_classes(probs, classes):\n",
    "    top_inds = np.argwhere(probs > probs.mean()).squeeze(1)\n",
    "    return Counter({classes[i]:probs[i] for i in top_inds})"
   ]
  },
  {
   "cell_type": "code",
   "execution_count": 183,
   "metadata": {
    "ExecuteTime": {
     "end_time": "2021-04-26T18:44:22.100428Z",
     "start_time": "2021-04-26T18:44:22.066779Z"
    },
    "hidden": true,
    "scrolled": true
   },
   "outputs": [
    {
     "name": "stdout",
     "output_type": "stream",
     "text": [
      "MAE:\n",
      " 0.35294532876857376\n",
      "\n",
      "TRUE:\n",
      " {'Motivation & Self-development': 0.5, 'Art & Design': 0.16666666666666666, 'Hobbies & Activities': 0.16666666666666666, 'Music': 0.16666666666666666}\n",
      "\n",
      "PREDICTED:\n",
      " Counter({'Humor & Memes': 0.9999912932654985})\n",
      "\n",
      "TEXTS:\n",
      " اقفوبكك\n",
      "تغانمو الوصّل دام الارواح حيه⚚‏\n",
      "        شمال سيناء 𓅔\n",
      "قناة [الخمّايل] المعروفه متذوقه للقصيد تضع مايروق لها في قناتها بـ قصائدها الجزله وصور تختلف عن باقي القنوات أنضمو لها تستاهل🤍.\n",
      "https://t.me/lvza54\n",
      "قناة [الخمّايل] المعروفه متذوقه للقصيد تضع مايروق لها في قناتها بـ قصائدها الجزله وصور تختلف عن باقي القنوات أنضمو لها تستاهل🤍.\n",
      "https://t.me/lvza54\n",
      "__\n",
      "فمان الله ياروح الغرام اللي نويت أنساه \n",
      "فمان الله يابسمة شقايّ وجرحي الدامي\n",
      "ٰ             - ابن فطيس : \n",
      "قللبي الا منننـه شرا قلب ماببااع\n",
      "وانت الله الله فيه والعمر موقوت.\n",
      "\n"
     ]
    }
   ],
   "source": [
    "i = random.randint(0, len(errors)-1)\n",
    "row = errors.iloc[i]\n",
    "pred = get_top_classes(test_pred[i], trainer.clf.classes_)\n",
    "\n",
    "# print('PREDICTED:\\n', row['predicted'], end='\\n\\n')\n",
    "print('MAE:\\n', row['score'], end='\\n\\n')\n",
    "print('TRUE:\\n', row['category'], end='\\n\\n')\n",
    "print('PREDICTED:\\n', pred, end='\\n\\n')\n",
    "print('TEXTS:\\n', row['text'], end='\\n\\n')\n",
    "# print(f'TITLE ({row[\"id\"]}):\\n', row['title'], end='\\n\\n')\n",
    "# print('DESCRIPTION:\\n', row['description'], end='\\n\\n')"
   ]
  },
  {
   "cell_type": "raw",
   "metadata": {
    "ExecuteTime": {
     "end_time": "2021-04-22T18:47:30.144553Z",
     "start_time": "2021-04-22T18:47:30.112032Z"
    },
    "code_folding": [],
    "hidden": true
   },
   "source": [
    "def get_topic_features(nb_clf, class_label, top_n=15):\n",
    "    \"\"\" get features with largest log prob for the given class \"\"\"\n",
    "    class_i = np.argwhere(nb_clf.classes_ == class_label).squeeze()\n",
    "    class_coef = nb_clf.feature_log_prob_[class_i]\n",
    "    top_inds = np.argsort(class_coef)[-top_n:]\n",
    "    return top_inds"
   ]
  },
  {
   "cell_type": "raw",
   "metadata": {
    "ExecuteTime": {
     "end_time": "2021-04-22T18:47:30.414490Z",
     "start_time": "2021-04-22T18:47:30.361117Z"
    },
    "hidden": true,
    "scrolled": true
   },
   "source": [
    "FEATURES = trainer.vect.get_feature_names()\n",
    "PREDICTED_INDEX = np.argwhere(trainer.clf.classes_ == row['predicted']).squeeze()\n",
    "\n",
    "# get top features that triggered prediction\n",
    "x = trainer.vect.transform([row['text']]).toarray()[0]\n",
    "f = ( trainer.clf.feature_log_prob_ * x.T)[PREDICTED_INDEX]\n",
    "top_keywords = [FEATURES[i] for i in np.argsort(f)[::-1][:15]]\n",
    "\n",
    "\n",
    "true_inds = get_topic_features(trainer.clf, row['topic'],)\n",
    "true_keywords = [FEATURES[i] for i in true_inds]\n",
    "\n",
    "predicted_inds = get_topic_features(trainer.clf, row['predicted'],)\n",
    "predicted_keywords = [FEATURES[i] for i in predicted_inds]\n",
    "\n",
    "\n",
    "print('TRUE CLASS: ', row['topic'])\n",
    "print(true_keywords, end='\\n\\n')\n",
    "print(f'PREDICTED CLASS: {row[\"predicted\"]}')\n",
    "print(predicted_keywords, end='\\n\\n')\n",
    "print('EXAMPLE')\n",
    "print(top_keywords)"
   ]
  },
  {
   "cell_type": "markdown",
   "metadata": {
    "hidden": true
   },
   "source": [
    "#### Fixes"
   ]
  },
  {
   "cell_type": "markdown",
   "metadata": {
    "hidden": true
   },
   "source": [
    "**fixes**\n",
    "- [ ] update stopwords\n",
    "- [x] lemmas\n",
    "- [x] remove single char terms\n",
    "- [x] compare feature keywords against topic keywords\n",
    "- [x] multi-class problem\n",
    "- [x] only eng and rus chars\n",
    "- [x] measure accuracy with top N predictions\n",
    "- [x] use full data to train last\n",
    "- [ ] sample weights for secondary\n",
    "- [ ] bow to torchscript\n",
    "- [x] apply sum normalization only then min prob threshold\n",
    "- [x] fix when nothing predicted (add zero vectors as Other)\n",
    "- [x] remove URL for lang detection"
   ]
  },
  {
   "cell_type": "markdown",
   "metadata": {},
   "source": [
    "## Save models"
   ]
  },
  {
   "cell_type": "code",
   "execution_count": 180,
   "metadata": {
    "ExecuteTime": {
     "end_time": "2021-04-29T17:54:02.518576Z",
     "start_time": "2021-04-29T17:54:02.490405Z"
    }
   },
   "outputs": [],
   "source": [
    "from torch import nn\n",
    "import torch\n",
    "from torch.nn import functional as F\n",
    "from typing import Dict, List, Tuple"
   ]
  },
  {
   "cell_type": "code",
   "execution_count": 227,
   "metadata": {
    "ExecuteTime": {
     "end_time": "2021-04-29T18:07:17.258616Z",
     "start_time": "2021-04-29T18:07:17.211790Z"
    },
    "code_folding": [
     24,
     73
    ]
   },
   "outputs": [],
   "source": [
    "class NaiveBayes(nn.Module):\n",
    "    \"\"\" Implement Multinomial and Complement NB inference \"\"\"\n",
    "    def __init__(self, nb, clf,):\n",
    "        super().__init__()\n",
    "        assert nb in ['cnb','mnb']\n",
    "        self.nb = nb\n",
    "        self.feature_log_prior = nn.Parameter(torch.tensor(clf.feature_log_prob_), requires_grad=False)\n",
    "        self.class_log_prior = nn.Parameter(torch.tensor(clf.class_log_prior_), requires_grad=False)\n",
    "        self.class_labels = clf.classes_.tolist()\n",
    "        \n",
    "\n",
    "    def forward(self, x: torch.Tensor) -> torch.Tensor:\n",
    "        jll = torch.matmul(x.double(), self.feature_log_prior.T)\n",
    "        if self.nb == 'cnb':\n",
    "            if self.class_log_prior.size(0) == 1:\n",
    "                jll += self.class_log_prior\n",
    "        else:\n",
    "            jll += self.class_log_prior\n",
    "        log_prob = torch.logsumexp(jll, dim=1)\n",
    "        log_prob = jll - torch.atleast_2d(log_prob).T\n",
    "        prob = torch.exp(log_prob)\n",
    "        return prob\n",
    "\n",
    "\n",
    "class TextVectorizer(nn.Module):\n",
    "    \"\"\" vectorize text using tf-idf or bow \"\"\"\n",
    "    def __init__(self, vect, vectorizer):\n",
    "        super().__init__()\n",
    "        assert vect in ['bow','tfidf']\n",
    "        self.vocab = {k: torch.tensor(v) for k,v in vectorizer.vocabulary_.items()}\n",
    "        self.vocab_len = len(self.vocab)\n",
    "        if vect == 'tfidf':\n",
    "            self.idf_diag = nn.Parameter(\n",
    "                torch.tensor(vectorizer._tfidf._idf_diag.toarray()), \n",
    "                requires_grad=False)\n",
    "            self.sublinear_tf = vectorizer.sublinear_tf\n",
    "            self.norm = vectorizer.norm\n",
    "            self.use_idf = vectorizer.use_idf\n",
    "        else:\n",
    "            self.idf_diag = nn.Parameter(torch.eye(self.vocab_len))\n",
    "            self.sublinear_tf = False\n",
    "            self.norm = None\n",
    "            self.use_idf = False\n",
    "            \n",
    "        \n",
    "\n",
    "    def count_vocab(self, doc: List[str]) -> torch.Tensor:\n",
    "        \"\"\" return counts of each word from the vocab \"\"\"\n",
    "        feature_counter = torch.zeros(self.vocab_len, dtype=torch.long)\n",
    "        for feature in doc:\n",
    "            n = self.vocab.get(str(feature), torch.tensor(-1))\n",
    "            if n.item() != -1:\n",
    "                feature_idx = self.vocab[str(feature)]\n",
    "                feature_counter[feature_idx] += 1\n",
    "        return feature_counter\n",
    "        \n",
    "        \n",
    "    def forward(self, batch: List[List[str]]) -> torch.Tensor:\n",
    "        doc_counts: List[torch.Tensor] = [self.count_vocab(doc) for doc in batch]\n",
    "        X = torch.stack(doc_counts,)\n",
    "        if self.sublinear_tf:\n",
    "            X = torch.log(X.double())\n",
    "            X += 1\n",
    "        if self.use_idf:\n",
    "            X = torch.matmul(X.double(), self.idf_diag)\n",
    "        if self.norm is not None:\n",
    "            p = float(self.norm[-1])\n",
    "            X = F.normalize(X.double(), p=p, dim=1)\n",
    "        return X\n",
    "    \n",
    "\n",
    "class TgCat(nn.Module):\n",
    "    \"\"\" vectorize input texts, classfy topics and decode predictions \"\"\"\n",
    "    def __init__(self, vect, clf, top_k=3,):\n",
    "        super().__init__()\n",
    "        self.vect = vect\n",
    "        self.clf = clf\n",
    "        self.top_k = top_k\n",
    "        \n",
    "        \n",
    "    def select_top_classes(self, probs: torch.Tensor) -> Dict[str,float]:\n",
    "        \"\"\" select classes with at least min prob and return a normalized dict mapping \"\"\"\n",
    "        if self.clf.nb == 'cnb':\n",
    "            if probs.std(0) < 0.0001:\n",
    "                return {\"Other\": 1.0}\n",
    "        else:\n",
    "            if probs.max() < 0.1:\n",
    "                return {\"Other\": 1.0}\n",
    "        inds_desc = torch.argsort(probs, 0, descending=True)\n",
    "        top_k = min((probs > probs.mean()).sum(), torch.tensor(self.top_k))\n",
    "        target_i = inds_desc[:top_k]\n",
    "        target_p = probs[target_i]\n",
    "        target_p = target_p / target_p.sum()\n",
    "        result: List[Tuple[str, float]] = [\n",
    "            (self.clf.class_labels[target_i[i].item()], target_p[i].item())\n",
    "            for i in range(target_p.size(0))\n",
    "        ]\n",
    "        return dict(result)\n",
    "    \n",
    "    \n",
    "    def get_prob(self, batch: List[List[str]]) -> torch.Tensor:\n",
    "        embeddings = self.vect(batch)\n",
    "        probs = self.clf(embeddings)\n",
    "        # for mnb, if empty embedding then zero out probs\n",
    "        vec_sums = embeddings.sum(1).clip(0, 1)\n",
    "        probs = probs * torch.atleast_2d(vec_sums).T\n",
    "        return probs\n",
    "        \n",
    "    \n",
    "    def forward(self, batch: List[List[str]]) -> List[Dict[str, float]]:\n",
    "        probs = self.get_prob(batch)\n",
    "        top_predictions = [self.select_top_classes(probs[i]) for i in range(probs.size(0))]\n",
    "        return top_predictions"
   ]
  },
  {
   "cell_type": "markdown",
   "metadata": {},
   "source": [
    "### Test"
   ]
  },
  {
   "cell_type": "markdown",
   "metadata": {},
   "source": [
    "#### train one"
   ]
  },
  {
   "cell_type": "code",
   "execution_count": 228,
   "metadata": {
    "ExecuteTime": {
     "end_time": "2021-04-29T18:07:18.274163Z",
     "start_time": "2021-04-29T18:07:17.917399Z"
    }
   },
   "outputs": [],
   "source": [
    "V = 'bow'\n",
    "E = 'mnb'\n",
    "L = 'en'\n",
    "\n",
    "trainer = Trainer(\n",
    "    lang_code = L,\n",
    "    subsets=TEST_SETS,\n",
    "    vect = V, \n",
    "    est = E,\n",
    ")\n",
    "_ = trainer.run_eval(final=False)\n",
    "\n",
    "tgcat = TgCat(TextVectorizer(V, trainer.vect), NaiveBayes(E, trainer.clf), top_k=3)"
   ]
  },
  {
   "cell_type": "markdown",
   "metadata": {},
   "source": [
    "#### random batch"
   ]
  },
  {
   "cell_type": "code",
   "execution_count": 229,
   "metadata": {
    "ExecuteTime": {
     "end_time": "2021-04-29T18:07:18.964557Z",
     "start_time": "2021-04-29T18:07:18.673145Z"
    }
   },
   "outputs": [],
   "source": [
    "\n",
    "batch = trainer.test_inputs['text'].apply(tokenize_text).tolist()\n",
    "\n",
    "predictions = tgcat(batch)"
   ]
  },
  {
   "cell_type": "raw",
   "metadata": {
    "ExecuteTime": {
     "end_time": "2021-04-29T17:54:06.912870Z",
     "start_time": "2021-04-29T17:54:06.662252Z"
    }
   },
   "source": [
    "v = tgcat.vect(batch)\n",
    "p = tgcat.clf(v)"
   ]
  },
  {
   "cell_type": "code",
   "execution_count": 235,
   "metadata": {
    "ExecuteTime": {
     "end_time": "2021-04-29T18:07:40.054710Z",
     "start_time": "2021-04-29T18:07:40.020215Z"
    },
    "scrolled": true
   },
   "outputs": [
    {
     "name": "stdout",
     "output_type": "stream",
     "text": [
      "PREDICTED {'Offers & Promotions': 1.0}\n",
      "\n",
      "TOKENS ['shopping', 'deals', 'hyperikon', 'led', 'tube', 'light', 'foot', 'dual', 'single', 'end', 'powered', 'works', 'with', 'or', 'without', 'ballast', 'clear', 'lens', 'ul', 'dlc', 'crystal', 'white', 'pack', 'homeimprovement', 'homeimprovement', 'lightningdeals', 'ratingssales', 'price', 'us', 'deal', 'price', 'us', 'discount', 'ends', 'in', 'buy', 'now', 'prime', 'fulfilled', 'outee', 'roll', 'heat', 'transfer', 'vinyl', 'inch', 'by', 'ft', 'iron', 'on', 'htv', 'for', 'shirts', 'clothing', 'hats', 'jeans', 'compatiable', 'with', 'cricut', 'camero', 'heat', 'press', 'machines', 'sublimation', 'home', 'arts', 'craftssewing', 'lightningdeals', 'ratingssales', 'price', 'us', 'deal', 'price', 'us', 'discount', 'deal', 'is', 'claimed', 'ends', 'in', 'buy', 'now', 'prime', 'fulfilled', 'liberex', 'fc', 'cordless', 'water', 'flosser', 'modes', 'portable', 'oral', 'irrigator', 'with', 'oled', 'display', 'flossing', 'jet', 'nozzles', 'travel', 'waterproof', 'ml', 'reservoir', 'teeth', 'cleaner', 'for', 'braces', 'floss', 'usb', 'rechargeable', 'beauty', 'lightningdeals', 'ratingssales', 'price', 'us', 'deal', 'price', 'us', 'discount', 'deal', 'is', 'claimed', 'ends', 'in', 'buy', 'now', 'other', 'variants', 'us', 'color', 'diy', 'green', 'us', 'color', 'navy', 'blue', 'us', 'color', 'diy', 'purpleprime', 'fulfilled', 'crystals', 'ear', 'cuffs', 'hoop', 'climber', 'sterling', 'silver', 'cartilage', 'earrings', 'with', 'cubic', 'zirconia', 'piercing', 'cz', 'hypoallergenic', 'earring', 'for', 'women', 'fashion', 'jewelry', 'lightningdeals', 'ratingslist', 'price', 'us', 'sales', 'price', 'us', 'deal', 'price', 'us', 'discount', 'ends', 'in', 'buy', 'now', 'prime', 'fulfilled', 'chelmon', 'womens', 'wallet', 'genuine', 'leather', 'rfid', 'blocking', 'purse', 'credit', 'card', 'clutch', 'apparel', 'everythingelse', 'lightningdeals', 'ratingssales', 'price', 'us', 'us', 'deal', 'price', 'us', 'us', 'discount', 'ends', 'in', 'buy', 'now', 'other', 'variants', 'us', 'color', 'ch', 'pink', 'color', 'ch', 'pink', 'us', 'color', 'genuine', 'leather', 'coffee', 'color', 'genuine', 'leather', 'coffee', 'us', 'color', 'ch', 'steel', 'purple', 'color', 'ch', 'steel', 'purple', 'us', 'color', 'pebble', 'yellow', 'color', 'pebble', 'yellow', 'us', 'color', 'pebble', 'steel', 'grey', 'color', 'pebble', 'steel', 'grey', 'us', 'color', 'genuine', 'leather', 'black', 'color', 'genuine', 'leather', 'black', 'color', 'genuine', 'leather', 'black', 'us', 'color', 'ch', 'greenery', 'gold', 'color', 'ch', 'greenery', 'gold', 'us', 'color', 'ch', 'deep', 'red', 'color', 'ch', 'deep', 'red', 'us', 'color', 'sl', 'orange', 'color', 'sl', 'orange', 'us', 'color', 'wax', 'green', 'color', 'wax', 'greenprime', 'fulfilled', 'pm', 'activated', 'carbon', 'filter', 'layers', 'permanent', 'household', 'protective', 'filter', 'effective', 'non', 'woven', 'cotton', 'filter', 'pcs', 'pcs', 'tools', 'homeimprovement', 'lightningdeals', 'ratingssales', 'price', 'us', 'deal', 'price', 'us', 'discount', 'deal', 'is', 'claimed', 'ends', 'in', 'buy', 'now', 'prime', 'fulfilled', 'intey', 'gymnastics', 'bar', 'for', 'kids', 'gymnastics', 'training', 'bar', 'levels', 'height', 'adjustable', 'gymnastics', 'equipment', 'for', 'home', 'gift', 'for', 'teens', 'child', 'boys', 'girls', 'sportsoutdoors', 'sports', 'lightningdeals', 'ratingslist', 'price', 'us', 'sales', 'price', 'us', 'deal', 'price', 'us', 'discount', 'deal', 'is', 'claimed', 'ends', 'in', 'buy', 'now', 'prime', 'fulfilled', 'penetrex', 'relief', 'recovery', 'cream', 'oz', 'arnica', 'vitamin', 'msm', 'dmso', 'for', 'your', 'back', 'neck', 'knee', 'hand', 'shoulder', 'foot', 'etc', 'safe', 'to', 'use', 'with', 'arthritis', 'gloves', 'braces', 'back', 'pain', 'massagers', 'etc', 'home', 'healthpersonalcare', 'lightningdeals', 'ratingslist', 'price', 'us', 'sales', 'price', 'us', 'deal', 'price', 'us', 'discount', 'deal', 'is', 'claimed', 'ends', 'in', 'buy', 'now', 'prime', 'fulfilled']\n"
     ]
    }
   ],
   "source": [
    "i = random.randint(0, len(batch) - 1)\n",
    "\n",
    "print('PREDICTED', predictions[i], end='\\n\\n')\n",
    "print('TOKENS', batch[i])"
   ]
  },
  {
   "cell_type": "markdown",
   "metadata": {},
   "source": [
    "#### with trash"
   ]
  },
  {
   "cell_type": "code",
   "execution_count": 237,
   "metadata": {
    "ExecuteTime": {
     "end_time": "2021-04-29T18:08:05.455094Z",
     "start_time": "2021-04-29T18:08:05.422592Z"
    }
   },
   "outputs": [],
   "source": [
    "trash = [['a','s','d'], [\"\"], [\"other\", 'other', 'ttt'], [\"чгк\", \"нияег\", \"его\"]]\n",
    "\n",
    "trash_out = tgcat(trash)\n",
    "\n",
    "for out in trash_out:\n",
    "    assert out.get('Other', 0) > 0.5, out\n",
    "    \n",
    "logging.info('Passed Other test')"
   ]
  },
  {
   "cell_type": "markdown",
   "metadata": {},
   "source": [
    "### Final training, convert and save"
   ]
  },
  {
   "cell_type": "code",
   "execution_count": 238,
   "metadata": {
    "ExecuteTime": {
     "end_time": "2021-04-29T18:08:15.806261Z",
     "start_time": "2021-04-29T18:08:15.773347Z"
    }
   },
   "outputs": [],
   "source": [
    "from sklearn.preprocessing import normalize"
   ]
  },
  {
   "cell_type": "code",
   "execution_count": 239,
   "metadata": {
    "ExecuteTime": {
     "end_time": "2021-04-29T18:08:21.042317Z",
     "start_time": "2021-04-29T18:08:21.012172Z"
    }
   },
   "outputs": [],
   "source": [
    "prediction_params = {\n",
    "    'top_k': 3\n",
    "}"
   ]
  },
  {
   "cell_type": "code",
   "execution_count": 241,
   "metadata": {
    "ExecuteTime": {
     "end_time": "2021-04-29T18:09:05.342145Z",
     "start_time": "2021-04-29T18:08:59.699537Z"
    },
    "code_folding": []
   },
   "outputs": [
    {
     "name": "stdout",
     "output_type": "stream",
     "text": [
      "ru best {'lang_code': 'ru', 'subsets': ('r-2', 'r-1', 'chan'), 'vect': 'bow', 'est': 'mnb', 'vect_params': {'max_features': 5000}, 'score': 0.6326903072030584}\n"
     ]
    },
    {
     "data": {
      "application/vnd.jupyter.widget-view+json": {
       "model_id": "2ce90499ff674385beda6d8dbd459eab",
       "version_major": 2,
       "version_minor": 0
      },
      "text/plain": [
       "rows: 0it [00:00, ?it/s]"
      ]
     },
     "metadata": {},
     "output_type": "display_data"
    },
    {
     "name": "stdout",
     "output_type": "stream",
     "text": [
      "ru 0.7640193766115015\n",
      "saved to models/trained/tgcat/ru_tgcat.pt\n",
      "en best {'lang_code': 'en', 'subsets': ('r-2', 'r-1'), 'vect': 'bow', 'est': 'mnb', 'vect_params': {'max_features': 1000}, 'score': 0.6207423563409256}\n"
     ]
    },
    {
     "data": {
      "application/vnd.jupyter.widget-view+json": {
       "model_id": "c85c778c1cd745ed9f3e5282ff23c5f8",
       "version_major": 2,
       "version_minor": 0
      },
      "text/plain": [
       "rows: 0it [00:00, ?it/s]"
      ]
     },
     "metadata": {},
     "output_type": "display_data"
    },
    {
     "name": "stdout",
     "output_type": "stream",
     "text": [
      "en 0.7199629498640542\n",
      "saved to models/trained/tgcat/en_tgcat.pt\n",
      "ar best {'lang_code': 'ar', 'subsets': ('r-2', 'r-1', 'chan'), 'vect': 'bow', 'est': 'mnb', 'vect_params': {'max_features': 1000}, 'score': 0.5185363528727563}\n"
     ]
    },
    {
     "data": {
      "application/vnd.jupyter.widget-view+json": {
       "model_id": "7122321a23934a8ebb3b9c3b31bd9ce5",
       "version_major": 2,
       "version_minor": 0
      },
      "text/plain": [
       "rows: 0it [00:00, ?it/s]"
      ]
     },
     "metadata": {},
     "output_type": "display_data"
    },
    {
     "name": "stdout",
     "output_type": "stream",
     "text": [
      "ar 0.6893824767478279\n",
      "saved to models/trained/tgcat/ar_tgcat.pt\n",
      "uz best {'lang_code': 'uz', 'subsets': ('r-2', 'r-1', 'chan'), 'vect': 'bow', 'est': 'mnb', 'vect_params': {'max_features': 2000}, 'score': 0.5007110783815888}\n"
     ]
    },
    {
     "data": {
      "application/vnd.jupyter.widget-view+json": {
       "model_id": "0f24e1ed132a463191ceec2a1541718b",
       "version_major": 2,
       "version_minor": 0
      },
      "text/plain": [
       "rows: 0it [00:00, ?it/s]"
      ]
     },
     "metadata": {},
     "output_type": "display_data"
    },
    {
     "name": "stdout",
     "output_type": "stream",
     "text": [
      "uz 0.7300480840277859\n",
      "saved to models/trained/tgcat/uz_tgcat.pt\n",
      "fa best {'lang_code': 'fa', 'subsets': ('r-2', 'r-1', 'chan'), 'vect': 'bow', 'est': 'mnb', 'vect_params': {'max_features': 1000}, 'score': 0.5848622450381257}\n"
     ]
    },
    {
     "data": {
      "application/vnd.jupyter.widget-view+json": {
       "model_id": "caa8b2b58d044a83a52790d1f91d774c",
       "version_major": 2,
       "version_minor": 0
      },
      "text/plain": [
       "rows: 0it [00:00, ?it/s]"
      ]
     },
     "metadata": {},
     "output_type": "display_data"
    },
    {
     "name": "stdout",
     "output_type": "stream",
     "text": [
      "fa 0.6964448896922978\n",
      "saved to models/trained/tgcat/fa_tgcat.pt\n"
     ]
    }
   ],
   "source": [
    "for l in results['lang_code'].unique():\n",
    "    subset = results.query(f\"lang_code == '{l}'\")\n",
    "    best_id = subset['score'].idxmax()\n",
    "    best_params = subset.loc[best_id].to_dict()\n",
    "    print(l, 'best', best_params)\n",
    "    del best_params['score']\n",
    "    # for last training increase train by test\n",
    "    trainer = Trainer(**best_params)\n",
    "    s = trainer.run_eval(final=True)\n",
    "    print(l, s)\n",
    "    # save text vectorizer\n",
    "    vect_scripted = torch.jit.script(TextVectorizer(best_params['vect'], trainer.vect), )\n",
    "#     tokenizer = tokenize_text if best_params['preprocessing'] == 'raw' else lang_lemmatizer(l)\n",
    "    tokenizer = tokenize_text\n",
    "    batch = trainer.test_inputs['text'].apply(tokenizer).tolist()\n",
    "    vect_out = vect_scripted(batch)\n",
    "    src_vects = trainer.X_test.toarray()\n",
    "    assert np.allclose(src_vects, vect_out.numpy())\n",
    "    vect_scripted.save(f\"models/trained/embed/{l}_{best_params['vect']}_script.pt\")\n",
    "    # save classifier\n",
    "    nb_scripted  = torch.jit.script(NaiveBayes(best_params['est'], trainer.clf))\n",
    "    nb_out = nb_scripted(torch.tensor(trainer.X_test.toarray(), dtype=torch.double))\n",
    "    assert np.allclose(trainer.clf.predict_proba(trainer.X_test), nb_out.numpy())\n",
    "    nb_scripted.save(f\"models/trained/classify/{l}_{best_params['est']}_script.pt\")\n",
    "    # save tgcat\n",
    "    tgcat = torch.jit.script(TgCat(vect_scripted, nb_scripted, **prediction_params))\n",
    "    path = f'models/trained/tgcat/{l}_tgcat.pt'\n",
    "    torch.jit.save(tgcat, path)\n",
    "    print('saved to', path)"
   ]
  },
  {
   "cell_type": "markdown",
   "metadata": {},
   "source": [
    "### Check file sizes"
   ]
  },
  {
   "cell_type": "code",
   "execution_count": 242,
   "metadata": {
    "ExecuteTime": {
     "end_time": "2021-04-29T18:09:29.399109Z",
     "start_time": "2021-04-29T18:09:29.220583Z"
    }
   },
   "outputs": [
    {
     "name": "stdout",
     "output_type": "stream",
     "text": [
      "113\tmodels/trained/tgcat/ru_tgcat.pt\r\n",
      "12\tmodels/trained/tgcat/uz_tgcat.pt\r\n",
      "6\tmodels/trained/tgcat/fa_tgcat.pt\r\n",
      "6\tmodels/trained/tgcat/en_tgcat.pt\r\n",
      "6\tmodels/trained/tgcat/ar_tgcat.pt\r\n"
     ]
    }
   ],
   "source": [
    "!du -hm models/trained/tgcat/* | sort -nr | grep -v '.dvc'"
   ]
  },
  {
   "cell_type": "code",
   "execution_count": null,
   "metadata": {},
   "outputs": [],
   "source": []
  }
 ],
 "metadata": {
  "kernelspec": {
   "display_name": "tgcat",
   "language": "python",
   "name": "tgcat"
  },
  "language_info": {
   "codemirror_mode": {
    "name": "ipython",
    "version": 3
   },
   "file_extension": ".py",
   "mimetype": "text/x-python",
   "name": "python",
   "nbconvert_exporter": "python",
   "pygments_lexer": "ipython3",
   "version": "3.7.9"
  },
  "notify_time": "10",
  "toc": {
   "base_numbering": 1,
   "nav_menu": {},
   "number_sections": true,
   "sideBar": true,
   "skip_h1_title": false,
   "title_cell": "Table of Contents",
   "title_sidebar": "Contents",
   "toc_cell": false,
   "toc_position": {
    "height": "calc(100% - 180px)",
    "left": "10px",
    "top": "150px",
    "width": "227px"
   },
   "toc_section_display": true,
   "toc_window_display": true
  }
 },
 "nbformat": 4,
 "nbformat_minor": 5
}
