{
 "cells": [
  {
   "cell_type": "markdown",
   "metadata": {},
   "source": [
    "# Build a model to classify topics for Telegram channels\n",
    "\n",
    "**Pre-req**\n",
    "1. Download csv from gdrive with channels and save to ``data/external/telegram_channels.csv``\n",
    "2. Run ``python -m src.train.download`` to get posts and meta-data\n",
    "\n",
    "**Steps**\n",
    "1. Load data:\n",
    "    - posts from channels\n",
    "    - channel titles and descriptions\n",
    "    - channel topics\n",
    "2. Build a training dataset:\n",
    "    1. Merge\n",
    "    2. Select inputs\n",
    "    3. Split into train/val\n",
    "3. Build models:\n",
    "    1. Embed text\n",
    "    2. Train a classifier\n",
    "    3. Select best\n",
    "4. Evaluate on test data and save best"
   ]
  },
  {
   "cell_type": "code",
   "execution_count": 18,
   "metadata": {
    "ExecuteTime": {
     "end_time": "2021-04-24T18:05:32.262244Z",
     "start_time": "2021-04-24T18:05:32.228676Z"
    }
   },
   "outputs": [
    {
     "name": "stdout",
     "output_type": "stream",
     "text": [
      "The autoreload extension is already loaded. To reload it, use:\n",
      "  %reload_ext autoreload\n"
     ]
    }
   ],
   "source": [
    "%load_ext autoreload\n",
    "%autoreload 2\n",
    "%matplotlib inline\n",
    "#standard libs\n",
    "import os, sys\n",
    "from pathlib import Path\n",
    "from pprint import pprint\n",
    "from collections import Counter\n",
    "import random\n",
    "import json\n",
    "import itertools\n",
    "from datetime import datetime as dt\n",
    "import logging\n",
    "# ds libs\n",
    "import pandas as pd\n",
    "import numpy as np\n",
    "import matplotlib.pyplot as plt\n",
    "import seaborn as sns\n",
    "from tqdm.auto import tqdm\n",
    "\n",
    "from torchtext import data\n",
    "import re\n",
    "# custom path\n",
    "os.chdir('../..')\n",
    "os.environ['KMP_DUPLICATE_LIB_OK']='True'\n"
   ]
  },
  {
   "cell_type": "code",
   "execution_count": 19,
   "metadata": {
    "ExecuteTime": {
     "end_time": "2021-04-24T18:05:42.898349Z",
     "start_time": "2021-04-24T18:05:42.866706Z"
    }
   },
   "outputs": [],
   "source": [
    "def flatten_category(labelled_data):\n",
    "    \"\"\" convert multiple labels to multiple rows \"\"\"\n",
    "    data = []\n",
    "    for i, row in tqdm(labelled_data.iterrows(), desc='rows'):\n",
    "        for t,w in row['category'].items():\n",
    "            row['topic'] = t\n",
    "            row['weight'] = w\n",
    "            data.append(row)\n",
    "    data = pd.DataFrame(data)\n",
    "    return data"
   ]
  },
  {
   "cell_type": "markdown",
   "metadata": {},
   "source": [
    "## Data prep"
   ]
  },
  {
   "cell_type": "code",
   "execution_count": 2,
   "metadata": {
    "ExecuteTime": {
     "end_time": "2021-04-24T17:55:44.505533Z",
     "start_time": "2021-04-24T17:55:44.466069Z"
    }
   },
   "outputs": [],
   "source": [
    "DATA = 'data/interim/train_data.csv'"
   ]
  },
  {
   "cell_type": "markdown",
   "metadata": {},
   "source": [
    "### Load"
   ]
  },
  {
   "cell_type": "code",
   "execution_count": 16,
   "metadata": {
    "ExecuteTime": {
     "end_time": "2021-04-24T18:04:33.142429Z",
     "start_time": "2021-04-24T18:04:29.863884Z"
    }
   },
   "outputs": [
    {
     "name": "stdout",
     "output_type": "stream",
     "text": [
      "<class 'pandas.core.frame.DataFrame'>\n",
      "RangeIndex: 32999 entries, 0 to 32998\n",
      "Data columns (total 8 columns):\n",
      " #   Column        Non-Null Count  Dtype  \n",
      "---  ------        --------------  -----  \n",
      " 0   title         32999 non-null  object \n",
      " 1   description   32999 non-null  object \n",
      " 2   recent_posts  32999 non-null  object \n",
      " 3   lang_code     32999 non-null  object \n",
      " 4   id            967 non-null    float64\n",
      " 5   category      32999 non-null  object \n",
      " 6   subset        32999 non-null  object \n",
      " 7   text          32999 non-null  object \n",
      "dtypes: float64(1), object(7)\n",
      "memory usage: 2.0+ MB\n"
     ]
    }
   ],
   "source": [
    "data = pd.read_csv(DATA,)\n",
    "data['description'].fillna(\"\", inplace=True)\n",
    "data['category'] = data['category'].apply(eval)\n",
    "\n",
    "data.info()"
   ]
  },
  {
   "cell_type": "markdown",
   "metadata": {},
   "source": [
    "### Flatten categories"
   ]
  },
  {
   "cell_type": "code",
   "execution_count": 17,
   "metadata": {
    "ExecuteTime": {
     "end_time": "2021-04-24T18:05:10.728357Z",
     "start_time": "2021-04-24T18:04:33.815000Z"
    }
   },
   "outputs": [
    {
     "data": {
      "text/plain": [
       "(68332, 10)"
      ]
     },
     "execution_count": 17,
     "metadata": {},
     "output_type": "execute_result"
    }
   ],
   "source": [
    "data_flat = flatten_category(data,)\n",
    "\n",
    "data_flat.shape"
   ]
  },
  {
   "cell_type": "markdown",
   "metadata": {},
   "source": [
    "### Topic distribution"
   ]
  },
  {
   "cell_type": "code",
   "execution_count": 21,
   "metadata": {
    "ExecuteTime": {
     "end_time": "2021-04-24T18:05:53.787524Z",
     "start_time": "2021-04-24T18:05:53.758111Z"
    }
   },
   "outputs": [],
   "source": [
    "from src.train.plot_utils import barplots"
   ]
  },
  {
   "cell_type": "code",
   "execution_count": 22,
   "metadata": {
    "ExecuteTime": {
     "end_time": "2021-04-24T18:05:57.091035Z",
     "start_time": "2021-04-24T18:05:53.958533Z"
    },
    "scrolled": false
   },
   "outputs": [
    {
     "name": "stdout",
     "output_type": "stream",
     "text": [
      "ru\n"
     ]
    },
    {
     "data": {
      "image/png": "[encoded data removed]",
      "text/plain": [
       "<Figure size 1008x576 with 2 Axes>"
      ]
     },
     "metadata": {
      "needs_background": "light"
     },
     "output_type": "display_data"
    },
    {
     "name": "stdout",
     "output_type": "stream",
     "text": [
      "en\n"
     ]
    },
    {
     "data": {
      "image/png": "[encoded data removed]",
      "text/plain": [
       "<Figure size 1008x576 with 2 Axes>"
      ]
     },
     "metadata": {
      "needs_background": "light"
     },
     "output_type": "display_data"
    },
    {
     "name": "stdout",
     "output_type": "stream",
     "text": [
      "fa\n"
     ]
    },
    {
     "data": {
      "image/png": "[encoded data removed]",
      "text/plain": [
       "<Figure size 1008x576 with 2 Axes>"
      ]
     },
     "metadata": {
      "needs_background": "light"
     },
     "output_type": "display_data"
    },
    {
     "name": "stdout",
     "output_type": "stream",
     "text": [
      "uz\n"
     ]
    },
    {
     "data": {
      "image/png": "[encoded data removed]",
      "text/plain": [
       "<Figure size 1008x576 with 2 Axes>"
      ]
     },
     "metadata": {
      "needs_background": "light"
     },
     "output_type": "display_data"
    },
    {
     "name": "stdout",
     "output_type": "stream",
     "text": [
      "ar\n"
     ]
    },
    {
     "data": {
      "image/png": "[encoded data removed]",
      "text/plain": [
       "<Figure size 1008x576 with 2 Axes>"
      ]
     },
     "metadata": {
      "needs_background": "light"
     },
     "output_type": "display_data"
    }
   ],
   "source": [
    "for l in data_flat['lang_code'].unique():\n",
    "    print(l)\n",
    "    barplots({\n",
    "        'label-studio': data_flat.query(f\"lang_code == '{l}'\")['topic'],\n",
    "    }, 1, 2, fig_dims=(14,8))"
   ]
  },
  {
   "cell_type": "code",
   "execution_count": 23,
   "metadata": {
    "ExecuteTime": {
     "end_time": "2021-04-24T18:06:27.517557Z",
     "start_time": "2021-04-24T18:06:27.469427Z"
    }
   },
   "outputs": [
    {
     "name": "stdout",
     "output_type": "stream",
     "text": [
      "Unique topics per language\n",
      "lang_code\n",
      "ar    17\n",
      "en    53\n",
      "fa    21\n",
      "ru    55\n",
      "uz    21\n",
      "Name: topic, dtype: int64\n"
     ]
    }
   ],
   "source": [
    "print('Unique topics per language')\n",
    "print(data_flat.groupby('lang_code')['topic'].nunique())"
   ]
  },
  {
   "cell_type": "markdown",
   "metadata": {},
   "source": [
    "### Load stopwords"
   ]
  },
  {
   "cell_type": "code",
   "execution_count": 24,
   "metadata": {
    "ExecuteTime": {
     "end_time": "2021-04-24T18:06:39.292553Z",
     "start_time": "2021-04-24T18:06:39.263802Z"
    }
   },
   "outputs": [],
   "source": [
    "STOPWORDS = {\n",
    "    'en': 'data/external/en_stopwords.txt',\n",
    "    'ru': 'data/external/ru_stopwords.txt',\n",
    "}"
   ]
  },
  {
   "cell_type": "code",
   "execution_count": 25,
   "metadata": {
    "ExecuteTime": {
     "end_time": "2021-04-24T18:06:39.726524Z",
     "start_time": "2021-04-24T18:06:39.696867Z"
    }
   },
   "outputs": [
    {
     "data": {
      "text/plain": [
       "420"
      ]
     },
     "execution_count": 25,
     "metadata": {},
     "output_type": "execute_result"
    }
   ],
   "source": [
    "stopwords = [Path(f).read_text().strip().split('\\n') for l,f in STOPWORDS.items()]\n",
    "\n",
    "stopwords = sum(stopwords, [])\n",
    "\n",
    "len(stopwords)"
   ]
  },
  {
   "cell_type": "markdown",
   "metadata": {},
   "source": [
    "## Experiments\n",
    "\n",
    "**Improve:**\n",
    "- [ ] cross-val\n",
    "- [x] weighted metric\n",
    "\n",
    "**Hyper-parameters:**\n",
    "- [x] topics: primary only, primary + secondary\n",
    "- [x] inputs: title, description, posts\n",
    "- [x] preprocessing: raw, lemmas\n",
    "- [x] vectorizers: tf-idf, bow\n",
    "- [x] clf: xgb, nb, etc.\n",
    "- [ ] datasets {tg, r-1, r-2}\n",
    "- [ ] ngrams, chars vs words"
   ]
  },
  {
   "cell_type": "code",
   "execution_count": 26,
   "metadata": {
    "ExecuteTime": {
     "end_time": "2021-04-24T18:06:52.890344Z",
     "start_time": "2021-04-24T18:06:52.435271Z"
    }
   },
   "outputs": [],
   "source": [
    "from sklearn.model_selection import train_test_split\n",
    "\n",
    "from sklearn.feature_extraction.text import CountVectorizer, TfidfVectorizer\n",
    "from sklearn.multioutput import MultiOutputClassifier, ClassifierChain\n",
    "from sklearn.preprocessing import MultiLabelBinarizer, OneHotEncoder\n",
    "from sklearn.linear_model import LogisticRegression, ElasticNet\n",
    "from sklearn.ensemble import GradientBoostingClassifier, RandomForestClassifier\n",
    "from sklearn.model_selection import cross_val_score\n",
    "from sklearn.metrics import confusion_matrix\n",
    "from sklearn.tree import ExtraTreeClassifier\n",
    "from sklearn.neighbors import KNeighborsClassifier\n",
    "from sklearn.svm import LinearSVC, SVC\n",
    "from sklearn.naive_bayes import ComplementNB, MultinomialNB\n",
    "\n",
    "from xgboost import XGBClassifier\n",
    "\n",
    "import itertools"
   ]
  },
  {
   "cell_type": "code",
   "execution_count": 27,
   "metadata": {
    "ExecuteTime": {
     "end_time": "2021-04-24T18:06:52.917663Z",
     "start_time": "2021-04-24T18:06:52.891538Z"
    }
   },
   "outputs": [],
   "source": [
    "from src.train.text_utils import tokenize_text"
   ]
  },
  {
   "cell_type": "code",
   "execution_count": 39,
   "metadata": {
    "ExecuteTime": {
     "end_time": "2021-04-24T18:08:24.003877Z",
     "start_time": "2021-04-24T18:08:23.962854Z"
    }
   },
   "outputs": [],
   "source": [
    "class Trainer:\n",
    "    \"\"\" prapre inputs, vectorize texts and run a classifier \"\"\"\n",
    "    def __init__(self, lang_code, preprocessing, vect, est):\n",
    "        self.LANG = lang_code\n",
    "        self.data = data_flat.query(f\"lang_code == '{lang_code}'\")\n",
    "        self.vect = VECTORIZERS[vect]\n",
    "        self.vect.preprocessor = lambda x: x\n",
    "        self.vect.lowercase = False\n",
    "        self.clf = ESTIMATORS[est]\n",
    "        assert preprocessing in ['lemma', 'raw']\n",
    "        self.preprocessing = preprocessing\n",
    "        if preprocessing == 'lemma':\n",
    "            self.vect.tokenizer = lang_lemmatizer(lang_code)\n",
    "        else:\n",
    "            self.vect.tokenizer = tokenize_text\n",
    "        \n",
    "        \n",
    "    def prepare_data(self, is_final):\n",
    "        # text inputs and \n",
    "#         inputs['text'] = inputs.apply(lambda x: prepare_inputs(x, self.INPUT_FIELDS), axis=1)\n",
    "#         test_data['text'] = test_data.apply(lambda x: prepare_inputs(x, self.INPUT_FIELDS), axis=1)\n",
    "        # split into  train and test\n",
    "#         test_subset = test_data.query(f\"lang_code == '{self.LANG}'\")\n",
    "#         external_subset = inputs.query(f\"lang_code == '{self.LANG}'\")\n",
    "        self.train_inputs,self.test_inputs = train_test_split(self.data, test_size=TEST_SIZE, random_state=24, shuffle=True,)\n",
    "#         comb_datasets = [external_subset, one, self.test_inputs] if is_final else [external_subset, one]\n",
    "#         self.train_inputs = pd.concat(one, axis=0)\n",
    "        # x and y\n",
    "        self.y_train = self.train_inputs['topic']\n",
    "        self.y_test = self.test_inputs['topic']\n",
    "        self.sample_weights = self.train_inputs['weight']\n",
    "        self.X_train = self.vect.fit_transform(self.train_inputs['text'])\n",
    "        self.X_test = self.vect.transform(self.test_inputs['text'])\n",
    "        \n",
    "        \n",
    "    def run_eval(self, final=False):\n",
    "        \"\"\" prepare inputs and run clf evaluation \"\"\"\n",
    "        self.prepare_data(final)\n",
    "        # fit and eval\n",
    "        try:\n",
    "            self.clf.fit(self.X_train, self.y_train, sample_weight=self.sample_weights)\n",
    "        except TypeError as e:\n",
    "            logging.warning(e.args[0])\n",
    "            self.clf.fit(self.X_train, self.y_train)\n",
    "#         self.predictions = pd.DataFrame({\n",
    "#                     'true': trainer.test_inputs['topics'],\n",
    "#                     'predicted': trainer.clf.predict_proba(trainer.X_test)\n",
    "#                 })\n",
    "        predicted = trainer.clf.predict_proba(trainer.X_test)\n",
    "        scores = score_predictions(trainer.test_inputs['category'], predicted, self.clf.classes_)\n",
    "        return np.mean(scores)\n",
    "    \n",
    "\n",
    "def calc_weight_score(topic_weights, predicted_probs, classes):\n",
    "    true_weights = np.zeros(len(classes))\n",
    "    for t,w in topic_weights.items():\n",
    "        index = np.argwhere(classes == t).squeeze()\n",
    "        true_weights[index] = w\n",
    "    mae = round(sum(abs(true_weights - predicted_probs)),4)\n",
    "    return 1 / (1 + mae)\n",
    "\n",
    "\n",
    "def score_predictions(true_topics, predicted_probs, classes):\n",
    "    scores = list(map(lambda x: calc_weight_score(x[0],x[1],classes),\n",
    "                         zip(true_topics, predicted_probs)))\n",
    "    return scores"
   ]
  },
  {
   "cell_type": "markdown",
   "metadata": {},
   "source": [
    "### Set hyper-parameters"
   ]
  },
  {
   "cell_type": "code",
   "execution_count": 40,
   "metadata": {
    "ExecuteTime": {
     "end_time": "2021-04-24T18:08:24.551635Z",
     "start_time": "2021-04-24T18:08:24.518577Z"
    }
   },
   "outputs": [],
   "source": [
    "TEST_SIZE = 0.1"
   ]
  },
  {
   "cell_type": "code",
   "execution_count": 41,
   "metadata": {
    "ExecuteTime": {
     "end_time": "2021-04-24T18:08:24.735139Z",
     "start_time": "2021-04-24T18:08:24.706092Z"
    }
   },
   "outputs": [],
   "source": [
    "PREPROCESSING = [\n",
    "    'raw',\n",
    "#     'lemma',\n",
    "]\n",
    "\n",
    "vect_params = dict(\n",
    "    max_df=0.4, \n",
    "    min_df=3,\n",
    "    max_features=1000,\n",
    "    binary=False, \n",
    "    ngram_range=(1,1), \n",
    "    tokenizer=tokenize_text,\n",
    "    stop_words=stopwords, \n",
    ")\n",
    "VECTORIZERS = {\n",
    "    'tfidf': TfidfVectorizer(**vect_params),\n",
    "#     'bow': CountVectorizer(**vect_params),\n",
    "}\n",
    "\n",
    "\n",
    "ESTIMATORS = dict(\n",
    "#     xgb = XGBClassifier(objective='multi:softmax'),\n",
    "#     forest = RandomForestClassifier(),\n",
    "#     logreg = LogisticRegression(),\n",
    "#     knn = KNeighborsClassifier(),\n",
    "#     tree = ExtraTreeClassifier(),\n",
    "#     svm = SVC(),\n",
    "#     linsvm = LinearSVC(),\n",
    "    cnb = ComplementNB(),\n",
    "#     mnb = MultinomialNB(),\n",
    ")"
   ]
  },
  {
   "cell_type": "code",
   "execution_count": 42,
   "metadata": {
    "ExecuteTime": {
     "end_time": "2021-04-24T18:08:24.946027Z",
     "start_time": "2021-04-24T18:08:24.911899Z"
    }
   },
   "outputs": [
    {
     "data": {
      "text/plain": [
       "5"
      ]
     },
     "execution_count": 42,
     "metadata": {},
     "output_type": "execute_result"
    }
   ],
   "source": [
    "\n",
    "train_params = list(itertools.product(data_flat['lang_code'].unique(), \n",
    "                                      PREPROCESSING,\n",
    "                                VECTORIZERS.keys(), \n",
    "                                ESTIMATORS.keys()))\n",
    "\n",
    "len(train_params)"
   ]
  },
  {
   "cell_type": "markdown",
   "metadata": {},
   "source": [
    "### Run experiments"
   ]
  },
  {
   "cell_type": "code",
   "execution_count": 43,
   "metadata": {
    "ExecuteTime": {
     "end_time": "2021-04-24T18:09:11.717416Z",
     "start_time": "2021-04-24T18:08:25.568868Z"
    },
    "scrolled": true
   },
   "outputs": [
    {
     "name": "stderr",
     "output_type": "stream",
     "text": [
      "/Users/rustem.galiullin/miniconda3/envs/tgcat/lib/python3.7/site-packages/ipykernel_launcher.py:3: TqdmDeprecationWarning: This function will be removed in tqdm==5.0.0\n",
      "Please use `tqdm.notebook.tqdm` instead of `tqdm.tqdm_notebook`\n",
      "  This is separate from the ipykernel package so we can avoid doing imports until\n"
     ]
    },
    {
     "data": {
      "application/vnd.jupyter.widget-view+json": {
       "model_id": "7353fb09f0ab43d0be5ec20059d98022",
       "version_major": 2,
       "version_minor": 0
      },
      "text/plain": [
       "# experiments:   0%|          | 0/5 [00:00<?, ?it/s]"
      ]
     },
     "metadata": {},
     "output_type": "display_data"
    },
    {
     "name": "stderr",
     "output_type": "stream",
     "text": [
      "/Users/rustem.galiullin/miniconda3/envs/tgcat/lib/python3.7/site-packages/sklearn/feature_extraction/text.py:391: UserWarning: Your stop_words may be inconsistent with your preprocessing. Tokenizing the stop words generated tokens ['cent', 'dr', 'mr', 'per'] not in stop_words.\n",
      "  'stop_words.' % sorted(inconsistent))\n"
     ]
    }
   ],
   "source": [
    "results = []\n",
    "\n",
    "for params in tqdm_notebook(train_params, desc='# experiments'):\n",
    "    trainer = Trainer(*params)\n",
    "    score = trainer.run_eval()\n",
    "    params += (score,)\n",
    "    results.append(params)\n",
    "                \n",
    "results = pd.DataFrame(results, columns=['lang_code','preprocessing','vect', 'est', 'score'])"
   ]
  },
  {
   "cell_type": "code",
   "execution_count": 44,
   "metadata": {
    "ExecuteTime": {
     "end_time": "2021-04-24T18:09:11.759697Z",
     "start_time": "2021-04-24T18:09:11.719669Z"
    },
    "scrolled": true
   },
   "outputs": [
    {
     "name": "stdout",
     "output_type": "stream",
     "text": [
      "|    | lang_code   | preprocessing   | vect   | est   |    score |\n",
      "|---:|:------------|:----------------|:-------|:------|---------:|\n",
      "|  0 | ru          | raw             | tfidf  | cnb   | 0.351742 |\n",
      "\n",
      "|    | lang_code   | preprocessing   | vect   | est   |    score |\n",
      "|---:|:------------|:----------------|:-------|:------|---------:|\n",
      "|  1 | en          | raw             | tfidf  | cnb   | 0.352982 |\n",
      "\n",
      "|    | lang_code   | preprocessing   | vect   | est   |    score |\n",
      "|---:|:------------|:----------------|:-------|:------|---------:|\n",
      "|  2 | fa          | raw             | tfidf  | cnb   | 0.385731 |\n",
      "\n",
      "|    | lang_code   | preprocessing   | vect   | est   |    score |\n",
      "|---:|:------------|:----------------|:-------|:------|---------:|\n",
      "|  3 | uz          | raw             | tfidf  | cnb   | 0.439835 |\n",
      "\n",
      "|    | lang_code   | preprocessing   | vect   | est   |   score |\n",
      "|---:|:------------|:----------------|:-------|:------|--------:|\n",
      "|  4 | ar          | raw             | tfidf  | cnb   | 0.37514 |\n",
      "\n"
     ]
    }
   ],
   "source": [
    "for l in results['lang_code'].unique():\n",
    "    print(results.query(f'lang_code == \"{l}\"').sort_values('score', ascending=False).to_markdown(), end='\\n\\n')"
   ]
  },
  {
   "cell_type": "code",
   "execution_count": 59,
   "metadata": {
    "ExecuteTime": {
     "end_time": "2021-04-24T18:12:21.872555Z",
     "start_time": "2021-04-24T18:12:21.836343Z"
    }
   },
   "outputs": [
    {
     "data": {
      "text/plain": [
       "0.589622641509434"
      ]
     },
     "execution_count": 59,
     "metadata": {},
     "output_type": "execute_result"
    }
   ],
   "source": [
    "calc_weight_score({'a': 0.01, 'b': 0.0021, 'c':0.0019}, np.array([0.5,0.2,0.01]), np.array(list('abc')))"
   ]
  },
  {
   "cell_type": "markdown",
   "metadata": {},
   "source": [
    "### Review errors"
   ]
  },
  {
   "cell_type": "markdown",
   "metadata": {},
   "source": [
    "#### Train"
   ]
  },
  {
   "cell_type": "code",
   "execution_count": 33,
   "metadata": {
    "ExecuteTime": {
     "end_time": "2021-04-24T16:42:24.022433Z",
     "start_time": "2021-04-24T16:42:23.907391Z"
    }
   },
   "outputs": [
    {
     "name": "stdout",
     "output_type": "stream",
     "text": [
      "0.3886376133335339\n"
     ]
    }
   ],
   "source": [
    "trainer = Trainer(\n",
    "    lang_code = 'en', \n",
    "    preprocessing = 'raw',\n",
    "    vect = 'tfidf', \n",
    "    est = 'cnb'\n",
    ")\n",
    "s = trainer.run_eval(final=False)\n",
    "print(s)"
   ]
  },
  {
   "cell_type": "markdown",
   "metadata": {
    "heading_collapsed": true
   },
   "source": [
    "#### Classification report"
   ]
  },
  {
   "cell_type": "raw",
   "metadata": {
    "ExecuteTime": {
     "end_time": "2021-04-21T18:35:39.319116Z",
     "start_time": "2021-04-21T18:35:39.292801Z"
    },
    "hidden": true
   },
   "source": [
    "from sklearn.metrics import classification_report"
   ]
  },
  {
   "cell_type": "code",
   "execution_count": 34,
   "metadata": {
    "ExecuteTime": {
     "end_time": "2021-04-24T16:42:25.003929Z",
     "start_time": "2021-04-24T16:42:24.969830Z"
    },
    "hidden": true
   },
   "outputs": [],
   "source": [
    "test_pred = trainer.clf.predict_proba(trainer.X_test)\n",
    "\n",
    "# is_wrong = test_pred != trainer.y_test\n",
    "\n",
    "errors = trainer.test_inputs.copy()\n",
    "\n",
    "errors['score'] = score_predictions(errors['topics'], test_pred, trainer.clf.classes_)"
   ]
  },
  {
   "cell_type": "raw",
   "metadata": {
    "ExecuteTime": {
     "end_time": "2021-04-21T18:35:40.889364Z",
     "start_time": "2021-04-21T18:35:40.546283Z"
    },
    "hidden": true
   },
   "source": [
    "ct = pd.crosstab(trainer.y_test, test_pred)\n",
    "for i,k in ct.iteritems():\n",
    "    k[i] = 0\n",
    "\n",
    "\n",
    "plt.figure(figsize=(14,8))\n",
    "sns.heatmap(ct, annot=True, linewidths=0.01);"
   ]
  },
  {
   "cell_type": "raw",
   "metadata": {
    "ExecuteTime": {
     "end_time": "2021-04-21T18:35:43.314908Z",
     "start_time": "2021-04-21T18:35:43.277992Z"
    },
    "hidden": true,
    "scrolled": false
   },
   "source": [
    "metrics = pd.DataFrame(classification_report(trainer.y_test, test_pred, output_dict=True, zero_division=0)).T\n",
    "\n",
    "metrics = metrics.query(\"support > 0\").sort_values('f1-score', ascending=True)\n",
    "\n",
    "print(metrics.to_markdown())"
   ]
  },
  {
   "cell_type": "markdown",
   "metadata": {},
   "source": [
    "#### random examples"
   ]
  },
  {
   "cell_type": "code",
   "execution_count": 35,
   "metadata": {
    "ExecuteTime": {
     "end_time": "2021-04-24T16:42:31.442466Z",
     "start_time": "2021-04-24T16:42:31.409144Z"
    }
   },
   "outputs": [],
   "source": [
    "def get_top_classes(probs, classes):\n",
    "    top_inds = np.argwhere(probs > probs.mean()).squeeze(1)\n",
    "    return {classes[i]:probs[i] for i in top_inds}"
   ]
  },
  {
   "cell_type": "code",
   "execution_count": 36,
   "metadata": {
    "ExecuteTime": {
     "end_time": "2021-04-24T16:42:31.653261Z",
     "start_time": "2021-04-24T16:42:31.619253Z"
    },
    "scrolled": true
   },
   "outputs": [
    {
     "name": "stdout",
     "output_type": "stream",
     "text": [
      "MAE:\n",
      " 0.36791758646063283\n",
      "\n",
      "TRUE:\n",
      " {'Cryptocurrencies': 0.5, 'Offers & Promotions': 0.5}\n",
      "\n",
      "PREDICTED:\n",
      " {'Celebrities & Lifestyle': 0.05300547675082715, 'Cryptocurrencies': 0.05412033059280983, 'Movies': 0.054194690225672304, 'Offers & Promotions': 0.0868930579909177}\n",
      "\n",
      "TEXTS:\n",
      " IMcrypto || NEWS\n",
      "~ ICO/IEO\n",
      "~ CRYPTO TRAIDING EVENT\n",
      "~ CRYPTO AIRDROP\n",
      "~ BOUNTY\n",
      "~ AMA \n",
      "🌏WEBSITE : imcryptoworld.com\n",
      "ENGLISH grup : t.me/imcryptoGlobal\n",
      "Email busnies : imcryptoworld@gmail.com\n",
      "Twitter : https://twitter.com/\n",
      "\n",
      "📲Contact :@abaycs\n",
      "+628568935713\n",
      "​​​​​​🚀 Vera Protocol Airdrop\n",
      "🎁 Get $5 Vera +2/reff\n",
      "🔘 ETH Network\n",
      "Good project partner with matic\n",
      "\n",
      "🔻Start bot here\n",
      "🔹join telegram\n",
      "🔹Follow twitter & retweet\n",
      "🔹Enter ERC20 Address\n",
      "\n",
      "Max 50 reff\n",
      "\n",
      "😎 HAPPY EARNINGS\n",
      "🔔New Airdrop Polka Domain $NAME\n",
      "▫️Registration: 11th to 15th of April\n",
      "▫️200000 $NAME tokens will be airdropped: \n",
      "▫️25% to .eth ENS owners and 75% to random participants who perform few simple tasks (link below)\n",
      "▫️You will get your tokens 17th of April \n",
      "Details: https://polkadomain.medium.com/name-airdrop-446c4ec3a146\n",
      "Airdrop ended ,, Distribution started on June 1st 🙏🙏🙏\n",
      "‌‌ETH Ternyata Lebih Populer di YouTube Dibandingkan dengan Bitcoin\n",
      "https://twitter.com/NOPEtoken/status/1381193912677769219?s=20\n",
      "\n"
     ]
    }
   ],
   "source": [
    "i = random.randint(0, len(errors)-1)\n",
    "row = errors.iloc[i]\n",
    "pred = get_top_classes(test_pred[i], trainer.clf.classes_)\n",
    "\n",
    "# print('PREDICTED:\\n', row['predicted'], end='\\n\\n')\n",
    "print('MAE:\\n', row['score'], end='\\n\\n')\n",
    "print('TRUE:\\n', row['topics'], end='\\n\\n')\n",
    "print('PREDICTED:\\n', pred, end='\\n\\n')\n",
    "print('TEXTS:\\n', row['text'], end='\\n\\n')\n",
    "# print(f'TITLE ({row[\"id\"]}):\\n', row['title'], end='\\n\\n')\n",
    "# print('DESCRIPTION:\\n', row['description'], end='\\n\\n')"
   ]
  },
  {
   "cell_type": "raw",
   "metadata": {
    "ExecuteTime": {
     "end_time": "2021-04-22T18:47:30.144553Z",
     "start_time": "2021-04-22T18:47:30.112032Z"
    },
    "code_folding": []
   },
   "source": [
    "def get_topic_features(nb_clf, class_label, top_n=15):\n",
    "    \"\"\" get features with largest log prob for the given class \"\"\"\n",
    "    class_i = np.argwhere(nb_clf.classes_ == class_label).squeeze()\n",
    "    class_coef = nb_clf.feature_log_prob_[class_i]\n",
    "    top_inds = np.argsort(class_coef)[-top_n:]\n",
    "    return top_inds"
   ]
  },
  {
   "cell_type": "raw",
   "metadata": {
    "ExecuteTime": {
     "end_time": "2021-04-22T18:47:30.414490Z",
     "start_time": "2021-04-22T18:47:30.361117Z"
    },
    "scrolled": true
   },
   "source": [
    "FEATURES = trainer.vect.get_feature_names()\n",
    "PREDICTED_INDEX = np.argwhere(trainer.clf.classes_ == row['predicted']).squeeze()\n",
    "\n",
    "# get top features that triggered prediction\n",
    "x = trainer.vect.transform([row['text']]).toarray()[0]\n",
    "f = ( trainer.clf.feature_log_prob_ * x.T)[PREDICTED_INDEX]\n",
    "top_keywords = [FEATURES[i] for i in np.argsort(f)[::-1][:15]]\n",
    "\n",
    "\n",
    "true_inds = get_topic_features(trainer.clf, row['topic'],)\n",
    "true_keywords = [FEATURES[i] for i in true_inds]\n",
    "\n",
    "predicted_inds = get_topic_features(trainer.clf, row['predicted'],)\n",
    "predicted_keywords = [FEATURES[i] for i in predicted_inds]\n",
    "\n",
    "\n",
    "print('TRUE CLASS: ', row['topic'])\n",
    "print(true_keywords, end='\\n\\n')\n",
    "print(f'PREDICTED CLASS: {row[\"predicted\"]}')\n",
    "print(predicted_keywords, end='\\n\\n')\n",
    "print('EXAMPLE')\n",
    "print(top_keywords)"
   ]
  },
  {
   "cell_type": "markdown",
   "metadata": {},
   "source": [
    "#### Fixes"
   ]
  },
  {
   "cell_type": "markdown",
   "metadata": {},
   "source": [
    "**fixes**\n",
    "- [ ] update stopwords\n",
    "- [x] lemmas\n",
    "- [x] remove single char terms\n",
    "- [x] compare feature keywords against topic keywords\n",
    "- [x] multi-class problem\n",
    "- [x] only eng and rus chars\n",
    "- [x] measure accuracy with top N predictions\n",
    "- [x] use full data to train last\n",
    "- [ ] sample weights for secondary\n",
    "- [ ] bow to torchscript\n",
    "- [x] apply sum normalization only then min prob threshold\n",
    "- [x] fix when nothing predicted (add zero vectors as Other)\n",
    "- [x] remove URL for lang detection"
   ]
  },
  {
   "cell_type": "markdown",
   "metadata": {},
   "source": [
    "## Save models"
   ]
  },
  {
   "cell_type": "code",
   "execution_count": 37,
   "metadata": {
    "ExecuteTime": {
     "end_time": "2021-04-24T16:42:44.437901Z",
     "start_time": "2021-04-24T16:42:44.406878Z"
    }
   },
   "outputs": [],
   "source": [
    "from torch import nn\n",
    "import torch\n",
    "from torch.nn import functional as F\n",
    "from typing import Dict, List, Tuple"
   ]
  },
  {
   "cell_type": "code",
   "execution_count": 38,
   "metadata": {
    "ExecuteTime": {
     "end_time": "2021-04-24T16:42:44.633762Z",
     "start_time": "2021-04-24T16:42:44.588109Z"
    },
    "code_folding": [
     0,
     24,
     80
    ]
   },
   "outputs": [],
   "source": [
    "class NaiveBayes(nn.Module):\n",
    "    \"\"\" Implement Multinomial and Complement NB inference \"\"\"\n",
    "    def __init__(self, nb, clf,):\n",
    "        super().__init__()\n",
    "        assert nb in ['cnb','mnb']\n",
    "        self.nb = nb\n",
    "        self.feature_log_prior = nn.Parameter(torch.tensor(clf.feature_log_prob_), requires_grad=False)\n",
    "        self.class_log_prior = nn.Parameter(torch.tensor(clf.class_log_prior_), requires_grad=False)\n",
    "        self.class_labels = clf.classes_.tolist()\n",
    "        \n",
    "\n",
    "    def forward(self, x: torch.Tensor) -> torch.Tensor:\n",
    "        jll = torch.matmul(x.double(), self.feature_log_prior.T)\n",
    "        if self.nb == 'cnb':\n",
    "            if self.class_log_prior.size(0) == 1:\n",
    "                jll += self.class_log_prior\n",
    "        else:\n",
    "            jll += self.class_log_prior\n",
    "        log_prob = torch.logsumexp(jll, dim=1)\n",
    "        log_prob = jll - torch.atleast_2d(log_prob).T\n",
    "        prob = torch.exp(log_prob)\n",
    "        return prob\n",
    "\n",
    "\n",
    "class TextVectorizer(nn.Module):\n",
    "    \"\"\" vectorize text using tf-idf or bow \"\"\"\n",
    "    def __init__(self, vect, vectorizer):\n",
    "        super().__init__()\n",
    "        assert vect in ['bow','tfidf']\n",
    "        self.vocab = {k: torch.tensor(v) for k,v in vectorizer.vocabulary_.items()}\n",
    "        self.vocab_len = len(self.vocab)\n",
    "        if vect == 'tfidf':\n",
    "            self.idf_diag = nn.Parameter(\n",
    "                torch.tensor(vectorizer._tfidf._idf_diag.toarray()), \n",
    "                requires_grad=False)\n",
    "            self.sublinear_tf = vectorizer.sublinear_tf\n",
    "            self.norm = vectorizer.norm\n",
    "            self.use_idf = vectorizer.use_idf\n",
    "        else:\n",
    "            self.idf_diag = nn.Parameter(torch.eye(self.vocab_len))\n",
    "            self.sublinear_tf = False\n",
    "            self.norm = None\n",
    "            self.use_idf = False\n",
    "            \n",
    "        \n",
    "\n",
    "    def count_vocab(self, doc: List[str]) -> torch.Tensor:\n",
    "        \"\"\" return counts of each word from the vocab \"\"\"\n",
    "        feature_counter = torch.zeros(self.vocab_len, dtype=torch.long)\n",
    "        for feature in doc:\n",
    "            n = self.vocab.get(str(feature), torch.tensor(-1))\n",
    "            if n.item() != -1:\n",
    "                feature_idx = self.vocab[str(feature)]\n",
    "                feature_counter[feature_idx] += 1\n",
    "        return feature_counter\n",
    "        \n",
    "        \n",
    "    def forward(self, batch: List[List[str]]) -> torch.Tensor:\n",
    "        doc_counts: List[torch.Tensor] = [self.count_vocab(doc) for doc in batch]\n",
    "        X = torch.stack(doc_counts,)\n",
    "        if self.sublinear_tf:\n",
    "            X = torch.log(X.double())\n",
    "            X += 1\n",
    "        if self.use_idf:\n",
    "            X = torch.matmul(X.double(), self.idf_diag)\n",
    "        if self.norm is not None:\n",
    "            p = float(self.norm[-1])\n",
    "            X = F.normalize(X.double(), p=p, dim=1)\n",
    "        return X\n",
    "    \n",
    "\n",
    "class TgCat(nn.Module):\n",
    "    \"\"\" vectorize input texts, classfy topics and decode predictions \"\"\"\n",
    "    def __init__(self, vect, clf, top_k=3,):\n",
    "        super().__init__()\n",
    "        self.vect = vect\n",
    "        self.clf = clf\n",
    "        self.top_k = top_k\n",
    "        \n",
    "        \n",
    "    def select_top_classes(self, probs: torch.Tensor) -> Dict[str,float]:\n",
    "        \"\"\" select classes with at least min prob and return a normalized dict mapping \"\"\"\n",
    "        if self.clf.nb == 'cnb':\n",
    "            if probs.std(0) < 0.0001:\n",
    "                return {\"Other\": 1.0}\n",
    "        else:\n",
    "            if probs.max() < 0.1:\n",
    "                return {\"Other\": 1.0}\n",
    "        inds_desc = torch.argsort(probs, 0, descending=True)\n",
    "        top_k = min((probs > probs.mean()).sum(), torch.tensor(self.top_k))\n",
    "        target_i = inds_desc[:top_k]\n",
    "        target_p = probs[target_i]\n",
    "        target_p = target_p / target_p.sum()\n",
    "        result: List[Tuple[str, float]] = [\n",
    "            (self.clf.class_labels[target_i[i].item()], target_p[i].item())\n",
    "            for i in range(target_p.size(0))\n",
    "        ]\n",
    "        return dict(result)\n",
    "    \n",
    "    \n",
    "    def get_prob(self, batch: List[List[str]]) -> torch.Tensor:\n",
    "        embeddings = self.vect(batch)\n",
    "        probs = self.clf(embeddings)\n",
    "        return probs\n",
    "        \n",
    "    \n",
    "    def forward(self, batch: List[List[str]]) -> List[Dict[str, float]]:\n",
    "        probs = self.get_prob(batch)\n",
    "        top_predictions = [self.select_top_classes(probs[i]) for i in range(probs.size(0))]\n",
    "        return top_predictions"
   ]
  },
  {
   "cell_type": "markdown",
   "metadata": {},
   "source": [
    "### Test"
   ]
  },
  {
   "cell_type": "code",
   "execution_count": 39,
   "metadata": {
    "ExecuteTime": {
     "end_time": "2021-04-24T16:42:46.237095Z",
     "start_time": "2021-04-24T16:42:46.095774Z"
    }
   },
   "outputs": [],
   "source": [
    "V = 'tfidf'\n",
    "E = 'cnb'\n",
    "L = 'en'\n",
    "\n",
    "trainer = Trainer(\n",
    "    lang_code = L, \n",
    "    preprocessing = 'raw',\n",
    "    vect = V, \n",
    "    est = E,\n",
    ")\n",
    "_ = trainer.run_eval(final=False)\n",
    "\n",
    "tgcat = TgCat(TextVectorizer(V, trainer.vect), NaiveBayes(E, trainer.clf), top_k=3)"
   ]
  },
  {
   "cell_type": "code",
   "execution_count": 40,
   "metadata": {
    "ExecuteTime": {
     "end_time": "2021-04-24T16:42:46.490977Z",
     "start_time": "2021-04-24T16:42:46.396041Z"
    }
   },
   "outputs": [],
   "source": [
    "\n",
    "batch = trainer.test_inputs['text'].apply(tokenize_text).tolist()\n",
    "\n",
    "predictions = tgcat(batch)"
   ]
  },
  {
   "cell_type": "code",
   "execution_count": 41,
   "metadata": {
    "ExecuteTime": {
     "end_time": "2021-04-24T16:42:46.735664Z",
     "start_time": "2021-04-24T16:42:46.696057Z"
    }
   },
   "outputs": [],
   "source": [
    "v = tgcat.vect(batch)\n",
    "p = tgcat.clf(v)"
   ]
  },
  {
   "cell_type": "code",
   "execution_count": 42,
   "metadata": {
    "ExecuteTime": {
     "end_time": "2021-04-24T16:42:46.916545Z",
     "start_time": "2021-04-24T16:42:46.888994Z"
    }
   },
   "outputs": [
    {
     "data": {
      "text/plain": [
       "[{'Other': 1.0}, {'Other': 1.0}, {'Other': 1.0}, {'Other': 1.0}]"
      ]
     },
     "execution_count": 42,
     "metadata": {},
     "output_type": "execute_result"
    }
   ],
   "source": [
    "tgcat([['a','s','d'], [\"\"], [\"other\", 'other', 'ttt'], [\"чгк\", \"нияег\", \"его\"]])"
   ]
  },
  {
   "cell_type": "code",
   "execution_count": 43,
   "metadata": {
    "ExecuteTime": {
     "end_time": "2021-04-24T16:42:47.298874Z",
     "start_time": "2021-04-24T16:42:47.272177Z"
    },
    "scrolled": true
   },
   "outputs": [
    {
     "name": "stdout",
     "output_type": "stream",
     "text": [
      "PREDICTED {'Other': 0.4076470040912342, 'Technology & Internet': 0.334597442131186, 'Sports': 0.25775555377757986}\n",
      "\n",
      "TOKENS ['𝙑𝙞𝙘𝙚𝙆𝙞𝙞𝙙𝙍𝙎𝘼', '𝙁𝙧𝙚𝙚𝙣𝙚𝙩', '𝙒𝙤𝙧𝙡𝙙', '𝙃𝙚𝙧𝙚', '𝙔𝙤𝙪', '𝘾𝙖𝙣', '𝙂𝙚𝙩', '𝙀𝙝𝙞', '𝙉𝙫𝙥', '𝙉𝙡𝙭', '𝙄𝙫𝙧𝙖𝙮', '𝙃𝙖𝙩', '𝙃𝙘', '𝘿𝙖𝙩', '𝙏𝙧𝙞𝙘𝙠𝙨', '𝘼𝙞𝙧𝙩𝙞𝙢𝙚', '𝙏𝙧𝙞𝙘𝙠𝙨', '𝙑𝙋𝙉', '𝙁𝙖𝙨𝙩', '𝙞𝙣𝙩𝙚𝙧𝙣𝙚𝙩', '𝙏𝙧𝙞𝙘𝙠𝙨', '𝘼𝙘𝙘𝙤𝙪𝙣𝙩𝙨', '𝚔𝚗𝚘𝚠', '𝚝𝚑𝚎', '𝚛𝚞𝚕𝚎𝚜𝙰𝚏𝚝𝚎𝚛', '𝚖𝚒𝚗𝙽𝙾', '𝙿𝙰𝚂𝚂', '𝙼𝙰𝙳𝙴', '𝙴𝚂𝙿𝙴𝙲𝙸𝙰𝙻𝙻𝚈', '𝙵𝙾𝚁', '𝙼𝚈', '𝚂𝚄𝙱𝚂', '𝙴𝙽𝙹𝙾𝚈', '𝙰𝙽𝙳', '𝙵𝙴𝙴𝙳𝙱𝙰𝙲𝙺', '𝙾𝙽', '𝙲𝙾𝙼𝙼𝙴𝙽𝚃', '𝙿𝙻𝙴𝙰𝚂𝙴', '𝐀𝐋𝐋', '𝐁𝐄', '𝐃𝐑𝐎𝐏𝐏𝐄𝐃', '𝐉𝐎𝐈𝐍', '𝐍𝐎𝐖', '𝐇𝐄𝐑𝐄', 'vgienet', 'vgienet', 'vgienet', '𝐏𝐑𝐈𝐍𝐂𝐄', '𝐕𝐆𝐈𝐄𝐘', 'hello', 'welcome', 'to', 'anonymous', 'just', 'gonna', 'provide', 'you', 'the', 'best', 'hacking', 'gang', 'channelthey', 'send', 'hacking', 'tools', 'for', 'android', 'how', 'to', 'hack', 'social', 'media', 'tools', 'mobiles', 'hacker', 'internet', 'hacker', 'mtn', 'vodaco', 'telko', 'cell', 'data', 'free', 'tricks', 'are', 'shared', 'hereplease', 'help', 'us', 'by', 'subscribing', 'to', 'our', 'channel', 'anonymousst', 'anonymousst', 'anonymousst', 'it', 'three', 'hours', 'post', 'right', '𝗣𝗮𝘀𝘀', '𝗙𝗮𝘀𝘁', '𝗨𝘀𝗲', '𝗡𝗼𝗿𝗺𝗮𝗹', '𝗙𝗼𝗻𝘁']\n"
     ]
    }
   ],
   "source": [
    "i = random.randint(0, len(batch) - 1)\n",
    "\n",
    "print('PREDICTED', predictions[i], end='\\n\\n')\n",
    "print('TOKENS', batch[i])"
   ]
  },
  {
   "cell_type": "markdown",
   "metadata": {},
   "source": [
    "### Final training, convert and save"
   ]
  },
  {
   "cell_type": "code",
   "execution_count": 44,
   "metadata": {
    "ExecuteTime": {
     "end_time": "2021-04-24T16:42:47.887750Z",
     "start_time": "2021-04-24T16:42:47.864822Z"
    }
   },
   "outputs": [],
   "source": [
    "from sklearn.preprocessing import normalize"
   ]
  },
  {
   "cell_type": "code",
   "execution_count": 45,
   "metadata": {
    "ExecuteTime": {
     "end_time": "2021-04-24T16:42:48.328723Z",
     "start_time": "2021-04-24T16:42:48.305099Z"
    }
   },
   "outputs": [],
   "source": [
    "prediction_params = {\n",
    "    'top_k': 3\n",
    "}"
   ]
  },
  {
   "cell_type": "code",
   "execution_count": 46,
   "metadata": {
    "ExecuteTime": {
     "end_time": "2021-04-24T16:42:49.684556Z",
     "start_time": "2021-04-24T16:42:48.829240Z"
    },
    "code_folding": []
   },
   "outputs": [
    {
     "name": "stdout",
     "output_type": "stream",
     "text": [
      "ru best {'lang_code': 'ru', 'preprocessing': 'raw', 'vect': 'tfidf', 'est': 'cnb', 'score': 0.3881145815598802}\n",
      "ru 0.3881145815598802\n",
      "saved to models/trained/tgcat/ru_tgcat.pt\n",
      "en best {'lang_code': 'en', 'preprocessing': 'raw', 'vect': 'tfidf', 'est': 'cnb', 'score': 0.3886376133335339}\n",
      "en 0.3886376133335339\n",
      "saved to models/trained/tgcat/en_tgcat.pt\n",
      "fa best {'lang_code': 'fa', 'preprocessing': 'raw', 'vect': 'tfidf', 'est': 'cnb', 'score': 0.38573138413243047}\n",
      "fa 0.38573138413243047\n",
      "saved to models/trained/tgcat/fa_tgcat.pt\n",
      "uz best {'lang_code': 'uz', 'preprocessing': 'raw', 'vect': 'tfidf', 'est': 'cnb', 'score': 0.4398347391994336}\n",
      "uz 0.4398347391994336\n",
      "saved to models/trained/tgcat/uz_tgcat.pt\n",
      "ar best {'lang_code': 'ar', 'preprocessing': 'raw', 'vect': 'tfidf', 'est': 'cnb', 'score': 0.37513961342068}\n",
      "ar 0.37513961342068\n",
      "saved to models/trained/tgcat/ar_tgcat.pt\n"
     ]
    }
   ],
   "source": [
    "for l in results['lang_code'].unique():\n",
    "    subset = results.query(f\"lang_code == '{l}'\")\n",
    "    best_id = subset['score'].idxmax()\n",
    "    best_params = subset.loc[best_id].to_dict()\n",
    "    print(l, 'best', best_params)\n",
    "    del best_params['score']\n",
    "    # for last training increase train by test\n",
    "    trainer = Trainer(**best_params)\n",
    "    s = trainer.run_eval(final=True)\n",
    "    print(l, s)\n",
    "    # save text vectorizer\n",
    "    vect_scripted = torch.jit.script(TextVectorizer(best_params['vect'], trainer.vect), )\n",
    "    tokenizer = tokenize_text if best_params['preprocessing'] == 'raw' else lang_lemmatizer(l)\n",
    "    batch = trainer.test_inputs['text'].apply(tokenizer).tolist()\n",
    "    vect_out = vect_scripted(batch)\n",
    "    src_vects = trainer.X_test.toarray()\n",
    "    assert np.allclose(src_vects, vect_out.numpy())\n",
    "    vect_scripted.save(f\"models/trained/embed/{l}_{best_params['vect']}_script.pt\")\n",
    "    # save classifier\n",
    "    nb_scripted  = torch.jit.script(NaiveBayes(best_params['est'], trainer.clf))\n",
    "    nb_out = nb_scripted(torch.tensor(trainer.X_test.toarray(), dtype=torch.double))\n",
    "    assert np.allclose(trainer.clf.predict_proba(trainer.X_test), nb_out.numpy())\n",
    "    nb_scripted.save(f\"models/trained/classify/{l}_{best_params['est']}_script.pt\")\n",
    "    # save tgcat\n",
    "    tgcat = torch.jit.script(TgCat(vect_scripted, nb_scripted, **prediction_params))\n",
    "    path = f'models/trained/tgcat/{l}_tgcat.pt'\n",
    "    torch.jit.save(tgcat, path)\n",
    "    print('saved to', path)"
   ]
  },
  {
   "cell_type": "markdown",
   "metadata": {},
   "source": [
    "### Check file sizes"
   ]
  },
  {
   "cell_type": "code",
   "execution_count": 47,
   "metadata": {
    "ExecuteTime": {
     "end_time": "2021-04-24T16:42:51.345837Z",
     "start_time": "2021-04-24T16:42:51.182370Z"
    }
   },
   "outputs": [
    {
     "name": "stdout",
     "output_type": "stream",
     "text": [
      "17\tmodels/trained/embed/ru_bow_script.pt\r\n",
      "17\tmodels/trained/embed/en_bow_script.pt\r\n",
      "10\tmodels/trained/tgcat/ru_tgcat.pt\r\n",
      "9\tmodels/trained/tgcat/uz_tgcat.pt\r\n",
      "9\tmodels/trained/tgcat/fa_tgcat.pt\r\n",
      "9\tmodels/trained/tgcat/en_tgcat.pt\r\n",
      "9\tmodels/trained/tgcat/ar_tgcat.pt\r\n",
      "9\tmodels/trained/embed/uz_tfidf_script.pt\r\n",
      "9\tmodels/trained/embed/ru_tfidf_script.pt\r\n",
      "9\tmodels/trained/embed/fa_tfidf_script.pt\r\n",
      "9\tmodels/trained/embed/en_tfidf_script.pt\r\n",
      "9\tmodels/trained/embed/ar_tfidf_script.pt\r\n",
      "1\tmodels/trained/embed/ru_bow.txt\r\n",
      "1\tmodels/trained/classify/uz_cnb_script.pt\r\n",
      "1\tmodels/trained/classify/ru_mnb_script.pt\r\n",
      "1\tmodels/trained/classify/ru_cnb_script.pt\r\n",
      "1\tmodels/trained/classify/fa_mnb_script.pt\r\n",
      "1\tmodels/trained/classify/fa_cnb_script.pt\r\n",
      "1\tmodels/trained/classify/en_cnb_script.pt\r\n",
      "1\tmodels/trained/classify/ar_cnb_script.pt\r\n"
     ]
    }
   ],
   "source": [
    "!du -hm models/trained/*/* | sort -nr"
   ]
  },
  {
   "cell_type": "code",
   "execution_count": null,
   "metadata": {},
   "outputs": [],
   "source": []
  }
 ],
 "metadata": {
  "kernelspec": {
   "display_name": "tgcat",
   "language": "python",
   "name": "tgcat"
  },
  "language_info": {
   "codemirror_mode": {
    "name": "ipython",
    "version": 3
   },
   "file_extension": ".py",
   "mimetype": "text/x-python",
   "name": "python",
   "nbconvert_exporter": "python",
   "pygments_lexer": "ipython3",
   "version": "3.7.9"
  },
  "notify_time": "10",
  "toc": {
   "base_numbering": 1,
   "nav_menu": {},
   "number_sections": true,
   "sideBar": true,
   "skip_h1_title": false,
   "title_cell": "Table of Contents",
   "title_sidebar": "Contents",
   "toc_cell": false,
   "toc_position": {
    "height": "calc(100% - 180px)",
    "left": "10px",
    "top": "150px",
    "width": "227px"
   },
   "toc_section_display": true,
   "toc_window_display": true
  }
 },
 "nbformat": 4,
 "nbformat_minor": 5
}
