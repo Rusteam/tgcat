{
 "cells": [
  {
   "cell_type": "markdown",
   "metadata": {},
   "source": [
    "# Build a model to classify topics for Telegram channels\n",
    "\n",
    "**Pre-req**\n",
    "1. Download csv from gdrive with channels and save to ``data/external/telegram_channels.csv``\n",
    "2. Run ``python -m src.train.download`` to get posts and meta-data\n",
    "\n",
    "**Steps**\n",
    "1. Load data:\n",
    "    - posts from channels\n",
    "    - channel titles and descriptions\n",
    "    - channel topics\n",
    "2. Build a training dataset:\n",
    "    1. Merge\n",
    "    2. Select inputs\n",
    "    3. Split into train/val\n",
    "3. Build models:\n",
    "    1. Embed text\n",
    "    2. Train a classifier\n",
    "    3. Select best\n",
    "4. Evaluate on test data and save best"
   ]
  },
  {
   "cell_type": "code",
   "execution_count": 1,
   "metadata": {
    "ExecuteTime": {
     "end_time": "2021-05-02T19:22:42.147075Z",
     "start_time": "2021-05-02T19:22:40.833330Z"
    }
   },
   "outputs": [],
   "source": [
    "%load_ext autoreload\n",
    "%autoreload 2\n",
    "%matplotlib inline\n",
    "#standard libs\n",
    "import os, sys\n",
    "from pathlib import Path\n",
    "from pprint import pprint\n",
    "from collections import Counter\n",
    "import random\n",
    "import json\n",
    "import itertools\n",
    "from datetime import datetime as dt\n",
    "import logging\n",
    "# ds libs\n",
    "import pandas as pd\n",
    "import numpy as np\n",
    "import matplotlib.pyplot as plt\n",
    "import seaborn as sns\n",
    "from tqdm.auto import tqdm\n",
    "\n",
    "from torchtext import data\n",
    "import re\n",
    "# custom path\n",
    "os.chdir('../..')\n",
    "os.environ['KMP_DUPLICATE_LIB_OK']='True'\n"
   ]
  },
  {
   "cell_type": "code",
   "execution_count": 2,
   "metadata": {
    "ExecuteTime": {
     "end_time": "2021-05-02T19:22:42.174078Z",
     "start_time": "2021-05-02T19:22:42.148543Z"
    }
   },
   "outputs": [],
   "source": [
    "from src.train.data_utils import flatten_category, load_data, select_test"
   ]
  },
  {
   "cell_type": "markdown",
   "metadata": {},
   "source": [
    "## Data prep"
   ]
  },
  {
   "cell_type": "code",
   "execution_count": 3,
   "metadata": {
    "ExecuteTime": {
     "end_time": "2021-05-02T19:22:42.199888Z",
     "start_time": "2021-05-02T19:22:42.176101Z"
    }
   },
   "outputs": [],
   "source": [
    "DATA = 'data/interim/train_data.csv'\n",
    "\n",
    "TEST_SIZE = 0.33\n",
    "TEST_SETS = ['r-1', 'r-2']"
   ]
  },
  {
   "cell_type": "markdown",
   "metadata": {},
   "source": [
    "### Load"
   ]
  },
  {
   "cell_type": "code",
   "execution_count": 4,
   "metadata": {
    "ExecuteTime": {
     "end_time": "2021-05-02T19:22:46.139598Z",
     "start_time": "2021-05-02T19:22:42.201595Z"
    }
   },
   "outputs": [
    {
     "name": "stdout",
     "output_type": "stream",
     "text": [
      "<class 'pandas.core.frame.DataFrame'>\n",
      "RangeIndex: 34130 entries, 0 to 34129\n",
      "Data columns (total 13 columns):\n",
      " #   Column             Non-Null Count  Dtype  \n",
      "---  ------             --------------  -----  \n",
      " 0   title              34130 non-null  object \n",
      " 1   description        34130 non-null  object \n",
      " 2   recent_posts       34130 non-null  object \n",
      " 3   lang_code          34130 non-null  object \n",
      " 4   id                 1491 non-null   float64\n",
      " 5   category           34130 non-null  object \n",
      " 6   subset             34130 non-null  object \n",
      " 7   language           1138 non-null   object \n",
      " 8   topic [Primary]    1138 non-null   object \n",
      " 9   topic [Secondary]  222 non-null    object \n",
      " 10  primary            1138 non-null   object \n",
      " 11  secondary          1138 non-null   object \n",
      " 12  text               34130 non-null  object \n",
      "dtypes: float64(1), object(12)\n",
      "memory usage: 3.4+ MB\n"
     ]
    }
   ],
   "source": [
    "data = load_data(DATA)"
   ]
  },
  {
   "cell_type": "code",
   "execution_count": 5,
   "metadata": {
    "ExecuteTime": {
     "end_time": "2021-05-02T19:22:46.168447Z",
     "start_time": "2021-05-02T19:22:46.141259Z"
    }
   },
   "outputs": [],
   "source": [
    "LANGS = data['lang_code'].unique()"
   ]
  },
  {
   "cell_type": "markdown",
   "metadata": {},
   "source": [
    "### Split\n",
    "\n",
    "take a percentage for testing from selected subsets"
   ]
  },
  {
   "cell_type": "code",
   "execution_count": 6,
   "metadata": {
    "ExecuteTime": {
     "end_time": "2021-05-02T19:22:46.199125Z",
     "start_time": "2021-05-02T19:22:46.169756Z"
    }
   },
   "outputs": [
    {
     "data": {
      "text/plain": [
       "tg      31501\n",
       "chan     1138\n",
       "r-2       800\n",
       "r-1       691\n",
       "Name: subset, dtype: int64"
      ]
     },
     "execution_count": 6,
     "metadata": {},
     "output_type": "execute_result"
    }
   ],
   "source": [
    "data['subset'].value_counts()"
   ]
  },
  {
   "cell_type": "code",
   "execution_count": 7,
   "metadata": {
    "ExecuteTime": {
     "end_time": "2021-05-02T19:22:46.508271Z",
     "start_time": "2021-05-02T19:22:46.200567Z"
    }
   },
   "outputs": [
    {
     "data": {
      "text/html": [
       "<div>\n",
       "<style scoped>\n",
       "    .dataframe tbody tr th:only-of-type {\n",
       "        vertical-align: middle;\n",
       "    }\n",
       "\n",
       "    .dataframe tbody tr th {\n",
       "        vertical-align: top;\n",
       "    }\n",
       "\n",
       "    .dataframe thead tr th {\n",
       "        text-align: left;\n",
       "    }\n",
       "\n",
       "    .dataframe thead tr:last-of-type th {\n",
       "        text-align: right;\n",
       "    }\n",
       "</style>\n",
       "<table border=\"1\" class=\"dataframe\">\n",
       "  <thead>\n",
       "    <tr>\n",
       "      <th></th>\n",
       "      <th></th>\n",
       "      <th colspan=\"2\" halign=\"left\">is_test</th>\n",
       "    </tr>\n",
       "    <tr>\n",
       "      <th></th>\n",
       "      <th></th>\n",
       "      <th>mean</th>\n",
       "      <th>count</th>\n",
       "    </tr>\n",
       "    <tr>\n",
       "      <th>lang_code</th>\n",
       "      <th>subset</th>\n",
       "      <th></th>\n",
       "      <th></th>\n",
       "    </tr>\n",
       "  </thead>\n",
       "  <tbody>\n",
       "    <tr>\n",
       "      <th rowspan=\"2\" valign=\"top\">ar</th>\n",
       "      <th>chan</th>\n",
       "      <td>0.000000</td>\n",
       "      <td>99</td>\n",
       "    </tr>\n",
       "    <tr>\n",
       "      <th>r-2</th>\n",
       "      <td>0.343137</td>\n",
       "      <td>204</td>\n",
       "    </tr>\n",
       "    <tr>\n",
       "      <th rowspan=\"4\" valign=\"top\">en</th>\n",
       "      <th>chan</th>\n",
       "      <td>0.000000</td>\n",
       "      <td>313</td>\n",
       "    </tr>\n",
       "    <tr>\n",
       "      <th>r-1</th>\n",
       "      <td>0.395062</td>\n",
       "      <td>324</td>\n",
       "    </tr>\n",
       "    <tr>\n",
       "      <th>r-2</th>\n",
       "      <td>0.329670</td>\n",
       "      <td>91</td>\n",
       "    </tr>\n",
       "    <tr>\n",
       "      <th>tg</th>\n",
       "      <td>0.000000</td>\n",
       "      <td>14775</td>\n",
       "    </tr>\n",
       "    <tr>\n",
       "      <th rowspan=\"2\" valign=\"top\">fa</th>\n",
       "      <th>chan</th>\n",
       "      <td>0.000000</td>\n",
       "      <td>120</td>\n",
       "    </tr>\n",
       "    <tr>\n",
       "      <th>r-2</th>\n",
       "      <td>0.333333</td>\n",
       "      <td>195</td>\n",
       "    </tr>\n",
       "    <tr>\n",
       "      <th rowspan=\"4\" valign=\"top\">ru</th>\n",
       "      <th>chan</th>\n",
       "      <td>0.000000</td>\n",
       "      <td>471</td>\n",
       "    </tr>\n",
       "    <tr>\n",
       "      <th>r-1</th>\n",
       "      <td>0.316076</td>\n",
       "      <td>367</td>\n",
       "    </tr>\n",
       "    <tr>\n",
       "      <th>r-2</th>\n",
       "      <td>0.291262</td>\n",
       "      <td>103</td>\n",
       "    </tr>\n",
       "    <tr>\n",
       "      <th>tg</th>\n",
       "      <td>0.000000</td>\n",
       "      <td>16726</td>\n",
       "    </tr>\n",
       "    <tr>\n",
       "      <th rowspan=\"2\" valign=\"top\">uz</th>\n",
       "      <th>chan</th>\n",
       "      <td>0.000000</td>\n",
       "      <td>135</td>\n",
       "    </tr>\n",
       "    <tr>\n",
       "      <th>r-2</th>\n",
       "      <td>0.352657</td>\n",
       "      <td>207</td>\n",
       "    </tr>\n",
       "  </tbody>\n",
       "</table>\n",
       "</div>"
      ],
      "text/plain": [
       "                   is_test       \n",
       "                      mean  count\n",
       "lang_code subset                 \n",
       "ar        chan    0.000000     99\n",
       "          r-2     0.343137    204\n",
       "en        chan    0.000000    313\n",
       "          r-1     0.395062    324\n",
       "          r-2     0.329670     91\n",
       "          tg      0.000000  14775\n",
       "fa        chan    0.000000    120\n",
       "          r-2     0.333333    195\n",
       "ru        chan    0.000000    471\n",
       "          r-1     0.316076    367\n",
       "          r-2     0.291262    103\n",
       "          tg      0.000000  16726\n",
       "uz        chan    0.000000    135\n",
       "          r-2     0.352657    207"
      ]
     },
     "execution_count": 7,
     "metadata": {},
     "output_type": "execute_result"
    }
   ],
   "source": [
    "data['is_test'] = select_test(data, test_size=TEST_SIZE, test_subsets=TEST_SETS)\n",
    "\n",
    "data.groupby(['lang_code','subset']).agg({'is_test': ['mean','count']})"
   ]
  },
  {
   "cell_type": "code",
   "execution_count": 8,
   "metadata": {
    "ExecuteTime": {
     "end_time": "2021-05-02T19:22:46.541208Z",
     "start_time": "2021-05-02T19:22:46.510087Z"
    }
   },
   "outputs": [
    {
     "name": "stdout",
     "output_type": "stream",
     "text": [
      "(33618, 14)\n",
      "(512, 14)\n"
     ]
    }
   ],
   "source": [
    "train_data = data.loc[~data['is_test']]\n",
    "\n",
    "test_data = data.loc[data['is_test']]\n",
    "\n",
    "print(train_data.shape)\n",
    "print(test_data.shape)"
   ]
  },
  {
   "cell_type": "markdown",
   "metadata": {},
   "source": [
    "### Flatten train data\n",
    "\n",
    "Create each category as a separate row, since sklearn can't handle multi-prob"
   ]
  },
  {
   "cell_type": "code",
   "execution_count": 9,
   "metadata": {
    "ExecuteTime": {
     "end_time": "2021-05-02T19:23:32.634618Z",
     "start_time": "2021-05-02T19:22:46.542906Z"
    }
   },
   "outputs": [
    {
     "data": {
      "application/vnd.jupyter.widget-view+json": {
       "model_id": "429ab43bd1f94f3baa61597a3770614c",
       "version_major": 2,
       "version_minor": 0
      },
      "text/plain": [
       "rows: 0it [00:00, ?it/s]"
      ]
     },
     "metadata": {},
     "output_type": "display_data"
    },
    {
     "data": {
      "text/plain": [
       "(69409, 16)"
      ]
     },
     "execution_count": 9,
     "metadata": {},
     "output_type": "execute_result"
    }
   ],
   "source": [
    "train_data_flat = flatten_category(train_data,)\n",
    "\n",
    "train_data_flat.shape"
   ]
  },
  {
   "cell_type": "code",
   "execution_count": 10,
   "metadata": {
    "ExecuteTime": {
     "end_time": "2021-05-02T19:23:32.681171Z",
     "start_time": "2021-05-02T19:23:32.636252Z"
    }
   },
   "outputs": [],
   "source": [
    "mapping = {t:t for t in train_data_flat['topic'].tolist()}\n",
    "mapping.update({\n",
    "    'Hacked Accounts': 'Hacked Accounts & Software',\n",
    "    \"Motivation & Self-Development\": \"Motivation & Self-development\",\n",
    "    \"Foreign Languages\": \"Foreign Language Learning\",\n",
    "    \n",
    "},)\n",
    "\n",
    "train_data_flat['topic'] = train_data_flat['topic'].map(mapping,)"
   ]
  },
  {
   "cell_type": "markdown",
   "metadata": {},
   "source": [
    "### Topic distribution"
   ]
  },
  {
   "cell_type": "code",
   "execution_count": 11,
   "metadata": {
    "ExecuteTime": {
     "end_time": "2021-05-02T19:23:32.710505Z",
     "start_time": "2021-05-02T19:23:32.682641Z"
    }
   },
   "outputs": [],
   "source": [
    "from src.train.plot_utils import barplots"
   ]
  },
  {
   "cell_type": "code",
   "execution_count": 12,
   "metadata": {
    "ExecuteTime": {
     "end_time": "2021-05-02T19:23:36.125140Z",
     "start_time": "2021-05-02T19:23:32.712054Z"
    },
    "scrolled": false
   },
   "outputs": [
    {
     "name": "stdout",
     "output_type": "stream",
     "text": [
      "ru\n"
     ]
    },
    {
     "data": {
      "image/png": "[encoded data removed]",
      "text/plain": [
       "<Figure size 1008x576 with 2 Axes>"
      ]
     },
     "metadata": {
      "needs_background": "light"
     },
     "output_type": "display_data"
    },
    {
     "name": "stdout",
     "output_type": "stream",
     "text": [
      "en\n"
     ]
    },
    {
     "data": {
      "image/png": "[encoded data removed]",
      "text/plain": [
       "<Figure size 1008x576 with 2 Axes>"
      ]
     },
     "metadata": {
      "needs_background": "light"
     },
     "output_type": "display_data"
    },
    {
     "name": "stdout",
     "output_type": "stream",
     "text": [
      "ar\n"
     ]
    },
    {
     "data": {
      "image/png": "[encoded data removed]",
      "text/plain": [
       "<Figure size 1008x576 with 2 Axes>"
      ]
     },
     "metadata": {
      "needs_background": "light"
     },
     "output_type": "display_data"
    },
    {
     "name": "stdout",
     "output_type": "stream",
     "text": [
      "uz\n"
     ]
    },
    {
     "data": {
      "image/png": "[encoded data removed]",
      "text/plain": [
       "<Figure size 1008x576 with 2 Axes>"
      ]
     },
     "metadata": {
      "needs_background": "light"
     },
     "output_type": "display_data"
    },
    {
     "name": "stdout",
     "output_type": "stream",
     "text": [
      "fa\n"
     ]
    },
    {
     "data": {
      "image/png": "[encoded data removed]",
      "text/plain": [
       "<Figure size 1008x576 with 2 Axes>"
      ]
     },
     "metadata": {
      "needs_background": "light"
     },
     "output_type": "display_data"
    }
   ],
   "source": [
    "for l in train_data_flat['lang_code'].unique():\n",
    "    print(l)\n",
    "    barplots({\n",
    "        'label-studio': train_data_flat.query(f\"lang_code == '{l}'\")['topic'],\n",
    "    }, 1, 2, fig_dims=(14,8),)"
   ]
  },
  {
   "cell_type": "code",
   "execution_count": 15,
   "metadata": {
    "ExecuteTime": {
     "end_time": "2021-05-02T19:24:08.765582Z",
     "start_time": "2021-05-02T19:24:08.723023Z"
    }
   },
   "outputs": [
    {
     "name": "stdout",
     "output_type": "stream",
     "text": [
      "Unique topics per language\n",
      "lang_code\n",
      "ar    49\n",
      "en    50\n",
      "fa    49\n",
      "ru    50\n",
      "uz    46\n",
      "Name: topic, dtype: int64\n"
     ]
    }
   ],
   "source": [
    "print('Unique topics per language')\n",
    "print(train_data_flat.groupby('lang_code')['topic'].nunique())"
   ]
  },
  {
   "cell_type": "markdown",
   "metadata": {},
   "source": [
    "before\n",
    "\n",
    "ar    45\n",
    "en    50\n",
    "fa    49\n",
    "ru    50\n",
    "uz    43"
   ]
  },
  {
   "cell_type": "markdown",
   "metadata": {},
   "source": [
    "#### Delete"
   ]
  },
  {
   "cell_type": "code",
   "execution_count": 16,
   "metadata": {
    "ExecuteTime": {
     "end_time": "2021-05-02T19:24:16.314020Z",
     "start_time": "2021-05-02T19:24:16.280841Z"
    }
   },
   "outputs": [
    {
     "data": {
      "text/plain": [
       "array(['Drug Sale', 'Economy & Finance', 'Forgery', 'Personal Data'],\n",
       "      dtype=object)"
      ]
     },
     "execution_count": 16,
     "metadata": {},
     "output_type": "execute_result"
    }
   ],
   "source": [
    "all_topics = train_data_flat['topic'].unique()\n",
    "\n",
    "lang_topics = train_data_flat.query('lang_code == \"uz\"')['topic'].unique()\n",
    "\n",
    "np.setdiff1d(all_topics, lang_topics)"
   ]
  },
  {
   "cell_type": "markdown",
   "metadata": {},
   "source": [
    "### Load stopwords"
   ]
  },
  {
   "cell_type": "code",
   "execution_count": 17,
   "metadata": {
    "ExecuteTime": {
     "end_time": "2021-05-02T19:24:17.846380Z",
     "start_time": "2021-05-02T19:24:17.818190Z"
    }
   },
   "outputs": [],
   "source": [
    "STOPWORDS = {\n",
    "    'en': 'data/external/en_stopwords.txt',\n",
    "    'ru': 'data/external/ru_stopwords.txt',\n",
    "    'ar': 'data/external/ar_stopwords.txt',\n",
    "    'fa': 'data/external/fa_stopwords.txt',\n",
    "}"
   ]
  },
  {
   "cell_type": "code",
   "execution_count": 18,
   "metadata": {
    "ExecuteTime": {
     "end_time": "2021-05-02T19:24:18.134876Z",
     "start_time": "2021-05-02T19:24:18.106600Z"
    }
   },
   "outputs": [
    {
     "data": {
      "text/plain": [
       "2050"
      ]
     },
     "execution_count": 18,
     "metadata": {},
     "output_type": "execute_result"
    }
   ],
   "source": [
    "stopwords = [Path(f).read_text().strip().split('\\n') for l,f in STOPWORDS.items()]\n",
    "\n",
    "stopwords = sum(stopwords, [])\n",
    "\n",
    "len(stopwords)"
   ]
  },
  {
   "cell_type": "markdown",
   "metadata": {},
   "source": [
    "## Experiments\n",
    "\n",
    "**Improve:**\n",
    "- [x] one common split for train and test\n",
    "- [x] don't flatten test\n",
    "- [ ] ~~cross-val when training~~\n",
    "- [x] weighted metric\n",
    "- [ ] ~~top-k accuracy metric~~\n",
    "- [x] train on full set before saving\n",
    "\n",
    "**Hyper-parameters:**\n",
    "- [x] topics: primary only, primary + secondary\n",
    "- [x] inputs: title, description, posts\n",
    "- [x] preprocessing: raw, lemmas\n",
    "- [x] vectorizers: tf-idf, bow\n",
    "- [x] clf: xgb, nb, etc.\n",
    "- [x] datasets {tg, r-1, r-2}\n",
    "- [x] ngrams, chars vs words\n",
    "- [ ] use new data types"
   ]
  },
  {
   "cell_type": "code",
   "execution_count": 19,
   "metadata": {
    "ExecuteTime": {
     "end_time": "2021-05-02T19:24:20.494483Z",
     "start_time": "2021-05-02T19:24:20.069307Z"
    }
   },
   "outputs": [],
   "source": [
    "from sklearn.model_selection import train_test_split\n",
    "\n",
    "from sklearn.feature_extraction.text import CountVectorizer, TfidfVectorizer\n",
    "from sklearn.multioutput import MultiOutputClassifier, ClassifierChain\n",
    "from sklearn.preprocessing import MultiLabelBinarizer, OneHotEncoder, MinMaxScaler\n",
    "from sklearn.linear_model import LogisticRegression, ElasticNet\n",
    "from sklearn.ensemble import GradientBoostingClassifier, RandomForestClassifier\n",
    "from sklearn.model_selection import cross_val_score\n",
    "from sklearn.metrics import confusion_matrix, top_k_accuracy_score\n",
    "from sklearn.tree import ExtraTreeClassifier\n",
    "from sklearn.neighbors import KNeighborsClassifier\n",
    "from sklearn.svm import LinearSVC, SVC\n",
    "from sklearn.naive_bayes import ComplementNB, MultinomialNB\n",
    "\n",
    "from xgboost import XGBClassifier\n",
    "\n",
    "import itertools"
   ]
  },
  {
   "cell_type": "code",
   "execution_count": 20,
   "metadata": {
    "ExecuteTime": {
     "end_time": "2021-05-02T19:24:20.529713Z",
     "start_time": "2021-05-02T19:24:20.495758Z"
    }
   },
   "outputs": [],
   "source": [
    "import torch\n",
    "\n",
    "from src.train.text_utils import tokenize_text\n",
    "from src.train.neural import EmbeddingNet, load_vectors"
   ]
  },
  {
   "cell_type": "code",
   "execution_count": 21,
   "metadata": {
    "ExecuteTime": {
     "end_time": "2021-05-02T19:24:20.560095Z",
     "start_time": "2021-05-02T19:24:20.531362Z"
    }
   },
   "outputs": [],
   "source": [
    "class ScikitEmbeddingNet(EmbeddingNet):\n",
    "    \"\"\" adapt embedding net to be used with scikit-learn classifiers \"\"\"\n",
    "    def __init__(self, filepath):\n",
    "        self.file = filepath\n",
    "        self.scaler = MinMaxScaler()\n",
    "    \n",
    "    \n",
    "    def fit(self, X_data):\n",
    "        vocab,dim = load_vectors(self.file)\n",
    "        super().__init__(vocab, dim,)\n",
    "    \n",
    "    \n",
    "    def transform(self, X_data):\n",
    "        with torch.no_grad():\n",
    "            tokenized = list(map(tokenize_text, X_data))\n",
    "            x_vectors = self.forward(tokenized)\n",
    "            x_features = self.get_batch_extremes(x_vectors)\n",
    "        x_features = x_features.numpy()\n",
    "        x_features = self.scaler.fit_transform(x_features)\n",
    "        return x_features\n",
    "    \n",
    "    \n",
    "    def fit_transform(self, X_data):\n",
    "        self.fit(X_data)\n",
    "        transformed = self.transform(X_data)\n",
    "        return transformed\n",
    "    \n",
    "    \n",
    "    def set_params(self, **kwargs):\n",
    "        pass"
   ]
  },
  {
   "cell_type": "code",
   "execution_count": 22,
   "metadata": {
    "ExecuteTime": {
     "end_time": "2021-05-02T19:24:20.640394Z",
     "start_time": "2021-05-02T19:24:20.597544Z"
    },
    "code_folding": []
   },
   "outputs": [],
   "source": [
    "class Trainer:\n",
    "    \"\"\" prapre inputs, vectorize texts and run a classifier \"\"\"\n",
    "    def __init__(self, lang_code, subsets, vect, est, vect_params={}):\n",
    "        self.LANG = lang_code\n",
    "        query = f\"lang_code == {lang_code!r} and subset == {subsets}\"\n",
    "        self.train_inputs = train_data_flat.query(query).copy()\n",
    "        self.test_inputs = test_data.query(query).copy()\n",
    "        self.vect = VECTORIZERS[vect]\n",
    "        if vect_params != {}:\n",
    "            self.vect.set_params(**vect_params)\n",
    "        self.vect.preprocessor = lambda x: x\n",
    "        self.vect.lowercase = False\n",
    "        self.clf = ESTIMATORS[est]\n",
    "        preprocessing = 'raw'\n",
    "        assert preprocessing in ['lemma', 'raw']\n",
    "        self.preprocessing = preprocessing\n",
    "        if preprocessing == 'lemma':\n",
    "            self.vect.tokenizer = lang_lemmatizer(lang_code)\n",
    "        else:\n",
    "            self.vect.tokenizer = tokenize_text\n",
    "        \n",
    "        \n",
    "    def prepare_data(self, is_final):\n",
    "        # for research use train data for fitting and test for eval\n",
    "        if is_final:\n",
    "            test_flat = flatten_category(self.test_inputs)\n",
    "            self.y_train = self.train_inputs['topic'].append(test_flat['topic'])\n",
    "            self.X_train = self.vect.fit_transform(self.train_inputs['text'].append(test_flat['text']))\n",
    "            self.sample_weights = self.train_inputs['weight'].append(test_flat['weight'])\n",
    "        else:\n",
    "            self.y_train = self.train_inputs['topic']\n",
    "            self.X_train = self.vect.fit_transform(self.train_inputs['text'])\n",
    "            self.sample_weights = self.train_inputs['weight']\n",
    "        self.X_test = self.vect.transform(self.test_inputs['text'])\n",
    "            \n",
    "    \n",
    "    def train(self):\n",
    "        try:\n",
    "            self.clf.fit(self.X_train, self.y_train, sample_weight=self.sample_weights)\n",
    "        except TypeError as e:\n",
    "            logging.warning(e.args[0])\n",
    "            self.clf.fit(self.X_train, self.y_train)\n",
    "        \n",
    "        \n",
    "    def run_eval(self, final=False):\n",
    "        \"\"\" prepare inputs and run clf evaluation \"\"\"\n",
    "        self.prepare_data(final)\n",
    "        self.train()\n",
    "        predicted = trainer.clf.predict_proba(trainer.X_test)\n",
    "        scores = score_predictions(trainer.test_inputs['category'], predicted, self.clf.classes_)\n",
    "        return np.mean(scores)\n",
    "    \n",
    "\n",
    "def calc_weight_score(topic_weights, predicted_probs, classes):\n",
    "    true_weights = np.zeros(len(classes))\n",
    "    for t,w in topic_weights.items():\n",
    "        index = np.argwhere(classes == t).squeeze()\n",
    "        true_weights[index] = w\n",
    "    mae = round(sum(abs(true_weights - predicted_probs)),4)\n",
    "    return 1 / (1 + mae)\n",
    "\n",
    "\n",
    "def score_predictions(true_topics, predicted_probs, classes):\n",
    "    scores = list(map(lambda x: calc_weight_score(x[0],x[1],classes),\n",
    "                         zip(true_topics, predicted_probs)))\n",
    "    return scores"
   ]
  },
  {
   "cell_type": "markdown",
   "metadata": {},
   "source": [
    "### Set hyper-parameters"
   ]
  },
  {
   "cell_type": "code",
   "execution_count": 23,
   "metadata": {
    "ExecuteTime": {
     "end_time": "2021-05-02T19:24:22.751715Z",
     "start_time": "2021-05-02T19:24:22.718560Z"
    }
   },
   "outputs": [],
   "source": [
    "SUBSETS = [\n",
    "#     ('r-2', 'r-1', 'chan'),\n",
    "#     ('r-2', 'r-1'),\n",
    "#     ('r-2', 'chan'),\n",
    "    ('r-2', 'r-1', 'chan', 'tg'),\n",
    "]\n",
    "\n",
    "vect_params = dict(\n",
    "    max_df=0.4, \n",
    "    min_df=3,\n",
    "    max_features=2000,\n",
    "    binary=False, \n",
    "    ngram_range=(1,1), \n",
    "    tokenizer=tokenize_text,\n",
    "    stop_words=stopwords, \n",
    "    analyzer='word'\n",
    ")\n",
    "vect_space = [\n",
    "    dict(max_features=2000,),\n",
    "    dict(max_features=3000,),\n",
    "]\n",
    "VECTORIZERS = {\n",
    "#     'tfidf': TfidfVectorizer(**vect_params),\n",
    "    'bow': CountVectorizer(**vect_params),\n",
    "#     'fasttext' : ScikitEmbeddingNet('models/external/word_vectors/100k.cc.en.300.vec'),\n",
    "}\n",
    "\n",
    "\n",
    "ESTIMATORS = dict(\n",
    "#     xgb = XGBClassifier(objective='multi:softmax'),\n",
    "#     forest = RandomForestClassifier(),\n",
    "#     logreg = LogisticRegression(),\n",
    "#     knn = KNeighborsClassifier(),\n",
    "#     tree = ExtraTreeClassifier(),\n",
    "#     svm = SVC(),\n",
    "#     linsvm = LinearSVC(),\n",
    "#     cnb = ComplementNB(),\n",
    "    mnb = MultinomialNB(),\n",
    ")"
   ]
  },
  {
   "cell_type": "code",
   "execution_count": 24,
   "metadata": {
    "ExecuteTime": {
     "end_time": "2021-05-02T19:24:23.845748Z",
     "start_time": "2021-05-02T19:24:23.814226Z"
    }
   },
   "outputs": [
    {
     "name": "stdout",
     "output_type": "stream",
     "text": [
      "10 experiments to run\n"
     ]
    }
   ],
   "source": [
    "\n",
    "train_params = list(itertools.product(\n",
    "    LANGS, \n",
    "    SUBSETS,\n",
    "    VECTORIZERS.keys(), \n",
    "    ESTIMATORS.keys(),\n",
    "    vect_space,\n",
    "))\n",
    "\n",
    "print(f'{len(train_params)} experiments to run')"
   ]
  },
  {
   "cell_type": "markdown",
   "metadata": {},
   "source": [
    "#### Test trainer"
   ]
  },
  {
   "cell_type": "code",
   "execution_count": 25,
   "metadata": {
    "ExecuteTime": {
     "end_time": "2021-05-02T19:24:25.078711Z",
     "start_time": "2021-05-02T19:24:24.298063Z"
    },
    "scrolled": true
   },
   "outputs": [
    {
     "name": "stderr",
     "output_type": "stream",
     "text": [
      "/Users/rustem.galiullin/miniconda3/envs/tgcat/lib/python3.7/site-packages/sklearn/feature_extraction/text.py:391: UserWarning: Your stop_words may be inconsistent with your preprocessing. Tokenizing the stop words generated tokens ['cent', 'dr', 'mr', 'per', 'آسانی', 'آسیب', 'أخير', 'أسبوع', 'أفضل', 'أول', 'إعلام', 'اثر', 'احیانا', 'اخیرا', 'ازاین', 'اسلامی', 'اطلاعند', 'الاسف', 'الظاهر', 'بااین', 'بازی', 'باوجودی', 'برآن', 'برنامه', 'بسته', 'بطوری', 'بفهمی', 'بلد', 'تازگی', 'تحریم', 'تدریج', 'ترتیب', 'تردید', 'ترند', 'تصریحا', 'تفاوتند', 'تند', 'توؤما', 'تول', 'تک', 'ثالثا', 'ثاني', 'ثانی', 'جانب', 'جديد', 'جزء', 'جمع', 'جمعة', 'جمله', 'جميع', 'جنس', 'جوری', 'حاشیه', 'حالي', 'حسابی', 'حکما', 'خارج', 'خسته', 'خميس', 'خوبی', 'خودبه', 'خودی', 'دائم', 'داند', 'دراین', 'درحالی', 'درشتی', 'درصورتی', 'درعین', 'درپی', 'دسته', 'دلخواه', 'دنبال', 'دیوانه', 'ذاتا', 'ذلک', 'راجع', 'رسد', 'رغم', 'رود', 'روزه', 'روشنی', 'رويترز', 'زده', 'زودی', 'ساده', 'سادگی', 'سازهاست', 'ساعة', 'سالم', 'ساله', 'ست', 'سرعت', 'سمت', 'سه', 'سهوا', 'سیاه', 'شاأالله', 'شخص', 'شدت', 'شهر', 'صباح', 'صحيفة', 'صریحا', 'صندوق', 'ضد', 'ضمنا', 'طبق', 'طريق', 'طوری', 'عام', 'عدد', 'علاوه', 'علت', 'علنا', 'علی', 'عملی', 'عینا', 'قادم', 'قاعدتا', 'قال', 'قانونا', 'قصد', 'كامل', 'كبير', 'كثير', 'لحظة', 'لزوما', 'ماضي', 'مامان', 'مجموع', 'محتمل', 'مخصوصا', 'مدتی', 'مدينة', 'مذهبی', 'مراتب', 'مرة', 'مزيد', 'مستعد', 'مسيرة', 'مشترکا', 'معلومة', 'مكان', 'مواطن', 'مکررا', 'ناراضی', 'ناچار', 'نبأ', 'نفهمی', 'نهایت', 'نوعا', 'نیازمندانه', 'هاست', 'هدف', 'هرحال', 'هق', 'وابسته', 'واحد', 'واضح', 'واقع', 'وجه', 'وحشت', 'وسط', 'وضوح', 'يوم', 'پاره', 'پاعین', 'پایین', 'پذیرند', 'پشتوانه', 'پهن', 'چاله', 'چشم', 'کرات', 'کما', 'کنان', 'کنایه', 'گرمی', 'گویان', 'یواش'] not in stop_words.\n",
      "  'stop_words.' % sorted(inconsistent))\n"
     ]
    },
    {
     "name": "stdout",
     "output_type": "stream",
     "text": [
      "0.5816512061411031\n"
     ]
    }
   ],
   "source": [
    "trainer = Trainer(\n",
    "    lang_code = 'fa', \n",
    "    subsets = SUBSETS[0],\n",
    "    vect = 'bow', \n",
    "    est = 'mnb',\n",
    "    vect_params={'max_features': 2001, 'min_df': 4}\n",
    ")\n",
    "s = trainer.run_eval(final=False)\n",
    "print(s)"
   ]
  },
  {
   "cell_type": "markdown",
   "metadata": {},
   "source": [
    "### Run experiments"
   ]
  },
  {
   "cell_type": "code",
   "execution_count": 26,
   "metadata": {
    "ExecuteTime": {
     "end_time": "2021-05-02T19:26:15.887447Z",
     "start_time": "2021-05-02T19:24:25.346496Z"
    },
    "scrolled": true
   },
   "outputs": [
    {
     "data": {
      "application/vnd.jupyter.widget-view+json": {
       "model_id": "cf7016cbb153497984be69fad78edbcd",
       "version_major": 2,
       "version_minor": 0
      },
      "text/plain": [
       "# experiments:   0%|          | 0/10 [00:00<?, ?it/s]"
      ]
     },
     "metadata": {},
     "output_type": "display_data"
    }
   ],
   "source": [
    "results = []\n",
    "\n",
    "for params in tqdm(train_params, desc='# experiments'):\n",
    "    trainer = Trainer(*params)\n",
    "    score = trainer.run_eval()\n",
    "    params += (score,)\n",
    "    results.append(params)\n",
    "                \n",
    "results = pd.DataFrame(results, columns=['lang_code','subsets','vect', 'est', 'vect_params','score',])"
   ]
  },
  {
   "cell_type": "markdown",
   "metadata": {},
   "source": [
    "### Show results"
   ]
  },
  {
   "cell_type": "code",
   "execution_count": 27,
   "metadata": {
    "ExecuteTime": {
     "end_time": "2021-05-02T19:26:15.931849Z",
     "start_time": "2021-05-02T19:26:15.889382Z"
    }
   },
   "outputs": [
    {
     "name": "stdout",
     "output_type": "stream",
     "text": [
      "|    | lang_code   | subsets                      | vect   | est   | vect_params            |    score |\n",
      "|---:|:------------|:-----------------------------|:-------|:------|:-----------------------|---------:|\n",
      "|  1 | ru          | ('r-2', 'r-1', 'chan', 'tg') | bow    | mnb   | {'max_features': 3000} | 0.668015 |\n",
      "|  0 | ru          | ('r-2', 'r-1', 'chan', 'tg') | bow    | mnb   | {'max_features': 2000} | 0.65659  |\n",
      "\n",
      "|    | lang_code   | subsets                      | vect   | est   | vect_params            |    score |\n",
      "|---:|:------------|:-----------------------------|:-------|:------|:-----------------------|---------:|\n",
      "|  3 | en          | ('r-2', 'r-1', 'chan', 'tg') | bow    | mnb   | {'max_features': 3000} | 0.65308  |\n",
      "|  2 | en          | ('r-2', 'r-1', 'chan', 'tg') | bow    | mnb   | {'max_features': 2000} | 0.631558 |\n",
      "\n",
      "|    | lang_code   | subsets                      | vect   | est   | vect_params            |    score |\n",
      "|---:|:------------|:-----------------------------|:-------|:------|:-----------------------|---------:|\n",
      "|  4 | ar          | ('r-2', 'r-1', 'chan', 'tg') | bow    | mnb   | {'max_features': 2000} | 0.584847 |\n",
      "|  5 | ar          | ('r-2', 'r-1', 'chan', 'tg') | bow    | mnb   | {'max_features': 3000} | 0.575794 |\n",
      "\n",
      "|    | lang_code   | subsets                      | vect   | est   | vect_params            |    score |\n",
      "|---:|:------------|:-----------------------------|:-------|:------|:-----------------------|---------:|\n",
      "|  7 | fa          | ('r-2', 'r-1', 'chan', 'tg') | bow    | mnb   | {'max_features': 3000} | 0.598246 |\n",
      "|  6 | fa          | ('r-2', 'r-1', 'chan', 'tg') | bow    | mnb   | {'max_features': 2000} | 0.581655 |\n",
      "\n",
      "|    | lang_code   | subsets                      | vect   | est   | vect_params            |    score |\n",
      "|---:|:------------|:-----------------------------|:-------|:------|:-----------------------|---------:|\n",
      "|  8 | uz          | ('r-2', 'r-1', 'chan', 'tg') | bow    | mnb   | {'max_features': 2000} | 0.48394  |\n",
      "|  9 | uz          | ('r-2', 'r-1', 'chan', 'tg') | bow    | mnb   | {'max_features': 3000} | 0.471528 |\n",
      "\n"
     ]
    }
   ],
   "source": [
    "for l in results['lang_code'].unique():\n",
    "    one = results.query(f'lang_code == \"{l}\"').sort_values('score', ascending=False)\n",
    "    \n",
    "    print(one.to_markdown(), end='\\n\\n')"
   ]
  },
  {
   "cell_type": "code",
   "execution_count": 28,
   "metadata": {
    "ExecuteTime": {
     "end_time": "2021-05-02T19:26:15.962262Z",
     "start_time": "2021-05-02T19:26:15.933290Z"
    }
   },
   "outputs": [
    {
     "name": "stdout",
     "output_type": "stream",
     "text": [
      "| lang_code   |    score |\n",
      "|:------------|---------:|\n",
      "| ar          | 0.584847 |\n",
      "| en          | 0.65308  |\n",
      "| fa          | 0.598246 |\n",
      "| ru          | 0.668015 |\n",
      "| uz          | 0.48394  |\n"
     ]
    }
   ],
   "source": [
    "print(results.groupby('lang_code').agg({'score':'max'}).to_markdown())"
   ]
  },
  {
   "cell_type": "markdown",
   "metadata": {},
   "source": [
    "**after fixing topic issue**\n",
    "\n",
    "| lang_code   |    score |\n",
    "|:------------|---------:|\n",
    "| ar          | 0.537213 |\n",
    "| en          | 0.656156 |\n",
    "| fa          | 0.566891 |\n",
    "| ru          | 0.641199 |\n",
    "| uz          | 0.458695 |\n",
    "\n",
    "\n",
    "\n",
    "**with max-features 3000**\n",
    "\n",
    "| lang_code   |    score |\n",
    "|:------------|---------:|\n",
    "| ar          | 0.542047 |\n",
    "| en          | 0.660576 |\n",
    "| fa          | 0.592046 |\n",
    "| ru          | 0.665547 |\n",
    "| uz          | 0.510825 |\n"
   ]
  },
  {
   "cell_type": "markdown",
   "metadata": {
    "heading_collapsed": true
   },
   "source": [
    "### Review errors"
   ]
  },
  {
   "cell_type": "markdown",
   "metadata": {
    "hidden": true
   },
   "source": [
    "#### Train"
   ]
  },
  {
   "cell_type": "code",
   "execution_count": 82,
   "metadata": {
    "ExecuteTime": {
     "end_time": "2021-05-02T17:03:48.270778Z",
     "start_time": "2021-05-02T17:03:47.750534Z"
    },
    "hidden": true
   },
   "outputs": [
    {
     "name": "stdout",
     "output_type": "stream",
     "text": [
      "0.5108249862411709\n",
      "vocab size: 3000\n"
     ]
    }
   ],
   "source": [
    "trainer = Trainer(\n",
    "    lang_code = 'uz', \n",
    "    subsets = SUBSETS[0],\n",
    "    vect = 'bow', \n",
    "    est = 'mnb'\n",
    ")\n",
    "s = trainer.run_eval(final=False)\n",
    "print(s)\n",
    "\n",
    "print(f'vocab size: {len(trainer.vect.vocabulary_)}')"
   ]
  },
  {
   "cell_type": "code",
   "execution_count": 83,
   "metadata": {
    "ExecuteTime": {
     "end_time": "2021-05-02T17:03:48.404624Z",
     "start_time": "2021-05-02T17:03:48.369170Z"
    },
    "hidden": true
   },
   "outputs": [],
   "source": [
    "test_pred = trainer.clf.predict_proba(trainer.X_test)\n",
    "\n",
    "# is_wrong = test_pred != trainer.y_test\n",
    "\n",
    "errors = trainer.test_inputs.copy()\n",
    "\n",
    "errors['score'] = score_predictions(errors['category'], test_pred, trainer.clf.classes_)"
   ]
  },
  {
   "cell_type": "markdown",
   "metadata": {
    "hidden": true
   },
   "source": [
    "#### random examples"
   ]
  },
  {
   "cell_type": "code",
   "execution_count": 84,
   "metadata": {
    "ExecuteTime": {
     "end_time": "2021-05-02T17:03:49.028237Z",
     "start_time": "2021-05-02T17:03:48.996560Z"
    },
    "hidden": true
   },
   "outputs": [],
   "source": [
    "def get_top_classes(probs, classes):\n",
    "    top_inds = np.argwhere(probs > probs.mean()).squeeze(1)\n",
    "    return Counter({classes[i]:probs[i] for i in top_inds})"
   ]
  },
  {
   "cell_type": "code",
   "execution_count": 88,
   "metadata": {
    "ExecuteTime": {
     "end_time": "2021-05-02T17:05:13.752147Z",
     "start_time": "2021-05-02T17:05:13.715016Z"
    },
    "hidden": true,
    "scrolled": true
   },
   "outputs": [
    {
     "name": "stdout",
     "output_type": "stream",
     "text": [
      "MAE:\n",
      " 0.9629272989889264\n",
      "\n",
      "TRUE:\n",
      " {'Religion & Spirituality': 1.0}\n",
      "\n",
      "PREDICTED:\n",
      " Counter({'Religion & Spirituality': 0.9807554724163344})\n",
      "\n",
      "TEXTS:\n",
      " NAMOZXONLAR\n",
      "بِسْــــــــــــــــــــــمِ ﷲِالرَّحْمَنِ الرَّحِيم\n",
      "\n",
      "✅ SIZ BU YERDA NAMOZ HAQIDA BATAFSIL MA’LUMOTLAR OLISHINGIZ MUMKIN.\n",
      "\n",
      "⏰ SHUNINGDEK, KUNLIK NAMOZ VAQTLARI VA MA'RUZALAR BERIB BORILADI\n",
      "\n",
      "Reklama uchun @REKXONA\n",
      "menejer 👉🏼 @Mexir_siz\n",
      "🌙 Yaqinlashayotgan Ramazon muborak boʻlsin\n",
      "\n",
      "🖼Ismingiz yozilgan Ramazon tabrik rasmlarni profilingizga quyib olishni istaysizmi?\n",
      "\n",
      "👨‍💻Unda botimiz orqali ismingizni yozib oling👇\n",
      "@RamazonTabriklariBot\n",
      "\n",
      "💫 Yaqinlaringizga xam ulashib, ularni xursand qiling😇\n",
      "🔥 БЕНАМОЗЛИК 🔥\n",
      "\n",
      "🔥 Дўзах аҳлидан «Сизларни дўзахга нима киритди?» (Муддассир сураси, 42-оят) деб сўралса, улар шундай жавоб беришади: «Намоз ўқийдиганлардан бўл-маган эдик» (Муддассир сураси, 43-оят) дерлар.\n",
      "\n",
      "\n",
      "✿•┈•┈•┈•┈•┈•┈•┈•┈•┈•✿🌙\n",
      "🌴Жаннатда ёнингизда бўлишини истаган яқинларингизга #улашинг🌴 \n",
      "✿•┈•┈•┈•┈•┈•┈•┈•┈•┈•✿🌙\n",
      "\n",
      "🌸 @namozHD 🌸\n",
      "➥ Каналга уланинг!👇🏼\n",
      "https://t.me/joinchat/AAAAAFM0sduhQQCOEvQxbg\n",
      "📱KERAKLI INTERNET PAKETLARNI TANLANG VA SAQLAB OLING!📱\n",
      "\n",
      "🗓 Yangi oy uchun paketlarni harid qiling va mavjud paketlaringizni muddatini uzaytiring\n",
      "📆Katta hajmdagi paketni 30 kunda  tugata olmasangiz qayta istalgan paketni harid qiling va muddatingiz takror 1 oyga cho‘ziladi.\n",
      "✅Ushbu kodlar O'zbekistonning barcha hududlarida amal qiladi!\n",
      "☝️Eslatma: Hisobingizda to'plam narxidan kamida 1000 so'm ko'proq bo'lishi kerak.\n",
      "\n",
      "Mobil USSD yordamchi👈📲 dasturni o'rnatib oling va bonuslarga ega bo'ling.\n",
      "\n",
      "👉 Telegramdan yuklab olish\n",
      "\n",
      "👉 Google Playdan yuklab olish\n",
      "\n",
      "Yangiliklarimiz:👇👇\n",
      "@uzmobile_beeline_ucell_mobiuz @tarjimon_uz_bot\n",
      "#TARIXI_MUHAMMADIY\n",
      "\n",
      "\n",
      "148-қисм. «Ўттиз олтинчи мўъжиза»\n",
      "\n",
      "\n",
      "✿•┈•┈•┈•┈•┈•┈•┈•┈•┈•✿🌙\n",
      "🌴Жаннатда ёнингизда бўлишини истаган яқинларингизга #улашинг🌴 \n",
      "✿•┈•┈•┈•┈•┈•┈•┈•┈•┈•✿🌙\n",
      "\n",
      "🌸 @namozHD 🌸\n",
      "➥ Каналга уланинг!👇🏼\n",
      "https://t.me/joinchat/AAAAAFM0sduhQQCOEvQxbg\n",
      "🤔3 kun o'ylab ham topa olmaysiz aslida 3 soniya yetarli!\n",
      "\n",
      "📌Rasmga diqqat bilan qarang va boshqotirmani hal qilishga harakat qiling!\n",
      "\n",
      "❗️Eslatib o'tamiz boshqotirmani faqat 3% odamlar hal qila oladi!\n",
      "\n",
      "@Qiziqarli_MalumotlarTG - Ajoyib Malumotlar olami!\n",
      "#Ramazon_tuhfasi  \n",
      "\n",
      "\n",
      "🎙Afzal Rafiqov \n",
      "📌\"Qur'on ma'nolari tarjimasi'.  🔸9-pora\n",
      "\n",
      "\n",
      "#ALBATTA_TINGLANG☝️🏼\n",
      "\n",
      "\n",
      "✿•┈•┈•┈•┈•┈•┈•┈•┈•┈•✿🌙\n",
      "🌴Жаннатда ёнингизда бўлишини истаган яқинларингизга #улашинг🌴 \n",
      "✿•┈•┈•┈•┈•┈•┈•┈•┈•┈•✿🌙\n",
      "\n",
      "🌸 @namozHD 🌸\n",
      "➥ Каналга уланинг!👇🏼\n",
      "https://t.me/joinchat/AAAAAFM0sduhQQCOEvQxbg\n",
      "#Бисмиллах   14. Иброхим   #сураси\n",
      "\n",
      "\n",
      "🍃🌹АССАЛОМУ АЛАЙКУМ! РАМАЗОННИНГ 9-КУНИ МУБОРАК БЎЛСИН!🌹🍃\n",
      "\n",
      "•🌺•🌸•Роббимиз - Аллоҳ\n",
      "•🌺•🌸•Динимиз - Ислом\n",
      "•🌺•🌸•Қибламиз - Каъба\n",
      "•🌺•🌸•Айёмимиз - Жума\n",
      "•🌺•🌸•Фарзимиз - Намоз\n",
      "•🌺•🌸•Қарзимиз - Закот\n",
      "•🌺•🌸•Орзуимиз - Ҳаж\n",
      "•🌺•🌸•Амалимиз - Савоб\n",
      "•🌺•🌸•Тилимиз - Тақво\n",
      "•🌺•🌸•Нафратимиз - Зино\n",
      "•🌺•🌸•Севганимиз - Ҳайит-Рамазон\n",
      "•🌺•🌸•Сўзимиз - Алҳамдулиллаҳ\n",
      "•🌺•🌸•Энг катта орзуимиз - Жаннат ва Аллоҳнинг васли иншааллоҳ!\n",
      "\n",
      "🌸Бугун сокин осмону фалак,\n",
      "🌸Ҳамма излар Аллоҳдан кўмак!\n",
      "🌸Мусулмонмиз бу бахтдир демак,\n",
      "🌸Қадрдонлар Рамазон муборак!\n",
      "\n",
      "🌙✨РАМАЗОННИНГ 9-КУНИ МУБОРАК БЎЛСИН!\n",
      "\n",
      "\n",
      "🌙✨🌟🌙✨🌟🌙✨🌟🌙✨🌟🌙\n",
      "\n",
      "\n",
      "✿•┈•┈•┈•┈•┈•┈•┈•┈•┈•✿🌙\n",
      "🌴Жаннатда ёнингизда бўлишини истаган яқинларингизга #улашинг🌴 \n",
      "✿•┈•┈•┈•┈•┈•┈•┈•┈•┈•✿🌙\n",
      "\n",
      "🌸 @namozHD 🌸\n",
      "➥ Каналга уланинг!👇🏼\n",
      "https://t.me/joinchat/AAAAAFM0sduhQQCOEvQxbg\n",
      "\n"
     ]
    }
   ],
   "source": [
    "i = random.randint(0, len(errors)-1)\n",
    "row = errors.iloc[i]\n",
    "pred = get_top_classes(test_pred[i], trainer.clf.classes_)\n",
    "\n",
    "# print('PREDICTED:\\n', row['predicted'], end='\\n\\n')\n",
    "print('MAE:\\n', row['score'], end='\\n\\n')\n",
    "print('TRUE:\\n', row['category'], end='\\n\\n')\n",
    "print('PREDICTED:\\n', pred, end='\\n\\n')\n",
    "print('TEXTS:\\n', row['text'], end='\\n\\n')\n",
    "# print(f'TITLE ({row[\"id\"]}):\\n', row['title'], end='\\n\\n')\n",
    "# print('DESCRIPTION:\\n', row['description'], end='\\n\\n')"
   ]
  },
  {
   "cell_type": "markdown",
   "metadata": {
    "hidden": true
   },
   "source": [
    "#### Fixes"
   ]
  },
  {
   "cell_type": "markdown",
   "metadata": {
    "hidden": true
   },
   "source": [
    "**fixes**\n",
    "- [ ] update stopwords: fa/uz\n",
    "- [x] lemmas\n",
    "- [x] remove single char terms\n",
    "- [x] compare feature keywords against topic keywords\n",
    "- [x] multi-class problem\n",
    "- [x] only eng and rus chars\n",
    "- [x] measure accuracy with top N predictions\n",
    "- [x] use full data to train last\n",
    "- [x] sample weights for secondary\n",
    "- [x] bow to torchscript\n",
    "- [x] apply sum normalization only then min prob threshold\n",
    "- [x] fix when nothing predicted (add zero vectors as Other)\n",
    "- [x] remove URL for lang detection"
   ]
  },
  {
   "cell_type": "markdown",
   "metadata": {},
   "source": [
    "## Save models"
   ]
  },
  {
   "cell_type": "code",
   "execution_count": 29,
   "metadata": {
    "ExecuteTime": {
     "end_time": "2021-05-02T19:26:49.074405Z",
     "start_time": "2021-05-02T19:26:49.043803Z"
    }
   },
   "outputs": [],
   "source": [
    "from torch import nn\n",
    "import torch\n",
    "from torch.nn import functional as F\n",
    "from typing import Dict, List, Tuple"
   ]
  },
  {
   "cell_type": "code",
   "execution_count": 30,
   "metadata": {
    "ExecuteTime": {
     "end_time": "2021-05-02T19:26:49.465494Z",
     "start_time": "2021-05-02T19:26:49.417679Z"
    },
    "code_folding": [
     24,
     73
    ]
   },
   "outputs": [],
   "source": [
    "class NaiveBayes(nn.Module):\n",
    "    \"\"\" Implement Multinomial and Complement NB inference \"\"\"\n",
    "    def __init__(self, nb, clf,):\n",
    "        super().__init__()\n",
    "        assert nb in ['cnb','mnb']\n",
    "        self.nb = nb\n",
    "        self.feature_log_prior = nn.Parameter(torch.tensor(clf.feature_log_prob_), requires_grad=False)\n",
    "        self.class_log_prior = nn.Parameter(torch.tensor(clf.class_log_prior_), requires_grad=False)\n",
    "        self.class_labels = clf.classes_.tolist()\n",
    "        \n",
    "\n",
    "    def forward(self, x: torch.Tensor) -> torch.Tensor:\n",
    "        jll = torch.matmul(x.double(), self.feature_log_prior.T)\n",
    "        if self.nb == 'cnb':\n",
    "            if self.class_log_prior.size(0) == 1:\n",
    "                jll += self.class_log_prior\n",
    "        else:\n",
    "            jll += self.class_log_prior\n",
    "        log_prob = torch.logsumexp(jll, dim=1)\n",
    "        log_prob = jll - torch.atleast_2d(log_prob).T\n",
    "        prob = torch.exp(log_prob)\n",
    "        return prob\n",
    "\n",
    "\n",
    "class TextVectorizer(nn.Module):\n",
    "    \"\"\" vectorize text using tf-idf or bow \"\"\"\n",
    "    def __init__(self, vect, vectorizer):\n",
    "        super().__init__()\n",
    "        assert vect in ['bow','tfidf']\n",
    "        self.vocab = {k: torch.tensor(v) for k,v in vectorizer.vocabulary_.items()}\n",
    "        self.vocab_len = len(self.vocab)\n",
    "        if vect == 'tfidf':\n",
    "            self.idf_diag = nn.Parameter(\n",
    "                torch.tensor(vectorizer._tfidf._idf_diag.toarray()), \n",
    "                requires_grad=False)\n",
    "            self.sublinear_tf = vectorizer.sublinear_tf\n",
    "            self.norm = vectorizer.norm\n",
    "            self.use_idf = vectorizer.use_idf\n",
    "        else:\n",
    "            self.idf_diag = nn.Parameter(torch.eye(self.vocab_len))\n",
    "            self.sublinear_tf = False\n",
    "            self.norm = None\n",
    "            self.use_idf = False\n",
    "            \n",
    "        \n",
    "\n",
    "    def count_vocab(self, doc: List[str]) -> torch.Tensor:\n",
    "        \"\"\" return counts of each word from the vocab \"\"\"\n",
    "        feature_counter = torch.zeros(self.vocab_len, dtype=torch.long)\n",
    "        for feature in doc:\n",
    "            n = self.vocab.get(str(feature), torch.tensor(-1))\n",
    "            if n.item() != -1:\n",
    "                feature_idx = self.vocab[str(feature)]\n",
    "                feature_counter[feature_idx] += 1\n",
    "        return feature_counter\n",
    "        \n",
    "        \n",
    "    def forward(self, batch: List[List[str]]) -> torch.Tensor:\n",
    "        doc_counts: List[torch.Tensor] = [self.count_vocab(doc) for doc in batch]\n",
    "        X = torch.stack(doc_counts,)\n",
    "        if self.sublinear_tf:\n",
    "            X = torch.log(X.double())\n",
    "            X += 1\n",
    "        if self.use_idf:\n",
    "            X = torch.matmul(X.double(), self.idf_diag)\n",
    "        if self.norm is not None:\n",
    "            p = float(self.norm[-1])\n",
    "            X = F.normalize(X.double(), p=p, dim=1)\n",
    "        return X\n",
    "    \n",
    "\n",
    "class TgCat(nn.Module):\n",
    "    \"\"\" vectorize input texts, classfy topics and decode predictions \"\"\"\n",
    "    def __init__(self, vect, clf, top_k=3,):\n",
    "        super().__init__()\n",
    "        self.vect = vect\n",
    "        self.clf = clf\n",
    "        self.top_k = top_k\n",
    "        \n",
    "        \n",
    "    def select_top_classes(self, probs: torch.Tensor) -> Dict[str,float]:\n",
    "        \"\"\" select classes with at least min prob and return a normalized dict mapping \"\"\"\n",
    "        if self.clf.nb == 'cnb':\n",
    "            if probs.std(0) < 0.0001:\n",
    "                return {\"Other\": 1.0}\n",
    "        else:\n",
    "            if probs.max() < 0.1:\n",
    "                return {\"Other\": 1.0}\n",
    "        inds_desc = torch.argsort(probs, 0, descending=True)\n",
    "        top_k = min((probs > probs.mean()).sum(), torch.tensor(self.top_k))\n",
    "        target_i = inds_desc[:top_k]\n",
    "        target_p = probs[target_i]\n",
    "        target_p = target_p / target_p.sum()\n",
    "        result: List[Tuple[str, float]] = [\n",
    "            (self.clf.class_labels[target_i[i].item()], target_p[i].item())\n",
    "            for i in range(target_p.size(0))\n",
    "        ]\n",
    "        return dict(result)\n",
    "    \n",
    "    \n",
    "    def get_prob(self, batch: List[List[str]]) -> torch.Tensor:\n",
    "        embeddings = self.vect(batch)\n",
    "        probs = self.clf(embeddings)\n",
    "        # for mnb, if empty embedding then zero out probs\n",
    "        vec_sums = embeddings.sum(1).clip(0, 1)\n",
    "        probs = probs * torch.atleast_2d(vec_sums).T\n",
    "        return probs\n",
    "        \n",
    "    \n",
    "    def forward(self, batch: List[List[str]]) -> List[Dict[str, float]]:\n",
    "        probs = self.get_prob(batch)\n",
    "        top_predictions = [self.select_top_classes(probs[i]) for i in range(probs.size(0))]\n",
    "        return top_predictions"
   ]
  },
  {
   "cell_type": "markdown",
   "metadata": {
    "heading_collapsed": true
   },
   "source": [
    "### Test"
   ]
  },
  {
   "cell_type": "markdown",
   "metadata": {
    "hidden": true
   },
   "source": [
    "#### train one"
   ]
  },
  {
   "cell_type": "code",
   "execution_count": 179,
   "metadata": {
    "ExecuteTime": {
     "end_time": "2021-05-02T17:59:44.670897Z",
     "start_time": "2021-05-02T17:59:07.822171Z"
    },
    "hidden": true
   },
   "outputs": [],
   "source": [
    "V = 'bow'\n",
    "E = 'mnb'\n",
    "L = 'ru'\n",
    "\n",
    "trainer = Trainer(\n",
    "    lang_code = L,\n",
    "    subsets=SUBSETS[0],\n",
    "    vect = V, \n",
    "    est = E,\n",
    ")\n",
    "_ = trainer.run_eval(final=False)\n",
    "\n",
    "tgcat = TgCat(TextVectorizer(V, trainer.vect), NaiveBayes(E, trainer.clf), top_k=3)"
   ]
  },
  {
   "cell_type": "markdown",
   "metadata": {
    "hidden": true
   },
   "source": [
    "#### random batch"
   ]
  },
  {
   "cell_type": "code",
   "execution_count": 180,
   "metadata": {
    "ExecuteTime": {
     "end_time": "2021-05-02T17:59:45.973999Z",
     "start_time": "2021-05-02T17:59:44.672406Z"
    },
    "hidden": true
   },
   "outputs": [],
   "source": [
    "\n",
    "batch = trainer.test_inputs['text'].apply(tokenize_text).tolist()\n",
    "\n",
    "predictions = tgcat(batch)"
   ]
  },
  {
   "cell_type": "raw",
   "metadata": {
    "ExecuteTime": {
     "end_time": "2021-04-29T17:54:06.912870Z",
     "start_time": "2021-04-29T17:54:06.662252Z"
    },
    "hidden": true
   },
   "source": [
    "v = tgcat.vect(batch)\n",
    "p = tgcat.clf(v)"
   ]
  },
  {
   "cell_type": "raw",
   "metadata": {
    "ExecuteTime": {
     "end_time": "2021-05-02T16:41:19.998075Z",
     "start_time": "2021-05-02T16:41:19.964475Z"
    },
    "hidden": true
   },
   "source": [
    "tokenize_text(\"\"\"URALNEWS\\n\\nСверхкрепкий по словам Михаила Марутяна \"гранит\" \"\"\")"
   ]
  },
  {
   "cell_type": "raw",
   "metadata": {
    "ExecuteTime": {
     "end_time": "2021-05-02T16:39:10.464720Z",
     "start_time": "2021-05-02T16:39:10.430664Z"
    },
    "hidden": true
   },
   "source": [
    "trainer.test_inputs['text'].iloc[i]"
   ]
  },
  {
   "cell_type": "code",
   "execution_count": 181,
   "metadata": {
    "ExecuteTime": {
     "end_time": "2021-05-02T17:59:46.005569Z",
     "start_time": "2021-05-02T17:59:45.975326Z"
    },
    "hidden": true,
    "scrolled": true
   },
   "outputs": [
    {
     "name": "stdout",
     "output_type": "stream",
     "text": [
      "PREDICTED {'History': 0.9023038117045685, 'Politics & Incidents': 0.05305718817067863, 'Books': 0.04463900012475274}\n",
      "\n",
      "TOKENS ['старше', 'эдды', 'для', 'связи', 'starsheeddy', 'bot', 'starsheeddy', 'gmail', 'com', 'дорогие', 'друзья', 'если', 'хотите', 'помочь', 'каналу', 'то', 'альфа', 'банк', 'тиньков', 'поступают', 'сообщения', 'что', 'российские', 'миротворцы', 'остановили', 'близ', 'капана', 'юг', 'армении', 'не', 'меру', 'ретивых', 'азербайджанских', 'аскяров', 'армия', 'собственно', 'армении', 'давным', 'давно', 'горделиво', 'самоустранилась', 'от', 'подобных', 'мелочей', 'медитирует', 'пытаясь', 'постичь', 'нирвану', 'если', 'бы', 'видели', 'здание', 'минобороны', 'армении', 'или', 'побродили', 'по', 'его', 'кабинетам', 'то', 'вашему', 'разуму', 'привиделась', 'бы', 'такая', 'картина', 'наверняка', 'армия', 'этой', 'страны', 'владеет', 'дивизиями', 'титанов', 'космическое', 'пространство', 'прикрывают', 'сотни', 'тяжелых', 'звездолетов', 'могучими', 'лазерными', 'орудиями', 'способными', 'аннигилировать', 'любого', 'врага', 'мгновение', 'ока', 'на', 'деле', 'мы', 'видим', 'как', 'вс', 'азербайджана', 'раз', 'за', 'разом', 'пытаются', 'спровоцировать', 'конфликт', 'пугая', 'местное', 'население', 'по', 'сути', 'выдавливая', 'его', 'уже', 'из', 'самой', 'армении', 'все', 'это', 'вполне', 'прогнозируемо', 'по', 'сути', 'тактика', 'которой', 'придерживается', 'баку', 'очень', 'выигрышна', 'особенно', 'если', 'учитывать', 'то', 'что', 'армяне', 'заняты', 'исключительно', 'политическими', 'спорами', 'лишь', 'малое', 'число', 'их', 'продолжают', 'думать', 'родине', 'меру', 'сил', 'стараются', 'исправить', 'ситуацию', 'история', 'падения', 'константинополя', 'году', 'повторяется', 'на', 'наших', 'глазах', 'пока', 'турки', 'штурмовали', 'город', 'большая', 'часть', 'трехсоттысячного', 'города', 'предпочитала', 'созерцать', 'спорить', 'достойны', 'ли', 'власти', 'их', 'поддержки', 'лишь', 'малая', 'горстка', 'героев', 'пыталась', 'отстоять', 'второй', 'рим', 'не', 'дать', 'осквернить', 'святую', 'софию', 'уважаемый', 'русский', 'ориенталист', 'сделал', 'интересное', 'наблюдение', 'по', 'роберту', 'кочаряну', 'он', 'сравнил', 'его', 'не', 'политиком', 'феодалом', 'причём', 'хорошем', 'смысле', 'этого', 'слова', 'отчасти', 'согласен', 'игорем', 'особенно', 'той', 'части', 'что', 'кочарян', 'политик', 'не', 'уровня', 'армении', 'она', 'для', 'него', 'слишком', 'мала', 'это', 'понимает', 'сам', 'кочарян', 'так', 'же', 'его', 'сторонники', 'враги', 'если', 'алиев', 'вполне', 'комфортно', 'себя', 'чувствует', 'роли', 'управляющего', 'турецким', 'вилайетом', 'то', 'кочарян', 'даже', 'вполне', 'ясно', 'осознавая', 'масштабы', 'влияние', 'своей', 'страны', 'держится', 'на', 'равных', 'любым', 'сильным', 'мира', 'сего', 'как', 'будто', 'за', 'его', 'спиной', 'не', 'маленькая', 'трёхмиллионная', 'страна', 'могучая', 'ядерная', 'держава', 'миллионами', 'населения', 'может', 'это', 'конечно', 'просто', 'карабахская', 'упёртость', 'но', 'как', 'по', 'мне', 'все', 'таки', 'дело', 'породе', 'игорь', 'так', 'же', 'прав', 'том', 'что', 'роберта', 'боятся', 'не', 'потому', 'что', 'он', 'тиран', 'или', 'деспот', 'это', 'совсем', 'не', 'так', 'люди', 'интуитивно', 'чувствуют', 'силу', 'уверенность', 'ассоциируя', 'ее', 'надменностью', 'возьмём', 'пашиняна', 'его', 'никто', 'не', 'боится', 'клим', 'чугункин', 'волею', 'судеб', 'занесённый', 'на', 'самый', 'пик', 'власти', 'так', 'не', 'перестал', 'ковыряться', 'носу', 'пукать', 'за', 'столом', 'такой', 'персонаж', 'не', 'страшен', 'мирное', 'время', 'другой', 'геополитической', 'ситуации', 'стране', 'свободной', 'от', 'исторического', 'детерминизма', 'данный', 'персонаж', 'даже', 'предпочтительнее', 'но', 'только', 'не', 'армении', 'все', 'прекрасно', 'видели', 'каким', 'ничтожным', 'он', 'предстал', 'как', 'во', 'время', 'войны', 'так', 'во', 'время', 'переговоров', 'ведь', 'пашинян', 'по', 'сути', 'представлял', 'собой', 'все', 'армянское', 'общество', 'по', 'крайней', 'мере', 'его', 'сильную', 'половину', 'издевки', 'алиева', 'над', 'пашиняном', 'это', 'мелкая', 'месть', 'всем', 'армянам', 'есть', 'еще', 'одна', 'причина', 'по', 'которой', 'часть', 'армянского', 'общества', 'боится', 'прихода', 'кочаряна', 'вслух', 'об', 'этом', 'никто', 'не', 'говорит', 'давая', 'размытые', 'объяснения', 'что', 'он', 'мол', 'бандит', 'вообще', 'разрушил', 'столь', 'милые', 'сердцу', 'трущобы', 'еревана', 'возведя', 'на', 'их', 'месте', 'блистающий', 'северный', 'проспект', 'на', 'самом', 'деле', 'люди', 'понимают', 'кочарян', 'никогда', 'не', 'простит', 'баку', 'того', 'что', 'они', 'сделали', 'недавней', 'войне', 'приложит', 'все', 'силы', 'для', 'того', 'что', 'бы', 'не', 'только', 'отыграть', 'все', 'назад', 'но', 'получить', 'неустойку', 'это', 'значит', 'что', 'армянам', 'придётся', 'не', 'просто', 'рассуждать', 'политике', 'ресторанах', 'еревана', 'деятельно', 'готовиться', 'реваншу', 'кочарян', 'обязательно', 'дождётся', 'момента', 'ударит', 'как', 'сказал', 'игорь', 'роберт', 'это', 'феодал', 'князь', 'мелик', 'люди', 'такого', 'склада', 'не', 'оставляют', 'врага', 'без', 'ответа', 'прекрасно', 'понимают', 'это', 'баку', 'потому', 'всеми', 'силами', 'будут', 'сопротивляться', 'восшествию', 'роберта', 'на', 'трон', 'рекомендую', 'подписаться', 'на', 'канал', 'моего', 'товарища', 'armeniandaily', 'очень', 'часто', 'там', 'пишут', 'интересные', 'мысли', 'сторонникам', 'пашиняна', 'не', 'советую', 'подписываться', 'касательно', 'вчерашнего', 'захода', 'азербайджанских', 'военных', 'приграничное', 'армянское', 'село', 'нижний', 'хндзореск', 'будучи', 'карабахе', 'даже', 'записал', 'видео', 'что', 'именно', 'так', 'будет', 'действовать', 'баку', 'выдавливание', 'армян', 'путём', 'захода', 'небольших', 'групп', 'солдат', 'приграничные', 'территории', 'если', 'сёлах', 'не', 'будет', 'вооруженного', 'ополчения', 'то', 'подобные', 'провокации', 'будут', 'происходить', 'чаще', 'чаще', 'вс', 'азербайджана', 'не', 'зайдёт', 'село', 'давит', 'бек', 'там', 'есть', 'солдаты', 'есть', 'вооруженное', 'ополчение', 'которое', 'мгновенно', 'уничтожит', 'такую', 'группу', 'но', 'таких', 'сел', 'единицы', 'сожалению', 'для', 'армян', 'назрел', 'момент', 'когда', 'необходимо', 'поблагодарить', 'вас', 'всех', 'за', 'то', 'что', 'вы', 'все', 'нами', 'со', 'мной', 'то', 'есть', 'вас', 'уже', 'хочу', 'выразить', 'всем', 'вам', 'еще', 'раз', 'благодарность', 'за', 'то', 'что', 'вы', 'есть', 'вы', 'рядом', 'хочу', 'отдельно', 'поблагодарить', 'свою', 'команду', 'админов', 'чата', 'за', 'то', 'что', 'они', 'приняли', 'разделили', 'мой', 'взгляд', 'на', 'вещи', 'на', 'чистоплотность', 'именно', 'потому', 'наш', 'чат', 'стал', 'приятным', 'местом', 'для', 'общение', 'настоящей', 'ереванской', 'беседкой', 'ежа', 'ну', 'поделюсь', 'вами', 'теми', 'каналами', 'которые', 'достойны', 'вашего', 'внимания', 'которые', 'составляют', 'мою', 'ленту', 'военкоры', 'игорь', 'крутейший', 'чувак', 'силовики', 'сема', 'бро', 'если', 'бы', 'не', 'ты', 'анна', 'ньюз', 'солдаты', 'удачи', 'тема', 'брат', 'илья', 'если', 'бы', 'еще', 'он', 'пил', 'барби', 'она', 'на', 'войнушке', 'мика', 'новый', 'брат', 'большой', 'друг', 'арарат', 'патриот', 'контент', 'мейкер', 'микаэл', 'да', 'это', 'он', 'мина', 'редкое', 'сочетание', 'ума', 'красоты', 'самвел', 'джан', 'буча', 'не', 'со', 'всем', 'согласен', 'но', 'они', 'есть', 'реконкиста', 'крестовому', 'походу', 'быть', 'михалыч', 'мторум', 'авторкий', 'взгляд', 'быстрорастуший', 'медиапорт', 'эрнест', 'дежурный', 'по', 'молдове', 'амп', 'телеграм', 'вариант', 'супер', 'проекта', 'тот', 'самый', 'кракен', 'ликбез', 'очень', 'полезно', 'саша', 'коц', 'джума', 'который', 'аббас', 'армян', 'может', 'быть', 'кочаряну', 'неоднозначное', 'отношение', 'но', 'данном', 'случае', 'он', 'прав', 'на', 'процентов', 'алиев', 'никогда', 'бы', 'не', 'решился', 'начать', 'войну', 'ним', 'он', 'очень', 'боится', 'того', 'что', 'кочарян', 'может', 'вернуться', 'во', 'власть', 'вот', 'мой', 'долг', 'сделать', 'так', 'что', 'бы', 'донести', 'до', 'каждого', 'русского', 'человека', 'что', 'армения', 'это', 'потрясающее', 'место', 'для', 'отдыха', 'вкусно', 'душевно', 'уютно', 'красиво', 'безопасно', 'дешево', 'очень', 'гостеприимно', 'ну', 'самое', 'главное', 'можно', 'прилететь', 'по', 'внутреннему', 'паспорту', 'прошу', 'считать', 'пост', 'камнем', 'огород', 'комитета', 'по', 'туризму', 'которой', 'ничего', 'для', 'этого', 'не', 'делает', 'одно', 'из', 'самых', 'ярких', 'впечатлений', 'от', 'армении', 'это', 'алкоголь', 'не', 'смейтесь', 'понятно', 'что', 'там', 'проводишь', 'большую', 'часть', 'свободного', 'времени', 'за', 'столом', 'но', 'думаю', 'это', 'во', 'всех', 'закавказских', 'республиках', 'так', 'вообще', 'меня', 'был', 'день', 'рождения', 'так', 'вот', 'меня', 'очень', 'впечатлило', 'качество', 'армянского', 'вина', 'крепких', 'напитков', 'для', 'сравнения', 'грузинское', 'вино', 'совсем', 'слабенькое', 'азербайджанское', 'тоже', 'вот', 'армяне', 'умудрились', 'за', 'десяток', 'лет', 'вывести', 'виноделие', 'на', 'европейский', 'данном', 'случае', 'это', 'слово', 'применимо', 'уровень', 'множество', 'небольших', 'производителей', 'сухих', 'красных', 'белых', 'вин', 'все', 'названия', 'не', 'повторю', 'запомнил', 'только', 'несколько', 'карабахских', 'марок', 'которые', 'теперь', 'достались', 'азербайджану', 'производиться', 'не', 'будут', 'забрал', 'пару', 'бутылок', 'такого', 'исчезнувшего', 'вина', 'что', 'до', 'крепких', 'то', 'не', 'об', 'армянском', 'коньяке', 'он', 'меня', 'не', 'впечатляет', 'там', 'есть', 'намного', 'вкуснее', 'штуки', 'это', 'водки', 'капец', 'какие', 'крутые', 'тутовка', 'кизиловка', 'из', 'абрикос', 'какая', 'то', 'ещё', 'всего', 'не', 'вспомню', 'во', 'первых', 'они', 'адски', 'крепкие', 'но', 'пьются', 'легко', 'во', 'вторых', 'после', 'неизбежных', 'возлияний', 'нормально', 'себя', 'чувствуешь', 'третьих', 'прекрасно', 'сочетаются', 'едой', 'не', 'могу', 'понять', 'как', 'пиар', 'грузинских', 'застолий', 'превзошел', 'армянский', 'был', 'грузии', 'это', 'вообще', 'не', 'тот', 'уровень', 'тогда', 'ещё', 'подумал', 'что', 'молдавия', 'части', 'еды', 'вина', 'поинтереснее', 'любимые', 'балканы', 'намного', 'круче', 'теперь', 'армения', 'выводит', 'закавказье', 'лидеры', 'сербам', 'греками', 'придется', 'напрячься', 'когда', 'увидел', 'на', 'столе', 'знакомые', 'детства', 'одесско', 'болгарские', 'продукты', 'вонючую', 'овечью', 'брынзу', 'каварму', 'икру', 'из', 'синеньких', 'испытал', 'гастрономический', 'оргазм', 'короче', 'понял', 'как', 'армяне', 'проигрывали', 'войны', 'истории', 'стоит', 'им', 'победить', 'как', 'они', 'начинают', 'праздновать', 'празднуют', 'тридцать', 'лет', 'прошу', 'считать', 'пост', 'рекламным', 'благодарю', 'за', 'прием', 'недельное', 'празднования', 'моего', 'дня', 'рождения', 'дорогого', 'друга', 'микаэля', 'mikayelbad', 'армена', 'armenianman', 'сергея', 'mrvozni', 'также', 'молчаливых', 'но', 'гостеприимнвх', 'жителей', 'карабаха', 'тюркский', 'сателлит', 'почему', 'казахстан', 'преследует', 'русских', 'ополченцев', 'если', 'бы', 'был', 'турком', 'бы', 'аплодировал', 'эрдогану', 'первом', 'выпуске', 'бип', 'военный', 'корреспондент', 'семен', 'пегов', 'wargonzo', 'про', 'минск', 'ереван', 'баку', 'степанакерт', 'есть', 'ли', 'параллели', 'между', 'волнениями', 'беларуси', 'протестами', 'навального', 'станет', 'ли', 'русский', 'язык', 'вторым', 'государственным', 'карабахе', 'почему', 'семен', 'пегов', 'больше', 'не', 'чувствует', 'себя', 'безопасности', 'беларуси', 'на', 'фоне', 'новостей', 'которые', 'сложно', 'понять', 'невозможно', 'забыть', 'миру', 'нужны', 'белые', 'пушистые', 'смотрите', 'на', 'sputniklive']\n"
     ]
    }
   ],
   "source": [
    "i = random.randint(0, len(batch) - 1)\n",
    "\n",
    "print('PREDICTED', predictions[i], end='\\n\\n')\n",
    "print('TOKENS', batch[i])"
   ]
  },
  {
   "cell_type": "markdown",
   "metadata": {
    "hidden": true
   },
   "source": [
    "#### with trash"
   ]
  },
  {
   "cell_type": "code",
   "execution_count": 182,
   "metadata": {
    "ExecuteTime": {
     "end_time": "2021-05-02T17:59:46.038176Z",
     "start_time": "2021-05-02T17:59:46.006772Z"
    },
    "hidden": true
   },
   "outputs": [],
   "source": [
    "trash = [['a','s','d'], [\"\"], [\"other\", 'other', 'ttt'], [\"чгк\", \"нияег\", \"его\"]]\n",
    "\n",
    "trash_out = tgcat(trash)\n",
    "\n",
    "for out in trash_out:\n",
    "    assert out.get('Other', 0) > 0.5, out\n",
    "    \n",
    "logging.info('Passed Other test')"
   ]
  },
  {
   "cell_type": "markdown",
   "metadata": {},
   "source": [
    "### Final training, convert and save"
   ]
  },
  {
   "cell_type": "code",
   "execution_count": 31,
   "metadata": {
    "ExecuteTime": {
     "end_time": "2021-05-02T19:26:52.641304Z",
     "start_time": "2021-05-02T19:26:52.610719Z"
    }
   },
   "outputs": [],
   "source": [
    "from sklearn.preprocessing import normalize"
   ]
  },
  {
   "cell_type": "code",
   "execution_count": 32,
   "metadata": {
    "ExecuteTime": {
     "end_time": "2021-05-02T19:26:52.806319Z",
     "start_time": "2021-05-02T19:26:52.776017Z"
    }
   },
   "outputs": [],
   "source": [
    "prediction_params = {\n",
    "    'top_k': 3\n",
    "}"
   ]
  },
  {
   "cell_type": "code",
   "execution_count": 33,
   "metadata": {
    "ExecuteTime": {
     "end_time": "2021-05-02T19:27:50.695400Z",
     "start_time": "2021-05-02T19:26:52.939739Z"
    },
    "code_folding": []
   },
   "outputs": [
    {
     "name": "stdout",
     "output_type": "stream",
     "text": [
      "ru best {'lang_code': 'ru', 'subsets': ('r-2', 'r-1', 'chan', 'tg'), 'vect': 'bow', 'est': 'mnb', 'vect_params': {'max_features': 3000}, 'score': 0.6680150321386218}\n"
     ]
    },
    {
     "data": {
      "application/vnd.jupyter.widget-view+json": {
       "model_id": "184939b4b7704971b8c9e7054cc3f9bf",
       "version_major": 2,
       "version_minor": 0
      },
      "text/plain": [
       "rows: 0it [00:00, ?it/s]"
      ]
     },
     "metadata": {},
     "output_type": "display_data"
    },
    {
     "name": "stdout",
     "output_type": "stream",
     "text": [
      "ru 0.6857615733453514\n",
      "saved to models/trained/tgcat/ru_tgcat.pt\n",
      "en best {'lang_code': 'en', 'subsets': ('r-2', 'r-1', 'chan', 'tg'), 'vect': 'bow', 'est': 'mnb', 'vect_params': {'max_features': 3000}, 'score': 0.6530796624690406}\n"
     ]
    },
    {
     "data": {
      "application/vnd.jupyter.widget-view+json": {
       "model_id": "f93e651348154aaca7af283a4bfff4c3",
       "version_major": 2,
       "version_minor": 0
      },
      "text/plain": [
       "rows: 0it [00:00, ?it/s]"
      ]
     },
     "metadata": {},
     "output_type": "display_data"
    },
    {
     "name": "stdout",
     "output_type": "stream",
     "text": [
      "en 0.668136518893858\n",
      "saved to models/trained/tgcat/en_tgcat.pt\n",
      "ar best {'lang_code': 'ar', 'subsets': ('r-2', 'r-1', 'chan', 'tg'), 'vect': 'bow', 'est': 'mnb', 'vect_params': {'max_features': 2000}, 'score': 0.5848466750329474}\n"
     ]
    },
    {
     "data": {
      "application/vnd.jupyter.widget-view+json": {
       "model_id": "19673424a39a4634813c419fa25150a6",
       "version_major": 2,
       "version_minor": 0
      },
      "text/plain": [
       "rows: 0it [00:00, ?it/s]"
      ]
     },
     "metadata": {},
     "output_type": "display_data"
    },
    {
     "name": "stdout",
     "output_type": "stream",
     "text": [
      "ar 0.7362956319829459\n",
      "saved to models/trained/tgcat/ar_tgcat.pt\n",
      "fa best {'lang_code': 'fa', 'subsets': ('r-2', 'r-1', 'chan', 'tg'), 'vect': 'bow', 'est': 'mnb', 'vect_params': {'max_features': 3000}, 'score': 0.5982460438916808}\n"
     ]
    },
    {
     "data": {
      "application/vnd.jupyter.widget-view+json": {
       "model_id": "7c1e2af295ec4f0d8e6d7153c5832af9",
       "version_major": 2,
       "version_minor": 0
      },
      "text/plain": [
       "rows: 0it [00:00, ?it/s]"
      ]
     },
     "metadata": {},
     "output_type": "display_data"
    },
    {
     "name": "stdout",
     "output_type": "stream",
     "text": [
      "fa 0.7625852902272539\n",
      "saved to models/trained/tgcat/fa_tgcat.pt\n",
      "uz best {'lang_code': 'uz', 'subsets': ('r-2', 'r-1', 'chan', 'tg'), 'vect': 'bow', 'est': 'mnb', 'vect_params': {'max_features': 2000}, 'score': 0.4839402070526259}\n"
     ]
    },
    {
     "data": {
      "application/vnd.jupyter.widget-view+json": {
       "model_id": "a08eab1d9001478abc5abbfa3d8a22e7",
       "version_major": 2,
       "version_minor": 0
      },
      "text/plain": [
       "rows: 0it [00:00, ?it/s]"
      ]
     },
     "metadata": {},
     "output_type": "display_data"
    },
    {
     "name": "stdout",
     "output_type": "stream",
     "text": [
      "uz 0.7237342794732979\n",
      "saved to models/trained/tgcat/uz_tgcat.pt\n"
     ]
    }
   ],
   "source": [
    "for l in results['lang_code'].unique():\n",
    "    subset = results.query(f\"lang_code == '{l}'\")\n",
    "    best_id = subset['score'].idxmax()\n",
    "    best_params = subset.loc[best_id].to_dict()\n",
    "    print(l, 'best', best_params)\n",
    "    del best_params['score']\n",
    "    # for last training increase train by test\n",
    "    trainer = Trainer(**best_params)\n",
    "    s = trainer.run_eval(final=True)\n",
    "    print(l, s)\n",
    "    # save text vectorizer\n",
    "    vect_scripted = torch.jit.script(TextVectorizer(best_params['vect'], trainer.vect), )\n",
    "#     tokenizer = tokenize_text if best_params['preprocessing'] == 'raw' else lang_lemmatizer(l)\n",
    "    tokenizer = tokenize_text\n",
    "    batch = trainer.test_inputs['text'].apply(tokenizer).tolist()\n",
    "    vect_out = vect_scripted(batch)\n",
    "    src_vects = trainer.X_test.toarray()\n",
    "    assert np.allclose(src_vects, vect_out.numpy())\n",
    "    vect_scripted.save(f\"models/trained/embed/{l}_{best_params['vect']}_script.pt\")\n",
    "    # save classifier\n",
    "    nb_scripted  = torch.jit.script(NaiveBayes(best_params['est'], trainer.clf))\n",
    "    nb_out = nb_scripted(torch.tensor(trainer.X_test.toarray(), dtype=torch.double))\n",
    "    assert np.allclose(trainer.clf.predict_proba(trainer.X_test), nb_out.numpy())\n",
    "    nb_scripted.save(f\"models/trained/classify/{l}_{best_params['est']}_script.pt\")\n",
    "    # save tgcat\n",
    "    tgcat = torch.jit.script(TgCat(vect_scripted, nb_scripted, **prediction_params))\n",
    "    path = f'models/trained/tgcat/{l}_tgcat.pt'\n",
    "    torch.jit.save(tgcat, path)\n",
    "    print('saved to', path)"
   ]
  },
  {
   "cell_type": "markdown",
   "metadata": {},
   "source": [
    "### Check file sizes"
   ]
  },
  {
   "cell_type": "code",
   "execution_count": 34,
   "metadata": {
    "ExecuteTime": {
     "end_time": "2021-05-02T19:27:50.880461Z",
     "start_time": "2021-05-02T19:27:50.696953Z"
    }
   },
   "outputs": [
    {
     "name": "stdout",
     "output_type": "stream",
     "text": [
      "38\tmodels/trained/tgcat/ru_tgcat.pt\r\n",
      "38\tmodels/trained/tgcat/fa_tgcat.pt\r\n",
      "38\tmodels/trained/tgcat/en_tgcat.pt\r\n",
      "18\tmodels/trained/tgcat/uz_tgcat.pt\r\n",
      "18\tmodels/trained/tgcat/ar_tgcat.pt\r\n"
     ]
    }
   ],
   "source": [
    "!du -hm models/trained/tgcat/* | sort -nr | grep -v '.dvc'"
   ]
  },
  {
   "cell_type": "markdown",
   "metadata": {},
   "source": [
    "**Noticed on the last day**\n",
    "\n",
    "1. Topic names have changed:\n",
    "    - round-1: Motivation & Self-Development, Foreign Languages\n",
    "    - round-2: Motivation & Self-development (D is lowercase), Foreign Language Learning\n",
    "2. Error in flattening train data -> only last to topic from category was kept since i updated previous dicts\n",
    "3. Docker `no space on device` issues\n",
    "4. Telegram channel downloads fail because exceeding number of requests\n",
    "5. `\\n` not recognized during text tokenization"
   ]
  },
  {
   "cell_type": "code",
   "execution_count": null,
   "metadata": {},
   "outputs": [],
   "source": []
  }
 ],
 "metadata": {
  "kernelspec": {
   "display_name": "tgcat",
   "language": "python",
   "name": "tgcat"
  },
  "language_info": {
   "codemirror_mode": {
    "name": "ipython",
    "version": 3
   },
   "file_extension": ".py",
   "mimetype": "text/x-python",
   "name": "python",
   "nbconvert_exporter": "python",
   "pygments_lexer": "ipython3",
   "version": "3.7.9"
  },
  "notify_time": "10",
  "toc": {
   "base_numbering": 1,
   "nav_menu": {},
   "number_sections": true,
   "sideBar": true,
   "skip_h1_title": false,
   "title_cell": "Table of Contents",
   "title_sidebar": "Contents",
   "toc_cell": false,
   "toc_position": {
    "height": "calc(100% - 180px)",
    "left": "10px",
    "top": "150px",
    "width": "227px"
   },
   "toc_section_display": true,
   "toc_window_display": true
  }
 },
 "nbformat": 4,
 "nbformat_minor": 5
}
