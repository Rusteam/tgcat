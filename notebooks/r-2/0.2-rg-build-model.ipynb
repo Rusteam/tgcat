{
 "cells": [
  {
   "cell_type": "markdown",
   "metadata": {},
   "source": [
    "# Build a model to classify topics for Telegram channels\n",
    "\n",
    "**Pre-req**\n",
    "1. Download csv from gdrive with channels and save to ``data/external/telegram_channels.csv``\n",
    "2. Run ``python -m src.train.download`` to get posts and meta-data\n",
    "\n",
    "**Steps**\n",
    "1. Load data:\n",
    "    - posts from channels\n",
    "    - channel titles and descriptions\n",
    "    - channel topics\n",
    "2. Build a training dataset:\n",
    "    1. Merge\n",
    "    2. Select inputs\n",
    "    3. Split into train/val\n",
    "3. Build models:\n",
    "    1. Embed text\n",
    "    2. Train a classifier\n",
    "    3. Select best\n",
    "4. Evaluate on test data and save best"
   ]
  },
  {
   "cell_type": "code",
   "execution_count": 1,
   "metadata": {
    "ExecuteTime": {
     "end_time": "2021-05-02T06:37:11.231183Z",
     "start_time": "2021-05-02T06:37:09.782311Z"
    }
   },
   "outputs": [],
   "source": [
    "%load_ext autoreload\n",
    "%autoreload 2\n",
    "%matplotlib inline\n",
    "#standard libs\n",
    "import os, sys\n",
    "from pathlib import Path\n",
    "from pprint import pprint\n",
    "from collections import Counter\n",
    "import random\n",
    "import json\n",
    "import itertools\n",
    "from datetime import datetime as dt\n",
    "import logging\n",
    "# ds libs\n",
    "import pandas as pd\n",
    "import numpy as np\n",
    "import matplotlib.pyplot as plt\n",
    "import seaborn as sns\n",
    "from tqdm.auto import tqdm\n",
    "\n",
    "from torchtext import data\n",
    "import re\n",
    "# custom path\n",
    "os.chdir('../..')\n",
    "os.environ['KMP_DUPLICATE_LIB_OK']='True'\n"
   ]
  },
  {
   "cell_type": "code",
   "execution_count": 7,
   "metadata": {
    "ExecuteTime": {
     "end_time": "2021-05-02T06:37:37.953890Z",
     "start_time": "2021-05-02T06:37:37.923888Z"
    }
   },
   "outputs": [],
   "source": [
    "from src.train.data_utils import flatten_category, load_data, select_test"
   ]
  },
  {
   "cell_type": "markdown",
   "metadata": {},
   "source": [
    "## Data prep"
   ]
  },
  {
   "cell_type": "code",
   "execution_count": 8,
   "metadata": {
    "ExecuteTime": {
     "end_time": "2021-05-02T06:37:38.290241Z",
     "start_time": "2021-05-02T06:37:38.259724Z"
    }
   },
   "outputs": [],
   "source": [
    "DATA = 'data/interim/train_data.csv'\n",
    "\n",
    "TEST_SIZE = 0.33\n",
    "TEST_SETS = ['r-1', 'r-2']"
   ]
  },
  {
   "cell_type": "markdown",
   "metadata": {},
   "source": [
    "### Load"
   ]
  },
  {
   "cell_type": "code",
   "execution_count": 9,
   "metadata": {
    "ExecuteTime": {
     "end_time": "2021-05-02T06:37:43.447495Z",
     "start_time": "2021-05-02T06:37:39.418298Z"
    }
   },
   "outputs": [
    {
     "name": "stdout",
     "output_type": "stream",
     "text": [
      "<class 'pandas.core.frame.DataFrame'>\n",
      "RangeIndex: 33236 entries, 0 to 33235\n",
      "Data columns (total 8 columns):\n",
      " #   Column        Non-Null Count  Dtype  \n",
      "---  ------        --------------  -----  \n",
      " 0   title         33236 non-null  object \n",
      " 1   description   33236 non-null  object \n",
      " 2   recent_posts  33236 non-null  object \n",
      " 3   lang_code     33236 non-null  object \n",
      " 4   id            1491 non-null   float64\n",
      " 5   category      33236 non-null  object \n",
      " 6   subset        33236 non-null  object \n",
      " 7   text          33236 non-null  object \n",
      "dtypes: float64(1), object(7)\n",
      "memory usage: 2.0+ MB\n"
     ]
    }
   ],
   "source": [
    "data = load_data(DATA)"
   ]
  },
  {
   "cell_type": "code",
   "execution_count": 10,
   "metadata": {
    "ExecuteTime": {
     "end_time": "2021-05-02T06:37:43.475488Z",
     "start_time": "2021-05-02T06:37:43.449032Z"
    }
   },
   "outputs": [],
   "source": [
    "LANGS = data['lang_code'].unique()"
   ]
  },
  {
   "cell_type": "markdown",
   "metadata": {},
   "source": [
    "### Split\n",
    "\n",
    "take a percentage for testing from selected subsets"
   ]
  },
  {
   "cell_type": "code",
   "execution_count": 11,
   "metadata": {
    "ExecuteTime": {
     "end_time": "2021-05-02T06:37:43.506426Z",
     "start_time": "2021-05-02T06:37:43.477326Z"
    }
   },
   "outputs": [
    {
     "data": {
      "text/plain": [
       "tg      31501\n",
       "r-2       800\n",
       "r-1       691\n",
       "chan      244\n",
       "Name: subset, dtype: int64"
      ]
     },
     "execution_count": 11,
     "metadata": {},
     "output_type": "execute_result"
    }
   ],
   "source": [
    "data['subset'].value_counts()"
   ]
  },
  {
   "cell_type": "code",
   "execution_count": 12,
   "metadata": {
    "ExecuteTime": {
     "end_time": "2021-05-02T06:37:52.002334Z",
     "start_time": "2021-05-02T06:37:51.727031Z"
    }
   },
   "outputs": [
    {
     "data": {
      "text/plain": [
       "lang_code  subset\n",
       "ar         r-2       0.313725\n",
       "en         chan      0.000000\n",
       "           r-1       0.305556\n",
       "           r-2       0.340659\n",
       "           tg        0.000000\n",
       "fa         r-2       0.328205\n",
       "ru         chan      0.000000\n",
       "           r-1       0.346049\n",
       "           r-2       0.300971\n",
       "           tg        0.000000\n",
       "uz         r-2       0.270531\n",
       "Name: is_test, dtype: float64"
      ]
     },
     "execution_count": 12,
     "metadata": {},
     "output_type": "execute_result"
    }
   ],
   "source": [
    "data['is_test'] = select_test(data, test_size=TEST_SIZE, test_subsets=TEST_SETS)\n",
    "\n",
    "data.groupby(['lang_code','subset'])['is_test'].mean()"
   ]
  },
  {
   "cell_type": "code",
   "execution_count": 13,
   "metadata": {
    "ExecuteTime": {
     "end_time": "2021-05-02T06:37:52.265756Z",
     "start_time": "2021-05-02T06:37:52.231139Z"
    }
   },
   "outputs": [
    {
     "name": "stdout",
     "output_type": "stream",
     "text": [
      "(32764, 9)\n",
      "(472, 9)\n"
     ]
    }
   ],
   "source": [
    "train_data = data.loc[~data['is_test']]\n",
    "\n",
    "test_data = data.loc[data['is_test']]\n",
    "\n",
    "print(train_data.shape)\n",
    "print(test_data.shape)"
   ]
  },
  {
   "cell_type": "markdown",
   "metadata": {},
   "source": [
    "### Flatten train data\n",
    "\n",
    "Create each category as a separate row, since sklearn can't handle multi-prob"
   ]
  },
  {
   "cell_type": "code",
   "execution_count": 14,
   "metadata": {
    "ExecuteTime": {
     "end_time": "2021-05-02T06:38:34.477406Z",
     "start_time": "2021-05-02T06:37:55.648934Z"
    }
   },
   "outputs": [
    {
     "data": {
      "application/vnd.jupyter.widget-view+json": {
       "model_id": "0a7fe447dd2948c495309ab3bbb07d11",
       "version_major": 2,
       "version_minor": 0
      },
      "text/plain": [
       "rows: 0it [00:00, ?it/s]"
      ]
     },
     "metadata": {},
     "output_type": "display_data"
    },
    {
     "data": {
      "text/plain": [
       "(68249, 11)"
      ]
     },
     "execution_count": 14,
     "metadata": {},
     "output_type": "execute_result"
    }
   ],
   "source": [
    "train_data_flat = flatten_category(train_data,)\n",
    "\n",
    "train_data_flat.shape"
   ]
  },
  {
   "cell_type": "markdown",
   "metadata": {},
   "source": [
    "### Topic distribution"
   ]
  },
  {
   "cell_type": "code",
   "execution_count": 15,
   "metadata": {
    "ExecuteTime": {
     "end_time": "2021-05-02T06:38:37.509294Z",
     "start_time": "2021-05-02T06:38:37.479487Z"
    }
   },
   "outputs": [],
   "source": [
    "from src.train.plot_utils import barplots"
   ]
  },
  {
   "cell_type": "code",
   "execution_count": 17,
   "metadata": {
    "ExecuteTime": {
     "end_time": "2021-05-02T06:38:54.702016Z",
     "start_time": "2021-05-02T06:38:51.840133Z"
    },
    "scrolled": false
   },
   "outputs": [
    {
     "name": "stdout",
     "output_type": "stream",
     "text": [
      "ru\n"
     ]
    },
    {
     "data": {
      "image/png": "[encoded data removed]",
      "text/plain": [
       "<Figure size 1008x576 with 2 Axes>"
      ]
     },
     "metadata": {
      "needs_background": "light"
     },
     "output_type": "display_data"
    },
    {
     "name": "stdout",
     "output_type": "stream",
     "text": [
      "en\n"
     ]
    },
    {
     "data": {
      "image/png": "[encoded data removed]",
      "text/plain": [
       "<Figure size 1008x576 with 2 Axes>"
      ]
     },
     "metadata": {
      "needs_background": "light"
     },
     "output_type": "display_data"
    },
    {
     "name": "stdout",
     "output_type": "stream",
     "text": [
      "ar\n"
     ]
    },
    {
     "data": {
      "image/png": "[encoded data removed]",
      "text/plain": [
       "<Figure size 1008x576 with 2 Axes>"
      ]
     },
     "metadata": {
      "needs_background": "light"
     },
     "output_type": "display_data"
    },
    {
     "name": "stdout",
     "output_type": "stream",
     "text": [
      "uz\n"
     ]
    },
    {
     "data": {
      "image/png": "[encoded data removed]",
      "text/plain": [
       "<Figure size 1008x576 with 2 Axes>"
      ]
     },
     "metadata": {
      "needs_background": "light"
     },
     "output_type": "display_data"
    },
    {
     "name": "stdout",
     "output_type": "stream",
     "text": [
      "fa\n"
     ]
    },
    {
     "data": {
      "image/png": "[encoded data removed]",
      "text/plain": [
       "<Figure size 1008x576 with 2 Axes>"
      ]
     },
     "metadata": {
      "needs_background": "light"
     },
     "output_type": "display_data"
    }
   ],
   "source": [
    "for l in train_data_flat['lang_code'].unique():\n",
    "    print(l)\n",
    "    barplots({\n",
    "        'label-studio': train_data_flat.query(f\"lang_code == '{l}'\")['topic'],\n",
    "    }, 1, 2, fig_dims=(14,8))"
   ]
  },
  {
   "cell_type": "code",
   "execution_count": 18,
   "metadata": {
    "ExecuteTime": {
     "end_time": "2021-05-02T06:38:56.773025Z",
     "start_time": "2021-05-02T06:38:56.729152Z"
    }
   },
   "outputs": [
    {
     "name": "stdout",
     "output_type": "stream",
     "text": [
      "Unique topics per language\n",
      "lang_code\n",
      "ar    26\n",
      "en    46\n",
      "fa    32\n",
      "ru    61\n",
      "uz    29\n",
      "Name: topic, dtype: int64\n"
     ]
    }
   ],
   "source": [
    "print('Unique topics per language')\n",
    "print(train_data_flat.groupby('lang_code')['topic'].nunique())"
   ]
  },
  {
   "cell_type": "markdown",
   "metadata": {},
   "source": [
    "### Load stopwords"
   ]
  },
  {
   "cell_type": "code",
   "execution_count": 19,
   "metadata": {
    "ExecuteTime": {
     "end_time": "2021-05-02T06:39:31.105896Z",
     "start_time": "2021-05-02T06:39:31.063224Z"
    }
   },
   "outputs": [],
   "source": [
    "STOPWORDS = {\n",
    "    'en': 'data/external/en_stopwords.txt',\n",
    "    'ru': 'data/external/ru_stopwords.txt',\n",
    "    'ar': 'data/external/ar_stopwords.txt'\n",
    "}"
   ]
  },
  {
   "cell_type": "code",
   "execution_count": 20,
   "metadata": {
    "ExecuteTime": {
     "end_time": "2021-05-02T06:39:31.413546Z",
     "start_time": "2021-05-02T06:39:31.378306Z"
    }
   },
   "outputs": [
    {
     "data": {
      "text/plain": [
       "734"
      ]
     },
     "execution_count": 20,
     "metadata": {},
     "output_type": "execute_result"
    }
   ],
   "source": [
    "stopwords = [Path(f).read_text().strip().split('\\n') for l,f in STOPWORDS.items()]\n",
    "\n",
    "stopwords = sum(stopwords, [])\n",
    "\n",
    "len(stopwords)"
   ]
  },
  {
   "cell_type": "markdown",
   "metadata": {},
   "source": [
    "## Experiments\n",
    "\n",
    "**Improve:**\n",
    "- [x] one common split for train and test\n",
    "- [x] don't flatten test\n",
    "- [ ] ~~cross-val when training~~\n",
    "- [x] weighted metric\n",
    "- [ ] ~~top-k accuracy metric~~\n",
    "- [x] train on full set before saving\n",
    "\n",
    "**Hyper-parameters:**\n",
    "- [x] topics: primary only, primary + secondary\n",
    "- [x] inputs: title, description, posts\n",
    "- [x] preprocessing: raw, lemmas\n",
    "- [x] vectorizers: tf-idf, bow\n",
    "- [x] clf: xgb, nb, etc.\n",
    "- [x] datasets {tg, r-1, r-2}\n",
    "- [x] ngrams, chars vs words\n",
    "- [ ] use new data types"
   ]
  },
  {
   "cell_type": "code",
   "execution_count": 21,
   "metadata": {
    "ExecuteTime": {
     "end_time": "2021-05-02T06:39:32.838137Z",
     "start_time": "2021-05-02T06:39:32.312350Z"
    }
   },
   "outputs": [],
   "source": [
    "from sklearn.model_selection import train_test_split\n",
    "\n",
    "from sklearn.feature_extraction.text import CountVectorizer, TfidfVectorizer\n",
    "from sklearn.multioutput import MultiOutputClassifier, ClassifierChain\n",
    "from sklearn.preprocessing import MultiLabelBinarizer, OneHotEncoder, MinMaxScaler\n",
    "from sklearn.linear_model import LogisticRegression, ElasticNet\n",
    "from sklearn.ensemble import GradientBoostingClassifier, RandomForestClassifier\n",
    "from sklearn.model_selection import cross_val_score\n",
    "from sklearn.metrics import confusion_matrix, top_k_accuracy_score\n",
    "from sklearn.tree import ExtraTreeClassifier\n",
    "from sklearn.neighbors import KNeighborsClassifier\n",
    "from sklearn.svm import LinearSVC, SVC\n",
    "from sklearn.naive_bayes import ComplementNB, MultinomialNB\n",
    "\n",
    "from xgboost import XGBClassifier\n",
    "\n",
    "import itertools"
   ]
  },
  {
   "cell_type": "code",
   "execution_count": 22,
   "metadata": {
    "ExecuteTime": {
     "end_time": "2021-05-02T06:39:32.877224Z",
     "start_time": "2021-05-02T06:39:32.839696Z"
    }
   },
   "outputs": [],
   "source": [
    "import torch\n",
    "\n",
    "from src.train.text_utils import tokenize_text\n",
    "from src.train.neural import EmbeddingNet, load_vectors"
   ]
  },
  {
   "cell_type": "code",
   "execution_count": 23,
   "metadata": {
    "ExecuteTime": {
     "end_time": "2021-05-02T06:39:33.053336Z",
     "start_time": "2021-05-02T06:39:33.021268Z"
    }
   },
   "outputs": [],
   "source": [
    "class ScikitEmbeddingNet(EmbeddingNet):\n",
    "    \"\"\" adapt embedding net to be used with scikit-learn classifiers \"\"\"\n",
    "    def __init__(self, filepath):\n",
    "        self.file = filepath\n",
    "        self.scaler = MinMaxScaler()\n",
    "    \n",
    "    \n",
    "    def fit(self, X_data):\n",
    "        vocab,dim = load_vectors(self.file)\n",
    "        super().__init__(vocab, dim,)\n",
    "    \n",
    "    \n",
    "    def transform(self, X_data):\n",
    "        with torch.no_grad():\n",
    "            tokenized = list(map(tokenize_text, X_data))\n",
    "            x_vectors = self.forward(tokenized)\n",
    "            x_features = self.get_batch_extremes(x_vectors)\n",
    "        x_features = x_features.numpy()\n",
    "        x_features = self.scaler.fit_transform(x_features)\n",
    "        return x_features\n",
    "    \n",
    "    \n",
    "    def fit_transform(self, X_data):\n",
    "        self.fit(X_data)\n",
    "        transformed = self.transform(X_data)\n",
    "        return transformed\n",
    "    \n",
    "    \n",
    "    def set_params(self, **kwargs):\n",
    "        pass"
   ]
  },
  {
   "cell_type": "code",
   "execution_count": 24,
   "metadata": {
    "ExecuteTime": {
     "end_time": "2021-05-02T06:39:34.279364Z",
     "start_time": "2021-05-02T06:39:34.236050Z"
    },
    "code_folding": [
     2,
     22
    ]
   },
   "outputs": [],
   "source": [
    "class Trainer:\n",
    "    \"\"\" prapre inputs, vectorize texts and run a classifier \"\"\"\n",
    "    def __init__(self, lang_code, subsets, vect, est, vect_params={}):\n",
    "        self.LANG = lang_code\n",
    "        query = f\"lang_code == {lang_code!r} and subset == {subsets}\"\n",
    "        self.train_inputs = train_data_flat.query(query).copy()\n",
    "        self.test_inputs = test_data.query(query).copy()\n",
    "        self.vect = VECTORIZERS[vect]\n",
    "        if vect_params != {}:\n",
    "            self.vect.set_params(**vect_params)\n",
    "        self.vect.preprocessor = lambda x: x\n",
    "        self.vect.lowercase = False\n",
    "        self.clf = ESTIMATORS[est]\n",
    "        preprocessing = 'raw'\n",
    "        assert preprocessing in ['lemma', 'raw']\n",
    "        self.preprocessing = preprocessing\n",
    "        if preprocessing == 'lemma':\n",
    "            self.vect.tokenizer = lang_lemmatizer(lang_code)\n",
    "        else:\n",
    "            self.vect.tokenizer = tokenize_text\n",
    "        \n",
    "        \n",
    "    def prepare_data(self, is_final):\n",
    "        # for research use train data for fitting and test for eval\n",
    "        if is_final:\n",
    "            test_flat = flatten_category(self.test_inputs)\n",
    "            self.y_train = self.train_inputs['topic'].append(test_flat['topic'])\n",
    "            self.X_train = self.vect.fit_transform(self.train_inputs['text'].append(test_flat['text']))\n",
    "            self.sample_weights = self.train_inputs['weight'].append(test_flat['weight'])\n",
    "        else:\n",
    "            self.y_train = self.train_inputs['topic']\n",
    "            self.X_train = self.vect.fit_transform(self.train_inputs['text'])\n",
    "            self.sample_weights = self.train_inputs['weight']\n",
    "        self.X_test = self.vect.transform(self.test_inputs['text'])\n",
    "            \n",
    "    \n",
    "    def train(self):\n",
    "        try:\n",
    "            self.clf.fit(self.X_train, self.y_train, sample_weight=self.sample_weights)\n",
    "        except TypeError as e:\n",
    "            logging.warning(e.args[0])\n",
    "            self.clf.fit(self.X_train, self.y_train)\n",
    "        \n",
    "        \n",
    "    def run_eval(self, final=False):\n",
    "        \"\"\" prepare inputs and run clf evaluation \"\"\"\n",
    "        self.prepare_data(final)\n",
    "        self.train()\n",
    "        predicted = trainer.clf.predict_proba(trainer.X_test)\n",
    "        scores = score_predictions(trainer.test_inputs['category'], predicted, self.clf.classes_)\n",
    "        return np.mean(scores)\n",
    "    \n",
    "\n",
    "def calc_weight_score(topic_weights, predicted_probs, classes):\n",
    "    true_weights = np.zeros(len(classes))\n",
    "    for t,w in topic_weights.items():\n",
    "        index = np.argwhere(classes == t).squeeze()\n",
    "        true_weights[index] = w\n",
    "    mae = round(sum(abs(true_weights - predicted_probs)),4)\n",
    "    return 1 / (1 + mae)\n",
    "\n",
    "\n",
    "def score_predictions(true_topics, predicted_probs, classes):\n",
    "    scores = list(map(lambda x: calc_weight_score(x[0],x[1],classes),\n",
    "                         zip(true_topics, predicted_probs)))\n",
    "    return scores"
   ]
  },
  {
   "cell_type": "markdown",
   "metadata": {},
   "source": [
    "### Set hyper-parameters"
   ]
  },
  {
   "cell_type": "code",
   "execution_count": 25,
   "metadata": {
    "ExecuteTime": {
     "end_time": "2021-05-02T06:39:47.358081Z",
     "start_time": "2021-05-02T06:39:47.318941Z"
    }
   },
   "outputs": [],
   "source": [
    "SUBSETS = [\n",
    "#     ('r-2', 'r-1', 'chan'),\n",
    "#     ('r-2', 'r-1'),\n",
    "#     ('r-2', 'chan'),\n",
    "    ('r-2', 'r-1', 'chan', 'tg'),\n",
    "]\n",
    "\n",
    "vect_params = dict(\n",
    "    max_df=0.4, \n",
    "    min_df=3,\n",
    "    max_features=1000,\n",
    "    binary=False, \n",
    "    ngram_range=(1,1), \n",
    "    tokenizer=tokenize_text,\n",
    "    stop_words=stopwords, \n",
    "    analyzer='word'\n",
    ")\n",
    "vect_space = [\n",
    "    {'max_features': 2000,},\n",
    "]\n",
    "VECTORIZERS = {\n",
    "#     'tfidf': TfidfVectorizer(**vect_params),\n",
    "    'bow': CountVectorizer(**vect_params),\n",
    "#     'fasttext' : ScikitEmbeddingNet('models/external/word_vectors/100k.cc.en.300.vec'),\n",
    "}\n",
    "\n",
    "\n",
    "ESTIMATORS = dict(\n",
    "#     xgb = XGBClassifier(objective='multi:softmax'),\n",
    "#     forest = RandomForestClassifier(),\n",
    "#     logreg = LogisticRegression(),\n",
    "#     knn = KNeighborsClassifier(),\n",
    "#     tree = ExtraTreeClassifier(),\n",
    "#     svm = SVC(),\n",
    "#     linsvm = LinearSVC(),\n",
    "#     cnb = ComplementNB(),\n",
    "    mnb = MultinomialNB(),\n",
    ")"
   ]
  },
  {
   "cell_type": "code",
   "execution_count": 26,
   "metadata": {
    "ExecuteTime": {
     "end_time": "2021-05-02T06:39:48.446690Z",
     "start_time": "2021-05-02T06:39:48.416161Z"
    }
   },
   "outputs": [
    {
     "name": "stdout",
     "output_type": "stream",
     "text": [
      "5 experiments to run\n"
     ]
    }
   ],
   "source": [
    "\n",
    "train_params = list(itertools.product(\n",
    "    LANGS, \n",
    "    SUBSETS,\n",
    "    VECTORIZERS.keys(), \n",
    "    ESTIMATORS.keys(),\n",
    "    vect_space,\n",
    "))\n",
    "\n",
    "print(f'{len(train_params)} experiments to run')"
   ]
  },
  {
   "cell_type": "markdown",
   "metadata": {},
   "source": [
    "#### Test trainer"
   ]
  },
  {
   "cell_type": "code",
   "execution_count": 28,
   "metadata": {
    "ExecuteTime": {
     "end_time": "2021-05-02T06:40:00.371077Z",
     "start_time": "2021-05-02T06:39:59.932427Z"
    }
   },
   "outputs": [
    {
     "name": "stderr",
     "output_type": "stream",
     "text": [
      "/Users/rustem.galiullin/miniconda3/envs/tgcat/lib/python3.7/site-packages/sklearn/feature_extraction/text.py:391: UserWarning: Your stop_words may be inconsistent with your preprocessing. Tokenizing the stop words generated tokens ['cent', 'dr', 'mr', 'per', 'آخر', 'أخير', 'أسبوع', 'أفضل', 'أول', 'إعلام', 'بلد', 'ثاني', 'جانب', 'جديد', 'جزء', 'جمعة', 'جميع', 'حالي', 'خميس', 'دائم', 'رويترز', 'ساعة', 'شخص', 'شهر', 'صباح', 'صحيفة', 'طريق', 'عام', 'عدد', 'قادم', 'قال', 'قبل', 'كامل', 'كبير', 'كثير', 'لحظة', 'ماضي', 'محتمل', 'مدينة', 'مرة', 'مزيد', 'مستعد', 'مسيرة', 'معلومة', 'مكان', 'مواطن', 'نبأ', 'واحد', 'واضح', 'وضع', 'يوم'] not in stop_words.\n",
      "  'stop_words.' % sorted(inconsistent))\n"
     ]
    },
    {
     "name": "stdout",
     "output_type": "stream",
     "text": [
      "0.4293605857274769\n"
     ]
    }
   ],
   "source": [
    "trainer = Trainer(\n",
    "    lang_code = 'uz', \n",
    "    subsets = [\"r-2\"],\n",
    "    vect = 'bow', \n",
    "    est = 'mnb',\n",
    "    vect_params={'max_features': 101, 'min_df': 5}\n",
    ")\n",
    "s = trainer.run_eval(final=False)\n",
    "print(s)"
   ]
  },
  {
   "cell_type": "markdown",
   "metadata": {},
   "source": [
    "### Run experiments"
   ]
  },
  {
   "cell_type": "code",
   "execution_count": 29,
   "metadata": {
    "ExecuteTime": {
     "end_time": "2021-05-02T06:40:53.326416Z",
     "start_time": "2021-05-02T06:40:02.223363Z"
    },
    "scrolled": true
   },
   "outputs": [
    {
     "data": {
      "application/vnd.jupyter.widget-view+json": {
       "model_id": "44de353b7f3b44e6b179f9f9a1958e9b",
       "version_major": 2,
       "version_minor": 0
      },
      "text/plain": [
       "# experiments:   0%|          | 0/5 [00:00<?, ?it/s]"
      ]
     },
     "metadata": {},
     "output_type": "display_data"
    }
   ],
   "source": [
    "results = []\n",
    "\n",
    "for params in tqdm(train_params, desc='# experiments'):\n",
    "    trainer = Trainer(*params)\n",
    "    score = trainer.run_eval()\n",
    "    params += (score,)\n",
    "    results.append(params)\n",
    "                \n",
    "results = pd.DataFrame(results, columns=['lang_code','subsets','vect', 'est', 'vect_params','score',])"
   ]
  },
  {
   "cell_type": "code",
   "execution_count": 30,
   "metadata": {
    "ExecuteTime": {
     "end_time": "2021-05-02T06:40:53.401475Z",
     "start_time": "2021-05-02T06:40:53.328813Z"
    }
   },
   "outputs": [
    {
     "name": "stdout",
     "output_type": "stream",
     "text": [
      "|    | lang_code   | subsets                      | vect   | est   | vect_params            |    score |\n",
      "|---:|:------------|:-----------------------------|:-------|:------|:-----------------------|---------:|\n",
      "|  0 | ru          | ('r-2', 'r-1', 'chan', 'tg') | bow    | mnb   | {'max_features': 2000} | 0.659215 |\n",
      "\n",
      "|    | lang_code   | subsets                      | vect   | est   | vect_params            |    score |\n",
      "|---:|:------------|:-----------------------------|:-------|:------|:-----------------------|---------:|\n",
      "|  1 | en          | ('r-2', 'r-1', 'chan', 'tg') | bow    | mnb   | {'max_features': 2000} | 0.620872 |\n",
      "\n",
      "|    | lang_code   | subsets                      | vect   | est   | vect_params            |    score |\n",
      "|---:|:------------|:-----------------------------|:-------|:------|:-----------------------|---------:|\n",
      "|  2 | ar          | ('r-2', 'r-1', 'chan', 'tg') | bow    | mnb   | {'max_features': 2000} | 0.587501 |\n",
      "\n",
      "|    | lang_code   | subsets                      | vect   | est   | vect_params            |    score |\n",
      "|---:|:------------|:-----------------------------|:-------|:------|:-----------------------|---------:|\n",
      "|  3 | fa          | ('r-2', 'r-1', 'chan', 'tg') | bow    | mnb   | {'max_features': 2000} | 0.580877 |\n",
      "\n",
      "|    | lang_code   | subsets                      | vect   | est   | vect_params            |    score |\n",
      "|---:|:------------|:-----------------------------|:-------|:------|:-----------------------|---------:|\n",
      "|  4 | uz          | ('r-2', 'r-1', 'chan', 'tg') | bow    | mnb   | {'max_features': 2000} | 0.506381 |\n",
      "\n"
     ]
    }
   ],
   "source": [
    "for l in results['lang_code'].unique():\n",
    "    one = results.query(f'lang_code == \"{l}\"').sort_values('score', ascending=False)\n",
    "    \n",
    "    print(one.to_markdown(), end='\\n\\n')"
   ]
  },
  {
   "cell_type": "markdown",
   "metadata": {
    "heading_collapsed": true
   },
   "source": [
    "### Review errors"
   ]
  },
  {
   "cell_type": "markdown",
   "metadata": {
    "hidden": true
   },
   "source": [
    "#### Train"
   ]
  },
  {
   "cell_type": "code",
   "execution_count": 33,
   "metadata": {
    "ExecuteTime": {
     "end_time": "2021-05-02T06:42:35.408806Z",
     "start_time": "2021-05-02T06:42:22.766125Z"
    },
    "hidden": true
   },
   "outputs": [
    {
     "ename": "KeyboardInterrupt",
     "evalue": "",
     "output_type": "error",
     "traceback": [
      "\u001b[0;31m---------------------------------------------------------------------------\u001b[0m",
      "\u001b[0;31mKeyboardInterrupt\u001b[0m                         Traceback (most recent call last)",
      "\u001b[0;32m<ipython-input-33-eb00f9ad1ddb>\u001b[0m in \u001b[0;36m<module>\u001b[0;34m\u001b[0m\n\u001b[1;32m      5\u001b[0m     \u001b[0mest\u001b[0m \u001b[0;34m=\u001b[0m \u001b[0;34m'mnb'\u001b[0m\u001b[0;34m\u001b[0m\u001b[0;34m\u001b[0m\u001b[0m\n\u001b[1;32m      6\u001b[0m )\n\u001b[0;32m----> 7\u001b[0;31m \u001b[0ms\u001b[0m \u001b[0;34m=\u001b[0m \u001b[0mtrainer\u001b[0m\u001b[0;34m.\u001b[0m\u001b[0mrun_eval\u001b[0m\u001b[0;34m(\u001b[0m\u001b[0mfinal\u001b[0m\u001b[0;34m=\u001b[0m\u001b[0;32mFalse\u001b[0m\u001b[0;34m)\u001b[0m\u001b[0;34m\u001b[0m\u001b[0;34m\u001b[0m\u001b[0m\n\u001b[0m\u001b[1;32m      8\u001b[0m \u001b[0mprint\u001b[0m\u001b[0;34m(\u001b[0m\u001b[0ms\u001b[0m\u001b[0;34m)\u001b[0m\u001b[0;34m\u001b[0m\u001b[0;34m\u001b[0m\u001b[0m\n\u001b[1;32m      9\u001b[0m \u001b[0;34m\u001b[0m\u001b[0m\n",
      "\u001b[0;32m<ipython-input-24-fa554d9b6c3a>\u001b[0m in \u001b[0;36mrun_eval\u001b[0;34m(self, final)\u001b[0m\n\u001b[1;32m     45\u001b[0m     \u001b[0;32mdef\u001b[0m \u001b[0mrun_eval\u001b[0m\u001b[0;34m(\u001b[0m\u001b[0mself\u001b[0m\u001b[0;34m,\u001b[0m \u001b[0mfinal\u001b[0m\u001b[0;34m=\u001b[0m\u001b[0;32mFalse\u001b[0m\u001b[0;34m)\u001b[0m\u001b[0;34m:\u001b[0m\u001b[0;34m\u001b[0m\u001b[0;34m\u001b[0m\u001b[0m\n\u001b[1;32m     46\u001b[0m         \u001b[0;34m\"\"\" prepare inputs and run clf evaluation \"\"\"\u001b[0m\u001b[0;34m\u001b[0m\u001b[0;34m\u001b[0m\u001b[0m\n\u001b[0;32m---> 47\u001b[0;31m         \u001b[0mself\u001b[0m\u001b[0;34m.\u001b[0m\u001b[0mprepare_data\u001b[0m\u001b[0;34m(\u001b[0m\u001b[0mfinal\u001b[0m\u001b[0;34m)\u001b[0m\u001b[0;34m\u001b[0m\u001b[0;34m\u001b[0m\u001b[0m\n\u001b[0m\u001b[1;32m     48\u001b[0m         \u001b[0mself\u001b[0m\u001b[0;34m.\u001b[0m\u001b[0mtrain\u001b[0m\u001b[0;34m(\u001b[0m\u001b[0;34m)\u001b[0m\u001b[0;34m\u001b[0m\u001b[0;34m\u001b[0m\u001b[0m\n\u001b[1;32m     49\u001b[0m         \u001b[0mpredicted\u001b[0m \u001b[0;34m=\u001b[0m \u001b[0mtrainer\u001b[0m\u001b[0;34m.\u001b[0m\u001b[0mclf\u001b[0m\u001b[0;34m.\u001b[0m\u001b[0mpredict_proba\u001b[0m\u001b[0;34m(\u001b[0m\u001b[0mtrainer\u001b[0m\u001b[0;34m.\u001b[0m\u001b[0mX_test\u001b[0m\u001b[0;34m)\u001b[0m\u001b[0;34m\u001b[0m\u001b[0;34m\u001b[0m\u001b[0m\n",
      "\u001b[0;32m<ipython-input-24-fa554d9b6c3a>\u001b[0m in \u001b[0;36mprepare_data\u001b[0;34m(self, is_final)\u001b[0m\n\u001b[1;32m     30\u001b[0m         \u001b[0;32melse\u001b[0m\u001b[0;34m:\u001b[0m\u001b[0;34m\u001b[0m\u001b[0;34m\u001b[0m\u001b[0m\n\u001b[1;32m     31\u001b[0m             \u001b[0mself\u001b[0m\u001b[0;34m.\u001b[0m\u001b[0my_train\u001b[0m \u001b[0;34m=\u001b[0m \u001b[0mself\u001b[0m\u001b[0;34m.\u001b[0m\u001b[0mtrain_inputs\u001b[0m\u001b[0;34m[\u001b[0m\u001b[0;34m'topic'\u001b[0m\u001b[0;34m]\u001b[0m\u001b[0;34m\u001b[0m\u001b[0;34m\u001b[0m\u001b[0m\n\u001b[0;32m---> 32\u001b[0;31m             \u001b[0mself\u001b[0m\u001b[0;34m.\u001b[0m\u001b[0mX_train\u001b[0m \u001b[0;34m=\u001b[0m \u001b[0mself\u001b[0m\u001b[0;34m.\u001b[0m\u001b[0mvect\u001b[0m\u001b[0;34m.\u001b[0m\u001b[0mfit_transform\u001b[0m\u001b[0;34m(\u001b[0m\u001b[0mself\u001b[0m\u001b[0;34m.\u001b[0m\u001b[0mtrain_inputs\u001b[0m\u001b[0;34m[\u001b[0m\u001b[0;34m'text'\u001b[0m\u001b[0;34m]\u001b[0m\u001b[0;34m)\u001b[0m\u001b[0;34m\u001b[0m\u001b[0;34m\u001b[0m\u001b[0m\n\u001b[0m\u001b[1;32m     33\u001b[0m             \u001b[0mself\u001b[0m\u001b[0;34m.\u001b[0m\u001b[0msample_weights\u001b[0m \u001b[0;34m=\u001b[0m \u001b[0mself\u001b[0m\u001b[0;34m.\u001b[0m\u001b[0mtrain_inputs\u001b[0m\u001b[0;34m[\u001b[0m\u001b[0;34m'weight'\u001b[0m\u001b[0;34m]\u001b[0m\u001b[0;34m\u001b[0m\u001b[0;34m\u001b[0m\u001b[0m\n\u001b[1;32m     34\u001b[0m         \u001b[0mself\u001b[0m\u001b[0;34m.\u001b[0m\u001b[0mX_test\u001b[0m \u001b[0;34m=\u001b[0m \u001b[0mself\u001b[0m\u001b[0;34m.\u001b[0m\u001b[0mvect\u001b[0m\u001b[0;34m.\u001b[0m\u001b[0mtransform\u001b[0m\u001b[0;34m(\u001b[0m\u001b[0mself\u001b[0m\u001b[0;34m.\u001b[0m\u001b[0mtest_inputs\u001b[0m\u001b[0;34m[\u001b[0m\u001b[0;34m'text'\u001b[0m\u001b[0;34m]\u001b[0m\u001b[0;34m)\u001b[0m\u001b[0;34m\u001b[0m\u001b[0;34m\u001b[0m\u001b[0m\n",
      "\u001b[0;32m~/miniconda3/envs/tgcat/lib/python3.7/site-packages/sklearn/feature_extraction/text.py\u001b[0m in \u001b[0;36mfit_transform\u001b[0;34m(self, raw_documents, y)\u001b[0m\n\u001b[1;32m   1202\u001b[0m \u001b[0;34m\u001b[0m\u001b[0m\n\u001b[1;32m   1203\u001b[0m         vocabulary, X = self._count_vocab(raw_documents,\n\u001b[0;32m-> 1204\u001b[0;31m                                           self.fixed_vocabulary_)\n\u001b[0m\u001b[1;32m   1205\u001b[0m \u001b[0;34m\u001b[0m\u001b[0m\n\u001b[1;32m   1206\u001b[0m         \u001b[0;32mif\u001b[0m \u001b[0mself\u001b[0m\u001b[0;34m.\u001b[0m\u001b[0mbinary\u001b[0m\u001b[0;34m:\u001b[0m\u001b[0;34m\u001b[0m\u001b[0;34m\u001b[0m\u001b[0m\n",
      "\u001b[0;32m~/miniconda3/envs/tgcat/lib/python3.7/site-packages/sklearn/feature_extraction/text.py\u001b[0m in \u001b[0;36m_count_vocab\u001b[0;34m(self, raw_documents, fixed_vocab)\u001b[0m\n\u001b[1;32m   1113\u001b[0m         \u001b[0;32mfor\u001b[0m \u001b[0mdoc\u001b[0m \u001b[0;32min\u001b[0m \u001b[0mraw_documents\u001b[0m\u001b[0;34m:\u001b[0m\u001b[0;34m\u001b[0m\u001b[0;34m\u001b[0m\u001b[0m\n\u001b[1;32m   1114\u001b[0m             \u001b[0mfeature_counter\u001b[0m \u001b[0;34m=\u001b[0m \u001b[0;34m{\u001b[0m\u001b[0;34m}\u001b[0m\u001b[0;34m\u001b[0m\u001b[0;34m\u001b[0m\u001b[0m\n\u001b[0;32m-> 1115\u001b[0;31m             \u001b[0;32mfor\u001b[0m \u001b[0mfeature\u001b[0m \u001b[0;32min\u001b[0m \u001b[0manalyze\u001b[0m\u001b[0;34m(\u001b[0m\u001b[0mdoc\u001b[0m\u001b[0;34m)\u001b[0m\u001b[0;34m:\u001b[0m\u001b[0;34m\u001b[0m\u001b[0;34m\u001b[0m\u001b[0m\n\u001b[0m\u001b[1;32m   1116\u001b[0m                 \u001b[0;32mtry\u001b[0m\u001b[0;34m:\u001b[0m\u001b[0;34m\u001b[0m\u001b[0;34m\u001b[0m\u001b[0m\n\u001b[1;32m   1117\u001b[0m                     \u001b[0mfeature_idx\u001b[0m \u001b[0;34m=\u001b[0m \u001b[0mvocabulary\u001b[0m\u001b[0;34m[\u001b[0m\u001b[0mfeature\u001b[0m\u001b[0;34m]\u001b[0m\u001b[0;34m\u001b[0m\u001b[0;34m\u001b[0m\u001b[0m\n",
      "\u001b[0;32m~/miniconda3/envs/tgcat/lib/python3.7/site-packages/sklearn/feature_extraction/text.py\u001b[0m in \u001b[0;36m_analyze\u001b[0;34m(doc, analyzer, tokenizer, ngrams, preprocessor, decoder, stop_words)\u001b[0m\n\u001b[1;32m    104\u001b[0m             \u001b[0mdoc\u001b[0m \u001b[0;34m=\u001b[0m \u001b[0mpreprocessor\u001b[0m\u001b[0;34m(\u001b[0m\u001b[0mdoc\u001b[0m\u001b[0;34m)\u001b[0m\u001b[0;34m\u001b[0m\u001b[0;34m\u001b[0m\u001b[0m\n\u001b[1;32m    105\u001b[0m         \u001b[0;32mif\u001b[0m \u001b[0mtokenizer\u001b[0m \u001b[0;32mis\u001b[0m \u001b[0;32mnot\u001b[0m \u001b[0;32mNone\u001b[0m\u001b[0;34m:\u001b[0m\u001b[0;34m\u001b[0m\u001b[0;34m\u001b[0m\u001b[0m\n\u001b[0;32m--> 106\u001b[0;31m             \u001b[0mdoc\u001b[0m \u001b[0;34m=\u001b[0m \u001b[0mtokenizer\u001b[0m\u001b[0;34m(\u001b[0m\u001b[0mdoc\u001b[0m\u001b[0;34m)\u001b[0m\u001b[0;34m\u001b[0m\u001b[0;34m\u001b[0m\u001b[0m\n\u001b[0m\u001b[1;32m    107\u001b[0m         \u001b[0;32mif\u001b[0m \u001b[0mngrams\u001b[0m \u001b[0;32mis\u001b[0m \u001b[0;32mnot\u001b[0m \u001b[0;32mNone\u001b[0m\u001b[0;34m:\u001b[0m\u001b[0;34m\u001b[0m\u001b[0;34m\u001b[0m\u001b[0m\n\u001b[1;32m    108\u001b[0m             \u001b[0;32mif\u001b[0m \u001b[0mstop_words\u001b[0m \u001b[0;32mis\u001b[0m \u001b[0;32mnot\u001b[0m \u001b[0;32mNone\u001b[0m\u001b[0;34m:\u001b[0m\u001b[0;34m\u001b[0m\u001b[0;34m\u001b[0m\u001b[0m\n",
      "\u001b[0;32m~/Personal/libtgcat/src/train/text_utils.py\u001b[0m in \u001b[0;36mtokenize_text\u001b[0;34m(text)\u001b[0m\n\u001b[1;32m     62\u001b[0m     \u001b[0mtext\u001b[0m \u001b[0;34m=\u001b[0m \u001b[0mpreprocess_text\u001b[0m\u001b[0;34m(\u001b[0m\u001b[0mtext\u001b[0m\u001b[0;34m)\u001b[0m\u001b[0;34m\u001b[0m\u001b[0;34m\u001b[0m\u001b[0m\n\u001b[1;32m     63\u001b[0m     \u001b[0mtokens\u001b[0m\u001b[0;34m,\u001b[0m\u001b[0m_\u001b[0m \u001b[0;34m=\u001b[0m \u001b[0mtokenizer\u001b[0m\u001b[0;34m.\u001b[0m\u001b[0mtokenize\u001b[0m\u001b[0;34m(\u001b[0m\u001b[0mtext\u001b[0m\u001b[0;34m)\u001b[0m\u001b[0;34m\u001b[0m\u001b[0;34m\u001b[0m\u001b[0m\n\u001b[0;32m---> 64\u001b[0;31m     \u001b[0mtokens\u001b[0m \u001b[0;34m=\u001b[0m \u001b[0mprocess_tokens\u001b[0m\u001b[0;34m(\u001b[0m\u001b[0mtokens\u001b[0m\u001b[0;34m)\u001b[0m\u001b[0;34m\u001b[0m\u001b[0;34m\u001b[0m\u001b[0m\n\u001b[0m\u001b[1;32m     65\u001b[0m     \u001b[0;32mreturn\u001b[0m \u001b[0mtokens\u001b[0m\u001b[0;34m\u001b[0m\u001b[0;34m\u001b[0m\u001b[0m\n\u001b[1;32m     66\u001b[0m \u001b[0;34m\u001b[0m\u001b[0m\n",
      "\u001b[0;32m~/Personal/libtgcat/src/train/text_utils.py\u001b[0m in \u001b[0;36mprocess_tokens\u001b[0;34m(tokens)\u001b[0m\n\u001b[1;32m     43\u001b[0m     \u001b[0;34m\"\"\"filter out useless tokens as empty or non-words\"\"\"\u001b[0m\u001b[0;34m\u001b[0m\u001b[0;34m\u001b[0m\u001b[0m\n\u001b[1;32m     44\u001b[0m     tokens = list(map(lambda x: re.sub('[\\W\\d]', '', x),\n\u001b[0;32m---> 45\u001b[0;31m                      tokens))\n\u001b[0m\u001b[1;32m     46\u001b[0m     tokens = list(filter(lambda x: len(x) > 1,\n\u001b[1;32m     47\u001b[0m                     tokens))\n",
      "\u001b[0;32m~/Personal/libtgcat/src/train/text_utils.py\u001b[0m in \u001b[0;36m<lambda>\u001b[0;34m(x)\u001b[0m\n\u001b[1;32m     42\u001b[0m \u001b[0;32mdef\u001b[0m \u001b[0mprocess_tokens\u001b[0m\u001b[0;34m(\u001b[0m\u001b[0mtokens\u001b[0m\u001b[0;34m)\u001b[0m\u001b[0;34m:\u001b[0m\u001b[0;34m\u001b[0m\u001b[0;34m\u001b[0m\u001b[0m\n\u001b[1;32m     43\u001b[0m     \u001b[0;34m\"\"\"filter out useless tokens as empty or non-words\"\"\"\u001b[0m\u001b[0;34m\u001b[0m\u001b[0;34m\u001b[0m\u001b[0m\n\u001b[0;32m---> 44\u001b[0;31m     tokens = list(map(lambda x: re.sub('[\\W\\d]', '', x),\n\u001b[0m\u001b[1;32m     45\u001b[0m                      tokens))\n\u001b[1;32m     46\u001b[0m     tokens = list(filter(lambda x: len(x) > 1,\n",
      "\u001b[0;32m~/miniconda3/envs/tgcat/lib/python3.7/re.py\u001b[0m in \u001b[0;36msub\u001b[0;34m(pattern, repl, string, count, flags)\u001b[0m\n\u001b[1;32m    192\u001b[0m     \u001b[0ma\u001b[0m \u001b[0mcallable\u001b[0m\u001b[0;34m,\u001b[0m \u001b[0mit\u001b[0m\u001b[0;31m'\u001b[0m\u001b[0ms\u001b[0m \u001b[0mpassed\u001b[0m \u001b[0mthe\u001b[0m \u001b[0mMatch\u001b[0m \u001b[0mobject\u001b[0m \u001b[0;32mand\u001b[0m \u001b[0mmust\u001b[0m \u001b[0;32mreturn\u001b[0m\u001b[0;34m\u001b[0m\u001b[0;34m\u001b[0m\u001b[0m\n\u001b[1;32m    193\u001b[0m     a replacement string to be used.\"\"\"\n\u001b[0;32m--> 194\u001b[0;31m     \u001b[0;32mreturn\u001b[0m \u001b[0m_compile\u001b[0m\u001b[0;34m(\u001b[0m\u001b[0mpattern\u001b[0m\u001b[0;34m,\u001b[0m \u001b[0mflags\u001b[0m\u001b[0;34m)\u001b[0m\u001b[0;34m.\u001b[0m\u001b[0msub\u001b[0m\u001b[0;34m(\u001b[0m\u001b[0mrepl\u001b[0m\u001b[0;34m,\u001b[0m \u001b[0mstring\u001b[0m\u001b[0;34m,\u001b[0m \u001b[0mcount\u001b[0m\u001b[0;34m)\u001b[0m\u001b[0;34m\u001b[0m\u001b[0;34m\u001b[0m\u001b[0m\n\u001b[0m\u001b[1;32m    195\u001b[0m \u001b[0;34m\u001b[0m\u001b[0m\n\u001b[1;32m    196\u001b[0m \u001b[0;32mdef\u001b[0m \u001b[0msubn\u001b[0m\u001b[0;34m(\u001b[0m\u001b[0mpattern\u001b[0m\u001b[0;34m,\u001b[0m \u001b[0mrepl\u001b[0m\u001b[0;34m,\u001b[0m \u001b[0mstring\u001b[0m\u001b[0;34m,\u001b[0m \u001b[0mcount\u001b[0m\u001b[0;34m=\u001b[0m\u001b[0;36m0\u001b[0m\u001b[0;34m,\u001b[0m \u001b[0mflags\u001b[0m\u001b[0;34m=\u001b[0m\u001b[0;36m0\u001b[0m\u001b[0;34m)\u001b[0m\u001b[0;34m:\u001b[0m\u001b[0;34m\u001b[0m\u001b[0;34m\u001b[0m\u001b[0m\n",
      "\u001b[0;32m~/miniconda3/envs/tgcat/lib/python3.7/re.py\u001b[0m in \u001b[0;36m_compile\u001b[0;34m(pattern, flags)\u001b[0m\n\u001b[1;32m    273\u001b[0m \u001b[0;32mdef\u001b[0m \u001b[0m_compile\u001b[0m\u001b[0;34m(\u001b[0m\u001b[0mpattern\u001b[0m\u001b[0;34m,\u001b[0m \u001b[0mflags\u001b[0m\u001b[0;34m)\u001b[0m\u001b[0;34m:\u001b[0m\u001b[0;34m\u001b[0m\u001b[0;34m\u001b[0m\u001b[0m\n\u001b[1;32m    274\u001b[0m     \u001b[0;31m# internal: compile pattern\u001b[0m\u001b[0;34m\u001b[0m\u001b[0;34m\u001b[0m\u001b[0;34m\u001b[0m\u001b[0m\n\u001b[0;32m--> 275\u001b[0;31m     \u001b[0;32mif\u001b[0m \u001b[0misinstance\u001b[0m\u001b[0;34m(\u001b[0m\u001b[0mflags\u001b[0m\u001b[0;34m,\u001b[0m \u001b[0mRegexFlag\u001b[0m\u001b[0;34m)\u001b[0m\u001b[0;34m:\u001b[0m\u001b[0;34m\u001b[0m\u001b[0;34m\u001b[0m\u001b[0m\n\u001b[0m\u001b[1;32m    276\u001b[0m         \u001b[0mflags\u001b[0m \u001b[0;34m=\u001b[0m \u001b[0mflags\u001b[0m\u001b[0;34m.\u001b[0m\u001b[0mvalue\u001b[0m\u001b[0;34m\u001b[0m\u001b[0;34m\u001b[0m\u001b[0m\n\u001b[1;32m    277\u001b[0m     \u001b[0;32mtry\u001b[0m\u001b[0;34m:\u001b[0m\u001b[0;34m\u001b[0m\u001b[0;34m\u001b[0m\u001b[0m\n",
      "\u001b[0;31mKeyboardInterrupt\u001b[0m: "
     ]
    }
   ],
   "source": [
    "trainer = Trainer(\n",
    "    lang_code = 'en', \n",
    "    subsets = SUBSETS[0],\n",
    "    vect = 'bow', \n",
    "    est = 'mnb'\n",
    ")\n",
    "s = trainer.run_eval(final=False)\n",
    "print(s)\n",
    "\n",
    "print(f'vocab size: {len(trainer.vect.vocabulary_)}')"
   ]
  },
  {
   "cell_type": "code",
   "execution_count": 273,
   "metadata": {
    "ExecuteTime": {
     "end_time": "2021-04-29T18:42:03.049529Z",
     "start_time": "2021-04-29T18:42:03.009515Z"
    },
    "hidden": true
   },
   "outputs": [],
   "source": [
    "test_pred = trainer.clf.predict_proba(trainer.X_test)\n",
    "\n",
    "# is_wrong = test_pred != trainer.y_test\n",
    "\n",
    "errors = trainer.test_inputs.copy()\n",
    "\n",
    "errors['score'] = score_predictions(errors['category'], test_pred, trainer.clf.classes_)"
   ]
  },
  {
   "cell_type": "markdown",
   "metadata": {
    "hidden": true
   },
   "source": [
    "#### random examples"
   ]
  },
  {
   "cell_type": "code",
   "execution_count": 274,
   "metadata": {
    "ExecuteTime": {
     "end_time": "2021-04-29T18:42:03.631422Z",
     "start_time": "2021-04-29T18:42:03.599834Z"
    },
    "hidden": true
   },
   "outputs": [],
   "source": [
    "def get_top_classes(probs, classes):\n",
    "    top_inds = np.argwhere(probs > probs.mean()).squeeze(1)\n",
    "    return Counter({classes[i]:probs[i] for i in top_inds})"
   ]
  },
  {
   "cell_type": "code",
   "execution_count": 276,
   "metadata": {
    "ExecuteTime": {
     "end_time": "2021-04-29T18:42:16.193256Z",
     "start_time": "2021-04-29T18:42:16.158060Z"
    },
    "hidden": true,
    "scrolled": true
   },
   "outputs": [
    {
     "name": "stdout",
     "output_type": "stream",
     "text": [
      "MAE:\n",
      " 0.3333333333333333\n",
      "\n",
      "TRUE:\n",
      " {'Cryptocurrencies': 1.0}\n",
      "\n",
      "PREDICTED:\n",
      " Counter({'Investments': 0.9999999990182005})\n",
      "\n",
      "TEXTS:\n",
      " Crypto 2AF Results 🚀🚀🚀\n",
      "\n",
      "Binance Futures\n",
      "#BTC/USDT Take-Profit target 2 ✅\n",
      "Profit: 212.6866% 📈\n",
      "Period: 4 Days 17 Hours 37 Minutes ⏰\n",
      "BitMEX, ByBit, Deribit\n",
      "#BTC/USD Take-Profit target 2 ✅\n",
      "Profit: 850.7463% 📈\n",
      "Period: 4 Days 17 Hours 38 Minutes ⏰\n",
      "Binance Futures\n",
      "#BTC/USDT All take-profit targets achieved 😎\n",
      "Profit: 17.8006% 📈\n",
      "Period: 13 Hours 14 Minutes ⏰\n",
      "BitMEX, ByBit\n",
      "#BTC/USD All take-profit targets achieved 😎\n",
      "Profit: 17.8006% 📈\n",
      "Period: 13 Hours 14 Minutes ⏰\n",
      "Binance Futures\n",
      "#BTC/USDT Take-Profit target 3 ✅\n",
      "Profit: 14.2405% 📈\n",
      "Period: 13 Hours 11 Minutes ⏰\n",
      "ByBit, BitMEX\n",
      "#BTC/USD Take-Profit target 3 ✅\n",
      "Profit: 14.2405% 📈\n",
      "Period: 13 Hours 11 Minutes ⏰\n",
      "KuCoin\n",
      "#ALGO/BTC Take-Profit target 1 ✅\n",
      "Profit: 7.8969% 📈\n",
      "Period: 1 Days 13 Hours 39 Minutes ⏰\n",
      "ByBit, Binance Coin-Futures, BitMEX\n",
      "#ETH/USD Take-Profit target 2 ✅\n",
      "Profit: 23.4375% 📈\n",
      "Period: 5 Hours 53 Minutes ⏰\n",
      "Binance Futures\n",
      "#ETH/USDT Take-Profit target 1 ✅\n",
      "Profit: 11.7187% 📈\n",
      "Period: 2 Hours 57 Minutes ⏰\n",
      "ByBit, Binance Coin-Futures, BitMEX\n",
      "#ETH/USD Take-Profit target 1 ✅\n",
      "Profit: 11.7187% 📈\n",
      "Period: 2 Hours 57 Minutes ⏰\n",
      "\n"
     ]
    }
   ],
   "source": [
    "i = random.randint(0, len(errors)-1)\n",
    "row = errors.iloc[i]\n",
    "pred = get_top_classes(test_pred[i], trainer.clf.classes_)\n",
    "\n",
    "# print('PREDICTED:\\n', row['predicted'], end='\\n\\n')\n",
    "print('MAE:\\n', row['score'], end='\\n\\n')\n",
    "print('TRUE:\\n', row['category'], end='\\n\\n')\n",
    "print('PREDICTED:\\n', pred, end='\\n\\n')\n",
    "print('TEXTS:\\n', row['text'], end='\\n\\n')\n",
    "# print(f'TITLE ({row[\"id\"]}):\\n', row['title'], end='\\n\\n')\n",
    "# print('DESCRIPTION:\\n', row['description'], end='\\n\\n')"
   ]
  },
  {
   "cell_type": "markdown",
   "metadata": {
    "hidden": true
   },
   "source": [
    "#### Fixes"
   ]
  },
  {
   "cell_type": "markdown",
   "metadata": {
    "hidden": true
   },
   "source": [
    "**fixes**\n",
    "- [ ] update stopwords: fa/uz\n",
    "- [x] lemmas\n",
    "- [x] remove single char terms\n",
    "- [x] compare feature keywords against topic keywords\n",
    "- [x] multi-class problem\n",
    "- [x] only eng and rus chars\n",
    "- [x] measure accuracy with top N predictions\n",
    "- [x] use full data to train last\n",
    "- [x] sample weights for secondary\n",
    "- [x] bow to torchscript\n",
    "- [x] apply sum normalization only then min prob threshold\n",
    "- [x] fix when nothing predicted (add zero vectors as Other)\n",
    "- [x] remove URL for lang detection"
   ]
  },
  {
   "cell_type": "markdown",
   "metadata": {},
   "source": [
    "## Save models"
   ]
  },
  {
   "cell_type": "code",
   "execution_count": 34,
   "metadata": {
    "ExecuteTime": {
     "end_time": "2021-05-02T06:42:45.651279Z",
     "start_time": "2021-05-02T06:42:45.604389Z"
    }
   },
   "outputs": [],
   "source": [
    "from torch import nn\n",
    "import torch\n",
    "from torch.nn import functional as F\n",
    "from typing import Dict, List, Tuple"
   ]
  },
  {
   "cell_type": "code",
   "execution_count": 35,
   "metadata": {
    "ExecuteTime": {
     "end_time": "2021-05-02T06:42:45.830831Z",
     "start_time": "2021-05-02T06:42:45.781594Z"
    },
    "code_folding": [
     24,
     73
    ]
   },
   "outputs": [],
   "source": [
    "class NaiveBayes(nn.Module):\n",
    "    \"\"\" Implement Multinomial and Complement NB inference \"\"\"\n",
    "    def __init__(self, nb, clf,):\n",
    "        super().__init__()\n",
    "        assert nb in ['cnb','mnb']\n",
    "        self.nb = nb\n",
    "        self.feature_log_prior = nn.Parameter(torch.tensor(clf.feature_log_prob_), requires_grad=False)\n",
    "        self.class_log_prior = nn.Parameter(torch.tensor(clf.class_log_prior_), requires_grad=False)\n",
    "        self.class_labels = clf.classes_.tolist()\n",
    "        \n",
    "\n",
    "    def forward(self, x: torch.Tensor) -> torch.Tensor:\n",
    "        jll = torch.matmul(x.double(), self.feature_log_prior.T)\n",
    "        if self.nb == 'cnb':\n",
    "            if self.class_log_prior.size(0) == 1:\n",
    "                jll += self.class_log_prior\n",
    "        else:\n",
    "            jll += self.class_log_prior\n",
    "        log_prob = torch.logsumexp(jll, dim=1)\n",
    "        log_prob = jll - torch.atleast_2d(log_prob).T\n",
    "        prob = torch.exp(log_prob)\n",
    "        return prob\n",
    "\n",
    "\n",
    "class TextVectorizer(nn.Module):\n",
    "    \"\"\" vectorize text using tf-idf or bow \"\"\"\n",
    "    def __init__(self, vect, vectorizer):\n",
    "        super().__init__()\n",
    "        assert vect in ['bow','tfidf']\n",
    "        self.vocab = {k: torch.tensor(v) for k,v in vectorizer.vocabulary_.items()}\n",
    "        self.vocab_len = len(self.vocab)\n",
    "        if vect == 'tfidf':\n",
    "            self.idf_diag = nn.Parameter(\n",
    "                torch.tensor(vectorizer._tfidf._idf_diag.toarray()), \n",
    "                requires_grad=False)\n",
    "            self.sublinear_tf = vectorizer.sublinear_tf\n",
    "            self.norm = vectorizer.norm\n",
    "            self.use_idf = vectorizer.use_idf\n",
    "        else:\n",
    "            self.idf_diag = nn.Parameter(torch.eye(self.vocab_len))\n",
    "            self.sublinear_tf = False\n",
    "            self.norm = None\n",
    "            self.use_idf = False\n",
    "            \n",
    "        \n",
    "\n",
    "    def count_vocab(self, doc: List[str]) -> torch.Tensor:\n",
    "        \"\"\" return counts of each word from the vocab \"\"\"\n",
    "        feature_counter = torch.zeros(self.vocab_len, dtype=torch.long)\n",
    "        for feature in doc:\n",
    "            n = self.vocab.get(str(feature), torch.tensor(-1))\n",
    "            if n.item() != -1:\n",
    "                feature_idx = self.vocab[str(feature)]\n",
    "                feature_counter[feature_idx] += 1\n",
    "        return feature_counter\n",
    "        \n",
    "        \n",
    "    def forward(self, batch: List[List[str]]) -> torch.Tensor:\n",
    "        doc_counts: List[torch.Tensor] = [self.count_vocab(doc) for doc in batch]\n",
    "        X = torch.stack(doc_counts,)\n",
    "        if self.sublinear_tf:\n",
    "            X = torch.log(X.double())\n",
    "            X += 1\n",
    "        if self.use_idf:\n",
    "            X = torch.matmul(X.double(), self.idf_diag)\n",
    "        if self.norm is not None:\n",
    "            p = float(self.norm[-1])\n",
    "            X = F.normalize(X.double(), p=p, dim=1)\n",
    "        return X\n",
    "    \n",
    "\n",
    "class TgCat(nn.Module):\n",
    "    \"\"\" vectorize input texts, classfy topics and decode predictions \"\"\"\n",
    "    def __init__(self, vect, clf, top_k=3,):\n",
    "        super().__init__()\n",
    "        self.vect = vect\n",
    "        self.clf = clf\n",
    "        self.top_k = top_k\n",
    "        \n",
    "        \n",
    "    def select_top_classes(self, probs: torch.Tensor) -> Dict[str,float]:\n",
    "        \"\"\" select classes with at least min prob and return a normalized dict mapping \"\"\"\n",
    "        if self.clf.nb == 'cnb':\n",
    "            if probs.std(0) < 0.0001:\n",
    "                return {\"Other\": 1.0}\n",
    "        else:\n",
    "            if probs.max() < 0.1:\n",
    "                return {\"Other\": 1.0}\n",
    "        inds_desc = torch.argsort(probs, 0, descending=True)\n",
    "        top_k = min((probs > probs.mean()).sum(), torch.tensor(self.top_k))\n",
    "        target_i = inds_desc[:top_k]\n",
    "        target_p = probs[target_i]\n",
    "        target_p = target_p / target_p.sum()\n",
    "        result: List[Tuple[str, float]] = [\n",
    "            (self.clf.class_labels[target_i[i].item()], target_p[i].item())\n",
    "            for i in range(target_p.size(0))\n",
    "        ]\n",
    "        return dict(result)\n",
    "    \n",
    "    \n",
    "    def get_prob(self, batch: List[List[str]]) -> torch.Tensor:\n",
    "        embeddings = self.vect(batch)\n",
    "        probs = self.clf(embeddings)\n",
    "        # for mnb, if empty embedding then zero out probs\n",
    "        vec_sums = embeddings.sum(1).clip(0, 1)\n",
    "        probs = probs * torch.atleast_2d(vec_sums).T\n",
    "        return probs\n",
    "        \n",
    "    \n",
    "    def forward(self, batch: List[List[str]]) -> List[Dict[str, float]]:\n",
    "        probs = self.get_prob(batch)\n",
    "        top_predictions = [self.select_top_classes(probs[i]) for i in range(probs.size(0))]\n",
    "        return top_predictions"
   ]
  },
  {
   "cell_type": "markdown",
   "metadata": {},
   "source": [
    "### Test"
   ]
  },
  {
   "cell_type": "markdown",
   "metadata": {},
   "source": [
    "#### train one"
   ]
  },
  {
   "cell_type": "code",
   "execution_count": 36,
   "metadata": {
    "ExecuteTime": {
     "end_time": "2021-05-02T06:42:49.186413Z",
     "start_time": "2021-05-02T06:42:48.143342Z"
    }
   },
   "outputs": [],
   "source": [
    "V = 'bow'\n",
    "E = 'mnb'\n",
    "L = 'ru'\n",
    "\n",
    "trainer = Trainer(\n",
    "    lang_code = L,\n",
    "    subsets=SUBSETS[0],\n",
    "    vect = V, \n",
    "    est = E,\n",
    ")\n",
    "_ = trainer.run_eval(final=False)\n",
    "\n",
    "tgcat = TgCat(TextVectorizer(V, trainer.vect), NaiveBayes(E, trainer.clf), top_k=3)"
   ]
  },
  {
   "cell_type": "markdown",
   "metadata": {},
   "source": [
    "#### random batch"
   ]
  },
  {
   "cell_type": "code",
   "execution_count": 37,
   "metadata": {
    "ExecuteTime": {
     "end_time": "2021-05-02T06:42:55.018941Z",
     "start_time": "2021-05-02T06:42:53.982567Z"
    }
   },
   "outputs": [],
   "source": [
    "\n",
    "batch = trainer.test_inputs['text'].apply(tokenize_text).tolist()\n",
    "\n",
    "predictions = tgcat(batch)"
   ]
  },
  {
   "cell_type": "raw",
   "metadata": {
    "ExecuteTime": {
     "end_time": "2021-04-29T17:54:06.912870Z",
     "start_time": "2021-04-29T17:54:06.662252Z"
    }
   },
   "source": [
    "v = tgcat.vect(batch)\n",
    "p = tgcat.clf(v)"
   ]
  },
  {
   "cell_type": "code",
   "execution_count": 40,
   "metadata": {
    "ExecuteTime": {
     "end_time": "2021-05-02T06:43:12.988072Z",
     "start_time": "2021-05-02T06:43:12.958254Z"
    },
    "scrolled": true
   },
   "outputs": [
    {
     "name": "stdout",
     "output_type": "stream",
     "text": [
      "PREDICTED {'Offers & Promotions': 1.0}\n",
      "\n",
      "TOKENS ['обложки', 'для', 'stories', 'если', 'вам', 'нужно', 'оформить', 'свою', 'страницу', 'инстаграм', 'то', 'вам', 'сюда', 'ты', 'новичок', 'не', 'знаешь', 'как', 'правильно', 'оформить', 'свой', 'аккаунт', 'или', 'чего', 'начать', 'быть', 'может', 'тебя', 'нет', 'на', 'это', 'свободного', 'времени', 'или', 'хочешь', 'научиться', 'сам', 'но', 'ничего', 'не', 'получается', 'знаю', 'чем', 'тебе', 'помочь', 'предлагаю', 'вам', 'индивидуальное', 'оформление', 'профиля', 'под', 'ключ', 'именно', 'составление', 'ленты', 'от', 'более', 'публикаций', 'быстрое', 'выполнение', 'работы', 'от', 'дней', 'описание', 'шапки', 'профиля', 'иконки', 'исходникизаходи', 'смотри', 'мои', 'работы', 'прайс', 'отзывы', 'или', 'пиши', 'сразу', 'мне', 'varnat', 'яндекс', 'маркет', 'яндекс', 'маркет', 'легкий', 'онлайн', 'шопинг', 'десятками', 'тысяч', 'товаров', 'известных', 'брендов', 'выгодой', 'до', 'бонусами', 'спасибо', 'маркет', 'бонусами', 'также', 'быстрой', 'доставкой', 'переходи', 'приложение', 'по', 'ссылке', 'совершай', 'покупки', 'на', 'сумму', 'от', 'активируй', 'промокод', 'экономь', 'вместе', 'яндекс', 'маркетом', 'актуальный', 'промокод', 'для', 'новых', 'пользователей', 'на', 'яндекс', 'маркете', 'январь', 'pfm', 'скидка', 'для', 'новых', 'пользователей', 'от', 'на', 'всё', 'до', 'января', 'активируй', 'промокод', 'pfm', 'яндекс', 'маркет', 'крупный', 'маркетплейс', 'котором', 'собраны', 'самые', 'разные', 'товары', 'для', 'жизни', 'выгодные', 'покупки', 'качественный', 'сервис', 'удобная', 'доставка', 'скидки', 'приятные', 'бонусы', 'это', 'все', 'про', 'нас', 'еще', 'можно', 'экономить', 'до', 'бонусами', 'спасибо', 'сбермаркет', 'доставка', 'продуктов', 'товаров', 'первой', 'необходимости', 'полок', 'магазинов', 'удобное', 'время', 'день', 'постоянные', 'скидки', 'более', 'по', 'промокоду', 'получите', 'скидку', 'рублей', 'от', 'рублей', 'на', 'первый', 'заказ', 'из', 'магазина', 'азбука', 'вкуса', 'бесплатная', 'доставка', 'промокод', 'avpwsyaпромокод', 'можно', 'применить', 'на', 'сайте', 'или', 'приложении', 'автор', 'anastasiya', 'zhdanovaавтор', 'anastasiya', 'zhdanovaавтор', 'anastasiya', 'zhdanova']\n"
     ]
    }
   ],
   "source": [
    "i = random.randint(0, len(batch) - 1)\n",
    "\n",
    "print('PREDICTED', predictions[i], end='\\n\\n')\n",
    "print('TOKENS', batch[i])"
   ]
  },
  {
   "cell_type": "markdown",
   "metadata": {},
   "source": [
    "#### with trash"
   ]
  },
  {
   "cell_type": "code",
   "execution_count": 291,
   "metadata": {
    "ExecuteTime": {
     "end_time": "2021-04-29T18:43:34.047597Z",
     "start_time": "2021-04-29T18:43:34.014819Z"
    }
   },
   "outputs": [],
   "source": [
    "trash = [['a','s','d'], [\"\"], [\"other\", 'other', 'ttt'], [\"чгк\", \"нияег\", \"его\"]]\n",
    "\n",
    "trash_out = tgcat(trash)\n",
    "\n",
    "for out in trash_out:\n",
    "    assert out.get('Other', 0) > 0.5, out\n",
    "    \n",
    "logging.info('Passed Other test')"
   ]
  },
  {
   "cell_type": "markdown",
   "metadata": {},
   "source": [
    "### Final training, convert and save"
   ]
  },
  {
   "cell_type": "code",
   "execution_count": 41,
   "metadata": {
    "ExecuteTime": {
     "end_time": "2021-05-02T06:43:37.369852Z",
     "start_time": "2021-05-02T06:43:37.309094Z"
    }
   },
   "outputs": [],
   "source": [
    "from sklearn.preprocessing import normalize"
   ]
  },
  {
   "cell_type": "code",
   "execution_count": 42,
   "metadata": {
    "ExecuteTime": {
     "end_time": "2021-05-02T06:43:37.525777Z",
     "start_time": "2021-05-02T06:43:37.495425Z"
    }
   },
   "outputs": [],
   "source": [
    "prediction_params = {\n",
    "    'top_k': 3\n",
    "}"
   ]
  },
  {
   "cell_type": "code",
   "execution_count": 43,
   "metadata": {
    "ExecuteTime": {
     "end_time": "2021-05-02T06:44:30.296513Z",
     "start_time": "2021-05-02T06:43:37.820841Z"
    },
    "code_folding": []
   },
   "outputs": [
    {
     "name": "stdout",
     "output_type": "stream",
     "text": [
      "ru best {'lang_code': 'ru', 'subsets': ('r-2', 'r-1', 'chan', 'tg'), 'vect': 'bow', 'est': 'mnb', 'vect_params': {'max_features': 2000}, 'score': 0.6592148126720448}\n"
     ]
    },
    {
     "data": {
      "application/vnd.jupyter.widget-view+json": {
       "model_id": "e8840eefcb7f42888560f127c4803a17",
       "version_major": 2,
       "version_minor": 0
      },
      "text/plain": [
       "rows: 0it [00:00, ?it/s]"
      ]
     },
     "metadata": {},
     "output_type": "display_data"
    },
    {
     "name": "stdout",
     "output_type": "stream",
     "text": [
      "ru 0.6913095675520107\n",
      "saved to models/trained/tgcat/ru_tgcat.pt\n",
      "en best {'lang_code': 'en', 'subsets': ('r-2', 'r-1', 'chan', 'tg'), 'vect': 'bow', 'est': 'mnb', 'vect_params': {'max_features': 2000}, 'score': 0.6208715820129835}\n"
     ]
    },
    {
     "data": {
      "application/vnd.jupyter.widget-view+json": {
       "model_id": "381dc94abda94922b22fde2f54ae5911",
       "version_major": 2,
       "version_minor": 0
      },
      "text/plain": [
       "rows: 0it [00:00, ?it/s]"
      ]
     },
     "metadata": {},
     "output_type": "display_data"
    },
    {
     "name": "stdout",
     "output_type": "stream",
     "text": [
      "en 0.6397341428667558\n",
      "saved to models/trained/tgcat/en_tgcat.pt\n",
      "ar best {'lang_code': 'ar', 'subsets': ('r-2', 'r-1', 'chan', 'tg'), 'vect': 'bow', 'est': 'mnb', 'vect_params': {'max_features': 2000}, 'score': 0.587501218658042}\n"
     ]
    },
    {
     "data": {
      "application/vnd.jupyter.widget-view+json": {
       "model_id": "e516e36910d34d35b54e96ff396c2baf",
       "version_major": 2,
       "version_minor": 0
      },
      "text/plain": [
       "rows: 0it [00:00, ?it/s]"
      ]
     },
     "metadata": {},
     "output_type": "display_data"
    },
    {
     "name": "stdout",
     "output_type": "stream",
     "text": [
      "ar 0.7165090877593654\n",
      "saved to models/trained/tgcat/ar_tgcat.pt\n",
      "fa best {'lang_code': 'fa', 'subsets': ('r-2', 'r-1', 'chan', 'tg'), 'vect': 'bow', 'est': 'mnb', 'vect_params': {'max_features': 2000}, 'score': 0.5808768365033202}\n"
     ]
    },
    {
     "data": {
      "application/vnd.jupyter.widget-view+json": {
       "model_id": "efafd4678926458d88d9a3044c8909ce",
       "version_major": 2,
       "version_minor": 0
      },
      "text/plain": [
       "rows: 0it [00:00, ?it/s]"
      ]
     },
     "metadata": {},
     "output_type": "display_data"
    },
    {
     "name": "stdout",
     "output_type": "stream",
     "text": [
      "fa 0.6703296699506511\n",
      "saved to models/trained/tgcat/fa_tgcat.pt\n",
      "uz best {'lang_code': 'uz', 'subsets': ('r-2', 'r-1', 'chan', 'tg'), 'vect': 'bow', 'est': 'mnb', 'vect_params': {'max_features': 2000}, 'score': 0.5063809405316865}\n"
     ]
    },
    {
     "data": {
      "application/vnd.jupyter.widget-view+json": {
       "model_id": "4f947b63f639419ab65fe00d6a81035b",
       "version_major": 2,
       "version_minor": 0
      },
      "text/plain": [
       "rows: 0it [00:00, ?it/s]"
      ]
     },
     "metadata": {},
     "output_type": "display_data"
    },
    {
     "name": "stdout",
     "output_type": "stream",
     "text": [
      "uz 0.6427539874719582\n",
      "saved to models/trained/tgcat/uz_tgcat.pt\n"
     ]
    }
   ],
   "source": [
    "for l in results['lang_code'].unique():\n",
    "    subset = results.query(f\"lang_code == '{l}'\")\n",
    "    best_id = subset['score'].idxmax()\n",
    "    best_params = subset.loc[best_id].to_dict()\n",
    "    print(l, 'best', best_params)\n",
    "    del best_params['score']\n",
    "    # for last training increase train by test\n",
    "    trainer = Trainer(**best_params)\n",
    "    s = trainer.run_eval(final=True)\n",
    "    print(l, s)\n",
    "    # save text vectorizer\n",
    "    vect_scripted = torch.jit.script(TextVectorizer(best_params['vect'], trainer.vect), )\n",
    "#     tokenizer = tokenize_text if best_params['preprocessing'] == 'raw' else lang_lemmatizer(l)\n",
    "    tokenizer = tokenize_text\n",
    "    batch = trainer.test_inputs['text'].apply(tokenizer).tolist()\n",
    "    vect_out = vect_scripted(batch)\n",
    "    src_vects = trainer.X_test.toarray()\n",
    "    assert np.allclose(src_vects, vect_out.numpy())\n",
    "    vect_scripted.save(f\"models/trained/embed/{l}_{best_params['vect']}_script.pt\")\n",
    "    # save classifier\n",
    "    nb_scripted  = torch.jit.script(NaiveBayes(best_params['est'], trainer.clf))\n",
    "    nb_out = nb_scripted(torch.tensor(trainer.X_test.toarray(), dtype=torch.double))\n",
    "    assert np.allclose(trainer.clf.predict_proba(trainer.X_test), nb_out.numpy())\n",
    "    nb_scripted.save(f\"models/trained/classify/{l}_{best_params['est']}_script.pt\")\n",
    "    # save tgcat\n",
    "    tgcat = torch.jit.script(TgCat(vect_scripted, nb_scripted, **prediction_params))\n",
    "    path = f'models/trained/tgcat/{l}_tgcat.pt'\n",
    "    torch.jit.save(tgcat, path)\n",
    "    print('saved to', path)"
   ]
  },
  {
   "cell_type": "markdown",
   "metadata": {},
   "source": [
    "### Check file sizes"
   ]
  },
  {
   "cell_type": "code",
   "execution_count": 44,
   "metadata": {
    "ExecuteTime": {
     "end_time": "2021-05-02T06:45:06.429696Z",
     "start_time": "2021-05-02T06:45:06.237406Z"
    }
   },
   "outputs": [
    {
     "name": "stdout",
     "output_type": "stream",
     "text": [
      "18\tmodels/trained/tgcat/uz_tgcat.pt\r\n",
      "18\tmodels/trained/tgcat/ru_tgcat.pt\r\n",
      "18\tmodels/trained/tgcat/fa_tgcat.pt\r\n",
      "18\tmodels/trained/tgcat/en_tgcat.pt\r\n",
      "18\tmodels/trained/tgcat/ar_tgcat.pt\r\n"
     ]
    }
   ],
   "source": [
    "!du -hm models/trained/tgcat/* | sort -nr | grep -v '.dvc'"
   ]
  },
  {
   "cell_type": "code",
   "execution_count": null,
   "metadata": {},
   "outputs": [],
   "source": []
  }
 ],
 "metadata": {
  "kernelspec": {
   "display_name": "tgcat",
   "language": "python",
   "name": "tgcat"
  },
  "language_info": {
   "codemirror_mode": {
    "name": "ipython",
    "version": 3
   },
   "file_extension": ".py",
   "mimetype": "text/x-python",
   "name": "python",
   "nbconvert_exporter": "python",
   "pygments_lexer": "ipython3",
   "version": "3.7.9"
  },
  "notify_time": "10",
  "toc": {
   "base_numbering": 1,
   "nav_menu": {},
   "number_sections": true,
   "sideBar": true,
   "skip_h1_title": false,
   "title_cell": "Table of Contents",
   "title_sidebar": "Contents",
   "toc_cell": false,
   "toc_position": {
    "height": "calc(100% - 180px)",
    "left": "10px",
    "top": "150px",
    "width": "227px"
   },
   "toc_section_display": true,
   "toc_window_display": true
  }
 },
 "nbformat": 4,
 "nbformat_minor": 5
}
