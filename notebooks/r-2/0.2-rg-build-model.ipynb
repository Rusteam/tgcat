{
 "cells": [
  {
   "cell_type": "markdown",
   "metadata": {},
   "source": [
    "# Build a model to classify topics for Telegram channels\n",
    "\n",
    "**Pre-req**\n",
    "1. Download csv from gdrive with channels and save to ``data/external/telegram_channels.csv``\n",
    "2. Run ``python -m src.train.download`` to get posts and meta-data\n",
    "\n",
    "**Steps**\n",
    "1. Load data:\n",
    "    - posts from channels\n",
    "    - channel titles and descriptions\n",
    "    - channel topics\n",
    "2. Build a training dataset:\n",
    "    1. Merge\n",
    "    2. Select inputs\n",
    "    3. Split into train/val\n",
    "3. Build models:\n",
    "    1. Embed text\n",
    "    2. Train a classifier\n",
    "    3. Select best\n",
    "4. Evaluate on test data and save best"
   ]
  },
  {
   "cell_type": "code",
   "execution_count": 1,
   "metadata": {
    "ExecuteTime": {
     "end_time": "2021-04-26T16:15:46.272093Z",
     "start_time": "2021-04-26T16:15:44.359775Z"
    }
   },
   "outputs": [],
   "source": [
    "%load_ext autoreload\n",
    "%autoreload 2\n",
    "%matplotlib inline\n",
    "#standard libs\n",
    "import os, sys\n",
    "from pathlib import Path\n",
    "from pprint import pprint\n",
    "from collections import Counter\n",
    "import random\n",
    "import json\n",
    "import itertools\n",
    "from datetime import datetime as dt\n",
    "import logging\n",
    "# ds libs\n",
    "import pandas as pd\n",
    "import numpy as np\n",
    "import matplotlib.pyplot as plt\n",
    "import seaborn as sns\n",
    "from tqdm.auto import tqdm\n",
    "\n",
    "from torchtext import data\n",
    "import re\n",
    "# custom path\n",
    "os.chdir('../..')\n",
    "os.environ['KMP_DUPLICATE_LIB_OK']='True'\n"
   ]
  },
  {
   "cell_type": "code",
   "execution_count": 2,
   "metadata": {
    "ExecuteTime": {
     "end_time": "2021-04-26T16:15:46.297255Z",
     "start_time": "2021-04-26T16:15:46.273678Z"
    }
   },
   "outputs": [],
   "source": [
    "def flatten_category(labelled_data):\n",
    "    \"\"\" convert multiple labels to multiple rows \"\"\"\n",
    "    data = []\n",
    "    for i, row in tqdm(labelled_data.iterrows(), desc='rows'):\n",
    "        for t,w in row['category'].items():\n",
    "            row['topic'] = t\n",
    "            row['weight'] = w\n",
    "            data.append(row)\n",
    "    data = pd.DataFrame(data)\n",
    "    return data"
   ]
  },
  {
   "cell_type": "markdown",
   "metadata": {},
   "source": [
    "## Data prep"
   ]
  },
  {
   "cell_type": "code",
   "execution_count": 10,
   "metadata": {
    "ExecuteTime": {
     "end_time": "2021-04-26T16:18:27.600493Z",
     "start_time": "2021-04-26T16:18:27.573657Z"
    }
   },
   "outputs": [],
   "source": [
    "DATA = 'data/interim/train_data.csv'\n",
    "\n",
    "TEST_SIZE = 0.33\n",
    "TEST_SETS = ['r-1_completions', 'r-2_completions']"
   ]
  },
  {
   "cell_type": "markdown",
   "metadata": {},
   "source": [
    "### Load"
   ]
  },
  {
   "cell_type": "code",
   "execution_count": 7,
   "metadata": {
    "ExecuteTime": {
     "end_time": "2021-04-26T16:16:37.812779Z",
     "start_time": "2021-04-26T16:16:34.249562Z"
    }
   },
   "outputs": [
    {
     "name": "stdout",
     "output_type": "stream",
     "text": [
      "<class 'pandas.core.frame.DataFrame'>\n",
      "RangeIndex: 33165 entries, 0 to 33164\n",
      "Data columns (total 8 columns):\n",
      " #   Column        Non-Null Count  Dtype  \n",
      "---  ------        --------------  -----  \n",
      " 0   title         33165 non-null  object \n",
      " 1   description   33165 non-null  object \n",
      " 2   recent_posts  33165 non-null  object \n",
      " 3   lang_code     33165 non-null  object \n",
      " 4   id            1133 non-null   float64\n",
      " 5   category      33165 non-null  object \n",
      " 6   subset        33165 non-null  object \n",
      " 7   text          33165 non-null  object \n",
      "dtypes: float64(1), object(7)\n",
      "memory usage: 2.0+ MB\n"
     ]
    }
   ],
   "source": [
    "data = pd.read_csv(DATA,)\n",
    "data['description'].fillna(\"\", inplace=True)\n",
    "data['category'] = data['category'].apply(eval)\n",
    "\n",
    "data.info()"
   ]
  },
  {
   "cell_type": "code",
   "execution_count": 11,
   "metadata": {
    "ExecuteTime": {
     "end_time": "2021-04-26T16:19:23.709919Z",
     "start_time": "2021-04-26T16:19:23.686110Z"
    }
   },
   "outputs": [],
   "source": [
    "LANGS = data['lang_code'].unique()"
   ]
  },
  {
   "cell_type": "markdown",
   "metadata": {},
   "source": [
    "### Split\n",
    "\n",
    "take a percentage for testing from selected subsets"
   ]
  },
  {
   "cell_type": "code",
   "execution_count": 8,
   "metadata": {
    "ExecuteTime": {
     "end_time": "2021-04-26T16:17:03.787233Z",
     "start_time": "2021-04-26T16:17:03.750309Z"
    }
   },
   "outputs": [
    {
     "data": {
      "text/plain": [
       "tg_true            31501\n",
       "r-1_completions      691\n",
       "tg_downloads         531\n",
       "r-2_completions      442\n",
       "Name: subset, dtype: int64"
      ]
     },
     "execution_count": 8,
     "metadata": {},
     "output_type": "execute_result"
    }
   ],
   "source": [
    "data['subset'].value_counts()"
   ]
  },
  {
   "cell_type": "code",
   "execution_count": 28,
   "metadata": {
    "ExecuteTime": {
     "end_time": "2021-04-26T16:26:41.578557Z",
     "start_time": "2021-04-26T16:26:41.548337Z"
    }
   },
   "outputs": [],
   "source": [
    "rand_true = lambda test_prob: np.random.choice([True,False], p=[test_prob, 1 - test_prob])"
   ]
  },
  {
   "cell_type": "code",
   "execution_count": 29,
   "metadata": {
    "ExecuteTime": {
     "end_time": "2021-04-26T16:29:10.023868Z",
     "start_time": "2021-04-26T16:29:09.993284Z"
    }
   },
   "outputs": [],
   "source": [
    "def select_test(data, test_subsets=None,  test_size=0.3):\n",
    "    \"\"\" Return True for test set and False for train \"\"\"\n",
    "    if test_subsets is None:\n",
    "        test_subsets = data['subset'].unique().tolist()\n",
    "    is_test = data.apply(lambda x: rand_true(test_size) if x['subset'] in test_subsets else False,\n",
    "              axis=1)\n",
    "    return is_test"
   ]
  },
  {
   "cell_type": "code",
   "execution_count": 33,
   "metadata": {
    "ExecuteTime": {
     "end_time": "2021-04-26T16:30:46.609531Z",
     "start_time": "2021-04-26T16:30:46.330367Z"
    }
   },
   "outputs": [
    {
     "data": {
      "text/plain": [
       "lang_code  subset         \n",
       "ar         r-2_completions    0.312500\n",
       "en         r-1_completions    0.320988\n",
       "           r-2_completions    0.351648\n",
       "           tg_downloads       0.000000\n",
       "           tg_true            0.000000\n",
       "fa         r-2_completions    0.325581\n",
       "ru         r-1_completions    0.332425\n",
       "           r-2_completions    0.343137\n",
       "           tg_downloads       0.000000\n",
       "           tg_true            0.000000\n",
       "uz         r-2_completions    0.385542\n",
       "Name: is_test, dtype: float64"
      ]
     },
     "execution_count": 33,
     "metadata": {},
     "output_type": "execute_result"
    }
   ],
   "source": [
    "data['is_test'] = select_test(data, test_size=TEST_SIZE, test_subsets=TEST_SETS)\n",
    "\n",
    "data.groupby(['lang_code','subset'])['is_test'].mean()"
   ]
  },
  {
   "cell_type": "code",
   "execution_count": 34,
   "metadata": {
    "ExecuteTime": {
     "end_time": "2021-04-26T16:31:36.102367Z",
     "start_time": "2021-04-26T16:31:36.065578Z"
    }
   },
   "outputs": [
    {
     "name": "stdout",
     "output_type": "stream",
     "text": [
      "(32787, 9)\n",
      "(378, 9)\n"
     ]
    }
   ],
   "source": [
    "train_data = data.loc[~data['is_test']]\n",
    "\n",
    "test_data = data.loc[data['is_test']]\n",
    "\n",
    "print(train_data.shape)\n",
    "print(test_data.shape)"
   ]
  },
  {
   "cell_type": "markdown",
   "metadata": {},
   "source": [
    "### Flatten train data\n",
    "\n",
    "Create each category as a separate row, since sklearn can't handle multi-prob"
   ]
  },
  {
   "cell_type": "code",
   "execution_count": 35,
   "metadata": {
    "ExecuteTime": {
     "end_time": "2021-04-26T16:32:31.763727Z",
     "start_time": "2021-04-26T16:31:51.528837Z"
    }
   },
   "outputs": [
    {
     "data": {
      "application/vnd.jupyter.widget-view+json": {
       "model_id": "8454a376ee474067befe668868cdadca",
       "version_major": 2,
       "version_minor": 0
      },
      "text/plain": [
       "rows: 0it [00:00, ?it/s]"
      ]
     },
     "metadata": {},
     "output_type": "display_data"
    },
    {
     "data": {
      "text/plain": [
       "(68102, 11)"
      ]
     },
     "execution_count": 35,
     "metadata": {},
     "output_type": "execute_result"
    }
   ],
   "source": [
    "train_data_flat = flatten_category(train_data,)\n",
    "\n",
    "train_data_flat.shape"
   ]
  },
  {
   "cell_type": "markdown",
   "metadata": {},
   "source": [
    "### Topic distribution"
   ]
  },
  {
   "cell_type": "code",
   "execution_count": 36,
   "metadata": {
    "ExecuteTime": {
     "end_time": "2021-04-26T16:32:38.129771Z",
     "start_time": "2021-04-26T16:32:38.096679Z"
    }
   },
   "outputs": [],
   "source": [
    "from src.train.plot_utils import barplots"
   ]
  },
  {
   "cell_type": "code",
   "execution_count": 37,
   "metadata": {
    "ExecuteTime": {
     "end_time": "2021-04-26T16:32:50.513006Z",
     "start_time": "2021-04-26T16:32:47.245356Z"
    },
    "scrolled": false
   },
   "outputs": [
    {
     "name": "stdout",
     "output_type": "stream",
     "text": [
      "ru\n"
     ]
    },
    {
     "data": {
      "image/png": "[encoded data removed]",
      "text/plain": [
       "<Figure size 1008x576 with 2 Axes>"
      ]
     },
     "metadata": {
      "needs_background": "light"
     },
     "output_type": "display_data"
    },
    {
     "name": "stdout",
     "output_type": "stream",
     "text": [
      "en\n"
     ]
    },
    {
     "data": {
      "image/png": "[encoded data removed]",
      "text/plain": [
       "<Figure size 1008x576 with 2 Axes>"
      ]
     },
     "metadata": {
      "needs_background": "light"
     },
     "output_type": "display_data"
    },
    {
     "name": "stdout",
     "output_type": "stream",
     "text": [
      "fa\n"
     ]
    },
    {
     "data": {
      "image/png": "[encoded data removed]",
      "text/plain": [
       "<Figure size 1008x576 with 2 Axes>"
      ]
     },
     "metadata": {
      "needs_background": "light"
     },
     "output_type": "display_data"
    },
    {
     "name": "stdout",
     "output_type": "stream",
     "text": [
      "uz\n"
     ]
    },
    {
     "data": {
      "image/png": "[encoded data removed]",
      "text/plain": [
       "<Figure size 1008x576 with 2 Axes>"
      ]
     },
     "metadata": {
      "needs_background": "light"
     },
     "output_type": "display_data"
    },
    {
     "name": "stdout",
     "output_type": "stream",
     "text": [
      "ar\n"
     ]
    },
    {
     "data": {
      "image/png": "[encoded data removed]",
      "text/plain": [
       "<Figure size 1008x576 with 2 Axes>"
      ]
     },
     "metadata": {
      "needs_background": "light"
     },
     "output_type": "display_data"
    }
   ],
   "source": [
    "for l in train_data_flat['lang_code'].unique():\n",
    "    print(l)\n",
    "    barplots({\n",
    "        'label-studio': train_data_flat.query(f\"lang_code == '{l}'\")['topic'],\n",
    "    }, 1, 2, fig_dims=(14,8))"
   ]
  },
  {
   "cell_type": "code",
   "execution_count": 38,
   "metadata": {
    "ExecuteTime": {
     "end_time": "2021-04-26T16:32:53.892324Z",
     "start_time": "2021-04-26T16:32:53.845220Z"
    }
   },
   "outputs": [
    {
     "name": "stdout",
     "output_type": "stream",
     "text": [
      "Unique topics per language\n",
      "lang_code\n",
      "ar    17\n",
      "en    54\n",
      "fa    22\n",
      "ru    55\n",
      "uz    23\n",
      "Name: topic, dtype: int64\n"
     ]
    }
   ],
   "source": [
    "print('Unique topics per language')\n",
    "print(train_data_flat.groupby('lang_code')['topic'].nunique())"
   ]
  },
  {
   "cell_type": "markdown",
   "metadata": {},
   "source": [
    "### Load stopwords"
   ]
  },
  {
   "cell_type": "code",
   "execution_count": 39,
   "metadata": {
    "ExecuteTime": {
     "end_time": "2021-04-26T16:33:00.671558Z",
     "start_time": "2021-04-26T16:33:00.642490Z"
    }
   },
   "outputs": [],
   "source": [
    "STOPWORDS = {\n",
    "    'en': 'data/external/en_stopwords.txt',\n",
    "    'ru': 'data/external/ru_stopwords.txt',\n",
    "    'ar': 'data/external/ar_stopwords.txt'\n",
    "}"
   ]
  },
  {
   "cell_type": "code",
   "execution_count": 40,
   "metadata": {
    "ExecuteTime": {
     "end_time": "2021-04-26T16:33:00.909261Z",
     "start_time": "2021-04-26T16:33:00.875074Z"
    }
   },
   "outputs": [
    {
     "data": {
      "text/plain": [
       "734"
      ]
     },
     "execution_count": 40,
     "metadata": {},
     "output_type": "execute_result"
    }
   ],
   "source": [
    "stopwords = [Path(f).read_text().strip().split('\\n') for l,f in STOPWORDS.items()]\n",
    "\n",
    "stopwords = sum(stopwords, [])\n",
    "\n",
    "len(stopwords)"
   ]
  },
  {
   "cell_type": "markdown",
   "metadata": {},
   "source": [
    "## Experiments\n",
    "\n",
    "**Improve:**\n",
    "- [x] one common split for train and test\n",
    "- [x] don't flatten test\n",
    "- [ ] ~~cross-val when training~~\n",
    "- [x] weighted metric\n",
    "- [ ] ~~top-k accuracy metric~~\n",
    "\n",
    "**Hyper-parameters:**\n",
    "- [x] topics: primary only, primary + secondary\n",
    "- [x] inputs: title, description, posts\n",
    "- [x] preprocessing: raw, lemmas\n",
    "- [x] vectorizers: tf-idf, bow\n",
    "- [x] clf: xgb, nb, etc.\n",
    "- [ ] datasets {tg, r-1, r-2}\n",
    "- [ ] ngrams, chars vs words"
   ]
  },
  {
   "cell_type": "code",
   "execution_count": 41,
   "metadata": {
    "ExecuteTime": {
     "end_time": "2021-04-26T16:33:07.664156Z",
     "start_time": "2021-04-26T16:33:07.414989Z"
    }
   },
   "outputs": [],
   "source": [
    "from sklearn.model_selection import train_test_split\n",
    "\n",
    "from sklearn.feature_extraction.text import CountVectorizer, TfidfVectorizer\n",
    "from sklearn.multioutput import MultiOutputClassifier, ClassifierChain\n",
    "from sklearn.preprocessing import MultiLabelBinarizer, OneHotEncoder\n",
    "from sklearn.linear_model import LogisticRegression, ElasticNet\n",
    "from sklearn.ensemble import GradientBoostingClassifier, RandomForestClassifier\n",
    "from sklearn.model_selection import cross_val_score\n",
    "from sklearn.metrics import confusion_matrix, top_k_accuracy_score\n",
    "from sklearn.tree import ExtraTreeClassifier\n",
    "from sklearn.neighbors import KNeighborsClassifier\n",
    "from sklearn.svm import LinearSVC, SVC\n",
    "from sklearn.naive_bayes import ComplementNB, MultinomialNB\n",
    "\n",
    "from xgboost import XGBClassifier\n",
    "\n",
    "import itertools"
   ]
  },
  {
   "cell_type": "code",
   "execution_count": 42,
   "metadata": {
    "ExecuteTime": {
     "end_time": "2021-04-26T16:33:07.857336Z",
     "start_time": "2021-04-26T16:33:07.814220Z"
    }
   },
   "outputs": [],
   "source": [
    "from src.train.text_utils import tokenize_text"
   ]
  },
  {
   "cell_type": "code",
   "execution_count": 152,
   "metadata": {
    "ExecuteTime": {
     "end_time": "2021-04-26T18:33:20.730656Z",
     "start_time": "2021-04-26T18:33:20.690096Z"
    }
   },
   "outputs": [],
   "source": [
    "class Trainer:\n",
    "    \"\"\" prapre inputs, vectorize texts and run a classifier \"\"\"\n",
    "    def __init__(self, lang_code, preprocessing, vect, est, vect_params={}):\n",
    "        self.LANG = lang_code\n",
    "        self.train_inputs = train_data_flat.query(f\"lang_code == {lang_code!r}\").copy()\n",
    "        self.test_inputs = test_data.query(f\"lang_code == {lang_code!r}\").copy()\n",
    "        self.vect = VECTORIZERS[vect]\n",
    "        if vect_params != {}:\n",
    "            self.vect.set_params(**vect_params)\n",
    "        self.vect.preprocessor = lambda x: x\n",
    "        self.vect.lowercase = False\n",
    "        self.clf = ESTIMATORS[est]\n",
    "        assert preprocessing in ['lemma', 'raw']\n",
    "        self.preprocessing = preprocessing\n",
    "        if preprocessing == 'lemma':\n",
    "            self.vect.tokenizer = lang_lemmatizer(lang_code)\n",
    "        else:\n",
    "            self.vect.tokenizer = tokenize_text\n",
    "        \n",
    "        \n",
    "    def prepare_data(self, is_final):\n",
    "        if is_final:\n",
    "            # before saving models train on full data\n",
    "            \n",
    "        else:\n",
    "            # for research use train data for fitting and test for eval\n",
    "            self.y_train = self.train_inputs['topic']\n",
    "            self.sample_weights = self.train_inputs['weight']\n",
    "            self.X_train = self.vect.fit_transform(self.train_inputs['text'])\n",
    "            self.X_test = self.vect.transform(self.test_inputs['text'])\n",
    "        \n",
    "        \n",
    "    def run_eval(self, final=False):\n",
    "        \"\"\" prepare inputs and run clf evaluation \"\"\"\n",
    "        self.prepare_data(final)\n",
    "        # fit and eval\n",
    "        try:\n",
    "            self.clf.fit(self.X_train, self.y_train, sample_weight=self.sample_weights)\n",
    "        except TypeError as e:\n",
    "            logging.warning(e.args[0])\n",
    "            self.clf.fit(self.X_train, self.y_train)\n",
    "#         self.predictions = pd.DataFrame({\n",
    "#                     'true': trainer.test_inputs['topics'],\n",
    "#                     'predicted': trainer.clf.predict_proba(trainer.X_test)\n",
    "#                 })\n",
    "        predicted = trainer.clf.predict_proba(trainer.X_test)\n",
    "        scores = score_predictions(trainer.test_inputs['category'], predicted, self.clf.classes_)\n",
    "\n",
    "        return np.mean(scores)\n",
    "    \n",
    "\n",
    "def calc_weight_score(topic_weights, predicted_probs, classes):\n",
    "    true_weights = np.zeros(len(classes))\n",
    "    for t,w in topic_weights.items():\n",
    "        index = np.argwhere(classes == t).squeeze()\n",
    "        true_weights[index] = w\n",
    "    mae = round(sum(abs(true_weights - predicted_probs)),4)\n",
    "    return 1 / (1 + mae)\n",
    "\n",
    "\n",
    "def score_predictions(true_topics, predicted_probs, classes):\n",
    "    scores = list(map(lambda x: calc_weight_score(x[0],x[1],classes),\n",
    "                         zip(true_topics, predicted_probs)))\n",
    "    return scores"
   ]
  },
  {
   "cell_type": "markdown",
   "metadata": {},
   "source": [
    "### Set hyper-parameters"
   ]
  },
  {
   "cell_type": "code",
   "execution_count": 153,
   "metadata": {
    "ExecuteTime": {
     "end_time": "2021-04-26T18:33:23.410834Z",
     "start_time": "2021-04-26T18:33:23.382073Z"
    }
   },
   "outputs": [],
   "source": [
    "PREPROCESSING = [\n",
    "    'raw',\n",
    "#     'lemma',\n",
    "]\n",
    "\n",
    "vect_params = dict(\n",
    "    max_df=0.4, \n",
    "    min_df=3,\n",
    "    max_features=500,\n",
    "    binary=False, \n",
    "    ngram_range=(1,1), \n",
    "    tokenizer=tokenize_text,\n",
    "    stop_words=stopwords, \n",
    "    analyzer='word'\n",
    ")\n",
    "vect_space = [\n",
    "    {\n",
    "        'ngram_range': (1,1),\n",
    "        'analyzer': 'word'\n",
    "    },\n",
    "    {\n",
    "        'ngram_range': (3,5),\n",
    "        'analyzer': 'char'\n",
    "    },\n",
    "    \n",
    "]\n",
    "VECTORIZERS = {\n",
    "#     'tfidf': TfidfVectorizer(**vect_params),\n",
    "    'bow': CountVectorizer(**vect_params),\n",
    "}\n",
    "\n",
    "\n",
    "ESTIMATORS = dict(\n",
    "#     xgb = XGBClassifier(objective='multi:softmax'),\n",
    "#     forest = RandomForestClassifier(),\n",
    "#     logreg = LogisticRegression(),\n",
    "#     knn = KNeighborsClassifier(),\n",
    "#     tree = ExtraTreeClassifier(),\n",
    "#     svm = SVC(),\n",
    "#     linsvm = LinearSVC(),\n",
    "#     cnb = ComplementNB(),\n",
    "    mnb = MultinomialNB(),\n",
    ")"
   ]
  },
  {
   "cell_type": "code",
   "execution_count": 160,
   "metadata": {
    "ExecuteTime": {
     "end_time": "2021-04-26T18:34:58.220661Z",
     "start_time": "2021-04-26T18:34:58.184698Z"
    }
   },
   "outputs": [
    {
     "data": {
      "text/plain": [
       "10"
      ]
     },
     "execution_count": 160,
     "metadata": {},
     "output_type": "execute_result"
    }
   ],
   "source": [
    "\n",
    "train_params = list(itertools.product(\n",
    "    LANGS, \n",
    "    PREPROCESSING,\n",
    "    VECTORIZERS.keys(), \n",
    "    ESTIMATORS.keys(),\n",
    "    vect_space,\n",
    "))\n",
    "\n",
    "len(train_params)"
   ]
  },
  {
   "cell_type": "markdown",
   "metadata": {},
   "source": [
    "#### Test trainer"
   ]
  },
  {
   "cell_type": "code",
   "execution_count": 170,
   "metadata": {
    "ExecuteTime": {
     "end_time": "2021-04-26T18:35:27.524122Z",
     "start_time": "2021-04-26T18:35:27.378194Z"
    }
   },
   "outputs": [
    {
     "name": "stdout",
     "output_type": "stream",
     "text": [
      "0.5891993615428046\n"
     ]
    }
   ],
   "source": [
    "trainer = Trainer(\n",
    "    lang_code = 'ar', \n",
    "    preprocessing = 'raw',\n",
    "    vect = 'bow', \n",
    "    est = 'mnb',\n",
    "    vect_params={'max_features': 1001, 'min_df': 5}\n",
    ")\n",
    "s = trainer.run_eval(final=False)\n",
    "print(s)"
   ]
  },
  {
   "cell_type": "markdown",
   "metadata": {},
   "source": [
    "### Run experiments"
   ]
  },
  {
   "cell_type": "code",
   "execution_count": 171,
   "metadata": {
    "ExecuteTime": {
     "end_time": "2021-04-26T18:42:23.983134Z",
     "start_time": "2021-04-26T18:35:50.484963Z"
    },
    "scrolled": true
   },
   "outputs": [
    {
     "data": {
      "application/vnd.jupyter.widget-view+json": {
       "model_id": "7a2e499570a5442dada298a6750c0e2c",
       "version_major": 2,
       "version_minor": 0
      },
      "text/plain": [
       "# experiments:   0%|          | 0/10 [00:00<?, ?it/s]"
      ]
     },
     "metadata": {},
     "output_type": "display_data"
    }
   ],
   "source": [
    "results = []\n",
    "\n",
    "for params in tqdm(train_params, desc='# experiments'):\n",
    "    trainer = Trainer(*params)\n",
    "    score = trainer.run_eval()\n",
    "    params += (score,)\n",
    "    results.append(params)\n",
    "                \n",
    "results = pd.DataFrame(results, columns=['lang_code','preprocessing','vect', 'est', 'vect_params','score',])"
   ]
  },
  {
   "cell_type": "code",
   "execution_count": 172,
   "metadata": {
    "ExecuteTime": {
     "end_time": "2021-04-26T18:42:24.064339Z",
     "start_time": "2021-04-26T18:42:23.984455Z"
    },
    "scrolled": true
   },
   "outputs": [
    {
     "name": "stdout",
     "output_type": "stream",
     "text": [
      "|    | lang_code   | preprocessing   | vect   | est   | vect_params                                 |    score |\n",
      "|---:|:------------|:----------------|:-------|:------|:--------------------------------------------|---------:|\n",
      "|  0 | ru          | raw             | bow    | mnb   | {'ngram_range': (1, 1), 'analyzer': 'word'} | 0.640358 |\n",
      "|  1 | ru          | raw             | bow    | mnb   | {'ngram_range': (3, 5), 'analyzer': 'char'} | 0.568753 |\n",
      "\n",
      "|    | lang_code   | preprocessing   | vect   | est   | vect_params                                 |    score |\n",
      "|---:|:------------|:----------------|:-------|:------|:--------------------------------------------|---------:|\n",
      "|  2 | en          | raw             | bow    | mnb   | {'ngram_range': (1, 1), 'analyzer': 'word'} | 0.633695 |\n",
      "|  3 | en          | raw             | bow    | mnb   | {'ngram_range': (3, 5), 'analyzer': 'char'} | 0.471271 |\n",
      "\n",
      "|    | lang_code   | preprocessing   | vect   | est   | vect_params                                 |    score |\n",
      "|---:|:------------|:----------------|:-------|:------|:--------------------------------------------|---------:|\n",
      "|  4 | fa          | raw             | bow    | mnb   | {'ngram_range': (1, 1), 'analyzer': 'word'} | 0.530468 |\n",
      "|  5 | fa          | raw             | bow    | mnb   | {'ngram_range': (3, 5), 'analyzer': 'char'} | 0.517593 |\n",
      "\n",
      "|    | lang_code   | preprocessing   | vect   | est   | vect_params                                 |    score |\n",
      "|---:|:------------|:----------------|:-------|:------|:--------------------------------------------|---------:|\n",
      "|  6 | uz          | raw             | bow    | mnb   | {'ngram_range': (1, 1), 'analyzer': 'word'} | 0.504274 |\n",
      "|  7 | uz          | raw             | bow    | mnb   | {'ngram_range': (3, 5), 'analyzer': 'char'} | 0.440856 |\n",
      "\n",
      "|    | lang_code   | preprocessing   | vect   | est   | vect_params                                 |    score |\n",
      "|---:|:------------|:----------------|:-------|:------|:--------------------------------------------|---------:|\n",
      "|  8 | ar          | raw             | bow    | mnb   | {'ngram_range': (1, 1), 'analyzer': 'word'} | 0.589199 |\n",
      "|  9 | ar          | raw             | bow    | mnb   | {'ngram_range': (3, 5), 'analyzer': 'char'} | 0.564679 |\n",
      "\n"
     ]
    }
   ],
   "source": [
    "for l in results['lang_code'].unique():\n",
    "    print(results.query(f'lang_code == \"{l}\"').sort_values('score', ascending=False).to_markdown(), end='\\n\\n')"
   ]
  },
  {
   "cell_type": "markdown",
   "metadata": {
    "heading_collapsed": true
   },
   "source": [
    "### Review errors"
   ]
  },
  {
   "cell_type": "markdown",
   "metadata": {
    "hidden": true
   },
   "source": [
    "#### Train"
   ]
  },
  {
   "cell_type": "code",
   "execution_count": 173,
   "metadata": {
    "ExecuteTime": {
     "end_time": "2021-04-26T18:43:50.187473Z",
     "start_time": "2021-04-26T18:43:49.602590Z"
    },
    "hidden": true
   },
   "outputs": [
    {
     "name": "stdout",
     "output_type": "stream",
     "text": [
      "0.5646792225001015\n"
     ]
    }
   ],
   "source": [
    "trainer = Trainer(\n",
    "    lang_code = 'ar', \n",
    "    preprocessing = 'raw',\n",
    "    vect = 'bow', \n",
    "    est = 'mnb'\n",
    ")\n",
    "s = trainer.run_eval(final=False)\n",
    "print(s)"
   ]
  },
  {
   "cell_type": "code",
   "execution_count": 174,
   "metadata": {
    "ExecuteTime": {
     "end_time": "2021-04-26T18:43:50.910446Z",
     "start_time": "2021-04-26T18:43:50.880155Z"
    },
    "hidden": true
   },
   "outputs": [],
   "source": [
    "test_pred = trainer.clf.predict_proba(trainer.X_test)\n",
    "\n",
    "# is_wrong = test_pred != trainer.y_test\n",
    "\n",
    "errors = trainer.test_inputs.copy()\n",
    "\n",
    "errors['score'] = score_predictions(errors['category'], test_pred, trainer.clf.classes_)"
   ]
  },
  {
   "cell_type": "markdown",
   "metadata": {
    "hidden": true
   },
   "source": [
    "#### random examples"
   ]
  },
  {
   "cell_type": "code",
   "execution_count": 175,
   "metadata": {
    "ExecuteTime": {
     "end_time": "2021-04-26T18:43:55.187036Z",
     "start_time": "2021-04-26T18:43:55.162311Z"
    },
    "hidden": true
   },
   "outputs": [],
   "source": [
    "def get_top_classes(probs, classes):\n",
    "    top_inds = np.argwhere(probs > probs.mean()).squeeze(1)\n",
    "    return Counter({classes[i]:probs[i] for i in top_inds})"
   ]
  },
  {
   "cell_type": "code",
   "execution_count": 183,
   "metadata": {
    "ExecuteTime": {
     "end_time": "2021-04-26T18:44:22.100428Z",
     "start_time": "2021-04-26T18:44:22.066779Z"
    },
    "hidden": true,
    "scrolled": true
   },
   "outputs": [
    {
     "name": "stdout",
     "output_type": "stream",
     "text": [
      "MAE:\n",
      " 0.35294532876857376\n",
      "\n",
      "TRUE:\n",
      " {'Motivation & Self-development': 0.5, 'Art & Design': 0.16666666666666666, 'Hobbies & Activities': 0.16666666666666666, 'Music': 0.16666666666666666}\n",
      "\n",
      "PREDICTED:\n",
      " Counter({'Humor & Memes': 0.9999912932654985})\n",
      "\n",
      "TEXTS:\n",
      " اقفوبكك\n",
      "تغانمو الوصّل دام الارواح حيه⚚‏\n",
      "        شمال سيناء 𓅔\n",
      "قناة [الخمّايل] المعروفه متذوقه للقصيد تضع مايروق لها في قناتها بـ قصائدها الجزله وصور تختلف عن باقي القنوات أنضمو لها تستاهل🤍.\n",
      "https://t.me/lvza54\n",
      "قناة [الخمّايل] المعروفه متذوقه للقصيد تضع مايروق لها في قناتها بـ قصائدها الجزله وصور تختلف عن باقي القنوات أنضمو لها تستاهل🤍.\n",
      "https://t.me/lvza54\n",
      "__\n",
      "فمان الله ياروح الغرام اللي نويت أنساه \n",
      "فمان الله يابسمة شقايّ وجرحي الدامي\n",
      "ٰ             - ابن فطيس : \n",
      "قللبي الا منننـه شرا قلب ماببااع\n",
      "وانت الله الله فيه والعمر موقوت.\n",
      "\n"
     ]
    }
   ],
   "source": [
    "i = random.randint(0, len(errors)-1)\n",
    "row = errors.iloc[i]\n",
    "pred = get_top_classes(test_pred[i], trainer.clf.classes_)\n",
    "\n",
    "# print('PREDICTED:\\n', row['predicted'], end='\\n\\n')\n",
    "print('MAE:\\n', row['score'], end='\\n\\n')\n",
    "print('TRUE:\\n', row['category'], end='\\n\\n')\n",
    "print('PREDICTED:\\n', pred, end='\\n\\n')\n",
    "print('TEXTS:\\n', row['text'], end='\\n\\n')\n",
    "# print(f'TITLE ({row[\"id\"]}):\\n', row['title'], end='\\n\\n')\n",
    "# print('DESCRIPTION:\\n', row['description'], end='\\n\\n')"
   ]
  },
  {
   "cell_type": "raw",
   "metadata": {
    "ExecuteTime": {
     "end_time": "2021-04-22T18:47:30.144553Z",
     "start_time": "2021-04-22T18:47:30.112032Z"
    },
    "code_folding": [],
    "hidden": true
   },
   "source": [
    "def get_topic_features(nb_clf, class_label, top_n=15):\n",
    "    \"\"\" get features with largest log prob for the given class \"\"\"\n",
    "    class_i = np.argwhere(nb_clf.classes_ == class_label).squeeze()\n",
    "    class_coef = nb_clf.feature_log_prob_[class_i]\n",
    "    top_inds = np.argsort(class_coef)[-top_n:]\n",
    "    return top_inds"
   ]
  },
  {
   "cell_type": "raw",
   "metadata": {
    "ExecuteTime": {
     "end_time": "2021-04-22T18:47:30.414490Z",
     "start_time": "2021-04-22T18:47:30.361117Z"
    },
    "hidden": true,
    "scrolled": true
   },
   "source": [
    "FEATURES = trainer.vect.get_feature_names()\n",
    "PREDICTED_INDEX = np.argwhere(trainer.clf.classes_ == row['predicted']).squeeze()\n",
    "\n",
    "# get top features that triggered prediction\n",
    "x = trainer.vect.transform([row['text']]).toarray()[0]\n",
    "f = ( trainer.clf.feature_log_prob_ * x.T)[PREDICTED_INDEX]\n",
    "top_keywords = [FEATURES[i] for i in np.argsort(f)[::-1][:15]]\n",
    "\n",
    "\n",
    "true_inds = get_topic_features(trainer.clf, row['topic'],)\n",
    "true_keywords = [FEATURES[i] for i in true_inds]\n",
    "\n",
    "predicted_inds = get_topic_features(trainer.clf, row['predicted'],)\n",
    "predicted_keywords = [FEATURES[i] for i in predicted_inds]\n",
    "\n",
    "\n",
    "print('TRUE CLASS: ', row['topic'])\n",
    "print(true_keywords, end='\\n\\n')\n",
    "print(f'PREDICTED CLASS: {row[\"predicted\"]}')\n",
    "print(predicted_keywords, end='\\n\\n')\n",
    "print('EXAMPLE')\n",
    "print(top_keywords)"
   ]
  },
  {
   "cell_type": "markdown",
   "metadata": {
    "hidden": true
   },
   "source": [
    "#### Fixes"
   ]
  },
  {
   "cell_type": "markdown",
   "metadata": {
    "hidden": true
   },
   "source": [
    "**fixes**\n",
    "- [ ] update stopwords\n",
    "- [x] lemmas\n",
    "- [x] remove single char terms\n",
    "- [x] compare feature keywords against topic keywords\n",
    "- [x] multi-class problem\n",
    "- [x] only eng and rus chars\n",
    "- [x] measure accuracy with top N predictions\n",
    "- [x] use full data to train last\n",
    "- [ ] sample weights for secondary\n",
    "- [ ] bow to torchscript\n",
    "- [x] apply sum normalization only then min prob threshold\n",
    "- [x] fix when nothing predicted (add zero vectors as Other)\n",
    "- [x] remove URL for lang detection"
   ]
  },
  {
   "cell_type": "markdown",
   "metadata": {},
   "source": [
    "## Save models"
   ]
  },
  {
   "cell_type": "code",
   "execution_count": 184,
   "metadata": {
    "ExecuteTime": {
     "end_time": "2021-04-26T18:44:53.821225Z",
     "start_time": "2021-04-26T18:44:53.795732Z"
    }
   },
   "outputs": [],
   "source": [
    "from torch import nn\n",
    "import torch\n",
    "from torch.nn import functional as F\n",
    "from typing import Dict, List, Tuple"
   ]
  },
  {
   "cell_type": "code",
   "execution_count": 185,
   "metadata": {
    "ExecuteTime": {
     "end_time": "2021-04-26T18:44:54.162110Z",
     "start_time": "2021-04-26T18:44:54.121591Z"
    },
    "code_folding": [
     0,
     24,
     73,
     100,
     106
    ]
   },
   "outputs": [],
   "source": [
    "class NaiveBayes(nn.Module):\n",
    "    \"\"\" Implement Multinomial and Complement NB inference \"\"\"\n",
    "    def __init__(self, nb, clf,):\n",
    "        super().__init__()\n",
    "        assert nb in ['cnb','mnb']\n",
    "        self.nb = nb\n",
    "        self.feature_log_prior = nn.Parameter(torch.tensor(clf.feature_log_prob_), requires_grad=False)\n",
    "        self.class_log_prior = nn.Parameter(torch.tensor(clf.class_log_prior_), requires_grad=False)\n",
    "        self.class_labels = clf.classes_.tolist()\n",
    "        \n",
    "\n",
    "    def forward(self, x: torch.Tensor) -> torch.Tensor:\n",
    "        jll = torch.matmul(x.double(), self.feature_log_prior.T)\n",
    "        if self.nb == 'cnb':\n",
    "            if self.class_log_prior.size(0) == 1:\n",
    "                jll += self.class_log_prior\n",
    "        else:\n",
    "            jll += self.class_log_prior\n",
    "        log_prob = torch.logsumexp(jll, dim=1)\n",
    "        log_prob = jll - torch.atleast_2d(log_prob).T\n",
    "        prob = torch.exp(log_prob)\n",
    "        return prob\n",
    "\n",
    "\n",
    "class TextVectorizer(nn.Module):\n",
    "    \"\"\" vectorize text using tf-idf or bow \"\"\"\n",
    "    def __init__(self, vect, vectorizer):\n",
    "        super().__init__()\n",
    "        assert vect in ['bow','tfidf']\n",
    "        self.vocab = {k: torch.tensor(v) for k,v in vectorizer.vocabulary_.items()}\n",
    "        self.vocab_len = len(self.vocab)\n",
    "        if vect == 'tfidf':\n",
    "            self.idf_diag = nn.Parameter(\n",
    "                torch.tensor(vectorizer._tfidf._idf_diag.toarray()), \n",
    "                requires_grad=False)\n",
    "            self.sublinear_tf = vectorizer.sublinear_tf\n",
    "            self.norm = vectorizer.norm\n",
    "            self.use_idf = vectorizer.use_idf\n",
    "        else:\n",
    "            self.idf_diag = nn.Parameter(torch.eye(self.vocab_len))\n",
    "            self.sublinear_tf = False\n",
    "            self.norm = None\n",
    "            self.use_idf = False\n",
    "            \n",
    "        \n",
    "\n",
    "    def count_vocab(self, doc: List[str]) -> torch.Tensor:\n",
    "        \"\"\" return counts of each word from the vocab \"\"\"\n",
    "        feature_counter = torch.zeros(self.vocab_len, dtype=torch.long)\n",
    "        for feature in doc:\n",
    "            n = self.vocab.get(str(feature), torch.tensor(-1))\n",
    "            if n.item() != -1:\n",
    "                feature_idx = self.vocab[str(feature)]\n",
    "                feature_counter[feature_idx] += 1\n",
    "        return feature_counter\n",
    "        \n",
    "        \n",
    "    def forward(self, batch: List[List[str]]) -> torch.Tensor:\n",
    "        doc_counts: List[torch.Tensor] = [self.count_vocab(doc) for doc in batch]\n",
    "        X = torch.stack(doc_counts,)\n",
    "        if self.sublinear_tf:\n",
    "            X = torch.log(X.double())\n",
    "            X += 1\n",
    "        if self.use_idf:\n",
    "            X = torch.matmul(X.double(), self.idf_diag)\n",
    "        if self.norm is not None:\n",
    "            p = float(self.norm[-1])\n",
    "            X = F.normalize(X.double(), p=p, dim=1)\n",
    "        return X\n",
    "    \n",
    "\n",
    "class TgCat(nn.Module):\n",
    "    \"\"\" vectorize input texts, classfy topics and decode predictions \"\"\"\n",
    "    def __init__(self, vect, clf, top_k=3,):\n",
    "        super().__init__()\n",
    "        self.vect = vect\n",
    "        self.clf = clf\n",
    "        self.top_k = top_k\n",
    "        \n",
    "        \n",
    "    def select_top_classes(self, probs: torch.Tensor) -> Dict[str,float]:\n",
    "        \"\"\" select classes with at least min prob and return a normalized dict mapping \"\"\"\n",
    "        if self.clf.nb == 'cnb':\n",
    "            if probs.std(0) < 0.0001:\n",
    "                return {\"Other\": 1.0}\n",
    "        else:\n",
    "            if probs.max() < 0.1:\n",
    "                return {\"Other\": 1.0}\n",
    "        inds_desc = torch.argsort(probs, 0, descending=True)\n",
    "        top_k = min((probs > probs.mean()).sum(), torch.tensor(self.top_k))\n",
    "        target_i = inds_desc[:top_k]\n",
    "        target_p = probs[target_i]\n",
    "        target_p = target_p / target_p.sum()\n",
    "        result: List[Tuple[str, float]] = [\n",
    "            (self.clf.class_labels[target_i[i].item()], target_p[i].item())\n",
    "            for i in range(target_p.size(0))\n",
    "        ]\n",
    "        return dict(result)\n",
    "    \n",
    "    \n",
    "    def get_prob(self, batch: List[List[str]]) -> torch.Tensor:\n",
    "        embeddings = self.vect(batch)\n",
    "        probs = self.clf(embeddings)\n",
    "        return probs\n",
    "        \n",
    "    \n",
    "    def forward(self, batch: List[List[str]]) -> List[Dict[str, float]]:\n",
    "        probs = self.get_prob(batch)\n",
    "        top_predictions = [self.select_top_classes(probs[i]) for i in range(probs.size(0))]\n",
    "        return top_predictions"
   ]
  },
  {
   "cell_type": "markdown",
   "metadata": {},
   "source": [
    "### Test"
   ]
  },
  {
   "cell_type": "code",
   "execution_count": 201,
   "metadata": {
    "ExecuteTime": {
     "end_time": "2021-04-26T18:48:52.341808Z",
     "start_time": "2021-04-26T18:48:51.679397Z"
    }
   },
   "outputs": [],
   "source": [
    "V = 'bow'\n",
    "E = 'mnb'\n",
    "L = 'uz'\n",
    "\n",
    "trainer = Trainer(\n",
    "    lang_code = L, \n",
    "    preprocessing = 'raw',\n",
    "    vect = V, \n",
    "    est = E,\n",
    ")\n",
    "_ = trainer.run_eval(final=False)\n",
    "\n",
    "tgcat = TgCat(TextVectorizer(V, trainer.vect), NaiveBayes(E, trainer.clf), top_k=3)"
   ]
  },
  {
   "cell_type": "code",
   "execution_count": 202,
   "metadata": {
    "ExecuteTime": {
     "end_time": "2021-04-26T18:48:52.427139Z",
     "start_time": "2021-04-26T18:48:52.343375Z"
    }
   },
   "outputs": [],
   "source": [
    "\n",
    "batch = trainer.test_inputs['text'].apply(tokenize_text).tolist()\n",
    "\n",
    "predictions = tgcat(batch)"
   ]
  },
  {
   "cell_type": "code",
   "execution_count": 203,
   "metadata": {
    "ExecuteTime": {
     "end_time": "2021-04-26T18:48:52.486390Z",
     "start_time": "2021-04-26T18:48:52.428733Z"
    }
   },
   "outputs": [],
   "source": [
    "v = tgcat.vect(batch)\n",
    "p = tgcat.clf(v)"
   ]
  },
  {
   "cell_type": "code",
   "execution_count": 204,
   "metadata": {
    "ExecuteTime": {
     "end_time": "2021-04-26T18:48:52.716683Z",
     "start_time": "2021-04-26T18:48:52.685238Z"
    }
   },
   "outputs": [
    {
     "data": {
      "text/plain": [
       "[{'Offers & Promotions': 0.358974358974359,\n",
       "  'Sports': 0.3205128205128205,\n",
       "  'Religion & Spirituality': 0.3205128205128205},\n",
       " {'Offers & Promotions': 0.358974358974359,\n",
       "  'Sports': 0.3205128205128205,\n",
       "  'Religion & Spirituality': 0.3205128205128205},\n",
       " {'Offers & Promotions': 0.358974358974359,\n",
       "  'Sports': 0.3205128205128205,\n",
       "  'Religion & Spirituality': 0.3205128205128205},\n",
       " {'Offers & Promotions': 0.358974358974359,\n",
       "  'Sports': 0.3205128205128205,\n",
       "  'Religion & Spirituality': 0.3205128205128205}]"
      ]
     },
     "execution_count": 204,
     "metadata": {},
     "output_type": "execute_result"
    }
   ],
   "source": [
    "tgcat([['a','s','d'], [\"\"], [\"other\", 'other', 'ttt'], [\"чгк\", \"нияег\", \"его\"]])"
   ]
  },
  {
   "cell_type": "code",
   "execution_count": 207,
   "metadata": {
    "ExecuteTime": {
     "end_time": "2021-04-26T18:49:05.211480Z",
     "start_time": "2021-04-26T18:49:05.180272Z"
    },
    "scrolled": true
   },
   "outputs": [
    {
     "name": "stdout",
     "output_type": "stream",
     "text": [
      "PREDICTED {'Humor & Memes': 1.0}\n",
      "\n",
      "TOKENS ['dunyozoda', 'rasmiy', 'kiramiz', 'davay', 'me', 'dunyozoda', 'tik', 'tok', 'kirib', 'fikrizni', 'bildiring']\n"
     ]
    }
   ],
   "source": [
    "i = random.randint(0, len(batch) - 1)\n",
    "\n",
    "print('PREDICTED', predictions[i], end='\\n\\n')\n",
    "print('TOKENS', batch[i])"
   ]
  },
  {
   "cell_type": "markdown",
   "metadata": {},
   "source": [
    "### Final training, convert and save"
   ]
  },
  {
   "cell_type": "code",
   "execution_count": 208,
   "metadata": {
    "ExecuteTime": {
     "end_time": "2021-04-26T18:49:11.676347Z",
     "start_time": "2021-04-26T18:49:11.643636Z"
    }
   },
   "outputs": [],
   "source": [
    "from sklearn.preprocessing import normalize"
   ]
  },
  {
   "cell_type": "code",
   "execution_count": 209,
   "metadata": {
    "ExecuteTime": {
     "end_time": "2021-04-26T18:49:12.283212Z",
     "start_time": "2021-04-26T18:49:12.250597Z"
    }
   },
   "outputs": [],
   "source": [
    "prediction_params = {\n",
    "    'top_k': 3\n",
    "}"
   ]
  },
  {
   "cell_type": "code",
   "execution_count": 210,
   "metadata": {
    "ExecuteTime": {
     "end_time": "2021-04-26T18:50:10.835415Z",
     "start_time": "2021-04-26T18:49:21.350033Z"
    },
    "code_folding": []
   },
   "outputs": [
    {
     "name": "stdout",
     "output_type": "stream",
     "text": [
      "ru best {'lang_code': 'ru', 'preprocessing': 'raw', 'vect': 'bow', 'est': 'mnb', 'vect_params': {'ngram_range': (1, 1), 'analyzer': 'word'}, 'score': 0.6403583648437308}\n",
      "ru 0.6403583648437308\n",
      "saved to models/trained/tgcat/ru_tgcat.pt\n",
      "en best {'lang_code': 'en', 'preprocessing': 'raw', 'vect': 'bow', 'est': 'mnb', 'vect_params': {'ngram_range': (1, 1), 'analyzer': 'word'}, 'score': 0.6336953947275061}\n",
      "en 0.6336953947275061\n",
      "saved to models/trained/tgcat/en_tgcat.pt\n",
      "fa best {'lang_code': 'fa', 'preprocessing': 'raw', 'vect': 'bow', 'est': 'mnb', 'vect_params': {'ngram_range': (1, 1), 'analyzer': 'word'}, 'score': 0.5304678669844852}\n",
      "fa 0.5304678669844852\n",
      "saved to models/trained/tgcat/fa_tgcat.pt\n",
      "uz best {'lang_code': 'uz', 'preprocessing': 'raw', 'vect': 'bow', 'est': 'mnb', 'vect_params': {'ngram_range': (1, 1), 'analyzer': 'word'}, 'score': 0.5042743097304478}\n",
      "uz 0.5042743097304478\n",
      "saved to models/trained/tgcat/uz_tgcat.pt\n",
      "ar best {'lang_code': 'ar', 'preprocessing': 'raw', 'vect': 'bow', 'est': 'mnb', 'vect_params': {'ngram_range': (1, 1), 'analyzer': 'word'}, 'score': 0.5891993615428046}\n",
      "ar 0.5891993615428046\n",
      "saved to models/trained/tgcat/ar_tgcat.pt\n"
     ]
    }
   ],
   "source": [
    "for l in results['lang_code'].unique():\n",
    "    subset = results.query(f\"lang_code == '{l}'\")\n",
    "    best_id = subset['score'].idxmax()\n",
    "    best_params = subset.loc[best_id].to_dict()\n",
    "    print(l, 'best', best_params)\n",
    "    del best_params['score']\n",
    "    # for last training increase train by test\n",
    "    trainer = Trainer(**best_params)\n",
    "    s = trainer.run_eval(final=True)\n",
    "    print(l, s)\n",
    "    # save text vectorizer\n",
    "    vect_scripted = torch.jit.script(TextVectorizer(best_params['vect'], trainer.vect), )\n",
    "    tokenizer = tokenize_text if best_params['preprocessing'] == 'raw' else lang_lemmatizer(l)\n",
    "    batch = trainer.test_inputs['text'].apply(tokenizer).tolist()\n",
    "    vect_out = vect_scripted(batch)\n",
    "    src_vects = trainer.X_test.toarray()\n",
    "    assert np.allclose(src_vects, vect_out.numpy())\n",
    "    vect_scripted.save(f\"models/trained/embed/{l}_{best_params['vect']}_script.pt\")\n",
    "    # save classifier\n",
    "    nb_scripted  = torch.jit.script(NaiveBayes(best_params['est'], trainer.clf))\n",
    "    nb_out = nb_scripted(torch.tensor(trainer.X_test.toarray(), dtype=torch.double))\n",
    "    assert np.allclose(trainer.clf.predict_proba(trainer.X_test), nb_out.numpy())\n",
    "    nb_scripted.save(f\"models/trained/classify/{l}_{best_params['est']}_script.pt\")\n",
    "    # save tgcat\n",
    "    tgcat = torch.jit.script(TgCat(vect_scripted, nb_scripted, **prediction_params))\n",
    "    path = f'models/trained/tgcat/{l}_tgcat.pt'\n",
    "    torch.jit.save(tgcat, path)\n",
    "    print('saved to', path)"
   ]
  },
  {
   "cell_type": "markdown",
   "metadata": {},
   "source": [
    "### Check file sizes"
   ]
  },
  {
   "cell_type": "code",
   "execution_count": 211,
   "metadata": {
    "ExecuteTime": {
     "end_time": "2021-04-26T18:50:17.579108Z",
     "start_time": "2021-04-26T18:50:16.775869Z"
    }
   },
   "outputs": [
    {
     "name": "stdout",
     "output_type": "stream",
     "text": [
      "9\tmodels/trained/embed/uz_tfidf_script.pt\r\n",
      "9\tmodels/trained/embed/ru_tfidf_script.pt\r\n",
      "9\tmodels/trained/embed/fa_tfidf_script.pt\r\n",
      "9\tmodels/trained/embed/en_tfidf_script.pt\r\n",
      "9\tmodels/trained/embed/ar_tfidf_script.pt\r\n",
      "6\tmodels/trained/tgcat/ru_tgcat.pt\r\n",
      "6\tmodels/trained/tgcat/fa_tgcat.pt\r\n",
      "6\tmodels/trained/tgcat/en_tgcat.pt\r\n",
      "6\tmodels/trained/embed/ru_bow_script.pt\r\n",
      "6\tmodels/trained/embed/en_bow_script.pt\r\n",
      "5\tmodels/trained/embed/fa_bow_script.pt\r\n",
      "1\tmodels/trained/tgcat/uz_tgcat.pt.dvc\r\n",
      "1\tmodels/trained/tgcat/uz_tgcat.pt\r\n",
      "1\tmodels/trained/tgcat/ru_tgcat.pt.dvc\r\n",
      "1\tmodels/trained/tgcat/fa_tgcat.pt.dvc\r\n",
      "1\tmodels/trained/tgcat/en_tgcat.pt.dvc\r\n",
      "1\tmodels/trained/tgcat/ar_tgcat.pt.dvc\r\n",
      "1\tmodels/trained/tgcat/ar_tgcat.pt\r\n",
      "1\tmodels/trained/embed/uz_bow_script.pt\r\n",
      "1\tmodels/trained/embed/ru_bow.txt\r\n",
      "1\tmodels/trained/embed/ar_bow_script.pt\r\n",
      "1\tmodels/trained/classify/uz_mnb_script.pt\r\n",
      "1\tmodels/trained/classify/uz_cnb_script.pt\r\n",
      "1\tmodels/trained/classify/ru_mnb_script.pt\r\n",
      "1\tmodels/trained/classify/ru_cnb_script.pt\r\n",
      "1\tmodels/trained/classify/fa_mnb_script.pt\r\n",
      "1\tmodels/trained/classify/fa_cnb_script.pt\r\n",
      "1\tmodels/trained/classify/en_mnb_script.pt\r\n",
      "1\tmodels/trained/classify/en_cnb_script.pt\r\n",
      "1\tmodels/trained/classify/ar_mnb_script.pt\r\n",
      "1\tmodels/trained/classify/ar_cnb_script.pt\r\n"
     ]
    }
   ],
   "source": [
    "!du -hm models/trained/*/* | sort -nr"
   ]
  },
  {
   "cell_type": "code",
   "execution_count": null,
   "metadata": {},
   "outputs": [],
   "source": []
  }
 ],
 "metadata": {
  "kernelspec": {
   "display_name": "tgcat",
   "language": "python",
   "name": "tgcat"
  },
  "language_info": {
   "codemirror_mode": {
    "name": "ipython",
    "version": 3
   },
   "file_extension": ".py",
   "mimetype": "text/x-python",
   "name": "python",
   "nbconvert_exporter": "python",
   "pygments_lexer": "ipython3",
   "version": "3.7.9"
  },
  "notify_time": "10",
  "toc": {
   "base_numbering": 1,
   "nav_menu": {},
   "number_sections": true,
   "sideBar": true,
   "skip_h1_title": false,
   "title_cell": "Table of Contents",
   "title_sidebar": "Contents",
   "toc_cell": false,
   "toc_position": {
    "height": "calc(100% - 180px)",
    "left": "10px",
    "top": "150px",
    "width": "227px"
   },
   "toc_section_display": true,
   "toc_window_display": true
  }
 },
 "nbformat": 4,
 "nbformat_minor": 5
}
