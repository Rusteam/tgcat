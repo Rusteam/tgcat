{
 "cells": [
  {
   "cell_type": "markdown",
   "id": "adolescent-private",
   "metadata": {},
   "source": [
    "# Build a model to classify topics for Telegram channels\n",
    "\n",
    "**Pre-req**\n",
    "1. Download csv from gdrive with channels and save to ``data/external/telegram_channels.csv``\n",
    "2. Run ``python -m src.train.download`` to get posts and meta-data\n",
    "\n",
    "**Steps**\n",
    "1. Load data:\n",
    "    - posts from channels\n",
    "    - channel titles and descriptions\n",
    "    - channel topics\n",
    "2. Build a training dataset:\n",
    "    1. Merge\n",
    "    2. Select inputs\n",
    "    3. Split into train/val\n",
    "3. Build models:\n",
    "    1. Embed text\n",
    "    2. Train a classifier\n",
    "    3. Select best\n",
    "4. Evaluate on test data and save best"
   ]
  },
  {
   "cell_type": "code",
   "execution_count": 4,
   "id": "chronic-detroit",
   "metadata": {
    "ExecuteTime": {
     "end_time": "2021-02-14T16:13:36.977981Z",
     "start_time": "2021-02-14T16:13:35.366990Z"
    }
   },
   "outputs": [
    {
     "name": "stderr",
     "output_type": "stream",
     "text": [
      "/Users/rustem.galiullin/opt/miniconda3/envs/tgwebapp/lib/python3.10/site-packages/tqdm/auto.py:21: TqdmWarning: IProgress not found. Please update jupyter and ipywidgets. See https://ipywidgets.readthedocs.io/en/stable/user_install.html\n",
      "  from .autonotebook import tqdm as notebook_tqdm\n"
     ]
    }
   ],
   "source": [
    "%load_ext autoreload\n",
    "%autoreload 2\n",
    "%matplotlib inline\n",
    "#standard libs\n",
    "import os, sys\n",
    "from pathlib import Path\n",
    "from pprint import pprint\n",
    "from collections import Counter\n",
    "import random\n",
    "import json\n",
    "import itertools\n",
    "from datetime import datetime as dt\n",
    "\n",
    "# ds libs\n",
    "import pandas as pd\n",
    "import numpy as np\n",
    "import matplotlib.pyplot as plt\n",
    "import seaborn as sns\n",
    "from tqdm.auto import tqdm, notebook_tqdm\n",
    "\n",
    "from torchtext import data\n",
    "import re\n"
   ]
  },
  {
   "cell_type": "code",
   "execution_count": 5,
   "id": "181b7e72",
   "metadata": {},
   "outputs": [],
   "source": [
    "# custom path\n",
    "os.chdir('..')\n",
    "os.environ['KMP_DUPLICATE_LIB_OK']='True'\n"
   ]
  },
  {
   "cell_type": "code",
   "execution_count": 6,
   "id": "9df2295e",
   "metadata": {},
   "outputs": [],
   "source": [
    "VOCAB = None  #\"./notebooks/vocabulary.txt\"\n",
    "EXTRA_VOCAB = \"./data/raw/vocabulary/\"\n",
    "FILTER_VOCAB_CHARS = False\n",
    "WITH_VOCAB = True\n",
    "\n",
    "SPE_TOKENIZER = \"./models/trained/tglang_spe_unigram_10000.model\"\n",
    "\n",
    "USE_SPE = False\n",
    "\n",
    "USE_ONMT = True\n",
    "ONMT_MODE = \"conservative\"\n",
    "\n",
    "TRAIN_DATA = \"./data/processed/tglang_train.csv\"\n",
    "TEST_DATA = \"./data/processed/tglang_test.csv\""
   ]
  },
  {
   "cell_type": "code",
   "execution_count": 7,
   "id": "e91cc1cb",
   "metadata": {},
   "outputs": [
    {
     "data": {
      "text/plain": [
       "29"
      ]
     },
     "execution_count": 7,
     "metadata": {},
     "output_type": "execute_result"
    }
   ],
   "source": [
    "LANG_ENUM = Path(\"./src/tglang/langs_enum_r2.txt\").read_text().strip().split('\\n')\n",
    "LANG_ENUM = [l.strip() for l in LANG_ENUM]\n",
    "\n",
    "label2id = {l:i for i, l in enumerate(LANG_ENUM)}\n",
    "id2label = {i:l for l, i in label2id.items()}\n",
    "\n",
    "len(LANG_ENUM)"
   ]
  },
  {
   "cell_type": "markdown",
   "id": "d48a2727",
   "metadata": {},
   "source": [
    "## Text prep"
   ]
  },
  {
   "cell_type": "code",
   "execution_count": 8,
   "id": "506bca54",
   "metadata": {},
   "outputs": [],
   "source": [
    "from collections import Counter"
   ]
  },
  {
   "cell_type": "markdown",
   "id": "679c734d",
   "metadata": {},
   "source": [
    "### Load data"
   ]
  },
  {
   "cell_type": "code",
   "execution_count": 9,
   "id": "e83304cc",
   "metadata": {},
   "outputs": [
    {
     "name": "stdout",
     "output_type": "stream",
     "text": [
      "<class 'pandas.core.frame.DataFrame'>\n",
      "Index: 33449 entries, 0 to 33449\n",
      "Data columns (total 5 columns):\n",
      " #   Column     Non-Null Count  Dtype \n",
      "---  ------     --------------  ----- \n",
      " 0   content    33449 non-null  object\n",
      " 1   lang       33449 non-null  object\n",
      " 2   num_chars  33449 non-null  int64 \n",
      " 3   num_lines  33449 non-null  int64 \n",
      " 4   file       33449 non-null  object\n",
      "dtypes: int64(2), object(3)\n",
      "memory usage: 1.5+ MB\n"
     ]
    }
   ],
   "source": [
    "thestack = pd.read_csv(TRAIN_DATA)\n",
    "thestack = thestack.loc[~thestack[\"content\"].isna()]\n",
    "thestack[\"content\"] = thestack[\"content\"].astype(str)\n",
    "thestack[\"lang\"] = thestack[\"lang\"].astype(str)\n",
    "\n",
    "thestack.info()"
   ]
  },
  {
   "cell_type": "code",
   "execution_count": 10,
   "id": "4e95fdb4",
   "metadata": {},
   "outputs": [
    {
     "name": "stdout",
     "output_type": "stream",
     "text": [
      "<class 'pandas.core.frame.DataFrame'>\n",
      "Index: 986 entries, 0 to 985\n",
      "Data columns (total 5 columns):\n",
      " #   Column     Non-Null Count  Dtype \n",
      "---  ------     --------------  ----- \n",
      " 0   content    986 non-null    object\n",
      " 1   lang       986 non-null    object\n",
      " 2   num_chars  986 non-null    int64 \n",
      " 3   num_lines  986 non-null    int64 \n",
      " 4   file       986 non-null    object\n",
      "dtypes: int64(2), object(3)\n",
      "memory usage: 46.2+ KB\n"
     ]
    }
   ],
   "source": [
    "test_set = pd.read_csv(TEST_DATA)\n",
    "test_set = test_set.loc[~test_set[\"content\"].isna()]\n",
    "test_set[\"content\"] = test_set[\"content\"].astype(str)\n",
    "test_set[\"lang\"] = test_set[\"lang\"].astype(str)\n",
    "\n",
    "test_set.info()"
   ]
  },
  {
   "cell_type": "markdown",
   "id": "color-allocation",
   "metadata": {},
   "source": [
    "### Load vocab"
   ]
  },
  {
   "cell_type": "code",
   "execution_count": 11,
   "id": "8dd7a405",
   "metadata": {},
   "outputs": [
    {
     "name": "stdout",
     "output_type": "stream",
     "text": [
      "empty vocab\n"
     ]
    }
   ],
   "source": [
    "if VOCAB:\n",
    "    vocab = Path(VOCAB).read_text().strip().split(\"\\n\")\n",
    "    vocab = list(map(lambda x: x.lower().strip(), vocab))\n",
    "\n",
    "    print(\"Vocab size:\", len(vocab))\n",
    "\n",
    "    pprint(random.choices(vocab, k=10))\n",
    "else:\n",
    "    vocab = []\n",
    "    print(\"empty vocab\")"
   ]
  },
  {
   "cell_type": "markdown",
   "id": "5a7bdd93",
   "metadata": {},
   "source": [
    "#### Extra vocab"
   ]
  },
  {
   "cell_type": "code",
   "execution_count": 12,
   "id": "cfe3dadc",
   "metadata": {},
   "outputs": [
    {
     "data": {
      "text/plain": [
       "1372"
      ]
     },
     "execution_count": 12,
     "metadata": {},
     "output_type": "execute_result"
    }
   ],
   "source": [
    "if EXTRA_VOCAB:\n",
    "    extra_files = Path(EXTRA_VOCAB).rglob(\"*.*\")\n",
    "    extra_vocab = [p.read_text().strip().split('\\n') for p in extra_files if bool(p.suffix)]\n",
    "    extra_vocab = sum(extra_vocab, [])\n",
    "    extra_vocab = list(map(lambda x: x.lower().strip(), extra_vocab))\n",
    "else:\n",
    "    extra_vocab = []\n",
    "\n",
    "len(extra_vocab)"
   ]
  },
  {
   "cell_type": "code",
   "execution_count": 13,
   "id": "f1598a40",
   "metadata": {},
   "outputs": [
    {
     "data": {
      "text/plain": [
       "782"
      ]
     },
     "execution_count": 13,
     "metadata": {},
     "output_type": "execute_result"
    }
   ],
   "source": [
    "vocab = set(vocab)\n",
    "vocab.update(extra_vocab)\n",
    "vocab = list(vocab)\n",
    "\n",
    "if FILTER_VOCAB_CHARS:\n",
    "    vocab = list(filter(lambda x: re.search('\\w', x), vocab))\n",
    "\n",
    "len(vocab)"
   ]
  },
  {
   "cell_type": "markdown",
   "id": "eabab326",
   "metadata": {},
   "source": [
    "### Tokenizer"
   ]
  },
  {
   "cell_type": "code",
   "execution_count": 14,
   "id": "47e2d62c",
   "metadata": {},
   "outputs": [],
   "source": [
    "import functools\n",
    "import torch\n",
    "import pyonmttok"
   ]
  },
  {
   "cell_type": "code",
   "execution_count": 15,
   "id": "4ed64a97",
   "metadata": {},
   "outputs": [],
   "source": [
    "from torchtext.transforms import SentencePieceTokenizer\n",
    "\n",
    "transform_sentpiece = SentencePieceTokenizer(SPE_TOKENIZER)\n",
    "\n",
    "spe_scripted = torch.jit.script(transform_sentpiece)"
   ]
  },
  {
   "cell_type": "code",
   "execution_count": 16,
   "id": "af4c16a0",
   "metadata": {},
   "outputs": [
    {
     "name": "stdout",
     "output_type": "stream",
     "text": [
      "CPU times: user 28 µs, sys: 6 µs, total: 34 µs\n",
      "Wall time: 37 µs\n"
     ]
    }
   ],
   "source": [
    "%%time\n",
    "\n",
    "onmt_tokenizer = pyonmttok.Tokenizer(mode=ONMT_MODE, case_feature=False)"
   ]
  },
  {
   "cell_type": "code",
   "execution_count": 17,
   "id": "aeae2b32",
   "metadata": {},
   "outputs": [],
   "source": [
    "vocab_matcher = \" \".join(vocab)\n",
    "\n",
    "def check_vocab(x):\n",
    "    if x in VOCAB:\n",
    "        return True\n",
    "    else:\n",
    "        return False\n",
    "    \n",
    "    \n",
    "def split_text(x, with_vocab=WITH_VOCAB):\n",
    "    x = x.lower()\n",
    "    tokens = re.split(\"[\\W']+\", x)\n",
    "    tokens = list(filter(bool, tokens))\n",
    "    \n",
    "    if with_vocab:\n",
    "        tokens = list(filter(check_vocab, tokens))\n",
    "    return tokens\n",
    "\n",
    "\n",
    "def tokenize_onmt(text, with_vocab=WITH_VOCAB):\n",
    "    tokens = onmt_tokenizer.tokenize(text)[0]\n",
    "    if with_vocab:\n",
    "        return [t for t in tokens if t.lower() in vocab]\n",
    "    else:\n",
    "        return tokens\n",
    "\n",
    "\n",
    "if USE_ONMT:\n",
    "    tokenize_text = tokenize_onmt\n",
    "elif USE_SPE:\n",
    "    tokenize_text = spe_scripted\n",
    "else:\n",
    "    tokenize_text = functools.partial(split_text, with_vocab=WITH_VOCAB)"
   ]
  },
  {
   "cell_type": "code",
   "execution_count": 18,
   "id": "0f221b3c",
   "metadata": {},
   "outputs": [
    {
     "name": "stdout",
     "output_type": "stream",
     "text": [
      "================== TGLANG_LANGUAGE_OTHER =================\n",
      "\n",
      "Panelistas:\n",
      "\n",
      "TOKENS:\n",
      "Counter({':': 1})\n",
      "\n",
      "================== TGLANG_LANGUAGE_GO =================\n",
      "\n",
      "\t\t\t\tswitch msg.Event {\n",
      "\t\t\t\tcase pcf_message.EventBDTPolicyCreate:\n",
      "\t\t\t\t\tpcf_producer.CreateBDTPolicyContext(msg.HttpChannel, msg.HTTPRequest.Body.(models.BdtReqData))\n",
      "\t\t\t\tcase pcf_message.EventBDTPolicyGet:\n",
      "\t\t\t\t\tbdtPolicyId := msg.HTTPRequest.Params[\"bdtPolicyId\"]\n",
      "\n",
      "TOKENS:\n",
      "Counter({':': 3, 'case': 2, '(': 2, ')': 2, 'switch': 1, ',': 1, '.': 1, '=': 1})\n",
      "\n"
     ]
    }
   ],
   "source": [
    "smp = thestack.sample(2)\n",
    "\n",
    "for _, row in smp.iterrows():\n",
    "    tokens = tokenize_text(row[\"content\"])\n",
    "    print(f\"================== {row['lang']} =================\", end=\"\\n\\n\")\n",
    "    print(row[\"content\"], end=\"\\n\\n\")\n",
    "    print(\"TOKENS:\", Counter(tokens), sep=\"\\n\", end=\"\\n\\n\")"
   ]
  },
  {
   "cell_type": "markdown",
   "id": "bottom-active",
   "metadata": {},
   "source": [
    "## Experiments\n",
    "\n",
    "**Hyper-parameters:**\n",
    "- [x] topics: primary only, primary + secondary\n",
    "- [x] inputs: title, description, posts\n",
    "- [x] preprocessing: raw, lemmas\n",
    "- [x] vectorizers: tf-idf, bow\n",
    "- [x] clf: xgb, nb, etc."
   ]
  },
  {
   "cell_type": "code",
   "execution_count": 19,
   "id": "powered-valley",
   "metadata": {
    "ExecuteTime": {
     "end_time": "2021-02-14T18:14:15.815471Z",
     "start_time": "2021-02-14T18:14:15.781873Z"
    }
   },
   "outputs": [],
   "source": [
    "from sklearn.model_selection import train_test_split\n",
    "from sklearn.feature_extraction.text import CountVectorizer, TfidfVectorizer\n",
    "from sklearn.multioutput import MultiOutputClassifier, ClassifierChain\n",
    "from sklearn.preprocessing import MultiLabelBinarizer, OneHotEncoder\n",
    "from sklearn.linear_model import LogisticRegression, ElasticNet\n",
    "from sklearn.ensemble import GradientBoostingClassifier, RandomForestClassifier\n",
    "from sklearn.model_selection import cross_val_score\n",
    "from sklearn.metrics import confusion_matrix\n",
    "from sklearn.tree import ExtraTreeClassifier\n",
    "from sklearn.neighbors import KNeighborsClassifier\n",
    "from sklearn.svm import LinearSVC, SVC\n",
    "from sklearn.naive_bayes import ComplementNB, MultinomialNB\n",
    "\n",
    "# from xgboost import XGBClassifier\n",
    "\n",
    "import itertools"
   ]
  },
  {
   "cell_type": "code",
   "execution_count": 20,
   "id": "related-depth",
   "metadata": {
    "ExecuteTime": {
     "end_time": "2021-02-14T18:14:15.982932Z",
     "start_time": "2021-02-14T18:14:15.945327Z"
    }
   },
   "outputs": [],
   "source": [
    "class Trainer:\n",
    "    \"\"\" prapre inputs, vectorize texts and run a classifier \"\"\"\n",
    "    def __init__(self, input_fields, preprocessing, vect, est):\n",
    "        self.INPUT_FIELDS = input_fields\n",
    "        self.vect = VECTORIZERS[vect]\n",
    "        self.vect.preprocessor = lambda x: x\n",
    "        self.vect.lowercase = False\n",
    "        self.clf = ESTIMATORS[est]\n",
    "        assert preprocessing in ['raw']\n",
    "        self.preprocessing = preprocessing\n",
    "        \n",
    "    def prepare_data(self, is_final):\n",
    "        # combine fields\n",
    "        data = thestack.copy()\n",
    "        data[\"text\"] = thestack.apply(lambda x: \" \".join([x[f] for f in self.INPUT_FIELDS]),\n",
    "                                      axis=1)\n",
    "        # split into  train and test\n",
    "        one, self.test_inputs = train_test_split(data, test_size=0.2, random_state=24, shuffle=True,)\n",
    "        comb_datasets = [one, self.test_inputs] if is_final else [one]\n",
    "        self.train_inputs = pd.concat(comb_datasets, axis=0)\n",
    "        # x and y\n",
    "        self.y_train = self.train_inputs['lang']\n",
    "        self.y_test = self.test_inputs['lang']\n",
    "        self.X_train = self.vect.fit_transform(self.train_inputs['text'])\n",
    "        self.X_test = self.vect.transform(self.test_inputs['text'])\n",
    "        \n",
    "        \n",
    "    def run_eval(self, final=False):\n",
    "        \"\"\" prepare inputs and run clf evaluation \"\"\"\n",
    "        self.prepare_data(final)\n",
    "        # fit and eval\n",
    "        self.clf.fit(self.X_train, self.y_train)\n",
    "        self.predictions = pd.DataFrame({\n",
    "                    'true': trainer.test_inputs['lang'],\n",
    "                    'predicted': trainer.clf.predict(trainer.X_test)\n",
    "                })\n",
    "        score = self.predictions.apply(lambda x: x['predicted'] == x['true'], axis=1).mean()\n",
    "        return score\n",
    "    \n",
    "    def predict(self, inputs):\n",
    "        tokens = self.vect.transform(inputs)\n",
    "        return self.clf.predict(tokens)\n",
    "        \n",
    "    @staticmethod\n",
    "    def score(predictions, gt):\n",
    "        return (predictions == gt).mean()"
   ]
  },
  {
   "cell_type": "markdown",
   "id": "compatible-nation",
   "metadata": {},
   "source": [
    "### Set hyper-parameters"
   ]
  },
  {
   "cell_type": "code",
   "execution_count": 21,
   "id": "distinguished-video",
   "metadata": {
    "ExecuteTime": {
     "end_time": "2021-02-14T18:15:50.378692Z",
     "start_time": "2021-02-14T18:15:50.341686Z"
    }
   },
   "outputs": [],
   "source": [
    "INPUTS = [\n",
    "    'content',\n",
    "#     \"punct\",\n",
    "]\n",
    "\n",
    "PREPROCESSING = [\n",
    "    'raw',\n",
    "]\n",
    "\n",
    "vect_params = dict(\n",
    "    max_df=0.25, \n",
    "    min_df=3,\n",
    "    max_features=1000,\n",
    "    binary=False, \n",
    "    ngram_range=(1,1), \n",
    "    stop_words=None,\n",
    "#     tokenizer= lambda x: re.split(),\n",
    "    tokenizer=tokenize_text,\n",
    "    \n",
    ")\n",
    "VECTORIZERS = {\n",
    "    'tfidf': TfidfVectorizer(**vect_params),\n",
    "    'bow': CountVectorizer(**vect_params),\n",
    "}\n",
    "\n",
    "\n",
    "ESTIMATORS = dict(\n",
    "#     xgb = XGBClassifier(objective='multi:softmax'),\n",
    "#     forest = RandomForestClassifier(),\n",
    "#     logreg = LogisticRegression(),\n",
    "#     knn = KNeighborsClassifier(),\n",
    "#     tree = ExtraTreeClassifier(),\n",
    "#     svm = SVC(),\n",
    "#     linsvm = LinearSVC(),\n",
    "    cnb = ComplementNB(),\n",
    "    mnb = MultinomialNB(),\n",
    ")"
   ]
  },
  {
   "cell_type": "code",
   "execution_count": 22,
   "id": "manufactured-silly",
   "metadata": {
    "ExecuteTime": {
     "end_time": "2021-02-14T18:15:50.548467Z",
     "start_time": "2021-02-14T18:15:50.513187Z"
    }
   },
   "outputs": [
    {
     "data": {
      "text/plain": [
       "4"
      ]
     },
     "execution_count": 22,
     "metadata": {},
     "output_type": "execute_result"
    }
   ],
   "source": [
    "input_combinations = [INPUTS] #list(itertools.combinations(INPUTS, r=2)) + [INPUTS]\n",
    "\n",
    "train_params = list(itertools.product( \n",
    "                                input_combinations,\n",
    "                                      PREPROCESSING,\n",
    "                                VECTORIZERS.keys(), \n",
    "                                ESTIMATORS.keys()))\n",
    "\n",
    "len(train_params)"
   ]
  },
  {
   "cell_type": "markdown",
   "id": "aerial-local",
   "metadata": {},
   "source": [
    "### Run experiments"
   ]
  },
  {
   "cell_type": "code",
   "execution_count": 23,
   "id": "8057aa5f",
   "metadata": {},
   "outputs": [],
   "source": [
    "X_test = test_set[\"content\"]\n",
    "y_test = test_set[\"lang\"]\n"
   ]
  },
  {
   "cell_type": "code",
   "execution_count": 24,
   "id": "presidential-employer",
   "metadata": {
    "ExecuteTime": {
     "end_time": "2021-02-14T18:15:58.685999Z",
     "start_time": "2021-02-14T18:15:50.937633Z"
    },
    "scrolled": true
   },
   "outputs": [
    {
     "name": "stderr",
     "output_type": "stream",
     "text": [
      "# experiments:   0%|                                                                                                                                                                                                                                         | 0/4 [00:00<?, ?it/s]/Users/rustem.galiullin/opt/miniconda3/envs/tgwebapp/lib/python3.10/site-packages/sklearn/feature_extraction/text.py:525: UserWarning: The parameter 'token_pattern' will not be used since 'tokenizer' is not None'\n",
      "  warnings.warn(\n",
      "# experiments:  25%|████████████████████████████████████████████████████████▎                                                                                                                                                                        | 1/4 [00:07<00:22,  7.47s/it]/Users/rustem.galiullin/opt/miniconda3/envs/tgwebapp/lib/python3.10/site-packages/sklearn/feature_extraction/text.py:525: UserWarning: The parameter 'token_pattern' will not be used since 'tokenizer' is not None'\n",
      "  warnings.warn(\n",
      "# experiments:  50%|████████████████████████████████████████████████████████████████████████████████████████████████████████████████▌                                                                                                                | 2/4 [00:15<00:15,  7.53s/it]/Users/rustem.galiullin/opt/miniconda3/envs/tgwebapp/lib/python3.10/site-packages/sklearn/feature_extraction/text.py:525: UserWarning: The parameter 'token_pattern' will not be used since 'tokenizer' is not None'\n",
      "  warnings.warn(\n",
      "# experiments:  75%|████████████████████████████████████████████████████████████████████████████████████████████████████████████████████████████████████████████████████████████████████████▊                                                        | 3/4 [00:22<00:07,  7.53s/it]/Users/rustem.galiullin/opt/miniconda3/envs/tgwebapp/lib/python3.10/site-packages/sklearn/feature_extraction/text.py:525: UserWarning: The parameter 'token_pattern' will not be used since 'tokenizer' is not None'\n",
      "  warnings.warn(\n",
      "# experiments: 100%|█████████████████████████████████████████████████████████████████████████████████████████████████████████████████████████████████████████████████████████████████████████████████████████████████████████████████████████████████| 4/4 [00:30<00:00,  7.53s/it]\n"
     ]
    }
   ],
   "source": [
    "results = []\n",
    "\n",
    "for params in notebook_tqdm(train_params, desc='# experiments'):\n",
    "    trainer = Trainer(*params)\n",
    "    val_score = trainer.run_eval()\n",
    "    test_score = trainer.score(trainer.predict(X_test), y_test)\n",
    "    score = (val_score + test_score * 2) / 3\n",
    "    params += (val_score, test_score, score)\n",
    "    results.append(params)\n",
    "                \n",
    "results = pd.DataFrame(results, columns=['input_fields', 'preprocessing','vect', 'est', \n",
    "                                         'val_score', \"test_score\", \"score\"])"
   ]
  },
  {
   "cell_type": "code",
   "execution_count": 25,
   "id": "following-tyler",
   "metadata": {
    "ExecuteTime": {
     "end_time": "2021-02-14T18:15:58.721241Z",
     "start_time": "2021-02-14T18:15:58.687641Z"
    }
   },
   "outputs": [
    {
     "name": "stdout",
     "output_type": "stream",
     "text": [
      "|    | input_fields   | preprocessing   | vect   | est   |   val_score |   test_score |    score |\n",
      "|---:|:---------------|:----------------|:-------|:------|------------:|-------------:|---------:|\n",
      "|  1 | ['content']    | raw             | tfidf  | mnb   |    0.658744 |     0.790061 | 0.746289 |\n",
      "|  3 | ['content']    | raw             | bow    | mnb   |    0.666966 |     0.728195 | 0.707785 |\n",
      "|  0 | ['content']    | raw             | tfidf  | cnb   |    0.52855  |     0.489858 | 0.502755 |\n",
      "|  2 | ['content']    | raw             | bow    | cnb   |    0.484305 |     0.431034 | 0.448791 |\n"
     ]
    }
   ],
   "source": [
    "print(results.sort_values('score', ascending=False).to_markdown())"
   ]
  },
  {
   "cell_type": "markdown",
   "id": "official-cooler",
   "metadata": {},
   "source": [
    "### Review errors"
   ]
  },
  {
   "cell_type": "code",
   "execution_count": 22,
   "id": "blessed-mumbai",
   "metadata": {
    "ExecuteTime": {
     "end_time": "2021-02-14T18:16:06.900322Z",
     "start_time": "2021-02-14T18:16:06.866807Z"
    }
   },
   "outputs": [],
   "source": [
    "from sklearn.metrics import top_k_accuracy_score"
   ]
  },
  {
   "cell_type": "markdown",
   "id": "entitled-multimedia",
   "metadata": {},
   "source": [
    "#### Train"
   ]
  },
  {
   "cell_type": "code",
   "execution_count": 23,
   "id": "670d1670",
   "metadata": {},
   "outputs": [
    {
     "data": {
      "text/plain": [
       "(0.714943943661687, 0.6397608370702541, 0.7525354969574036)"
      ]
     },
     "execution_count": 23,
     "metadata": {},
     "output_type": "execute_result"
    }
   ],
   "source": [
    "best_params = results.sort_values(\"score\", ascending=False).iloc[0].to_dict()\n",
    "best_params.pop(\"score\"), best_params.pop(\"val_score\"), best_params.pop(\"test_score\")"
   ]
  },
  {
   "cell_type": "code",
   "execution_count": 24,
   "id": "immediate-resident",
   "metadata": {
    "ExecuteTime": {
     "end_time": "2021-02-14T18:16:23.294901Z",
     "start_time": "2021-02-14T18:16:22.826968Z"
    }
   },
   "outputs": [
    {
     "name": "stderr",
     "output_type": "stream",
     "text": [
      "/Users/rustem.galiullin/opt/miniconda3/envs/tgwebapp/lib/python3.10/site-packages/sklearn/feature_extraction/text.py:525: UserWarning: The parameter 'token_pattern' will not be used since 'tokenizer' is not None'\n",
      "  warnings.warn(\n"
     ]
    },
    {
     "name": "stdout",
     "output_type": "stream",
     "text": [
      "0.6397608370702541\n"
     ]
    }
   ],
   "source": [
    "trainer = Trainer(**best_params)\n",
    "s = trainer.run_eval(final=False)\n",
    "print(s)"
   ]
  },
  {
   "cell_type": "markdown",
   "id": "practical-baking",
   "metadata": {},
   "source": [
    "#### Classification report"
   ]
  },
  {
   "cell_type": "code",
   "execution_count": 25,
   "id": "bridal-collect",
   "metadata": {
    "ExecuteTime": {
     "end_time": "2021-02-14T18:16:32.862941Z",
     "start_time": "2021-02-14T18:16:32.828657Z"
    }
   },
   "outputs": [],
   "source": [
    "from sklearn.metrics import classification_report"
   ]
  },
  {
   "cell_type": "code",
   "execution_count": 26,
   "id": "convinced-southeast",
   "metadata": {
    "ExecuteTime": {
     "end_time": "2021-02-14T18:16:33.038810Z",
     "start_time": "2021-02-14T18:16:33.003275Z"
    }
   },
   "outputs": [
    {
     "name": "stderr",
     "output_type": "stream",
     "text": [
      "/var/folders/fg/vxz9bx5n1vvb2p8k4cr_wc9h0000gp/T/ipykernel_95948/2620725147.py:7: SettingWithCopyWarning: \n",
      "A value is trying to be set on a copy of a slice from a DataFrame.\n",
      "Try using .loc[row_indexer,col_indexer] = value instead\n",
      "\n",
      "See the caveats in the documentation: https://pandas.pydata.org/pandas-docs/stable/user_guide/indexing.html#returning-a-view-versus-a-copy\n",
      "  errors['predicted'] = test_pred[is_wrong]\n"
     ]
    }
   ],
   "source": [
    "\n",
    "test_pred = trainer.predict(X_test)\n",
    "\n",
    "is_wrong = test_pred != y_test\n",
    "\n",
    "errors = test_set.loc[is_wrong]\n",
    "\n",
    "errors['predicted'] = test_pred[is_wrong]"
   ]
  },
  {
   "cell_type": "code",
   "execution_count": 27,
   "id": "current-syndrome",
   "metadata": {
    "ExecuteTime": {
     "end_time": "2021-02-14T18:16:34.715272Z",
     "start_time": "2021-02-14T18:16:33.158809Z"
    }
   },
   "outputs": [
    {
     "data": {
      "image/png": "[encoded data removed]",
      "text/plain": [
       "<Figure size 1500x1200 with 2 Axes>"
      ]
     },
     "metadata": {},
     "output_type": "display_data"
    }
   ],
   "source": [
    "ct = pd.crosstab(y_test, test_pred)\n",
    "for i,k in ct.iterrows():\n",
    "    k[i] = 0\n",
    "\n",
    "\n",
    "plt.figure(figsize=(15,12))\n",
    "sns.heatmap(ct, annot=True, linewidths=0.01);"
   ]
  },
  {
   "cell_type": "code",
   "execution_count": 28,
   "id": "indie-demand",
   "metadata": {
    "ExecuteTime": {
     "end_time": "2021-02-14T18:16:36.868962Z",
     "start_time": "2021-02-14T18:16:36.820512Z"
    },
    "scrolled": true
   },
   "outputs": [
    {
     "name": "stdout",
     "output_type": "stream",
     "text": [
      "|                            |   precision |   recall |   f1-score |    support |\n",
      "|:---------------------------|------------:|---------:|-----------:|-----------:|\n",
      "| TGLANG_LANGUAGE_FUNC       |    0        | 0        |   0        |   1        |\n",
      "| TGLANG_LANGUAGE_DART       |    0.181818 | 0.666667 |   0.285714 |   3        |\n",
      "| TGLANG_LANGUAGE_PHP        |    0.615385 | 0.222222 |   0.326531 |  36        |\n",
      "| TGLANG_LANGUAGE_GO         |    0.227273 | 0.714286 |   0.344828 |   7        |\n",
      "| TGLANG_LANGUAGE_DOCKER     |    0.333333 | 0.363636 |   0.347826 |  11        |\n",
      "| TGLANG_LANGUAGE_TYPESCRIPT |    0.333333 | 0.454545 |   0.384615 |  11        |\n",
      "| TGLANG_LANGUAGE_C          |    0.391304 | 0.428571 |   0.409091 |  21        |\n",
      "| macro avg                  |    0.487351 | 0.50617  |   0.473703 | 986        |\n",
      "| TGLANG_LANGUAGE_JAVA       |    0.466667 | 0.5      |   0.482759 |  14        |\n",
      "| TGLANG_LANGUAGE_JAVASCRIPT |    0.771429 | 0.369863 |   0.5      |  73        |\n",
      "| TGLANG_LANGUAGE_RUBY       |    0.5      | 0.5      |   0.5      |   2        |\n",
      "| TGLANG_LANGUAGE_SQL        |    0.545455 | 0.5      |   0.521739 |  12        |\n",
      "| TGLANG_LANGUAGE_LUA        |    0.5      | 0.545455 |   0.521739 |  11        |\n",
      "| TGLANG_LANGUAGE_JSON       |    0.595238 | 0.609756 |   0.60241  |  41        |\n",
      "| TGLANG_LANGUAGE_KOTLIN     |    0.727273 | 0.571429 |   0.64     |  14        |\n",
      "| TGLANG_LANGUAGE_CPLUSPLUS  |    0.6      | 0.705882 |   0.648649 |  34        |\n",
      "| TGLANG_LANGUAGE_HTML       |    0.542857 | 0.904762 |   0.678571 |  21        |\n",
      "| TGLANG_LANGUAGE_RUST       |    0.8      | 0.631579 |   0.705882 |  19        |\n",
      "| TGLANG_LANGUAGE_PYTHON     |    0.913043 | 0.583333 |   0.711864 | 144        |\n",
      "| weighted avg               |    0.782265 | 0.752535 |   0.749332 | 986        |\n",
      "| accuracy                   |    0.752535 | 0.752535 |   0.752535 |   0.752535 |\n",
      "| TGLANG_LANGUAGE_SOLIDITY   |    0.785714 | 0.916667 |   0.846154 |  12        |\n",
      "| TGLANG_LANGUAGE_OTHER      |    0.8663   | 0.959432 |   0.910491 | 493        |\n",
      "| TGLANG_LANGUAGE_NGINX      |    1        | 1        |   1        |   6        |\n"
     ]
    }
   ],
   "source": [
    "metrics = pd.DataFrame(classification_report(y_test, test_pred, output_dict=True, zero_division=0)).T\n",
    "\n",
    "metrics = metrics.query(\"support > 0\").sort_values('f1-score', ascending=True)\n",
    "\n",
    "print(metrics.to_markdown())"
   ]
  },
  {
   "cell_type": "markdown",
   "id": "22d45507",
   "metadata": {},
   "source": [
    "#### Errors"
   ]
  },
  {
   "cell_type": "code",
   "execution_count": 29,
   "id": "62966fad",
   "metadata": {
    "scrolled": true
   },
   "outputs": [
    {
     "name": "stdout",
     "output_type": "stream",
     "text": [
      "========== TGLANG_LANGUAGE_PYTHON ==========\n",
      "\n",
      "from userbot import bot as raider\n",
      "from userbot.utils import admin_cmd as choot\n",
      "\n",
      "x = True\n",
      "@raider.on(choot(pattern=\"traid\"))\n",
      "async def d3vilraid(event):\n",
      "    while x != False:\n",
      "       \n",
      "        await event.delete()\n",
      "        kek = event.chat_id\n",
      "        await raider.send_message(kek, \"Otha omala karikulambu nalla illa valapalam tholu un vaila en polu..\")\n",
      "        await raider.send_message(kek, \"Thavidiya paiyala vanthu en polla chapuda...\")\n",
      "        await raider.send_message(kek, \"Dai chappi potha puliyangkota sutha modinu poda\")\n",
      "        await raider.send_message(kek, \"pota kuthi\")\n",
      "        await raider.send_message(kek, \"poda badhu\")\n",
      "        await raider.send_message(kek, \"mandaila masala illaya?...\")\n",
      "        await raider.send_message(kek, \"otha dai ni enna pariya parupa\")\n",
      "        await raider.send_message(kek, \"omala adichu pallalum pathuduvan\")\n",
      "        await raider.send_message(kek, \"vakkam may illam jathi kuda poda nikirrai thu.\")\n",
      "        await raider.send_message(kek, \"poda paithium ..\")\n",
      "        await raider.send_message(kek, \"poda arravarkadu\")\n",
      "        await raider.send_message(kek, \"Onakku annchu sinna vedhu irruku nu kalvipatan unmaiya?..\")\n",
      "        await raider.send_message(kek, \"Nathu naiya othu thu vanthaiyamay\")\n",
      "        await raider.send_message(kek, \"muthal irravula manavi nu nanaichu picchakariya othavan dana ni\")\n",
      "        await raider.send_message(kek, \"unnaku balla la mairru illaya\")\n",
      "        await raider.send_message(kek, \"unna mari pota kita naan time waste panna virumbhala sutha mudinu poda venru\")\n",
      "\n",
      "VOCAB: Counter({'await': 17, 'import': 2, 'as': 2, 'from': 1, 'True': 1, 'async': 1, 'def': 1, 'event': 1, 'while': 1, '!': 1, 'time': 1})\n",
      "========== TGLANG_LANGUAGE_PYTHON ==========\n",
      "\n",
      "await client.ban_chat_member(message.chat.id, 1557184285)\n",
      "\n",
      "VOCAB: Counter({'await': 1})\n",
      "========== TGLANG_LANGUAGE_PYTHON ==========\n",
      "\n",
      "@chat_labeler.message(text=[\"<call> Убрать фон\"])\n",
      "async def rembg(message: Message, call):\n",
      "    print(\"tuta\")\n",
      "    if await User.is_user_in_process(user_id=message.from_id):\n",
      "        await message.reply(\"Вы уже выбрали параметр! Пришлите фотографию\")\n",
      "    else:\n",
      "        await message.reply(\"Пришлите нужную фотографию для добавления вас в очередь\")\n",
      "        user = User(user_id=message.from_id, command=6)\n",
      "        user_collection.append(user)\n",
      "\n",
      "@chat_labeler.message(text=[\"<call> Улучшить качество <arg>\"])\n",
      "async def command_picture_quality(message: Message, arg):\n",
      "    if int(arg) <= 0 or int(arg) > 5:\n",
      "        await message.reply(\"Параметр должен быть в диапазоне от 1 до 5\")\n",
      "    else:\n",
      "        if await User.is_user_in_process(user_id=message.from_id):\n",
      "            await message.reply(\"Вы уже выбрали параметр! Пришлите фотографию\")\n",
      "        else:\n",
      "            await message.reply(\"Пришлите нужную фотографию для добавления вас в очередь\")\n",
      "            user = User(user_id=message.from_id, command=arg)\n",
      "            user_collection.append(user)\n",
      "\n",
      "VOCAB: Counter({'await': 7, '<': 4, '>': 4, 'if': 3, 'else': 3, 'text': 2, 'async': 2, 'def': 2, '!': 2, 'int': 2, 'print': 1, 'or': 1})\n",
      "========== TGLANG_LANGUAGE_PYTHON ==========\n",
      "\n",
      "async for message in client.iter_messages(chat_id, limit=MAX_MESSAGES): await message.forward_to(destination_chat_id)\n",
      "\n",
      "VOCAB: Counter({'async': 1, 'for': 1, 'in': 1, 'await': 1})\n",
      "========== TGLANG_LANGUAGE_PYTHON ==========\n",
      "\n",
      "await sensor_id_124(id_sm, happy_event)\n",
      "\n",
      "VOCAB: Counter({'await': 1})\n",
      "========== TGLANG_LANGUAGE_PYTHON ==========\n",
      "\n",
      "from userbot import bot as raider\n",
      "from userbot.utils import admin_cmd as choot\n",
      "\n",
      "x = True\n",
      "@raider.on(choot(pattern=\"traid\"))\n",
      "async def d3vilraid(event):\n",
      "    while x != False:\n",
      "       \n",
      "        await event.delete()\n",
      "        kek = event.chat_id\n",
      "        await raider.send_message(kek, \"Otha omala karikulambu nalla illa valapalam tholu un vaila en polu..\")\n",
      "        await raider.send_message(kek, \"Thavidiya paiyala vanthu en polla chapuda...\")\n",
      "        await raider.send_message(kek, \"Dai chappi potha puliyangkota sutha modinu poda\")\n",
      "        await raider.send_message(kek, \"pota kuthi\")\n",
      "        await raider.send_message(kek, \"poda badhu\")\n",
      "        await raider.send_message(kek, \"mandaila masala illaya?...\")\n",
      "        await raider.send_message(kek, \"otha dai ni enna pariya parupa\")\n",
      "        await raider.send_message(kek, \"omala adichu pallalum pathuduvan\")\n",
      "        await raider.send_message(kek, \"vakkam may illam jathi kuda poda nikirrai thu.\")\n",
      "        await raider.send_message(kek, \"poda paithium ..\")\n",
      "        await raider.send_message(kek, \"poda arravarkadu\")\n",
      "        await raider.send_message(kek, \"Onakku annchu sinna vedhu irruku nu kalvipatan unmaiya?..\")\n",
      "        await raider.send_message(kek, \"Nathu naiya othu thu vanthaiyamay\")\n",
      "        await raider.send_message(kek, \"muthal irravula manavi nu nanaichu picchakariya othavan dana ni\")\n",
      "        await raider.send_message(kek, \"unnaku balla la mairru illaya\")\n",
      "        await raider.send_message(kek, \"unna mari pota kita naan time waste panna virumbhala sutha mudinu poda venru\")\n",
      "\n",
      "VOCAB: Counter({'await': 17, 'import': 2, 'as': 2, 'from': 1, 'True': 1, 'async': 1, 'def': 1, 'event': 1, 'while': 1, '!': 1, 'time': 1})\n"
     ]
    }
   ],
   "source": [
    "TRUE_CLASS = \"TGLANG_LANGUAGE_PYTHON\"\n",
    "PRED_CLASS =  \"TGLANG_LANGUAGE_DART\"\n",
    "\n",
    "class_errors = test_set.loc[(y_test == TRUE_CLASS) & \n",
    "                                   ((test_pred == PRED_CLASS ) if PRED_CLASS else (test_pred != TRUE_CLASS))\n",
    "                                  ]\n",
    "\n",
    "for _, row in class_errors.iterrows():\n",
    "    print(\"=\"*10, row[\"lang\"], \"=\"*10, end=\"\\n\\n\")\n",
    "    print(row[\"content\"], end=\"\\n\\n\")\n",
    "    tokens = tokenize_text(row[\"content\"],)\n",
    "    print(\"VOCAB:\", Counter([t for t in tokens if t in trainer.vect.vocabulary_]))\n",
    "    \n",
    "# print(*class_errors[\"content\"].sample(3).tolist(), sep=\"\\n\\n=================================\\n\\n\")"
   ]
  },
  {
   "cell_type": "markdown",
   "id": "d244ee5b",
   "metadata": {},
   "source": [
    "#### Vocab"
   ]
  },
  {
   "cell_type": "code",
   "execution_count": 30,
   "id": "fbf53765",
   "metadata": {},
   "outputs": [
    {
     "data": {
      "text/plain": [
       "{'int': 144,\n",
       " '~': 249,\n",
       " 'if': 132,\n",
       " 'all': 54,\n",
       " 'return': 194,\n",
       " '+': 4,\n",
       " '%': 2,\n",
       " 'by': 74,\n",
       " 'All': 12,\n",
       " 'is': 147,\n",
       " 'not': 172,\n",
       " '-': 5,\n",
       " 'public': 190,\n",
       " 'init': 141,\n",
       " '<': 6,\n",
       " '>': 7,\n",
       " 'using': 236,\n",
       " 'false': 110,\n",
       " '#': 1,\n",
       " 'index': 139,\n",
       " 'type': 229,\n",
       " 'float': 112,\n",
       " 'a': 52,\n",
       " 'with': 248,\n",
       " 'main': 160,\n",
       " 'Type': 45,\n",
       " 'string': 209,\n",
       " 'true': 227,\n",
       " 'set': 203,\n",
       " 'echo': 96,\n",
       " 'in': 137,\n",
       " '!': 0,\n",
       " 'section': 200,\n",
       " 'link': 155,\n",
       " 'RUN': 36,\n",
       " 'rm': 196,\n",
       " 'p': 181,\n",
       " 'this': 221,\n",
       " 'For': 21,\n",
       " 'run': 198,\n",
       " 'for': 117,\n",
       " 'base': 65,\n",
       " 'self': 201,\n",
       " 'struct': 210,\n",
       " 'of': 176,\n",
       " 'as': 59,\n",
       " 'long': 159,\n",
       " 'color': 80,\n",
       " 'and': 55,\n",
       " 'any': 56,\n",
       " 'str': 208,\n",
       " 'class': 79,\n",
       " 'extends': 108,\n",
       " 'super': 212,\n",
       " 'require': 192,\n",
       " 'null': 173,\n",
       " 'Test': 41,\n",
       " 'void': 243,\n",
       " 'new': 169,\n",
       " 'address': 53,\n",
       " 'or': 178,\n",
       " 'func': 121,\n",
       " '*': 3,\n",
       " 'error': 103,\n",
       " 'const': 81,\n",
       " 'char': 77,\n",
       " 'auto': 62,\n",
       " 'use': 235,\n",
       " 'time': 223,\n",
       " 'CREATE': 14,\n",
       " 'TABLE': 40,\n",
       " 'IF': 23,\n",
       " 'NOT': 30,\n",
       " 'NULL': 31,\n",
       " 'value': 238,\n",
       " 'meta': 165,\n",
       " 'None': 32,\n",
       " 'IS': 26,\n",
       " 'AS': 11,\n",
       " 'OF': 33,\n",
       " 'ANY': 10,\n",
       " 'OR': 34,\n",
       " 'FOR': 19,\n",
       " 'A': 8,\n",
       " 'AND': 9,\n",
       " 'IN': 24,\n",
       " 'FROM': 20,\n",
       " 'define': 91,\n",
       " 'local': 157,\n",
       " 'package': 182,\n",
       " 'import': 136,\n",
       " 'end': 100,\n",
       " 'then': 220,\n",
       " 'child': 78,\n",
       " 'margin': 162,\n",
       " 'li': 154,\n",
       " 'ul': 232,\n",
       " 'div': 93,\n",
       " 'title': 224,\n",
       " 'interface': 145,\n",
       " 'span': 205,\n",
       " 'Class': 15,\n",
       " 'function': 122,\n",
       " 'Set': 38,\n",
       " 'include': 138,\n",
       " 'static': 207,\n",
       " 'case': 76,\n",
       " 'json': 148,\n",
       " 'module': 166,\n",
       " 'def': 89,\n",
       " 'body': 66,\n",
       " 'display': 92,\n",
       " 'else': 98,\n",
       " 'try': 228,\n",
       " 'from': 119,\n",
       " 'data': 87,\n",
       " 'when': 244,\n",
       " 'String': 39,\n",
       " 'pub': 189,\n",
       " 'enum': 102,\n",
       " 'Error': 18,\n",
       " 'background-color': 64,\n",
       " 'namespace': 168,\n",
       " 'bytes': 75,\n",
       " 'encoding': 99,\n",
       " 'Value': 49,\n",
       " 'internal': 146,\n",
       " 'default': 90,\n",
       " 'table': 213,\n",
       " 'source': 204,\n",
       " 'let': 153,\n",
       " 'do': 94,\n",
       " 'Version': 50,\n",
       " 'except': 105,\n",
       " 'http': 130,\n",
       " 'Unless': 46,\n",
       " 'required': 193,\n",
       " 'var': 240,\n",
       " 'Text': 42,\n",
       " 'SET': 37,\n",
       " 'id': 131,\n",
       " 'style': 211,\n",
       " 'This': 43,\n",
       " 'out': 179,\n",
       " 'final': 111,\n",
       " 'map': 161,\n",
       " 'val': 237,\n",
       " 'while': 246,\n",
       " 'params': 184,\n",
       " 'uint': 231,\n",
       " 'fn': 113,\n",
       " 'mut': 167,\n",
       " 'Use': 47,\n",
       " 'async': 61,\n",
       " 'get': 123,\n",
       " 'input': 143,\n",
       " 'root': 197,\n",
       " 'export': 107,\n",
       " 'boolean': 68,\n",
       " 'True': 44,\n",
       " 'format': 118,\n",
       " 'text': 217,\n",
       " 'template': 215,\n",
       " '^': 51,\n",
       " 'crate': 85,\n",
       " 'List': 29,\n",
       " 'nil': 170,\n",
       " 'none': 171,\n",
       " 'font-weight': 116,\n",
       " 'event': 104,\n",
       " 'label': 149,\n",
       " 'position': 186,\n",
       " 'fun': 120,\n",
       " 'contract': 83,\n",
       " 'create': 86,\n",
       " 'view': 242,\n",
       " 'start': 206,\n",
       " 'server': 202,\n",
       " 'INSERT': 25,\n",
       " 'VALUES': 48,\n",
       " 'double': 95,\n",
       " 'values': 239,\n",
       " 'location': 158,\n",
       " 'images': 133,\n",
       " 'endif': 101,\n",
       " 'info': 140,\n",
       " 'inline': 142,\n",
       " 'bool': 67,\n",
       " 'version': 241,\n",
       " 'h2': 125,\n",
       " 'ID': 22,\n",
       " 'object': 175,\n",
       " 'parent': 185,\n",
       " 'length': 152,\n",
       " 'private': 188,\n",
       " 'button': 73,\n",
       " 'font-size': 115,\n",
       " 'height': 128,\n",
       " 'override': 180,\n",
       " 'img': 134,\n",
       " 'date': 88,\n",
       " 'number': 174,\n",
       " 'test': 216,\n",
       " 'break': 71,\n",
       " 'padding': 183,\n",
       " 'border': 69,\n",
       " 'array': 58,\n",
       " 'typedef': 230,\n",
       " 'If': 27,\n",
       " 'update': 234,\n",
       " 'html': 129,\n",
       " 'build': 72,\n",
       " 'len': 151,\n",
       " 'count': 84,\n",
       " 'impl': 135,\n",
       " 'assert': 60,\n",
       " 'option': 177,\n",
       " 'max': 163,\n",
       " 'print': 187,\n",
       " 'width': 247,\n",
       " 'element': 97,\n",
       " 'list': 156,\n",
       " 'where': 245,\n",
       " 'args': 57,\n",
       " 'range': 191,\n",
       " 'h1': 124,\n",
       " 'header': 127,\n",
       " 'head': 126,\n",
       " 'script': 199,\n",
       " 'text-align': 218,\n",
       " 'unsigned': 233,\n",
       " 'br': 70,\n",
       " 'left': 150,\n",
       " 'Div': 17,\n",
       " 'tr': 226,\n",
       " 'td': 214,\n",
       " 'exit': 106,\n",
       " 'await': 63,\n",
       " 'Int': 28,\n",
       " 'Object': 35,\n",
       " 'font-family': 114,\n",
       " 'constant': 82,\n",
       " 'throw': 222,\n",
       " 'top': 225,\n",
       " 'DEFAULT': 16,\n",
       " 'right': 195,\n",
       " 'memory': 164,\n",
       " 'external': 109,\n",
       " 'th': 219,\n",
       " 'COMMENT': 13}"
      ]
     },
     "execution_count": 30,
     "metadata": {},
     "output_type": "execute_result"
    }
   ],
   "source": [
    "trainer.vect.vocabulary_"
   ]
  },
  {
   "cell_type": "markdown",
   "id": "medieval-creation",
   "metadata": {},
   "source": [
    "## Save models"
   ]
  },
  {
   "cell_type": "code",
   "execution_count": 32,
   "id": "micro-tactics",
   "metadata": {
    "ExecuteTime": {
     "end_time": "2021-02-14T18:16:44.071160Z",
     "start_time": "2021-02-14T18:16:44.036819Z"
    }
   },
   "outputs": [],
   "source": [
    "from torch import nn\n",
    "import torch\n",
    "from torch.nn import functional as F\n",
    "from typing import Dict, List, Tuple, Any"
   ]
  },
  {
   "cell_type": "code",
   "execution_count": 35,
   "id": "liberal-logic",
   "metadata": {
    "ExecuteTime": {
     "end_time": "2021-02-14T18:16:44.655409Z",
     "start_time": "2021-02-14T18:16:44.605310Z"
    },
    "code_folding": []
   },
   "outputs": [],
   "source": [
    "class NaiveBayes(nn.Module):\n",
    "    \"\"\" Implement Multinomial and Complement NB inference \"\"\"\n",
    "    def __init__(self, nb, clf,):\n",
    "        super().__init__()\n",
    "        assert nb in ['cnb','mnb']\n",
    "        self.nb = nb\n",
    "        self.feature_log_prior = nn.Parameter(torch.tensor(clf.feature_log_prob_), requires_grad=False)\n",
    "        self.class_log_prior = nn.Parameter(torch.tensor(clf.class_log_prior_), requires_grad=False)\n",
    "        self.clf_labels = clf.classes_.tolist()\n",
    "        self.target_labels = LANG_ENUM\n",
    "        \n",
    "    def to_dict(self,):\n",
    "        return dict(\n",
    "            feature_log_prior=self.feature_log_prior.tolist(),\n",
    "            class_log_prior=self.class_log_prior.tolist(),\n",
    "            class_labels=self.clf_labels,\n",
    "            target_labels=self.target_labels\n",
    "        )\n",
    "\n",
    "    def forward(self, x: torch.Tensor) -> torch.Tensor:\n",
    "        jll = torch.matmul(x.double(), self.feature_log_prior.T)\n",
    "        if self.nb == 'cnb':\n",
    "            if self.class_log_prior.size(0) == 1:\n",
    "                jll += self.class_log_prior\n",
    "        else:\n",
    "            jll += self.class_log_prior\n",
    "        log_prob = torch.logsumexp(jll, dim=1)\n",
    "        log_prob = jll - torch.atleast_2d(log_prob).T\n",
    "        prob = torch.exp(log_prob)\n",
    "        return prob\n",
    "\n",
    "\n",
    "class TextVectorizer(nn.Module):\n",
    "    \"\"\" vectorize text using tf-idf or bow \"\"\"\n",
    "    def __init__(self, vect, vectorizer):\n",
    "        super().__init__()\n",
    "        assert vect in ['bow','tfidf']\n",
    "        self.vocab = {k: torch.tensor(v) for k,v in vectorizer.vocabulary_.items()}\n",
    "        self.vocab_len = len(self.vocab)\n",
    "        if vect == 'tfidf':\n",
    "            self.idf_diag = nn.Parameter(\n",
    "                torch.tensor(vectorizer._tfidf._idf_diag.toarray()), \n",
    "                requires_grad=False)\n",
    "            self.sublinear_tf = vectorizer.sublinear_tf\n",
    "            self.norm = vectorizer.norm\n",
    "            self.use_idf = vectorizer.use_idf\n",
    "        else:\n",
    "            self.idf_diag = nn.Parameter(torch.eye(self.vocab_len))\n",
    "            self.sublinear_tf = False\n",
    "            self.norm = None\n",
    "            self.use_idf = False\n",
    "    \n",
    "    def to_dict(self):\n",
    "        return dict(\n",
    "            vocab={k: v.tolist() for k,v in self.vocab.items()},\n",
    "            idf_diag=self.idf_diag.tolist(),\n",
    "            sublinear_tf=self.sublinear_tf,\n",
    "            norm=self.norm,\n",
    "            use_idf=self.use_idf,\n",
    "        )\n",
    "\n",
    "    def count_vocab(self, doc: List[str]) -> torch.Tensor:\n",
    "        \"\"\" return counts of each word from the vocab \"\"\"\n",
    "        feature_counter = torch.zeros(self.vocab_len, dtype=torch.long)\n",
    "        for feature in doc:\n",
    "            n = self.vocab.get(str(feature), torch.tensor(-1))\n",
    "            if n.item() != -1:\n",
    "                feature_idx = self.vocab[str(feature)]\n",
    "                feature_counter[feature_idx] += 1\n",
    "        return feature_counter\n",
    "        \n",
    "        \n",
    "    def forward(self, batch: List[List[str]]) -> torch.Tensor:\n",
    "        doc_counts: List[torch.Tensor] = [\n",
    "            self.count_vocab(doc)\n",
    "            for doc in batch\n",
    "        ]\n",
    "        X = torch.stack(doc_counts,)\n",
    "        if self.sublinear_tf:\n",
    "            X = torch.log(X.double())\n",
    "            X += 1\n",
    "        if self.use_idf:\n",
    "            X = torch.matmul(X.double(), self.idf_diag)\n",
    "        if self.norm is not None:\n",
    "            p = float(self.norm[-1])\n",
    "            X = F.normalize(X.double(), p=p, dim=1)\n",
    "        return X\n",
    "    \n",
    "\n",
    "class TgLang(nn.Module):\n",
    "    \"\"\" vectorize input texts, classfy topics and decode predictions \"\"\"\n",
    "    def __init__(self, vect, clf):\n",
    "        super().__init__()\n",
    "        self.vect = vect\n",
    "        self.clf = clf\n",
    "    \n",
    "    def to_dict(self):\n",
    "        return dict(\n",
    "            vect=self.vect.to_dict(),\n",
    "            clf=self.clf.to_dict(),\n",
    "        )\n",
    "        \n",
    "    def select_top_class(self, probs: torch.Tensor) -> int:\n",
    "        \"\"\" select classes with at least min prob and return a normalized dict mapping \"\"\"\n",
    "        if self.clf.nb == 'cnb' and probs.std(0) < 0.0001:\n",
    "            return 0\n",
    "        elif self.clf.nb == 'mnb' and probs.max() < 0.001:\n",
    "            return 0\n",
    "        max_index = torch.argmax(probs, 0)\n",
    "        class_label = self.clf.clf_labels[max_index.item()]\n",
    "        return self.clf.target_labels.index(class_label)\n",
    "        \n",
    "    \n",
    "    def get_prob(self, batch: List[List[str]]) -> torch.Tensor:\n",
    "        embeddings = self.vect(batch)\n",
    "        probs = self.clf(embeddings)\n",
    "        return probs\n",
    "        \n",
    "    \n",
    "    def forward(self, batch: List[List[str]]) -> List[int]:\n",
    "        probs = self.get_prob(batch)\n",
    "        top_predictions = [self.select_top_class(probs[i]) for i in range(probs.size(0))]\n",
    "        return top_predictions\n",
    "    \n",
    "    \n",
    "class Tokenizer(nn.Module):\n",
    "    def forward(self, docs: list[str]) -> list[list[str]]:\n",
    "        return [tokenize_text(doc) for doc in docs]"
   ]
  },
  {
   "cell_type": "markdown",
   "id": "solid-steel",
   "metadata": {},
   "source": [
    "### Test"
   ]
  },
  {
   "cell_type": "code",
   "execution_count": 63,
   "id": "0799012c",
   "metadata": {},
   "outputs": [],
   "source": [
    "import torch"
   ]
  },
  {
   "cell_type": "code",
   "execution_count": 64,
   "id": "stone-bumper",
   "metadata": {
    "ExecuteTime": {
     "end_time": "2021-02-14T18:17:54.688347Z",
     "start_time": "2021-02-14T18:17:54.097924Z"
    }
   },
   "outputs": [
    {
     "name": "stderr",
     "output_type": "stream",
     "text": [
      "/Users/rustem.galiullin/opt/miniconda3/envs/tgwebapp/lib/python3.10/site-packages/sklearn/feature_extraction/text.py:525: UserWarning: The parameter 'token_pattern' will not be used since 'tokenizer' is not None'\n",
      "  warnings.warn(\n"
     ]
    }
   ],
   "source": [
    "\n",
    "trainer = Trainer(**best_params)\n",
    "_ = trainer.run_eval(final=True)\n"
   ]
  },
  {
   "cell_type": "code",
   "execution_count": 65,
   "id": "3b26fbc9",
   "metadata": {},
   "outputs": [],
   "source": [
    "\n",
    "tglang = TgLang(\n",
    "    TextVectorizer(best_params[\"vect\"], trainer.vect),\n",
    "    NaiveBayes(best_params[\"est\"], trainer.clf),\n",
    ")\n"
   ]
  },
  {
   "cell_type": "code",
   "execution_count": 66,
   "id": "13f82e85",
   "metadata": {},
   "outputs": [],
   "source": [
    "\n",
    "import json\n",
    "\n",
    "with open(\"./models/trained/tglang.json\", \"w\") as f:\n",
    "    json.dump(tglang.to_dict(), f)"
   ]
  },
  {
   "cell_type": "code",
   "execution_count": 36,
   "id": "bca965f3",
   "metadata": {},
   "outputs": [],
   "source": [
    "# torchscript\n",
    "tglang = torch.jit.script(tglang)\n",
    "\n",
    "tokenizer = Tokenizer()\n",
    "seq = nn.Sequential(\n",
    "    tokenizer,\n",
    "    tglang\n",
    ")\n"
   ]
  },
  {
   "cell_type": "code",
   "execution_count": 37,
   "id": "8bdb404f",
   "metadata": {},
   "outputs": [
    {
     "name": "stdout",
     "output_type": "stream",
     "text": [
      "Predicted 'TGLANG_LANGUAGE_PYTHON'. True: 'TGLANG_LANGUAGE_PYTHON'\n",
      "\n",
      "import geocoder\n",
      "\n",
      "def get_lat_lon_by_ip(ip_address):\n",
      "    g = geocoder.ip(ip_address)\n",
      "    if g.latlng:\n",
      "        latitude, longitude = g.latlng\n",
      "        return latitude, longitude\n",
      "    else:\n",
      "        return None\n",
      "\n",
      "# Example usage\n",
      "ip_address = \"123.456.789.0\"  # Replace with the IP address you want to get the location for\n",
      "location = get_lat_lon_by_ip(ip_address)\n",
      "if location:\n",
      "    latitude, longitude = location\n",
      "    print(f\"Latitude: {latitude}, Longitude: {longitude}\")\n",
      "else:\n",
      "    print(\"Unable to get the location for the provided IP address.\")\n",
      "==================================================\n",
      "\n",
      "Predicted 'TGLANG_LANGUAGE_PYTHON'. True: 'TGLANG_LANGUAGE_PYTHON'\n",
      "\n",
      "print(4)\n",
      "==================================================\n",
      "\n",
      "Predicted 'TGLANG_LANGUAGE_OTHER'. True: 'TGLANG_LANGUAGE_OTHER'\n",
      "\n",
      "— Скверны подобны животным, которые живут сегодняшним днем, не думая ни о прошлом, ни о будущем. — Делин развел руками. — Разве могли такие создания придумать столь дерзкий план? Разве они могли догадаться скрестить свой род с родом заклятых врагов, пусть и отдаленно схожих с ними, а затем вырастить полученное потомство?\n",
      "==================================================\n",
      "\n",
      "Predicted 'TGLANG_LANGUAGE_PHP'. True: 'TGLANG_LANGUAGE_PHP'\n",
      "\n",
      "public function dispatchExpired(): self\n",
      "    {\n",
      "        $duration = $this->section->duration;\n",
      "        $later = now()->addMinutes($duration)->addSeconds(config('exam.delay'));\n",
      "\n",
      "        AssessmentExpirationJob::dispatch($this, $later)->delay($later);\n",
      "\n",
      "        return $this;\n",
      "    }\n",
      "==================================================\n",
      "\n",
      "Predicted 'TGLANG_LANGUAGE_OTHER'. True: 'TGLANG_LANGUAGE_OTHER'\n",
      "\n",
      "26 + 6 points (100%)\n",
      "==================================================\n",
      "\n",
      "CPU times: user 23.4 ms, sys: 1.7 ms, total: 25.1 ms\n",
      "Wall time: 24.5 ms\n"
     ]
    }
   ],
   "source": [
    "%%time \n",
    "\n",
    "\n",
    "batch = test_set.sample(5)\n",
    "inputs = batch[\"content\"].tolist()\n",
    "gt = batch[\"lang\"].tolist()\n",
    "\n",
    "\n",
    "\n",
    "predictions = seq(inputs)\n",
    "\n",
    "for inp, out, index in zip(inputs, gt, predictions):\n",
    "    print(f\"Predicted {LANG_ENUM[index]!r}. \"\n",
    "          f\"True: {out!r}\", \n",
    "          end=\"\\n\\n\")\n",
    "    print(inp)\n",
    "    print(\"=\"*50, end=\"\\n\\n\")"
   ]
  },
  {
   "cell_type": "markdown",
   "id": "southwest-removal",
   "metadata": {},
   "source": [
    "### Final training, convert and save"
   ]
  },
  {
   "cell_type": "code",
   "execution_count": 38,
   "id": "anticipated-deficit",
   "metadata": {
    "ExecuteTime": {
     "end_time": "2021-02-14T18:18:38.315464Z",
     "start_time": "2021-02-14T18:18:34.555711Z"
    },
    "code_folding": []
   },
   "outputs": [
    {
     "name": "stdout",
     "output_type": "stream",
     "text": [
      "saved to models/trained/tglang.pt\n"
     ]
    }
   ],
   "source": [
    "\n",
    "path = 'models/trained/tglang.pt'\n",
    "# tokenizer_path = path.replace(\"tglang.pt\", \"tglang_tokenizer.pt\")\n",
    "torch.jit.save(tglang, path)\n",
    "# torch.jit.save(spe_scripted, tokenizer_path)\n",
    "print('saved to', path)"
   ]
  },
  {
   "cell_type": "markdown",
   "id": "9487662a",
   "metadata": {},
   "source": [
    "## Test jit"
   ]
  },
  {
   "cell_type": "code",
   "execution_count": 36,
   "id": "5c0d9b8e",
   "metadata": {},
   "outputs": [],
   "source": [
    "import torch"
   ]
  },
  {
   "cell_type": "code",
   "execution_count": 37,
   "id": "31d853a6",
   "metadata": {},
   "outputs": [
    {
     "name": "stdout",
     "output_type": "stream",
     "text": [
      "CPU times: user 4.43 ms, sys: 1.22 ms, total: 5.65 ms\n",
      "Wall time: 5.58 ms\n"
     ]
    },
    {
     "data": {
      "text/plain": [
       "RecursiveScriptModule(\n",
       "  original_name=TgLang\n",
       "  (vect): RecursiveScriptModule(original_name=TextVectorizer)\n",
       "  (clf): RecursiveScriptModule(original_name=NaiveBayes)\n",
       ")"
      ]
     },
     "execution_count": 37,
     "metadata": {},
     "output_type": "execute_result"
    }
   ],
   "source": [
    "%%time\n",
    "\n",
    "path = 'models/trained/tglang.pt'\n",
    "\n",
    "tokenizer = Tokenizer()\n",
    "model = torch.jit.load(path)\n",
    "\n",
    "model"
   ]
  },
  {
   "cell_type": "markdown",
   "id": "26224dca",
   "metadata": {},
   "source": [
    "##### Check other"
   ]
  },
  {
   "cell_type": "code",
   "execution_count": 38,
   "id": "66477feb",
   "metadata": {},
   "outputs": [
    {
     "name": "stdout",
     "output_type": "stream",
     "text": [
      "========== TGLANG_LANGUAGE_OTHER ==========\n",
      "Bienvenido\n",
      "\n",
      "========== TGLANG_LANGUAGE_OTHER ==========\n",
      "FNT5\n",
      "\n",
      "========== TGLANG_LANGUAGE_OTHER ==========\n",
      "Каждое воскресенье в 14;30; Библиотека им. Куликова — ул. Гоголя, 183\n",
      "\n",
      "========== TGLANG_LANGUAGE_OTHER ==========\n",
      "37 🔑|     2 💫|     5 🍺\n",
      "   11 💉|     4 📕|     2 🛌\n",
      "    7 🧃|     6 🟣|     5 🔴\n",
      "    8 🔵|     7 🟢|     1 💰\n",
      "    9 👝|\n",
      "\n",
      "CPU times: user 22.2 ms, sys: 6.93 ms, total: 29.2 ms\n",
      "Wall time: 44.9 ms\n"
     ]
    }
   ],
   "source": [
    "%%time\n",
    "\n",
    "model_input = test_set[test_set[\"lang\"] == LANG_ENUM[0]][\"content\"].sample(4).tolist()\n",
    "model_out = model(tokenizer(model_input))\n",
    "\n",
    "for x, y in zip(model_input, model_out):\n",
    "    print(\"=\"*10, LANG_ENUM[y], \"=\"*10)\n",
    "    print(x, end='\\n\\n')"
   ]
  },
  {
   "cell_type": "markdown",
   "id": "f828a165",
   "metadata": {},
   "source": [
    "##### Check lang"
   ]
  },
  {
   "cell_type": "code",
   "execution_count": 40,
   "id": "26324903",
   "metadata": {},
   "outputs": [
    {
     "name": "stdout",
     "output_type": "stream",
     "text": [
      "========== TGLANG_LANGUAGE_C ==========\n",
      "python\n",
      "def calculate_hypotenuse(leg1, leg2):\n",
      "    leg1_squared = leg1 ** 2\n",
      "    leg2_squared = leg2 ** 2\n",
      "    sum_of_squares = leg1_squared + leg2_squared\n",
      "    hypotenuse = sum_of_squares ** 0.5\n",
      "    return hypotenuse\n",
      "\n",
      "========== TGLANG_LANGUAGE_HTML ==========\n",
      "<div \n",
      "  class=\"some static classes\"\n",
      "  :classes=\"[...my, {[`dynamic--${color}`]: hasColor }]\"\n",
      " />\n",
      "\n",
      "========== TGLANG_LANGUAGE_JSON ==========\n",
      "{\n",
      "  \"update_id\": 256247932,\n",
      "  \"chat_member\": {\n",
      "    \"chat\": {\n",
      "      \"id\": -1001818289494,\n",
      "      \"title\": \"ASTRONOT MOD OFFICIAL\",\n",
      "      \"username\": \"astronotmod\",\n",
      "      \"type\": \"channel\"\n",
      "    },\n",
      "    \"from\": {\n",
      "      \"id\": 5065199935,\n",
      "      \"is_bot\": false,\n",
      "      \"first_name\": \"`Zacky\",\n",
      "      \"last_name\": \"[NC]\"\n",
      "    },\n",
      "    \"date\": 1696675329,\n",
      "    \"old_chat_member\": {\n",
      "      \"user\": {\n",
      "        \"id\": 5065199935,\n",
      "        \"is_bot\": false,\n",
      "        \"first_name\": \"`Zacky\",\n",
      "        \"last_name\": \"[NC]\"\n",
      "      },\n",
      "      \"status\": \"member\"\n",
      "    },\n",
      "    \"new_chat_member\": {\n",
      "      \"user\": {\n",
      "        \"id\": 5065199935,\n",
      "        \"is_bot\": false,\n",
      "        \"first_name\": \"`Zacky\",\n",
      "        \"last_name\": \"[NC]\"\n",
      "      },\n",
      "      \"status\": \"left\"\n",
      "    }\n",
      "  }\n",
      "}\n",
      "\n",
      "========== TGLANG_LANGUAGE_LUA ==========\n",
      "let spells = dsa.Spell();\n",
      "\n",
      "spells.add({\n",
      "  connector: \"authority\",\n",
      "  method: \"add\",\n",
      "  args: [authority_address]\n",
      "});\n",
      "\n",
      "spells.add({\n",
      "  connector: \"maker\",\n",
      "  method: \"transfer\",\n",
      "  args: [vault_id, nextOwner_address]\n",
      "});\n",
      "\n",
      "spells.add({\n",
      "  connector: \"authority\",\n",
      "  method: \"remove\",\n",
      "  args: [authority_address]\n",
      "});\n",
      "\n",
      "dsa.cast(spells).then(console.log)\n",
      "\n",
      "CPU times: user 2.6 ms, sys: 849 µs, total: 3.45 ms\n",
      "Wall time: 2.64 ms\n"
     ]
    }
   ],
   "source": [
    "%%time\n",
    "\n",
    "model_input = test_set[test_set[\"lang\"] != LANG_ENUM[0]][\"content\"].sample(4).tolist()\n",
    "model_out = model(tokenizer(model_input))\n",
    "\n",
    "for x, y in zip(model_input, model_out):\n",
    "    print(\"=\"*10, LANG_ENUM[y], \"=\"*10)\n",
    "    print(x, end='\\n\\n')"
   ]
  },
  {
   "cell_type": "code",
   "execution_count": 51,
   "id": "9d49cc19",
   "metadata": {},
   "outputs": [],
   "source": [
    "TEXT = \"\"\"<div \n",
    "  class=\"some static classes\"\n",
    "  :classes=\"[...my, {[`dynamic--${color}`]: hasColor }]\"\n",
    " />\"\"\"\n",
    "\n",
    "tokenizer_out = tokenizer([TEXT])\n",
    "vectorizer_out = model.vect(tokenizer_out)\n",
    "clf_out = model.clf(vectorizer_out)"
   ]
  },
  {
   "cell_type": "code",
   "execution_count": 55,
   "id": "1a26698c",
   "metadata": {},
   "outputs": [],
   "source": [
    "with open(\"./models/trained/example_output.json\", 'w') as f:\n",
    "    json.dump(dict(\n",
    "        text=TEXT,\n",
    "        tokenizer_out=tokenizer_out,\n",
    "        vectorizer_out=vectorizer_out.tolist(),\n",
    "        clf_out=clf_out.tolist()\n",
    "        ), f)"
   ]
  },
  {
   "cell_type": "markdown",
   "id": "willing-progressive",
   "metadata": {},
   "source": [
    "### Check file sizes"
   ]
  },
  {
   "cell_type": "code",
   "execution_count": 42,
   "id": "sweet-disabled",
   "metadata": {
    "ExecuteTime": {
     "end_time": "2021-02-14T18:18:42.785922Z",
     "start_time": "2021-02-14T18:18:42.617688Z"
    }
   },
   "outputs": [
    {
     "name": "stdout",
     "output_type": "stream",
     "text": [
      "616K\tmodels/trained/tglang.pt\r\n",
      "384K\tmodels/trained/tglang_spe_unigram_10000.torchscript\r\n",
      "380K\tmodels/trained/tglang_spe_unigram_10000.model\r\n",
      "156K\tmodels/trained/tglang_spe_unigram_10000.vocab\r\n",
      "8.1M\tmodels/trained/tglang_l.pt\r\n",
      "3.1M\tmodels/trained/tglang_m.pt\r\n"
     ]
    }
   ],
   "source": [
    "!du -h models/trained/* | sort -nr"
   ]
  },
  {
   "cell_type": "code",
   "execution_count": null,
   "id": "fresh-sport",
   "metadata": {},
   "outputs": [],
   "source": []
  }
 ],
 "metadata": {
  "kernelspec": {
   "display_name": "tgwebapp",
   "language": "python",
   "name": "tgwebapp"
  },
  "language_info": {
   "codemirror_mode": {
    "name": "ipython",
    "version": 3
   },
   "file_extension": ".py",
   "mimetype": "text/x-python",
   "name": "python",
   "nbconvert_exporter": "python",
   "pygments_lexer": "ipython3",
   "version": "3.10.4"
  },
  "notify_time": "10",
  "toc": {
   "base_numbering": 1,
   "nav_menu": {},
   "number_sections": true,
   "sideBar": true,
   "skip_h1_title": false,
   "title_cell": "Table of Contents",
   "title_sidebar": "Contents",
   "toc_cell": false,
   "toc_position": {
    "height": "calc(100% - 180px)",
    "left": "10px",
    "top": "150px",
    "width": "227px"
   },
   "toc_section_display": true,
   "toc_window_display": true
  }
 },
 "nbformat": 4,
 "nbformat_minor": 5
}
