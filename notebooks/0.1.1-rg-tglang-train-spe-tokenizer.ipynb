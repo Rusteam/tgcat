{
 "cells": [
  {
   "cell_type": "code",
   "execution_count": 2,
   "id": "3485410b",
   "metadata": {},
   "outputs": [],
   "source": [
    "import os\n",
    "\n",
    "os.chdir(\"..\")"
   ]
  },
  {
   "cell_type": "code",
   "execution_count": 59,
   "id": "e3749569",
   "metadata": {},
   "outputs": [],
   "source": [
    "from pathlib import Path"
   ]
  },
  {
   "cell_type": "markdown",
   "id": "faf7b692",
   "metadata": {},
   "source": [
    "## Torchtext"
   ]
  },
  {
   "cell_type": "code",
   "execution_count": 34,
   "id": "2746495a",
   "metadata": {},
   "outputs": [],
   "source": [
    "from torchtext.data import functional as F\n",
    "import torchtext.transforms as T\n",
    "\n",
    "import torch"
   ]
  },
  {
   "cell_type": "code",
   "execution_count": 108,
   "id": "0326a2bb",
   "metadata": {},
   "outputs": [],
   "source": [
    "SPE_FILE = \"./data/processed/tglang_spe.txt\"\n",
    "MODE = \"word\"\n",
    "SIZE = 10000\n",
    "\n",
    "WRITE_TO = f\"./models/trained/tglang_spe_{MODE}_{SIZE}\""
   ]
  },
  {
   "cell_type": "code",
   "execution_count": 109,
   "id": "015c7db2",
   "metadata": {
    "scrolled": true
   },
   "outputs": [
    {
     "name": "stderr",
     "output_type": "stream",
     "text": [
      "sentencepiece_trainer.cc(177) LOG(INFO) Running command: --input=./data/processed/tglang_spe.txt --model_prefix=./models/trained/tglang_spe_word_10000 --vocab_size=10000 --model_type=word\n",
      "sentencepiece_trainer.cc(77) LOG(INFO) Starts training with : \n",
      "trainer_spec {\n",
      "  input: ./data/processed/tglang_spe.txt\n",
      "  input_format: \n",
      "  model_prefix: ./models/trained/tglang_spe_word_10000\n",
      "  model_type: WORD\n",
      "  vocab_size: 10000\n",
      "  self_test_sample_size: 0\n",
      "  character_coverage: 0.9995\n",
      "  input_sentence_size: 0\n",
      "  shuffle_input_sentence: 1\n",
      "  seed_sentencepiece_size: 1000000\n",
      "  shrinking_factor: 0.75\n",
      "  max_sentence_length: 4192\n",
      "  num_threads: 16\n",
      "  num_sub_iterations: 2\n",
      "  max_sentencepiece_length: 16\n",
      "  split_by_unicode_script: 1\n",
      "  split_by_number: 1\n",
      "  split_by_whitespace: 1\n",
      "  split_digits: 0\n",
      "  treat_whitespace_as_suffix: 0\n",
      "  required_chars: \n",
      "  byte_fallback: 0\n",
      "  vocabulary_output_piece_score: 1\n",
      "  train_extremely_large_corpus: 0\n",
      "  hard_vocab_limit: 1\n",
      "  use_all_vocab: 0\n",
      "  unk_id: 0\n",
      "  bos_id: 1\n",
      "  eos_id: 2\n",
      "  pad_id: -1\n",
      "  unk_piece: <unk>\n",
      "  bos_piece: <s>\n",
      "  eos_piece: </s>\n",
      "  pad_piece: <pad>\n",
      "  unk_surface:  ⁇ \n",
      "}\n",
      "normalizer_spec {\n",
      "  name: nmt_nfkc\n",
      "  add_dummy_prefix: 1\n",
      "  remove_extra_whitespaces: 1\n",
      "  escape_whitespaces: 1\n",
      "  normalization_rule_tsv: \n",
      "}\n",
      "denormalizer_spec {}\n",
      "trainer_interface.cc(319) LOG(INFO) SentenceIterator is not specified. Using MultiFileSentenceIterator.\n",
      "trainer_interface.cc(174) LOG(INFO) Loading corpus: ./data/processed/tglang_spe.txt\n",
      "trainer_interface.cc(346) LOG(WARNING) Found too long line (34132 > 4192).\n",
      "trainer_interface.cc(348) LOG(WARNING) Too long lines are skipped in the training.\n",
      "trainer_interface.cc(349) LOG(WARNING) The maximum length can be changed with --max_sentence_length=<size> flag.\n",
      "trainer_interface.cc(375) LOG(INFO) Loaded all 920062 sentences\n",
      "trainer_interface.cc(381) LOG(INFO) Skipped 142 too long sentences.\n",
      "trainer_interface.cc(390) LOG(INFO) Adding meta_piece: <unk>\n",
      "trainer_interface.cc(390) LOG(INFO) Adding meta_piece: <s>\n",
      "trainer_interface.cc(390) LOG(INFO) Adding meta_piece: </s>\n",
      "trainer_interface.cc(395) LOG(INFO) Normalizing sentences...\n",
      "trainer_interface.cc(456) LOG(INFO) all chars count=31643629\n",
      "trainer_interface.cc(467) LOG(INFO) Done: 99.9501% characters are covered.\n",
      "trainer_interface.cc(477) LOG(INFO) Alphabet size=774\n",
      "trainer_interface.cc(478) LOG(INFO) Final character coverage=0.999501\n",
      "trainer_interface.cc(510) LOG(INFO) Done! preprocessed 902907 sentences.\n",
      "trainer_interface.cc(604) LOG(INFO) Saving model: ./models/trained/tglang_spe_word_10000.model\n",
      "trainer_interface.cc(615) LOG(INFO) Saving vocabs: ./models/trained/tglang_spe_word_10000.vocab\n"
     ]
    }
   ],
   "source": [
    "F.generate_sp_model(SPE_FILE, vocab_size=SIZE, model_type=MODE, model_prefix=WRITE_TO)"
   ]
  },
  {
   "cell_type": "code",
   "execution_count": 110,
   "id": "22f5e7d7",
   "metadata": {},
   "outputs": [],
   "source": [
    "spe = T.SentencePieceTokenizer(WRITE_TO + \".model\")"
   ]
  },
  {
   "cell_type": "code",
   "execution_count": 111,
   "id": "e1f3ec02",
   "metadata": {},
   "outputs": [],
   "source": [
    "CODE = \"\"\"import React from 'react';\n",
    "\n",
    "class MyComponent extends React.Component {\n",
    "  constructor(props) {\n",
    "    super(props);\n",
    "    this.state = {\n",
    "      count: 0\n",
    "    };\n",
    "  }\n",
    "\n",
    "  handleClick = () => {\n",
    "    this.setState(prevState => ({\n",
    "      count: prevState.count + 1\n",
    "    }));\n",
    "  }\n",
    "\n",
    "  render() {\n",
    "    return (\n",
    "      <div>\n",
    "        <h1>Counter: {this.state.count}</h1>\n",
    "        <button onClick={this.handleClick}>Increment</button>\n",
    "      </div>\n",
    "    );\n",
    "  }\n",
    "}\n",
    "\n",
    "export default MyComponent;\n",
    "\"\"\""
   ]
  },
  {
   "cell_type": "code",
   "execution_count": 112,
   "id": "9829ccdb",
   "metadata": {},
   "outputs": [
    {
     "data": {
      "text/plain": [
       "['▁import',\n",
       " '▁React',\n",
       " '▁from',\n",
       " \"▁'react';\",\n",
       " '▁class',\n",
       " '▁MyComponent',\n",
       " '▁extends',\n",
       " '▁React.Component',\n",
       " '▁{',\n",
       " '▁constructor(props)',\n",
       " '▁{',\n",
       " '▁super(props);▁this.state',\n",
       " '▁=',\n",
       " '▁{',\n",
       " '▁count:',\n",
       " '▁0',\n",
       " '▁};',\n",
       " '▁}',\n",
       " '▁handleClick',\n",
       " '▁=',\n",
       " '▁()',\n",
       " '▁=>',\n",
       " '▁{',\n",
       " '▁this.setState(prevState',\n",
       " '▁=>',\n",
       " '▁({',\n",
       " '▁count:',\n",
       " '▁prevState.count',\n",
       " '▁+',\n",
       " '▁1',\n",
       " '▁}));',\n",
       " '▁}',\n",
       " '▁render()',\n",
       " '▁{',\n",
       " '▁return',\n",
       " '▁(',\n",
       " '▁<div>',\n",
       " '▁<h1>Counter:▁{this.state.count}</h1>',\n",
       " '▁<button',\n",
       " '▁onClick={this.handleClick}>Increment</button>',\n",
       " '▁</div>',\n",
       " '▁);',\n",
       " '▁}',\n",
       " '▁}',\n",
       " '▁export',\n",
       " '▁default',\n",
       " '▁MyComponent;']"
      ]
     },
     "execution_count": 112,
     "metadata": {},
     "output_type": "execute_result"
    }
   ],
   "source": [
    "spe(CODE)"
   ]
  },
  {
   "cell_type": "code",
   "execution_count": 113,
   "id": "abaa89e2",
   "metadata": {},
   "outputs": [],
   "source": [
    "scripted = torch.jit.script(spe)\n",
    "\n",
    "assert scripted(CODE) == spe(CODE)"
   ]
  },
  {
   "cell_type": "code",
   "execution_count": 114,
   "id": "b872a4db",
   "metadata": {},
   "outputs": [],
   "source": [
    "torch.jit.save(scripted, WRITE_TO + \".torchscript\")"
   ]
  },
  {
   "cell_type": "markdown",
   "id": "9ba0367f",
   "metadata": {},
   "source": [
    "## Tokenizers"
   ]
  },
  {
   "cell_type": "code",
   "execution_count": 70,
   "id": "a88e5298",
   "metadata": {},
   "outputs": [
    {
     "name": "stdout",
     "output_type": "stream",
     "text": [
      "\n",
      "\n",
      "\n"
     ]
    }
   ],
   "source": [
    "from tokenizers import Tokenizer\n",
    "from tokenizers.models import BPE\n",
    "from tokenizers.trainers import BpeTrainer\n",
    "from tokenizers.pre_tokenizers import Whitespace\n",
    "\n",
    "tokenizer = Tokenizer(BPE(unk_token=\"[UNK]\"))\n",
    "trainer = BpeTrainer(special_tokens=[\"[UNK]\", \"[CLS]\", \"[SEP]\", \"[PAD]\", \"[MASK]\"])\n",
    "\n",
    "tokenizer.pre_tokenizer = Whitespace()\n",
    "\n",
    "tokenizer.train([SPE_FILE], trainer)"
   ]
  },
  {
   "cell_type": "code",
   "execution_count": 71,
   "id": "11092dd7",
   "metadata": {},
   "outputs": [],
   "source": [
    "tokenizer.save(\"./models/trained/tokenizer.json\")"
   ]
  },
  {
   "cell_type": "code",
   "execution_count": null,
   "id": "acd76273",
   "metadata": {},
   "outputs": [],
   "source": []
  }
 ],
 "metadata": {
  "kernelspec": {
   "display_name": "tgwebapp",
   "language": "python",
   "name": "tgwebapp"
  },
  "language_info": {
   "codemirror_mode": {
    "name": "ipython",
    "version": 3
   },
   "file_extension": ".py",
   "mimetype": "text/x-python",
   "name": "python",
   "nbconvert_exporter": "python",
   "pygments_lexer": "ipython3",
   "version": "3.10.4"
  },
  "toc": {
   "base_numbering": 1,
   "nav_menu": {},
   "number_sections": true,
   "sideBar": true,
   "skip_h1_title": false,
   "title_cell": "Table of Contents",
   "title_sidebar": "Contents",
   "toc_cell": false,
   "toc_position": {},
   "toc_section_display": true,
   "toc_window_display": false
  }
 },
 "nbformat": 4,
 "nbformat_minor": 5
}
