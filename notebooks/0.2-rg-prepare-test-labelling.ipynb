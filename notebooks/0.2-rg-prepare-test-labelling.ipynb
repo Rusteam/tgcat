{
 "cells": [
  {
   "cell_type": "markdown",
   "metadata": {},
   "source": [
    "# Prepare test data for annotation"
   ]
  },
  {
   "cell_type": "code",
   "execution_count": 1,
   "metadata": {
    "ExecuteTime": {
     "end_time": "2021-04-19T18:03:55.114770Z",
     "start_time": "2021-04-19T18:03:54.440842Z"
    }
   },
   "outputs": [],
   "source": [
    "%load_ext autoreload\n",
    "%autoreload 2\n",
    "%matplotlib inline\n",
    "#standard libs\n",
    "import os, sys\n",
    "from pathlib import Path\n",
    "from pprint import pprint\n",
    "import random\n",
    "import json\n",
    "import itertools\n",
    "from datetime import datetime as dt\n",
    "# ds libs\n",
    "import pandas as pd\n",
    "import numpy as np\n",
    "import matplotlib.pyplot as plt\n",
    "from tqdm import tqdm, tqdm_notebook\n",
    "# custom path\n",
    "os.chdir('..')"
   ]
  },
  {
   "cell_type": "code",
   "execution_count": 72,
   "metadata": {
    "ExecuteTime": {
     "end_time": "2021-04-19T18:33:29.575357Z",
     "start_time": "2021-04-19T18:33:29.542026Z"
    }
   },
   "outputs": [],
   "source": [
    "from collections import Counter\n",
    "import re"
   ]
  },
  {
   "cell_type": "code",
   "execution_count": 2,
   "metadata": {
    "ExecuteTime": {
     "end_time": "2021-04-19T18:03:55.825826Z",
     "start_time": "2021-04-19T18:03:55.116213Z"
    }
   },
   "outputs": [],
   "source": [
    "from src.train.predict import prepare_texts, load_models, load_test_file, format_text, predict_language\n"
   ]
  },
  {
   "cell_type": "code",
   "execution_count": 35,
   "metadata": {
    "ExecuteTime": {
     "end_time": "2021-04-19T18:20:32.685271Z",
     "start_time": "2021-04-19T18:20:32.648692Z"
    }
   },
   "outputs": [],
   "source": [
    "get_file_lang = lambda fp: Path(fp).stem.split('-')[2]"
   ]
  },
  {
   "cell_type": "markdown",
   "metadata": {},
   "source": [
    "## New randomly selected tasks"
   ]
  },
  {
   "cell_type": "code",
   "execution_count": 36,
   "metadata": {
    "ExecuteTime": {
     "end_time": "2021-04-19T18:20:33.996856Z",
     "start_time": "2021-04-19T18:20:33.964026Z"
    }
   },
   "outputs": [],
   "source": [
    "FILES = [\n",
    "    'data/external/dc0415-input/original/dc0415-input-ru.txt',\n",
    "    'data/external/dc0415-input/original/dc0415-input-en.txt',\n",
    "    'data/external/dc0415-input/translated/dc0415-input-ar-translated.txt',\n",
    "    'data/external/dc0415-input/translated/dc0415-input-fa-translated.txt',\n",
    "    'data/external/dc0415-input/translated/dc0415-input-uz-translated.txt',\n",
    "]"
   ]
  },
  {
   "cell_type": "markdown",
   "metadata": {},
   "source": [
    "### Load"
   ]
  },
  {
   "cell_type": "code",
   "execution_count": 37,
   "metadata": {
    "ExecuteTime": {
     "end_time": "2021-04-19T18:20:39.438923Z",
     "start_time": "2021-04-19T18:20:35.336858Z"
    }
   },
   "outputs": [
    {
     "name": "stdout",
     "output_type": "stream",
     "text": [
      "ru 100\n",
      "en 100\n",
      "ar 100\n",
      "fa 100\n",
      "uz 100\n"
     ]
    }
   ],
   "source": [
    "test_data = {\n",
    "    get_file_lang(f): random.sample(load_test_file(f, verbose=False), 100)\n",
    "    for f in FILES\n",
    "            }\n",
    "\n",
    "for l,d in test_data.items():\n",
    "    print(l, len(d))"
   ]
  },
  {
   "cell_type": "markdown",
   "metadata": {},
   "source": [
    "### explore"
   ]
  },
  {
   "cell_type": "code",
   "execution_count": 42,
   "metadata": {
    "ExecuteTime": {
     "end_time": "2021-04-19T18:21:20.677340Z",
     "start_time": "2021-04-19T18:21:20.637224Z"
    }
   },
   "outputs": [
    {
     "name": "stdout",
     "output_type": "stream",
     "text": [
      "Language UZ\n",
      "{'counters': {'audios': 129,\n",
      "              'files': 92,\n",
      "              'photos': 268,\n",
      "              'posts': 3228,\n",
      "              'videos': 71},\n",
      " 'description': 'Assalomu alaykum ❗ Here you will have Eng️ 1️⃣ Latest Tests '\n",
      "                'Qu✅ 2️⃣ Best Quizzes💡✅ 3️⃣ Most Necessary Guides 📑✅ 4️⃣ '\n",
      "                'Latest Information atsiya✅ 5️⃣ Best Motivations 📈🗝✅ Contact : '\n",
      "                '@Faylasufginam Tel number: +998993433211',\n",
      " 'recent_posts': [{'text': '🎲 “GRADE 11 UZBEK HISTORY CHANNEL: '\n",
      "                           '@HISTORY_QUIZ_UZ Facts: @HISTORY_MEMORY Channel: '\n",
      "                           '@GRANT_UZ Compiler: @ Jurist_19” test 🖊 15 '\n",
      "                           'questions · ⏱ 30 seconds',\n",
      "                   'type': 'text'},\n",
      "                  {'text': '🎲 “📊GRANT FOR HISTORIANS Channel @ History_Quiz_Uz '\n",
      "                           'Compiler: @Dilqushim” test test 10 questions · ⏱ '\n",
      "                           '30 seconds',\n",
      "                   'type': 'text'},\n",
      "                  {'text': '🎲 “7th World History TEST. Channel: '\n",
      "                           '@HISTORY_QUIZ_UZ Facts: @HISTORY_MEMORY Channel: '\n",
      "                           '@GRANT_UZ Author: @ Jurist_19 ”test 🖊 10 questions '\n",
      "                           '· ⏱ 30 seconds',\n",
      "                   'type': 'text'},\n",
      "                  {'text': 'Turkish President Recep Tayyip Erdogan has called '\n",
      "                           'on all Muslim countries to abandon the US dollar '\n",
      "                           'and open an Islamic bank.',\n",
      "                   'type': 'text'},\n",
      "                  {'duration': 282,\n",
      "                   'file_size': 11300570,\n",
      "                   'text': 'HELLO! May your new day be full of new dreams, '\n",
      "                           'endless sincere hopes, countless good deeds .. !!',\n",
      "                   'type': 'audio'},\n",
      "                  {'text': '🎲 “10th grade Uzbek History TesT. Our Compulsory '\n",
      "                           'Subject Channel: @GRANT_UZ @GRANT_UZ @GRANT_UZ '\n",
      "                           'Partner Channel: @HISTORY_QUIZ_UZ ”test 🖊 15 '\n",
      "                           'questions · ⏱ 30 seconds',\n",
      "                   'type': 'text'},\n",
      "                  {'text': '🎲 “DTM test from history Channel: @HISTORY_QUIZ_UZ '\n",
      "                           'Facts: @HISTORY_MEMORY Channel: @GRANT_UZ Author: '\n",
      "                           '@ Jurist_19” test 🖊 15 questions · ⏱ 30 seconds',\n",
      "                   'type': 'text'},\n",
      "                  {'text': '🎲 “DTM TEST🔱 Channel: @HISTORY_QUIZ_UZ Facts: '\n",
      "                           '@HISTORY_MEMORY Channel: @GRANT_UZ Compiler: @ '\n",
      "                           'Jurist_19” test 🖊 15 questions · ⏱ 30 seconds',\n",
      "                   'type': 'text'}],\n",
      " 'subscribers': 12850,\n",
      " 'title': 'HISTORY'}\n"
     ]
    }
   ],
   "source": [
    "l = random.choice(list(test_data.keys()))\n",
    "d = random.choice(test_data[l])\n",
    "\n",
    "print(f\"Language {l.upper()}\")\n",
    "pprint(d)"
   ]
  },
  {
   "cell_type": "markdown",
   "metadata": {},
   "source": [
    "### Convert to tasks"
   ]
  },
  {
   "cell_type": "code",
   "execution_count": 135,
   "metadata": {
    "ExecuteTime": {
     "end_time": "2021-04-19T20:02:31.124434Z",
     "start_time": "2021-04-19T20:02:31.090614Z"
    }
   },
   "outputs": [],
   "source": [
    "def update_dict(src_dict,dest_dict):\n",
    "    src_dict.update(dest_dict)\n",
    "    return src_dict\n",
    "\n",
    "\n",
    "def get_task_stats(tasks):\n",
    "    print('# tasks', len(tasks))\n",
    "    by_lang = Counter(t['lang_code'] for t in tasks)\n",
    "    pprint(by_lang)"
   ]
  },
  {
   "cell_type": "code",
   "execution_count": 136,
   "metadata": {
    "ExecuteTime": {
     "end_time": "2021-04-19T20:02:31.323064Z",
     "start_time": "2021-04-19T20:02:31.290627Z"
    }
   },
   "outputs": [],
   "source": [
    "tasks = [update_dict(one, {'lang_code':lang}) for lang,channels in test_data.items() for one in channels]\n",
    "\n"
   ]
  },
  {
   "cell_type": "code",
   "execution_count": 137,
   "metadata": {
    "ExecuteTime": {
     "end_time": "2021-04-19T20:02:32.297873Z",
     "start_time": "2021-04-19T20:02:32.263245Z"
    }
   },
   "outputs": [
    {
     "name": "stdout",
     "output_type": "stream",
     "text": [
      "# tasks 500\n",
      "Counter({'ru': 100, 'en': 100, 'ar': 100, 'fa': 100, 'uz': 100})\n"
     ]
    }
   ],
   "source": [
    "get_task_stats(tasks)"
   ]
  },
  {
   "cell_type": "code",
   "execution_count": 138,
   "metadata": {
    "ExecuteTime": {
     "end_time": "2021-04-19T20:02:32.815141Z",
     "start_time": "2021-04-19T20:02:32.780432Z"
    }
   },
   "outputs": [
    {
     "data": {
      "text/plain": [
       "{'title': 'Tehran Times | Tehran timse',\n",
       " 'description': '🔻The most up-to-date news of Iran and the world باط Contact with reporters (regarding posts and content) @Ma_matrix',\n",
       " 'subscribers': 78820,\n",
       " 'counters': {'posts': 43545,\n",
       "  'photos': 22951,\n",
       "  'videos': 7894,\n",
       "  'audios': 14,\n",
       "  'files': 41},\n",
       " 'recent_posts': [{'type': 'photo',\n",
       "   'text': '🌀 The bell of Shams Al-Amara clock rang in Golestan Palace 🔹 The old clock of Tehran Golestan Palace, which is mounted on the Shams Al-Amara tower, sounded again after many years. 🔹 The sound of the bell of this old clock, which is the gift of Queen Victoria, Queen of England to Nasser al-Din Shah Qajar, wrapped up in the 12th district of Tehran this morning, Monday, April 13, 1400, and caused happiness. 🔹 The reason for the failure of the bell was its loud ringing and disturbing the residents of Golestan Palace. At the order of Nasser al-Din Shah, they try to turn down the alarm, but completely destroy it and turn off the clock and alarm together. ایل In the early nineties, the Cultural Heritage Organization started to use the clock, and with the efforts of Mohammad Saatchi, finally, on February 13, 1991, after about 100 years, it started moving the hands. This tuning goes away after 10 months and the watch stops working for the second time. 🔹 🔹 In 1997, efforts were made to make the clock work and again the high cost, this time 15 million Tomans per month (for all clocks in Golestan Palace) does not allow the Shams al-Amara clock project to be implemented.'},\n",
       "  {'type': 'text',\n",
       "   'text': 'تاMostafa Tajzadeh: In order to restore the legitimacy of the system, elections should be held freely 🔹 If the elections are so free that the qualifications of the candidates of all factions are approved, glorious elections will be held یدThe meaning of confirming the qualifications of candidates with different tendencies is that the leadership He has accepted the change in policies and is trying to pave the way for the next government. Common sense dictates that the system spread the red carpet for all candidates. It does not matter how much he accepts them. The important thing is that a more important event happens in the community; Restoring the legitimacy of the system. The Islamic Republic is losing its legitimacy. It must confront and contain the crisis of its legitimacy by gaining the trust, satisfaction and participation of the people. To restore the legitimacy of the system, the people cannot be told, for example, that we are bringing in an army candidate (the same mistake that the armies are making now) and he It provides services to the community that, after a few years, the people will be satisfied with their choice today.The Islamic Republic must have such a digestion that even if the monarchists are willing to act within it, it will confirm their authority. At any cost, I consider it wrong in any election. I also consider the election boycott to be wrong in any case. Depending on the circumstances, you must participate in or withdraw from the election. گرIf the eligibility of the candidates is confirmed, we will participate in the elections, even if all the polls indicate our defeat. Because this kind of defeat, like the second councils, is part of democracy. Our criterion for participating or not participating in elections is not an a priori rule that we do not participate in elections, for example, because the system is illegitimate. Our participation or non-participation in the elections depends on a significant competition and the possibility of nominating a non-deputy candidate.'},\n",
       "  {'type': 'video',\n",
       "   'text': 'تهرانTehran City Council approved the comprehensive plan for waste management in its meeting on Tuesday ❇️According to this plan, with an investment of 1600 billion Tomans, 15% of Tehran&#39;s waste will eventually go to Arad Kuh and leachate treatment systems will also increase the amount of leachate entering Arad Kuh. Reduce 💢The Islamic Council of Tehran @shorashahrtehran',\n",
       "   'duration': 253,\n",
       "   'file_name': 'IMG_2667.MP4',\n",
       "   'file_size': 13763131},\n",
       "  {'type': 'video',\n",
       "   'text': 'خبر What is the valley of the country !? 🔹 Israel 13 Channel says that the attack on the Natanz facility in Iran was not cyber and was carried out with an explosive charge. The Jerusalem Post says the incident at the Natanz nuclear facility was very large. حی Salehi also says: What happened today in Natanz was nuclear terrorism. ال Kamalvandi, who had traveled to Kashan to visit the Natanz enrichment complex incident, had an accident during the visit and his ankle and head were broken. 🔹Pan: How do you really make Gando !!!',\n",
       "   'duration': 33,\n",
       "   'file_size': 1155386},\n",
       "  {'type': 'video',\n",
       "   'text': 'قاRecussion of Judge Zadeh Hashemi to Rouhani at the Corona National Headquarters 🔹 We impose restrictions on Iraq, but there are a large number of flights to Turkey. وThe duality of &quot;entertainment&quot; and &quot;religion&quot; bothers the society',\n",
       "   'duration': 186,\n",
       "   'file_name': 'Corona_Bedoone Logo_x264_mpeg4_003.mp4',\n",
       "   'file_size': 9314973},\n",
       "  {'type': 'photo',\n",
       "   'text': 'If you are looking for an eye-catching color, buy it online: webpoosh.com/sets Buy Telegram or WhatsApp: 500 5000 0930 Aqdasiyeh Store: Army Square, Movahed Danesh, not far from Ajodania, No. 37, 3rd floor, West Town Store: Dadman, Fakhar Moghaddam , Welfare Bank Building, No. 10, 1st Floor Customer Affairs: 91005005-021 @webpoosh'},\n",
       "  {'type': 'text',\n",
       "   'text': 'حسن # حسن_رایت took a few hundred million Euros in facilities and did not return it, and with the same forbidden property, he built a mosque, a husseiniyya, a garden and a palace, and with this means he multiplied his wealth and influence! 🔹One of those whom Hussein Hussein and Ali Ali Guyan walked behind him and called him Uncle Hassan did not ask: Where did you get these ostriches before you were thirty years old ?! مرتAlthough the name of Morteza Rezaei did not appear in the first session of his court, but finally he became a court! 🔹 The zoo video was released eighteen months ago and the same words were said by the prosecutor. علThe public trial was not held in the presence of free journalists, and this means that only the burnt nuts are exposed and the bigots remain safe, like the Tabari court ..'},\n",
       "  {'type': 'photo',\n",
       "   'text': 'صFormal Complaints. This is the second time that the parliament wants to sue an incumbent president. Last time, the eighth and ninth parliaments chaired by Larijani complained about Ahmadinejad, and now the eleventh parliament chaired by Qalibaf complained about Rouhani. 🔹 This time it was the last months of the tenth government and this time it was the last months of the eleventh government. It has been more than eight years since then, and the former head of state has not been able to enter the judiciary even once. 🔹The subject of both complaints was the same, the President تخ violated the law. We have to wait and see if the judiciary will do the same with Rouhani.'},\n",
       "  {'type': 'video',\n",
       "   'text': '.The first national metro train, which is one of the fruits of relying on the knowledge and ability of Iranian youth, was put into production. @BourseNews',\n",
       "   'duration': 177,\n",
       "   'file_name': 'قطار.mp4',\n",
       "   'file_size': 7466790},\n",
       "  {'type': 'photo',\n",
       "   'text': 'Abdi: Obscenity against Rouhani is not a sign of freedom. This behavior is a sign of the depth of systematic discrimination that can be said against him and can not be said against others less than a goal !!'}],\n",
       " 'lang_code': 'fa'}"
      ]
     },
     "execution_count": 138,
     "metadata": {},
     "output_type": "execute_result"
    }
   ],
   "source": [
    "random.choice(tasks)"
   ]
  },
  {
   "cell_type": "markdown",
   "metadata": {},
   "source": [
    "### save tasks"
   ]
  },
  {
   "cell_type": "code",
   "execution_count": 139,
   "metadata": {
    "ExecuteTime": {
     "end_time": "2021-04-19T20:02:36.930591Z",
     "start_time": "2021-04-19T20:02:36.897720Z"
    }
   },
   "outputs": [
    {
     "name": "stdout",
     "output_type": "stream",
     "text": [
      "20210420\n"
     ]
    }
   ],
   "source": [
    "today_str = dt.strftime(dt.today(), '%Y%m%d')\n",
    "print(today_str)"
   ]
  },
  {
   "cell_type": "code",
   "execution_count": 140,
   "metadata": {
    "ExecuteTime": {
     "end_time": "2021-04-19T20:02:37.169724Z",
     "start_time": "2021-04-19T20:02:37.090157Z"
    }
   },
   "outputs": [],
   "source": [
    "random.shuffle(tasks)\n",
    "\n",
    "with open(f'data/processed/labelling_tasks_{today_str}.json', 'w') as f:\n",
    "    json.dump(tasks, f)"
   ]
  },
  {
   "cell_type": "markdown",
   "metadata": {},
   "source": [
    "## TG labelled data\n",
    "\n",
    "for reference when labelling"
   ]
  },
  {
   "cell_type": "code",
   "execution_count": 141,
   "metadata": {
    "ExecuteTime": {
     "end_time": "2021-04-19T20:02:37.857216Z",
     "start_time": "2021-04-19T20:02:37.823421Z"
    }
   },
   "outputs": [],
   "source": [
    "LABELLED_FILES = [\n",
    "    {\n",
    "        'input': 'data/external/submission1489/category_en/input.txt',\n",
    "        'output': 'data/external/submission1489/category_en/tg_output.txt'\n",
    "    },\n",
    "    {\n",
    "        'input': 'data/external/submission1489/category_ru/input.txt',\n",
    "        'output': 'data/external/submission1489/category_ru/tg_output.txt'\n",
    "    },\n",
    "]"
   ]
  },
  {
   "cell_type": "code",
   "execution_count": 142,
   "metadata": {
    "ExecuteTime": {
     "end_time": "2021-04-19T20:02:38.122212Z",
     "start_time": "2021-04-19T20:02:38.089300Z"
    }
   },
   "outputs": [],
   "source": [
    "get_lang = lambda fp: Path(fp).parent.stem.split('_')[1]"
   ]
  },
  {
   "cell_type": "markdown",
   "metadata": {},
   "source": [
    "### load files"
   ]
  },
  {
   "cell_type": "code",
   "execution_count": 143,
   "metadata": {
    "ExecuteTime": {
     "end_time": "2021-04-19T20:02:40.760169Z",
     "start_time": "2021-04-19T20:02:38.964174Z"
    }
   },
   "outputs": [
    {
     "name": "stdout",
     "output_type": "stream",
     "text": [
      "Loaded 14775 rows\n",
      "Loaded 14775 rows\n",
      "Loaded 16726 rows\n",
      "Loaded 16726 rows\n"
     ]
    }
   ],
   "source": [
    "labelled = {\n",
    "    get_lang(files['input']): {k: load_test_file(file) for k,file in files.items()}\n",
    "    for files in LABELLED_FILES\n",
    "}"
   ]
  },
  {
   "cell_type": "code",
   "execution_count": 144,
   "metadata": {
    "ExecuteTime": {
     "end_time": "2021-04-19T20:02:40.803857Z",
     "start_time": "2021-04-19T20:02:40.761831Z"
    }
   },
   "outputs": [
    {
     "name": "stdout",
     "output_type": "stream",
     "text": [
      "Lang RU\n",
      "\n",
      "INPUT:\n",
      "{'description': '',\n",
      " 'recent_posts': ['Игорь еб*ло разобьёт САНЕ БИ '\n",
      "                  'https://www.youtube.com/watch?v=lgYoR2YTIUU',\n",
      "                  'Игорь и Марина расстанутся ? '\n",
      "                  'https://www.youtube.com/watch?v=efeurlPH1yA',\n",
      "                  'Мелстрой БОИТСЯ АХАХХА '\n",
      "                  'https://www.youtube.com/watch?v=omVn4AMT6MU',\n",
      "                  'MELLSTROY удалил ИГОРЮ КАНАЛ? '\n",
      "                  'https://www.youtube.com/watch?v=f8bPe-8KPXM',\n",
      "                  'ИГОРЬ ПОСАДИТ МЕЛСТРОЯ '\n",
      "                  'https://www.youtube.com/watch?v=eeW_333eUC8',\n",
      "                  '100 р просто так ? Залетай по ссылке на 1 win '\n",
      "                  '❤️❤️❤️https://1wiab.top/#j4bv   Регайся , вводи промо BASS '\n",
      "                  'И СОТКА У ТЕБЯ В КАРМАНЕ ( выводи сразу) \\n'\n",
      "                  'А кто любит крутить ФРИ СПИНЫ В КАЗИКЕ БЕЗ ВАГЕРА ТО ВАМ '\n",
      "                  'СЮДА  40 ФРИ СПИНОВ  ! ИЗИ ПОДНЯТЬ БАБКИ '\n",
      "                  'https://bit.ly/2HQaUrK   ( ВВОДИ ПРОМОКОД EscapeHokage)  ( '\n",
      "                  'ВЫВЕСТИ МОЖНО СРАЗУ И БЕЗ ПАСПОРТА )',\n",
      "                  'Ничо он ГАЗУЕТ НА МЕЛА '\n",
      "                  'https://www.youtube.com/watch?v=PnzATbMR5H8&t=59s',\n",
      "                  '100 р просто так ? Залетай по ссылке на 1 win '\n",
      "                  '❤️❤️❤️https://1wiab.top/#j4bv   Регайся , вводи промо BASS '\n",
      "                  'И СОТКА У ТЕБЯ В КАРМАНЕ ( выводи сразу) \\n'\n",
      "                  'А кто любит крутить ФРИ СПИНЫ В КАЗИКЕ БЕЗ ВАГЕРА ТО ВАМ '\n",
      "                  'СЮДА  40 ФРИ СПИНОВ  ! ИЗИ ПОДНЯТЬ БАБКИ '\n",
      "                  'https://bit.ly/2HQaUrK   ( ВВОДИ ПРОМОКОД EscapeHokage)  ( '\n",
      "                  'ВЫВЕСТИ МОЖНО СРАЗУ И БЕЗ ПАСПОРТА )',\n",
      "                  'Нормас с*ськи показала))  '\n",
      "                  'https://www.youtube.com/watch?v=LtM0bagT49c&t=159s'],\n",
      " 'title': 'Боровской движ'}\n",
      "\n",
      "OUTPUT:\n",
      "{'category': {'Bets & Gambling': 0.28571428571429,\n",
      "              'Celebrities & Lifestyle': 0.14285714285714,\n",
      "              'Other': 0.14285714285714,\n",
      "              'Recreation & Entertainment': 0.42857142857143},\n",
      " 'lang_code': 'ru'}\n"
     ]
    }
   ],
   "source": [
    "l = random.choice(list(labelled.keys()))\n",
    "\n",
    "i = random.randint(0, len(labelled[l]['input']))\n",
    "inp = labelled[l]['input'][i]\n",
    "out = labelled[l]['output'][i]\n",
    "\n",
    "print('Lang', l.upper(),)\n",
    "print('\\nINPUT:')\n",
    "pprint(inp)\n",
    "print('\\nOUTPUT:')\n",
    "pprint(out)"
   ]
  },
  {
   "cell_type": "markdown",
   "metadata": {},
   "source": [
    "### Format to dialogs"
   ]
  },
  {
   "cell_type": "code",
   "execution_count": 149,
   "metadata": {
    "ExecuteTime": {
     "end_time": "2021-04-19T20:05:41.047092Z",
     "start_time": "2021-04-19T20:05:41.015168Z"
    }
   },
   "outputs": [],
   "source": [
    "def format_input(inp):\n",
    "    inp['recent_posts'] = [{'text':p, 'author':'xxx'} for p in inp['recent_posts']]\n",
    "    return inp"
   ]
  },
  {
   "cell_type": "code",
   "execution_count": 150,
   "metadata": {
    "ExecuteTime": {
     "end_time": "2021-04-19T20:05:46.778131Z",
     "start_time": "2021-04-19T20:05:46.640981Z"
    }
   },
   "outputs": [],
   "source": [
    "reference_tasks = [\n",
    "    update_dict(format_input(inp), out)\n",
    "   for lang,data in labelled.items()\n",
    "    for inp,out in zip(data['input'], data['output'])\n",
    "]"
   ]
  },
  {
   "cell_type": "code",
   "execution_count": 151,
   "metadata": {
    "ExecuteTime": {
     "end_time": "2021-04-19T20:05:47.253773Z",
     "start_time": "2021-04-19T20:05:47.220259Z"
    }
   },
   "outputs": [
    {
     "data": {
      "text/plain": [
       "{'title': 'Не фейсбук',\n",
       " 'description': 'для радостей и нытья, инстаграм https://www.instagram.com/farkashalina/?hl=ru',\n",
       " 'recent_posts': [{'text': 'в какой-то момент у меня сбился прицел полностью. я так долго думала о ремонте, что картинка начала распадаться на пиксели, стало вообще не понятно, что я хочу, как должна выглядеть квартира... Смотрела заново тысячи картинок – и не собиралось у меня. Пока я не нашла идеальный образ. Я не шучу! Стилистически будет примерно так, но посветлее )',\n",
       "   'author': 'xxx'},\n",
       "  {'text': 'Ну, а вообще приходите к в клабхаус ко мне, поболтаем. Только надо выбрать – секс или ремонт? )) Я там timbuktoo',\n",
       "   'author': 'xxx'},\n",
       "  {'text': 'Муж купил пионы. Мне и ЛЕЕ. На 14 февраля, ага. Чтобы ей было не обидно. Что вы до этого знали о детоцентризме?! Но какое коварство! Не шоколадный муссовый торт, а пионы!!! Очень красивые. И большая редкость в Израиле )',\n",
       "   'author': 'xxx'},\n",
       "  {'text': 'Если что, то это икея. Шпон дуба.', 'author': 'xxx'},\n",
       "  {'text': 'А если к стальной икеевской кастрюле прижарилась пластиковая пароварка, то все? Кастрюлю на выброс или есть шанс отмыть-отковырять?',\n",
       "   'author': 'xxx'},\n",
       "  {'text': 'Если бы у нас были деньги, мы бы просто пошли и купили тиковый пол в наши ванные. Если бы у нас было смирение, мы бы купили плитку и не выебывались. У нас нет ни того, ни другого. Поэтому я сейчас нагуглила, например, термоясень. Ясень, обработанный горячим паром, – твердый и водостойкий. И очень красивый. В России стоит в три раза дешевле тика. В Израиле пока не нашла, но не теряю надежды )))',\n",
       "   'author': 'xxx'},\n",
       "  {'text': 'Бесит! Стоматолог уже третий раз откладывает снятие сашиных брекетов. Каждый раз говорит: в следующий раз – 100%. Саше пофиг, а я извелась нафиг (',\n",
       "   'author': 'xxx'},\n",
       "  {'text': 'Я ДОМА ОДНА!!!!', 'author': 'xxx'},\n",
       "  {'text': 'Когнитивный диссонанс. Одновременно хотеть, чтобы муж принес на 14 февраля шоколадный муссовый торт из роладина (а еще пирожные из французской пекарни) и не хотеть этого, потому что вчера был первый день, который мне удалось провести без сладкого. Срочно думаю, что я могу хотеть вместо шоколадного муссового торта..',\n",
       "   'author': 'xxx'},\n",
       "  {'text': 'Спасибо вам! Мне бы самой такое в голову не пришло, но –\\xa0я попросила отменить подписку на дурацкое приложение – и вуаля! Мне вернули деньги, гип-гип ура )',\n",
       "   'author': 'xxx'}],\n",
       " 'lang_code': 'ru',\n",
       " 'category': {'Recreation & Entertainment': 0.57142857142857,\n",
       "  'Celebrities & Lifestyle': 0.14285714285714,\n",
       "  'Motivation & Self-development': 0.14285714285714,\n",
       "  'Other': 0.14285714285714}}"
      ]
     },
     "execution_count": 151,
     "metadata": {},
     "output_type": "execute_result"
    }
   ],
   "source": [
    "random.choice(reference_tasks)"
   ]
  },
  {
   "cell_type": "code",
   "execution_count": 152,
   "metadata": {
    "ExecuteTime": {
     "end_time": "2021-04-19T20:05:52.193270Z",
     "start_time": "2021-04-19T20:05:52.155291Z"
    }
   },
   "outputs": [
    {
     "name": "stdout",
     "output_type": "stream",
     "text": [
      "# tasks 31501\n",
      "Counter({'ru': 16726, 'en': 14775})\n"
     ]
    }
   ],
   "source": [
    "get_task_stats(reference_tasks)"
   ]
  },
  {
   "cell_type": "markdown",
   "metadata": {},
   "source": [
    "### Save "
   ]
  },
  {
   "cell_type": "code",
   "execution_count": 153,
   "metadata": {
    "ExecuteTime": {
     "end_time": "2021-04-19T20:06:39.213584Z",
     "start_time": "2021-04-19T20:06:36.957423Z"
    }
   },
   "outputs": [],
   "source": [
    "random.shuffle(reference_tasks)\n",
    "\n",
    "with open(f'data/processed/labelled_tgdata_{today_str}.json', 'w') as f:\n",
    "    json.dump(reference_tasks, f)"
   ]
  },
  {
   "cell_type": "markdown",
   "metadata": {},
   "source": [
    "## Save data and configs"
   ]
  },
  {
   "cell_type": "code",
   "execution_count": 94,
   "metadata": {
    "ExecuteTime": {
     "end_time": "2021-04-19T19:38:06.636635Z",
     "start_time": "2021-04-19T19:38:06.605471Z"
    }
   },
   "outputs": [],
   "source": [
    "from lxml import etree"
   ]
  },
  {
   "cell_type": "markdown",
   "metadata": {},
   "source": [
    "### generate and save configs"
   ]
  },
  {
   "cell_type": "code",
   "execution_count": 95,
   "metadata": {
    "ExecuteTime": {
     "end_time": "2021-04-19T19:38:06.967813Z",
     "start_time": "2021-04-19T19:38:06.937258Z"
    }
   },
   "outputs": [],
   "source": [
    "def clean_topic(orig):\n",
    "    orig = re.split(' [–-] ', orig)[0].strip()\n",
    "    return orig"
   ]
  },
  {
   "cell_type": "code",
   "execution_count": 96,
   "metadata": {
    "ExecuteTime": {
     "end_time": "2021-04-19T19:38:07.140746Z",
     "start_time": "2021-04-19T19:38:07.106163Z"
    }
   },
   "outputs": [
    {
     "data": {
      "text/plain": [
       "50"
      ]
     },
     "execution_count": 96,
     "metadata": {},
     "output_type": "execute_result"
    }
   ],
   "source": [
    "TOPICS = \"\"\"\n",
    "    Art & Design\n",
    "    Bets & Gambling – includes sports bets\n",
    "    Books\n",
    "    Business & Entrepreneurship\n",
    "    Cars & Other Vehicles\n",
    "    Celebrities & Lifestyle\n",
    "    Cryptocurrencies\n",
    "    Culture & Events\n",
    "    Curious Facts\n",
    "    Directories of Channels & Bots\n",
    "    Drug Sale\n",
    "    Economy & Finance\n",
    "    Education\n",
    "    Erotic Content\n",
    "    Fashion & Beauty\n",
    "    Fitness\n",
    "    Forgery – includes fake documents, fake money, etc.\n",
    "    Food & Cooking\n",
    "    Foreign Language Learning\n",
    "    Hacked Accounts & Software – includes carding, passwords for subscription services, etc.\n",
    "    Health & Medicine\n",
    "    History\n",
    "    Hobbies & Activities\n",
    "    Home & Architecture\n",
    "    Humor & Memes\n",
    "    Investments\n",
    "    Job Listings\n",
    "    Kids & Parenting\n",
    "    Marketing & PR\n",
    "    Motivation & Self-development - includes inspirational quotes and poetry\n",
    "    Movies\n",
    "    Music\n",
    "    Offers & Promotions – includes products or services for sale, unless they fall under the newly added categories\n",
    "    Personal Data – includes doxxing, databases\n",
    "    Pets\n",
    "    Pirated Content – films, music, books, but not software\n",
    "    Politics & Incidents\n",
    "    Prostitution\n",
    "    Psychology & Relationships\n",
    "    Real Estate\n",
    "    Recreation & Entertainment\n",
    "    Religion & Spirituality\n",
    "    Science\n",
    "    Spam & Fake Followers – includes spam tools and services, boosting followers, likes, etc.\n",
    "    Sports – includes e-sports\n",
    "    Technology & Internet\n",
    "    Travel & Tourism\n",
    "    Video Games\n",
    "    Weapon Sale\n",
    "    Other\n",
    "\"\"\".strip().split('\\n')\n",
    "\n",
    "TOPICS = [clean_topic(t) for t in TOPICS]\n",
    "\n",
    "len(TOPICS)"
   ]
  },
  {
   "cell_type": "code",
   "execution_count": 97,
   "metadata": {
    "ExecuteTime": {
     "end_time": "2021-04-19T19:38:07.364874Z",
     "start_time": "2021-04-19T19:38:07.328953Z"
    }
   },
   "outputs": [],
   "source": [
    "xml = etree.Element('View')\n",
    "# headers\n",
    "_ = etree.SubElement(xml, \"Header\", size='4', value=f'$lang_code')\n",
    "_ = etree.SubElement(xml, \"Header\", size='4', value=f'$title')\n",
    "_ = etree.SubElement(xml, \"Header\", size='4', value=f'$description')\n",
    "_ = etree.SubElement(xml, 'Paragraphs', name=\"posts\", value=\"$recent_posts\", nameKey=\"type\", textKey=\"text\")\n",
    "# primary\n",
    "_ = etree.SubElement(xml, \"Header\", size=\"6\",\n",
    "                          value=\"Primary topics\")\n",
    "_ = etree.SubElement(xml, \"Filter\", name=\"filter_primary\",\n",
    "                      toName='primary', hotkey=\"shift+f\",\n",
    "                      minlength=\"1\", )\n",
    "primary = etree.SubElement(xml, \"Choices\", name=\"primary\", toName=\"posts\",\n",
    "                          showInline=\"true\", choice='multiple', required='true')\n",
    "_ = [etree.SubElement(primary, 'Choice', value=s, )\n",
    "     for s in TOPICS]\n",
    "# secondary\n",
    "_ = etree.SubElement(xml, \"Header\", size=\"6\",\n",
    "                          value=\"Secondary topics\")\n",
    "_ = etree.SubElement(xml, \"Filter\", name=\"filter_secondary\",\n",
    "                      toName='secondary',\n",
    "                      minlength=\"1\", )\n",
    "secondary = etree.SubElement(xml, \"Choices\", name=\"secondary\", toName=\"posts\",\n",
    "                          showInline=\"true\", choice='multiple', required='false')\n",
    "_ = [etree.SubElement(secondary, 'Choice', value=s, ) for s in TOPICS]\n",
    "# pretty string\n",
    "etree.indent(xml, space='  ')\n",
    "config = etree.tostring(xml, pretty_print=True,).decode('utf-8')"
   ]
  },
  {
   "cell_type": "code",
   "execution_count": 98,
   "metadata": {
    "ExecuteTime": {
     "end_time": "2021-04-19T19:38:07.598239Z",
     "start_time": "2021-04-19T19:38:07.564582Z"
    }
   },
   "outputs": [
    {
     "name": "stdout",
     "output_type": "stream",
     "text": [
      "<View>\n",
      "  <Header size=\"4\" value=\"$lang_code\"/>\n",
      "  <Header size=\"4\" value=\"$title\"/>\n",
      "  <Header size=\"4\" value=\"$description\"/>\n",
      "  <Paragraphs name=\"posts\" value=\"$recent_posts\" nameKey=\"type\" textKey=\"text\"/>\n",
      "  <Header size=\"6\" value=\"Primary topics\"/>\n",
      "  <Filter name=\"filter_primary\" toName=\"primary\" hotkey=\"shift+f\" minlength=\"1\"/>\n",
      "  <Choices name=\"primary\" toName=\"posts\" showInline=\"true\" choice=\"multiple\" required=\"true\">\n",
      "    <Choice value=\"Art &amp; Design\"/>\n",
      "    <Choice value=\"Bets &amp; Gambling\"/>\n",
      "    <Choice value=\"Books\"/>\n",
      "    <Choice value=\"Business &amp; Entrepreneurship\"/>\n",
      "    <Choice value=\"Cars &amp; Other Vehicles\"/>\n",
      "    <Choice value=\"Celebrities &amp; Lifestyle\"/>\n",
      "    <Choice value=\"Cryptocurrencies\"/>\n",
      "    <Choice value=\"Culture &amp; Events\"/>\n",
      "    <Choice value=\"Curious Facts\"/>\n",
      "    <Choice value=\"Directories of Channels &amp; Bots\"/>\n",
      "    <Choice value=\"Drug Sale\"/>\n",
      "    <Choice value=\"Economy &amp; Finance\"/>\n",
      "    <Choice value=\"Education\"/>\n",
      "    <Choice value=\"Erotic Content\"/>\n",
      "    <Choice value=\"Fashion &amp; Beauty\"/>\n",
      "    <Choice value=\"Fitness\"/>\n",
      "    <Choice value=\"Forgery\"/>\n",
      "    <Choice value=\"Food &amp; Cooking\"/>\n",
      "    <Choice value=\"Foreign Language Learning\"/>\n",
      "    <Choice value=\"Hacked Accounts &amp; Software\"/>\n",
      "    <Choice value=\"Health &amp; Medicine\"/>\n",
      "    <Choice value=\"History\"/>\n",
      "    <Choice value=\"Hobbies &amp; Activities\"/>\n",
      "    <Choice value=\"Home &amp; Architecture\"/>\n",
      "    <Choice value=\"Humor &amp; Memes\"/>\n",
      "    <Choice value=\"Investments\"/>\n",
      "    <Choice value=\"Job Listings\"/>\n",
      "    <Choice value=\"Kids &amp; Parenting\"/>\n",
      "    <Choice value=\"Marketing &amp; PR\"/>\n",
      "    <Choice value=\"Motivation &amp; Self-development\"/>\n",
      "    <Choice value=\"Movies\"/>\n",
      "    <Choice value=\"Music\"/>\n",
      "    <Choice value=\"Offers &amp; Promotions\"/>\n",
      "    <Choice value=\"Personal Data\"/>\n",
      "    <Choice value=\"Pets\"/>\n",
      "    <Choice value=\"Pirated Content\"/>\n",
      "    <Choice value=\"Politics &amp; Incidents\"/>\n",
      "    <Choice value=\"Prostitution\"/>\n",
      "    <Choice value=\"Psychology &amp; Relationships\"/>\n",
      "    <Choice value=\"Real Estate\"/>\n",
      "    <Choice value=\"Recreation &amp; Entertainment\"/>\n",
      "    <Choice value=\"Religion &amp; Spirituality\"/>\n",
      "    <Choice value=\"Science\"/>\n",
      "    <Choice value=\"Spam &amp; Fake Followers\"/>\n",
      "    <Choice value=\"Sports\"/>\n",
      "    <Choice value=\"Technology &amp; Internet\"/>\n",
      "    <Choice value=\"Travel &amp; Tourism\"/>\n",
      "    <Choice value=\"Video Games\"/>\n",
      "    <Choice value=\"Weapon Sale\"/>\n",
      "    <Choice value=\"Other\"/>\n",
      "  </Choices>\n",
      "  <Header size=\"6\" value=\"Secondary topics\"/>\n",
      "  <Filter name=\"filter_secondary\" toName=\"secondary\" minlength=\"1\"/>\n",
      "  <Choices name=\"secondary\" toName=\"posts\" showInline=\"true\" choice=\"multiple\" required=\"false\">\n",
      "    <Choice value=\"Art &amp; Design\"/>\n",
      "    <Choice value=\"Bets &amp; Gambling\"/>\n",
      "    <Choice value=\"Books\"/>\n",
      "    <Choice value=\"Business &amp; Entrepreneurship\"/>\n",
      "    <Choice value=\"Cars &amp; Other Vehicles\"/>\n",
      "    <Choice value=\"Celebrities &amp; Lifestyle\"/>\n",
      "    <Choice value=\"Cryptocurrencies\"/>\n",
      "    <Choice value=\"Culture &amp; Events\"/>\n",
      "    <Choice value=\"Curious Facts\"/>\n",
      "    <Choice value=\"Directories of Channels &amp; Bots\"/>\n",
      "    <Choice value=\"Drug Sale\"/>\n",
      "    <Choice value=\"Economy &amp; Finance\"/>\n",
      "    <Choice value=\"Education\"/>\n",
      "    <Choice value=\"Erotic Content\"/>\n",
      "    <Choice value=\"Fashion &amp; Beauty\"/>\n",
      "    <Choice value=\"Fitness\"/>\n",
      "    <Choice value=\"Forgery\"/>\n",
      "    <Choice value=\"Food &amp; Cooking\"/>\n",
      "    <Choice value=\"Foreign Language Learning\"/>\n",
      "    <Choice value=\"Hacked Accounts &amp; Software\"/>\n",
      "    <Choice value=\"Health &amp; Medicine\"/>\n",
      "    <Choice value=\"History\"/>\n",
      "    <Choice value=\"Hobbies &amp; Activities\"/>\n",
      "    <Choice value=\"Home &amp; Architecture\"/>\n",
      "    <Choice value=\"Humor &amp; Memes\"/>\n",
      "    <Choice value=\"Investments\"/>\n",
      "    <Choice value=\"Job Listings\"/>\n",
      "    <Choice value=\"Kids &amp; Parenting\"/>\n",
      "    <Choice value=\"Marketing &amp; PR\"/>\n",
      "    <Choice value=\"Motivation &amp; Self-development\"/>\n",
      "    <Choice value=\"Movies\"/>\n",
      "    <Choice value=\"Music\"/>\n",
      "    <Choice value=\"Offers &amp; Promotions\"/>\n",
      "    <Choice value=\"Personal Data\"/>\n",
      "    <Choice value=\"Pets\"/>\n",
      "    <Choice value=\"Pirated Content\"/>\n",
      "    <Choice value=\"Politics &amp; Incidents\"/>\n",
      "    <Choice value=\"Prostitution\"/>\n",
      "    <Choice value=\"Psychology &amp; Relationships\"/>\n",
      "    <Choice value=\"Real Estate\"/>\n",
      "    <Choice value=\"Recreation &amp; Entertainment\"/>\n",
      "    <Choice value=\"Religion &amp; Spirituality\"/>\n",
      "    <Choice value=\"Science\"/>\n",
      "    <Choice value=\"Spam &amp; Fake Followers\"/>\n",
      "    <Choice value=\"Sports\"/>\n",
      "    <Choice value=\"Technology &amp; Internet\"/>\n",
      "    <Choice value=\"Travel &amp; Tourism\"/>\n",
      "    <Choice value=\"Video Games\"/>\n",
      "    <Choice value=\"Weapon Sale\"/>\n",
      "    <Choice value=\"Other\"/>\n",
      "  </Choices>\n",
      "</View>\n",
      "\n"
     ]
    }
   ],
   "source": [
    "with open(f'data/processed/labelling_config_{today_str}.xml', 'w') as f:\n",
    "    f.write(config)\n",
    "\n",
    "print(config)"
   ]
  },
  {
   "cell_type": "code",
   "execution_count": null,
   "metadata": {},
   "outputs": [],
   "source": []
  }
 ],
 "metadata": {
  "kernelspec": {
   "display_name": "tgcat",
   "language": "python",
   "name": "tgcat"
  },
  "language_info": {
   "codemirror_mode": {
    "name": "ipython",
    "version": 3
   },
   "file_extension": ".py",
   "mimetype": "text/x-python",
   "name": "python",
   "nbconvert_exporter": "python",
   "pygments_lexer": "ipython3",
   "version": "3.7.9"
  },
  "notify_time": "10",
  "toc": {
   "base_numbering": 1,
   "nav_menu": {},
   "number_sections": true,
   "sideBar": true,
   "skip_h1_title": false,
   "title_cell": "Table of Contents",
   "title_sidebar": "Contents",
   "toc_cell": false,
   "toc_position": {},
   "toc_section_display": true,
   "toc_window_display": false
  }
 },
 "nbformat": 4,
 "nbformat_minor": 5
}
