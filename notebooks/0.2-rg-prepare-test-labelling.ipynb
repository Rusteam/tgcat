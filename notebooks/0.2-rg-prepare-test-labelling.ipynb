{
 "cells": [
  {
   "cell_type": "markdown",
   "id": "marked-maker",
   "metadata": {},
   "source": [
    "# Prepare test data for annotation"
   ]
  },
  {
   "cell_type": "code",
   "execution_count": 1,
   "id": "living-departure",
   "metadata": {
    "ExecuteTime": {
     "end_time": "2021-02-10T17:32:32.432364Z",
     "start_time": "2021-02-10T17:32:31.975931Z"
    }
   },
   "outputs": [],
   "source": [
    "%load_ext autoreload\n",
    "%autoreload 2\n",
    "%matplotlib inline\n",
    "#standard libs\n",
    "import os, sys\n",
    "from pathlib import Path\n",
    "from pprint import pprint\n",
    "import random\n",
    "import json\n",
    "import itertools\n",
    "from datetime import datetime as dt\n",
    "# ds libs\n",
    "import pandas as pd\n",
    "import numpy as np\n",
    "import matplotlib.pyplot as plt\n",
    "from tqdm import tqdm, tqdm_notebook\n",
    "# custom path\n",
    "os.chdir('..')"
   ]
  },
  {
   "cell_type": "markdown",
   "id": "growing-startup",
   "metadata": {},
   "source": [
    "## Load Data"
   ]
  },
  {
   "cell_type": "code",
   "execution_count": 2,
   "id": "hearing-modification",
   "metadata": {
    "ExecuteTime": {
     "end_time": "2021-02-10T17:32:32.669212Z",
     "start_time": "2021-02-10T17:32:32.651360Z"
    }
   },
   "outputs": [],
   "source": [
    "FILES = [\n",
    "    'data/external/dc0130-input.txt',\n",
    "    'data/external/dc0202-input.txt',\n",
    "    'data/external/dc0206-input.txt',\n",
    "]"
   ]
  },
  {
   "cell_type": "markdown",
   "id": "addressed-seminar",
   "metadata": {},
   "source": [
    "### Load"
   ]
  },
  {
   "cell_type": "code",
   "execution_count": 3,
   "id": "domestic-monitor",
   "metadata": {
    "ExecuteTime": {
     "end_time": "2021-02-10T17:37:01.445296Z",
     "start_time": "2021-02-10T17:37:01.426040Z"
    }
   },
   "outputs": [],
   "source": [
    "def load_test_file(filepath):\n",
    "    with open(filepath) as f:\n",
    "        test_data = f.read().split('\\n')\n",
    "\n",
    "    test_data = list(filter(lambda x: x != '', test_data))\n",
    "    test_data = list(map(lambda x: json.loads(x), test_data))\n",
    "    print('Loaded',len(test_data), 'rows')\n",
    "    return test_data"
   ]
  },
  {
   "cell_type": "code",
   "execution_count": 4,
   "id": "bacterial-mailing",
   "metadata": {
    "ExecuteTime": {
     "end_time": "2021-02-10T17:37:08.676636Z",
     "start_time": "2021-02-10T17:37:01.588049Z"
    }
   },
   "outputs": [
    {
     "name": "stdout",
     "output_type": "stream",
     "text": [
      "Loaded 50297 rows\n",
      "Loaded 50050 rows\n",
      "Loaded 33022 rows\n"
     ]
    }
   ],
   "source": [
    "test_data = [load_test_file(f) for f in FILES]"
   ]
  },
  {
   "cell_type": "markdown",
   "id": "needed-silicon",
   "metadata": {},
   "source": [
    "### Check if titles match"
   ]
  },
  {
   "cell_type": "code",
   "execution_count": 5,
   "id": "infrared-dutch",
   "metadata": {
    "ExecuteTime": {
     "end_time": "2021-02-10T17:37:08.762588Z",
     "start_time": "2021-02-10T17:37:08.678862Z"
    }
   },
   "outputs": [
    {
     "name": "stdout",
     "output_type": "stream",
     "text": [
      "Indices: 0 1\n",
      "Unique titles: 49810 49450\n",
      "Intersection: 22153\n",
      "\n",
      "Indices: 0 2\n",
      "Unique titles: 49810 32699\n",
      "Intersection: 12505\n",
      "\n",
      "Indices: 1 2\n",
      "Unique titles: 49450 32699\n",
      "Intersection: 13458\n",
      "\n"
     ]
    }
   ],
   "source": [
    "if len(test_data) > 1:\n",
    "    for i,j in itertools.combinations(range(3), r=2):\n",
    "        titles1 = set(t['title'] for t in test_data[i])\n",
    "        titles2 = set(t['title'] for t in test_data[j])\n",
    "        matches = titles1.intersection(titles2)\n",
    "        print('Indices:',i,j)\n",
    "        print('Unique titles:', len(titles1), len(titles2))\n",
    "        print('Intersection:', len(matches), end='\\n\\n')"
   ]
  },
  {
   "cell_type": "markdown",
   "id": "upper-floor",
   "metadata": {},
   "source": [
    "### Join"
   ]
  },
  {
   "cell_type": "code",
   "execution_count": 6,
   "id": "alternate-color",
   "metadata": {
    "ExecuteTime": {
     "end_time": "2021-02-10T17:37:08.785752Z",
     "start_time": "2021-02-10T17:37:08.763924Z"
    }
   },
   "outputs": [
    {
     "data": {
      "text/plain": [
       "133369"
      ]
     },
     "execution_count": 6,
     "metadata": {},
     "output_type": "execute_result"
    }
   ],
   "source": [
    "test_data = sum(test_data, [])\n",
    "\n",
    "len(test_data)"
   ]
  },
  {
   "cell_type": "code",
   "execution_count": 8,
   "id": "transsexual-allergy",
   "metadata": {
    "ExecuteTime": {
     "end_time": "2021-02-10T17:37:18.957495Z",
     "start_time": "2021-02-10T17:37:18.414641Z"
    }
   },
   "outputs": [],
   "source": [
    "import torch"
   ]
  },
  {
   "cell_type": "code",
   "execution_count": 9,
   "id": "fifth-warren",
   "metadata": {
    "ExecuteTime": {
     "end_time": "2021-02-10T17:37:19.735744Z",
     "start_time": "2021-02-10T17:37:19.566883Z"
    }
   },
   "outputs": [],
   "source": [
    "TGCAT_FILES = {\n",
    "        'ru': 'models/trained/tgcat/ru_tgcat.pt',\n",
    "        'en': 'models/trained/tgcat/en_tgcat.pt',\n",
    "    }\n",
    "\n",
    "tgcat = {l: torch.jit.load(f) for l,f in TGCAT_FILES.items()}"
   ]
  },
  {
   "cell_type": "markdown",
   "id": "spread-abuse",
   "metadata": {},
   "source": [
    "## Detect target languages"
   ]
  },
  {
   "cell_type": "code",
   "execution_count": 60,
   "id": "tested-combat",
   "metadata": {
    "ExecuteTime": {
     "end_time": "2021-02-09T17:00:02.402328Z",
     "start_time": "2021-02-09T17:00:02.382618Z"
    }
   },
   "outputs": [],
   "source": [
    "import fasttext\n",
    "import re"
   ]
  },
  {
   "cell_type": "code",
   "execution_count": 61,
   "id": "ideal-bachelor",
   "metadata": {
    "ExecuteTime": {
     "end_time": "2021-02-09T17:00:02.934837Z",
     "start_time": "2021-02-09T17:00:02.909360Z"
    }
   },
   "outputs": [],
   "source": [
    "TARGET_LANGS = ['en','ru']"
   ]
  },
  {
   "cell_type": "markdown",
   "id": "limited-association",
   "metadata": {},
   "source": [
    "### Load a model"
   ]
  },
  {
   "cell_type": "code",
   "execution_count": 63,
   "id": "textile-dream",
   "metadata": {
    "ExecuteTime": {
     "end_time": "2021-02-09T17:00:06.782560Z",
     "start_time": "2021-02-09T17:00:06.567179Z"
    }
   },
   "outputs": [],
   "source": [
    "lang_detector = fasttext.load_model('./models/external/lid.176.bin')"
   ]
  },
  {
   "cell_type": "code",
   "execution_count": 64,
   "id": "excessive-attribute",
   "metadata": {
    "ExecuteTime": {
     "end_time": "2021-02-09T17:00:07.238763Z",
     "start_time": "2021-02-09T17:00:07.212779Z"
    }
   },
   "outputs": [],
   "source": [
    "def format_text(channel):\n",
    "    \"\"\" format text for running language detection \"\"\"\n",
    "    formatted = '\\n'.join([channel['description'], '\\n'.join(channel['recent_posts'])]).strip().replace('\\n',' ')\n",
    "    return formatted\n",
    "\n",
    "\n",
    "def is_kz_lang(text):\n",
    "    ''' Returns True if text contains kz or uz chars '''\n",
    "    kz_chars = \"[ЎўҒғҲҳҚқ]\"\n",
    "    return re.search(kz_chars, text) is not None\n",
    "\n",
    "\n",
    "def predict_language(formatted_text):\n",
    "    predicted = lang_detector.predict(formatted_text)\n",
    "    lang_code = predicted[0][0].replace('__label__', '')\n",
    "    if lang_code == 'ru' and is_kz_lang(formatted_text):\n",
    "        lang_code = 'kz'\n",
    "    return lang_code"
   ]
  },
  {
   "cell_type": "code",
   "execution_count": 65,
   "id": "preliminary-bargain",
   "metadata": {
    "ExecuteTime": {
     "end_time": "2021-02-09T17:00:09.189096Z",
     "start_time": "2021-02-09T17:00:09.164227Z"
    }
   },
   "outputs": [
    {
     "name": "stdout",
     "output_type": "stream",
     "text": [
      "en\n",
      "🇦🇺 Big Bash League 🇦🇺 🕹 Brisbane 🆚 Renegades (01:45PM)  Per Match cost :2000  Payment details:- Phone pay :6366045947  No Hi hello Demo we won't Replay ❌ Just do paymant and send me screenshot   Contact : 6366045947  After payment send screenshots on this  Number 💥🇧 ⭕️ ⭕️  🇲    🇧 ⭕️ ⭕️ 🇲 💥    Clean Sweep😍😍😍😘😘😘 👉 Otago Toss pass ✔️✔️ 👉 Wellington Match pass ✔️✔️ 👉 Srilanka Toss pass ✔️✔️ Today all matches clean Sweep😍😍 Super Smash 2020.. Match No.14   Canterbury♈️ Auckland  *Match Winner: Auckland* 💯  101% Sure Match.. Loss  Cover Match.. Kamane Wala Match.. 🏆🏆Bigbash -2020🏆🏆 ➖➖➖➖➖➖➖     🔰32 T20 match 🔰  🦅 Bresbane🆚 Star's🦅   Match  winner👇👇  🔥 Bresbane Heat🔥  10000% Sure Shot Match #Eagle_Cricket_Prediction @Cricket_Prediction_toss_Match 🏆🏆Bigbash -2020🏆🏆 ➖➖➖➖➖➖➖     🔰31 T20 match 🔰  🦅 Hobart🆚 Thunder🦅   Match  winner👇👇  🔥 Hobart Hurricane🔥  10000% Sure Shot Match #Eagle_Cricket_Prediction @Cricket_Prediction_toss_Match 🏆🏆Bigbash -2020🏆🏆 ➖➖➖➖➖➖➖     🔰29 T20 match 🔰  🦅 Sixers🆚 Perth🦅   Match  winner👇👇  🔥 Perth Scorchers🔥  10000% Sure Shot Match #Eagle_Cricket_Prediction @Cricket_Prediction_toss_Match 🏆🏆Bigbash -2020🏆🏆 ➖➖➖➖➖➖➖     🔰29 T20 match 🔰  🦅 Melbourne🆚 Adelaide🦅   Match  winner👇👇  🔥 Melbourne Renegates🔥  10000% Sure Shot Match #Eagle_Cricket_Prediction @Cricket_Prediction_toss_Match Adelaide vs Renegates  https://t.me/joinchat/RwqeOVhyDUOdMhAp 🏆🏆Bigbash -2020🏆🏆 ➖➖➖➖➖➖➖     🔰22 T20 match 🔰  🦅 Melbourne🆚 S.Thunder🦅   Match  winner👇👇  🔥 Melbourne Rengates🔥  10000% Sure Shot Match #Eagle_Cricket_Prediction @Cricket_Prediction_toss_Match 🏆🏆Bigbash -2020🏆🏆 ➖➖➖➖➖➖➖     🔰17  T20 match 🔰  🦅 Perth🆚 Adelaide🦅   Match  winner👇👇  🔥Perth Scorchers🔥  10000% Sure Shot Match #Eagle_Cricket_Prediction @Cricket_Prediction_toss_Match\n"
     ]
    }
   ],
   "source": [
    "d = random.choice(test_data)\n",
    "f = format_text(d)\n",
    "l = predict_language(f)\n",
    "print(l)\n",
    "print(f)"
   ]
  },
  {
   "cell_type": "markdown",
   "id": "reduced-creature",
   "metadata": {},
   "source": [
    "### run texts"
   ]
  },
  {
   "cell_type": "code",
   "execution_count": 66,
   "id": "modular-nursing",
   "metadata": {
    "ExecuteTime": {
     "end_time": "2021-02-09T17:00:53.059054Z",
     "start_time": "2021-02-09T17:00:12.604539Z"
    }
   },
   "outputs": [
    {
     "name": "stderr",
     "output_type": "stream",
     "text": [
      "/Users/rustem.galiullin/miniconda3/envs/tgcat/lib/python3.7/site-packages/ipykernel_launcher.py:2: TqdmDeprecationWarning: This function will be removed in tqdm==5.0.0\n",
      "Please use `tqdm.notebook.tqdm` instead of `tqdm.tqdm_notebook`\n",
      "  \n"
     ]
    },
    {
     "data": {
      "application/vnd.jupyter.widget-view+json": {
       "model_id": "ca464be2836446cea2fe4f6c6328f1f1",
       "version_major": 2,
       "version_minor": 0
      },
      "text/plain": [
       "channels:   0%|          | 0/133369 [00:00<?, ?it/s]"
      ]
     },
     "metadata": {},
     "output_type": "display_data"
    },
    {
     "data": {
      "text/plain": [
       "62182"
      ]
     },
     "execution_count": 66,
     "metadata": {},
     "output_type": "execute_result"
    }
   ],
   "source": [
    "target = []\n",
    "for data in tqdm_notebook(test_data, desc='channels'):\n",
    "    formatted = format_text(data)\n",
    "    lang_code = predict_language(formatted)\n",
    "    data.update({'lang_code': lang_code})\n",
    "    if lang_code in TARGET_LANGS:\n",
    "        target.append(data)\n",
    "        \n",
    "len(target)"
   ]
  },
  {
   "cell_type": "markdown",
   "id": "bacterial-static",
   "metadata": {},
   "source": [
    "#### COmpare c++ to python language predictions"
   ]
  },
  {
   "cell_type": "raw",
   "id": "technical-australian",
   "metadata": {
    "ExecuteTime": {
     "end_time": "2021-02-09T16:50:19.941673Z",
     "start_time": "2021-02-09T16:50:19.908932Z"
    }
   },
   "source": [
    "from sklearn.metrics import classification_report"
   ]
  },
  {
   "cell_type": "raw",
   "id": "irish-quilt",
   "metadata": {
    "ExecuteTime": {
     "end_time": "2021-02-09T16:47:06.403537Z",
     "start_time": "2021-02-09T16:47:06.379305Z"
    }
   },
   "source": [
    "lang_predicitons = Path('data/external/dc0130_language_predictions.txt').read_text()\n",
    "\n",
    "lang_predicitons = lang_predicitons.strip().split('\\n')\n",
    "\n",
    "assert len(lang_predicitons) == len(test_data)"
   ]
  },
  {
   "cell_type": "raw",
   "id": "forty-handle",
   "metadata": {
    "ExecuteTime": {
     "end_time": "2021-02-09T16:49:56.675765Z",
     "start_time": "2021-02-09T16:49:56.384108Z"
    }
   },
   "source": [
    "lang_predicted = [eval(l)['lang_code'] for l in lang_predicitons]\n",
    "\n",
    "fasttext_langs = [d['lang_code'] for d in test_data]\n",
    "fasttext_langs = list(map(lambda x: x if x in TARGET_LANGS else 'other', fasttext_langs))"
   ]
  },
  {
   "cell_type": "raw",
   "id": "rolled-humor",
   "metadata": {
    "ExecuteTime": {
     "end_time": "2021-02-09T16:50:28.376490Z",
     "start_time": "2021-02-09T16:50:27.932770Z"
    }
   },
   "source": [
    "print(classification_report(fasttext_langs, lang_predicted))"
   ]
  },
  {
   "cell_type": "markdown",
   "id": "searching-bloom",
   "metadata": {},
   "source": [
    "## Active learning\n",
    "\n",
    "- [Reference](https://towardsdatascience.com/learn-faster-with-smarter-data-labeling-15d0272614c4)\n",
    "\n",
    "\n",
    "Final scoring:\n",
    "$Score = U * I * D $\n",
    "\n",
    "Uncertainity: \n",
    "$U = 1 - p(x)$\n",
    "\n",
    "Information density:\n",
    "$I = \\frac{1}{|X|} \\sum{||x-x_j||}$\n",
    "\n",
    "Diversity:\n",
    "$D = \\max{x_j} belongs to {||x - x_j||}$"
   ]
  },
  {
   "cell_type": "raw",
   "id": "satisfactory-pitch",
   "metadata": {
    "ExecuteTime": {
     "end_time": "2021-02-09T13:47:58.915720Z",
     "start_time": "2021-02-09T13:47:58.231203Z"
    }
   },
   "source": [
    "import torch"
   ]
  },
  {
   "cell_type": "raw",
   "id": "expressed-perfume",
   "metadata": {
    "ExecuteTime": {
     "end_time": "2021-02-09T13:48:00.178645Z",
     "start_time": "2021-02-09T13:47:58.918193Z"
    }
   },
   "source": [
    "from src.train.text_utils import tokenize_text"
   ]
  },
  {
   "cell_type": "raw",
   "id": "accredited-chess",
   "metadata": {
    "ExecuteTime": {
     "end_time": "2021-02-09T13:48:00.214504Z",
     "start_time": "2021-02-09T13:48:00.180802Z"
    }
   },
   "source": [
    "FILES = {\n",
    "    'vect': {\n",
    "        'ru': 'models/trained/embed/ru_tfidf_script.pt',\n",
    "        'en': 'models/trained/embed/en_tfidf_script.pt',\n",
    "    },\n",
    "    'clf': {\n",
    "        'ru': 'models/trained/classify/ru_cnb_script.pt',\n",
    "        'en': 'models/trained/classify/en_cnb_script.pt',\n",
    "    }\n",
    "}"
   ]
  },
  {
   "cell_type": "markdown",
   "id": "indoor-alexander",
   "metadata": {},
   "source": [
    "### Load models"
   ]
  },
  {
   "cell_type": "raw",
   "id": "valid-reading",
   "metadata": {
    "ExecuteTime": {
     "end_time": "2021-02-09T13:48:00.527305Z",
     "start_time": "2021-02-09T13:48:00.217095Z"
    }
   },
   "source": [
    "vect = {l: torch.jit.load(f) for l,f in FILES['vect'].items()}\n",
    "\n",
    "clf = {l: torch.jit.load(f) for l,f in FILES['clf'].items()}"
   ]
  },
  {
   "cell_type": "markdown",
   "id": "surprised-individual",
   "metadata": {},
   "source": [
    "### Prepare texts"
   ]
  },
  {
   "cell_type": "raw",
   "id": "fatal-journey",
   "metadata": {
    "ExecuteTime": {
     "end_time": "2021-02-09T13:48:00.567334Z",
     "start_time": "2021-02-09T13:48:00.529553Z"
    }
   },
   "source": [
    "r = random.choice(target)\n",
    "\n",
    "t = tokenize_text(r['title']) + \\\n",
    "    tokenize_text(r['description']) + \\\n",
    "    sum([tokenize_text(p) for p in r['recent_posts']], [])"
   ]
  },
  {
   "cell_type": "markdown",
   "id": "manufactured-regulation",
   "metadata": {},
   "source": [
    "### save tasks"
   ]
  },
  {
   "cell_type": "code",
   "execution_count": 67,
   "id": "designing-conversation",
   "metadata": {
    "ExecuteTime": {
     "end_time": "2021-02-09T17:00:53.341258Z",
     "start_time": "2021-02-09T17:00:53.060363Z"
    }
   },
   "outputs": [],
   "source": [
    "for t in target:\n",
    "    t['posts'] = '\\n\\n======================= NEXT POST =======================\\n\\n'.join(t['recent_posts'])"
   ]
  },
  {
   "cell_type": "code",
   "execution_count": 74,
   "id": "phantom-recipient",
   "metadata": {
    "ExecuteTime": {
     "end_time": "2021-02-09T17:15:13.213295Z",
     "start_time": "2021-02-09T17:15:13.035462Z"
    }
   },
   "outputs": [],
   "source": [
    "with open('data/interim/labelling_tasks_sample.json', 'w') as f:\n",
    "    json.dump(random.sample(target, k=2000), f)"
   ]
  },
  {
   "cell_type": "markdown",
   "id": "liked-commons",
   "metadata": {},
   "source": [
    "## Save data and configs"
   ]
  },
  {
   "cell_type": "code",
   "execution_count": 69,
   "id": "regular-illness",
   "metadata": {
    "ExecuteTime": {
     "end_time": "2021-02-09T17:09:10.169250Z",
     "start_time": "2021-02-09T17:09:10.106640Z"
    }
   },
   "outputs": [],
   "source": [
    "from lxml import etree"
   ]
  },
  {
   "cell_type": "markdown",
   "id": "regional-passing",
   "metadata": {},
   "source": [
    "### generate and save configs"
   ]
  },
  {
   "cell_type": "code",
   "execution_count": 70,
   "id": "tough-wednesday",
   "metadata": {
    "ExecuteTime": {
     "end_time": "2021-02-09T17:09:10.487351Z",
     "start_time": "2021-02-09T17:09:10.462589Z"
    }
   },
   "outputs": [],
   "source": [
    "TOPICS = \"\"\"\n",
    "Art & Design\n",
    "Bets & Gambling\n",
    "Books\n",
    "Business & Entrepreneurship\n",
    "Cars & Other Vehicles\n",
    "Celebrities & Lifestyle\n",
    "Cryptocurrencies\n",
    "Culture & Events\n",
    "Curious Facts\n",
    "Directories of Channels & Bots\n",
    "Economy & Finance\n",
    "Education\n",
    "Erotic Content\n",
    "Fashion & Beauty\n",
    "Fitness\n",
    "Food & Cooking\n",
    "Foreign Languages\n",
    "Health & Medicine\n",
    "History\n",
    "Hobbies & Activities\n",
    "Home & Architecture\n",
    "Humor & Memes\n",
    "Investments\n",
    "Job Listings\n",
    "Kids & Parenting\n",
    "Marketing & PR\n",
    "Motivation & Self-Development\n",
    "Movies\n",
    "Music\n",
    "Offers & Promotions\n",
    "Pets\n",
    "Politics & Incidents\n",
    "Psychology & Relationships\n",
    "Real Estate\n",
    "Recreation & Entertainment\n",
    "Religion & Spirituality\n",
    "Science\n",
    "Sports\n",
    "Technology & Internet\n",
    "Travel & Tourism\n",
    "Video Games\n",
    "Other\n",
    "\"\"\".strip().split('\\n')\n",
    "\n",
    "\n",
    "\n",
    "len(TOPICS)"
   ]
  },
  {
   "cell_type": "code",
   "execution_count": 20,
   "id": "choice-director",
   "metadata": {
    "ExecuteTime": {
     "end_time": "2021-02-09T13:53:50.645963Z",
     "start_time": "2021-02-09T13:53:50.621911Z"
    }
   },
   "outputs": [],
   "source": [
    "xml = etree.Element('View')\n",
    "# headers\n",
    "_ = etree.SubElement(xml, \"Header\", size='4', value=f'Title: $title')\n",
    "_ = etree.SubElement(xml, \"Header\", size='4', value=f'Description: $description')\n",
    "_ = etree.SubElement(xml, 'Text', name=\"posts\", value=\"$posts\")\n",
    "# primary\n",
    "_ = etree.SubElement(xml, \"Header\", size=\"6\",\n",
    "                          value=\"Primary topics\")\n",
    "_ = etree.SubElement(xml, \"Filter\", name=\"filter_primary\",\n",
    "                      toName='primary', hotkey=\"shift+f\",\n",
    "                      minlength=\"1\", )\n",
    "primary = etree.SubElement(xml, \"Choices\", name=\"primary\", toName=\"posts\",\n",
    "                          showInline=\"true\", choice='multiple', required='true')\n",
    "_ = [etree.SubElement(primary, 'Choice', value=s, )\n",
    "     for s in TOPICS]\n",
    "# secondary\n",
    "_ = etree.SubElement(xml, \"Header\", size=\"6\",\n",
    "                          value=\"Secondary topics\")\n",
    "_ = etree.SubElement(xml, \"Filter\", name=\"filter_secondary\",\n",
    "                      toName='secondary',\n",
    "                      minlength=\"1\", )\n",
    "secondary = etree.SubElement(xml, \"Choices\", name=\"secondary\", toName=\"posts\",\n",
    "                          showInline=\"true\", choice='multiple', required='false')\n",
    "_ = [etree.SubElement(secondary, 'Choice', value=s, ) for s in TOPICS]\n",
    "# pretty string\n",
    "etree.indent(xml, space='  ')\n",
    "config = etree.tostring(xml, pretty_print=True,).decode('utf-8')"
   ]
  },
  {
   "cell_type": "code",
   "execution_count": 21,
   "id": "stone-amplifier",
   "metadata": {
    "ExecuteTime": {
     "end_time": "2021-02-09T13:53:50.663509Z",
     "start_time": "2021-02-09T13:53:50.647136Z"
    }
   },
   "outputs": [
    {
     "name": "stdout",
     "output_type": "stream",
     "text": [
      "<View>\n",
      "  <Header size=\"4\" value=\"Title: $title\"/>\n",
      "  <Header size=\"4\" value=\"Description: $description\"/>\n",
      "  <Text name=\"posts\" value=\"$posts\"/>\n",
      "  <Header size=\"6\" value=\"Primary topics\"/>\n",
      "  <Filter name=\"filter_primary\" toName=\"primary\" hotkey=\"shift+f\" minlength=\"1\"/>\n",
      "  <Choices name=\"primary\" toName=\"posts\" showInline=\"true\" choice=\"multiple\" required=\"true\">\n",
      "    <Choice value=\"Art &amp; Design\"/>\n",
      "    <Choice value=\"Bets &amp; Gambling\"/>\n",
      "    <Choice value=\"Books\"/>\n",
      "    <Choice value=\"Business &amp; Entrepreneurship\"/>\n",
      "    <Choice value=\"Cars &amp; Other Vehicles\"/>\n",
      "    <Choice value=\"Celebrities &amp; Lifestyle\"/>\n",
      "    <Choice value=\"Cryptocurrencies\"/>\n",
      "    <Choice value=\"Culture &amp; Events\"/>\n",
      "    <Choice value=\"Curious Facts\"/>\n",
      "    <Choice value=\"Directories of Channels &amp; Bots\"/>\n",
      "    <Choice value=\"Economy &amp; Finance\"/>\n",
      "    <Choice value=\"Education\"/>\n",
      "    <Choice value=\"Erotic Content\"/>\n",
      "    <Choice value=\"Fashion &amp; Beauty\"/>\n",
      "    <Choice value=\"Fitness\"/>\n",
      "    <Choice value=\"Food &amp; Cooking\"/>\n",
      "    <Choice value=\"Foreign Languages\"/>\n",
      "    <Choice value=\"Health &amp; Medicine\"/>\n",
      "    <Choice value=\"History\"/>\n",
      "    <Choice value=\"Hobbies &amp; Activities\"/>\n",
      "    <Choice value=\"Home &amp; Architecture\"/>\n",
      "    <Choice value=\"Humor &amp; Memes\"/>\n",
      "    <Choice value=\"Investments\"/>\n",
      "    <Choice value=\"Job Listings\"/>\n",
      "    <Choice value=\"Kids &amp; Parenting\"/>\n",
      "    <Choice value=\"Marketing &amp; PR\"/>\n",
      "    <Choice value=\"Motivation &amp; Self-Development\"/>\n",
      "    <Choice value=\"Movies\"/>\n",
      "    <Choice value=\"Music\"/>\n",
      "    <Choice value=\"Offers &amp; Promotions\"/>\n",
      "    <Choice value=\"Pets\"/>\n",
      "    <Choice value=\"Politics &amp; Incidents\"/>\n",
      "    <Choice value=\"Psychology &amp; Relationships\"/>\n",
      "    <Choice value=\"Real Estate\"/>\n",
      "    <Choice value=\"Recreation &amp; Entertainment\"/>\n",
      "    <Choice value=\"Religion &amp; Spirituality\"/>\n",
      "    <Choice value=\"Science\"/>\n",
      "    <Choice value=\"Sports\"/>\n",
      "    <Choice value=\"Technology &amp; Internet\"/>\n",
      "    <Choice value=\"Travel &amp; Tourism\"/>\n",
      "    <Choice value=\"Video Games\"/>\n",
      "    <Choice value=\"Other\"/>\n",
      "  </Choices>\n",
      "  <Header size=\"6\" value=\"Secondary topics\"/>\n",
      "  <Filter name=\"filter_secondary\" toName=\"secondary\" minlength=\"1\"/>\n",
      "  <Choices name=\"secondary\" toName=\"posts\" showInline=\"true\" choice=\"multiple\" required=\"false\">\n",
      "    <Choice value=\"Art &amp; Design\"/>\n",
      "    <Choice value=\"Bets &amp; Gambling\"/>\n",
      "    <Choice value=\"Books\"/>\n",
      "    <Choice value=\"Business &amp; Entrepreneurship\"/>\n",
      "    <Choice value=\"Cars &amp; Other Vehicles\"/>\n",
      "    <Choice value=\"Celebrities &amp; Lifestyle\"/>\n",
      "    <Choice value=\"Cryptocurrencies\"/>\n",
      "    <Choice value=\"Culture &amp; Events\"/>\n",
      "    <Choice value=\"Curious Facts\"/>\n",
      "    <Choice value=\"Directories of Channels &amp; Bots\"/>\n",
      "    <Choice value=\"Economy &amp; Finance\"/>\n",
      "    <Choice value=\"Education\"/>\n",
      "    <Choice value=\"Erotic Content\"/>\n",
      "    <Choice value=\"Fashion &amp; Beauty\"/>\n",
      "    <Choice value=\"Fitness\"/>\n",
      "    <Choice value=\"Food &amp; Cooking\"/>\n",
      "    <Choice value=\"Foreign Languages\"/>\n",
      "    <Choice value=\"Health &amp; Medicine\"/>\n",
      "    <Choice value=\"History\"/>\n",
      "    <Choice value=\"Hobbies &amp; Activities\"/>\n",
      "    <Choice value=\"Home &amp; Architecture\"/>\n",
      "    <Choice value=\"Humor &amp; Memes\"/>\n",
      "    <Choice value=\"Investments\"/>\n",
      "    <Choice value=\"Job Listings\"/>\n",
      "    <Choice value=\"Kids &amp; Parenting\"/>\n",
      "    <Choice value=\"Marketing &amp; PR\"/>\n",
      "    <Choice value=\"Motivation &amp; Self-Development\"/>\n",
      "    <Choice value=\"Movies\"/>\n",
      "    <Choice value=\"Music\"/>\n",
      "    <Choice value=\"Offers &amp; Promotions\"/>\n",
      "    <Choice value=\"Pets\"/>\n",
      "    <Choice value=\"Politics &amp; Incidents\"/>\n",
      "    <Choice value=\"Psychology &amp; Relationships\"/>\n",
      "    <Choice value=\"Real Estate\"/>\n",
      "    <Choice value=\"Recreation &amp; Entertainment\"/>\n",
      "    <Choice value=\"Religion &amp; Spirituality\"/>\n",
      "    <Choice value=\"Science\"/>\n",
      "    <Choice value=\"Sports\"/>\n",
      "    <Choice value=\"Technology &amp; Internet\"/>\n",
      "    <Choice value=\"Travel &amp; Tourism\"/>\n",
      "    <Choice value=\"Video Games\"/>\n",
      "    <Choice value=\"Other\"/>\n",
      "  </Choices>\n",
      "</View>\n",
      "\n"
     ]
    }
   ],
   "source": [
    "with open('data/interim/labelling_config.xml', 'w') as f:\n",
    "    f.write(config)\n",
    "\n",
    "print(config)"
   ]
  },
  {
   "cell_type": "code",
   "execution_count": null,
   "id": "heavy-voluntary",
   "metadata": {},
   "outputs": [],
   "source": []
  }
 ],
 "metadata": {
  "kernelspec": {
   "display_name": "tgcat",
   "language": "python",
   "name": "tgcat"
  },
  "language_info": {
   "codemirror_mode": {
    "name": "ipython",
    "version": 3
   },
   "file_extension": ".py",
   "mimetype": "text/x-python",
   "name": "python",
   "nbconvert_exporter": "python",
   "pygments_lexer": "ipython3",
   "version": "3.7.9"
  },
  "notify_time": "10",
  "toc": {
   "base_numbering": 1,
   "nav_menu": {},
   "number_sections": true,
   "sideBar": true,
   "skip_h1_title": false,
   "title_cell": "Table of Contents",
   "title_sidebar": "Contents",
   "toc_cell": false,
   "toc_position": {},
   "toc_section_display": true,
   "toc_window_display": false
  }
 },
 "nbformat": 4,
 "nbformat_minor": 5
}
