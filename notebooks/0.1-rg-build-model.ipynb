{
 "cells": [
  {
   "cell_type": "markdown",
   "metadata": {},
   "source": [
    "# Build a model to classify topics for Telegram channels\n",
    "\n",
    "**Pre-req**\n",
    "1. Download csv from gdrive with channels and save to ``data/external/telegram_channels.csv``\n",
    "2. Run ``python -m src.train.download`` to get posts and meta-data\n",
    "\n",
    "**Steps**\n",
    "1. Load data:\n",
    "    - posts from channels\n",
    "    - channel titles and descriptions\n",
    "    - channel topics\n",
    "2. Build a training dataset:\n",
    "    1. Merge\n",
    "    2. Select inputs\n",
    "    3. Split into train/val\n",
    "3. Build models:\n",
    "    1. Embed text\n",
    "    2. Train a classifier\n",
    "    3. Select best\n",
    "4. Evaluate on test data and save best"
   ]
  },
  {
   "cell_type": "code",
   "execution_count": 1,
   "metadata": {
    "ExecuteTime": {
     "end_time": "2021-02-14T16:13:36.977981Z",
     "start_time": "2021-02-14T16:13:35.366990Z"
    }
   },
   "outputs": [],
   "source": [
    "%load_ext autoreload\n",
    "%autoreload 2\n",
    "%matplotlib inline\n",
    "#standard libs\n",
    "import os, sys\n",
    "from pathlib import Path\n",
    "from pprint import pprint\n",
    "from collections import Counter\n",
    "import random\n",
    "import json\n",
    "import itertools\n",
    "from datetime import datetime as dt\n",
    "# ds libs\n",
    "import pandas as pd\n",
    "import numpy as np\n",
    "import matplotlib.pyplot as plt\n",
    "import seaborn as sns\n",
    "from tqdm import tqdm, tqdm_notebook\n",
    "\n",
    "from torchtext import data\n",
    "import re\n",
    "# custom path\n",
    "os.chdir('..')\n",
    "os.environ['KMP_DUPLICATE_LIB_OK']='True'\n"
   ]
  },
  {
   "cell_type": "code",
   "execution_count": 360,
   "metadata": {
    "ExecuteTime": {
     "end_time": "2021-02-14T17:35:55.387141Z",
     "start_time": "2021-02-14T17:35:54.977297Z"
    }
   },
   "outputs": [],
   "source": [
    "# %%writefile src/train/text_utils.py\n",
    "import re\n",
    "import pyonmttok\n",
    "from src.train.nlp_utils import load_lemmatizers, get_tokens, select_lemmas\n",
    "\n",
    "\n",
    "def process_topics(topics):\n",
    "    ''' remove empty ones and strip from whitespaces '''\n",
    "    topics = list(filter(lambda x: x != '', \n",
    "                        topics))\n",
    "    topics = list(map(lambda x: x.strip(), topics))\n",
    "    return topics\n",
    "\n",
    "\n",
    "def raw2list(raw):\n",
    "    \"\"\"convert raw str or dict field to a list of topics \"\"\"\n",
    "    if isinstance(raw, dict):\n",
    "        raw = raw['choices']\n",
    "    else:\n",
    "        raw = [str(raw)]\n",
    "    return raw\n",
    "\n",
    "\n",
    "def get_test_topics(primary, secondary):\n",
    "    \"\"\" merge primary and secondary \"\"\"\n",
    "    primary = raw2list(primary)\n",
    "    if secondary != '':\n",
    "        primary += raw2list(secondary)\n",
    "    return primary\n",
    "\n",
    "\n",
    "def prepare_inputs(channel_data, target_fields):\n",
    "    \"\"\" receive one channel example and return its texts from title, description and posts \"\"\"\n",
    "    inputs = []\n",
    "    if 'title' in target_fields:\n",
    "        inputs.append(channel_data['title'])\n",
    "    if 'description' in target_fields:\n",
    "        inputs.append(channel_data['description'])\n",
    "    if 'posts' in target_fields:\n",
    "        inputs += list(channel_data['posts'])\n",
    "    return '\\n'.join(inputs)\n",
    "\n",
    "\n",
    "def clean_token(token):\n",
    "    \"\"\" keep only english or russian characters \"\"\"\n",
    "#     re.sub('[\\W\\d]', '', x)\n",
    "    token = re.sub('[^a-zа-я]', '', token)\n",
    "    return token\n",
    "\n",
    "\n",
    "def process_tokens(tokens):\n",
    "    \"\"\"filter out useless tokens as empty or non-words\"\"\"\n",
    "    tokens = list(map(lambda x: clean_token(x),\n",
    "                     tokens))\n",
    "    tokens = list(filter(lambda x: len(x) > 1,\n",
    "                    tokens))\n",
    "    return tokens\n",
    "\n",
    "\n",
    "TOKENIZER = pyonmttok.Tokenizer('aggressive', joiner_annotate=True)\n",
    "\n",
    "\n",
    "def preprocess_text(text):\n",
    "    \"\"\"remove url, non-words chars \"\"\"\n",
    "    text = re.sub('http[s]?://(?:[a-zA-Z]|[0-9]|[$-_@.&+]|[!*\\(\\),]|(?:%[0-9a-fA-F][0-9a-fA-F]))+',\n",
    "             \" \", text)\n",
    "    return text.lower()\n",
    "\n",
    "def tokenize_text(text):\n",
    "    \"\"\" split into lowercase tokens \"\"\"\n",
    "    text = preprocess_text(text)\n",
    "    text = re.sub('\\n+', ' ', text)\n",
    "    tokens,_ = TOKENIZER.tokenize(text)\n",
    "    tokens = process_tokens(tokens)\n",
    "    return tokens\n",
    "\n",
    "\n",
    "POS = {\n",
    "    \"en\": ['NOUN', 'PROPN', 'ADJ', 'VERB'],\n",
    "    \"ru\": ['A', 'S',]\n",
    "}\n",
    "\n",
    "load_lemmatizers()\n",
    "\n",
    "\n",
    "def lang_lemmatizer(language):\n",
    "    def lemmatize_text(text):\n",
    "        \"\"\" get lemmas and POS tags, select target POS lemmas and filter trash \"\"\"\n",
    "        text = preprocess_text(text)\n",
    "        tokens = get_tokens(text, language)\n",
    "        lemmas = select_lemmas(tokens, POS[language])\n",
    "        lemmas = process_tokens(lemmas)\n",
    "        return lemmas\n",
    "    return lemmatize_text"
   ]
  },
  {
   "cell_type": "markdown",
   "metadata": {},
   "source": [
    "## Data prep"
   ]
  },
  {
   "cell_type": "code",
   "execution_count": 761,
   "metadata": {
    "ExecuteTime": {
     "end_time": "2021-02-14T18:14:06.030384Z",
     "start_time": "2021-02-14T18:14:05.995662Z"
    }
   },
   "outputs": [],
   "source": [
    "POSTS = 'data/raw/posts.csv'\n",
    "META = 'data/raw/meta.csv'\n",
    "TOPICS = 'data/external/telegram_channels.csv'\n",
    "\n",
    "COMPLETIONS = [\n",
    "    'data/external/2020-02-14_completions.json',\n",
    "    'data/external/2020-02-14_active_completions.json',\n",
    "]\n",
    "ACTIVE_COMPLETIONS = [\n",
    "#     'data/external/2020-02-14_active_completions.json'\n",
    "]\n",
    "\n",
    "\n",
    "ONLY_PRIMARY = False\n",
    "MIN_RAND = 2"
   ]
  },
  {
   "cell_type": "markdown",
   "metadata": {},
   "source": [
    "### Load channels"
   ]
  },
  {
   "cell_type": "code",
   "execution_count": 762,
   "metadata": {
    "ExecuteTime": {
     "end_time": "2021-02-14T18:14:06.875986Z",
     "start_time": "2021-02-14T18:14:06.755461Z"
    }
   },
   "outputs": [],
   "source": [
    "posts = pd.read_csv(POSTS)\n",
    "meta = pd.read_csv(META)\n",
    "topics = pd.read_csv(TOPICS)\n",
    "\n",
    "# extra columns\n",
    "topics['topic [Secondary]'].fillna(\"\", inplace=True)\n",
    "topics['username'] = topics['link'].apply(lambda x: x.split('/')[-1])\n",
    "\n",
    "topics['language'] = topics['language'].apply(lambda x: x.lower()[:2])\n",
    "\n",
    "posts.rename({'channel':'username', 'message': 'posts'}, axis=1, inplace=True)\n",
    "\n",
    "if ONLY_PRIMARY:\n",
    "    topics['topics'] = topics.apply(lambda x: x['topic [Primary]'].split(','), axis=1)\n",
    "else:\n",
    "    topics['topics'] = topics.apply(lambda x: x['topic [Primary]'].split(',') + x['topic [Secondary]'].split(','), \n",
    "                               axis=1)\n",
    "topics['topics'] = topics['topics'].apply(process_topics)\n",
    "posts['posts'].fillna(\"\", inplace=True)\n",
    "\n",
    "meta['description'] = meta['about']\n",
    "meta['description'].fillna('', inplace=True)\n",
    "\n",
    "\n",
    "del topics['link'], meta['about']"
   ]
  },
  {
   "cell_type": "code",
   "execution_count": 763,
   "metadata": {
    "ExecuteTime": {
     "end_time": "2021-02-14T18:14:06.991113Z",
     "start_time": "2021-02-14T18:14:06.952069Z"
    }
   },
   "outputs": [
    {
     "data": {
      "text/html": [
       "<div>\n",
       "<style scoped>\n",
       "    .dataframe tbody tr th:only-of-type {\n",
       "        vertical-align: middle;\n",
       "    }\n",
       "\n",
       "    .dataframe tbody tr th {\n",
       "        vertical-align: top;\n",
       "    }\n",
       "\n",
       "    .dataframe thead th {\n",
       "        text-align: right;\n",
       "    }\n",
       "</style>\n",
       "<table border=\"1\" class=\"dataframe\">\n",
       "  <thead>\n",
       "    <tr style=\"text-align: right;\">\n",
       "      <th></th>\n",
       "      <th>username</th>\n",
       "      <th>idx</th>\n",
       "      <th>date</th>\n",
       "      <th>posts</th>\n",
       "      <th>language</th>\n",
       "    </tr>\n",
       "  </thead>\n",
       "  <tbody>\n",
       "    <tr>\n",
       "      <th>727</th>\n",
       "      <td>ithumor</td>\n",
       "      <td>4932</td>\n",
       "      <td>2021-02-13 17:03:04+00:00</td>\n",
       "      <td>​Когда в твоём проекте много багов и ты решил ...</td>\n",
       "      <td>ru</td>\n",
       "    </tr>\n",
       "    <tr>\n",
       "      <th>3595</th>\n",
       "      <td>carsoftheworld</td>\n",
       "      <td>4610</td>\n",
       "      <td>2020-10-25 21:36:22+00:00</td>\n",
       "      <td></td>\n",
       "      <td>en</td>\n",
       "    </tr>\n",
       "    <tr>\n",
       "      <th>1286</th>\n",
       "      <td>masyashpakofficial</td>\n",
       "      <td>1046</td>\n",
       "      <td>2021-02-12 03:41:29+00:00</td>\n",
       "      <td>February 12, 2021 at 05:54AM\\n\\nНу, с Богом ✈ч...</td>\n",
       "      <td>ru</td>\n",
       "    </tr>\n",
       "    <tr>\n",
       "      <th>4120</th>\n",
       "      <td>freelancetaverna</td>\n",
       "      <td>4734</td>\n",
       "      <td>2021-02-12 16:50:34+00:00</td>\n",
       "      <td>#другое\\n\\nИщут специалистов по расчётам КП.\\n...</td>\n",
       "      <td>ru</td>\n",
       "    </tr>\n",
       "  </tbody>\n",
       "</table>\n",
       "</div>"
      ],
      "text/plain": [
       "                username   idx                       date  \\\n",
       "727              ithumor  4932  2021-02-13 17:03:04+00:00   \n",
       "3595      carsoftheworld  4610  2020-10-25 21:36:22+00:00   \n",
       "1286  masyashpakofficial  1046  2021-02-12 03:41:29+00:00   \n",
       "4120    freelancetaverna  4734  2021-02-12 16:50:34+00:00   \n",
       "\n",
       "                                                  posts language  \n",
       "727   ​Когда в твоём проекте много багов и ты решил ...       ru  \n",
       "3595                                                          en  \n",
       "1286  February 12, 2021 at 05:54AM\\n\\nНу, с Богом ✈ч...       ru  \n",
       "4120  #другое\\n\\nИщут специалистов по расчётам КП.\\n...       ru  "
      ]
     },
     "execution_count": 763,
     "metadata": {},
     "output_type": "execute_result"
    }
   ],
   "source": [
    "posts.sample(4)"
   ]
  },
  {
   "cell_type": "code",
   "execution_count": 764,
   "metadata": {
    "ExecuteTime": {
     "end_time": "2021-02-14T18:14:07.176855Z",
     "start_time": "2021-02-14T18:14:07.140447Z"
    }
   },
   "outputs": [
    {
     "data": {
      "text/html": [
       "<div>\n",
       "<style scoped>\n",
       "    .dataframe tbody tr th:only-of-type {\n",
       "        vertical-align: middle;\n",
       "    }\n",
       "\n",
       "    .dataframe tbody tr th {\n",
       "        vertical-align: top;\n",
       "    }\n",
       "\n",
       "    .dataframe thead th {\n",
       "        text-align: right;\n",
       "    }\n",
       "</style>\n",
       "<table border=\"1\" class=\"dataframe\">\n",
       "  <thead>\n",
       "    <tr style=\"text-align: right;\">\n",
       "      <th></th>\n",
       "      <th>username</th>\n",
       "      <th>title</th>\n",
       "      <th>description</th>\n",
       "    </tr>\n",
       "  </thead>\n",
       "  <tbody>\n",
       "    <tr>\n",
       "      <th>329</th>\n",
       "      <td>oneminutevid</td>\n",
       "      <td>One Minute Motivation</td>\n",
       "      <td>Are you sometimes weighed down by difficulties...</td>\n",
       "    </tr>\n",
       "    <tr>\n",
       "      <th>248</th>\n",
       "      <td>wallknight</td>\n",
       "      <td>Wall Papers</td>\n",
       "      <td>Daily hd wallpapers for your home screen.\\n\\n#...</td>\n",
       "    </tr>\n",
       "    <tr>\n",
       "      <th>240</th>\n",
       "      <td>apodChannel</td>\n",
       "      <td>Astronomy Picture Of the Day</td>\n",
       "      <td>Astronomy Picture Of the Day\\nA different astr...</td>\n",
       "    </tr>\n",
       "  </tbody>\n",
       "</table>\n",
       "</div>"
      ],
      "text/plain": [
       "         username                         title  \\\n",
       "329  oneminutevid         One Minute Motivation   \n",
       "248    wallknight                   Wall Papers   \n",
       "240   apodChannel  Astronomy Picture Of the Day   \n",
       "\n",
       "                                           description  \n",
       "329  Are you sometimes weighed down by difficulties...  \n",
       "248  Daily hd wallpapers for your home screen.\\n\\n#...  \n",
       "240  Astronomy Picture Of the Day\\nA different astr...  "
      ]
     },
     "execution_count": 764,
     "metadata": {},
     "output_type": "execute_result"
    }
   ],
   "source": [
    "meta.sample(3)"
   ]
  },
  {
   "cell_type": "code",
   "execution_count": 765,
   "metadata": {
    "ExecuteTime": {
     "end_time": "2021-02-14T18:14:07.359993Z",
     "start_time": "2021-02-14T18:14:07.318531Z"
    }
   },
   "outputs": [
    {
     "data": {
      "text/html": [
       "<div>\n",
       "<style scoped>\n",
       "    .dataframe tbody tr th:only-of-type {\n",
       "        vertical-align: middle;\n",
       "    }\n",
       "\n",
       "    .dataframe tbody tr th {\n",
       "        vertical-align: top;\n",
       "    }\n",
       "\n",
       "    .dataframe thead th {\n",
       "        text-align: right;\n",
       "    }\n",
       "</style>\n",
       "<table border=\"1\" class=\"dataframe\">\n",
       "  <thead>\n",
       "    <tr style=\"text-align: right;\">\n",
       "      <th></th>\n",
       "      <th>Timestamp</th>\n",
       "      <th>topic [Primary]</th>\n",
       "      <th>language</th>\n",
       "      <th>topic [Secondary]</th>\n",
       "      <th>username</th>\n",
       "      <th>topics</th>\n",
       "    </tr>\n",
       "  </thead>\n",
       "  <tbody>\n",
       "    <tr>\n",
       "      <th>143</th>\n",
       "      <td>2/8/2021 7:35:08</td>\n",
       "      <td>Economy &amp; Finance</td>\n",
       "      <td>ru</td>\n",
       "      <td></td>\n",
       "      <td>biz_FM</td>\n",
       "      <td>[Economy &amp; Finance]</td>\n",
       "    </tr>\n",
       "    <tr>\n",
       "      <th>15</th>\n",
       "      <td>2/11/2021 16:36:23</td>\n",
       "      <td>Offers &amp; Promotions</td>\n",
       "      <td>en</td>\n",
       "      <td>Food &amp; Cooking</td>\n",
       "      <td>foodcoupon</td>\n",
       "      <td>[Offers &amp; Promotions, Food &amp; Cooking]</td>\n",
       "    </tr>\n",
       "    <tr>\n",
       "      <th>387</th>\n",
       "      <td>2/3/2021 7:49:08</td>\n",
       "      <td>Sports</td>\n",
       "      <td>ru</td>\n",
       "      <td></td>\n",
       "      <td>footballworld2019</td>\n",
       "      <td>[Sports]</td>\n",
       "    </tr>\n",
       "    <tr>\n",
       "      <th>409</th>\n",
       "      <td>2/3/2021 7:18:40</td>\n",
       "      <td>Books</td>\n",
       "      <td>ru</td>\n",
       "      <td></td>\n",
       "      <td>biblio</td>\n",
       "      <td>[Books]</td>\n",
       "    </tr>\n",
       "    <tr>\n",
       "      <th>419</th>\n",
       "      <td>2/3/2021 7:04:24</td>\n",
       "      <td>Movies</td>\n",
       "      <td>ru</td>\n",
       "      <td></td>\n",
       "      <td>FilmsFHD</td>\n",
       "      <td>[Movies]</td>\n",
       "    </tr>\n",
       "  </tbody>\n",
       "</table>\n",
       "</div>"
      ],
      "text/plain": [
       "              Timestamp      topic [Primary] language topic [Secondary]  \\\n",
       "143    2/8/2021 7:35:08    Economy & Finance       ru                     \n",
       "15   2/11/2021 16:36:23  Offers & Promotions       en    Food & Cooking   \n",
       "387    2/3/2021 7:49:08               Sports       ru                     \n",
       "409    2/3/2021 7:18:40                Books       ru                     \n",
       "419    2/3/2021 7:04:24               Movies       ru                     \n",
       "\n",
       "              username                                 topics  \n",
       "143             biz_FM                    [Economy & Finance]  \n",
       "15          foodcoupon  [Offers & Promotions, Food & Cooking]  \n",
       "387  footballworld2019                               [Sports]  \n",
       "409             biblio                                [Books]  \n",
       "419           FilmsFHD                               [Movies]  "
      ]
     },
     "execution_count": 765,
     "metadata": {},
     "output_type": "execute_result"
    }
   ],
   "source": [
    "topics.sample(5)"
   ]
  },
  {
   "cell_type": "markdown",
   "metadata": {},
   "source": [
    "### EDA"
   ]
  },
  {
   "cell_type": "code",
   "execution_count": 766,
   "metadata": {
    "ExecuteTime": {
     "end_time": "2021-02-14T18:14:07.718178Z",
     "start_time": "2021-02-14T18:14:07.687119Z"
    }
   },
   "outputs": [],
   "source": [
    "from src.train.plot_utils import barplots"
   ]
  },
  {
   "cell_type": "code",
   "execution_count": 767,
   "metadata": {
    "ExecuteTime": {
     "end_time": "2021-02-14T18:14:07.981010Z",
     "start_time": "2021-02-14T18:14:07.865799Z"
    }
   },
   "outputs": [
    {
     "data": {
      "image/png": "[encoded data removed]",
      "text/plain": [
       "<Figure size 288x216 with 1 Axes>"
      ]
     },
     "metadata": {
      "needs_background": "light"
     },
     "output_type": "display_data"
    }
   ],
   "source": [
    "barplots({\n",
    "    'languages': topics['language']\n",
    "}, 1, 1)"
   ]
  },
  {
   "cell_type": "code",
   "execution_count": 768,
   "metadata": {
    "ExecuteTime": {
     "end_time": "2021-02-14T18:14:08.964595Z",
     "start_time": "2021-02-14T18:14:08.038774Z"
    }
   },
   "outputs": [
    {
     "data": {
      "image/png": "[encoded data removed]",
      "text/plain": [
       "<Figure size 864x936 with 2 Axes>"
      ]
     },
     "metadata": {
      "needs_background": "light"
     },
     "output_type": "display_data"
    }
   ],
   "source": [
    "t = topics.groupby('language').agg({\n",
    "    'topics': lambda rows: Counter(x for row in rows for x in row)\n",
    "}).to_dict()['topics']\n",
    "\n",
    "barplots({\n",
    "    'en topics': (list(t['en'].keys()), list(t['en'].values())),\n",
    "    'ru topics': (list(t['ru'].keys()), list(t['ru'].values())),\n",
    "}, 1, 2, fig_dims=(12,13))"
   ]
  },
  {
   "cell_type": "code",
   "execution_count": 769,
   "metadata": {
    "ExecuteTime": {
     "end_time": "2021-02-14T18:14:09.000608Z",
     "start_time": "2021-02-14T18:14:08.966291Z"
    }
   },
   "outputs": [
    {
     "data": {
      "text/html": [
       "<div>\n",
       "<style scoped>\n",
       "    .dataframe tbody tr th:only-of-type {\n",
       "        vertical-align: middle;\n",
       "    }\n",
       "\n",
       "    .dataframe tbody tr th {\n",
       "        vertical-align: top;\n",
       "    }\n",
       "\n",
       "    .dataframe thead tr th {\n",
       "        text-align: left;\n",
       "    }\n",
       "\n",
       "    .dataframe thead tr:last-of-type th {\n",
       "        text-align: right;\n",
       "    }\n",
       "</style>\n",
       "<table border=\"1\" class=\"dataframe\">\n",
       "  <thead>\n",
       "    <tr>\n",
       "      <th></th>\n",
       "      <th colspan=\"2\" halign=\"left\">username</th>\n",
       "    </tr>\n",
       "    <tr>\n",
       "      <th></th>\n",
       "      <th>count</th>\n",
       "      <th>nunique</th>\n",
       "    </tr>\n",
       "    <tr>\n",
       "      <th>language</th>\n",
       "      <th></th>\n",
       "      <th></th>\n",
       "    </tr>\n",
       "  </thead>\n",
       "  <tbody>\n",
       "    <tr>\n",
       "      <th>en</th>\n",
       "      <td>2256</td>\n",
       "      <td>227</td>\n",
       "    </tr>\n",
       "    <tr>\n",
       "      <th>ru</th>\n",
       "      <td>2774</td>\n",
       "      <td>278</td>\n",
       "    </tr>\n",
       "  </tbody>\n",
       "</table>\n",
       "</div>"
      ],
      "text/plain": [
       "         username        \n",
       "            count nunique\n",
       "language                 \n",
       "en           2256     227\n",
       "ru           2774     278"
      ]
     },
     "execution_count": 769,
     "metadata": {},
     "output_type": "execute_result"
    }
   ],
   "source": [
    "posts.groupby('language').agg({'username':['count', 'nunique']})"
   ]
  },
  {
   "cell_type": "markdown",
   "metadata": {},
   "source": [
    "### Compare raw tokens to lemmas"
   ]
  },
  {
   "cell_type": "code",
   "execution_count": 770,
   "metadata": {
    "ExecuteTime": {
     "end_time": "2021-02-14T18:14:09.032757Z",
     "start_time": "2021-02-14T18:14:09.002013Z"
    },
    "scrolled": true
   },
   "outputs": [
    {
     "name": "stdout",
     "output_type": "stream",
     "text": [
      "INPUT \n",
      "\n",
      "LEMMAS []\n",
      "\n",
      "RAW TOKENS []\n"
     ]
    }
   ],
   "source": [
    "row = posts.sample(1).iloc[0]\n",
    "\n",
    "lem = lang_lemmatizer(row['language'])\n",
    "l = lem(row['posts'],)\n",
    "t = tokenize_text(row['posts'])\n",
    "\n",
    "print(\"INPUT\", row['posts'], end='\\n\\n')\n",
    "print(\"LEMMAS\", l)\n",
    "# pprint(l)\n",
    "print('\\nRAW TOKENS', t)\n",
    "# pprint(t)"
   ]
  },
  {
   "cell_type": "markdown",
   "metadata": {},
   "source": [
    "### Build a dataframe"
   ]
  },
  {
   "cell_type": "code",
   "execution_count": 771,
   "metadata": {
    "ExecuteTime": {
     "end_time": "2021-02-14T18:14:09.071672Z",
     "start_time": "2021-02-14T18:14:09.034249Z"
    }
   },
   "outputs": [
    {
     "data": {
      "text/plain": [
       "(532, 505)"
      ]
     },
     "execution_count": 771,
     "metadata": {},
     "output_type": "execute_result"
    }
   ],
   "source": [
    "train_channels = topics[['username', 'topics', 'language']].to_dict('records')\n",
    "channel_meta = meta.groupby('username').agg({\n",
    "                            'title': 'first',\n",
    "                            'description': 'first'\n",
    "                            }).to_dict('index')\n",
    "\n",
    "len(train_channels), len(channel_meta)"
   ]
  },
  {
   "cell_type": "code",
   "execution_count": 772,
   "metadata": {
    "ExecuteTime": {
     "end_time": "2021-02-14T18:14:10.029266Z",
     "start_time": "2021-02-14T18:14:09.173701Z"
    }
   },
   "outputs": [
    {
     "name": "stderr",
     "output_type": "stream",
     "text": [
      "/Users/rustem.galiullin/miniconda3/envs/tgcat/lib/python3.7/site-packages/ipykernel_launcher.py:3: TqdmDeprecationWarning: This function will be removed in tqdm==5.0.0\n",
      "Please use `tqdm.notebook.tqdm` instead of `tqdm.tqdm_notebook`\n",
      "  This is separate from the ipykernel package so we can avoid doing imports until\n"
     ]
    },
    {
     "data": {
      "application/vnd.jupyter.widget-view+json": {
       "model_id": "661265019bab4d8a98201456e2d9b56c",
       "version_major": 2,
       "version_minor": 0
      },
      "text/plain": [
       "channels:   0%|          | 0/532 [00:00<?, ?it/s]"
      ]
     },
     "metadata": {},
     "output_type": "display_data"
    },
    {
     "data": {
      "text/plain": [
       "(639, 6)"
      ]
     },
     "execution_count": 772,
     "metadata": {},
     "output_type": "execute_result"
    }
   ],
   "source": [
    "inputs = []\n",
    "\n",
    "for channel in tqdm_notebook(train_channels, desc='channels'):\n",
    "    channel_name = channel['username']\n",
    "    subset = posts.query(f'username == \"{channel_name}\"')['posts']\n",
    "    num_smp = min(len(subset), np.random.randint(MIN_RAND, 10))\n",
    "    smp = subset.sample(num_smp).tolist()\n",
    "    for top in channel['topics']:\n",
    "        one = {\n",
    "            'username': channel_name,\n",
    "            'language': channel['language'],\n",
    "            'posts': smp,\n",
    "            'title': channel_meta.get(channel_name, {}).get('title', ''),\n",
    "            'description': channel_meta.get(channel_name, {}).get('description', \"\"),\n",
    "            'topic': top,\n",
    "        }\n",
    "        inputs.append(one)\n",
    "    \n",
    "inputs = pd.DataFrame(inputs)\n",
    "\n",
    "\n",
    "inputs.shape"
   ]
  },
  {
   "cell_type": "markdown",
   "metadata": {},
   "source": [
    "### Test data"
   ]
  },
  {
   "cell_type": "code",
   "execution_count": 773,
   "metadata": {
    "ExecuteTime": {
     "end_time": "2021-02-14T18:14:10.059034Z",
     "start_time": "2021-02-14T18:14:10.030484Z"
    }
   },
   "outputs": [],
   "source": [
    "def load_labelled_data(files):\n",
    "    if len(files) == 0:\n",
    "        return pd.DataFrame()\n",
    "    labelled_data = [pd.read_json(c, ) for c in files]\n",
    "    labelled_data = pd.concat(labelled_data)\n",
    "    labelled_data['secondary'].fillna('', inplace=True)\n",
    "    labelled_data['username'] = '???'\n",
    "    del labelled_data['posts']\n",
    "    labelled_data.rename({'lang_code': 'language', 'recent_posts': 'posts'}, axis='columns', inplace=True)\n",
    "    labelled_data.info()\n",
    "    return labelled_data\n",
    "\n",
    "def prepare_labelled_data(labelled_data):\n",
    "    labelled_data['topics'] = labelled_data.apply(lambda x: get_test_topics(x['primary'], \n",
    "                                                                    '' if ONLY_PRIMARY else x['secondary']),\n",
    "                                      axis=1)\n",
    "    data = []\n",
    "    for i, row in labelled_data.iterrows():\n",
    "        for top in row['topics']:\n",
    "            row['topic'] = top\n",
    "            data.append(row)\n",
    "    data = pd.DataFrame(data)\n",
    "    return data"
   ]
  },
  {
   "cell_type": "code",
   "execution_count": 774,
   "metadata": {
    "ExecuteTime": {
     "end_time": "2021-02-14T18:14:10.270420Z",
     "start_time": "2021-02-14T18:14:10.120657Z"
    }
   },
   "outputs": [
    {
     "name": "stdout",
     "output_type": "stream",
     "text": [
      "<class 'pandas.core.frame.DataFrame'>\n",
      "Int64Index: 691 entries, 0 to 282\n",
      "Data columns (total 10 columns):\n",
      " #   Column       Non-Null Count  Dtype  \n",
      "---  ------       --------------  -----  \n",
      " 0   description  691 non-null    object \n",
      " 1   language     691 non-null    object \n",
      " 2   posts        691 non-null    object \n",
      " 3   title        691 non-null    object \n",
      " 4   id           691 non-null    int64  \n",
      " 5   primary      691 non-null    object \n",
      " 6   secondary    691 non-null    object \n",
      " 7   predictions  283 non-null    object \n",
      " 8   score        283 non-null    float64\n",
      " 9   username     691 non-null    object \n",
      "dtypes: float64(1), int64(1), object(8)\n",
      "memory usage: 59.4+ KB\n"
     ]
    }
   ],
   "source": [
    "random_labels = load_labelled_data(COMPLETIONS)\n",
    "# active_labels = load_labelled_data(ACTIVE_COMPLETIONS)\n",
    "\n",
    "# del active_labels['score'], active_labels['predictions']"
   ]
  },
  {
   "cell_type": "code",
   "execution_count": 775,
   "metadata": {
    "ExecuteTime": {
     "end_time": "2021-02-14T18:14:10.350929Z",
     "start_time": "2021-02-14T18:14:10.319513Z"
    },
    "scrolled": true
   },
   "outputs": [
    {
     "data": {
      "text/plain": [
       "{'language': {'en': 324, 'ru': 367}}"
      ]
     },
     "execution_count": 775,
     "metadata": {},
     "output_type": "execute_result"
    }
   ],
   "source": [
    "random_labels.groupby('language').agg({\n",
    "    'language': 'count',\n",
    "}).to_dict()"
   ]
  },
  {
   "cell_type": "raw",
   "metadata": {
    "ExecuteTime": {
     "end_time": "2021-02-14T12:12:17.260967Z",
     "start_time": "2021-02-14T12:12:17.215225Z"
    },
    "scrolled": true
   },
   "source": [
    "active_labels.groupby('language').agg({\n",
    "    'language': 'count',\n",
    "}).to_dict()"
   ]
  },
  {
   "cell_type": "code",
   "execution_count": 776,
   "metadata": {
    "ExecuteTime": {
     "end_time": "2021-02-14T18:14:12.428545Z",
     "start_time": "2021-02-14T18:14:11.759414Z"
    },
    "scrolled": true
   },
   "outputs": [
    {
     "data": {
      "text/plain": [
       "(890, 12)"
      ]
     },
     "execution_count": 776,
     "metadata": {},
     "output_type": "execute_result"
    }
   ],
   "source": [
    "test_data = prepare_labelled_data(random_labels)\n",
    "# active_data = prepare_labelled_data(active_labels)\n",
    "\n",
    "test_data.shape #, active_data.shape"
   ]
  },
  {
   "cell_type": "raw",
   "metadata": {
    "ExecuteTime": {
     "end_time": "2021-02-14T18:09:54.295618Z",
     "start_time": "2021-02-14T18:09:54.263770Z"
    }
   },
   "source": [
    "inputs = pd.concat([inputs, active_data], axis=0)\n",
    "\n",
    "inputs.shape"
   ]
  },
  {
   "cell_type": "markdown",
   "metadata": {},
   "source": [
    "### Topic distribution"
   ]
  },
  {
   "cell_type": "code",
   "execution_count": 777,
   "metadata": {
    "ExecuteTime": {
     "end_time": "2021-02-14T18:14:12.454901Z",
     "start_time": "2021-02-14T18:14:12.429748Z"
    }
   },
   "outputs": [],
   "source": [
    "from src.train.plot_utils import barplots"
   ]
  },
  {
   "cell_type": "code",
   "execution_count": 778,
   "metadata": {
    "ExecuteTime": {
     "end_time": "2021-02-14T18:14:14.106880Z",
     "start_time": "2021-02-14T18:14:12.456433Z"
    }
   },
   "outputs": [
    {
     "name": "stdout",
     "output_type": "stream",
     "text": [
      "ru\n"
     ]
    },
    {
     "data": {
      "image/png": "[encoded data removed]",
      "text/plain": [
       "<Figure size 1008x576 with 2 Axes>"
      ]
     },
     "metadata": {
      "needs_background": "light"
     },
     "output_type": "display_data"
    },
    {
     "name": "stdout",
     "output_type": "stream",
     "text": [
      "en\n"
     ]
    },
    {
     "data": {
      "image/png": "[encoded data removed]",
      "text/plain": [
       "<Figure size 1008x576 with 2 Axes>"
      ]
     },
     "metadata": {
      "needs_background": "light"
     },
     "output_type": "display_data"
    }
   ],
   "source": [
    "for l in test_data['language'].unique():\n",
    "    print(l)\n",
    "    barplots({\n",
    "        'gdrive': inputs.query(f\"language == '{l}'\")['topic'],\n",
    "        'label-studio': test_data.query(f\"language == '{l}'\")['topic'],\n",
    "    }, 1, 2, fig_dims=(14,8))"
   ]
  },
  {
   "cell_type": "code",
   "execution_count": 779,
   "metadata": {
    "ExecuteTime": {
     "end_time": "2021-02-14T18:14:14.139426Z",
     "start_time": "2021-02-14T18:14:14.108315Z"
    }
   },
   "outputs": [
    {
     "name": "stdout",
     "output_type": "stream",
     "text": [
      "language\n",
      "en    36\n",
      "ru    38\n",
      "Name: topic, dtype: int64\n",
      "language\n",
      "en    25\n",
      "ru    38\n",
      "Name: topic, dtype: int64\n"
     ]
    }
   ],
   "source": [
    "print(inputs.groupby('language')['topic'].nunique())\n",
    "print(test_data.groupby('language')['topic'].nunique())"
   ]
  },
  {
   "cell_type": "markdown",
   "metadata": {},
   "source": [
    "### Save combined"
   ]
  },
  {
   "cell_type": "code",
   "execution_count": 780,
   "metadata": {
    "ExecuteTime": {
     "end_time": "2021-02-14T18:14:14.173571Z",
     "start_time": "2021-02-14T18:14:14.141094Z"
    }
   },
   "outputs": [
    {
     "data": {
      "text/plain": [
       "(1529, 12)"
      ]
     },
     "execution_count": 780,
     "metadata": {},
     "output_type": "execute_result"
    }
   ],
   "source": [
    "comb = pd.concat([inputs, test_data], axis=0)\n",
    "comb.shape"
   ]
  },
  {
   "cell_type": "code",
   "execution_count": 781,
   "metadata": {
    "ExecuteTime": {
     "end_time": "2021-02-14T18:14:14.393859Z",
     "start_time": "2021-02-14T18:14:14.174881Z"
    }
   },
   "outputs": [],
   "source": [
    "comb.to_csv('data/interim/train_data.csv', index=False)"
   ]
  },
  {
   "cell_type": "markdown",
   "metadata": {},
   "source": [
    "### Load stopwords"
   ]
  },
  {
   "cell_type": "code",
   "execution_count": 782,
   "metadata": {
    "ExecuteTime": {
     "end_time": "2021-02-14T18:14:14.423097Z",
     "start_time": "2021-02-14T18:14:14.395185Z"
    }
   },
   "outputs": [],
   "source": [
    "STOPWORDS = {\n",
    "    'en': 'data/external/en_stopwords.txt',\n",
    "    'ru': 'data/external/ru_stopwords.txt',\n",
    "}"
   ]
  },
  {
   "cell_type": "code",
   "execution_count": 783,
   "metadata": {
    "ExecuteTime": {
     "end_time": "2021-02-14T18:14:14.454231Z",
     "start_time": "2021-02-14T18:14:14.424214Z"
    }
   },
   "outputs": [
    {
     "data": {
      "text/plain": [
       "420"
      ]
     },
     "execution_count": 783,
     "metadata": {},
     "output_type": "execute_result"
    }
   ],
   "source": [
    "stopwords = [Path(f).read_text().strip().split('\\n') for l,f in STOPWORDS.items()]\n",
    "\n",
    "stopwords = sum(stopwords, [])\n",
    "\n",
    "len(stopwords)"
   ]
  },
  {
   "cell_type": "markdown",
   "metadata": {},
   "source": [
    "## Experiments\n",
    "\n",
    "**Hyper-parameters:**\n",
    "- [x] topics: primary only, primary + secondary\n",
    "- [x] inputs: title, description, posts\n",
    "- [x] preprocessing: raw, lemmas\n",
    "- [x] vectorizers: tf-idf, bow\n",
    "- [x] clf: xgb, nb, etc."
   ]
  },
  {
   "cell_type": "code",
   "execution_count": 784,
   "metadata": {
    "ExecuteTime": {
     "end_time": "2021-02-14T18:14:15.815471Z",
     "start_time": "2021-02-14T18:14:15.781873Z"
    }
   },
   "outputs": [],
   "source": [
    "from sklearn.model_selection import train_test_split\n",
    "\n",
    "from sklearn.feature_extraction.text import CountVectorizer, TfidfVectorizer\n",
    "from sklearn.multioutput import MultiOutputClassifier, ClassifierChain\n",
    "from sklearn.preprocessing import MultiLabelBinarizer, OneHotEncoder\n",
    "from sklearn.linear_model import LogisticRegression, ElasticNet\n",
    "from sklearn.ensemble import GradientBoostingClassifier, RandomForestClassifier\n",
    "from sklearn.model_selection import cross_val_score\n",
    "from sklearn.metrics import confusion_matrix\n",
    "from sklearn.tree import ExtraTreeClassifier\n",
    "from sklearn.neighbors import KNeighborsClassifier\n",
    "from sklearn.svm import LinearSVC, SVC\n",
    "from sklearn.naive_bayes import ComplementNB, MultinomialNB\n",
    "\n",
    "from xgboost import XGBClassifier\n",
    "\n",
    "import itertools"
   ]
  },
  {
   "cell_type": "code",
   "execution_count": 785,
   "metadata": {
    "ExecuteTime": {
     "end_time": "2021-02-14T18:14:15.982932Z",
     "start_time": "2021-02-14T18:14:15.945327Z"
    }
   },
   "outputs": [],
   "source": [
    "class Trainer:\n",
    "    \"\"\" prapre inputs, vectorize texts and run a classifier \"\"\"\n",
    "    def __init__(self, language, input_fields, preprocessing, vect, est):\n",
    "        self.LANG = language\n",
    "        self.INPUT_FIELDS = input_fields\n",
    "        self.vect = VECTORIZERS[vect]\n",
    "        self.vect.preprocessor = lambda x: x\n",
    "        self.vect.lowercase = False\n",
    "        self.clf = ESTIMATORS[est]\n",
    "        assert preprocessing in ['lemma', 'raw']\n",
    "        self.preprocessing = preprocessing\n",
    "        if preprocessing == 'lemma':\n",
    "            self.vect.tokenizer = lang_lemmatizer(language)\n",
    "        else:\n",
    "            self.vect.tokenizer = tokenize_text\n",
    "        \n",
    "        \n",
    "    def prepare_data(self, is_final):\n",
    "        # text inputs and \n",
    "        inputs['text'] = inputs.apply(lambda x: prepare_inputs(x, self.INPUT_FIELDS), axis=1)\n",
    "        test_data['text'] = test_data.apply(lambda x: prepare_inputs(x, self.INPUT_FIELDS), axis=1)\n",
    "        # split into  train and test\n",
    "        test_subset = test_data.query(f\"language == '{self.LANG}'\")\n",
    "        external_subset = inputs.query(f\"language == '{self.LANG}'\")\n",
    "        one,self.test_inputs = train_test_split(test_subset, test_size=TEST_SIZE, random_state=24, shuffle=True,)\n",
    "        comb_datasets = [external_subset, one, self.test_inputs] if is_final else [external_subset, one]\n",
    "        self.train_inputs = pd.concat(comb_datasets, axis=0)\n",
    "        # x and y\n",
    "        self.y_train = self.train_inputs['topic']\n",
    "        self.y_test = self.test_inputs['topic']\n",
    "        self.X_train = self.vect.fit_transform(self.train_inputs['text'])\n",
    "        self.X_test = self.vect.transform(self.test_inputs['text'])\n",
    "        \n",
    "        \n",
    "    def run_eval(self, final=False):\n",
    "        \"\"\" prepare inputs and run clf evaluation \"\"\"\n",
    "        self.prepare_data(final)\n",
    "        # fit and eval\n",
    "        self.clf.fit(self.X_train, self.y_train)\n",
    "        self.predictions = pd.DataFrame({\n",
    "                    'true': trainer.test_inputs['topics'],\n",
    "                    'predicted': trainer.clf.predict(trainer.X_test)\n",
    "                })\n",
    "        score = self.predictions.apply(lambda x: x['predicted'] in x['true'], axis=1).mean()\n",
    "        return score"
   ]
  },
  {
   "cell_type": "markdown",
   "metadata": {},
   "source": [
    "### Set hyper-parameters"
   ]
  },
  {
   "cell_type": "code",
   "execution_count": 786,
   "metadata": {
    "ExecuteTime": {
     "end_time": "2021-02-14T18:14:16.371404Z",
     "start_time": "2021-02-14T18:14:16.337815Z"
    }
   },
   "outputs": [],
   "source": [
    "TEST_SIZE = 100"
   ]
  },
  {
   "cell_type": "code",
   "execution_count": 799,
   "metadata": {
    "ExecuteTime": {
     "end_time": "2021-02-14T18:15:50.378692Z",
     "start_time": "2021-02-14T18:15:50.341686Z"
    }
   },
   "outputs": [],
   "source": [
    "INPUTS = [\n",
    "    'title',\n",
    "    'description',\n",
    "    'posts',\n",
    "]\n",
    "\n",
    "PREPROCESSING = [\n",
    "    'raw',\n",
    "#     'lemma',\n",
    "]\n",
    "\n",
    "vect_params = dict(\n",
    "    max_df=0.4, \n",
    "    min_df=3,\n",
    "    max_features=3000,\n",
    "    binary=False, \n",
    "    ngram_range=(1,1), \n",
    "    tokenizer=tokenize_text,\n",
    "    stop_words=stopwords, \n",
    ")\n",
    "VECTORIZERS = {\n",
    "    'tfidf': TfidfVectorizer(**vect_params),\n",
    "    'bow': CountVectorizer(**vect_params),\n",
    "}\n",
    "\n",
    "\n",
    "ESTIMATORS = dict(\n",
    "#     xgb = XGBClassifier(objective='multi:softmax'),\n",
    "#     forest = RandomForestClassifier(),\n",
    "#     logreg = LogisticRegression(),\n",
    "#     knn = KNeighborsClassifier(),\n",
    "#     tree = ExtraTreeClassifier(),\n",
    "#     svm = SVC(),\n",
    "#     linsvm = LinearSVC(),\n",
    "    cnb = ComplementNB(),\n",
    "    mnb = MultinomialNB(),\n",
    ")"
   ]
  },
  {
   "cell_type": "code",
   "execution_count": 800,
   "metadata": {
    "ExecuteTime": {
     "end_time": "2021-02-14T18:15:50.548467Z",
     "start_time": "2021-02-14T18:15:50.513187Z"
    }
   },
   "outputs": [
    {
     "data": {
      "text/plain": [
       "8"
      ]
     },
     "execution_count": 800,
     "metadata": {},
     "output_type": "execute_result"
    }
   ],
   "source": [
    "input_combinations = [INPUTS] #list(itertools.combinations(INPUTS, r=2)) + [INPUTS]\n",
    "\n",
    "train_params = list(itertools.product(test_data['language'].unique(), \n",
    "                                input_combinations,\n",
    "                                      PREPROCESSING,\n",
    "                                VECTORIZERS.keys(), \n",
    "                                ESTIMATORS.keys()))\n",
    "\n",
    "len(train_params)"
   ]
  },
  {
   "cell_type": "markdown",
   "metadata": {},
   "source": [
    "### Run experiments"
   ]
  },
  {
   "cell_type": "code",
   "execution_count": 801,
   "metadata": {
    "ExecuteTime": {
     "end_time": "2021-02-14T18:15:58.685999Z",
     "start_time": "2021-02-14T18:15:50.937633Z"
    },
    "scrolled": true
   },
   "outputs": [
    {
     "name": "stderr",
     "output_type": "stream",
     "text": [
      "/Users/rustem.galiullin/miniconda3/envs/tgcat/lib/python3.7/site-packages/ipykernel_launcher.py:3: TqdmDeprecationWarning: This function will be removed in tqdm==5.0.0\n",
      "Please use `tqdm.notebook.tqdm` instead of `tqdm.tqdm_notebook`\n",
      "  This is separate from the ipykernel package so we can avoid doing imports until\n"
     ]
    },
    {
     "data": {
      "application/vnd.jupyter.widget-view+json": {
       "model_id": "10579e58d2264be391acb878bba6965b",
       "version_major": 2,
       "version_minor": 0
      },
      "text/plain": [
       "# experiments:   0%|          | 0/8 [00:00<?, ?it/s]"
      ]
     },
     "metadata": {},
     "output_type": "display_data"
    },
    {
     "name": "stderr",
     "output_type": "stream",
     "text": [
      "/Users/rustem.galiullin/miniconda3/envs/tgcat/lib/python3.7/site-packages/sklearn/feature_extraction/text.py:391: UserWarning: Your stop_words may be inconsistent with your preprocessing. Tokenizing the stop words generated tokens ['cent', 'dr', 'mr', 'per'] not in stop_words.\n",
      "  'stop_words.' % sorted(inconsistent))\n",
      "/Users/rustem.galiullin/miniconda3/envs/tgcat/lib/python3.7/site-packages/sklearn/feature_extraction/text.py:391: UserWarning: Your stop_words may be inconsistent with your preprocessing. Tokenizing the stop words generated tokens ['cent', 'dr', 'mr', 'per'] not in stop_words.\n",
      "  'stop_words.' % sorted(inconsistent))\n"
     ]
    }
   ],
   "source": [
    "results = []\n",
    "\n",
    "for params in tqdm_notebook(train_params, desc='# experiments'):\n",
    "    trainer = Trainer(*params)\n",
    "    score = trainer.run_eval()\n",
    "    params += (score,)\n",
    "    results.append(params)\n",
    "                \n",
    "results = pd.DataFrame(results, columns=['language','input_fields', 'preprocessing','vect', 'est', 'score'])"
   ]
  },
  {
   "cell_type": "code",
   "execution_count": 802,
   "metadata": {
    "ExecuteTime": {
     "end_time": "2021-02-14T18:15:58.721241Z",
     "start_time": "2021-02-14T18:15:58.687641Z"
    }
   },
   "outputs": [
    {
     "name": "stdout",
     "output_type": "stream",
     "text": [
      "|    | language   | input_fields                      | preprocessing   | vect   | est   |   score |\n",
      "|---:|:-----------|:----------------------------------|:----------------|:-------|:------|--------:|\n",
      "|  3 | ru         | ['title', 'description', 'posts'] | raw             | bow    | mnb   |    0.79 |\n",
      "|  0 | ru         | ['title', 'description', 'posts'] | raw             | tfidf  | cnb   |    0.71 |\n",
      "|  2 | ru         | ['title', 'description', 'posts'] | raw             | bow    | cnb   |    0.68 |\n",
      "|  1 | ru         | ['title', 'description', 'posts'] | raw             | tfidf  | mnb   |    0.6  |\n",
      "\n",
      "|    | language   | input_fields                      | preprocessing   | vect   | est   |   score |\n",
      "|---:|:-----------|:----------------------------------|:----------------|:-------|:------|--------:|\n",
      "|  4 | en         | ['title', 'description', 'posts'] | raw             | tfidf  | cnb   |    0.72 |\n",
      "|  7 | en         | ['title', 'description', 'posts'] | raw             | bow    | mnb   |    0.72 |\n",
      "|  6 | en         | ['title', 'description', 'posts'] | raw             | bow    | cnb   |    0.7  |\n",
      "|  5 | en         | ['title', 'description', 'posts'] | raw             | tfidf  | mnb   |    0.54 |\n",
      "\n"
     ]
    }
   ],
   "source": [
    "for l in results['language'].unique():\n",
    "    print(results.query(f'language == \"{l}\"').sort_values('score', ascending=False).to_markdown(), end='\\n\\n')"
   ]
  },
  {
   "cell_type": "markdown",
   "metadata": {},
   "source": [
    "### Review errors"
   ]
  },
  {
   "cell_type": "code",
   "execution_count": 803,
   "metadata": {
    "ExecuteTime": {
     "end_time": "2021-02-14T18:16:06.900322Z",
     "start_time": "2021-02-14T18:16:06.866807Z"
    }
   },
   "outputs": [],
   "source": [
    "from sklearn.metrics import top_k_accuracy_score"
   ]
  },
  {
   "cell_type": "markdown",
   "metadata": {},
   "source": [
    "#### Train"
   ]
  },
  {
   "cell_type": "code",
   "execution_count": 806,
   "metadata": {
    "ExecuteTime": {
     "end_time": "2021-02-14T18:16:23.294901Z",
     "start_time": "2021-02-14T18:16:22.826968Z"
    }
   },
   "outputs": [
    {
     "name": "stdout",
     "output_type": "stream",
     "text": [
      "0.72\n"
     ]
    }
   ],
   "source": [
    "trainer = Trainer(\n",
    "    language = 'en', \n",
    "    input_fields = ['posts','description','title'], \n",
    "    preprocessing = 'raw',\n",
    "    vect = 'tfidf', \n",
    "    est = 'cnb'\n",
    ")\n",
    "s = trainer.run_eval(final=False)\n",
    "print(s)"
   ]
  },
  {
   "cell_type": "code",
   "execution_count": 807,
   "metadata": {
    "ExecuteTime": {
     "end_time": "2021-02-14T18:16:25.841711Z",
     "start_time": "2021-02-14T18:16:25.797900Z"
    }
   },
   "outputs": [
    {
     "name": "stdout",
     "output_type": "stream",
     "text": [
      "Top 1 accuracy: 0.58\n",
      "Top 2 accuracy: 0.74\n",
      "Top 3 accuracy: 0.81\n",
      "Top 5 accuracy: 0.87\n"
     ]
    }
   ],
   "source": [
    "for k in [1,2,3,5]:\n",
    "    top_k_acc = top_k_accuracy_score(trainer.y_test, trainer.clf.predict_proba(trainer.X_test), \n",
    "                                     labels=trainer.clf.classes_,\n",
    "                                        k=k)\n",
    "    print(f'Top {k} accuracy: {top_k_acc:.2f}', )"
   ]
  },
  {
   "cell_type": "markdown",
   "metadata": {},
   "source": [
    "#### Classification report"
   ]
  },
  {
   "cell_type": "code",
   "execution_count": 808,
   "metadata": {
    "ExecuteTime": {
     "end_time": "2021-02-14T18:16:32.862941Z",
     "start_time": "2021-02-14T18:16:32.828657Z"
    }
   },
   "outputs": [],
   "source": [
    "from sklearn.metrics import classification_report"
   ]
  },
  {
   "cell_type": "code",
   "execution_count": 809,
   "metadata": {
    "ExecuteTime": {
     "end_time": "2021-02-14T18:16:33.038810Z",
     "start_time": "2021-02-14T18:16:33.003275Z"
    }
   },
   "outputs": [
    {
     "name": "stderr",
     "output_type": "stream",
     "text": [
      "/Users/rustem.galiullin/miniconda3/envs/tgcat/lib/python3.7/site-packages/ipykernel_launcher.py:7: SettingWithCopyWarning: \n",
      "A value is trying to be set on a copy of a slice from a DataFrame.\n",
      "Try using .loc[row_indexer,col_indexer] = value instead\n",
      "\n",
      "See the caveats in the documentation: https://pandas.pydata.org/pandas-docs/stable/user_guide/indexing.html#returning-a-view-versus-a-copy\n",
      "  import sys\n"
     ]
    }
   ],
   "source": [
    "test_pred = trainer.clf.predict(trainer.X_test)\n",
    "\n",
    "is_wrong = test_pred != trainer.y_test\n",
    "\n",
    "errors = trainer.test_inputs[is_wrong]\n",
    "\n",
    "errors['predicted'] = test_pred[is_wrong]"
   ]
  },
  {
   "cell_type": "code",
   "execution_count": 810,
   "metadata": {
    "ExecuteTime": {
     "end_time": "2021-02-14T18:16:34.715272Z",
     "start_time": "2021-02-14T18:16:33.158809Z"
    }
   },
   "outputs": [
    {
     "data": {
      "image/png": "[encoded data removed]",
      "text/plain": [
       "<Figure size 1008x576 with 2 Axes>"
      ]
     },
     "metadata": {
      "needs_background": "light"
     },
     "output_type": "display_data"
    }
   ],
   "source": [
    "ct = pd.crosstab(trainer.y_test, test_pred)\n",
    "for i,k in ct.iteritems():\n",
    "    k[i] = 0\n",
    "\n",
    "\n",
    "plt.figure(figsize=(14,8))\n",
    "sns.heatmap(ct, annot=True, linewidths=0.01);"
   ]
  },
  {
   "cell_type": "code",
   "execution_count": 811,
   "metadata": {
    "ExecuteTime": {
     "end_time": "2021-02-14T18:16:36.868962Z",
     "start_time": "2021-02-14T18:16:36.820512Z"
    },
    "scrolled": false
   },
   "outputs": [
    {
     "name": "stdout",
     "output_type": "stream",
     "text": [
      "|                               |   precision |   recall |   f1-score |   support |\n",
      "|:------------------------------|------------:|---------:|-----------:|----------:|\n",
      "| Movies                        |    0        | 0        |   0        |       1   |\n",
      "| Politics & Incidents          |    0        | 0        |   0        |       3   |\n",
      "| Economy & Finance             |    0        | 0        |   0        |       2   |\n",
      "| Other                         |    0        | 0        |   0        |       4   |\n",
      "| Humor & Memes                 |    0        | 0        |   0        |       1   |\n",
      "| Motivation & Self-Development |    0        | 0        |   0        |       1   |\n",
      "| Kids & Parenting              |    0        | 0        |   0        |       1   |\n",
      "| macro avg                     |    0.400161 | 0.380037 |   0.348211 |     100   |\n",
      "| Cryptocurrencies              |    1        | 0.222222 |   0.363636 |       9   |\n",
      "| Art & Design                  |    0.333333 | 1        |   0.5      |       4   |\n",
      "| Erotic Content                |    1        | 0.333333 |   0.5      |       3   |\n",
      "| Education                     |    0.333333 | 1        |   0.5      |       1   |\n",
      "| Bets & Gambling               |    0.5      | 0.666667 |   0.571429 |       6   |\n",
      "| weighted avg                  |    0.629259 | 0.6      |   0.571512 |     100   |\n",
      "| accuracy                      |    0.6      | 0.6      |   0.6      |       0.6 |\n",
      "| Religion & Spirituality       |    1        | 0.5      |   0.666667 |       2   |\n",
      "| Sports                        |    1        | 0.5      |   0.666667 |       4   |\n",
      "| Offers & Promotions           |    0.666667 | 0.758621 |   0.709677 |      29   |\n",
      "| Investments                   |    0.703704 | 0.76     |   0.730769 |      25   |\n",
      "| Video Games                   |    0.666667 | 1        |   0.8      |       2   |\n",
      "| Music                         |    1        | 1        |   1        |       1   |\n",
      "| Technology & Internet         |    1        | 1        |   1        |       1   |\n"
     ]
    }
   ],
   "source": [
    "metrics = pd.DataFrame(classification_report(trainer.y_test, test_pred, output_dict=True, zero_division=0)).T\n",
    "\n",
    "metrics = metrics.query(\"support > 0\").sort_values('f1-score', ascending=True)\n",
    "\n",
    "print(metrics.to_markdown())"
   ]
  },
  {
   "cell_type": "markdown",
   "metadata": {},
   "source": [
    "#### random examples"
   ]
  },
  {
   "cell_type": "code",
   "execution_count": 812,
   "metadata": {
    "ExecuteTime": {
     "end_time": "2021-02-14T18:16:38.739831Z",
     "start_time": "2021-02-14T18:16:38.702814Z"
    },
    "scrolled": true
   },
   "outputs": [
    {
     "name": "stdout",
     "output_type": "stream",
     "text": [
      "PREDICTED:\n",
      " Offers & Promotions\n",
      "\n",
      "TRUE:\n",
      " ['Investments']\n",
      "\n",
      "TEXTS:\n",
      " 🌀OCTA FOREX SIGNALS🌀\n",
      "Octafx 🌎 we  are the best when it comes leaverge and Forex trading signals, we do account management and also set up legit investment packages for our investors \n",
      "Admin @Harryclifordfx3\n",
      "!!Attention all members \n",
      "\n",
      "profit base system Investment is available now \n",
      "If any body wants to invest 500$ into my account i give back profit every weekend 350$.\n",
      "Same ratio like this big investors.\n",
      "1: For 500$ i return every friday night I return 350$\n",
      "2: For 1000$ return 700$ every friday night.\n",
      "3: For 5k$ return 3.5k$ every friday night \n",
      "4: For 50k$ return 35k$ every friday night.\n",
      "5:The contract will be for 6 months.after 6 months contract will be expire.\n",
      "(Invest is your work .make profit for you is my work)\n",
      "\n",
      "*One time invest life time earn profit*\n",
      "\n",
      "📩Contact admin\n",
      "@Harryclifordfx3\n",
      "🌐 Binary investment is a financial product where the buyer receives a payout on their investment, based on if the option expires in the money. ... A binary option automatically exercises, meaning the gain or loss on the trade is automatically credited or debited to the trader's account/Investor. No matter where you might be located in the world don't count your self out\n",
      "SELL AUDUSD\n",
      "Price: 0.7600 \n",
      "SL: 0.7660\n",
      "TP: 0.7400\n",
      "Investment plan\n",
      "2 DAYS INVESTMENT PLAN \n",
      "LIMITED SEAT COME FAST AND GET PROFIT. \n",
      "\n",
      "invest 200$ get 1000$                                                                                                                                                                             invest 300$ get 1500$\n",
      "invest 400$ get 2000$\n",
      " invest 500$ get 2500$                                                                                                                                                        \n",
      "invest 900$ get 4500$\n",
      "invest 1200$ get 6000$\n",
      "\n",
      "\n",
      "✅Payment method: \n",
      "\n",
      "Skrill ID: \n",
      "Neteller \n",
      "Bitcoin:\n",
      "\n",
      "📩Contact admin @Harryclifordfx3\n",
      "EURCAD TP1 ✅ +20 PIPS\n",
      "XAUUSD BUY @ 1811.50\n",
      "SL:    1790\n",
      "TP1: 1813.50\n",
      "TP2: 1816.50\n",
      "TP3: 1821.50\n",
      "\n",
      "‼Use small lot size\n",
      "Boom💥 close gold 230 pips profit ,, enjoy the free money members ✅✅✅✅✅✅🔥🔥🔥🔥lets focus on the investment profits\n",
      "Gold Strategy available. If you want to kill the gold like us.\n",
      "Big money guys, let's kick out 'POVERTY\n",
      "Crash index still making waves in the VIP we keep holding.. untill 50k😂😎👍\n",
      "\n",
      "TITLE (89):\n",
      " 🌀OCTA FOREX SIGNALS🌀\n",
      "\n",
      "DESCRIPTION:\n",
      " Octafx 🌎 we  are the best when it comes leaverge and Forex trading signals, we do account management and also set up legit investment packages for our investors \n",
      "Admin @Harryclifordfx3\n",
      "\n"
     ]
    }
   ],
   "source": [
    "row = errors.sample(1).iloc[0]\n",
    "\n",
    "print('PREDICTED:\\n', row['predicted'], end='\\n\\n')\n",
    "print('TRUE:\\n', row['topics'], end='\\n\\n')\n",
    "print('TEXTS:\\n', row['text'], end='\\n\\n')\n",
    "print(f'TITLE ({row[\"id\"]}):\\n', row['title'], end='\\n\\n')\n",
    "print('DESCRIPTION:\\n', row['description'], end='\\n\\n')"
   ]
  },
  {
   "cell_type": "code",
   "execution_count": 813,
   "metadata": {
    "ExecuteTime": {
     "end_time": "2021-02-14T18:16:40.436507Z",
     "start_time": "2021-02-14T18:16:40.402454Z"
    },
    "code_folding": []
   },
   "outputs": [],
   "source": [
    "def get_topic_features(nb_clf, class_label, top_n=15):\n",
    "    \"\"\" get features with largest log prob for the given class \"\"\"\n",
    "    class_i = np.argwhere(nb_clf.classes_ == class_label).squeeze()\n",
    "    class_coef = nb_clf.feature_log_prob_[class_i]\n",
    "    top_inds = np.argsort(class_coef)[-top_n:]\n",
    "    return top_inds"
   ]
  },
  {
   "cell_type": "code",
   "execution_count": 814,
   "metadata": {
    "ExecuteTime": {
     "end_time": "2021-02-14T18:16:40.629287Z",
     "start_time": "2021-02-14T18:16:40.589900Z"
    },
    "scrolled": true
   },
   "outputs": [
    {
     "name": "stdout",
     "output_type": "stream",
     "text": [
      "TRUE CLASS:  Investments\n",
      "['fiscal', 'cdbykmcbil', 'gained', 'sami', 'gains', 'oujqq', 'vd', 'bgutmqp', 'wvxbntganp', 'bx', 'wxdpc', 'weakness', 'alts', 'bouncing', 'volatile']\n",
      "\n",
      "PREDICTED CLASS: Offers & Promotions\n",
      "['beneficiary', 'wages', 'ease', 'proven', 'cbpk', 'klever', 'klv', 'lvl', 'harga', 'attain', 'recharge', 'cryptogamer', 'cheating', 'holders', 'mentor']\n",
      "\n",
      "EXAMPLE\n",
      "['invest', 'return', 'investment', 'night', 'every', 'profit', 'get', 'automatically', 'tp', 'gold', 'contract', 'binary', 'option', 'money', 'months']\n"
     ]
    }
   ],
   "source": [
    "FEATURES = trainer.vect.get_feature_names()\n",
    "PREDICTED_INDEX = np.argwhere(trainer.clf.classes_ == row['predicted']).squeeze()\n",
    "\n",
    "# get top features that triggered prediction\n",
    "x = trainer.vect.transform([row['text']]).toarray()[0]\n",
    "f = ( trainer.clf.feature_log_prob_ * x.T)[PREDICTED_INDEX]\n",
    "top_keywords = [FEATURES[i] for i in np.argsort(f)[::-1][:15]]\n",
    "\n",
    "\n",
    "true_inds = get_topic_features(trainer.clf, row['topic'],)\n",
    "true_keywords = [FEATURES[i] for i in true_inds]\n",
    "\n",
    "predicted_inds = get_topic_features(trainer.clf, row['predicted'],)\n",
    "predicted_keywords = [FEATURES[i] for i in predicted_inds]\n",
    "\n",
    "\n",
    "print('TRUE CLASS: ', row['topic'])\n",
    "print(true_keywords, end='\\n\\n')\n",
    "print(f'PREDICTED CLASS: {row[\"predicted\"]}')\n",
    "print(predicted_keywords, end='\\n\\n')\n",
    "print('EXAMPLE')\n",
    "print(top_keywords)"
   ]
  },
  {
   "cell_type": "markdown",
   "metadata": {},
   "source": [
    "#### Fixes"
   ]
  },
  {
   "cell_type": "markdown",
   "metadata": {},
   "source": [
    "**fixes**\n",
    "- [ ] update stopwords\n",
    "- [x] lemmas\n",
    "- [x] remove single char terms\n",
    "- [x] compare feature keywords against topic keywords\n",
    "- [x] multi-class problem\n",
    "- [x] only eng and rus chars\n",
    "- [x] measure accuracy with top N predictions\n",
    "- [x] use full data to train last\n",
    "- [ ] sample weights for secondary\n",
    "- [ ] bow to torchscript\n",
    "- [x] apply sum normalization only then min prob threshold\n",
    "- [x] fix when nothing predicted (add zero vectors as Other)\n",
    "- [x] remove URL for lang detection"
   ]
  },
  {
   "cell_type": "markdown",
   "metadata": {},
   "source": [
    "## Save models"
   ]
  },
  {
   "cell_type": "code",
   "execution_count": 815,
   "metadata": {
    "ExecuteTime": {
     "end_time": "2021-02-14T18:16:44.071160Z",
     "start_time": "2021-02-14T18:16:44.036819Z"
    }
   },
   "outputs": [],
   "source": [
    "from torch import nn\n",
    "import torch\n",
    "from torch.nn import functional as F\n",
    "from typing import Dict, List, Tuple"
   ]
  },
  {
   "cell_type": "code",
   "execution_count": 816,
   "metadata": {
    "ExecuteTime": {
     "end_time": "2021-02-14T18:16:44.655409Z",
     "start_time": "2021-02-14T18:16:44.605310Z"
    },
    "code_folding": []
   },
   "outputs": [],
   "source": [
    "class NaiveBayes(nn.Module):\n",
    "    \"\"\" Implement Multinomial and Complement NB inference \"\"\"\n",
    "    def __init__(self, nb, clf,):\n",
    "        super().__init__()\n",
    "        assert nb in ['cnb','mnb']\n",
    "        self.nb = nb\n",
    "        self.feature_log_prior = nn.Parameter(torch.tensor(clf.feature_log_prob_), requires_grad=False)\n",
    "        self.class_log_prior = nn.Parameter(torch.tensor(clf.class_log_prior_), requires_grad=False)\n",
    "        self.class_labels = clf.classes_.tolist()\n",
    "        \n",
    "\n",
    "    def forward(self, x: torch.Tensor) -> torch.Tensor:\n",
    "        jll = torch.matmul(x.double(), self.feature_log_prior.T)\n",
    "        if self.nb == 'cnb':\n",
    "            if self.class_log_prior.size(0) == 1:\n",
    "                jll += self.class_log_prior\n",
    "        else:\n",
    "            jll += self.class_log_prior\n",
    "        log_prob = torch.logsumexp(jll, dim=1)\n",
    "        log_prob = jll - torch.atleast_2d(log_prob).T\n",
    "        prob = torch.exp(log_prob)\n",
    "        return prob\n",
    "\n",
    "\n",
    "class TextVectorizer(nn.Module):\n",
    "    \"\"\" vectorize text using tf-idf or bow \"\"\"\n",
    "    def __init__(self, vect, vectorizer):\n",
    "        super().__init__()\n",
    "        assert vect in ['bow','tfidf']\n",
    "        self.vocab = {k: torch.tensor(v) for k,v in vectorizer.vocabulary_.items()}\n",
    "        self.vocab_len = len(self.vocab)\n",
    "        if vect == 'tfidf':\n",
    "            self.idf_diag = nn.Parameter(\n",
    "                torch.tensor(vectorizer._tfidf._idf_diag.toarray()), \n",
    "                requires_grad=False)\n",
    "            self.sublinear_tf = vectorizer.sublinear_tf\n",
    "            self.norm = vectorizer.norm\n",
    "            self.use_idf = vectorizer.use_idf\n",
    "        else:\n",
    "            self.idf_diag = nn.Parameter(torch.eye(self.vocab_len))\n",
    "            self.sublinear_tf = False\n",
    "            self.norm = None\n",
    "            self.use_idf = False\n",
    "            \n",
    "        \n",
    "\n",
    "    def count_vocab(self, doc: List[str]) -> torch.Tensor:\n",
    "        \"\"\" return counts of each word from the vocab \"\"\"\n",
    "        feature_counter = torch.zeros(self.vocab_len, dtype=torch.long)\n",
    "        for feature in doc:\n",
    "            n = self.vocab.get(str(feature), torch.tensor(-1))\n",
    "            if n.item() != -1:\n",
    "                feature_idx = self.vocab[str(feature)]\n",
    "                feature_counter[feature_idx] += 1\n",
    "        return feature_counter\n",
    "        \n",
    "        \n",
    "    def forward(self, batch: List[List[str]]) -> torch.Tensor:\n",
    "        doc_counts: List[torch.Tensor] = [self.count_vocab(doc) for doc in batch]\n",
    "        X = torch.stack(doc_counts,)\n",
    "        if self.sublinear_tf:\n",
    "            X = torch.log(X.double())\n",
    "            X += 1\n",
    "        if self.use_idf:\n",
    "            X = torch.matmul(X.double(), self.idf_diag)\n",
    "        if self.norm is not None:\n",
    "            p = float(self.norm[-1])\n",
    "            X = F.normalize(X.double(), p=p, dim=1)\n",
    "        return X\n",
    "    \n",
    "\n",
    "class TgCat(nn.Module):\n",
    "    \"\"\" vectorize input texts, classfy topics and decode predictions \"\"\"\n",
    "    def __init__(self, vect, clf, top_k=3,):\n",
    "        super().__init__()\n",
    "        self.vect = vect\n",
    "        self.clf = clf\n",
    "        self.top_k = top_k\n",
    "        \n",
    "        \n",
    "    def select_top_classes(self, probs: torch.Tensor) -> Dict[str,float]:\n",
    "        \"\"\" select classes with at least min prob and return a normalized dict mapping \"\"\"\n",
    "        if self.clf.nb == 'cnb':\n",
    "            if probs.std(0) < 0.0001:\n",
    "                return {\"Other\": 1.0}\n",
    "        else:\n",
    "            if probs.max() < 0.1:\n",
    "                return {\"Other\": 1.0}\n",
    "        inds_desc = torch.argsort(probs, 0, descending=True)\n",
    "        top_k = min((probs > probs.mean()).sum(), torch.tensor(self.top_k))\n",
    "        target_i = inds_desc[:top_k]\n",
    "        target_p = probs[target_i]\n",
    "        target_p = target_p / target_p.sum()\n",
    "        result: List[Tuple[str, float]] = [\n",
    "            (self.clf.class_labels[target_i[i].item()], target_p[i].item())\n",
    "            for i in range(target_p.size(0))\n",
    "        ]\n",
    "        return dict(result)\n",
    "    \n",
    "    \n",
    "    def get_prob(self, batch: List[List[str]]) -> torch.Tensor:\n",
    "        embeddings = self.vect(batch)\n",
    "        probs = self.clf(embeddings)\n",
    "        return probs\n",
    "        \n",
    "    \n",
    "    def forward(self, batch: List[List[str]]) -> List[Dict[str, float]]:\n",
    "        probs = self.get_prob(batch)\n",
    "        top_predictions = [self.select_top_classes(probs[i]) for i in range(probs.size(0))]\n",
    "        return top_predictions"
   ]
  },
  {
   "cell_type": "markdown",
   "metadata": {},
   "source": [
    "### Test"
   ]
  },
  {
   "cell_type": "code",
   "execution_count": 834,
   "metadata": {
    "ExecuteTime": {
     "end_time": "2021-02-14T18:17:54.688347Z",
     "start_time": "2021-02-14T18:17:54.097924Z"
    }
   },
   "outputs": [],
   "source": [
    "V = 'tfidf'\n",
    "E = 'cnb'\n",
    "L = 'en'\n",
    "\n",
    "trainer = Trainer(\n",
    "    language = L, \n",
    "    input_fields = ['posts','description','title'], \n",
    "    preprocessing = 'raw',\n",
    "    vect = V, \n",
    "    est = E,\n",
    ")\n",
    "_ = trainer.run_eval(final=False)\n",
    "\n",
    "tgcat = TgCat(TextVectorizer(V, trainer.vect), NaiveBayes(E, trainer.clf), top_k=3)"
   ]
  },
  {
   "cell_type": "code",
   "execution_count": 835,
   "metadata": {
    "ExecuteTime": {
     "end_time": "2021-02-14T18:17:55.373232Z",
     "start_time": "2021-02-14T18:17:55.032375Z"
    }
   },
   "outputs": [],
   "source": [
    "\n",
    "batch = trainer.test_inputs['text'].apply(tokenize_text).tolist()\n",
    "\n",
    "predictions = tgcat(batch)"
   ]
  },
  {
   "cell_type": "code",
   "execution_count": 836,
   "metadata": {
    "ExecuteTime": {
     "end_time": "2021-02-14T18:17:55.643304Z",
     "start_time": "2021-02-14T18:17:55.374523Z"
    }
   },
   "outputs": [],
   "source": [
    "v = tgcat.vect(batch)\n",
    "p = tgcat.clf(v)"
   ]
  },
  {
   "cell_type": "code",
   "execution_count": 837,
   "metadata": {
    "ExecuteTime": {
     "end_time": "2021-02-14T18:17:55.686464Z",
     "start_time": "2021-02-14T18:17:55.644953Z"
    }
   },
   "outputs": [
    {
     "data": {
      "text/plain": [
       "[{'Other': 1.0}, {'Other': 1.0}, {'Other': 1.0}, {'Other': 1.0}]"
      ]
     },
     "execution_count": 837,
     "metadata": {},
     "output_type": "execute_result"
    }
   ],
   "source": [
    "tgcat([['a','s','d'], [\"\"], [\"other\", 'other', 'ttt'], [\"чгк\", \"нияег\", \"его\"]])"
   ]
  },
  {
   "cell_type": "code",
   "execution_count": 841,
   "metadata": {
    "ExecuteTime": {
     "end_time": "2021-02-14T18:18:06.411122Z",
     "start_time": "2021-02-14T18:18:06.380100Z"
    },
    "scrolled": true
   },
   "outputs": [
    {
     "name": "stdout",
     "output_type": "stream",
     "text": [
      "PREDICTED {'Investments': 0.5513697360850658, 'Offers & Promotions': 0.44863026391493427}\n",
      "\n",
      "TOKENS ['premium', 'group', 'option', 'calls', 'join', 'sure', 'free', 'free', 'calls', 'recover', 'karna', 'free', 'channel', 'join', 'our', 'channel', 'and', 'recover', 'all', 'your', 'losses', 'we', 'believe', 'in', 'consistent', 'profits', 'our', 'expiry', 'special', 'trades', 'details', 'appotyre', 'ce', 'profit', 'rs', 'bandhanbank', 'pe', 'profit', 'total', 'profit', 'rs', 'check', 'out', 'our', 'channel', 'highlights', 'of', 'our', 'channel', 'daily', 'intraday', 'future', 'calls', 'intra', 'pos', 'stock', 'options', 'index', 'options', 'capital', 'required', 'earn', 'daily', 'profit', 'monthly', 'profit', 'assured', 'lakhs', 'join', 'channel', 'fast', 'gann', 'price', 'analysis', 'nifty', 'long', 'from', 'reversal', 'got', 'nifty', 'future', 'this', 'week', 'road', 'map', 'bearish', 'for', 'tcl', 'last', 'savour', 'is', 'yearly', 'open', 'banknifty', 'future', 'weekly', 'road', 'map', 'all', 'completed', 'option', 'trades', 'all', 'trades', 'on', 'channel', 'options', 'pe', 'good', 'entry', 'we', 'had', 'all', 'till', 'done', 'high', 'pe', 'good', 'entry', 'we', 'had', 'all', 'till', 'done', 'high', 'swing', 'trading', 'you', 'can', 'do', 'with', 'only', 'numbers', 'and', 'levels', 'and', 'ttte', 'price', 'formation', 'change', 'the', 'way', 'you', 'look', 'at', 'market', 'and', 'the', 'market', 'you', 'look', 'at', 'will', 'change', 'comming', 'up', 'online', 'workshop', 'positional', 'trades', 'with', 'small', 'sl', 'big', 'targets', 'intraday', 'future', 'options', 'commodities', 'can', 'trade', 'all', 'learn', 'join', 'by', 'clicking', 'this', 'get', 'free', 'trial', 'in', 'mcx', 'nse', 'fut', 'intraday', 'calls', 'with', 'small', 'risk', 'and', 'high', 'reward', 'just', 'first', 'earn', 'to', 'profit', 'in', 'our', 'trial', 'calls', 'key', 'features', 'of', 'our', 'calls', 'calls', 'will', 'be', 'intraday', 'risk', 'reward', 'calls', 'will', 'be', 'at', 'cmp', 'proper', 'followup', 'of', 'all', 'calls', 'in', 'whats', 'app', 'for', 'trial', 'whatsapp', 'us', 'your', 'name', 'to', 'banknifty', 'trendy', 'traders', 'th', 'jan', 'performances', 'pe', 'points', 'ce', 'points', 'ce', 'points', 'pe', 'points', 'pe', 'points', 'sl', 'hit', 'zero', 'daily', 'sure', 'shots', 'calls', 'high', 'quality', 'calls', 'accuracy', 'join', 'and', 'check', 'our', 'accuracy', 'banknifty', 'trendy', 'traders', 'buy']\n"
     ]
    }
   ],
   "source": [
    "i = random.randint(0, len(batch) - 1)\n",
    "\n",
    "print('PREDICTED', predictions[i], end='\\n\\n')\n",
    "print('TOKENS', batch[i])"
   ]
  },
  {
   "cell_type": "markdown",
   "metadata": {},
   "source": [
    "### Final training, convert and save"
   ]
  },
  {
   "cell_type": "code",
   "execution_count": 842,
   "metadata": {
    "ExecuteTime": {
     "end_time": "2021-02-14T18:18:34.137157Z",
     "start_time": "2021-02-14T18:18:34.045451Z"
    }
   },
   "outputs": [],
   "source": [
    "from sklearn.preprocessing import normalize"
   ]
  },
  {
   "cell_type": "code",
   "execution_count": 843,
   "metadata": {
    "ExecuteTime": {
     "end_time": "2021-02-14T18:18:34.265801Z",
     "start_time": "2021-02-14T18:18:34.240438Z"
    }
   },
   "outputs": [],
   "source": [
    "prediction_params = {\n",
    "    'top_k': 3\n",
    "}"
   ]
  },
  {
   "cell_type": "code",
   "execution_count": 844,
   "metadata": {
    "ExecuteTime": {
     "end_time": "2021-02-14T18:18:38.315464Z",
     "start_time": "2021-02-14T18:18:34.555711Z"
    },
    "code_folding": []
   },
   "outputs": [
    {
     "name": "stdout",
     "output_type": "stream",
     "text": [
      "ru best {'language': 'ru', 'input_fields': ['title', 'description', 'posts'], 'preprocessing': 'raw', 'vect': 'bow', 'est': 'mnb', 'score': 0.79}\n",
      "ru 0.94\n",
      "saved to models/trained/tgcat/ru_tgcat.pt\n",
      "en best {'language': 'en', 'input_fields': ['title', 'description', 'posts'], 'preprocessing': 'raw', 'vect': 'tfidf', 'est': 'cnb', 'score': 0.72}\n",
      "en 0.94\n",
      "saved to models/trained/tgcat/en_tgcat.pt\n"
     ]
    }
   ],
   "source": [
    "for l in results['language'].unique():\n",
    "    subset = results.query(f\"language == '{l}'\")\n",
    "    best_id = subset['score'].idxmax()\n",
    "    best_params = subset.loc[best_id].to_dict()\n",
    "    print(l, 'best', best_params)\n",
    "    del best_params['score']\n",
    "    # for last training increase train by test\n",
    "    trainer = Trainer(**best_params)\n",
    "    s = trainer.run_eval(final=True)\n",
    "    print(l, s)\n",
    "    # save text vectorizer\n",
    "    vect_scripted = torch.jit.script(TextVectorizer(best_params['vect'], trainer.vect), )\n",
    "    tokenizer = tokenize_text if best_params['preprocessing'] == 'raw' else lang_lemmatizer(l)\n",
    "    batch = trainer.test_inputs['text'].apply(tokenizer).tolist()\n",
    "    vect_out = vect_scripted(batch)\n",
    "    src_vects = trainer.X_test.toarray()\n",
    "    assert np.allclose(src_vects, vect_out.numpy())\n",
    "    vect_scripted.save(f\"models/trained/embed/{l}_{best_params['vect']}_script.pt\")\n",
    "    # save classifier\n",
    "    nb_scripted  = torch.jit.script(NaiveBayes(best_params['est'], trainer.clf))\n",
    "    nb_out = nb_scripted(torch.tensor(trainer.X_test.toarray(), dtype=torch.double))\n",
    "    assert np.allclose(trainer.clf.predict_proba(trainer.X_test), nb_out.numpy())\n",
    "    nb_scripted.save(f\"models/trained/classify/{l}_{best_params['est']}_script.pt\")\n",
    "    # save tgcat\n",
    "    tgcat = torch.jit.script(TgCat(vect_scripted, nb_scripted, **prediction_params))\n",
    "    path = f'models/trained/tgcat/{l}_tgcat.pt'\n",
    "    torch.jit.save(tgcat, path)\n",
    "    print('saved to', path)"
   ]
  },
  {
   "cell_type": "markdown",
   "metadata": {},
   "source": [
    "### Check file sizes"
   ]
  },
  {
   "cell_type": "code",
   "execution_count": 845,
   "metadata": {
    "ExecuteTime": {
     "end_time": "2021-02-14T18:18:42.785922Z",
     "start_time": "2021-02-14T18:18:42.617688Z"
    }
   },
   "outputs": [
    {
     "name": "stdout",
     "output_type": "stream",
     "text": [
      "81\tmodels/trained/tgcat/en_tgcat.pt\r\n",
      "81\tmodels/trained/embed/ru_tfidf_script.pt\r\n",
      "81\tmodels/trained/embed/en_tfidf_script.pt\r\n",
      "37\tmodels/trained/tgcat/ru_tgcat.pt\r\n",
      "37\tmodels/trained/embed/ru_bow_script.pt\r\n",
      "1\tmodels/trained/embed/ru_bow.txt\r\n",
      "1\tmodels/trained/classify/ru_mnb_script.pt\r\n",
      "1\tmodels/trained/classify/ru_cnb_script.pt\r\n",
      "1\tmodels/trained/classify/en_cnb_script.pt\r\n"
     ]
    }
   ],
   "source": [
    "!du -hm models/trained/*/* | sort -nr"
   ]
  },
  {
   "cell_type": "code",
   "execution_count": null,
   "metadata": {},
   "outputs": [],
   "source": []
  }
 ],
 "metadata": {
  "kernelspec": {
   "display_name": "tgcat",
   "language": "python",
   "name": "tgcat"
  },
  "language_info": {
   "codemirror_mode": {
    "name": "ipython",
    "version": 3
   },
   "file_extension": ".py",
   "mimetype": "text/x-python",
   "name": "python",
   "nbconvert_exporter": "python",
   "pygments_lexer": "ipython3",
   "version": "3.7.9"
  },
  "notify_time": "10",
  "toc": {
   "base_numbering": 1,
   "nav_menu": {},
   "number_sections": true,
   "sideBar": true,
   "skip_h1_title": false,
   "title_cell": "Table of Contents",
   "title_sidebar": "Contents",
   "toc_cell": false,
   "toc_position": {
    "height": "calc(100% - 180px)",
    "left": "10px",
    "top": "150px",
    "width": "227px"
   },
   "toc_section_display": true,
   "toc_window_display": true
  }
 },
 "nbformat": 4,
 "nbformat_minor": 5
}
