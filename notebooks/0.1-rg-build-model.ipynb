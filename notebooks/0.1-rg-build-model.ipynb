{
 "cells": [
  {
   "cell_type": "markdown",
   "id": "adolescent-private",
   "metadata": {},
   "source": [
    "# Build a model to classify topics for Telegram channels\n",
    "\n",
    "**Pre-req**\n",
    "1. Download csv from gdrive with channels and save to ``data/external/telegram_channels.csv``\n",
    "2. Run ``python -m src.train.download`` to get posts and meta-data\n",
    "\n",
    "**Steps**\n",
    "1. Load data:\n",
    "    - posts from channels\n",
    "    - channel titles and descriptions\n",
    "    - channel topics\n",
    "2. Build a training dataset:\n",
    "    1. Merge\n",
    "    2. Select inputs\n",
    "    3. Split into train/val\n",
    "3. Build models:\n",
    "    1. Embed text\n",
    "    2. Train a classifier\n",
    "    3. Select best\n",
    "4. Evaluate on test data and save best"
   ]
  },
  {
   "cell_type": "code",
   "execution_count": 1,
   "id": "chronic-detroit",
   "metadata": {
    "ExecuteTime": {
     "end_time": "2021-02-13T11:04:05.291625Z",
     "start_time": "2021-02-13T11:04:03.559455Z"
    }
   },
   "outputs": [],
   "source": [
    "%load_ext autoreload\n",
    "%autoreload 2\n",
    "%matplotlib inline\n",
    "#standard libs\n",
    "import os, sys\n",
    "from pathlib import Path\n",
    "from pprint import pprint\n",
    "from collections import Counter\n",
    "import random\n",
    "import json\n",
    "import itertools\n",
    "from datetime import datetime as dt\n",
    "# ds libs\n",
    "import pandas as pd\n",
    "import numpy as np\n",
    "import matplotlib.pyplot as plt\n",
    "import seaborn as sns\n",
    "from tqdm import tqdm, tqdm_notebook\n",
    "\n",
    "from torchtext import data\n",
    "import re\n",
    "# custom path\n",
    "os.chdir('..')\n",
    "os.environ['KMP_DUPLICATE_LIB_OK']='True'\n"
   ]
  },
  {
   "cell_type": "code",
   "execution_count": 2,
   "id": "valuable-diameter",
   "metadata": {
    "ExecuteTime": {
     "end_time": "2021-02-13T11:04:06.140779Z",
     "start_time": "2021-02-13T11:04:05.293176Z"
    }
   },
   "outputs": [],
   "source": [
    "# %%writefile src/train/text_utils.py\n",
    "import re\n",
    "import pyonmttok\n",
    "from src.train.nlp_utils import load_lemmatizers, get_tokens, select_lemmas\n",
    "\n",
    "\n",
    "def process_topics(topics):\n",
    "    ''' remove empty ones and strip from whitespaces '''\n",
    "    topics = list(filter(lambda x: x != '', \n",
    "                        topics))\n",
    "    topics = list(map(lambda x: x.strip(), topics))\n",
    "    return topics\n",
    "\n",
    "\n",
    "def raw2list(raw):\n",
    "    \"\"\"convert raw str or dict field to a list of topics \"\"\"\n",
    "    if isinstance(raw, dict):\n",
    "        raw = raw['choices']\n",
    "    else:\n",
    "        raw = [str(raw)]\n",
    "    return raw\n",
    "\n",
    "\n",
    "def get_test_topics(primary, secondary):\n",
    "    \"\"\" merge primary and secondary \"\"\"\n",
    "    primary = raw2list(primary)\n",
    "    if secondary != '':\n",
    "        primary += raw2list(secondary)\n",
    "    return primary\n",
    "\n",
    "\n",
    "def prepare_inputs(channel_data, target_fields):\n",
    "    \"\"\" receive one channel example and return its texts from title, description and posts \"\"\"\n",
    "    inputs = []\n",
    "    if 'title' in target_fields:\n",
    "        inputs.append(channel_data['title'])\n",
    "    if 'description' in target_fields:\n",
    "        inputs.append(channel_data['description'])\n",
    "    if 'posts' in target_fields:\n",
    "        inputs += list(channel_data['posts'])\n",
    "    return '\\n'.join(inputs)\n",
    "\n",
    "\n",
    "def clean_token(token):\n",
    "    \"\"\" keep only english or russian characters \"\"\"\n",
    "#     re.sub('[\\W\\d]', '', x)\n",
    "    token = re.sub('[^a-zа-я]', '', token)\n",
    "    return token\n",
    "\n",
    "\n",
    "def process_tokens(tokens):\n",
    "    \"\"\"filter out useless tokens as empty or non-words\"\"\"\n",
    "    tokens = list(map(lambda x: clean_token(x),\n",
    "                     tokens))\n",
    "    tokens = list(filter(lambda x: len(x) > 1,\n",
    "                    tokens))\n",
    "    return tokens\n",
    "\n",
    "\n",
    "TOKENIZER = pyonmttok.Tokenizer('aggressive', joiner_annotate=True)\n",
    "\n",
    "\n",
    "def preprocess_text(text):\n",
    "    \"\"\"remove url, non-words chars \"\"\"\n",
    "    text = re.sub('http[s]?://(?:[a-zA-Z]|[0-9]|[$-_@.&+]|[!*\\(\\),]|(?:%[0-9a-fA-F][0-9a-fA-F]))+',\n",
    "             \" \", text)\n",
    "    return text.lower()\n",
    "\n",
    "def tokenize_text(text):\n",
    "    \"\"\" split into lowercase tokens \"\"\"\n",
    "    text = preprocess_text(text)\n",
    "    tokens,_ = TOKENIZER.tokenize(text)\n",
    "    tokens = process_tokens(tokens)\n",
    "    return tokens\n",
    "\n",
    "\n",
    "POS = {\n",
    "    \"en\": ['NOUN', 'PROPN', 'ADJ', 'VERB'],\n",
    "    \"ru\": ['A', 'S',]\n",
    "}\n",
    "\n",
    "load_lemmatizers()\n",
    "\n",
    "\n",
    "def lang_lemmatizer(language):\n",
    "    def lemmatize_text(text):\n",
    "        \"\"\" get lemmas and POS tags, select target POS lemmas and filter trash \"\"\"\n",
    "        text = preprocess_text(text)\n",
    "        tokens = get_tokens(text, language)\n",
    "        lemmas = select_lemmas(tokens, POS[language])\n",
    "        lemmas = process_tokens(lemmas)\n",
    "        return lemmas\n",
    "    return lemmatize_text"
   ]
  },
  {
   "cell_type": "markdown",
   "id": "ongoing-flush",
   "metadata": {},
   "source": [
    "## Data prep"
   ]
  },
  {
   "cell_type": "code",
   "execution_count": 13,
   "id": "blessed-innocent",
   "metadata": {
    "ExecuteTime": {
     "end_time": "2021-02-13T11:05:02.153768Z",
     "start_time": "2021-02-13T11:05:02.122728Z"
    }
   },
   "outputs": [],
   "source": [
    "POSTS = 'data/raw/posts.csv'\n",
    "META = 'data/raw/meta.csv'\n",
    "TOPICS = 'data/external/telegram_channels.csv'\n",
    "\n",
    "COMPLETIONS = [\n",
    "    'data/external/2020-02-09_completions.json',\n",
    "    'data/external/2020-02-13_active_completions.json',\n",
    "]\n",
    "\n",
    "ONLY_PRIMARY = False"
   ]
  },
  {
   "cell_type": "markdown",
   "id": "stainless-machinery",
   "metadata": {},
   "source": [
    "### Load channels"
   ]
  },
  {
   "cell_type": "code",
   "execution_count": 14,
   "id": "greenhouse-stage",
   "metadata": {
    "ExecuteTime": {
     "end_time": "2021-02-13T11:05:08.936257Z",
     "start_time": "2021-02-13T11:05:08.812414Z"
    }
   },
   "outputs": [],
   "source": [
    "posts = pd.read_csv(POSTS)\n",
    "meta = pd.read_csv(META)\n",
    "topics = pd.read_csv(TOPICS)\n",
    "\n",
    "# extra columns\n",
    "topics['topic [Secondary]'].fillna(\"\", inplace=True)\n",
    "topics['username'] = topics['link'].apply(lambda x: x.split('/')[-1])\n",
    "\n",
    "topics['language'] = topics['language'].apply(lambda x: x.lower()[:2])\n",
    "\n",
    "posts.rename({'channel':'username', 'message': 'posts'}, axis=1, inplace=True)\n",
    "\n",
    "if ONLY_PRIMARY:\n",
    "    topics['topics'] = topics.apply(lambda x: x['topic [Primary]'].split(','), axis=1)\n",
    "else:\n",
    "    topics['topics'] = topics.apply(lambda x: x['topic [Primary]'].split(',') + x['topic [Secondary]'].split(','), \n",
    "                               axis=1)\n",
    "topics['topics'] = topics['topics'].apply(process_topics)\n",
    "posts['posts'].fillna(\"\", inplace=True)\n",
    "\n",
    "meta['description'] = meta['about']\n",
    "meta['description'].fillna('', inplace=True)\n",
    "\n",
    "\n",
    "del topics['link'], meta['about']"
   ]
  },
  {
   "cell_type": "code",
   "execution_count": 15,
   "id": "suburban-helmet",
   "metadata": {
    "ExecuteTime": {
     "end_time": "2021-02-13T11:05:09.219800Z",
     "start_time": "2021-02-13T11:05:09.184127Z"
    }
   },
   "outputs": [
    {
     "data": {
      "text/html": [
       "<div>\n",
       "<style scoped>\n",
       "    .dataframe tbody tr th:only-of-type {\n",
       "        vertical-align: middle;\n",
       "    }\n",
       "\n",
       "    .dataframe tbody tr th {\n",
       "        vertical-align: top;\n",
       "    }\n",
       "\n",
       "    .dataframe thead th {\n",
       "        text-align: right;\n",
       "    }\n",
       "</style>\n",
       "<table border=\"1\" class=\"dataframe\">\n",
       "  <thead>\n",
       "    <tr style=\"text-align: right;\">\n",
       "      <th></th>\n",
       "      <th>username</th>\n",
       "      <th>idx</th>\n",
       "      <th>date</th>\n",
       "      <th>posts</th>\n",
       "      <th>language</th>\n",
       "    </tr>\n",
       "  </thead>\n",
       "  <tbody>\n",
       "    <tr>\n",
       "      <th>2869</th>\n",
       "      <td>English</td>\n",
       "      <td>443</td>\n",
       "      <td>2020-02-23 17:53:54+00:00</td>\n",
       "      <td></td>\n",
       "      <td>en</td>\n",
       "    </tr>\n",
       "    <tr>\n",
       "      <th>4507</th>\n",
       "      <td>lektorium</td>\n",
       "      <td>745</td>\n",
       "      <td>2021-01-28 08:00:18+00:00</td>\n",
       "      <td>Программистов не хватает.\\n\\nОткрываются новые...</td>\n",
       "      <td>ru</td>\n",
       "    </tr>\n",
       "    <tr>\n",
       "      <th>4545</th>\n",
       "      <td>gosuslugiforparents</td>\n",
       "      <td>481</td>\n",
       "      <td>2021-02-08 10:00:17+00:00</td>\n",
       "      <td>📌 5 льгот для семей с детьми, о которых вы мог...</td>\n",
       "      <td>ru</td>\n",
       "    </tr>\n",
       "    <tr>\n",
       "      <th>893</th>\n",
       "      <td>Rabota_Kazan_116</td>\n",
       "      <td>1575</td>\n",
       "      <td>2021-02-11 07:00:09+00:00</td>\n",
       "      <td>Вебкам студия в Казани TrueLove проводит набор...</td>\n",
       "      <td>ru</td>\n",
       "    </tr>\n",
       "  </tbody>\n",
       "</table>\n",
       "</div>"
      ],
      "text/plain": [
       "                 username   idx                       date  \\\n",
       "2869              English   443  2020-02-23 17:53:54+00:00   \n",
       "4507            lektorium   745  2021-01-28 08:00:18+00:00   \n",
       "4545  gosuslugiforparents   481  2021-02-08 10:00:17+00:00   \n",
       "893      Rabota_Kazan_116  1575  2021-02-11 07:00:09+00:00   \n",
       "\n",
       "                                                  posts language  \n",
       "2869                                                          en  \n",
       "4507  Программистов не хватает.\\n\\nОткрываются новые...       ru  \n",
       "4545  📌 5 льгот для семей с детьми, о которых вы мог...       ru  \n",
       "893   Вебкам студия в Казани TrueLove проводит набор...       ru  "
      ]
     },
     "execution_count": 15,
     "metadata": {},
     "output_type": "execute_result"
    }
   ],
   "source": [
    "posts.sample(4)"
   ]
  },
  {
   "cell_type": "code",
   "execution_count": 16,
   "id": "grateful-fusion",
   "metadata": {
    "ExecuteTime": {
     "end_time": "2021-02-13T11:05:09.400406Z",
     "start_time": "2021-02-13T11:05:09.366385Z"
    }
   },
   "outputs": [
    {
     "data": {
      "text/html": [
       "<div>\n",
       "<style scoped>\n",
       "    .dataframe tbody tr th:only-of-type {\n",
       "        vertical-align: middle;\n",
       "    }\n",
       "\n",
       "    .dataframe tbody tr th {\n",
       "        vertical-align: top;\n",
       "    }\n",
       "\n",
       "    .dataframe thead th {\n",
       "        text-align: right;\n",
       "    }\n",
       "</style>\n",
       "<table border=\"1\" class=\"dataframe\">\n",
       "  <thead>\n",
       "    <tr style=\"text-align: right;\">\n",
       "      <th></th>\n",
       "      <th>username</th>\n",
       "      <th>title</th>\n",
       "      <th>description</th>\n",
       "    </tr>\n",
       "  </thead>\n",
       "  <tbody>\n",
       "    <tr>\n",
       "      <th>373</th>\n",
       "      <td>animalstoday</td>\n",
       "      <td>Animals Today</td>\n",
       "      <td>Cute animals that the @PrivacyToday chat has s...</td>\n",
       "    </tr>\n",
       "    <tr>\n",
       "      <th>496</th>\n",
       "      <td>rsgg2020</td>\n",
       "      <td>Russian Startups Go Global</td>\n",
       "      <td>Канал «Акселератора ФРИИ» о выходе IT-компаний...</td>\n",
       "    </tr>\n",
       "    <tr>\n",
       "      <th>221</th>\n",
       "      <td>internationalgeographic</td>\n",
       "      <td>International Geographic</td>\n",
       "      <td>We travel to the most beautiful places in the ...</td>\n",
       "    </tr>\n",
       "  </tbody>\n",
       "</table>\n",
       "</div>"
      ],
      "text/plain": [
       "                    username                       title  \\\n",
       "373             animalstoday               Animals Today   \n",
       "496                 rsgg2020  Russian Startups Go Global   \n",
       "221  internationalgeographic    International Geographic   \n",
       "\n",
       "                                           description  \n",
       "373  Cute animals that the @PrivacyToday chat has s...  \n",
       "496  Канал «Акселератора ФРИИ» о выходе IT-компаний...  \n",
       "221  We travel to the most beautiful places in the ...  "
      ]
     },
     "execution_count": 16,
     "metadata": {},
     "output_type": "execute_result"
    }
   ],
   "source": [
    "meta.sample(3)"
   ]
  },
  {
   "cell_type": "code",
   "execution_count": 17,
   "id": "aware-savage",
   "metadata": {
    "ExecuteTime": {
     "end_time": "2021-02-13T11:05:09.590511Z",
     "start_time": "2021-02-13T11:05:09.551733Z"
    }
   },
   "outputs": [
    {
     "data": {
      "text/html": [
       "<div>\n",
       "<style scoped>\n",
       "    .dataframe tbody tr th:only-of-type {\n",
       "        vertical-align: middle;\n",
       "    }\n",
       "\n",
       "    .dataframe tbody tr th {\n",
       "        vertical-align: top;\n",
       "    }\n",
       "\n",
       "    .dataframe thead th {\n",
       "        text-align: right;\n",
       "    }\n",
       "</style>\n",
       "<table border=\"1\" class=\"dataframe\">\n",
       "  <thead>\n",
       "    <tr style=\"text-align: right;\">\n",
       "      <th></th>\n",
       "      <th>Timestamp</th>\n",
       "      <th>topic [Primary]</th>\n",
       "      <th>language</th>\n",
       "      <th>topic [Secondary]</th>\n",
       "      <th>username</th>\n",
       "      <th>topics</th>\n",
       "    </tr>\n",
       "  </thead>\n",
       "  <tbody>\n",
       "    <tr>\n",
       "      <th>220</th>\n",
       "      <td>2/6/2021 18:51:08</td>\n",
       "      <td>History</td>\n",
       "      <td>ru</td>\n",
       "      <td></td>\n",
       "      <td>russian_culture</td>\n",
       "      <td>[History]</td>\n",
       "    </tr>\n",
       "    <tr>\n",
       "      <th>127</th>\n",
       "      <td>2/8/2021 8:01:56</td>\n",
       "      <td>Celebrities &amp; Lifestyle</td>\n",
       "      <td>ru</td>\n",
       "      <td></td>\n",
       "      <td>life_stars_online</td>\n",
       "      <td>[Celebrities &amp; Lifestyle]</td>\n",
       "    </tr>\n",
       "    <tr>\n",
       "      <th>178</th>\n",
       "      <td>2/8/2021 6:48:33</td>\n",
       "      <td>Cars &amp; Other Vehicles</td>\n",
       "      <td>en</td>\n",
       "      <td></td>\n",
       "      <td>moto_channel</td>\n",
       "      <td>[Cars &amp; Other Vehicles]</td>\n",
       "    </tr>\n",
       "    <tr>\n",
       "      <th>153</th>\n",
       "      <td>2/8/2021 7:20:07</td>\n",
       "      <td>Books</td>\n",
       "      <td>ru</td>\n",
       "      <td></td>\n",
       "      <td>ikniga</td>\n",
       "      <td>[Books]</td>\n",
       "    </tr>\n",
       "    <tr>\n",
       "      <th>201</th>\n",
       "      <td>2/6/2021 19:07:49</td>\n",
       "      <td>Fitness</td>\n",
       "      <td>ru</td>\n",
       "      <td></td>\n",
       "      <td>fitness_sport_zozh</td>\n",
       "      <td>[Fitness]</td>\n",
       "    </tr>\n",
       "  </tbody>\n",
       "</table>\n",
       "</div>"
      ],
      "text/plain": [
       "             Timestamp          topic [Primary] language topic [Secondary]  \\\n",
       "220  2/6/2021 18:51:08                  History       ru                     \n",
       "127   2/8/2021 8:01:56  Celebrities & Lifestyle       ru                     \n",
       "178   2/8/2021 6:48:33    Cars & Other Vehicles       en                     \n",
       "153   2/8/2021 7:20:07                    Books       ru                     \n",
       "201  2/6/2021 19:07:49                  Fitness       ru                     \n",
       "\n",
       "               username                     topics  \n",
       "220     russian_culture                  [History]  \n",
       "127   life_stars_online  [Celebrities & Lifestyle]  \n",
       "178        moto_channel    [Cars & Other Vehicles]  \n",
       "153              ikniga                    [Books]  \n",
       "201  fitness_sport_zozh                  [Fitness]  "
      ]
     },
     "execution_count": 17,
     "metadata": {},
     "output_type": "execute_result"
    }
   ],
   "source": [
    "topics.sample(5)"
   ]
  },
  {
   "cell_type": "markdown",
   "id": "coated-venezuela",
   "metadata": {},
   "source": [
    "### EDA"
   ]
  },
  {
   "cell_type": "code",
   "execution_count": 18,
   "id": "stable-evolution",
   "metadata": {
    "ExecuteTime": {
     "end_time": "2021-02-13T11:05:09.956405Z",
     "start_time": "2021-02-13T11:05:09.926317Z"
    }
   },
   "outputs": [],
   "source": [
    "from src.train.plot_utils import barplots"
   ]
  },
  {
   "cell_type": "code",
   "execution_count": 19,
   "id": "cathedral-activation",
   "metadata": {
    "ExecuteTime": {
     "end_time": "2021-02-13T11:05:10.236925Z",
     "start_time": "2021-02-13T11:05:10.124048Z"
    }
   },
   "outputs": [
    {
     "data": {
      "image/png": "[encoded data removed]",
      "text/plain": [
       "<Figure size 288x216 with 1 Axes>"
      ]
     },
     "metadata": {
      "needs_background": "light"
     },
     "output_type": "display_data"
    }
   ],
   "source": [
    "barplots({\n",
    "    'languages': topics['language']\n",
    "}, 1, 1)"
   ]
  },
  {
   "cell_type": "code",
   "execution_count": 20,
   "id": "cooperative-quality",
   "metadata": {
    "ExecuteTime": {
     "end_time": "2021-02-13T11:05:11.210854Z",
     "start_time": "2021-02-13T11:05:10.301216Z"
    }
   },
   "outputs": [
    {
     "data": {
      "image/png": "[encoded data removed]",
      "text/plain": [
       "<Figure size 864x936 with 2 Axes>"
      ]
     },
     "metadata": {
      "needs_background": "light"
     },
     "output_type": "display_data"
    }
   ],
   "source": [
    "t = topics.groupby('language').agg({\n",
    "    'topics': lambda rows: Counter(x for row in rows for x in row)\n",
    "}).to_dict()['topics']\n",
    "\n",
    "barplots({\n",
    "    'en topics': (list(t['en'].keys()), list(t['en'].values())),\n",
    "    'ru topics': (list(t['ru'].keys()), list(t['ru'].values())),\n",
    "}, 1, 2, fig_dims=(12,13))"
   ]
  },
  {
   "cell_type": "code",
   "execution_count": 21,
   "id": "executive-waste",
   "metadata": {
    "ExecuteTime": {
     "end_time": "2021-02-13T11:05:11.242544Z",
     "start_time": "2021-02-13T11:05:11.212202Z"
    }
   },
   "outputs": [
    {
     "data": {
      "text/html": [
       "<div>\n",
       "<style scoped>\n",
       "    .dataframe tbody tr th:only-of-type {\n",
       "        vertical-align: middle;\n",
       "    }\n",
       "\n",
       "    .dataframe tbody tr th {\n",
       "        vertical-align: top;\n",
       "    }\n",
       "\n",
       "    .dataframe thead tr th {\n",
       "        text-align: left;\n",
       "    }\n",
       "\n",
       "    .dataframe thead tr:last-of-type th {\n",
       "        text-align: right;\n",
       "    }\n",
       "</style>\n",
       "<table border=\"1\" class=\"dataframe\">\n",
       "  <thead>\n",
       "    <tr>\n",
       "      <th></th>\n",
       "      <th colspan=\"2\" halign=\"left\">username</th>\n",
       "    </tr>\n",
       "    <tr>\n",
       "      <th></th>\n",
       "      <th>count</th>\n",
       "      <th>nunique</th>\n",
       "    </tr>\n",
       "    <tr>\n",
       "      <th>language</th>\n",
       "      <th></th>\n",
       "      <th></th>\n",
       "    </tr>\n",
       "  </thead>\n",
       "  <tbody>\n",
       "    <tr>\n",
       "      <th>en</th>\n",
       "      <td>2273</td>\n",
       "      <td>228</td>\n",
       "    </tr>\n",
       "    <tr>\n",
       "      <th>ru</th>\n",
       "      <td>2774</td>\n",
       "      <td>278</td>\n",
       "    </tr>\n",
       "  </tbody>\n",
       "</table>\n",
       "</div>"
      ],
      "text/plain": [
       "         username        \n",
       "            count nunique\n",
       "language                 \n",
       "en           2273     228\n",
       "ru           2774     278"
      ]
     },
     "execution_count": 21,
     "metadata": {},
     "output_type": "execute_result"
    }
   ],
   "source": [
    "posts.groupby('language').agg({'username':['count', 'nunique']})"
   ]
  },
  {
   "cell_type": "markdown",
   "id": "informative-reporter",
   "metadata": {},
   "source": [
    "### Compare raw tokens to lemmas"
   ]
  },
  {
   "cell_type": "code",
   "execution_count": 24,
   "id": "matched-arrangement",
   "metadata": {
    "ExecuteTime": {
     "end_time": "2021-02-13T11:05:26.100154Z",
     "start_time": "2021-02-13T11:05:26.057662Z"
    },
    "scrolled": true
   },
   "outputs": [
    {
     "name": "stdout",
     "output_type": "stream",
     "text": [
      "INPUT Всем салют! вроде выздоровел, очень круто и приятно получать живую обратную связь на посты и видео с Ваней Замесиным, спасибо всем за ценные мысли 💥💥💥\n",
      "\n",
      "Об этом пишут редко, но кратный рост продукта, который прошел начальные стадии, лежит внутри клиентской команды: это может быть саппорт, аккаунты, продавцы. У нас в Рике клиентская команда — это команда заботы.\n",
      "\n",
      "Спойлер: отличный повод поделится полезным — рассказать, что меня бомбит, особенно когда у нас есть три открытые вакансии (ссылки на них будут в конце поста 👀)\n",
      "\n",
      "Если вы думаете, что у вашего продукта нет проблем, влияющих на доходы — вы давно не отвечали пользователям в команде заботы и скорее всего спрятались от нее за 2-3 тикет системами, чтобы ни в коем случае не вырывать себя из мира розовых пони.\n",
      "\n",
      "LEMMAS ['салют', 'живой', 'обратный', 'связь', 'пост', 'видео', 'ваня', 'замесин', 'спасибо', 'ценный', 'мысль', 'кратный', 'рост', 'продукт', 'начальный', 'стадия', 'клиентский', 'команда', 'саппорт', 'аккаунт', 'продавец', 'рик', 'клиентский', 'команда', 'команда', 'забота', 'спойлер', 'отличный', 'повод', 'полезный', 'открытый', 'вакансия', 'ссылка', 'конец', 'пост', 'продукт', 'проблема', 'доход', 'пользователь', 'команда', 'забота', 'тикет', 'система', 'случай', 'мир', 'розовый', 'пони']\n",
      "\n",
      "RAW TOKENS ['всем', 'салют', 'вроде', 'выздоровел', 'очень', 'круто', 'приятно', 'получать', 'живую', 'обратную', 'связь', 'на', 'посты', 'видео', 'ваней', 'замесиным', 'спасибо', 'всем', 'за', 'ценные', 'мысли', 'об', 'этом', 'пишут', 'редко', 'но', 'кратный', 'рост', 'продукта', 'который', 'прошел', 'начальные', 'стадии', 'лежит', 'внутри', 'клиентской', 'команды', 'это', 'может', 'быть', 'саппорт', 'аккаунты', 'продавцы', 'нас', 'рике', 'клиентская', 'команда', 'это', 'команда', 'заботы', 'спойлер', 'отличный', 'повод', 'поделится', 'полезным', 'рассказать', 'что', 'меня', 'бомбит', 'особенно', 'когда', 'нас', 'есть', 'три', 'открытые', 'вакансии', 'ссылки', 'на', 'них', 'будут', 'конце', 'поста', 'если', 'вы', 'думаете', 'что', 'вашего', 'продукта', 'нет', 'проблем', 'влияющих', 'на', 'доходы', 'вы', 'давно', 'не', 'отвечали', 'пользователям', 'команде', 'заботы', 'скорее', 'всего', 'спрятались', 'от', 'нее', 'за', 'тикет', 'системами', 'чтобы', 'ни', 'коем', 'случае', 'не', 'вырывать', 'себя', 'из', 'мира', 'розовых', 'пони']\n"
     ]
    }
   ],
   "source": [
    "row = posts.sample(1).iloc[0]\n",
    "\n",
    "lem = lang_lemmatizer(row['language'])\n",
    "l = lem(row['posts'],)\n",
    "t = tokenize_text(row['posts'])\n",
    "\n",
    "print(\"INPUT\", row['posts'], end='\\n\\n')\n",
    "print(\"LEMMAS\", l)\n",
    "# pprint(l)\n",
    "print('\\nRAW TOKENS', t)\n",
    "# pprint(t)"
   ]
  },
  {
   "cell_type": "markdown",
   "id": "alternative-advocate",
   "metadata": {},
   "source": [
    "### Build a dataframe"
   ]
  },
  {
   "cell_type": "code",
   "execution_count": 25,
   "id": "private-april",
   "metadata": {
    "ExecuteTime": {
     "end_time": "2021-02-13T11:05:31.190811Z",
     "start_time": "2021-02-13T11:05:31.147247Z"
    }
   },
   "outputs": [
    {
     "data": {
      "text/plain": [
       "(532, 506)"
      ]
     },
     "execution_count": 25,
     "metadata": {},
     "output_type": "execute_result"
    }
   ],
   "source": [
    "train_channels = topics[['username', 'topics', 'language']].to_dict('records')\n",
    "channel_meta = meta.groupby('username').agg({\n",
    "                            'title': 'first',\n",
    "                            'description': 'first'\n",
    "                            }).to_dict('index')\n",
    "\n",
    "len(train_channels), len(channel_meta)"
   ]
  },
  {
   "cell_type": "code",
   "execution_count": 30,
   "id": "buried-february",
   "metadata": {
    "ExecuteTime": {
     "end_time": "2021-02-13T11:05:55.673150Z",
     "start_time": "2021-02-13T11:05:54.923436Z"
    }
   },
   "outputs": [
    {
     "name": "stderr",
     "output_type": "stream",
     "text": [
      "/Users/rustem.galiullin/miniconda3/envs/tgcat/lib/python3.7/site-packages/ipykernel_launcher.py:3: TqdmDeprecationWarning: This function will be removed in tqdm==5.0.0\n",
      "Please use `tqdm.notebook.tqdm` instead of `tqdm.tqdm_notebook`\n",
      "  This is separate from the ipykernel package so we can avoid doing imports until\n"
     ]
    },
    {
     "data": {
      "application/vnd.jupyter.widget-view+json": {
       "model_id": "b44036adbc89484884bcc53e003d35f6",
       "version_major": 2,
       "version_minor": 0
      },
      "text/plain": [
       "channels:   0%|          | 0/532 [00:00<?, ?it/s]"
      ]
     },
     "metadata": {},
     "output_type": "display_data"
    }
   ],
   "source": [
    "inputs = []\n",
    "\n",
    "for channel in tqdm_notebook(train_channels, desc='channels'):\n",
    "    channel_name = channel['username']\n",
    "    subset = posts.query(f'username == \"{channel_name}\"')['posts']\n",
    "    num_smp = min(len(subset), np.random.randint(1, 10))\n",
    "    smp = subset.sample(num_smp).tolist()\n",
    "    for top in channel['topics']:\n",
    "        one = {\n",
    "            'username': channel_name,\n",
    "            'language': channel['language'],\n",
    "            'posts': smp,\n",
    "            'title': channel_meta[channel_name]['title'],\n",
    "            'description': channel_meta[channel_name]['description'],\n",
    "            'topic': top,\n",
    "        }\n",
    "        inputs.append(one)\n",
    "    \n",
    "inputs = pd.DataFrame(inputs)\n"
   ]
  },
  {
   "cell_type": "markdown",
   "id": "norwegian-essence",
   "metadata": {},
   "source": [
    "### Test data"
   ]
  },
  {
   "cell_type": "code",
   "execution_count": 31,
   "id": "streaming-timer",
   "metadata": {
    "ExecuteTime": {
     "end_time": "2021-02-13T11:05:56.797846Z",
     "start_time": "2021-02-13T11:05:56.669559Z"
    }
   },
   "outputs": [
    {
     "name": "stdout",
     "output_type": "stream",
     "text": [
      "<class 'pandas.core.frame.DataFrame'>\n",
      "Int64Index: 564 entries, 0 to 153\n",
      "Data columns (total 10 columns):\n",
      " #   Column       Non-Null Count  Dtype  \n",
      "---  ------       --------------  -----  \n",
      " 0   description  564 non-null    object \n",
      " 1   language     564 non-null    object \n",
      " 2   posts        564 non-null    object \n",
      " 3   title        564 non-null    object \n",
      " 4   id           564 non-null    int64  \n",
      " 5   primary      564 non-null    object \n",
      " 6   secondary    564 non-null    object \n",
      " 7   predictions  154 non-null    object \n",
      " 8   score        154 non-null    float64\n",
      " 9   username     564 non-null    object \n",
      "dtypes: float64(1), int64(1), object(8)\n",
      "memory usage: 48.5+ KB\n"
     ]
    }
   ],
   "source": [
    "labelled_data = [pd.read_json(c, ) for c in COMPLETIONS]\n",
    "\n",
    "labelled_data = pd.concat(labelled_data)\n",
    "labelled_data['secondary'].fillna('', inplace=True)\n",
    "labelled_data['username'] = '???'\n",
    "del labelled_data['posts']\n",
    "labelled_data.rename({'lang_code': 'language', 'recent_posts': 'posts'}, axis='columns', inplace=True)\n",
    "\n",
    "\n",
    "labelled_data.info()"
   ]
  },
  {
   "cell_type": "code",
   "execution_count": 32,
   "id": "handed-protest",
   "metadata": {
    "ExecuteTime": {
     "end_time": "2021-02-13T11:05:57.319148Z",
     "start_time": "2021-02-13T11:05:57.282558Z"
    }
   },
   "outputs": [],
   "source": [
    "labelled_data['topics'] = labelled_data.apply(lambda x: get_test_topics(x['primary'], \n",
    "                                                                '' if ONLY_PRIMARY else x['secondary']),\n",
    "                                  axis=1)"
   ]
  },
  {
   "cell_type": "code",
   "execution_count": 33,
   "id": "occupied-vertical",
   "metadata": {
    "ExecuteTime": {
     "end_time": "2021-02-13T11:05:57.570665Z",
     "start_time": "2021-02-13T11:05:57.538053Z"
    },
    "scrolled": true
   },
   "outputs": [
    {
     "data": {
      "text/plain": [
       "{'language': {'en': 279, 'ru': 285}}"
      ]
     },
     "execution_count": 33,
     "metadata": {},
     "output_type": "execute_result"
    }
   ],
   "source": [
    "labelled_data.groupby('language').agg({\n",
    "    'language': 'count',\n",
    "}).to_dict()"
   ]
  },
  {
   "cell_type": "code",
   "execution_count": 34,
   "id": "vertical-defensive",
   "metadata": {
    "ExecuteTime": {
     "end_time": "2021-02-13T11:05:58.355663Z",
     "start_time": "2021-02-13T11:05:57.969212Z"
    }
   },
   "outputs": [],
   "source": [
    "test_data = []\n",
    "\n",
    "for i, row in labelled_data.iterrows():\n",
    "    for top in row['topics']:\n",
    "        row['topic'] = top\n",
    "        test_data.append(row)\n",
    "        \n",
    "\n",
    "test_data = pd.DataFrame(test_data)"
   ]
  },
  {
   "cell_type": "markdown",
   "id": "documentary-blackberry",
   "metadata": {},
   "source": [
    "### Topic distribution"
   ]
  },
  {
   "cell_type": "code",
   "execution_count": 35,
   "id": "metallic-baghdad",
   "metadata": {
    "ExecuteTime": {
     "end_time": "2021-02-13T11:06:02.882399Z",
     "start_time": "2021-02-13T11:06:02.853162Z"
    }
   },
   "outputs": [],
   "source": [
    "from src.train.plot_utils import barplots"
   ]
  },
  {
   "cell_type": "code",
   "execution_count": 36,
   "id": "rocky-period",
   "metadata": {
    "ExecuteTime": {
     "end_time": "2021-02-13T11:06:04.871936Z",
     "start_time": "2021-02-13T11:06:03.064605Z"
    }
   },
   "outputs": [
    {
     "name": "stdout",
     "output_type": "stream",
     "text": [
      "ru\n"
     ]
    },
    {
     "data": {
      "image/png": "[encoded data removed]",
      "text/plain": [
       "<Figure size 1008x576 with 2 Axes>"
      ]
     },
     "metadata": {
      "needs_background": "light"
     },
     "output_type": "display_data"
    },
    {
     "name": "stdout",
     "output_type": "stream",
     "text": [
      "en\n"
     ]
    },
    {
     "data": {
      "image/png": "[encoded data removed]",
      "text/plain": [
       "<Figure size 1008x576 with 2 Axes>"
      ]
     },
     "metadata": {
      "needs_background": "light"
     },
     "output_type": "display_data"
    }
   ],
   "source": [
    "for l in test_data['language'].unique():\n",
    "    print(l)\n",
    "    barplots({\n",
    "        'gdrive': inputs.query(f\"language == '{l}'\")['topic'],\n",
    "        'label-studio': test_data.query(f\"language == '{l}'\")['topic'],\n",
    "    }, 1, 2, fig_dims=(14,8))"
   ]
  },
  {
   "cell_type": "code",
   "execution_count": 37,
   "id": "capital-generation",
   "metadata": {
    "ExecuteTime": {
     "end_time": "2021-02-13T11:06:13.048137Z",
     "start_time": "2021-02-13T11:06:13.014536Z"
    }
   },
   "outputs": [
    {
     "data": {
      "text/plain": [
       "(40, 38)"
      ]
     },
     "execution_count": 37,
     "metadata": {},
     "output_type": "execute_result"
    }
   ],
   "source": [
    "inputs['topic'].nunique(), test_data['topic'].nunique(),"
   ]
  },
  {
   "cell_type": "markdown",
   "id": "suspected-access",
   "metadata": {},
   "source": [
    "### Save combined"
   ]
  },
  {
   "cell_type": "code",
   "execution_count": 38,
   "id": "subjective-melbourne",
   "metadata": {
    "ExecuteTime": {
     "end_time": "2021-02-13T11:06:13.934917Z",
     "start_time": "2021-02-13T11:06:13.899687Z"
    }
   },
   "outputs": [
    {
     "data": {
      "text/plain": [
       "(1358, 12)"
      ]
     },
     "execution_count": 38,
     "metadata": {},
     "output_type": "execute_result"
    }
   ],
   "source": [
    "comb = pd.concat([inputs, test_data], axis=0)\n",
    "comb.shape"
   ]
  },
  {
   "cell_type": "code",
   "execution_count": 39,
   "id": "moderate-plant",
   "metadata": {
    "ExecuteTime": {
     "end_time": "2021-02-13T11:06:14.997858Z",
     "start_time": "2021-02-13T11:06:14.832524Z"
    }
   },
   "outputs": [],
   "source": [
    "comb.to_csv('data/interim/train_data.csv', index=False)"
   ]
  },
  {
   "cell_type": "markdown",
   "id": "color-allocation",
   "metadata": {},
   "source": [
    "### Load stopwords"
   ]
  },
  {
   "cell_type": "code",
   "execution_count": 40,
   "id": "advisory-metropolitan",
   "metadata": {
    "ExecuteTime": {
     "end_time": "2021-02-13T11:06:17.245490Z",
     "start_time": "2021-02-13T11:06:17.216695Z"
    }
   },
   "outputs": [],
   "source": [
    "STOPWORDS = {\n",
    "    'en': 'data/external/en_stopwords.txt',\n",
    "    'ru': 'data/external/ru_stopwords.txt',\n",
    "}"
   ]
  },
  {
   "cell_type": "code",
   "execution_count": 41,
   "id": "taken-nylon",
   "metadata": {
    "ExecuteTime": {
     "end_time": "2021-02-13T11:06:17.453679Z",
     "start_time": "2021-02-13T11:06:17.420835Z"
    }
   },
   "outputs": [
    {
     "data": {
      "text/plain": [
       "332"
      ]
     },
     "execution_count": 41,
     "metadata": {},
     "output_type": "execute_result"
    }
   ],
   "source": [
    "stopwords = [Path(f).read_text().strip().split('\\n') for l,f in STOPWORDS.items()]\n",
    "\n",
    "stopwords = sum(stopwords, [])\n",
    "\n",
    "len(stopwords)"
   ]
  },
  {
   "cell_type": "markdown",
   "id": "bottom-active",
   "metadata": {},
   "source": [
    "## Experiments\n",
    "\n",
    "**Hyper-parameters:**\n",
    "- [x] topics: primary only, primary + secondary\n",
    "- [x] inputs: title, description, posts\n",
    "- [x] preprocessing: raw, lemmas\n",
    "- [x] vectorizers: tf-idf, bow\n",
    "- [x] clf: xgb, nb, etc."
   ]
  },
  {
   "cell_type": "code",
   "execution_count": 42,
   "id": "powered-valley",
   "metadata": {
    "ExecuteTime": {
     "end_time": "2021-02-13T11:06:18.712619Z",
     "start_time": "2021-02-13T11:06:18.256369Z"
    }
   },
   "outputs": [],
   "source": [
    "from sklearn.model_selection import train_test_split\n",
    "\n",
    "from sklearn.feature_extraction.text import CountVectorizer, TfidfVectorizer\n",
    "from sklearn.multioutput import MultiOutputClassifier, ClassifierChain\n",
    "from sklearn.preprocessing import MultiLabelBinarizer, OneHotEncoder\n",
    "from sklearn.linear_model import LogisticRegression, ElasticNet\n",
    "from sklearn.ensemble import GradientBoostingClassifier, RandomForestClassifier\n",
    "from sklearn.model_selection import cross_val_score\n",
    "from sklearn.metrics import confusion_matrix\n",
    "from sklearn.tree import ExtraTreeClassifier\n",
    "from sklearn.neighbors import KNeighborsClassifier\n",
    "from sklearn.svm import LinearSVC, SVC\n",
    "from sklearn.naive_bayes import ComplementNB, MultinomialNB\n",
    "\n",
    "from xgboost import XGBClassifier\n",
    "\n",
    "import itertools"
   ]
  },
  {
   "cell_type": "code",
   "execution_count": 43,
   "id": "related-depth",
   "metadata": {
    "ExecuteTime": {
     "end_time": "2021-02-13T11:06:18.818089Z",
     "start_time": "2021-02-13T11:06:18.782647Z"
    }
   },
   "outputs": [],
   "source": [
    "class Trainer:\n",
    "    \"\"\" prapre inputs, vectorize texts and run a classifier \"\"\"\n",
    "    def __init__(self, language, input_fields, preprocessing, vect, est):\n",
    "        self.LANG = language\n",
    "        self.INPUT_FIELDS = input_fields\n",
    "        self.vect = VECTORIZERS[vect]\n",
    "        self.vect.preprocessor = lambda x: x\n",
    "        self.vect.lowercase = False\n",
    "        self.clf = ESTIMATORS[est]\n",
    "        assert preprocessing in ['lemma', 'raw']\n",
    "        self.preprocessing = preprocessing\n",
    "        if preprocessing == 'lemma':\n",
    "            self.vect.tokenizer = lang_lemmatizer(language)\n",
    "        else:\n",
    "            self.vect.tokenizer = tokenize_text\n",
    "        \n",
    "        \n",
    "    def prepare_data(self, is_final):\n",
    "        # text inputs and \n",
    "        inputs['text'] = inputs.apply(lambda x: prepare_inputs(x, self.INPUT_FIELDS), axis=1)\n",
    "        test_data['text'] = test_data.apply(lambda x: prepare_inputs(x, self.INPUT_FIELDS), axis=1)\n",
    "        # split into  train and test\n",
    "        test_subset = test_data.query(f\"language == '{self.LANG}'\")\n",
    "        external_subset = inputs.query(f\"language == '{self.LANG}'\")\n",
    "        one,self.test_inputs = train_test_split(test_subset, test_size=TEST_SIZE, random_state=24, shuffle=True,)\n",
    "        comb_datasets = [external_subset, one, self.test_inputs] if is_final else [external_subset, one]\n",
    "        self.train_inputs = pd.concat(comb_datasets, axis=0)\n",
    "        # x and y\n",
    "        self.y_train = self.train_inputs['topic']\n",
    "        self.y_test = self.test_inputs['topic']\n",
    "        self.X_train = self.vect.fit_transform(self.train_inputs['text'])\n",
    "        self.X_test = self.vect.transform(self.test_inputs['text'])\n",
    "        \n",
    "        \n",
    "    def run_eval(self, final=False):\n",
    "        \"\"\" prepare inputs and run clf evaluation \"\"\"\n",
    "        self.prepare_data(final)\n",
    "        # fit and eval\n",
    "        self.clf.fit(self.X_train, self.y_train)\n",
    "        self.predictions = pd.DataFrame({\n",
    "                    'true': trainer.test_inputs['topics'],\n",
    "                    'predicted': trainer.clf.predict(trainer.X_test)\n",
    "                })\n",
    "        score = self.predictions.apply(lambda x: x['predicted'] in x['true'], axis=1).mean()\n",
    "        return score"
   ]
  },
  {
   "cell_type": "markdown",
   "id": "compatible-nation",
   "metadata": {},
   "source": [
    "### Set hyper-parameters"
   ]
  },
  {
   "cell_type": "code",
   "execution_count": 73,
   "id": "yellow-matrix",
   "metadata": {
    "ExecuteTime": {
     "end_time": "2021-02-13T11:24:04.212390Z",
     "start_time": "2021-02-13T11:24:04.175851Z"
    }
   },
   "outputs": [],
   "source": [
    "TEST_SIZE = 0.5"
   ]
  },
  {
   "cell_type": "code",
   "execution_count": 80,
   "id": "distinguished-video",
   "metadata": {
    "ExecuteTime": {
     "end_time": "2021-02-13T11:28:18.353266Z",
     "start_time": "2021-02-13T11:28:18.313364Z"
    }
   },
   "outputs": [],
   "source": [
    "INPUTS = [\n",
    "    'title',\n",
    "    'description',\n",
    "    'posts',\n",
    "]\n",
    "\n",
    "PREPROCESSING = [\n",
    "    'raw',\n",
    "    'lemma',\n",
    "]\n",
    "\n",
    "vect_params = dict(\n",
    "    max_df=0.6, \n",
    "    min_df=2,\n",
    "    max_features=2000,\n",
    "    binary=False, \n",
    "    ngram_range=(1,1), \n",
    "    tokenizer=tokenize_text,\n",
    "    stop_words=stopwords, \n",
    ")\n",
    "VECTORIZERS = {\n",
    "    'tfidf': TfidfVectorizer(**vect_params),\n",
    "    'bow': CountVectorizer(**vect_params),\n",
    "}\n",
    "\n",
    "\n",
    "ESTIMATORS = dict(\n",
    "#     xgb = XGBClassifier(objective='multi:softmax'),\n",
    "#     forest = RandomForestClassifier(),\n",
    "#     logreg = LogisticRegression(),\n",
    "#     knn = KNeighborsClassifier(),\n",
    "#     tree = ExtraTreeClassifier(),\n",
    "#     svm = SVC(),\n",
    "#     linsvm = LinearSVC(),\n",
    "    cnb = ComplementNB(),\n",
    "    mnb = MultinomialNB(),\n",
    ")"
   ]
  },
  {
   "cell_type": "code",
   "execution_count": 81,
   "id": "manufactured-silly",
   "metadata": {
    "ExecuteTime": {
     "end_time": "2021-02-13T11:28:18.550284Z",
     "start_time": "2021-02-13T11:28:18.515957Z"
    }
   },
   "outputs": [
    {
     "data": {
      "text/plain": [
       "64"
      ]
     },
     "execution_count": 81,
     "metadata": {},
     "output_type": "execute_result"
    }
   ],
   "source": [
    "input_combinations = list(itertools.combinations(INPUTS, r=2)) + [INPUTS]\n",
    "\n",
    "train_params = list(itertools.product(test_data['language'].unique(), \n",
    "                                input_combinations,\n",
    "                                      PREPROCESSING,\n",
    "                                VECTORIZERS.keys(), \n",
    "                                ESTIMATORS.keys()))\n",
    "\n",
    "len(train_params)"
   ]
  },
  {
   "cell_type": "markdown",
   "id": "aerial-local",
   "metadata": {},
   "source": [
    "### Run experiments"
   ]
  },
  {
   "cell_type": "code",
   "execution_count": 82,
   "id": "presidential-employer",
   "metadata": {
    "ExecuteTime": {
     "end_time": "2021-02-13T11:33:40.080455Z",
     "start_time": "2021-02-13T11:28:19.052763Z"
    },
    "scrolled": true
   },
   "outputs": [
    {
     "name": "stderr",
     "output_type": "stream",
     "text": [
      "/Users/rustem.galiullin/miniconda3/envs/tgcat/lib/python3.7/site-packages/ipykernel_launcher.py:3: TqdmDeprecationWarning: This function will be removed in tqdm==5.0.0\n",
      "Please use `tqdm.notebook.tqdm` instead of `tqdm.tqdm_notebook`\n",
      "  This is separate from the ipykernel package so we can avoid doing imports until\n"
     ]
    },
    {
     "data": {
      "application/vnd.jupyter.widget-view+json": {
       "model_id": "a8b1184c74614a4393d71f8d57826f87",
       "version_major": 2,
       "version_minor": 0
      },
      "text/plain": [
       "# experiments:   0%|          | 0/64 [00:00<?, ?it/s]"
      ]
     },
     "metadata": {},
     "output_type": "display_data"
    }
   ],
   "source": [
    "results = []\n",
    "\n",
    "for params in tqdm_notebook(train_params, desc='# experiments'):\n",
    "    trainer = Trainer(*params)\n",
    "    score = trainer.run_eval()\n",
    "    params += (score,)\n",
    "    results.append(params)\n",
    "                \n",
    "results = pd.DataFrame(results, columns=['language','input_fields', 'preprocessing','vect', 'est', 'score'])"
   ]
  },
  {
   "cell_type": "code",
   "execution_count": 83,
   "id": "following-tyler",
   "metadata": {
    "ExecuteTime": {
     "end_time": "2021-02-13T11:33:40.175759Z",
     "start_time": "2021-02-13T11:33:40.081979Z"
    }
   },
   "outputs": [
    {
     "name": "stdout",
     "output_type": "stream",
     "text": [
      "|    | language   | input_fields                      | preprocessing   | vect   | est   |    score |\n",
      "|---:|:-----------|:----------------------------------|:----------------|:-------|:------|---------:|\n",
      "| 12 | ru         | ('title', 'posts')                | lemma           | tfidf  | cnb   | 0.666667 |\n",
      "| 28 | ru         | ['title', 'description', 'posts'] | lemma           | tfidf  | cnb   | 0.666667 |\n",
      "| 31 | ru         | ['title', 'description', 'posts'] | lemma           | bow    | mnb   | 0.655914 |\n",
      "| 15 | ru         | ('title', 'posts')                | lemma           | bow    | mnb   | 0.639785 |\n",
      "| 20 | ru         | ('description', 'posts')          | lemma           | tfidf  | cnb   | 0.629032 |\n",
      "| 23 | ru         | ('description', 'posts')          | lemma           | bow    | mnb   | 0.61828  |\n",
      "| 30 | ru         | ['title', 'description', 'posts'] | lemma           | bow    | cnb   | 0.602151 |\n",
      "| 24 | ru         | ['title', 'description', 'posts'] | raw             | tfidf  | cnb   | 0.596774 |\n",
      "| 14 | ru         | ('title', 'posts')                | lemma           | bow    | cnb   | 0.596774 |\n",
      "| 16 | ru         | ('description', 'posts')          | raw             | tfidf  | cnb   | 0.596774 |\n",
      "| 22 | ru         | ('description', 'posts')          | lemma           | bow    | cnb   | 0.586022 |\n",
      "| 27 | ru         | ['title', 'description', 'posts'] | raw             | bow    | mnb   | 0.569892 |\n",
      "|  8 | ru         | ('title', 'posts')                | raw             | tfidf  | cnb   | 0.569892 |\n",
      "| 11 | ru         | ('title', 'posts')                | raw             | bow    | mnb   | 0.569892 |\n",
      "| 19 | ru         | ('description', 'posts')          | raw             | bow    | mnb   | 0.55914  |\n",
      "| 26 | ru         | ['title', 'description', 'posts'] | raw             | bow    | cnb   | 0.537634 |\n",
      "| 10 | ru         | ('title', 'posts')                | raw             | bow    | cnb   | 0.521505 |\n",
      "| 18 | ru         | ('description', 'posts')          | raw             | bow    | cnb   | 0.516129 |\n",
      "| 29 | ru         | ['title', 'description', 'posts'] | lemma           | tfidf  | mnb   | 0.38172  |\n",
      "| 21 | ru         | ('description', 'posts')          | lemma           | tfidf  | mnb   | 0.354839 |\n",
      "| 13 | ru         | ('title', 'posts')                | lemma           | tfidf  | mnb   | 0.354839 |\n",
      "| 25 | ru         | ['title', 'description', 'posts'] | raw             | tfidf  | mnb   | 0.344086 |\n",
      "|  9 | ru         | ('title', 'posts')                | raw             | tfidf  | mnb   | 0.344086 |\n",
      "| 17 | ru         | ('description', 'posts')          | raw             | tfidf  | mnb   | 0.33871  |\n",
      "|  0 | ru         | ('title', 'description')          | raw             | tfidf  | cnb   | 0.317204 |\n",
      "|  4 | ru         | ('title', 'description')          | lemma           | tfidf  | cnb   | 0.301075 |\n",
      "|  2 | ru         | ('title', 'description')          | raw             | bow    | cnb   | 0.301075 |\n",
      "|  6 | ru         | ('title', 'description')          | lemma           | bow    | cnb   | 0.295699 |\n",
      "|  3 | ru         | ('title', 'description')          | raw             | bow    | mnb   | 0.258065 |\n",
      "|  7 | ru         | ('title', 'description')          | lemma           | bow    | mnb   | 0.241935 |\n",
      "|  1 | ru         | ('title', 'description')          | raw             | tfidf  | mnb   | 0.225806 |\n",
      "|  5 | ru         | ('title', 'description')          | lemma           | tfidf  | mnb   | 0.215054 |\n",
      "\n",
      "|    | language   | input_fields                      | preprocessing   | vect   | est   |    score |\n",
      "|---:|:-----------|:----------------------------------|:----------------|:-------|:------|---------:|\n",
      "| 62 | en         | ['title', 'description', 'posts'] | lemma           | bow    | cnb   | 0.632184 |\n",
      "| 56 | en         | ['title', 'description', 'posts'] | raw             | tfidf  | cnb   | 0.632184 |\n",
      "| 63 | en         | ['title', 'description', 'posts'] | lemma           | bow    | mnb   | 0.626437 |\n",
      "| 55 | en         | ('description', 'posts')          | lemma           | bow    | mnb   | 0.62069  |\n",
      "| 46 | en         | ('title', 'posts')                | lemma           | bow    | cnb   | 0.62069  |\n",
      "| 60 | en         | ['title', 'description', 'posts'] | lemma           | tfidf  | cnb   | 0.614943 |\n",
      "| 44 | en         | ('title', 'posts')                | lemma           | tfidf  | cnb   | 0.609195 |\n",
      "| 47 | en         | ('title', 'posts')                | lemma           | bow    | mnb   | 0.609195 |\n",
      "| 54 | en         | ('description', 'posts')          | lemma           | bow    | cnb   | 0.603448 |\n",
      "| 52 | en         | ('description', 'posts')          | lemma           | tfidf  | cnb   | 0.597701 |\n",
      "| 51 | en         | ('description', 'posts')          | raw             | bow    | mnb   | 0.597701 |\n",
      "| 59 | en         | ['title', 'description', 'posts'] | raw             | bow    | mnb   | 0.591954 |\n",
      "| 48 | en         | ('description', 'posts')          | raw             | tfidf  | cnb   | 0.586207 |\n",
      "| 43 | en         | ('title', 'posts')                | raw             | bow    | mnb   | 0.586207 |\n",
      "| 40 | en         | ('title', 'posts')                | raw             | tfidf  | cnb   | 0.586207 |\n",
      "| 42 | en         | ('title', 'posts')                | raw             | bow    | cnb   | 0.568966 |\n",
      "| 58 | en         | ['title', 'description', 'posts'] | raw             | bow    | cnb   | 0.563218 |\n",
      "| 50 | en         | ('description', 'posts')          | raw             | bow    | cnb   | 0.557471 |\n",
      "| 53 | en         | ('description', 'posts')          | lemma           | tfidf  | mnb   | 0.528736 |\n",
      "| 45 | en         | ('title', 'posts')                | lemma           | tfidf  | mnb   | 0.522989 |\n",
      "| 61 | en         | ['title', 'description', 'posts'] | lemma           | tfidf  | mnb   | 0.522989 |\n",
      "| 39 | en         | ('title', 'description')          | lemma           | bow    | mnb   | 0.522989 |\n",
      "| 57 | en         | ['title', 'description', 'posts'] | raw             | tfidf  | mnb   | 0.517241 |\n",
      "| 41 | en         | ('title', 'posts')                | raw             | tfidf  | mnb   | 0.5      |\n",
      "| 38 | en         | ('title', 'description')          | lemma           | bow    | cnb   | 0.5      |\n",
      "| 36 | en         | ('title', 'description')          | lemma           | tfidf  | cnb   | 0.5      |\n",
      "| 35 | en         | ('title', 'description')          | raw             | bow    | mnb   | 0.5      |\n",
      "| 32 | en         | ('title', 'description')          | raw             | tfidf  | cnb   | 0.5      |\n",
      "| 49 | en         | ('description', 'posts')          | raw             | tfidf  | mnb   | 0.494253 |\n",
      "| 37 | en         | ('title', 'description')          | lemma           | tfidf  | mnb   | 0.488506 |\n",
      "| 33 | en         | ('title', 'description')          | raw             | tfidf  | mnb   | 0.471264 |\n",
      "| 34 | en         | ('title', 'description')          | raw             | bow    | cnb   | 0.471264 |\n",
      "\n"
     ]
    }
   ],
   "source": [
    "for l in results['language'].unique():\n",
    "    print(results.query(f'language == \"{l}\"').sort_values('score', ascending=False).to_markdown(), end='\\n\\n')"
   ]
  },
  {
   "cell_type": "markdown",
   "id": "official-cooler",
   "metadata": {},
   "source": [
    "### Review errors"
   ]
  },
  {
   "cell_type": "code",
   "execution_count": 84,
   "id": "blessed-mumbai",
   "metadata": {
    "ExecuteTime": {
     "end_time": "2021-02-13T11:35:13.010638Z",
     "start_time": "2021-02-13T11:35:12.975838Z"
    }
   },
   "outputs": [],
   "source": [
    "from sklearn.metrics import top_k_accuracy_score"
   ]
  },
  {
   "cell_type": "markdown",
   "id": "entitled-multimedia",
   "metadata": {},
   "source": [
    "#### Train"
   ]
  },
  {
   "cell_type": "code",
   "execution_count": 85,
   "id": "immediate-resident",
   "metadata": {
    "ExecuteTime": {
     "end_time": "2021-02-13T11:35:21.845936Z",
     "start_time": "2021-02-13T11:35:21.479989Z"
    }
   },
   "outputs": [
    {
     "name": "stdout",
     "output_type": "stream",
     "text": [
      "0.632183908045977\n"
     ]
    }
   ],
   "source": [
    "trainer = Trainer(\n",
    "    language = 'ru', \n",
    "    input_fields = ['posts','description','title'], \n",
    "    preprocessing = 'raw',\n",
    "    vect = 'tfidf', \n",
    "    est = 'cnb'\n",
    ")\n",
    "s = trainer.run_eval(final=False)\n",
    "print(s)"
   ]
  },
  {
   "cell_type": "code",
   "execution_count": 113,
   "id": "objective-police",
   "metadata": {
    "ExecuteTime": {
     "end_time": "2021-02-13T11:51:54.135957Z",
     "start_time": "2021-02-13T11:51:54.092164Z"
    }
   },
   "outputs": [
    {
     "name": "stdout",
     "output_type": "stream",
     "text": [
      "Top 1 accuracy: 0.53\n",
      "Top 2 accuracy: 0.66\n",
      "Top 3 accuracy: 0.73\n",
      "Top 5 accuracy: 0.76\n"
     ]
    }
   ],
   "source": [
    "for k in [1,2,3,5]:\n",
    "    top_k_acc = top_k_accuracy_score(trainer.y_test, trainer.clf.predict_proba(trainer.X_test), \n",
    "                                     labels=trainer.clf.classes_,\n",
    "                                        k=k)\n",
    "    print(f'Top {k} accuracy: {top_k_acc:.2f}', )"
   ]
  },
  {
   "cell_type": "markdown",
   "id": "practical-baking",
   "metadata": {},
   "source": [
    "#### Classification report"
   ]
  },
  {
   "cell_type": "code",
   "execution_count": 114,
   "id": "bridal-collect",
   "metadata": {
    "ExecuteTime": {
     "end_time": "2021-02-13T11:51:55.681272Z",
     "start_time": "2021-02-13T11:51:55.648688Z"
    }
   },
   "outputs": [],
   "source": [
    "from sklearn.metrics import classification_report"
   ]
  },
  {
   "cell_type": "code",
   "execution_count": 115,
   "id": "convinced-southeast",
   "metadata": {
    "ExecuteTime": {
     "end_time": "2021-02-13T11:51:55.986833Z",
     "start_time": "2021-02-13T11:51:55.950608Z"
    }
   },
   "outputs": [
    {
     "name": "stderr",
     "output_type": "stream",
     "text": [
      "/Users/rustem.galiullin/miniconda3/envs/tgcat/lib/python3.7/site-packages/ipykernel_launcher.py:7: SettingWithCopyWarning: \n",
      "A value is trying to be set on a copy of a slice from a DataFrame.\n",
      "Try using .loc[row_indexer,col_indexer] = value instead\n",
      "\n",
      "See the caveats in the documentation: https://pandas.pydata.org/pandas-docs/stable/user_guide/indexing.html#returning-a-view-versus-a-copy\n",
      "  import sys\n"
     ]
    }
   ],
   "source": [
    "test_pred = trainer.clf.predict(trainer.X_test)\n",
    "\n",
    "is_wrong = test_pred != trainer.y_test\n",
    "\n",
    "errors = trainer.test_inputs[is_wrong]\n",
    "\n",
    "errors['predicted'] = test_pred[is_wrong]"
   ]
  },
  {
   "cell_type": "code",
   "execution_count": 116,
   "id": "current-syndrome",
   "metadata": {
    "ExecuteTime": {
     "end_time": "2021-02-13T11:51:58.307657Z",
     "start_time": "2021-02-13T11:51:56.450730Z"
    }
   },
   "outputs": [
    {
     "data": {
      "image/png": "[encoded data removed]",
      "text/plain": [
       "<Figure size 1008x576 with 2 Axes>"
      ]
     },
     "metadata": {
      "needs_background": "light"
     },
     "output_type": "display_data"
    }
   ],
   "source": [
    "ct = pd.crosstab(trainer.y_test, test_pred)\n",
    "for i,k in ct.iteritems():\n",
    "    k[i] = 0\n",
    "\n",
    "\n",
    "plt.figure(figsize=(14,8))\n",
    "sns.heatmap(ct, annot=True, linewidths=0.01);"
   ]
  },
  {
   "cell_type": "code",
   "execution_count": 117,
   "id": "indie-demand",
   "metadata": {
    "ExecuteTime": {
     "end_time": "2021-02-13T11:52:02.640708Z",
     "start_time": "2021-02-13T11:52:02.590597Z"
    },
    "scrolled": false
   },
   "outputs": [
    {
     "name": "stdout",
     "output_type": "stream",
     "text": [
      "|                               |   precision |   recall |   f1-score |   support |\n",
      "|:------------------------------|------------:|---------:|-----------:|----------:|\n",
      "| Kids & Parenting              |    0        | 0        |   0        |   1       |\n",
      "| Music                         |    0        | 0        |   0        |   1       |\n",
      "| Motivation & Self-Development |    0        | 0        |   0        |   1       |\n",
      "| Economy & Finance             |    0        | 0        |   0        |   2       |\n",
      "| Other                         |    1        | 0.142857 |   0.25     |  14       |\n",
      "| Art & Design                  |    0.142857 | 1        |   0.25     |   3       |\n",
      "| Erotic Content                |    0.5      | 0.25     |   0.333333 |   4       |\n",
      "| Humor & Memes                 |    1        | 0.2      |   0.333333 |   5       |\n",
      "| Celebrities & Lifestyle       |    0.2      | 1        |   0.333333 |   1       |\n",
      "| Technology & Internet         |    1        | 0.2      |   0.333333 |   5       |\n",
      "| Cryptocurrencies              |    1        | 0.25     |   0.4      |  12       |\n",
      "| Politics & Incidents          |    1        | 0.25     |   0.4      |   4       |\n",
      "| macro avg                     |    0.589707 | 0.430054 |   0.405796 | 174       |\n",
      "| Video Games                   |    1        | 0.333333 |   0.5      |   3       |\n",
      "| Movies                        |    1        | 0.333333 |   0.5      |   3       |\n",
      "| weighted avg                  |    0.690993 | 0.54023  |   0.537664 | 174       |\n",
      "| accuracy                      |    0.54023  | 0.54023  |   0.54023  |   0.54023 |\n",
      "| Education                     |    0.5      | 0.625    |   0.555556 |   8       |\n",
      "| Offers & Promotions           |    0.607843 | 0.632653 |   0.62     |  49       |\n",
      "| Investments                   |    0.586957 | 0.72973  |   0.650602 |  37       |\n",
      "| Sports                        |    0.666667 | 0.8      |   0.727273 |   5       |\n",
      "| Bets & Gambling               |    0.769231 | 0.714286 |   0.740741 |  14       |\n",
      "| Job Listings                  |    1        | 1        |   1        |   1       |\n",
      "| Books                         |    1        | 1        |   1        |   1       |\n"
     ]
    }
   ],
   "source": [
    "metrics = pd.DataFrame(classification_report(trainer.y_test, test_pred, output_dict=True, zero_division=0)).T\n",
    "\n",
    "metrics = metrics.query(\"support > 0\").sort_values('f1-score', ascending=True)\n",
    "\n",
    "print(metrics.to_markdown())"
   ]
  },
  {
   "cell_type": "markdown",
   "id": "young-browse",
   "metadata": {},
   "source": [
    "#### random examples"
   ]
  },
  {
   "cell_type": "code",
   "execution_count": 119,
   "id": "lesser-bracelet",
   "metadata": {
    "ExecuteTime": {
     "end_time": "2021-02-13T11:53:58.291229Z",
     "start_time": "2021-02-13T11:53:58.254793Z"
    },
    "scrolled": true
   },
   "outputs": [
    {
     "name": "stdout",
     "output_type": "stream",
     "text": [
      "PREDICTED:\n",
      " Offers & Promotions\n",
      "\n",
      "TRUE:\n",
      " ['Technology & Internet', 'Other']\n",
      "\n",
      "TEXTS:\n",
      " 【NOOB SCRIPT LOVERS】™√\n",
      "【 A l l    S C R I P T 】\n",
      "\n",
      "【 S C R I P T    LO V E R S 】\n",
      "\n",
      "【N E W   R E F A R AND    E A R N I NG \n",
      "                                    A P P S 】\n",
      " \n",
      " [C O N T A C T ] 【  @Loot_king_bot】\n",
      "Mamber looted proof😍😍\n",
      "http://t.me/NOOBSCRIPTAR\n",
      "\n",
      "Aaj ke task complete karo dosto,\n",
      "🎁 Rs.4 :\n",
      "https://www.fiewin.com/#/LR?no=luckyC9dj&ic=0QSN\n",
      "• New Colour Prediction Website\n",
      "\n",
      "• Singup :- ₹200\n",
      "\n",
      "• Per Refer - Commission\n",
      "\n",
      "• Min Withdraw - ₹500\n",
      "\n",
      "• Link:-\n",
      "https://luckygold.in/#/register?r_code=2176\n",
      "\n",
      "•Singup bonnus Only first 10000 user ke liye\n",
      "\n",
      "•Wait 10 Min Singup Bonus Automatically Added\n",
      "\n",
      "•Joined more.\n",
      "http://t.me/NOOBSCRIPTAR\n",
      "• New Updates Now\n",
      "\n",
      "• Singup Claim\n",
      "\n",
      "• Per Refer - ₹5\n",
      "\n",
      "• 3 Level Income\n",
      "\n",
      "• Min Withdraw - ₹150\n",
      "\n",
      "• Link:-\n",
      "https://share.inpower.co.in/dist/index.html#/login?code=1386754\n",
      "\n",
      "• #JoinNow\n",
      "http://t.me/NOOBSCRIPTAR\n",
      "• New Like Website\n",
      "\n",
      "• Site Name :- Task999\n",
      "\n",
      "• Daily 2 Tasks - ₹20\n",
      "\n",
      "• Min Withdraw  - ₹100\n",
      "\n",
      "• Link:- \n",
      "http://www.task999.in//#/register?invite_code=o0etjj\n",
      "\n",
      "• Login:-\n",
      "http://www.task999.in//#/login\n",
      "\n",
      "#JoinNow\n",
      "http://t.me/NOOBSCRIPTAR\n",
      "• Indian🇮🇳 Order Grabbing Website\n",
      "\n",
      "•Payment Proof..BFS Website.\n",
      "\n",
      "•App Name:- BFS SUCCESS\n",
      "\n",
      "• Singup Bonus:- ₹120 \n",
      "\n",
      "• Minimum Redeem:- 300 😻😻\n",
      "\n",
      "•Refer:- Commission\n",
      "\n",
      "•Link:-\n",
      "http://bfssuccess.com/Register.aspx?ReferralCode=12B1E42DC0746F22CF361267DE07073F\n",
      "\n",
      "•Don't Investment Only Free Use,\n",
      "\n",
      "•Joined more.\n",
      "http://t.me/NOOBSCRIPTAR\n",
      "• Create New Account\n",
      "\n",
      "• #Instant Withdraw Available \n",
      "\n",
      "• Daily 3 Tasks:-  ₹60\n",
      "\n",
      "•High Refer Commission\n",
      "\n",
      "• Min Withdrawal:- ₹500\n",
      "\n",
      "• Link:-\n",
      "https://s.yam.com/EZ0x3\n",
      "\n",
      "•Invite Code:- 137526\n",
      "\n",
      "#JoinNow\n",
      "http://t.me/NOOBSCRIPTAR\n",
      "Payment Verified🎁\n",
      "\n",
      "• Richn : New Grabbing Website (Same like Umorgan)\n",
      "\n",
      "•Sign-up Bonus : ₹100\n",
      "\n",
      "•Daily 1 Task : ₹10\n",
      "\n",
      "•Min. Withdraw : ₹500\n",
      "\n",
      "•Link :\n",
      "https://go.richn.in/ref/417651a\n",
      "\n",
      "•Joined more.\n",
      "http://t.me/NOOBSCRIPTAR\n",
      "\n",
      "TITLE (17):\n",
      " 【NOOB SCRIPT LOVERS】™√\n",
      "\n",
      "DESCRIPTION:\n",
      " 【 A l l    S C R I P T 】\n",
      "\n",
      "【 S C R I P T    LO V E R S 】\n",
      "\n",
      "【N E W   R E F A R AND    E A R N I NG \n",
      "                                    A P P S 】\n",
      " \n",
      " [C O N T A C T ] 【  @Loot_king_bot】\n",
      "\n"
     ]
    }
   ],
   "source": [
    "row = errors.sample(1).iloc[0]\n",
    "\n",
    "print('PREDICTED:\\n', row['predicted'], end='\\n\\n')\n",
    "print('TRUE:\\n', row['topics'], end='\\n\\n')\n",
    "print('TEXTS:\\n', row['text'], end='\\n\\n')\n",
    "print(f'TITLE ({row[\"id\"]}):\\n', row['title'], end='\\n\\n')\n",
    "print('DESCRIPTION:\\n', row['description'], end='\\n\\n')"
   ]
  },
  {
   "cell_type": "code",
   "execution_count": 120,
   "id": "confident-memphis",
   "metadata": {
    "ExecuteTime": {
     "end_time": "2021-02-13T11:53:58.682851Z",
     "start_time": "2021-02-13T11:53:58.649470Z"
    },
    "code_folding": []
   },
   "outputs": [],
   "source": [
    "def get_topic_features(nb_clf, class_label, top_n=15):\n",
    "    \"\"\" get features with largest log prob for the given class \"\"\"\n",
    "    class_i = np.argwhere(nb_clf.classes_ == class_label).squeeze()\n",
    "    class_coef = nb_clf.feature_log_prob_[class_i]\n",
    "    top_inds = np.argsort(class_coef)[-top_n:]\n",
    "    return top_inds"
   ]
  },
  {
   "cell_type": "code",
   "execution_count": 121,
   "id": "cleared-royalty",
   "metadata": {
    "ExecuteTime": {
     "end_time": "2021-02-13T11:53:59.038482Z",
     "start_time": "2021-02-13T11:53:58.998202Z"
    },
    "scrolled": true
   },
   "outputs": [
    {
     "name": "stdout",
     "output_type": "stream",
     "text": [
      "TRUE CLASS:  Other\n",
      "['aimbot', 'netherlands', 'iran', 'commodities', 'consistently', 'familiar', 'crafted', 'tampa', 'tokyo', 'myanmar', 'flowers', 'mod', 'backedup', 'recoil', 'born']\n",
      "\n",
      "PREDICTED CLASS: Offers & Promotions\n",
      "['nifty', 'rummy', 'minning', 'klv', 'reff', 'termux', 'recharge', 'login', 'loot', 'chng', 'banknifty', 'paytm', 'protocol', 'announcements', 'cbpk']\n",
      "\n",
      "EXAMPLE\n",
      "['singup', 'withdraw', 'min', 'refer', 'website', 'commission', 'login', 'link', 'code', 'joined', 'bonus', 'ke', 'tasks', 'new', 'register']\n"
     ]
    }
   ],
   "source": [
    "FEATURES = trainer.vect.get_feature_names()\n",
    "PREDICTED_INDEX = np.argwhere(trainer.clf.classes_ == row['predicted']).squeeze()\n",
    "\n",
    "# get top features that triggered prediction\n",
    "x = trainer.vect.transform([row['text']]).toarray()[0]\n",
    "f = ( trainer.clf.feature_log_prob_ * x.T)[PREDICTED_INDEX]\n",
    "top_keywords = [FEATURES[i] for i in np.argsort(f)[::-1][:15]]\n",
    "\n",
    "\n",
    "true_inds = get_topic_features(trainer.clf, row['topic'],)\n",
    "true_keywords = [FEATURES[i] for i in true_inds]\n",
    "\n",
    "predicted_inds = get_topic_features(trainer.clf, row['predicted'],)\n",
    "predicted_keywords = [FEATURES[i] for i in predicted_inds]\n",
    "\n",
    "\n",
    "print('TRUE CLASS: ', row['topic'])\n",
    "print(true_keywords, end='\\n\\n')\n",
    "print(f'PREDICTED CLASS: {row[\"predicted\"]}')\n",
    "print(predicted_keywords, end='\\n\\n')\n",
    "print('EXAMPLE')\n",
    "print(top_keywords)"
   ]
  },
  {
   "cell_type": "markdown",
   "id": "amended-calcium",
   "metadata": {},
   "source": [
    "#### Fixes"
   ]
  },
  {
   "cell_type": "markdown",
   "id": "pregnant-congo",
   "metadata": {},
   "source": [
    "**fixes**\n",
    "- [ ] update stopwords\n",
    "- [x] lemmas\n",
    "- [x] remove single char terms\n",
    "- [x] compare feature keywords against topic keywords\n",
    "- [x] multi-class problem\n",
    "- [x] only eng and rus chars\n",
    "- [x] measure accuracy with top N predictions\n",
    "- [x] use full data to train last\n",
    "- [ ] sample weights for secondary\n",
    "- [ ] bow to torchscript\n",
    "- [x] apply sum normalization only then min prob threshold\n",
    "- [x] fix when nothing predicted (add zero vectors as Other)\n",
    "- [x] remove URL for lang detection"
   ]
  },
  {
   "cell_type": "markdown",
   "id": "medieval-creation",
   "metadata": {},
   "source": [
    "## Save models"
   ]
  },
  {
   "cell_type": "code",
   "execution_count": 52,
   "id": "micro-tactics",
   "metadata": {
    "ExecuteTime": {
     "end_time": "2021-02-13T11:18:07.592526Z",
     "start_time": "2021-02-13T11:18:07.557063Z"
    }
   },
   "outputs": [],
   "source": [
    "from torch import nn\n",
    "import torch\n",
    "from torch.nn import functional as F\n",
    "from typing import Dict, List, Tuple"
   ]
  },
  {
   "cell_type": "code",
   "execution_count": 144,
   "id": "liberal-logic",
   "metadata": {
    "ExecuteTime": {
     "end_time": "2021-02-12T18:52:30.764523Z",
     "start_time": "2021-02-12T18:52:30.713383Z"
    }
   },
   "outputs": [],
   "source": [
    "class NaiveBayes(nn.Module):\n",
    "    \"\"\" Implement Multinomial and Complement NB inference \"\"\"\n",
    "    def __init__(self, nb, clf,):\n",
    "        super().__init__()\n",
    "        assert nb in ['cnb','mnb']\n",
    "        self.nb = nb\n",
    "        self.feature_log_prior = nn.Parameter(torch.tensor(clf.feature_log_prob_), requires_grad=False)\n",
    "        self.class_log_prior = nn.Parameter(torch.tensor(clf.class_log_prior_), requires_grad=False)\n",
    "        self.class_labels = clf.classes_.tolist()\n",
    "        \n",
    "\n",
    "    def forward(self, x):\n",
    "        jll = torch.matmul(x, self.feature_log_prior.T)\n",
    "        if self.nb == 'cnb':\n",
    "            if self.class_log_prior.size(0) == 1:\n",
    "                jll += self.class_log_prior\n",
    "        else:\n",
    "            jll += self.class_log_prior\n",
    "        log_prob = torch.log(torch.sum(torch.exp(jll), dim=1))\n",
    "        log_prob = jll - torch.atleast_2d(log_prob).T\n",
    "        prob = torch.exp(log_prob)\n",
    "        return prob\n",
    "\n",
    "\n",
    "class TextVectorizer(nn.Module):\n",
    "    \"\"\" vectorize text using tf-idf or bow \"\"\"\n",
    "    def __init__(self, vectorizer):\n",
    "        super().__init__()\n",
    "        self.vocab = {k: torch.tensor(v) for k,v in vectorizer.vocabulary_.items()}\n",
    "        self.vocab_len = len(self.vocab)\n",
    "        self.idf_diag = nn.Parameter(\n",
    "            torch.tensor(vectorizer._tfidf._idf_diag.toarray()), \n",
    "            requires_grad=False)\n",
    "        self.sublinear_tf = vectorizer.sublinear_tf\n",
    "        self.norm = vectorizer.norm\n",
    "        self.use_idf = vectorizer.use_idf\n",
    "        \n",
    "\n",
    "    def count_vocab(self, doc: List[str]) -> torch.Tensor:\n",
    "        \"\"\" return counts of each word from the vocab \"\"\"\n",
    "        feature_counter = torch.zeros(self.vocab_len, dtype=torch.double)\n",
    "        for feature in doc:\n",
    "            n = self.vocab.get(str(feature), torch.tensor(-1))\n",
    "            if n.item() != -1:\n",
    "                feature_idx = self.vocab[str(feature)]\n",
    "                feature_counter[feature_idx] += 1\n",
    "        return feature_counter\n",
    "        \n",
    "        \n",
    "    def forward(self, batch: List[List[str]]) -> torch.Tensor:\n",
    "        doc_counts: List[torch.Tensor] = [self.count_vocab(doc) for doc in batch]\n",
    "        X = torch.stack(doc_counts, )\n",
    "        if self.sublinear_tf:\n",
    "            X = torch.log(X)\n",
    "            X += 1\n",
    "        if self.use_idf:\n",
    "            X = torch.matmul(X, self.idf_diag)\n",
    "        if self.norm is not None:\n",
    "            p = float(self.norm[-1])\n",
    "            X = F.normalize(X, p=p, dim=1)\n",
    "        return X\n",
    "    \n",
    "\n",
    "class TgCat(nn.Module):\n",
    "    \"\"\" vectorize input texts, classfy topics and decode predictions \"\"\"\n",
    "    def __init__(self, vect, clf, top_k=3,):\n",
    "        super().__init__()\n",
    "        self.vect = vect\n",
    "        self.clf = clf\n",
    "        self.top_k = top_k\n",
    "        \n",
    "        \n",
    "    def select_top_classes(self, probs: torch.Tensor) -> Dict[str,float]:\n",
    "        \"\"\" select classes with at least min prob and return a normalized dict mapping \"\"\"\n",
    "        if probs.std(0) < 0.0001:\n",
    "            return {\"Other\": 1.0}\n",
    "        inds_desc = torch.argsort(probs, 0, descending=True)\n",
    "        top_k = min((probs > probs.mean()).sum(), torch.tensor(self.top_k))\n",
    "        target_i = inds_desc[:top_k]\n",
    "        target_p = probs[target_i]\n",
    "        target_p = target_p / target_p.sum()\n",
    "        result: List[Tuple[str, float]] = [\n",
    "            (self.clf.class_labels[target_i[i].item()], target_p[i].item())\n",
    "            for i in range(target_p.size(0))\n",
    "        ]\n",
    "        return dict(result)\n",
    "    \n",
    "    \n",
    "    def get_prob(self, batch: List[List[str]]) -> torch.Tensor:\n",
    "        embeddings = self.vect(batch)\n",
    "        probs = self.clf(embeddings)\n",
    "        return probs\n",
    "        \n",
    "    \n",
    "    def forward(self, batch: List[List[str]]) -> List[Dict[str, float]]:\n",
    "        probs = self.get_prob(batch)\n",
    "        top_predictions = [self.select_top_classes(probs[i]) for i in range(probs.size(0))]\n",
    "        return top_predictions"
   ]
  },
  {
   "cell_type": "markdown",
   "id": "solid-steel",
   "metadata": {},
   "source": [
    "### Test"
   ]
  },
  {
   "cell_type": "code",
   "execution_count": 145,
   "id": "stone-bumper",
   "metadata": {
    "ExecuteTime": {
     "end_time": "2021-02-12T18:52:31.354216Z",
     "start_time": "2021-02-12T18:52:31.288599Z"
    }
   },
   "outputs": [],
   "source": [
    "tgcat = TgCat(TextVectorizer(trainer.vect), NaiveBayes('cnb', trainer.clf), top_k=3)"
   ]
  },
  {
   "cell_type": "code",
   "execution_count": 146,
   "id": "cosmetic-raise",
   "metadata": {
    "ExecuteTime": {
     "end_time": "2021-02-12T18:52:32.065981Z",
     "start_time": "2021-02-12T18:52:31.758288Z"
    }
   },
   "outputs": [],
   "source": [
    "\n",
    "batch = trainer.test_inputs['text'].apply(tokenize_text).tolist()\n",
    "\n",
    "predictions = tgcat(batch)"
   ]
  },
  {
   "cell_type": "code",
   "execution_count": 147,
   "id": "painted-employer",
   "metadata": {
    "ExecuteTime": {
     "end_time": "2021-02-12T18:52:32.146298Z",
     "start_time": "2021-02-12T18:52:32.109734Z"
    }
   },
   "outputs": [
    {
     "data": {
      "text/plain": [
       "[{'Other': 1.0}, {'Other': 1.0}, {'Other': 1.0}]"
      ]
     },
     "execution_count": 147,
     "metadata": {},
     "output_type": "execute_result"
    }
   ],
   "source": [
    "tgcat([['a','bs','dd'], [\"\"], [\"other\", 'other', 'ttt']])"
   ]
  },
  {
   "cell_type": "code",
   "execution_count": 159,
   "id": "korean-nowhere",
   "metadata": {
    "ExecuteTime": {
     "end_time": "2021-02-12T18:54:50.416025Z",
     "start_time": "2021-02-12T18:54:50.238528Z"
    }
   },
   "outputs": [],
   "source": [
    "p = tgcat.get_prob(batch)"
   ]
  },
  {
   "cell_type": "code",
   "execution_count": 184,
   "id": "small-creativity",
   "metadata": {
    "ExecuteTime": {
     "end_time": "2021-02-12T18:57:56.465670Z",
     "start_time": "2021-02-12T18:57:56.431404Z"
    }
   },
   "outputs": [
    {
     "name": "stdout",
     "output_type": "stream",
     "text": [
      "PREDICTED {'Education': 0.3821241005785637, 'Investments': 0.31769373715142835, 'Other': 0.3001821622700078}\n",
      "\n",
      "TOKENS ['mission', 'net', 'physics', 'exam', 'rd', 'february', 'free', 'live', 'sessions', 'am', 'use', 'code', 'anjaliarora', 'to', 'join', 'the', 'following', 'free', 'live', 'sessions', 'pm', 'pm', 'thankyou', 'everyone', 'hello', 'everyone', 'get', 'ready', 'for', 'the', 'pm', 'very', 'important', 'free', 'live', 'session', 'last', 'moment', 'preparation', 'for', 'the', 'gate', 'physics', 'exam', 'use', 'code', 'anjaliarora', 'to', 'join', 'the', 'following', 'free', 'live', 'session', 'link', 'thankyou', 'everyone']\n"
     ]
    }
   ],
   "source": [
    "i = random.randint(0, len(batch) - 1)\n",
    "\n",
    "print('PREDICTED', predictions[i], end='\\n\\n')\n",
    "print('TOKENS', batch[i])"
   ]
  },
  {
   "cell_type": "markdown",
   "id": "southwest-removal",
   "metadata": {},
   "source": [
    "### Final training, convert and save"
   ]
  },
  {
   "cell_type": "code",
   "execution_count": 185,
   "id": "dominant-championship",
   "metadata": {
    "ExecuteTime": {
     "end_time": "2021-02-12T18:58:08.764018Z",
     "start_time": "2021-02-12T18:58:08.731610Z"
    }
   },
   "outputs": [],
   "source": [
    "prediction_params = {\n",
    "    'top_k': 3\n",
    "}"
   ]
  },
  {
   "cell_type": "code",
   "execution_count": 157,
   "id": "resident-bolivia",
   "metadata": {
    "ExecuteTime": {
     "end_time": "2021-02-12T18:54:09.674056Z",
     "start_time": "2021-02-12T18:53:51.880909Z"
    },
    "code_folding": []
   },
   "outputs": [
    {
     "name": "stdout",
     "output_type": "stream",
     "text": [
      "ru 0.98\n",
      "saved to models/trained/tgcat/ru_tgcat.pt\n",
      "en 0.95\n",
      "saved to models/trained/tgcat/en_tgcat.pt\n"
     ]
    }
   ],
   "source": [
    "for l in results['language'].unique():\n",
    "    subset = results.query(f\"language == '{l}'\")\n",
    "    best_id = subset['score'].idxmax()\n",
    "    best_params = subset.loc[best_id].to_dict()\n",
    "    del best_params['score']\n",
    "    # for last training increase train by test\n",
    "    trainer = Trainer(**best_params)\n",
    "    s = trainer.run_eval(final=True)\n",
    "    print(l, s)\n",
    "    # save text vectorizer\n",
    "    vect_scripted = torch.jit.script(TextVectorizer(trainer.vect), )\n",
    "    tokenizer = tokenize_text if best_params['preprocessing'] == 'raw' else lang_lemmatizer(l)\n",
    "    batch = trainer.test_inputs['text'].apply(tokenizer).tolist()\n",
    "    vect_out = vect_scripted(batch)\n",
    "    assert np.allclose(trainer.X_test.toarray(), vect_out.numpy())\n",
    "    vect_scripted.save(f\"models/trained/embed/{l}_{best_params['vect']}_script.pt\")\n",
    "    # save classifier\n",
    "    nb_scripted  = torch.jit.script(NaiveBayes(best_params['est'], trainer.clf))\n",
    "    nb_out = nb_scripted(torch.tensor(trainer.X_test.toarray()))\n",
    "    assert np.allclose(trainer.clf.predict_proba(trainer.X_test), nb_out.numpy())\n",
    "    nb_scripted.save(f\"models/trained/classify/{l}_{best_params['est']}_script.pt\")\n",
    "    # save tgcat\n",
    "    tgcat = torch.jit.script(TgCat(vect_scripted, nb_scripted, **prediction_params))\n",
    "    path = f'models/trained/tgcat/{l}_tgcat.pt'\n",
    "    torch.jit.save(tgcat, path)\n",
    "    print('saved to', path)"
   ]
  },
  {
   "cell_type": "markdown",
   "id": "willing-progressive",
   "metadata": {},
   "source": [
    "### Check file sizes"
   ]
  },
  {
   "cell_type": "code",
   "execution_count": 362,
   "id": "sweet-disabled",
   "metadata": {
    "ExecuteTime": {
     "end_time": "2021-02-11T19:22:24.123808Z",
     "start_time": "2021-02-11T19:22:23.956551Z"
    }
   },
   "outputs": [
    {
     "name": "stdout",
     "output_type": "stream",
     "text": [
      "32832\tmodels/trained/tgcat/ru_tgcat.pt\r\n",
      "32832\tmodels/trained/tgcat/en_tgcat.pt\r\n",
      "31808\tmodels/trained/embed/ru_tfidf_script.pt\r\n",
      "31808\tmodels/trained/embed/en_tfidf_script.pt\r\n",
      "704\tmodels/trained/classify/ru_cnb_script.pt\r\n",
      "640\tmodels/trained/classify/en_cnb_script.pt\r\n",
      "44\tmodels/trained/embed/ru_tfidf.txt\r\n",
      "28\tmodels/trained/embed/en_tfidf.txt\r\n",
      "4\tmodels/trained/embed/ru_bow.txt\r\n"
     ]
    }
   ],
   "source": [
    "!du -hk models/trained/*/* | sort -nr"
   ]
  },
  {
   "cell_type": "code",
   "execution_count": 363,
   "id": "capable-malpractice",
   "metadata": {
    "ExecuteTime": {
     "end_time": "2021-02-11T19:22:24.442647Z",
     "start_time": "2021-02-11T19:22:24.277935Z"
    }
   },
   "outputs": [
    {
     "name": "stdout",
     "output_type": "stream",
     "text": [
      "174\tdata/external/dc0130-input.txt\r\n",
      "172\tdata/external/dc0202-input.txt\r\n",
      "113\tdata/external/dc0206-input.txt\r\n",
      "6\tdata/interim/train_data.csv\r\n",
      "4\tdata/raw/posts.csv\r\n",
      "4\tdata/raw/backup\r\n",
      "4\tdata/external/2020-02-09_completions.json\r\n",
      "3\tdata/external/2020-02-06_completions.json\r\n",
      "1\tdata/raw/meta.csv\r\n",
      "1\tdata/processed/ru_predictions.json\r\n",
      "1\tdata/processed/labelling_tasks_sample.json\r\n",
      "1\tdata/processed/labelling_config.xml\r\n",
      "1\tdata/processed/en_predictions.json\r\n",
      "1\tdata/external/telegram_channels.csv\r\n",
      "1\tdata/external/ru_stopwords.txt\r\n",
      "1\tdata/external/en_stopwords.txt\r\n",
      "1\tdata/external/dc0130_language_predictions.txt\r\n"
     ]
    }
   ],
   "source": [
    "!du -m data/*/* | sort -nr"
   ]
  },
  {
   "cell_type": "code",
   "execution_count": null,
   "id": "apparent-injection",
   "metadata": {},
   "outputs": [],
   "source": []
  }
 ],
 "metadata": {
  "kernelspec": {
   "display_name": "tgcat",
   "language": "python",
   "name": "tgcat"
  },
  "language_info": {
   "codemirror_mode": {
    "name": "ipython",
    "version": 3
   },
   "file_extension": ".py",
   "mimetype": "text/x-python",
   "name": "python",
   "nbconvert_exporter": "python",
   "pygments_lexer": "ipython3",
   "version": "3.7.9"
  },
  "notify_time": "10",
  "toc": {
   "base_numbering": 1,
   "nav_menu": {},
   "number_sections": true,
   "sideBar": true,
   "skip_h1_title": false,
   "title_cell": "Table of Contents",
   "title_sidebar": "Contents",
   "toc_cell": false,
   "toc_position": {
    "height": "calc(100% - 180px)",
    "left": "10px",
    "top": "150px",
    "width": "227px"
   },
   "toc_section_display": true,
   "toc_window_display": true
  }
 },
 "nbformat": 4,
 "nbformat_minor": 5
}
